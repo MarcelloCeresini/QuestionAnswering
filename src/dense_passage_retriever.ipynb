{
  "cells": [
    {
      "cell_type": "code",
      "execution_count": 1,
      "metadata": {
        "id": "8oZkaIoI1esj",
        "colab": {
          "base_uri": "https://localhost:8080/"
        },
        "outputId": "ec3e086a-94bd-4eb3-fb0a-e7faed29d100"
      },
      "outputs": [
        {
          "output_type": "stream",
          "name": "stdout",
          "text": [
            "Requirement already satisfied: transformers in /usr/local/lib/python3.7/dist-packages (4.18.0)\n",
            "Requirement already satisfied: huggingface-hub<1.0,>=0.1.0 in /usr/local/lib/python3.7/dist-packages (from transformers) (0.5.1)\n",
            "Requirement already satisfied: filelock in /usr/local/lib/python3.7/dist-packages (from transformers) (3.6.0)\n",
            "Requirement already satisfied: requests in /usr/local/lib/python3.7/dist-packages (from transformers) (2.23.0)\n",
            "Requirement already satisfied: sacremoses in /usr/local/lib/python3.7/dist-packages (from transformers) (0.0.49)\n",
            "Requirement already satisfied: tqdm>=4.27 in /usr/local/lib/python3.7/dist-packages (from transformers) (4.64.0)\n",
            "Requirement already satisfied: regex!=2019.12.17 in /usr/local/lib/python3.7/dist-packages (from transformers) (2019.12.20)\n",
            "Requirement already satisfied: importlib-metadata in /usr/local/lib/python3.7/dist-packages (from transformers) (4.11.3)\n",
            "Requirement already satisfied: pyyaml>=5.1 in /usr/local/lib/python3.7/dist-packages (from transformers) (6.0)\n",
            "Requirement already satisfied: numpy>=1.17 in /usr/local/lib/python3.7/dist-packages (from transformers) (1.21.6)\n",
            "Requirement already satisfied: tokenizers!=0.11.3,<0.13,>=0.11.1 in /usr/local/lib/python3.7/dist-packages (from transformers) (0.12.1)\n",
            "Requirement already satisfied: packaging>=20.0 in /usr/local/lib/python3.7/dist-packages (from transformers) (21.3)\n",
            "Requirement already satisfied: typing-extensions>=3.7.4.3 in /usr/local/lib/python3.7/dist-packages (from huggingface-hub<1.0,>=0.1.0->transformers) (4.2.0)\n",
            "Requirement already satisfied: pyparsing!=3.0.5,>=2.0.2 in /usr/local/lib/python3.7/dist-packages (from packaging>=20.0->transformers) (3.0.8)\n",
            "Requirement already satisfied: zipp>=0.5 in /usr/local/lib/python3.7/dist-packages (from importlib-metadata->transformers) (3.8.0)\n",
            "Requirement already satisfied: chardet<4,>=3.0.2 in /usr/local/lib/python3.7/dist-packages (from requests->transformers) (3.0.4)\n",
            "Requirement already satisfied: certifi>=2017.4.17 in /usr/local/lib/python3.7/dist-packages (from requests->transformers) (2021.10.8)\n",
            "Requirement already satisfied: urllib3!=1.25.0,!=1.25.1,<1.26,>=1.21.1 in /usr/local/lib/python3.7/dist-packages (from requests->transformers) (1.24.3)\n",
            "Requirement already satisfied: idna<3,>=2.5 in /usr/local/lib/python3.7/dist-packages (from requests->transformers) (2.10)\n",
            "Requirement already satisfied: joblib in /usr/local/lib/python3.7/dist-packages (from sacremoses->transformers) (1.1.0)\n",
            "Requirement already satisfied: six in /usr/local/lib/python3.7/dist-packages (from sacremoses->transformers) (1.15.0)\n",
            "Requirement already satisfied: click in /usr/local/lib/python3.7/dist-packages (from sacremoses->transformers) (7.1.2)\n",
            "fatal: destination path 'QuestionAnswering' already exists and is not an empty directory.\n",
            "/content/QuestionAnswering/src\n"
          ]
        }
      ],
      "source": [
        "username = 'MarcelloCeresini'\n",
        "repository = 'QuestionAnswering'\n",
        "\n",
        "# COLAB ONLY CELLS\n",
        "try:\n",
        "    import google.colab\n",
        "    IN_COLAB = True\n",
        "    !pip3 install transformers\n",
        "    !git clone https://www.github.com/{username}/{repository}.git\n",
        "    #from google.colab import drive\n",
        "    #drive.mount('/content/drive/')\n",
        "    %cd /content/QuestionAnswering/src\n",
        "    using_TPU = True    # If we are running this notebook on Colab, use a TPU\n",
        "except:\n",
        "    IN_COLAB = False\n",
        "    using_TPU = False   # If you're not on Colab you probably won't have access to a TPU"
      ]
    },
    {
      "cell_type": "markdown",
      "metadata": {
        "id": "nmXDnbCt1ess"
      },
      "source": [
        "# Description"
      ]
    },
    {
      "cell_type": "markdown",
      "metadata": {
        "id": "4tIdZRSl1esu"
      },
      "source": [
        "In this notebook, we will try to implement the architecture detailed in [Dense Passage Retrieval for Open-Domain Question Answering](https://arxiv.org/pdf/2004.04906.pdf). \n",
        "\n",
        "The idea is that we have a corpus of documents $C = {p_1, p_2, \\dots, p_M}$ where each passage $p_i$ can be viewed as a sequence of tokens $w_1^{(i)}, w_2^{(i)}, \\dots, w_{|p_i|}^{(i)}$ and given a question $q$ we want to find the sequence of tokens $w_s^{(i)}, w_{s+1}^{(i)}, \\dots, w_{e}^{(i)}$ from one of the passage $i$ that can answer the question.\n",
        "\n",
        "In order to find the passage $i$ we need an efficient **Retriever** (i.e. a function $R: (q, C) \\rightarrow C_F$ where $C_F$ is a very small set of $k$ documents that have a high correlation with the query.)\n",
        "\n",
        "In the Tf-Idf example, the retriever was simply a function that returned the top 5 scores obtained by computing the vector cosine similarity between the query and all other documents. The problem with this approach is that it is not very efficient. Tf-Idf is a **sparse** document/query representation, thus computing a multitude of dot products between these very long vectors can be expensive.\n",
        "\n",
        "The paper cited above proposes a **dense** representation instead. It uses a Dense Encoder $E_P$ which maps all paragraphs to $d$-dimensional vectors. These vectors are stored in a database so that they can be efficiently retrieved. \n",
        "\n",
        "At run-time, another Dense Encoder is used $E_Q$ which maps the input question to a vector with the same dimensionality $d$. Then, a similarity score is computed between the two representations:\n",
        "\n",
        "$sim(p,q) = E_Q(q)^\\intercal E_P(p)$\n",
        "\n",
        "In the paper, $E_Q$ and $E_P$ are two independent BERT transformers and the $d$-dimensional vector is the **output at the $\\texttt{[CLS]}$ token** (so, $d = 768$).\n",
        "- This leaves open the possibility to use a larger dimensionality (eg. concatenating the output at multiple blocks like we did for the QA task).\n",
        "\n",
        "The $d$-dimensional representations of the $M$ passages are indexed using [FAISS](https://github.com/facebookresearch/faiss), an efficient, open-source library for similarity search and clustering of dense vectors developed at Facebook AI. At run-time, we simply compute $v_q = E_Q(q)$ and retrieve the top $k$ passages with embeddings closest to $v_q$.\n",
        "\n",
        "In this case, training the network means solving a **metric learning** problem: the two BERT networks need to learn an **effective vector space** such that relevant pairs of questions and passages are close, while irrelevant pairs are placed further away. In this problem we usually build a **training instance $D$** as ${(q_i, p_i^+, p_{i,1}^-, p_{i,2}^-, \\dots, p_{i,n}^-)}^m_{i=1}$, where question $q$ is paired with a relevant (positive) passage $p_i^+$ and $n$ irrelevant (negative) passages. Then, the loss function is the negative log-likelihood of the positive passage:\n",
        "\n",
        "$L(q_i, p_i^+, p_{i,1}^-, p_{i,2}^-, \\dots, p_{i,n}^-) = -\\log\\frac{e^{sim(q_i, p_i^+)}}{e^{sim(q_i, p_i^+)} + \\sum_{j=1}^n e^{sim(q_i, p_{i,j}^-)}}$\n",
        "\n",
        "It's easy to find the positive paragraph, but choosing the negatives is quite important. In particular, the paper proposes different ways for sampling the negatives:\n",
        "- Random: a negative is any random passage in the corpus\n",
        "- TF-IDF (The paper uses a variant, BM25): the negatives are the top passages (not containing the answer) returned by a TF-IDF search\n",
        "- Gold: the negatives are positives for other questions in the mini-batch. For the researchers, this is the best negative-mining option, because it's the most efficient and also it makes a batch a complete unit of learning (we learn the relationship that each question in the batch has with the other paragraphs).\n",
        "\n",
        "The Gold method allows the **in-batch negatives** technique: assuming to have a batch size of $B$, then we collect two $B \\times d$ matrices (one for questions, one for their positive paragraphs). Then, we compute $S = QP^\\intercal$ which is a $B \\times B$ matrix of **similarity scored** between each question and paragraph. This matrix can directly be used for training: any ($q_i, p_j$) pais where $i = j$ is considered to be a positive example, while it's negative otherwise. In total there will be $B$ training instances per batch, each with $B-1$ negative passages. "
      ]
    },
    {
      "cell_type": "markdown",
      "metadata": {
        "id": "7s1cbEuy1es4"
      },
      "source": [
        "# Configuration"
      ]
    },
    {
      "cell_type": "markdown",
      "metadata": {
        "id": "Pm45AN-fDEiv"
      },
      "source": [
        "## Imports"
      ]
    },
    {
      "cell_type": "code",
      "execution_count": 2,
      "metadata": {
        "id": "8CBcRCvCCpzg"
      },
      "outputs": [],
      "source": [
        "import os\n",
        "import numpy as np\n",
        "import random\n",
        "from tqdm import tqdm\n",
        "from functools import partial\n",
        "tqdm = partial(tqdm, position=0, leave=True)\n",
        "import tensorflow as tf\n",
        "from transformers import BertTokenizerFast, DistilBertTokenizerFast, \\\n",
        "                         TFBertModel, TFDistilBertModel\n",
        "import utils\n",
        "\n",
        "RANDOM_SEED = 42\n",
        "BERT_DIMENSIONALITY = 768\n",
        "\n",
        "np.random.seed(RANDOM_SEED)\n",
        "random.seed(RANDOM_SEED)\n",
        "tf.random.set_seed(RANDOM_SEED)"
      ]
    },
    {
      "cell_type": "markdown",
      "metadata": {
        "id": "K7Ih1ZqSDCmW"
      },
      "source": [
        "### TPU check\n",
        "The training could be made faster if we use the cloud GPUs offered by Google on Google Colab. Since TPUs require manual intialization and other oddities, we check multiple times throughout the notebook what kind of hardware we are running the code on.\n",
        "using_TPU = True\n"
      ]
    },
    {
      "cell_type": "code",
      "execution_count": 3,
      "metadata": {
        "id": "iyt5e89MCm4X",
        "outputId": "c6971ff3-a1b8-40fe-f624-25d0ae3199b8",
        "colab": {
          "base_uri": "https://localhost:8080/"
        }
      },
      "outputs": [
        {
          "output_type": "stream",
          "name": "stdout",
          "text": [
            "TPUs are not available, setting flag 'using_TPU' to False.\n"
          ]
        }
      ],
      "source": [
        "if using_TPU:\n",
        "    try: \n",
        "        resolver = tf.distribute.cluster_resolver.TPUClusterResolver(tpu='')\n",
        "        tf.config.experimental_connect_to_cluster(resolver)\n",
        "        # This is the TPU initialization code that has to be at the beginning.\n",
        "        tf.tpu.experimental.initialize_tpu_system(resolver)\n",
        "        print(\"All devices: \", tf.config.list_logical_devices('TPU'))\n",
        "        strategy = tf.distribute.TPUStrategy(resolver)\n",
        "    except:\n",
        "        print(\"TPUs are not available, setting flag 'using_TPU' to False.\")\n",
        "        using_TPU = False\n",
        "else:\n",
        "    print(\"Num GPUs Available: \", len(tf.config.list_physical_devices('GPU')))"
      ]
    },
    {
      "cell_type": "code",
      "source": [
        "if IN_COLAB:\n",
        "    from google.colab import drive\n",
        "    drive.mount('/content/drive/')\n",
        "    checkpoint_dir = '/content/drive/My Drive/Uni/Magistrale/NLP/Project/weights/training_dpr/'\n",
        "    datasets_dir = '/content/drive/My Drive/Uni/Magistrale/NLP/Project/datasets/dpr/'\n",
        "else:\n",
        "    # Create the folder where we'll save the weights of the model\n",
        "    checkpoint_dir = os.path.join(\"data\", \"training_dpr\")\n",
        "    datasets_dir = os.path.join(\"data\", \"training_dpr\", \"dataset\")\n",
        "\n",
        "os.makedirs(checkpoint_dir, exist_ok=True)\n",
        "os.makedirs(datasets_dir, exist_ok=True)"
      ],
      "metadata": {
        "id": "jDjUKQxol1lS",
        "outputId": "1f34002f-127e-489b-b4cb-ec8438618de0",
        "colab": {
          "base_uri": "https://localhost:8080/"
        }
      },
      "execution_count": 4,
      "outputs": [
        {
          "output_type": "stream",
          "name": "stdout",
          "text": [
            "Drive already mounted at /content/drive/; to attempt to forcibly remount, call drive.mount(\"/content/drive/\", force_remount=True).\n"
          ]
        }
      ]
    },
    {
      "cell_type": "markdown",
      "source": [
        "## Allowed operations"
      ],
      "metadata": {
        "id": "vVHmkEeC2kuf"
      }
    },
    {
      "cell_type": "code",
      "source": [
        "OVERWRITE_DATASETS = False      # Best to be run on GPU, takes about half an hour.\n",
        "                                # It saves a new copy of the pre-tokenized\n",
        "                                # question-paragraph pair on Google Drive.\n",
        "                                # The copy should then be uploaded to GCloud into\n",
        "                                # the bucket allocated for the project to be used by\n",
        "                                # TPUs.\n",
        "\n",
        "DO_TRAINING = False             # Best to be run on TPU, takes about 2 hours.\n",
        "                                # It trains the model and saves a copy of the initial\n",
        "                                # and last weights on Google Drive. When run on GPU\n",
        "                                # It also saves checkpoints and Tensorboard data,\n",
        "                                # but it takes over 4 hours to do a single epoch,\n",
        "                                # so it's impossible to run it on Colab.\n",
        "\n",
        "OVERRIDE_REPRESENTATIONS = False # Best to be run on GPU, it takes about 30 minutes.\n",
        "                                 # It produces representations of all paragraphs\n",
        "                                 # using the trained model_p as a large NumPy array\n",
        "                                 # that is stored on Google Drive at the end.\n",
        "\n",
        "RUN_ACCURACY_ANALYSIS = False   # Best to be run on GPU, takes about an hour\n",
        "                                # It analyzes the paragraph retrieval capability\n",
        "                                # of the model with top-1 and top-5 accuracy.\n"
      ],
      "metadata": {
        "id": "QSfXDW2g2sAr"
      },
      "execution_count": 5,
      "outputs": []
    },
    {
      "cell_type": "markdown",
      "metadata": {
        "id": "eAv3n12tDIAo"
      },
      "source": [
        "## Variables"
      ]
    },
    {
      "cell_type": "markdown",
      "metadata": {
        "id": "d8piWcupDOPR"
      },
      "source": [
        "We define all the paths."
      ]
    },
    {
      "cell_type": "code",
      "execution_count": 6,
      "metadata": {
        "id": "On3I2PUgCwNF"
      },
      "outputs": [],
      "source": [
        "ROOT_PATH = os.path.dirname(os.getcwd())\n",
        "TRAINING_FILE = os.path.join(ROOT_PATH, 'data', 'training_set.json')\n",
        "VALIDATION_FILE = os.path.join(ROOT_PATH, 'data', 'validation_set.json')"
      ]
    },
    {
      "cell_type": "markdown",
      "metadata": {
        "id": "YLC6xwfKDSAN"
      },
      "source": [
        "We collect the training and validation questions and paragraphs into different lists."
      ]
    },
    {
      "cell_type": "code",
      "execution_count": 7,
      "metadata": {
        "id": "1zdDCsLZDMkm"
      },
      "outputs": [],
      "source": [
        "train_dict = utils.read_question_set(TRAINING_FILE)\n",
        "val_dict = utils.read_question_set(VALIDATION_FILE)\n",
        "\n",
        "def get_questions_and_paragraphs_from_dataset(dataset):\n",
        "    questions = [{\n",
        "            'qas': qas,\n",
        "            'context_id': (i,j)    # We also track the question's original context and paragraph indices so to have a ground truth\n",
        "        }\n",
        "        for i in range(len(dataset['data']))\n",
        "        for j, para in enumerate(dataset['data'][i]['paragraphs'])\n",
        "        for qas in para['qas']\n",
        "    ]\n",
        "\n",
        "    paragraphs = [{\n",
        "            'context': para['context'],\n",
        "            'context_id': i\n",
        "        }\n",
        "        for i in range(len(dataset['data']))\n",
        "        for para in dataset['data'][i]['paragraphs']\n",
        "    ]\n",
        "\n",
        "    return questions, paragraphs\n",
        "\n",
        "train_questions, train_paragraphs = get_questions_and_paragraphs_from_dataset(train_dict)\n",
        "val_questions, val_paragraphs = get_questions_and_paragraphs_from_dataset(val_dict)"
      ]
    },
    {
      "cell_type": "markdown",
      "metadata": {
        "id": "fvGAqUBvDbIg"
      },
      "source": [
        "We create the two different DistilBert models for encoding and test them on a random question/paragraph."
      ]
    },
    {
      "cell_type": "code",
      "execution_count": 8,
      "metadata": {
        "id": "1XI6YUBZDit8",
        "colab": {
          "base_uri": "https://localhost:8080/"
        },
        "outputId": "1c52e9c8-99b0-4504-a2ad-0e9ab377ce1d"
      },
      "outputs": [
        {
          "output_type": "stream",
          "name": "stderr",
          "text": [
            "Some layers from the model checkpoint at distilbert-base-uncased were not used when initializing TFDistilBertModel: ['vocab_layer_norm', 'vocab_transform', 'vocab_projector', 'activation_13']\n",
            "- This IS expected if you are initializing TFDistilBertModel from the checkpoint of a model trained on another task or with another architecture (e.g. initializing a BertForSequenceClassification model from a BertForPreTraining model).\n",
            "- This IS NOT expected if you are initializing TFDistilBertModel from the checkpoint of a model that you expect to be exactly identical (initializing a BertForSequenceClassification model from a BertForSequenceClassification model).\n",
            "All the layers of TFDistilBertModel were initialized from the model checkpoint at distilbert-base-uncased.\n",
            "If your task is similar to the task the model of the checkpoint was trained on, you can already use TFDistilBertModel for predictions without further training.\n",
            "Some layers from the model checkpoint at distilbert-base-uncased were not used when initializing TFDistilBertModel: ['vocab_layer_norm', 'vocab_transform', 'vocab_projector', 'activation_13']\n",
            "- This IS expected if you are initializing TFDistilBertModel from the checkpoint of a model trained on another task or with another architecture (e.g. initializing a BertForSequenceClassification model from a BertForPreTraining model).\n",
            "- This IS NOT expected if you are initializing TFDistilBertModel from the checkpoint of a model that you expect to be exactly identical (initializing a BertForSequenceClassification model from a BertForSequenceClassification model).\n",
            "All the layers of TFDistilBertModel were initialized from the model checkpoint at distilbert-base-uncased.\n",
            "If your task is similar to the task the model of the checkpoint was trained on, you can already use TFDistilBertModel for predictions without further training.\n"
          ]
        }
      ],
      "source": [
        "tokenizer_distilbert = DistilBertTokenizerFast.from_pretrained('distilbert-base-uncased')\n",
        "model_q, model_p = TFDistilBertModel.from_pretrained('distilbert-base-uncased'), \\\n",
        "                   TFDistilBertModel.from_pretrained('distilbert-base-uncased')"
      ]
    },
    {
      "cell_type": "code",
      "execution_count": 9,
      "metadata": {
        "id": "EcCbC-Vi1es5",
        "colab": {
          "base_uri": "https://localhost:8080/"
        },
        "outputId": "c6453c4f-fceb-4412-f29f-e0f7939257b9"
      },
      "outputs": [
        {
          "output_type": "stream",
          "name": "stdout",
          "text": [
            "Testing on a simple question. \n",
            "Question: To whom did the Virgin Mary allegedly appear in 1858 in Lourdes France?\n",
            "Representation dimensionality: (768,)\n"
          ]
        }
      ],
      "source": [
        "test_question = train_questions[0]['qas']['question']\n",
        "print(f\"Testing on a simple question. \\nQuestion: {test_question}\")\n",
        "inputs_test = tokenizer_distilbert(test_question, return_tensors=\"tf\")\n",
        "outputs = model_q(inputs_test)\n",
        "\n",
        "# As a representation of the token we use the last hidden state at the [CLS] token (the first one)\n",
        "last_hidden_states = outputs.last_hidden_state\n",
        "test_q_repr = last_hidden_states[0,0,:]\n",
        "print(f\"Representation dimensionality: {test_q_repr.shape}\")"
      ]
    },
    {
      "cell_type": "markdown",
      "metadata": {
        "id": "l_lPiEZu1es9"
      },
      "source": [
        "# DPR Training"
      ]
    },
    {
      "cell_type": "markdown",
      "metadata": {
        "id": "v7qavEm61es-"
      },
      "source": [
        "First of all, we need to train our models. To do that, we need to create a dataset that feeds batches of questions and positive and negative paragraphs to a model, which is used to compute the representations, then the similarities and to correct the learnt distributions from the encoder models."
      ]
    },
    {
      "cell_type": "markdown",
      "metadata": {
        "id": "tCYkx8rf1es_"
      },
      "source": [
        "## Dataset creation"
      ]
    },
    {
      "cell_type": "markdown",
      "metadata": {
        "id": "hynvz3Gw1etA"
      },
      "source": [
        "For the dataset, we use the `keras.utils.Sequence` object, which is a high-level multi-processing-ready data generator that we can use to generate full batches consisting of the tokenized question, as well as positive and negative paragraphs."
      ]
    },
    {
      "cell_type": "code",
      "execution_count": 10,
      "metadata": {
        "id": "OaBWVf5k1etB",
        "outputId": "45adc1c5-93db-4362-ee47-6608883c0fed",
        "colab": {
          "base_uri": "https://localhost:8080/"
        }
      },
      "outputs": [
        {
          "output_type": "stream",
          "name": "stdout",
          "text": [
            "Loading train dataset from GCS (gs://volpepe-nlp-project-squad-datasets/train.proto).\n",
            "Loading val dataset from GCS (gs://volpepe-nlp-project-squad-datasets/val.proto).\n"
          ]
        }
      ],
      "source": [
        "import math\n",
        "from tensorflow import keras\n",
        "from tensorflow.keras import layers\n",
        "from tensorflow.keras.utils import Sequence\n",
        "from typing import List, Union\n",
        "from tqdm import tqdm\n",
        "from typing import Dict, Tuple\n",
        "\n",
        "BATCH_SIZE = 8 if not using_TPU else 64\n",
        "\n",
        "def get_paragraph_from_question(qas, dataset):\n",
        "    i,j = qas['context_id']\n",
        "    return dataset['data'][i]['paragraphs'][j]\n",
        "\n",
        "def pre_tokenize_data(questions, dataset, tokenizer):\n",
        "    tokenized_questions = [\n",
        "        dict(tokenizer(questions[i]['qas']['question'], \n",
        "            max_length = 512, truncation = True, \n",
        "            padding = 'max_length'))\n",
        "    for i in tqdm(range(len(questions)))]\n",
        "    tokenized_paragraphs = [\n",
        "        dict(tokenizer(get_paragraph_from_question(\n",
        "                    questions[i], dataset\n",
        "                )['context'], max_length = 512, \n",
        "            truncation = True, padding = 'max_length',\n",
        "            return_offsets_mapping = True))\n",
        "    for i in tqdm(range(len(questions)))]\n",
        "    return tokenized_questions, tokenized_paragraphs\n",
        "\n",
        "def find_start_end_token_one_hot_encoded(\n",
        "    answers: Dict, \n",
        "    offsets: List[Tuple[int]]) -> Dict:\n",
        "    '''\n",
        "    This function returns the starting and ending token of the answer, \n",
        "    already one hot encoded and ready for binary crossentropy.\n",
        "    Inputs:\n",
        "        - answers: `List[Dict]` --> for each question, a list of answers.\n",
        "            Each answer contains:\n",
        "            - `answer_start`: the index of the starting character\n",
        "            - `text`: the text of the answer, that we exploit through the \n",
        "                number of chars that it contains\n",
        "        - offsets: `List[Tuple[int]]` --> the tokenizer from HuggingFace \n",
        "            transforms the paragraph into a sequence of tokens. \n",
        "            Offsets keeps track of the character start and end indexes for each token.\n",
        "   \n",
        "    Output:\n",
        "        - result: `Dict` --> each key contains only one array, the one-hot \n",
        "            encoded version of, respectively, the start and end token of \n",
        "            the answer in the sentence (question+context)\n",
        "    '''\n",
        "    result = {\n",
        "        \"out_S\": np.zeros(len(offsets), dtype=np.int32),\n",
        "        \"out_E\": np.zeros(len(offsets), dtype=np.int32)\n",
        "    } \n",
        "    for answer in answers:\n",
        "        starting_char = answer['answer_start']\n",
        "        answer_len = len(answer['text'])\n",
        "        # We skip the first token, [CLS], that has (0,0) as a tuple\n",
        "        for i in range(1, len(offsets)):\n",
        "            # Check if starting char is within the indexes\n",
        "            if (starting_char >= offsets[i][0]) and \\\n",
        "                (starting_char <= offsets[i][1]):\n",
        "                result[\"out_S\"][i] += 1\n",
        "            # If the ending char (starting + length -1) is in the interval, \n",
        "            # same as above.\n",
        "            if (starting_char + answer_len - 1 >= offsets[i][0]) and \\\n",
        "                (starting_char + answer_len - 1 < offsets[i][1]):\n",
        "                result[\"out_E\"][i] += 1\n",
        "                break\n",
        "    return result\n",
        "\n",
        "def decode_fn(record_bytes):\n",
        "  example = tf.io.parse_single_example(\n",
        "      # Data\n",
        "      record_bytes,\n",
        "      # Schema\n",
        "      {\"question__input_ids\": tf.io.FixedLenFeature(shape=(512,), dtype=tf.int64),\n",
        "       \"question__attention_mask\": tf.io.FixedLenFeature(shape=(512,), dtype=tf.int64),\n",
        "       \"question__id\": tf.io.FixedLenFeature(shape=(), dtype=tf.string),\n",
        "       \"answer__out_s\": tf.io.FixedLenFeature(shape=(512,), dtype=tf.int64),\n",
        "       \"answer__out_e\": tf.io.FixedLenFeature(shape=(512,), dtype=tf.int64),\n",
        "       \"paragraph__input_ids\": tf.io.FixedLenFeature(shape=(512,), dtype=tf.int64),\n",
        "       \"paragraph__attention_mask\": tf.io.FixedLenFeature(shape=(512,), dtype=tf.int64),\n",
        "       \"paragraph__text\": tf.io.FixedLenFeature(shape=(), dtype=tf.string),\n",
        "       \"paragraph__tokens_s\": tf.io.FixedLenFeature(shape=(512,), dtype=tf.int64),\n",
        "       \"paragraph__tokens_e\": tf.io.FixedLenFeature(shape=(512,), dtype=tf.int64)})\n",
        "  return {\n",
        "      \"questions\": {'input_ids': example['question__input_ids'],\n",
        "                    'attention_mask': example['question__attention_mask'],\n",
        "                    'id': example['question__id']},\n",
        "      \"answers\":   {'out_s': example['answer__out_s'],\n",
        "                    'out_e': example['answer__out_e']},\n",
        "      \"paragraphs\":{'input_ids': example['paragraph__input_ids'],\n",
        "                    'attention_mask': example['paragraph__attention_mask'],\n",
        "                    'tokens_s': example['paragraph__tokens_s'],\n",
        "                    'tokens_e': example['paragraph__tokens_e'],\n",
        "                    'text': example['paragraph__text']}\n",
        "  }\n",
        "\n",
        "def create_dataset_from_records(questions, dataset, tokenizer, fn, training=True):\n",
        "    # Pre-tokenize and write dataset on disk\n",
        "    filename = f'{fn}.proto'\n",
        "    fn_type = filename.split(os.sep)[-1].replace('.proto','')\n",
        "    gcs_filename = os.path.join('gs://volpepe-nlp-project-squad-datasets', f'{fn_type}.proto')\n",
        "    if not os.path.exists(filename) or OVERWRITE_DATASETS:\n",
        "        print(\"Pre-tokenizing data...\")\n",
        "        tok_questions, tok_paragraphs = pre_tokenize_data(questions, dataset, tokenizer)\n",
        "        assert len(tok_questions) == len(tok_paragraphs), \"Error while pre-tokenizing dataset\"\n",
        "        print(\"Preprocessing answers...\")\n",
        "        answer_tokens = [find_start_end_token_one_hot_encoded(\n",
        "            questions[i]['qas']['answers'], tok_paragraphs[i]['offset_mapping'])\n",
        "        for i in tqdm(range(len(questions)))]\n",
        "        print(\"Saving dataset on disk...\")\n",
        "        with tf.io.TFRecordWriter(filename) as file_writer:\n",
        "            for i in tqdm(range(len(tok_questions))):\n",
        "                record_bytes = tf.train.Example(features=tf.train.Features(feature={\n",
        "                    \"question__input_ids\": tf.train.Feature(int64_list=tf.train.Int64List(\n",
        "                            value=tok_questions[i][\"input_ids\"])),\n",
        "                    \"question__attention_mask\": tf.train.Feature(int64_list=tf.train.Int64List(\n",
        "                            value=tok_questions[i][\"attention_mask\"])),\n",
        "                    \"question__id\": tf.train.Feature(bytes_list=tf.train.BytesList(\n",
        "                        value=[questions[i]['qas']['id'].encode('utf-8')])),\n",
        "                    \"answer__out_s\": tf.train.Feature(int64_list=tf.train.Int64List(\n",
        "                        value=answer_tokens[i][\"out_S\"])),\n",
        "                    \"answer__out_e\": tf.train.Feature(int64_list=tf.train.Int64List(\n",
        "                        value=answer_tokens[i][\"out_E\"])),\n",
        "                    \"paragraph__input_ids\": tf.train.Feature(int64_list=tf.train.Int64List(\n",
        "                        value=tok_paragraphs[i][\"input_ids\"])),\n",
        "                    \"paragraph__attention_mask\": tf.train.Feature(int64_list=tf.train.Int64List(\n",
        "                        value=tok_paragraphs[i][\"attention_mask\"])),\n",
        "                    \"paragraph__tokens_s\": tf.train.Feature(int64_list=tf.train.Int64List(\n",
        "                            value=[x[0] for x in tok_paragraphs[i][\"offset_mapping\"]])),\n",
        "                    \"paragraph__tokens_e\": tf.train.Feature(int64_list=tf.train.Int64List(\n",
        "                            value=[x[1] for x in tok_paragraphs[i][\"offset_mapping\"]])), \n",
        "                    \"paragraph__text\": tf.train.Feature(bytes_list=tf.train.BytesList(\n",
        "                        value=[get_paragraph_from_question(\n",
        "                            questions[i], dataset\n",
        "                        )['context'].encode('utf-8')]))\n",
        "                    })).SerializeToString()\n",
        "                file_writer.write(record_bytes)\n",
        "        print(\"Upload the dataset on Google Cloud and re-run the function\")\n",
        "        return None\n",
        "    print(f\"Loading {fn_type} dataset from GCS ({gcs_filename}).\")\n",
        "    # Return it as processed dataset\n",
        "    dataset = tf.data.TFRecordDataset([gcs_filename]).map(decode_fn)\n",
        "    dataset = dataset.cache()\n",
        "    dataset = dataset.shuffle(10000)\n",
        "    if training:\n",
        "        dataset = dataset.repeat()\n",
        "    dataset = dataset.prefetch(tf.data.AUTOTUNE)\n",
        "    dataset = dataset.apply(tf.data.experimental.assert_cardinality(len(questions)))\n",
        "    dataset = dataset.batch(BATCH_SIZE)\n",
        "    return dataset\n",
        "\n",
        "### CREATE DATASETS ###\n",
        "# Valid for both TPU and GPU\n",
        "dataset_train = create_dataset_from_records(train_questions, train_dict, tokenizer_distilbert, \n",
        "                                            os.path.join(datasets_dir, 'train'))\n",
        "dataset_val = create_dataset_from_records(val_questions, val_dict, tokenizer_distilbert,\n",
        "                                            os.path.join(datasets_dir, 'val'), training=False)"
      ]
    },
    {
      "cell_type": "markdown",
      "metadata": {
        "id": "xAnwbiFU1etF"
      },
      "source": [
        "## Training pipeline"
      ]
    },
    {
      "cell_type": "markdown",
      "metadata": {
        "id": "52lwz19a1etG"
      },
      "source": [
        "First of all, we need a layer that takes as input the dictionary containing the tokenized questions and answers and returns their compact representations."
      ]
    },
    {
      "cell_type": "code",
      "execution_count": 11,
      "metadata": {
        "id": "PjPUMwKk1etG",
        "outputId": "41fd1b14-dd45-4202-fa9b-7bde2e1ac900",
        "colab": {
          "base_uri": "https://localhost:8080/"
        }
      },
      "outputs": [
        {
          "output_type": "stream",
          "name": "stdout",
          "text": [
            "Output shape when in training mode: (8, 768), (8, 768)\n",
            "Output shape when in testing mode: (8, 768)\n",
            "Output shape when dealing with a single question: (1, 768)\n"
          ]
        }
      ],
      "source": [
        "class DenseEncoder(layers.Layer):\n",
        "    def __init__(self, model_q, model_p):\n",
        "        super().__init__()\n",
        "        self.model_q = model_q  # Dense encoder for questions\n",
        "        self.model_p = model_p  # Dense encoder for paragraphs\n",
        "    \n",
        "    def call(self, inputs, training=False):\n",
        "        qs = {\n",
        "            'input_ids': inputs['questions']['input_ids'],\n",
        "            'attention_mask': inputs['questions']['attention_mask']\n",
        "        }\n",
        "        q_repr = self.model_q(qs).last_hidden_state[:,0,:]\n",
        "        if training:\n",
        "            # Input contains the questions and paragraphs encoding\n",
        "            ps = qs = {\n",
        "                'input_ids': inputs['paragraphs']['input_ids'],\n",
        "                'attention_mask': inputs['paragraphs']['attention_mask']\n",
        "            }\n",
        "            p_repr = self.model_p(ps).last_hidden_state[:,0,:]\n",
        "            return q_repr, p_repr\n",
        "        else:\n",
        "            return q_repr\n",
        "\n",
        "# Small test for the layer\n",
        "class TestDenseEncoderModel(keras.Model):\n",
        "    def __init__(self, model_q, model_p):\n",
        "        super().__init__()\n",
        "        self.enc = DenseEncoder(model_q, model_p)\n",
        "\n",
        "    def call(self, inputs, training=False):\n",
        "        return self.enc(inputs, training=training)\n",
        "\n",
        "test_model = TestDenseEncoderModel(model_q, model_p)\n",
        "q_repr, p_repr = test_model(next(dataset_train.take(1).as_numpy_iterator()), training=True)\n",
        "print(f\"Output shape when in training mode: {q_repr.shape}, {p_repr.shape}\")\n",
        "q_repr_2 = test_model(next(dataset_train.take(1).as_numpy_iterator()), training=False)\n",
        "print(f\"Output shape when in testing mode: {q_repr_2.shape}\")\n",
        "q = tokenizer_distilbert(\n",
        "    train_questions[0]['qas']['question'], max_length = 512, \n",
        "    truncation = True, padding = 'max_length', return_tensors=\"tf\")\n",
        "q_repr_3 = test_model({'questions': q})\n",
        "print(f\"Output shape when dealing with a single question: {q_repr_3.shape}\")"
      ]
    },
    {
      "cell_type": "markdown",
      "metadata": {
        "id": "e4r1MfHP1etI"
      },
      "source": [
        "Once we have the representations, we should compute the similarities, thus obtaining a a full mini-batch of positive-negative examples. "
      ]
    },
    {
      "cell_type": "code",
      "execution_count": 12,
      "metadata": {
        "id": "ZdG5bkWV2FU5",
        "outputId": "f16aad2b-5f83-417d-b25f-b1bd924a0678",
        "colab": {
          "base_uri": "https://localhost:8080/"
        }
      },
      "outputs": [
        {
          "output_type": "execute_result",
          "data": {
            "text/plain": [
              "TensorShape([8, 8])"
            ]
          },
          "metadata": {},
          "execution_count": 12
        }
      ],
      "source": [
        "# Create the similarity matrix\n",
        "S = tf.tensordot(q_repr, tf.transpose(p_repr), axes=1)\n",
        "S.shape"
      ]
    },
    {
      "cell_type": "markdown",
      "metadata": {
        "id": "qEPy1ug1__n0"
      },
      "source": [
        "This similarity matrix has the following meaning:\n",
        "- Rows represent questions.\n",
        "- Each row contains the similarity that the respective question has with the 16 paragraphs (one of them is the positive one, the others are negative)\n",
        "\n",
        "In the paper, they refer to the loss as a *minimization of the negative log-likelihood of the positive passage*: what it really means is that we need to transform similarities to probabilities and use a categorical cross-entropy loss, where labels are the row index (which is also the column index in that row for the positive passage)"
      ]
    },
    {
      "cell_type": "code",
      "execution_count": 13,
      "metadata": {
        "id": "J_aJezqWCKsw",
        "outputId": "b4787809-56c7-4627-c8f3-7f38529d4a4d",
        "colab": {
          "base_uri": "https://localhost:8080/"
        }
      },
      "outputs": [
        {
          "output_type": "execute_result",
          "data": {
            "text/plain": [
              "4.00385"
            ]
          },
          "metadata": {},
          "execution_count": 13
        }
      ],
      "source": [
        "loss = tf.keras.losses.SparseCategoricalCrossentropy(\n",
        "    from_logits=True\n",
        ")\n",
        "loss(y_true=tf.range(BATCH_SIZE), y_pred=S).numpy()"
      ]
    },
    {
      "cell_type": "markdown",
      "metadata": {
        "id": "BnidWQLZDwsf"
      },
      "source": [
        "The loss seems to be quite high for this batch. We can study it with a confusion matrix."
      ]
    },
    {
      "cell_type": "code",
      "execution_count": 14,
      "metadata": {
        "id": "Vdgc2-gQD1PP",
        "outputId": "02fc4762-b13e-48d8-c8fb-1161b27d977a",
        "colab": {
          "base_uri": "https://localhost:8080/",
          "height": 283
        }
      },
      "outputs": [
        {
          "output_type": "display_data",
          "data": {
            "text/plain": [
              "<Figure size 432x288 with 2 Axes>"
            ],
            "image/png": "[encoded data removed]"
          },
          "metadata": {
            "needs_background": "light"
          }
        }
      ],
      "source": [
        "from sklearn.metrics import ConfusionMatrixDisplay\n",
        "\n",
        "if not using_TPU: # Otherwise the batch size is HUGE\n",
        "    S_arr = S.numpy()\n",
        "    ConfusionMatrixDisplay.from_predictions(\n",
        "        y_true=np.arange(BATCH_SIZE), y_pred=np.argmax(S_arr, axis=1))"
      ]
    },
    {
      "cell_type": "markdown",
      "metadata": {
        "id": "pQwdzlTfEsH4"
      },
      "source": [
        "Indeed, ideally the predictions should be on the diagonal. This means that the \"default\" space for this metric learning problem is not that good. We are ready to learn a new representation distribution."
      ]
    },
    {
      "cell_type": "markdown",
      "metadata": {
        "id": "gOOLMK5mIMPc"
      },
      "source": [
        "## Model definition"
      ]
    },
    {
      "cell_type": "code",
      "execution_count": 15,
      "metadata": {
        "id": "nme0koNHE76t"
      },
      "outputs": [],
      "source": [
        "class DensePassageRetriever(keras.Model):\n",
        "\n",
        "    def __init__(self, model_q, model_p):\n",
        "        super().__init__()\n",
        "        self.enc = DenseEncoder(model_q, model_p)\n",
        "\n",
        "    def call(self, inputs, training=False):\n",
        "        if training:\n",
        "            # For training we return the similarity matrix\n",
        "            repr_q, repr_p = self.enc(inputs, training=training)\n",
        "            S = tf.tensordot(repr_q, tf.transpose(repr_p), axes=1)\n",
        "            return S\n",
        "        else:\n",
        "            # In other cases, we return the representation of the question(s)\n",
        "            repr_q = self.enc(inputs, training=training)            \n",
        "            return repr_q\n",
        "\n",
        "    def train_step(self, data):\n",
        "        x = data\n",
        "        y = tf.range(tf.shape(x['questions']['input_ids'])[0])\n",
        "        with tf.GradientTape() as tape:\n",
        "            # Obtain similarities\n",
        "            S = self(x, training=True)\n",
        "            # Obtain loss value\n",
        "            loss = self.compiled_loss(y, S)\n",
        "        # Construct gradients and apply them through the optimizer\n",
        "        gradients = tape.gradient(loss, self.trainable_variables)\n",
        "        self.optimizer.apply_gradients(zip(gradients, self.trainable_variables))\n",
        "        # Update and return metrics (specifically the one for the loss value).\n",
        "        self.compiled_metrics.update_state(y, S)\n",
        "        return {m.name: m.result() for m in self.metrics}\n",
        "\n",
        "    def test_step(self, data):\n",
        "        x = data\n",
        "        y = tf.range(tf.shape(x['questions']['input_ids'])[0])\n",
        "        S = self(x, training=True) # We are not really training, but we have to obtain S\n",
        "        self.compiled_loss(y, S)\n",
        "        self.compiled_metrics.update_state(y, S)\n",
        "        return {m.name: m.result() for m in self.metrics}\n",
        "\n",
        "def create_model(sample, freeze_layers_up_to=5):\n",
        "    print(\"Creating BERT models...\")\n",
        "    model_q, model_p =  TFDistilBertModel.from_pretrained('distilbert-base-uncased'), \\\n",
        "                        TFDistilBertModel.from_pretrained('distilbert-base-uncased')\n",
        "\n",
        "    # Freeze layers \n",
        "    for i in range(freeze_layers_up_to): # layers 0 to variable are frozen, successive layers learn\n",
        "        model_q.distilbert.transformer.layer[i].trainable = False\n",
        "        model_p.distilbert.transformer.layer[i].trainable = False\n",
        "    \n",
        "    print(\"Creating Dense Passage Retriever...\")\n",
        "    model = DensePassageRetriever(model_q, model_p)\n",
        "\n",
        "    print(\"Compiling...\")\n",
        "    # Compile the model and loss\n",
        "    model.compile(\n",
        "        optimizer=keras.optimizers.Adam(learning_rate=3e-6),\n",
        "        loss=keras.losses.SparseCategoricalCrossentropy(from_logits=True),\n",
        "        metrics=[keras.metrics.SparseCategoricalAccuracy()]\n",
        "    )\n",
        "\n",
        "    print(\"Testing on some data...\")\n",
        "    # Pass one batch of data to build the model\n",
        "    model(sample)\n",
        "\n",
        "    # Return the model\n",
        "    print(\"Model created!\")\n",
        "    return model"
      ]
    },
    {
      "cell_type": "markdown",
      "metadata": {
        "id": "HA_dwB6MIHaq"
      },
      "source": [
        "## Training procedure"
      ]
    },
    {
      "cell_type": "markdown",
      "metadata": {
        "id": "kfdxw7F4IWVi"
      },
      "source": [
        "Define utility variables and saving paths."
      ]
    },
    {
      "cell_type": "code",
      "execution_count": 16,
      "metadata": {
        "id": "s838Rj9GIUA9"
      },
      "outputs": [],
      "source": [
        "EPOCHS = 100\n",
        "PATIENCE = 3"
      ]
    },
    {
      "cell_type": "markdown",
      "metadata": {
        "id": "rOrJEqCQIZ3c"
      },
      "source": [
        "Before training, we check if we're using a TPU, in order to create the model within the scope of the strategy.\n",
        "\n",
        "Then, we train the model."
      ]
    },
    {
      "cell_type": "code",
      "execution_count": 17,
      "metadata": {
        "id": "wN6WxrL-IRjj",
        "outputId": "60e0d4ba-1d57-4e6e-ee53-2ff5f78dd2df",
        "colab": {
          "base_uri": "https://localhost:8080/"
        }
      },
      "outputs": [
        {
          "output_type": "stream",
          "name": "stdout",
          "text": [
            "Creating BERT models...\n"
          ]
        },
        {
          "output_type": "stream",
          "name": "stderr",
          "text": [
            "Some layers from the model checkpoint at distilbert-base-uncased were not used when initializing TFDistilBertModel: ['vocab_layer_norm', 'vocab_transform', 'vocab_projector', 'activation_13']\n",
            "- This IS expected if you are initializing TFDistilBertModel from the checkpoint of a model trained on another task or with another architecture (e.g. initializing a BertForSequenceClassification model from a BertForPreTraining model).\n",
            "- This IS NOT expected if you are initializing TFDistilBertModel from the checkpoint of a model that you expect to be exactly identical (initializing a BertForSequenceClassification model from a BertForSequenceClassification model).\n",
            "All the layers of TFDistilBertModel were initialized from the model checkpoint at distilbert-base-uncased.\n",
            "If your task is similar to the task the model of the checkpoint was trained on, you can already use TFDistilBertModel for predictions without further training.\n",
            "Some layers from the model checkpoint at distilbert-base-uncased were not used when initializing TFDistilBertModel: ['vocab_layer_norm', 'vocab_transform', 'vocab_projector', 'activation_13']\n",
            "- This IS expected if you are initializing TFDistilBertModel from the checkpoint of a model trained on another task or with another architecture (e.g. initializing a BertForSequenceClassification model from a BertForPreTraining model).\n",
            "- This IS NOT expected if you are initializing TFDistilBertModel from the checkpoint of a model that you expect to be exactly identical (initializing a BertForSequenceClassification model from a BertForSequenceClassification model).\n",
            "All the layers of TFDistilBertModel were initialized from the model checkpoint at distilbert-base-uncased.\n",
            "If your task is similar to the task the model of the checkpoint was trained on, you can already use TFDistilBertModel for predictions without further training.\n"
          ]
        },
        {
          "output_type": "stream",
          "name": "stdout",
          "text": [
            "Creating Dense Passage Retriever...\n",
            "Compiling...\n",
            "Testing on some data...\n",
            "Model created!\n"
          ]
        }
      ],
      "source": [
        "import datetime\n",
        "\n",
        "if using_TPU:\n",
        "    # TPU requires to create the model within the scope of the distributed strategy\n",
        "    # we're using.\n",
        "    with strategy.scope():\n",
        "        model = create_model(sample=next(dataset_train.take(1).as_numpy_iterator()),\n",
        "                             freeze_layers_up_to=3)\n",
        "\n",
        "    # Workaraound for saving locally when using cloud TPUs\n",
        "    local_device_option = tf.train.CheckpointOptions(\n",
        "        experimental_io_device=\"/job:localhost\")\n",
        "else:\n",
        "    # GPUs and local systems don't need the above specifications. We simply\n",
        "    # create a pattern for the filename and let the callbacks deal with it.\n",
        "    checkpoint_path = os.path.join(checkpoint_dir, \"cp-{epoch:04d}.ckpt\")\n",
        "    # Also, on TPU we cannot use tensorboard, but on GPU we can\n",
        "    log_dir = os.path.join(ROOT_PATH, \"data\", \"logs\", \n",
        "        \"training_dpr\", datetime.datetime.now().strftime(\"%Y%m%d-%H%M%S\"))\n",
        "    \n",
        "    model = create_model(sample=next(dataset_train.take(1).as_numpy_iterator()),\n",
        "                             freeze_layers_up_to=3)\n",
        "\n",
        "    if DO_TRAINING:\n",
        "        # ModelCheckpoint callback is only available when not using TPU\n",
        "        cp_callback = tf.keras.callbacks.ModelCheckpoint(\n",
        "            filepath = checkpoint_path,\n",
        "            verbose=1,\n",
        "            save_weights_only = True,\n",
        "            save_best_only = False\n",
        "        )\n",
        "\n",
        "        # Same for tensorboard callback\n",
        "        tensorboard_callback = tf.keras.callbacks.TensorBoard(\n",
        "            log_dir=log_dir,\n",
        "            histogram_freq=1\n",
        "        )\n",
        "\n",
        "if DO_TRAINING:\n",
        "    # Early stopping can be used by both hardware\n",
        "    es_callback = tf.keras.callbacks.EarlyStopping(\n",
        "        patience = PATIENCE,\n",
        "        restore_best_weights=True\n",
        "    )\n",
        "\n",
        "    if using_TPU:\n",
        "        # Save first weights in a h5 file (it's the most stable way)\n",
        "        model.save_weights(os.path.join(\n",
        "            checkpoint_dir, 'training_normal_tpu_0.h5'),  overwrite=True)\n",
        "    else:\n",
        "        # Save the first weights using the pattern from before\n",
        "        model.save_weights(checkpoint_path.format(epoch=0))\n",
        "\n",
        "    callbacks = [es_callback]\n",
        "    if not using_TPU:\n",
        "        # These callback imply saving stuff on local disk, which cannot be \n",
        "        # done automatically using TPUs.\n",
        "        # Therefore, they are only active when using GPUs and local systems\n",
        "        callbacks.extend([cp_callback, tensorboard_callback])\n",
        "\n",
        "    # We fit the model\n",
        "    history = model.fit(\n",
        "        dataset_train, \n",
        "        y=None,\n",
        "        validation_data=dataset_val,\n",
        "        epochs=EPOCHS, \n",
        "        callbacks=callbacks,\n",
        "        shuffle=True,\n",
        "        use_multiprocessing=True,\n",
        "        initial_epoch=0,\n",
        "        verbose=1 # Show progress bar\n",
        "    )\n",
        "\n",
        "    if using_TPU:\n",
        "        # Save last weights\n",
        "        model.save_weights(os.path.join(\n",
        "            checkpoint_dir, 'training_normal_tpu_last.h5'), overwrite=True)"
      ]
    },
    {
      "cell_type": "markdown",
      "source": [
        "Note: the model was trained in 22 epochs on a cloud TPU. It took about two hours and reached a validation accuracy of 99.3%."
      ],
      "metadata": {
        "id": "LCgA-4RbAZCh"
      }
    },
    {
      "cell_type": "markdown",
      "source": [
        "# Question Answering with the DPR\n",
        "\n",
        "We have trained the two Bert (`bert_p`, the paragraphs encoder and `bert_q`, the questions encoder) models to produce embeddings that are as similar as possible for matching question-paragraph pairs. \n",
        "\n",
        "Thanks to our training, when we use `bert_q` to encode our question, we will now be sure that questions and paragraphs will both be encoded in the same space and have a high similarity between the question encoding and the matching paragraph's encoding.\n",
        "\n",
        "We can now use `bert_p` to encode all of our paragraphs a-priori using the same method we have used before (taking the 768-d encoding at the `[CLS]` token). These encodings will be stored in RAM. \n",
        "\n",
        "Then, we can define our final Question Answering model in this way:\n",
        "- It receives only a question's embedding as input.\n",
        "- It uses `bert_q` to create a representation of the question in the learnt 768-d space, that is in common with the paragraph representations.\n",
        "- We compute similarity scores between the representation of the question and all representations of paragraphs. Based on these scores, we select the top-k ($k=100$) paragraphs.\n",
        "- For each of the $k$ paragraphs, we must compute the probability of the paragraph being selected $P_{selected}(i)$, as well as the usual $P_{start, i}(s), P_{end, i}(t)$ for each of the $s$-th and $t$-th words of the $i$-th paragraph. To do that, we need the full encoding of the paragraph (the $512 \\times 768$ output of Bert), which will be denoted as $P_i$ in contrast to $\\hat{P}_i$ which is the 768-d encoding at the `[CLS]` token. We obtain the full encoding by passing the $k$ paragraphs through `bert_p`, which is set to non-trainable (otherwise the encoding of the `[CLS]` token would constantly change). \n",
        "- All probabilities are computed through dense layers:\n",
        "\\begin{gather}\n",
        "P_{start,i}(s) = softmax(P_i w_{start})_s\n",
        "\\\\\n",
        "P_{end,i}(t) = softmax(P_i w_{end})_t\n",
        "\\\\\n",
        "P_{selected}(i) = softmax(\\hat{P}^\\intercal w_{selected})_i\n",
        "\\\\\n",
        "\\end{gather}\n",
        "where $w_{start}$, $w_{end}$ and $w_{selected}$ are learnt vectors, while $\\hat{P} = [P_{1}^{[CLS]}, \\dots, P_k^{[CLS]}]$.\n",
        "- As final answer, we select the highest scoring start-end legal span from the highest-scoring paragraph.\n",
        "\n",
        "During training: For each question, we create a batch by sampling $m$ ($m=24$ in the paper) from the top-100 passages returned by the retrieval system (DPR, so by computing similarities with the pre-computed representations). The training objective is to maximize the marginal log-likelihood of all the correct answer spans in the positive passage (the answer string may appear multiple times in one passage), combined with the log-likelihood of the positive passage being selected. In the paper, a batch size of 16 was used.\n"
      ],
      "metadata": {
        "id": "5DtqzKMW6scF"
      }
    },
    {
      "cell_type": "markdown",
      "source": [
        "### Paragraphs representations"
      ],
      "metadata": {
        "id": "5InDU76v93rS"
      }
    },
    {
      "cell_type": "markdown",
      "source": [
        "First of all, we load the weights of the trained model."
      ],
      "metadata": {
        "id": "fbp2lLe9iX-u"
      }
    },
    {
      "cell_type": "code",
      "source": [
        "# Load the obtained weights\n",
        "model.load_weights(os.path.join(checkpoint_dir, 'training_normal_tpu_last.h5'))"
      ],
      "metadata": {
        "id": "ry1uahz-bh4_"
      },
      "execution_count": 18,
      "outputs": []
    },
    {
      "cell_type": "markdown",
      "source": [
        "Then, we allocate space for the matrices that will contain all paragraphs encoding."
      ],
      "metadata": {
        "id": "OVIemd7MibmK"
      }
    },
    {
      "cell_type": "code",
      "source": [
        "train_paragraphs_encodings = np.empty(\n",
        "    shape=(len(train_paragraphs), BERT_DIMENSIONALITY)\n",
        ")\n",
        "val_paragraphs_encodings = np.empty(\n",
        "    shape=(len(val_paragraphs), BERT_DIMENSIONALITY)\n",
        ")\n",
        "print(train_paragraphs_encodings.shape, val_paragraphs_encodings.shape)"
      ],
      "metadata": {
        "id": "TPpSZ9nSZWMz",
        "colab": {
          "base_uri": "https://localhost:8080/"
        },
        "outputId": "16c439e9-b00e-4fe0-9f2c-2faf00ebf5e9"
      },
      "execution_count": 19,
      "outputs": [
        {
          "output_type": "stream",
          "name": "stdout",
          "text": [
            "(18896, 768) (4921, 768)\n"
          ]
        }
      ]
    },
    {
      "cell_type": "code",
      "source": [
        "if not os.path.exists(os.path.join(checkpoint_dir, 'train_paragraphs_encodings.txt')) or \\\n",
        "   OVERRIDE_REPRESENTATIONS:\n",
        "\n",
        "    print(\"Obtaining training representations\")\n",
        "    for i in tqdm(range(len(train_paragraphs))):\n",
        "        train_paragraphs_encodings[i] = model.enc.model_p(tokenizer_distilbert(\n",
        "            train_paragraphs[i]['context'], max_length = 512, \n",
        "            return_tensors='tf',\n",
        "            truncation = True, padding = 'max_length'\n",
        "        )).last_hidden_state[0,0,:]\n",
        "    \n",
        "    np.savetxt(os.path.join(checkpoint_dir, 'train_paragraphs_encodings.txt'), \n",
        "               train_paragraphs_encodings, delimiter=',')\n",
        "\n",
        "if not os.path.exists(os.path.join(checkpoint_dir, 'val_paragraphs_encodings.txt')) or \\\n",
        "   OVERRIDE_REPRESENTATIONS:\n",
        "\n",
        "    print(\"Obtaining validation representations\")\n",
        "    for i in tqdm(range(len(val_paragraphs))):\n",
        "        val_paragraphs_encodings[i] = model.enc.model_p(tokenizer_distilbert(\n",
        "            val_paragraphs[i]['context'], max_length = 512, \n",
        "            return_tensors='tf',\n",
        "            truncation = True, padding = 'max_length'\n",
        "        )).last_hidden_state[0,0,:]\n",
        "\n",
        "    np.savetxt(os.path.join(checkpoint_dir, 'val_paragraphs_encodings.txt'),\n",
        "               val_paragraphs_encodings, delimiter=',')"
      ],
      "metadata": {
        "id": "bU8pBjgvbZS0"
      },
      "execution_count": 20,
      "outputs": []
    },
    {
      "cell_type": "code",
      "source": [
        "train_paragraphs_encoding = np.loadtxt(os.path.join(checkpoint_dir, \n",
        "                                                    'train_paragraphs_encodings.txt'), \n",
        "                                       delimiter=',', dtype=np.float32)\n",
        "val_paragraphs_encoding = np.loadtxt(os.path.join(checkpoint_dir, \n",
        "                                                  'val_paragraphs_encodings.txt'), \n",
        "                                     delimiter=',', dtype=np.float32)"
      ],
      "metadata": {
        "id": "jPRAKDc-9GQm"
      },
      "execution_count": 21,
      "outputs": []
    },
    {
      "cell_type": "markdown",
      "source": [
        "### Qualitative test"
      ],
      "metadata": {
        "id": "ReN18CaggRW5"
      }
    },
    {
      "cell_type": "markdown",
      "source": [
        "We select some random questions and see whether the selected paragraph is the correct one."
      ],
      "metadata": {
        "id": "qQ4-VRXZgXlb"
      }
    },
    {
      "cell_type": "code",
      "source": [
        "sample_question = random.choice(train_questions)\n",
        "print(f\"Question: {sample_question['qas']['question']}\")\n",
        "print(f\"Ground truth paragraph: {get_paragraph_from_question(sample_question, train_dict)['context']}\")\n",
        "sample_q_repr = model.enc.model_q(tokenizer_distilbert(\n",
        "    sample_question['qas']['question'], max_length = 512, \n",
        "    return_tensors='tf', truncation = True, padding = 'max_length'\n",
        ")).last_hidden_state[:,0,:]\n",
        "print(f\"Question representation shape: {sample_q_repr.shape}\")\n",
        "scores = tf.tensordot(sample_q_repr, train_paragraphs_encoding.T, axes=1)\n",
        "best_par_index = tf.argsort(scores, axis=1, direction='DESCENDING')[0, :5].numpy()\n",
        "print(f\"Top-5 best matching paragraphs have indexes {best_par_index}\")\n",
        "print(f\"Top-5 best matching paragraphs:\")\n",
        "for i in range(5):\n",
        "    print(f\"{i})\\t{train_paragraphs[best_par_index[i]]['context']}\")"
      ],
      "metadata": {
        "colab": {
          "base_uri": "https://localhost:8080/"
        },
        "id": "S1NISpx7gs4I",
        "outputId": "ac71d5b9-9f69-4532-8e5c-ac686842ce53"
      },
      "execution_count": 22,
      "outputs": [
        {
          "output_type": "stream",
          "name": "stdout",
          "text": [
            "Question: What poet wrote a long poem describing Roman religious holidays?\n",
            "Ground truth paragraph: The meaning and origin of many archaic festivals baffled even Rome's intellectual elite, but the more obscure they were, the greater the opportunity for reinvention and reinterpretation — a fact lost neither on Augustus in his program of religious reform, which often cloaked autocratic innovation, nor on his only rival as mythmaker of the era, Ovid. In his Fasti, a long-form poem covering Roman holidays from January to June, Ovid presents a unique look at Roman antiquarian lore, popular customs, and religious practice that is by turns imaginative, entertaining, high-minded, and scurrilous; not a priestly account, despite the speaker's pose as a vates or inspired poet-prophet, but a work of description, imagination and poetic etymology that reflects the broad humor and burlesque spirit of such venerable festivals as the Saturnalia, Consualia, and feast of Anna Perenna on the Ides of March, where Ovid treats the assassination of the newly deified Julius Caesar as utterly incidental to the festivities among the Roman people. But official calendars preserved from different times and places also show a flexibility in omitting or expanding events, indicating that there was no single static and authoritative calendar of required observances. In the later Empire under Christian rule, the new Christian festivals were incorporated into the existing framework of the Roman calendar, alongside at least some of the traditional festivals.\n",
            "Question representation shape: (1, 768)\n",
            "Top-5 best matching paragraphs have indexes [18137 18135 10372 18136 18124]\n",
            "Top-5 best matching paragraphs:\n",
            "0)\tThe meaning and origin of many archaic festivals baffled even Rome's intellectual elite, but the more obscure they were, the greater the opportunity for reinvention and reinterpretation — a fact lost neither on Augustus in his program of religious reform, which often cloaked autocratic innovation, nor on his only rival as mythmaker of the era, Ovid. In his Fasti, a long-form poem covering Roman holidays from January to June, Ovid presents a unique look at Roman antiquarian lore, popular customs, and religious practice that is by turns imaginative, entertaining, high-minded, and scurrilous; not a priestly account, despite the speaker's pose as a vates or inspired poet-prophet, but a work of description, imagination and poetic etymology that reflects the broad humor and burlesque spirit of such venerable festivals as the Saturnalia, Consualia, and feast of Anna Perenna on the Ides of March, where Ovid treats the assassination of the newly deified Julius Caesar as utterly incidental to the festivities among the Roman people. But official calendars preserved from different times and places also show a flexibility in omitting or expanding events, indicating that there was no single static and authoritative calendar of required observances. In the later Empire under Christian rule, the new Christian festivals were incorporated into the existing framework of the Roman calendar, alongside at least some of the traditional festivals.\n",
            "1)\tRoman calendars show roughly forty annual religious festivals. Some lasted several days, others a single day or less: sacred days (dies fasti) outnumbered \"non-sacred\" days (dies nefasti). A comparison of surviving Roman religious calendars suggests that official festivals were organized according to broad seasonal groups that allowed for different local traditions. Some of the most ancient and popular festivals incorporated ludi (\"games,\" such as chariot races and theatrical performances), with examples including those held at Palestrina in honour of Fortuna Primigenia during Compitalia, and the Ludi Romani in honour of Liber. Other festivals may have required only the presence and rites of their priests and acolytes, or particular groups, such as women at the Bona Dea rites.\n",
            "2)\tWhile forming an integral part of the Christian calendar, particularly in Catholic regions, many Carnival traditions resemble those antedating Christianity. Italian Carnival is sometimes thought to be derived from the ancient Roman festivals of Saturnalia and Bacchanalia. The Saturnalia, in turn, may be based on the Greek Dionysia and Oriental festivals. For the start of the Roman Saturnalia, on December 17 authorities chose an enemy of the Roman people to represent the Lord of Misrule in each community. These men and women were forced to indulge in food and physical pleasures throughout the week, horribly murdered on December 25th: \"destroying the forces of darkness\".\n",
            "3)\tOther public festivals were not required by the calendar, but occasioned by events. The triumph of a Roman general was celebrated as the fulfillment of religious vows, though these tended to be overshadowed by the political and social significance of the event. During the late Republic, the political elite competed to outdo each other in public display, and the ludi attendant on a triumph were expanded to include gladiator contests. Under the Principate, all such spectacular displays came under Imperial control: the most lavish were subsidised by emperors, and lesser events were provided by magistrates as a sacred duty and privilege of office. Additional festivals and games celebrated Imperial accessions and anniversaries. Others, such as the traditional Republican Secular Games to mark a new era (saeculum), became imperially funded to maintain traditional values and a common Roman identity. That the spectacles retained something of their sacral aura even in late antiquity is indicated by the admonitions of the Church Fathers that Christians should not take part.\n",
            "4)\tThe Romans are known for the great number of deities they honored, a capacity that earned the mockery of early Christian polemicists. The presence of Greeks on the Italian peninsula from the beginning of the historical period influenced Roman culture, introducing some religious practices that became as fundamental as the cult of Apollo. The Romans looked for common ground between their major gods and those of the Greeks (interpretatio graeca), adapting Greek myths and iconography for Latin literature and Roman art. Etruscan religion was also a major influence, particularly on the practice of augury.\n"
          ]
        }
      ]
    },
    {
      "cell_type": "markdown",
      "source": [
        "Usually, the correct paragraphs show up in the Top-5 list."
      ],
      "metadata": {
        "id": "bOPMaSyb5CfJ"
      }
    },
    {
      "cell_type": "markdown",
      "source": [
        "### Quantitative test"
      ],
      "metadata": {
        "id": "cWM3pdRAwBlz"
      }
    },
    {
      "cell_type": "markdown",
      "source": [
        "We can measure the top-1/top-5 accuracy with the same used in the tf-idf baseline."
      ],
      "metadata": {
        "id": "lJXrFcjnwFaA"
      }
    },
    {
      "cell_type": "code",
      "source": [
        "count_top1 = 0\n",
        "count_top5 = 0\n",
        "count_total = len(val_questions)\n",
        "\n",
        "if RUN_ACCURACY_ANALYSIS:\n",
        "    def top_5_for_question(question):\n",
        "        sample_q_repr = model.enc.model_q(question).last_hidden_state[:,0,:]\n",
        "        scores = tf.tensordot(sample_q_repr, val_paragraphs_encoding.T, axes=1)\n",
        "        top5_indices = tf.argsort(scores, axis=1, direction='DESCENDING')[0, :5].numpy()\n",
        "        top5_scores = tf.sort(scores, axis=1, direction='DESCENDING')[0, :5].numpy()\n",
        "        top5_para = [val_paragraphs[i] for i in top5_indices]\n",
        "        return top5_para, top5_scores, top5_indices     \n",
        "\n",
        "    for i,q in enumerate(tqdm(val_questions)):\n",
        "        top5_para, top5_scores, top5_indices = top_5_for_question(\n",
        "            tokenizer_distilbert(\n",
        "                q['qas']['question'], max_length = 512, \n",
        "                return_tensors='tf', truncation = True, padding = 'max_length'\n",
        "            )\n",
        "        )\n",
        "        top5_context_ids = [top5_para[i]['context_id'] for i in range(len(top5_para))]\n",
        "        gt_context_id = q['context_id'][0]\n",
        "        if gt_context_id == top5_context_ids[0]:\n",
        "            count_top1 += 1\n",
        "        if gt_context_id in top5_context_ids:\n",
        "            count_top5 += 1\n",
        "\n",
        "    top1_score = count_top1 / count_total * 100\n",
        "    top5_score = count_top5 / count_total * 100\n",
        "\n",
        "    print(f\"\\nTop 1 score: {top1_score:.2f}%,\\nTop 5 score: {top5_score:.2f}%\")"
      ],
      "metadata": {
        "id": "MShv2E92wXJt"
      },
      "execution_count": 23,
      "outputs": []
    },
    {
      "cell_type": "markdown",
      "source": [
        "Top 1 score: 86.49%\n",
        "\n",
        "Top 5 score: 96.58%\n",
        "\n",
        "This is a clear improvement with respect to the Tf-Idf baseline (72.01%/87.82%), but it's also quite slower. \n",
        "- It may look as an unfair comparison, because the Tf-Idf baseline was tested on all questions, but in fact it's more realistic because it's done on a subset of data that the model has not been trained on."
      ],
      "metadata": {
        "id": "RwctHyoXCrP5"
      }
    },
    {
      "cell_type": "markdown",
      "source": [
        "## Question Answering model"
      ],
      "metadata": {
        "id": "zPG2DHje99it"
      }
    },
    {
      "cell_type": "markdown",
      "source": [
        "First, we make a test to check if the pipeline is working fine."
      ],
      "metadata": {
        "id": "9x73-nT0Frwr"
      }
    },
    {
      "cell_type": "code",
      "source": [
        "inputs = next(dataset_train.take(1).as_numpy_iterator())\n",
        "\n",
        "# Representation of the question\n",
        "qs = {\n",
        "    'input_ids': inputs['questions']['input_ids'],\n",
        "    'attention_mask': inputs['questions']['attention_mask']\n",
        "}\n",
        "q_repr = model_q(qs).last_hidden_state[:,0,:]\n",
        "\n",
        "# Selection of paragraphs using search encoding\n",
        "scores = tf.tensordot(q_repr, train_paragraphs_encoding.T, axes=1) # 8xnum_parag\n",
        "top50_indexes = tf.argsort(scores, direction='DESCENDING')[:, :50] #8x50\n",
        "paragraphs = [[train_paragraphs[i] for i in top50_indexes[b]] \n",
        "              for b in range(BATCH_SIZE)] # list of 8 elements containing 50 paragraphs each\n",
        "gt_paragraph_mask = np.array([[int(parag['context'].encode('utf-8') == \n",
        "                                   inputs['paragraphs']['text'][i]) \n",
        "                                for parag in paragraphs[i]] \n",
        "                              for i in range(BATCH_SIZE)])\n",
        "\n",
        "# Fully encode selected paragraphs\n",
        "tokenized_paragraphs = [dict(tokenizer_distilbert(\n",
        "        [p['context'] for p in paragraphs[b]], max_length = 512, \n",
        "        return_tensors='tf', truncation = True, \n",
        "        padding = 'max_length', return_offsets_mapping = True))\n",
        "    for b in range(BATCH_SIZE)]\n",
        "paragraphs_full_encodings = [model.enc.model_p({\n",
        "        'input_ids': tokenized_paragraphs[b]['input_ids'],\n",
        "        'attention_mask': tokenized_paragraphs[b]['attention_mask']\n",
        "    }).last_hidden_state for b in range(BATCH_SIZE)] #8x (50x512x768) tensors\n",
        "paragraphs_search_encodings = [p[:,0,:] for p in paragraphs_full_encodings] #8x (50x768) tensors\n",
        "\n",
        "# Layers definitions\n",
        "dense_s = keras.layers.TimeDistributed(keras.layers.Dense(1)) # Output: 50x512x1 scores\n",
        "dense_e = keras.layers.TimeDistributed(keras.layers.Dense(1)) # Output: 50x512x1 scores\n",
        "dense_sel = keras.layers.Dense(1) # Output: 50x1 scores\n",
        "flatten = keras.layers.Flatten()\n",
        "softmax = keras.layers.Softmax(axis=1)\n",
        "\n",
        "# Probabilities calculations\n",
        "probs_s = tf.stack([tf.nn.softmax(flatten(dense_s(paragraphs_full_encodings[i])), axis=1) \n",
        "                    for i in range(BATCH_SIZE)]) # 8x50x512\n",
        "probs_e = tf.stack([tf.nn.softmax(flatten(dense_e(paragraphs_full_encodings[i])), axis=1) \n",
        "                    for i in range(BATCH_SIZE)]) # 8x50x512\n",
        "probs_sel = tf.stack([tf.nn.softmax(flatten(dense_sel(paragraphs_search_encodings[i])), axis=0) \n",
        "                    for i in range(BATCH_SIZE)]) # 8x50\n",
        "\n",
        "# Selection of best scoring paragraphs\n",
        "best_scoring_paragraphs = tf.squeeze(tf.argmax(probs_sel, axis=1))\n",
        "one_hot_best_scoring_paragraphs = tf.one_hot(best_scoring_paragraphs, depth=50)\n",
        "\n",
        "# Selection of related start-end probabilities\n",
        "probs_s = tf.stack([probs_s[i,best_scoring_paragraphs[i],:] for i in range(BATCH_SIZE)])\n",
        "probs_e = tf.stack([probs_e[i,best_scoring_paragraphs[i],:] for i in range(BATCH_SIZE)])"
      ],
      "metadata": {
        "id": "h_OgQdO--c-P"
      },
      "execution_count": 58,
      "outputs": []
    },
    {
      "cell_type": "code",
      "source": [
        "## Loss functions:\n",
        "# 1) Probability loss\n",
        "loss = tf.keras.losses.CategoricalCrossentropy()\n",
        "answer_s_loss = loss(y_true=inputs['answers']['out_s'], y_pred=probs_s)\n",
        "answer_e_loss = loss(y_true=inputs['answers']['out_e'], y_pred=probs_e)\n",
        "answer_loss = tf.math.add(answer_s_loss, answer_e_loss)\n",
        "# 2) Selection loss\n",
        "selection_loss = loss(y_true=gt_paragraph_mask, y_pred=one_hot_best_scoring_paragraphs)\n",
        "total_loss = tf.math.add(selection_loss, answer_loss)\n",
        "\n",
        "print(total_loss.numpy())"
      ],
      "metadata": {
        "colab": {
          "base_uri": "https://localhost:8080/"
        },
        "id": "G-KVx8Fcl78z",
        "outputId": "f57d44cb-9ada-48b2-fd10-4a68e57e14c5"
      },
      "execution_count": 59,
      "outputs": [
        {
          "output_type": "stream",
          "name": "stdout",
          "text": [
            "25.062521\n"
          ]
        }
      ]
    },
    {
      "cell_type": "markdown",
      "source": [
        "We reuse the function that returns the start and end tokens of the question given the computed probabilities"
      ],
      "metadata": {
        "id": "QPhI8HbNF_nJ"
      }
    },
    {
      "cell_type": "code",
      "source": [
        "def start_end_token_from_probabilities(\n",
        "    pstartv: np.array, \n",
        "    pendv: np.array, \n",
        "    dim:int=512) -> List[List[int]]:\n",
        "    '''\n",
        "    Returns a List of [StartToken, EndToken] elements computed from the batch outputs.\n",
        "    '''\n",
        "    idxs = []\n",
        "    for i in range(pstartv.shape[0]):\n",
        "        # For each element in the batch, transform the vectors into matrices\n",
        "        # by repeating them dim times:\n",
        "        # - Vectors of starting probabilities are stacked on the columns\n",
        "        pstart = np.stack([pstartv[i,:]]*dim, axis=1)\n",
        "        # - Vectors of ending probabilities are repeated on the rows\n",
        "        pend = np.stack([pendv[i,:]]*dim, axis=0)\n",
        "        # Once we have the two matrices, we sum them (element-wise operation)\n",
        "        # to obtain the scores of each combination\n",
        "        sums = pstart + pend\n",
        "        # We only care about the scores in the upper triangular part of the matrix\n",
        "        # (where the ending index is greater than the starting index)\n",
        "        # therefore we zero out the diagonal and the lower triangular area\n",
        "        sums = np.triu(sums, k=1)\n",
        "        # The most probable set of tokens is the one with highest score in the\n",
        "        # remaining matrix. Through argmax we obtain its position.\n",
        "        val = np.argmax(sums)\n",
        "        # Since the starting probabilities are repeated on the columns, each element\n",
        "        # is identified by the row. Ending probabilities are instead repeated on rows,\n",
        "        # so each element is identified by the column.\n",
        "        row = val // dim\n",
        "        col = val - dim*row\n",
        "        idxs.append([row,col])\n",
        "    return idxs"
      ],
      "metadata": {
        "id": "CWUaL844hyf6"
      },
      "execution_count": 60,
      "outputs": []
    },
    {
      "cell_type": "code",
      "source": [
        "answers_start_end = start_end_token_from_probabilities(probs_s, probs_e)\n",
        "print(answers_start_end)"
      ],
      "metadata": {
        "colab": {
          "base_uri": "https://localhost:8080/"
        },
        "id": "8CUVf45Cj0oI",
        "outputId": "18b84e19-d3e8-4284-895a-06f64d5b1bd3"
      },
      "execution_count": 61,
      "outputs": [
        {
          "output_type": "stream",
          "name": "stdout",
          "text": [
            "[[187, 399], [80, 504], [60, 100], [295, 468], [104, 168], [123, 127], [2, 252], [60, 100]]\n"
          ]
        }
      ]
    },
    {
      "cell_type": "markdown",
      "source": [
        "Finally, we can obtain the answers to the questions we have given the network."
      ],
      "metadata": {
        "id": "xVfgDsb_GHIE"
      }
    },
    {
      "cell_type": "code",
      "source": [
        "char_start_end = [(tokenized_paragraphs[i]['offset_mapping'][best_scoring_paragraphs[i]][answers_start_end[i][0]][0].numpy(),\n",
        "                   tokenized_paragraphs[i]['offset_mapping'][best_scoring_paragraphs[i]][answers_start_end[i][1]][1].numpy())\n",
        "                 for i in range(BATCH_SIZE)]\n",
        "char_start_end"
      ],
      "metadata": {
        "colab": {
          "base_uri": "https://localhost:8080/"
        },
        "id": "FuWtARzUITEV",
        "outputId": "b12102c3-7090-47a5-cb8f-158efbe8921d"
      },
      "execution_count": 75,
      "outputs": [
        {
          "output_type": "execute_result",
          "data": {
            "text/plain": [
              "[(0, 0),\n",
              " (387, 0),\n",
              " (269, 466),\n",
              " (0, 0),\n",
              " (499, 833),\n",
              " (575, 0),\n",
              " (3, 1205),\n",
              " (269, 466)]"
            ]
          },
          "metadata": {},
          "execution_count": 75
        }
      ]
    },
    {
      "cell_type": "code",
      "source": [
        "answers = [paragraphs[i][best_scoring_paragraphs[i]]['context'][char_start_end[i][0]:char_start_end[i][1]] \n",
        "           for i in range(BATCH_SIZE)]\n",
        "for a in answers:\n",
        "    print(a)"
      ],
      "metadata": {
        "colab": {
          "base_uri": "https://localhost:8080/"
        },
        "id": "oaz-Ud_LGSkS",
        "outputId": "5cf4bae0-003e-4908-e9b5-5ad1cd275f96"
      },
      "execution_count": 88,
      "outputs": [
        {
          "output_type": "stream",
          "name": "stdout",
          "text": [
            "\n",
            "\n",
            "urke, in honour of the British Prime Minister of the day, William Lamb, 2nd Viscount Melbourne. It was officially declared a city by Queen Victoria in 1847, after which it became the capital of the\n",
            "\n",
            "and its junior collection, Deréon. House of Deréon pieces were exhibited in Destiny's Child's shows and tours, during their Destiny Fulfilled era. The collection features sportswear, denim offerings with fur, outerwear and accessories that include handbags and footwear, and are available at department and specialty stores across the\n",
            "\n",
            "June 2013, West and television personality Kim Kardashian announced the birth of their first child, North. In October 2013, the couple announced their engagement to widespread media attention. November 2013, West stated that he was beginning work on his next studio album, hoping to release it by mid-2014, with production by Rick Rubin and Q-Tip. In December 2013, Adidas announced the beginning of an official apparel collaboration with West, to be premiered the following year. In May 2014, West and Kardashian were married in a private ceremony in Florence, Italy, with a variety of artists and celebrities in attendance. West released a single, \"Only One\", featuring Paul McCartney, on December 31, 2014. \"FourFiveSeconds\", a single jointly produced with Rihanna and McCartney, was released in January 2015. West also appeared on the Saturday Night Live 40th Anniversary Special, where he premiered a new song entitled \"Wolves\", featuring Sia Furler and fellow Chicago rapper, Vic Mensa. In February 2015, West premiered his clothing collaboration with Adidas, entitled Yeezy Season 1, to generally positive reviews. This would include West's Yeezy Boost sneakers. In March 2015, West released the\n",
            "urke, in honour of the British Prime Minister of the day, William Lamb, 2nd Viscount Melbourne. It was officially declared a city by Queen Victoria in 1847, after which it became the capital of the\n"
          ]
        }
      ]
    },
    {
      "cell_type": "markdown",
      "source": [
        "Of course, answers are extremely bad because we need to train the Dense layers selecting the start and end tokens, as well as the paragraph selector."
      ],
      "metadata": {
        "id": "V_B5U-_tKR6v"
      }
    },
    {
      "cell_type": "code",
      "source": [
        "# class QuestionAnsweringModel(keras.Model):\n",
        "\n",
        "#     def __init__(self, model_q, model_p):\n",
        "#         super().__init__()\n",
        "#         self.model_q = model_q\n",
        "#         self.model_p = model_p\n",
        "#         # The dot product + softmax is implemented as a Dense layer \n",
        "#         # with only 1 output and softmax activation\n",
        "#         self.dense_s = keras.layers.Dense(1, activation=tf.nn.softmax)\n",
        "#         self.dense_e = keras.layers.Dense(1, activation=tf.nn.softmax)\n",
        "#         self.dense_sel = keras.layers.Dense(1, activation=tf.nn.softmax)\n",
        "#         self.flatten = keras.layers.Flatten()\n",
        "#         # We always train on the same data so we save the training encodings\n",
        "#         self.train_encoding_dataset = train_paragraphs_encoding\n",
        "#         self.other_encoding_dataset = None\n",
        "\n",
        "#     def load_encoding_dataset(self, paragraphs_encoding):\n",
        "#         # REMEMBER: switch the dataset of paragraphs encoding\n",
        "#         # when moving from validation to test\n",
        "#         self.other_encoding_dataset = paragraphs_encoding\n",
        "\n",
        "#     def call(self, inputs, training=False):\n",
        "#         # 1) Obtain question representation\n",
        "#         qs = {\n",
        "#             'input_ids': inputs['questions']['input_ids'],\n",
        "#             'attention_mask': inputs['questions']['attention_mask']\n",
        "#         }\n",
        "#         q_repr = self.model_q(qs).last_hidden_state[:,0,:]\n",
        "#         if training:\n",
        "#             pass    # TODO\n",
        "#         else:\n",
        "#             # 2) Match with encodings\n",
        "#             scores = tf.tensordot(q_repr,\n",
        "#                 self.other_encoding_dataset.T, axes=1)\n",
        "#             # 3) Select top-100 indexes\n",
        "#             top100_indexes = tf.argsort(\n",
        "#                 scores, axis=1, direction='DESCENDING')[:, :100]\n",
        "            \n",
        "\n",
        "            \n",
        "\n",
        "\n",
        "#     def train_step(self, data):\n",
        "#         pass\n",
        "#         # x = data\n",
        "#         # y = tf.range(tf.shape(x['questions']['input_ids'])[0])\n",
        "#         # with tf.GradientTape() as tape:\n",
        "#         #     # Obtain similarities\n",
        "#         #     S = self(x, training=True)\n",
        "#         #     # Obtain loss value\n",
        "#         #     loss = self.compiled_loss(y, S)\n",
        "#         # # Construct gradients and apply them through the optimizer\n",
        "#         # gradients = tape.gradient(loss, self.trainable_variables)\n",
        "#         # self.optimizer.apply_gradients(zip(gradients, self.trainable_variables))\n",
        "#         # # Update and return metrics (specifically the one for the loss value).\n",
        "#         # self.compiled_metrics.update_state(y, S)\n",
        "#         # return {m.name: m.result() for m in self.metrics}\n",
        "\n",
        "#     def test_step(self, data):\n",
        "#         pass\n",
        "#         # x = data\n",
        "#         # y = tf.range(tf.shape(x['questions']['input_ids'])[0])\n",
        "#         # S = self(x, training=True) # We are not really training, but we have to obtain S\n",
        "#         # self.compiled_loss(y, S)\n",
        "#         # self.compiled_metrics.update_state(y, S)\n",
        "#         # return {m.name: m.result() for m in self.metrics}\n",
        "\n",
        "# def create_model(sample, freeze_layers_up_to=5):\n",
        "#     print(\"Creating BERT models...\")\n",
        "#     model_q, model_p =  TFDistilBertModel.from_pretrained('distilbert-base-uncased'), \\\n",
        "#                         TFDistilBertModel.from_pretrained('distilbert-base-uncased')\n",
        "\n",
        "#     # Freeze layers \n",
        "#     for i in range(freeze_layers_up_to): # layers 0 to variable are frozen, successive layers learn\n",
        "#         model_q.distilbert.transformer.layer[i].trainable = False\n",
        "#         model_p.distilbert.transformer.layer[i].trainable = False\n",
        "    \n",
        "#     print(\"Creating Dense Passage Retriever...\")\n",
        "#     model = DensePassageRetriever(model_q, model_p)\n",
        "\n",
        "#     print(\"Compiling...\")\n",
        "#     # Compile the model and loss\n",
        "#     model.compile(\n",
        "#         optimizer=keras.optimizers.Adam(learning_rate=3e-6),\n",
        "#         loss=keras.losses.SparseCategoricalCrossentropy(from_logits=True),\n",
        "#         metrics=[keras.metrics.SparseCategoricalAccuracy()]\n",
        "#     )\n",
        "\n",
        "#     print(\"Testing on some data...\")\n",
        "#     # Pass one batch of data to build the model\n",
        "#     model(sample)\n",
        "\n",
        "#     # Return the model\n",
        "#     print(\"Model created!\")\n",
        "#     return model"
      ],
      "metadata": {
        "id": "qs19PLwt-AOh"
      },
      "execution_count": null,
      "outputs": []
    }
  ],
  "metadata": {
    "colab": {
      "collapsed_sections": [],
      "name": "dense_passage_retriever.ipynb",
      "provenance": [],
      "toc_visible": true
    },
    "interpreter": {
      "hash": "8d3a38b9baf6bccb52d534d3795fadb5d3190627f4e5187a36a9129f48a6e143"
    },
    "kernelspec": {
      "display_name": "Python 3.7.11",
      "language": "python",
      "name": "python3"
    },
    "language_info": {
      "codemirror_mode": {
        "name": "ipython",
        "version": 3
      },
      "file_extension": ".py",
      "mimetype": "text/x-python",
      "name": "python",
      "nbconvert_exporter": "python",
      "pygments_lexer": "ipython3",
      "version": "3.7.12"
    },
    "orig_nbformat": 4,
    "accelerator": "GPU"
  },
  "nbformat": 4,
  "nbformat_minor": 0
}