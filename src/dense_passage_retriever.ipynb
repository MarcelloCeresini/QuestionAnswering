{
 "cells": [
  {
   "cell_type": "markdown",
   "metadata": {
    "colab_type": "text",
    "id": "view-in-github"
   },
   "source": [
    "<a href=\"https://colab.research.google.com/github/MarcelloCeresini/QuestionAnswering/blob/dpr_v2_lower_dim/src/dense_passage_retriever.ipynb\" target=\"_parent\"><img src=\"https://colab.research.google.com/assets/colab-badge.svg\" alt=\"Open In Colab\"/></a>"
   ]
  },
  {
   "cell_type": "code",
   "execution_count": 1,
   "metadata": {
    "colab": {
     "base_uri": "https://localhost:8080/"
    },
    "id": "8oZkaIoI1esj",
    "outputId": "8223e2cc-135c-46c9-860f-503c8a04eacc"
   },
   "outputs": [],
   "source": [
    "username = 'MarcelloCeresini'\n",
    "repository = 'QuestionAnswering'\n",
    "\n",
    "# COLAB ONLY CELLS\n",
    "try:\n",
    "    import google.colab\n",
    "    IN_COLAB = True\n",
    "    !pip3 install transformers\n",
    "    !git clone https://www.github.com/{username}/{repository}.git\n",
    "    #from google.colab import drive\n",
    "    #drive.mount('/content/drive/')\n",
    "    %cd /content/QuestionAnswering/src\n",
    "    using_TPU = True    # If we are running this notebook on Colab, use a TPU\n",
    "except:\n",
    "    IN_COLAB = False\n",
    "    using_TPU = False   # If you're not on Colab you probably won't have access to a TPU"
   ]
  },
  {
   "cell_type": "markdown",
   "metadata": {
    "id": "nmXDnbCt1ess"
   },
   "source": [
    "# Description"
   ]
  },
  {
   "cell_type": "markdown",
   "metadata": {
    "id": "4tIdZRSl1esu"
   },
   "source": [
    "In this notebook, we will try to implement the architecture detailed in [Dense Passage Retrieval for Open-Domain Question Answering](https://arxiv.org/pdf/2004.04906.pdf). \n",
    "\n",
    "The idea is that we have a corpus of documents $C = {p_1, p_2, \\dots, p_M}$ where each passage $p_i$ can be viewed as a sequence of tokens $w_1^{(i)}, w_2^{(i)}, \\dots, w_{|p_i|}^{(i)}$ and given a question $q$ we want to find the sequence of tokens $w_s^{(i)}, w_{s+1}^{(i)}, \\dots, w_{e}^{(i)}$ from one of the passage $i$ that can answer the question.\n",
    "\n",
    "In order to find the passage $i$ we need an efficient **Retriever** (i.e. a function $R: (q, C) \\rightarrow C_F$ where $C_F$ is a very small set of $k$ documents that have a high correlation with the query.)\n",
    "\n",
    "In the Tf-Idf example, the retriever was simply a function that returned the top 5 scores obtained by computing the vector cosine similarity between the query and all other documents. The problem with this approach is that it is not very efficient. Tf-Idf is a **sparse** document/query representation, thus computing a multitude of dot products between these very long vectors can be expensive.\n",
    "\n",
    "The paper cited above proposes a **dense** representation instead. It uses a Dense Encoder $E_P$ which maps all paragraphs to $d$-dimensional vectors. These vectors are stored in a database so that they can be efficiently retrieved. \n",
    "\n",
    "At run-time, another Dense Encoder is used $E_Q$ which maps the input question to a vector with the same dimensionality $d$. Then, a similarity score is computed between the two representations:\n",
    "\n",
    "$sim(p,q) = E_Q(q)^\\intercal E_P(p)$\n",
    "\n",
    "In the paper, $E_Q$ and $E_P$ are two independent BERT transformers and the $d$-dimensional vector is the **output at the $\\texttt{[CLS]}$ token** (so, $d = 768$).\n",
    "- This leaves open the possibility to use a larger dimensionality (eg. concatenating the output at multiple blocks like we did for the QA task).\n",
    "\n",
    "The $d$-dimensional representations of the $M$ passages are indexed using [FAISS](https://github.com/facebookresearch/faiss), an efficient, open-source library for similarity search and clustering of dense vectors developed at Facebook AI. At run-time, we simply compute $v_q = E_Q(q)$ and retrieve the top $k$ passages with embeddings closest to $v_q$.\n",
    "\n",
    "In this case, training the network means solving a **metric learning** problem: the two BERT networks need to learn an **effective vector space** such that relevant pairs of questions and passages are close, while irrelevant pairs are placed further away. In this problem we usually build a **training instance $D$** as ${(q_i, p_i^+, p_{i,1}^-, p_{i,2}^-, \\dots, p_{i,n}^-)}^m_{i=1}$, where question $q$ is paired with a relevant (positive) passage $p_i^+$ and $n$ irrelevant (negative) passages. Then, the loss function is the negative log-likelihood of the positive passage:\n",
    "\n",
    "$L(q_i, p_i^+, p_{i,1}^-, p_{i,2}^-, \\dots, p_{i,n}^-) = -\\log\\frac{e^{sim(q_i, p_i^+)}}{e^{sim(q_i, p_i^+)} + \\sum_{j=1}^n e^{sim(q_i, p_{i,j}^-)}}$\n",
    "\n",
    "It's easy to find the positive paragraph, but choosing the negatives is quite important. In particular, the paper proposes different ways for sampling the negatives:\n",
    "- Random: a negative is any random passage in the corpus\n",
    "- TF-IDF (The paper uses a variant, BM25): the negatives are the top passages (not containing the answer) returned by a TF-IDF search\n",
    "- Gold: the negatives are positives for other questions in the mini-batch. For the researchers, this is the best negative-mining option, because it's the most efficient and also it makes a batch a complete unit of learning (we learn the relationship that each question in the batch has with the other paragraphs).\n",
    "\n",
    "The Gold method allows the **in-batch negatives** technique: assuming to have a batch size of $B$, then we collect two $B \\times d$ matrices (one for questions, one for their positive paragraphs). Then, we compute $S = QP^\\intercal$ which is a $B \\times B$ matrix of **similarity scored** between each question and paragraph. This matrix can directly be used for training: any ($q_i, p_j$) pais where $i = j$ is considered to be a positive example, while it's negative otherwise. In total there will be $B$ training instances per batch, each with $B-1$ negative passages. "
   ]
  },
  {
   "cell_type": "markdown",
   "metadata": {
    "id": "7s1cbEuy1es4"
   },
   "source": [
    "# Configuration"
   ]
  },
  {
   "cell_type": "markdown",
   "metadata": {
    "id": "Pm45AN-fDEiv"
   },
   "source": [
    "## Imports"
   ]
  },
  {
   "cell_type": "code",
   "execution_count": 2,
   "metadata": {
    "id": "8CBcRCvCCpzg"
   },
   "outputs": [],
   "source": [
    "import os\n",
    "import numpy as np\n",
    "import random\n",
    "from tqdm import tqdm\n",
    "from functools import partial\n",
    "tqdm = partial(tqdm, position=0, leave=True)\n",
    "import tensorflow as tf\n",
    "from tensorflow import keras\n",
    "from tensorflow.keras import layers\n",
    "from tensorflow.keras.utils import Sequence\n",
    "from typing import List, Union, Dict, Tuple\n",
    "from transformers import BertTokenizerFast, DistilBertTokenizerFast, \\\n",
    "                         TFBertModel, TFDistilBertModel\n",
    "import utils\n",
    "\n",
    "RANDOM_SEED = 42\n",
    "BERT_DIMENSIONALITY = 240 # otherwise it becomes impossible to store the BERT representations of the paragraphs in our system\n",
    "\n",
    "np.random.seed(RANDOM_SEED)\n",
    "random.seed(RANDOM_SEED)\n",
    "tf.random.set_seed(RANDOM_SEED)"
   ]
  },
  {
   "cell_type": "markdown",
   "metadata": {
    "id": "K7Ih1ZqSDCmW"
   },
   "source": [
    "### TPU check\n",
    "The training could be made faster if we use the cloud GPUs offered by Google on Google Colab. Since TPUs require manual intialization and other oddities, we check multiple times throughout the notebook what kind of hardware we are running the code on.\n",
    "using_TPU = True\n"
   ]
  },
  {
   "cell_type": "code",
   "execution_count": 3,
   "metadata": {
    "colab": {
     "base_uri": "https://localhost:8080/"
    },
    "id": "iyt5e89MCm4X",
    "outputId": "9e12a8cb-abc0-4fed-8759-b0106abc244e"
   },
   "outputs": [
    {
     "name": "stdout",
     "output_type": "stream",
     "text": [
      "Num GPUs Available:  1\n"
     ]
    }
   ],
   "source": [
    "if using_TPU:\n",
    "    try: \n",
    "        resolver = tf.distribute.cluster_resolver.TPUClusterResolver(tpu='')\n",
    "        tf.config.experimental_connect_to_cluster(resolver)\n",
    "        # This is the TPU initialization code that has to be at the beginning.\n",
    "        tf.tpu.experimental.initialize_tpu_system(resolver)\n",
    "        print(\"All devices: \", tf.config.list_logical_devices('TPU'))\n",
    "        strategy = tf.distribute.TPUStrategy(resolver)\n",
    "    except:\n",
    "        print(\"TPUs are not available, setting flag 'using_TPU' to False.\")\n",
    "        using_TPU = False\n",
    "else:\n",
    "    print(\"Num GPUs Available: \", len(tf.config.list_physical_devices('GPU')))"
   ]
  },
  {
   "cell_type": "code",
   "execution_count": 4,
   "metadata": {
    "colab": {
     "base_uri": "https://localhost:8080/"
    },
    "id": "jDjUKQxol1lS",
    "outputId": "a1640bf9-a7af-4daf-b708-1cf87d8d57ed"
   },
   "outputs": [],
   "source": [
    "if IN_COLAB:\n",
    "    from google.colab import drive\n",
    "    drive.mount('/content/drive/')\n",
    "    checkpoint_dir = '/content/drive/My Drive/Uni/Magistrale/NLP/Project/weights/training_dpr/'\n",
    "    datasets_dir = '/content/drive/My Drive/Uni/Magistrale/NLP/Project/datasets/dpr/'\n",
    "else:\n",
    "    # Create the folder where we'll save the weights of the model\n",
    "    checkpoint_dir = os.path.join(\"data\", \"training_dpr\")\n",
    "    datasets_dir = os.path.join(\"data\", \"training_dpr\", \"dataset\")\n",
    "\n",
    "os.makedirs(checkpoint_dir, exist_ok=True)\n",
    "os.makedirs(datasets_dir, exist_ok=True)"
   ]
  },
  {
   "cell_type": "markdown",
   "metadata": {
    "id": "vVHmkEeC2kuf"
   },
   "source": [
    "## Allowed operations"
   ]
  },
  {
   "cell_type": "code",
   "execution_count": 30,
   "metadata": {
    "id": "QSfXDW2g2sAr"
   },
   "outputs": [],
   "source": [
    "OVERWRITE_DATASETS = False      # Best to be run on GPU, takes about half an hour.\n",
    "                                # It saves a new copy of the pre-tokenized\n",
    "                                # question-paragraph pair on Google Drive.\n",
    "                                # The copy should then be uploaded to GCloud into\n",
    "                                # the bucket allocated for the project to be used by\n",
    "                                # TPUs.\n",
    "\n",
    "DO_TRAINING = False              # Best to be run on TPU, takes about 2 hours.\n",
    "                                # It trains the model and saves a copy of the initial\n",
    "                                # and last weights on Google Drive. When run on GPU\n",
    "                                # It also saves checkpoints and Tensorboard data,\n",
    "                                # but it takes over 4 hours to do a single epoch,\n",
    "                                # so it's impossible to run it on Colab.\n",
    "\n",
    "OVERRIDE_REPRESENTATIONS = True  # Best to be run on GPU, it takes about 30 minutes.\n",
    "                                 # It produces representations of all paragraphs\n",
    "                                 # using the trained model_p as a large NumPy array\n",
    "                                 # that is stored on Google Drive at the end.\n",
    "\n",
    "RUN_ACCURACY_ANALYSIS = True    # Best to be run on GPU, takes about an hour\n",
    "                                # It analyzes the paragraph retrieval capability\n",
    "                                # of the model with top-1 and top-5 accuracy.\n",
    "\n",
    "DO_QA_TRAINING = False          # Best to be run on TPU, takes more than 2 hours.\n",
    "                                # See DO_TRAINING."
   ]
  },
  {
   "cell_type": "markdown",
   "metadata": {
    "id": "eAv3n12tDIAo"
   },
   "source": [
    "## Variables"
   ]
  },
  {
   "cell_type": "markdown",
   "metadata": {
    "id": "d8piWcupDOPR"
   },
   "source": [
    "We define all the paths."
   ]
  },
  {
   "cell_type": "code",
   "execution_count": 6,
   "metadata": {
    "id": "On3I2PUgCwNF"
   },
   "outputs": [],
   "source": [
    "ROOT_PATH = os.path.dirname(os.getcwd())\n",
    "TRAINING_FILE = os.path.join(ROOT_PATH, 'data', 'training_set.json')\n",
    "VALIDATION_FILE = os.path.join(ROOT_PATH, 'data', 'validation_set.json')\n",
    "TEST_FILE = os.path.join(ROOT_PATH, 'data', 'dev_set.json')"
   ]
  },
  {
   "cell_type": "markdown",
   "metadata": {
    "id": "YLC6xwfKDSAN"
   },
   "source": [
    "We collect the training and validation questions into different lists. Paragraphs are collected together into a single, unified pool."
   ]
  },
  {
   "cell_type": "code",
   "execution_count": 7,
   "metadata": {
    "id": "1zdDCsLZDMkm"
   },
   "outputs": [],
   "source": [
    "train_dict = utils.read_question_set(TRAINING_FILE)\n",
    "val_dict = utils.read_question_set(VALIDATION_FILE)\n",
    "\n",
    "def get_questions_and_paragraphs_from_dataset(dataset):\n",
    "    questions = [{\n",
    "            'qas': qas,\n",
    "            'context_id': (i,j)    # We also track the question's original context and paragraph indices so to have a ground truth\n",
    "        }\n",
    "        for i in range(len(dataset['data']))\n",
    "        for j, para in enumerate(dataset['data'][i]['paragraphs'])\n",
    "        for qas in para['qas']\n",
    "    ]\n",
    "\n",
    "    paragraphs = [{\n",
    "            'context': para['context'],\n",
    "            'context_id': (i,j)\n",
    "        }\n",
    "        for i in range(len(dataset['data']))\n",
    "        for j, para in enumerate(dataset['data'][i]['paragraphs'])\n",
    "    ]\n",
    "\n",
    "    for i in range(len(questions)):\n",
    "        questions[i]['global_id'] = i\n",
    "\n",
    "    return questions, paragraphs\n",
    "\n",
    "\n",
    "def make_paragraph_pool(train_p, val_p):\n",
    "    paragraphs = train_p + val_p\n",
    "    for i in range(len(paragraphs)):\n",
    "        paragraphs[i]['global_id'] = i\n",
    "    for i in range(len(train_p)):\n",
    "        paragraphs[i]['from_set'] = 'train' \n",
    "    for i in range(len(train_p), len(train_p) + len(val_p)):\n",
    "        paragraphs[i]['from_set'] = 'val' \n",
    "    return paragraphs\n",
    "\n",
    "train_questions, train_paragraphs = get_questions_and_paragraphs_from_dataset(train_dict)\n",
    "val_questions, val_paragraphs = get_questions_and_paragraphs_from_dataset(val_dict)\n",
    "paragraphs = make_paragraph_pool(train_paragraphs, val_paragraphs)"
   ]
  },
  {
   "cell_type": "markdown",
   "metadata": {
    "id": "fvGAqUBvDbIg"
   },
   "source": [
    "We create the two different DistilBert models for encoding and test them on a random question/paragraph."
   ]
  },
  {
   "cell_type": "code",
   "execution_count": 8,
   "metadata": {
    "colab": {
     "base_uri": "https://localhost:8080/",
     "height": 371,
     "referenced_widgets": [
      "d922006c7beb461db6ca5f09837f100c",
      "c046fdc704844307a24bf63a90106a39",
      "dd4b7a42411c4468bd3a286359d87898",
      "718c8209da524e299d7f7217efeebae1",
      "d9a7f773c79841e09b23a70f3dce5f3d",
      "2acb3dc386044c9196ec6b2169607883",
      "7cdb6d43aef34b4d8637315681fd87fa",
      "2050a44993f24997920d540e1fe20c29",
      "4767ff8f74b046d6b596718b5c3cbaf9",
      "ff5782c53edb41719efe7be4c9c9163f",
      "af011dde1eb14a27aee289ce846230b0",
      "251ca56eb0a34797a4cdbc03cd69a4d5",
      "731db3a2ea1c46d38da3877b3e06380e",
      "bab2ea94301d4877ad320124f2417390",
      "6b7105f611db4731a002027f515dd3de",
      "cfa23da7945145d08fe253e4504d68b8",
      "7e7f79c0f3044452b1c7914d18b4a0ad",
      "6a59c67f1e7a49bdb04de7696e371cb3",
      "dd83641538d24610969ab498a7d2fa9b",
      "ca80801d21504a6da8a81189ef352ab5",
      "89a3f8ab7a784f82848622295c35d103",
      "6b5184d0bced4fb0bb6c683a15e8c72a",
      "97811a5510e04d6f80f78349af33104a",
      "09f2b409bafd4b1ea541d4eb6c9eb90a",
      "fb0b949573c24eb7898efba6547375d6",
      "abf69e4d64c74e06b940fe876cacb620",
      "8a560e0afb894e86ae50d0073d807a39",
      "b9bb21fd93654d5e8347b78a71b6240e",
      "de90f7a1d9304dcc968031e2577cc5f6",
      "7842392242d747c28ff250c1f480ea81",
      "cb6fc8935a1a4d0b9c96b8e53fd4def1",
      "adc1fe162d494cab9093e11515003370",
      "7c4de7dd902a4eb28583185a2ead2087",
      "7d09df23fc714d8db8b9bbf0e16bb8dd",
      "1dee67fe311042ba93397b589496a249",
      "ada87120c122422db11b1dca822a148a",
      "a5b7e24fad334b489e0f94026c8b6124",
      "9fe366dff9ea48d4b75636ed0a046007",
      "46fbd4324ea541dcbbd8d7099c6a2855",
      "e62ef7d4513f4360b802602bdd549a38",
      "0924f87b11a746ddb47ab7c04ff6a00d",
      "e77f0e4ff90643c6b81309f28c1e736f",
      "b52231374aa240c6a5f007d70bd7a854",
      "b94a57eb641d476890c126cc34fa2549",
      "52fd40dc559647508ae234f56eb7c2b0",
      "f6a8d1a6b30a44a189c22b6512a124e8",
      "90346f08361947f9b3d9a02e57699f71",
      "cd90708906dd44e6813b8d247047696d",
      "38f584f7b21d4632a58fe8a76fdbe8fb",
      "dbc605143d284f609db16f7b5b91e7f7",
      "141bbc8726de412393f276e42cddc98a",
      "a6acaf5533ad44a797f2441a223598ee",
      "0eec18d9434245fdba77dbcc33bda84d",
      "5aa715c564a84e7281afdc822bf04d94",
      "0f7a56c2a52c48c6b4a045f087833201"
     ]
    },
    "id": "1XI6YUBZDit8",
    "outputId": "6ef7a82a-7afb-4950-a97d-1706b574cf33"
   },
   "outputs": [
    {
     "name": "stderr",
     "output_type": "stream",
     "text": [
      "Some layers from the model checkpoint at distilbert-base-uncased were not used when initializing TFDistilBertModel: ['activation_13', 'vocab_layer_norm', 'vocab_projector', 'vocab_transform']\n",
      "- This IS expected if you are initializing TFDistilBertModel from the checkpoint of a model trained on another task or with another architecture (e.g. initializing a BertForSequenceClassification model from a BertForPreTraining model).\n",
      "- This IS NOT expected if you are initializing TFDistilBertModel from the checkpoint of a model that you expect to be exactly identical (initializing a BertForSequenceClassification model from a BertForSequenceClassification model).\n",
      "All the layers of TFDistilBertModel were initialized from the model checkpoint at distilbert-base-uncased.\n",
      "If your task is similar to the task the model of the checkpoint was trained on, you can already use TFDistilBertModel for predictions without further training.\n",
      "Some layers from the model checkpoint at distilbert-base-uncased were not used when initializing TFDistilBertModel: ['activation_13', 'vocab_layer_norm', 'vocab_projector', 'vocab_transform']\n",
      "- This IS expected if you are initializing TFDistilBertModel from the checkpoint of a model trained on another task or with another architecture (e.g. initializing a BertForSequenceClassification model from a BertForPreTraining model).\n",
      "- This IS NOT expected if you are initializing TFDistilBertModel from the checkpoint of a model that you expect to be exactly identical (initializing a BertForSequenceClassification model from a BertForSequenceClassification model).\n",
      "All the layers of TFDistilBertModel were initialized from the model checkpoint at distilbert-base-uncased.\n",
      "If your task is similar to the task the model of the checkpoint was trained on, you can already use TFDistilBertModel for predictions without further training.\n"
     ]
    }
   ],
   "source": [
    "tokenizer_distilbert = DistilBertTokenizerFast.from_pretrained('distilbert-base-uncased')\n",
    "model_q, model_p = TFDistilBertModel.from_pretrained('distilbert-base-uncased'), \\\n",
    "                   TFDistilBertModel.from_pretrained('distilbert-base-uncased')"
   ]
  },
  {
   "cell_type": "markdown",
   "metadata": {
    "id": "QFP6H-ok1jyN"
   },
   "source": [
    "What is the ideal maximum length of a sequence of tokens?"
   ]
  },
  {
   "cell_type": "code",
   "execution_count": 9,
   "metadata": {
    "colab": {
     "base_uri": "https://localhost:8080/"
    },
    "id": "RFfkIhW-1i8P",
    "outputId": "e61deaf2-29b7-4703-e4ab-c71798273b8a"
   },
   "outputs": [
    {
     "name": "stderr",
     "output_type": "stream",
     "text": [
      "  2%|█▏                                                            | 457/23817 [00:00<00:10, 2308.15it/s]Token indices sequence length is longer than the specified maximum sequence length for this model (720 > 512). Running this sequence through the model will result in indexing errors\n",
      "100%|████████████████████████████████████████████████████████████| 23817/23817 [00:09<00:00, 2389.83it/s]\n"
     ]
    }
   ],
   "source": [
    "lens = []\n",
    "for paragraph in tqdm(paragraphs):\n",
    "    emb = tokenizer_distilbert(paragraph['context'], return_tensors='np')\n",
    "    tokens = emb['attention_mask'].shape[1]\n",
    "    lens.append(tokens)"
   ]
  },
  {
   "cell_type": "code",
   "execution_count": 10,
   "metadata": {
    "colab": {
     "base_uri": "https://localhost:8080/"
    },
    "id": "k3AYesH33TWp",
    "outputId": "8aedcbcb-7330-48c6-d071-98eeb5b888c0"
   },
   "outputs": [
    {
     "name": "stdout",
     "output_type": "stream",
     "text": [
      "Total n. of paragraphs: 23817\n",
      "Only 306 are truncated when using 350 max tokens (1.284796573875803%)\n",
      "Only 264 are truncated when using 360 max tokens (1.1084519460889282%)\n",
      "Only 228 are truncated when using 370 max tokens (0.9572994079858924%)\n",
      "Only 201 are truncated when using 380 max tokens (0.8439350044086157%)\n",
      "Only 170 are truncated when using 390 max tokens (0.7137758743754461%)\n",
      "Only 144 are truncated when using 400 max tokens (0.6046101524121426%)\n",
      "Only 120 are truncated when using 410 max tokens (0.5038417936767855%)\n",
      "Only 104 are truncated when using 420 max tokens (0.4366628878532141%)\n",
      "Only 86 are truncated when using 430 max tokens (0.36108661880169624%)\n",
      "Only 75 are truncated when using 440 max tokens (0.31490112104799095%)\n",
      "Only 63 are truncated when using 450 max tokens (0.26451694168031237%)\n",
      "Only 52 are truncated when using 460 max tokens (0.21833144392660706%)\n",
      "Only 42 are truncated when using 470 max tokens (0.17634462778687493%)\n",
      "Only 37 are truncated when using 480 max tokens (0.15535121971700885%)\n",
      "Only 30 are truncated when using 490 max tokens (0.12596044841919637%)\n"
     ]
    }
   ],
   "source": [
    "print(f\"Total n. of paragraphs: {len(paragraphs)}\")\n",
    "for i in range(350, 500, 10):\n",
    "    print(f\"Only {np.sum(np.asarray(lens) > i)} are truncated when using {i} max tokens ({np.sum(np.asarray(lens) > i) / len(paragraphs)*100}%)\")"
   ]
  },
  {
   "cell_type": "markdown",
   "metadata": {
    "id": "t80p88uc5493"
   },
   "source": [
    "We can choose to truncate sequences at 400 tokens to reduce memory consumption.\n",
    "\n",
    "Furthermore, we reduce the dimensionality of DistilBert's output to 240 (instead of the default of 768)."
   ]
  },
  {
   "cell_type": "code",
   "execution_count": 11,
   "metadata": {
    "id": "8GSRnaQpJOqB"
   },
   "outputs": [],
   "source": [
    "class ReducedDistilBertModel(keras.Model):\n",
    "    def __init__(self, distilbert_model):\n",
    "        super(ReducedDistilBertModel, self).__init__()\n",
    "        self.distilbert_model = distilbert_model\n",
    "        self.reduction_layer = keras.layers.Dense(BERT_DIMENSIONALITY, \n",
    "                                                  activation='gelu')\n",
    "        \n",
    "    def call(self, inputs):\n",
    "        hidden_state = self.distilbert_model(inputs).last_hidden_state\n",
    "        # We introduce a dense layer that simply reduces the dimensionality of distilbert\n",
    "        return self.reduction_layer(hidden_state)\n",
    "\n",
    "model_q = ReducedDistilBertModel(model_q)\n",
    "model_p = ReducedDistilBertModel(model_p)"
   ]
  },
  {
   "cell_type": "code",
   "execution_count": 12,
   "metadata": {
    "colab": {
     "base_uri": "https://localhost:8080/"
    },
    "id": "EcCbC-Vi1es5",
    "outputId": "b262b290-a745-4f2f-d57a-f3a9c052cf72"
   },
   "outputs": [
    {
     "name": "stdout",
     "output_type": "stream",
     "text": [
      "Testing on a simple question. \n",
      "Question: To whom did the Virgin Mary allegedly appear in 1858 in Lourdes France?\n",
      "Representation dimensionality: (240,)\n"
     ]
    }
   ],
   "source": [
    "test_question = train_questions[0]['qas']['question']\n",
    "print(f\"Testing on a simple question. \\nQuestion: {test_question}\")\n",
    "inputs_test = tokenizer_distilbert(test_question, return_tensors=\"tf\")\n",
    "outputs = model_q(inputs_test)\n",
    "\n",
    "# As a representation of the token we use the last hidden state at the [CLS] token (the first one)\n",
    "test_q_repr = outputs[0,0,:]\n",
    "print(f\"Representation dimensionality: {test_q_repr.shape}\")"
   ]
  },
  {
   "cell_type": "markdown",
   "metadata": {
    "id": "l_lPiEZu1es9"
   },
   "source": [
    "# Encoders Training"
   ]
  },
  {
   "cell_type": "markdown",
   "metadata": {
    "id": "v7qavEm61es-"
   },
   "source": [
    "First of all, we need to train our models. To do that, we need to create a dataset that feeds batches of questions and positive and negative paragraphs to a model, which is used to compute the representations, then the similarities and to correct the learnt distributions from the encoder models."
   ]
  },
  {
   "cell_type": "markdown",
   "metadata": {
    "id": "tCYkx8rf1es_"
   },
   "source": [
    "## Dataset creation"
   ]
  },
  {
   "cell_type": "markdown",
   "metadata": {
    "id": "hynvz3Gw1etA"
   },
   "source": [
    "For the dataset, we use the `tf.data.Dataset` API. In particular, we first create the dataset in a `.proto` file which contains all the information in a byte format. The file is then uploaded on Google Cloud, where it can easily be accessed all future times. This is the only working way to have a large dataset accessible from the TPU."
   ]
  },
  {
   "cell_type": "code",
   "execution_count": 13,
   "metadata": {
    "colab": {
     "base_uri": "https://localhost:8080/"
    },
    "id": "OaBWVf5k1etB",
    "outputId": "f3e13838-bfad-4138-daef-7ad2a9be2df8"
   },
   "outputs": [
    {
     "name": "stdout",
     "output_type": "stream",
     "text": [
      "Loading train_v3 dataset from GCS (gs://volpepe-nlp-project-squad-datasets/train_v3.proto).\n",
      "Loading val_v3 dataset from GCS (gs://volpepe-nlp-project-squad-datasets/val_v3.proto).\n"
     ]
    }
   ],
   "source": [
    "BATCH_SIZE = 4 if not using_TPU else 64\n",
    "MAX_SEQ_LEN = 400\n",
    "\n",
    "def get_paragraph_from_question(qas, dataset):\n",
    "    i,j = qas['context_id']\n",
    "    return dataset['data'][i]['paragraphs'][j]\n",
    "\n",
    "def get_paragraph_global_id_from_question(question, paragraphs):\n",
    "    for p in paragraphs:\n",
    "        if p['context_id'] == question['context_id']:\n",
    "            return p['global_id']\n",
    "\n",
    "def pre_tokenize_data(questions, dataset, tokenizer):\n",
    "    tokenized_questions = [\n",
    "        dict(tokenizer(questions[i]['qas']['question'], \n",
    "            max_length = MAX_SEQ_LEN, truncation = True, \n",
    "            padding = 'max_length'))\n",
    "    for i in tqdm(range(len(questions)))]\n",
    "    tokenized_paragraphs = [\n",
    "        dict(tokenizer(get_paragraph_from_question(\n",
    "                    questions[i], dataset\n",
    "                )['context'], max_length = MAX_SEQ_LEN, \n",
    "            truncation = True, padding = 'max_length',\n",
    "            return_offsets_mapping = True))\n",
    "    for i in tqdm(range(len(questions)))]\n",
    "    return tokenized_questions, tokenized_paragraphs\n",
    "\n",
    "def find_start_end_token_one_hot_encoded(\n",
    "    answers: Dict, \n",
    "    offsets: List[Tuple[int]]) -> Dict:\n",
    "    '''\n",
    "    This function returns the starting and ending token of the answer, \n",
    "    already one hot encoded and ready for binary crossentropy.\n",
    "    Inputs:\n",
    "        - answers: `List[Dict]` --> for each question, a list of answers.\n",
    "            Each answer contains:\n",
    "            - `answer_start`: the index of the starting character\n",
    "            - `text`: the text of the answer, that we exploit through the \n",
    "                number of chars that it contains\n",
    "        - offsets: `List[Tuple[int]]` --> the tokenizer from HuggingFace \n",
    "            transforms the paragraph into a sequence of tokens. \n",
    "            Offsets keeps track of the character start and end indexes for each token.\n",
    "   \n",
    "    Output:\n",
    "        - result: `Dict` --> each key contains only one array, the one-hot \n",
    "            encoded version of, respectively, the start and end token of \n",
    "            the answer in the sentence (question+context)\n",
    "    '''\n",
    "    result = {\n",
    "        \"out_S\": np.zeros(len(offsets), dtype=np.int32),\n",
    "        \"out_E\": np.zeros(len(offsets), dtype=np.int32)\n",
    "    } \n",
    "    for answer in answers:\n",
    "        starting_char = answer['answer_start']\n",
    "        answer_len = len(answer['text'])\n",
    "        # We skip the first token, [CLS], that has (0,0) as a tuple\n",
    "        for i in range(1, len(offsets)):\n",
    "            # Check if starting char is within the indexes\n",
    "            if (starting_char >= offsets[i][0]) and \\\n",
    "                (starting_char <= offsets[i][1]):\n",
    "                result[\"out_S\"][i] += 1\n",
    "            # If the ending char (starting + length -1) is in the interval, \n",
    "            # same as above.\n",
    "            if (starting_char + answer_len - 1 >= offsets[i][0]) and \\\n",
    "                (starting_char + answer_len - 1 < offsets[i][1]):\n",
    "                result[\"out_E\"][i] += 1\n",
    "                break\n",
    "    return result\n",
    "\n",
    "def decode_fn(record_bytes):\n",
    "    example = tf.io.parse_single_example(\n",
    "      # Data\n",
    "      record_bytes,\n",
    "      # Schema\n",
    "      {\"question__input_ids\": tf.io.FixedLenFeature(shape=(MAX_SEQ_LEN,), dtype=tf.int64),\n",
    "       \"question__attention_mask\": tf.io.FixedLenFeature(shape=(MAX_SEQ_LEN,), dtype=tf.int64),\n",
    "       \"question__index\": tf.io.FixedLenFeature(shape=(), dtype=tf.int64),\n",
    "       \"answer__out_s\": tf.io.FixedLenFeature(shape=(MAX_SEQ_LEN,), dtype=tf.int64),\n",
    "       \"answer__out_e\": tf.io.FixedLenFeature(shape=(MAX_SEQ_LEN,), dtype=tf.int64),\n",
    "       \"paragraph__input_ids\": tf.io.FixedLenFeature(shape=(MAX_SEQ_LEN,), dtype=tf.int64),\n",
    "       \"paragraph__attention_mask\": tf.io.FixedLenFeature(shape=(MAX_SEQ_LEN,), dtype=tf.int64),\n",
    "       \"paragraph__tokens_s\": tf.io.FixedLenFeature(shape=(MAX_SEQ_LEN,), dtype=tf.int64),\n",
    "       \"paragraph__tokens_e\": tf.io.FixedLenFeature(shape=(MAX_SEQ_LEN,), dtype=tf.int64),\n",
    "       \"paragraph__index\": tf.io.FixedLenFeature(shape=(), dtype=tf.int64)})\n",
    "    return {\n",
    "      \"questions\": {'input_ids': example['question__input_ids'],\n",
    "                    'attention_mask': example['question__attention_mask'],\n",
    "                    'index': example['question__index']},\n",
    "      \"answers\":   {'out_s': example['answer__out_s'],\n",
    "                    'out_e': example['answer__out_e']},\n",
    "      \"paragraphs\":{'input_ids': example['paragraph__input_ids'],\n",
    "                    'attention_mask': example['paragraph__attention_mask'],\n",
    "                    'tokens_s': example['paragraph__tokens_s'],\n",
    "                    'tokens_e': example['paragraph__tokens_e'],\n",
    "                    'index': example['paragraph__index']}\n",
    "    }\n",
    "\n",
    "def create_dataset_from_records(questions, paragraphs, dataset, tokenizer, \n",
    "                                fn, batch_size=BATCH_SIZE, training=True):\n",
    "    # Pre-tokenize and write dataset on disk\n",
    "    filename = f'{fn}_v3.proto'\n",
    "    fn_type = filename.split(os.sep)[-1].replace('.proto','')\n",
    "    gcs_filename = f'gs://volpepe-nlp-project-squad-datasets/{fn_type}.proto'\n",
    "    if OVERWRITE_DATASETS:\n",
    "    #if not os.path.exists(filename) or OVERWRITE_DATASETS:\n",
    "        print(\"Pre-tokenizing data...\")\n",
    "        tok_questions, tok_paragraphs = pre_tokenize_data(questions, dataset, tokenizer)\n",
    "        assert len(tok_questions) == len(tok_paragraphs), \"Error while pre-tokenizing dataset\"\n",
    "        print(\"Preprocessing answers...\")\n",
    "        answer_tokens = [find_start_end_token_one_hot_encoded(\n",
    "            questions[i]['qas']['answers'], tok_paragraphs[i]['offset_mapping'])\n",
    "        for i in tqdm(range(len(questions)))]\n",
    "        print(\"Saving dataset on disk...\")\n",
    "        with tf.io.TFRecordWriter(filename) as file_writer:\n",
    "            for i in tqdm(range(len(tok_questions))):\n",
    "                record_bytes = tf.train.Example(features=tf.train.Features(feature={\n",
    "                    \"question__input_ids\": tf.train.Feature(int64_list=tf.train.Int64List(\n",
    "                            value=tok_questions[i][\"input_ids\"])),\n",
    "                    \"question__attention_mask\": tf.train.Feature(int64_list=tf.train.Int64List(\n",
    "                            value=tok_questions[i][\"attention_mask\"])),\n",
    "                    \"question__index\": tf.train.Feature(int64_list=tf.train.Int64List(\n",
    "                        value=[i])),\n",
    "                    \"answer__out_s\": tf.train.Feature(int64_list=tf.train.Int64List(\n",
    "                        value=answer_tokens[i][\"out_S\"])),\n",
    "                    \"answer__out_e\": tf.train.Feature(int64_list=tf.train.Int64List(\n",
    "                        value=answer_tokens[i][\"out_E\"])),\n",
    "                    \"paragraph__input_ids\": tf.train.Feature(int64_list=tf.train.Int64List(\n",
    "                        value=tok_paragraphs[i][\"input_ids\"])),\n",
    "                    \"paragraph__attention_mask\": tf.train.Feature(int64_list=tf.train.Int64List(\n",
    "                        value=tok_paragraphs[i][\"attention_mask\"])),\n",
    "                    \"paragraph__tokens_s\": tf.train.Feature(int64_list=tf.train.Int64List(\n",
    "                            value=[x[0] for x in tok_paragraphs[i][\"offset_mapping\"]])),\n",
    "                    \"paragraph__tokens_e\": tf.train.Feature(int64_list=tf.train.Int64List(\n",
    "                            value=[x[1] for x in tok_paragraphs[i][\"offset_mapping\"]])), \n",
    "                    \"paragraph__index\": tf.train.Feature(int64_list=tf.train.Int64List(\n",
    "                        value=[get_paragraph_global_id_from_question(questions[i], paragraphs)]))\n",
    "                    })).SerializeToString()\n",
    "                file_writer.write(record_bytes)\n",
    "        print(\"Upload the dataset on Google Cloud and re-run the function\")\n",
    "        return None\n",
    "    print(f\"Loading {fn_type} dataset from GCS ({gcs_filename}).\")\n",
    "    # Return it as processed dataset\n",
    "    dataset = tf.data.TFRecordDataset([gcs_filename]).map(decode_fn)\n",
    "    dataset = dataset.cache()\n",
    "    dataset = dataset.shuffle(10000)\n",
    "    dataset = dataset.prefetch(tf.data.AUTOTUNE)\n",
    "    dataset = dataset.apply(tf.data.experimental.assert_cardinality(len(questions)))\n",
    "    dataset = dataset.batch(batch_size)\n",
    "    return dataset\n",
    "\n",
    "### CREATE DATASETS ###\n",
    "# Valid for both TPU and GPU\n",
    "dataset_train = create_dataset_from_records(train_questions, paragraphs, train_dict, tokenizer_distilbert, \n",
    "                                            os.path.join(datasets_dir, 'train'))\n",
    "dataset_val = create_dataset_from_records(val_questions, paragraphs, val_dict, tokenizer_distilbert,\n",
    "                                            os.path.join(datasets_dir, 'val'), training=False)"
   ]
  },
  {
   "cell_type": "markdown",
   "metadata": {
    "id": "xAnwbiFU1etF"
   },
   "source": [
    "## Training pipeline"
   ]
  },
  {
   "cell_type": "markdown",
   "metadata": {
    "id": "52lwz19a1etG"
   },
   "source": [
    "First of all, we need a layer that takes as input the dictionary containing the tokenized questions and answers and returns their compact representations."
   ]
  },
  {
   "cell_type": "code",
   "execution_count": 14,
   "metadata": {
    "colab": {
     "base_uri": "https://localhost:8080/"
    },
    "id": "PjPUMwKk1etG",
    "outputId": "055fce23-b5cc-4967-a835-806b7b8b6416"
   },
   "outputs": [
    {
     "name": "stdout",
     "output_type": "stream",
     "text": [
      "Output shape when in training mode: (4, 240), (4, 240)\n",
      "Output shape when in testing mode: (4, 240)\n",
      "Output shape when dealing with a single question: (1, 240)\n"
     ]
    }
   ],
   "source": [
    "class DenseEncoder(layers.Layer):\n",
    "    def __init__(self, model_q, model_p):\n",
    "        super().__init__()\n",
    "        self.model_q = model_q  # Dense encoder for questions\n",
    "        self.model_p = model_p  # Dense encoder for paragraphs\n",
    "    \n",
    "    def call(self, inputs, training=False):\n",
    "        qs = {\n",
    "            'input_ids': inputs['questions']['input_ids'],\n",
    "            'attention_mask': inputs['questions']['attention_mask']\n",
    "        }\n",
    "        q_repr = self.model_q(qs)[:,0,:]\n",
    "        if training:\n",
    "            # Input contains the questions and paragraphs encoding\n",
    "            ps = {\n",
    "                'input_ids': inputs['paragraphs']['input_ids'],\n",
    "                'attention_mask': inputs['paragraphs']['attention_mask']\n",
    "            }\n",
    "            p_repr = self.model_p(ps)[:,0,:]\n",
    "            return q_repr, p_repr\n",
    "        else:\n",
    "            return q_repr\n",
    "\n",
    "# Small test for the layer\n",
    "class TestDenseEncoderModel(keras.Model):\n",
    "    def __init__(self, model_q, model_p):\n",
    "        super().__init__()\n",
    "        self.enc = DenseEncoder(model_q, model_p)\n",
    "\n",
    "    def call(self, inputs, training=False):\n",
    "        return self.enc(inputs, training=training)\n",
    "\n",
    "test_model = TestDenseEncoderModel(model_q, model_p)\n",
    "q_repr, p_repr = test_model(next(dataset_train.take(1).as_numpy_iterator()), training=True)\n",
    "print(f\"Output shape when in training mode: {q_repr.shape}, {p_repr.shape}\")\n",
    "q_repr_2 = test_model(next(dataset_train.take(1).as_numpy_iterator()), training=False)\n",
    "print(f\"Output shape when in testing mode: {q_repr_2.shape}\")\n",
    "q = tokenizer_distilbert(\n",
    "    train_questions[0]['qas']['question'], max_length = MAX_SEQ_LEN, \n",
    "    truncation = True, padding = 'max_length', return_tensors=\"tf\")\n",
    "q_repr_3 = test_model({'questions': q})\n",
    "print(f\"Output shape when dealing with a single question: {q_repr_3.shape}\")"
   ]
  },
  {
   "cell_type": "markdown",
   "metadata": {
    "id": "e4r1MfHP1etI"
   },
   "source": [
    "Once we have the representations, we should compute the similarities, thus obtaining a a full mini-batch of positive-negative examples. "
   ]
  },
  {
   "cell_type": "code",
   "execution_count": 15,
   "metadata": {
    "colab": {
     "base_uri": "https://localhost:8080/"
    },
    "id": "ZdG5bkWV2FU5",
    "outputId": "44bdb3c3-a605-476c-aed4-9292730e15ea"
   },
   "outputs": [
    {
     "data": {
      "text/plain": [
       "TensorShape([4, 4])"
      ]
     },
     "execution_count": 15,
     "metadata": {},
     "output_type": "execute_result"
    }
   ],
   "source": [
    "# Create the similarity matrix\n",
    "S = tf.tensordot(q_repr, tf.transpose(p_repr), axes=1)\n",
    "S.shape"
   ]
  },
  {
   "cell_type": "markdown",
   "metadata": {
    "id": "qEPy1ug1__n0"
   },
   "source": [
    "This similarity matrix has the following meaning:\n",
    "- Rows represent questions.\n",
    "- Each row contains the similarity that the respective question has with the 16 paragraphs (one of them is the positive one, the others are negative)\n",
    "\n",
    "In the paper, they refer to the loss as a *minimization of the negative log-likelihood of the positive passage*: what it really means is that we need to transform similarities to probabilities and use a categorical cross-entropy loss, where labels are the row index (which is also the column index in that row for the positive passage)"
   ]
  },
  {
   "cell_type": "code",
   "execution_count": 16,
   "metadata": {
    "colab": {
     "base_uri": "https://localhost:8080/"
    },
    "id": "J_aJezqWCKsw",
    "outputId": "645a7e08-77c5-43f9-8056-d27ce9f0c221"
   },
   "outputs": [
    {
     "data": {
      "text/plain": [
       "1.2814636"
      ]
     },
     "execution_count": 16,
     "metadata": {},
     "output_type": "execute_result"
    }
   ],
   "source": [
    "loss = tf.keras.losses.SparseCategoricalCrossentropy(\n",
    "    from_logits=True\n",
    ")\n",
    "loss(y_true=tf.range(BATCH_SIZE), y_pred=S).numpy()"
   ]
  },
  {
   "cell_type": "markdown",
   "metadata": {
    "id": "BnidWQLZDwsf"
   },
   "source": [
    "The loss seems to be quite high for this batch. We can study it with a confusion matrix."
   ]
  },
  {
   "cell_type": "code",
   "execution_count": 17,
   "metadata": {
    "id": "Vdgc2-gQD1PP"
   },
   "outputs": [
    {
     "data": {
      "image/png": "[encoded data removed]",
      "text/plain": [
       "<Figure size 432x288 with 2 Axes>"
      ]
     },
     "metadata": {
      "needs_background": "light"
     },
     "output_type": "display_data"
    }
   ],
   "source": [
    "from sklearn.metrics import ConfusionMatrixDisplay\n",
    "\n",
    "if not using_TPU: # Otherwise the batch size is HUGE\n",
    "    S_arr = S.numpy()\n",
    "    ConfusionMatrixDisplay.from_predictions(\n",
    "        y_true=np.arange(BATCH_SIZE), y_pred=np.argmax(S_arr, axis=1))"
   ]
  },
  {
   "cell_type": "markdown",
   "metadata": {
    "id": "pQwdzlTfEsH4"
   },
   "source": [
    "Indeed, ideally the predictions should be on the diagonal. This means that the \"default\" space for this metric learning problem is not that good. We are ready to learn a new representation distribution."
   ]
  },
  {
   "cell_type": "markdown",
   "metadata": {
    "id": "gOOLMK5mIMPc"
   },
   "source": [
    "## Model definition"
   ]
  },
  {
   "cell_type": "code",
   "execution_count": 18,
   "metadata": {
    "id": "nme0koNHE76t"
   },
   "outputs": [],
   "source": [
    "class DeepQPEncoder(keras.Model):\n",
    "\n",
    "    def __init__(self, model_q, model_p):\n",
    "        super().__init__()\n",
    "        self.enc = DenseEncoder(model_q, model_p)\n",
    "\n",
    "    def call(self, inputs, training=False):\n",
    "        if training:\n",
    "            # For training we return the similarity matrix\n",
    "            repr_q, repr_p = self.enc(inputs, training=training)\n",
    "            S = tf.tensordot(repr_q, tf.transpose(repr_p), axes=1)\n",
    "            return S\n",
    "        else:\n",
    "            # In other cases, we return the representation of the question(s)\n",
    "            repr_q = self.enc(inputs, training=training)            \n",
    "            return repr_q\n",
    "\n",
    "    def train_step(self, data):\n",
    "        x = data\n",
    "        y = tf.range(tf.shape(x['questions']['input_ids'])[0])\n",
    "        with tf.GradientTape() as tape:\n",
    "            # Obtain similarities\n",
    "            S = self(x, training=True)\n",
    "            # Obtain loss value\n",
    "            loss = self.compiled_loss(y, S)\n",
    "        # Construct gradients and apply them through the optimizer\n",
    "        gradients = tape.gradient(loss, self.trainable_variables)\n",
    "        self.optimizer.apply_gradients(zip(gradients, self.trainable_variables))\n",
    "        # Update and return metrics (specifically the one for the loss value).\n",
    "        self.compiled_metrics.update_state(y, S)\n",
    "        return {m.name: m.result() for m in self.metrics}\n",
    "\n",
    "    def test_step(self, data):\n",
    "        x = data\n",
    "        y = tf.range(tf.shape(x['questions']['input_ids'])[0])\n",
    "        S = self(x, training=True) # We are not really training, but we have to obtain S\n",
    "        self.compiled_loss(y, S)\n",
    "        self.compiled_metrics.update_state(y, S)\n",
    "        return {m.name: m.result() for m in self.metrics}\n",
    "\n",
    "def create_model(sample, freeze_layers_up_to=5):\n",
    "    print(\"Creating BERT models...\")\n",
    "    model_q, model_p =  TFDistilBertModel.from_pretrained('distilbert-base-uncased'), \\\n",
    "                        TFDistilBertModel.from_pretrained('distilbert-base-uncased')\n",
    "\n",
    "    # Freeze layers \n",
    "    for i in range(freeze_layers_up_to): # layers 0 to variable are frozen, successive layers learn\n",
    "        model_q.distilbert.transformer.layer[i].trainable = False\n",
    "        model_p.distilbert.transformer.layer[i].trainable = False\n",
    "\n",
    "    model_q, model_p = ReducedDistilBertModel(model_q), ReducedDistilBertModel(model_p)\n",
    "    \n",
    "    print(\"Creating Deep Encoder...\")\n",
    "    model = DeepQPEncoder(model_q, model_p)\n",
    "\n",
    "    print(\"Compiling...\")\n",
    "    # Compile the model and loss\n",
    "    model.compile(\n",
    "        optimizer=keras.optimizers.Adam(learning_rate=3e-6),\n",
    "        loss=keras.losses.SparseCategoricalCrossentropy(from_logits=True),\n",
    "        metrics=[keras.metrics.SparseCategoricalAccuracy()]\n",
    "    )\n",
    "\n",
    "    print(\"Testing on some data...\")\n",
    "    # Pass one batch of data to build the model\n",
    "    model(sample)\n",
    "\n",
    "    # Return the model\n",
    "    print(\"Model created!\")\n",
    "    return model"
   ]
  },
  {
   "cell_type": "markdown",
   "metadata": {
    "id": "HA_dwB6MIHaq"
   },
   "source": [
    "## Training procedure"
   ]
  },
  {
   "cell_type": "markdown",
   "metadata": {
    "id": "kfdxw7F4IWVi"
   },
   "source": [
    "Define utility variables and saving paths."
   ]
  },
  {
   "cell_type": "code",
   "execution_count": 19,
   "metadata": {
    "id": "s838Rj9GIUA9"
   },
   "outputs": [],
   "source": [
    "EPOCHS = 100\n",
    "PATIENCE = 3"
   ]
  },
  {
   "cell_type": "markdown",
   "metadata": {
    "id": "rOrJEqCQIZ3c"
   },
   "source": [
    "Before training, we check if we're using a TPU, in order to create the model within the scope of the strategy.\n",
    "\n",
    "Then, we train the model."
   ]
  },
  {
   "cell_type": "code",
   "execution_count": null,
   "metadata": {
    "colab": {
     "base_uri": "https://localhost:8080/"
    },
    "id": "wN6WxrL-IRjj",
    "outputId": "1c2f8971-6ffe-46b0-a3be-6db22383d839",
    "scrolled": true
   },
   "outputs": [
    {
     "name": "stdout",
     "output_type": "stream",
     "text": [
      "Creating BERT models...\n"
     ]
    },
    {
     "name": "stderr",
     "output_type": "stream",
     "text": [
      "Some layers from the model checkpoint at distilbert-base-uncased were not used when initializing TFDistilBertModel: ['activation_13', 'vocab_layer_norm', 'vocab_transform', 'vocab_projector']\n",
      "- This IS expected if you are initializing TFDistilBertModel from the checkpoint of a model trained on another task or with another architecture (e.g. initializing a BertForSequenceClassification model from a BertForPreTraining model).\n",
      "- This IS NOT expected if you are initializing TFDistilBertModel from the checkpoint of a model that you expect to be exactly identical (initializing a BertForSequenceClassification model from a BertForSequenceClassification model).\n",
      "All the layers of TFDistilBertModel were initialized from the model checkpoint at distilbert-base-uncased.\n",
      "If your task is similar to the task the model of the checkpoint was trained on, you can already use TFDistilBertModel for predictions without further training.\n",
      "Some layers from the model checkpoint at distilbert-base-uncased were not used when initializing TFDistilBertModel: ['activation_13', 'vocab_layer_norm', 'vocab_transform', 'vocab_projector']\n",
      "- This IS expected if you are initializing TFDistilBertModel from the checkpoint of a model trained on another task or with another architecture (e.g. initializing a BertForSequenceClassification model from a BertForPreTraining model).\n",
      "- This IS NOT expected if you are initializing TFDistilBertModel from the checkpoint of a model that you expect to be exactly identical (initializing a BertForSequenceClassification model from a BertForSequenceClassification model).\n",
      "All the layers of TFDistilBertModel were initialized from the model checkpoint at distilbert-base-uncased.\n",
      "If your task is similar to the task the model of the checkpoint was trained on, you can already use TFDistilBertModel for predictions without further training.\n"
     ]
    },
    {
     "name": "stdout",
     "output_type": "stream",
     "text": [
      "Creating Deep Encoder...\n",
      "Compiling...\n",
      "Testing on some data...\n",
      "Model created!\n",
      "Epoch 1/100\n",
      "21900/21900 [==============================] - ETA: 0s - loss: 0.1760 - sparse_categorical_accuracy: 0.9328\n",
      "Epoch 1: saving model to data\\training_dpr\\cp-0001.ckpt\n",
      "21900/21900 [==============================] - 5021s 228ms/step - loss: 0.1760 - sparse_categorical_accuracy: 0.9328 - val_loss: 0.0928 - val_sparse_categorical_accuracy: 0.9650\n",
      "Epoch 2/100\n",
      "21900/21900 [==============================] - ETA: 0s - loss: 0.0745 - sparse_categorical_accuracy: 0.9715\n",
      "Epoch 2: saving model to data\\training_dpr\\cp-0002.ckpt\n",
      "21900/21900 [==============================] - 3969s 181ms/step - loss: 0.0745 - sparse_categorical_accuracy: 0.9715 - val_loss: 0.0645 - val_sparse_categorical_accuracy: 0.9757\n",
      "Epoch 3/100\n",
      "21900/21900 [==============================] - ETA: 0s - loss: 0.0555 - sparse_categorical_accuracy: 0.9793\n",
      "Epoch 3: saving model to data\\training_dpr\\cp-0003.ckpt\n",
      "21900/21900 [==============================] - 3970s 181ms/step - loss: 0.0555 - sparse_categorical_accuracy: 0.9793 - val_loss: 0.0506 - val_sparse_categorical_accuracy: 0.9806\n",
      "Epoch 4/100\n",
      "21900/21900 [==============================] - ETA: 0s - loss: 0.0453 - sparse_categorical_accuracy: 0.9829\n",
      "Epoch 4: saving model to data\\training_dpr\\cp-0004.ckpt\n",
      "21900/21900 [==============================] - 3972s 181ms/step - loss: 0.0453 - sparse_categorical_accuracy: 0.9829 - val_loss: 0.0411 - val_sparse_categorical_accuracy: 0.9839\n",
      "Epoch 5/100\n",
      "21900/21900 [==============================] - ETA: 0s - loss: 0.0395 - sparse_categorical_accuracy: 0.9853\n",
      "Epoch 5: saving model to data\\training_dpr\\cp-0005.ckpt\n",
      "21900/21900 [==============================] - 3972s 181ms/step - loss: 0.0395 - sparse_categorical_accuracy: 0.9853 - val_loss: 0.0326 - val_sparse_categorical_accuracy: 0.9875\n",
      "Epoch 6/100\n",
      "21900/21900 [==============================] - ETA: 0s - loss: 0.0344 - sparse_categorical_accuracy: 0.9869\n",
      "Epoch 6: saving model to data\\training_dpr\\cp-0006.ckpt\n",
      "21900/21900 [==============================] - 3969s 181ms/step - loss: 0.0344 - sparse_categorical_accuracy: 0.9869 - val_loss: 0.0327 - val_sparse_categorical_accuracy: 0.9882\n",
      "Epoch 7/100\n",
      "21900/21900 [==============================] - ETA: 0s - loss: 0.0315 - sparse_categorical_accuracy: 0.9879\n",
      "Epoch 7: saving model to data\\training_dpr\\cp-0007.ckpt\n",
      "21900/21900 [==============================] - 3968s 181ms/step - loss: 0.0315 - sparse_categorical_accuracy: 0.9879 - val_loss: 0.0311 - val_sparse_categorical_accuracy: 0.9884\n",
      "Epoch 8/100\n",
      "21900/21900 [==============================] - ETA: 0s - loss: 0.0285 - sparse_categorical_accuracy: 0.9896\n",
      "Epoch 8: saving model to data\\training_dpr\\cp-0008.ckpt\n",
      "21900/21900 [==============================] - 3971s 181ms/step - loss: 0.0285 - sparse_categorical_accuracy: 0.9896 - val_loss: 0.0259 - val_sparse_categorical_accuracy: 0.9900\n",
      "Epoch 9/100\n",
      "21900/21900 [==============================] - ETA: 0s - loss: 0.0251 - sparse_categorical_accuracy: 0.9905\n",
      "Epoch 9: saving model to data\\training_dpr\\cp-0009.ckpt\n",
      "21900/21900 [==============================] - 3972s 181ms/step - loss: 0.0251 - sparse_categorical_accuracy: 0.9905 - val_loss: 0.0233 - val_sparse_categorical_accuracy: 0.9912\n",
      "Epoch 10/100\n",
      "21900/21900 [==============================] - ETA: 0s - loss: 0.0231 - sparse_categorical_accuracy: 0.9913\n",
      "Epoch 10: saving model to data\\training_dpr\\cp-0010.ckpt\n",
      "21900/21900 [==============================] - 3978s 182ms/step - loss: 0.0231 - sparse_categorical_accuracy: 0.9913 - val_loss: 0.0233 - val_sparse_categorical_accuracy: 0.9913\n",
      "Epoch 11/100\n",
      "21900/21900 [==============================] - ETA: 0s - loss: 0.0216 - sparse_categorical_accuracy: 0.9918\n",
      "Epoch 11: saving model to data\\training_dpr\\cp-0011.ckpt\n",
      "21900/21900 [==============================] - 3982s 182ms/step - loss: 0.0216 - sparse_categorical_accuracy: 0.9918 - val_loss: 0.0197 - val_sparse_categorical_accuracy: 0.9924\n",
      "Epoch 12/100\n",
      "  615/21900 [..............................] - ETA: 58:04 - loss: 0.0286 - sparse_categorical_accuracy: 0.9870"
     ]
    }
   ],
   "source": [
    "import datetime\n",
    "\n",
    "if using_TPU:\n",
    "    # TPU requires to create the model within the scope of the distributed strategy\n",
    "    # we're using.\n",
    "    with strategy.scope():\n",
    "        model = create_model(sample=next(dataset_train.take(1).as_numpy_iterator()),\n",
    "                             freeze_layers_up_to=3)\n",
    "\n",
    "    # Workaraound for saving locally when using cloud TPUs\n",
    "    local_device_option = tf.train.CheckpointOptions(\n",
    "        experimental_io_device=\"/job:localhost\")\n",
    "else:\n",
    "    # GPUs and local systems don't need the above specifications. We simply\n",
    "    # create a pattern for the filename and let the callbacks deal with it.\n",
    "    checkpoint_path = os.path.join(checkpoint_dir, \"cp-{epoch:04d}.ckpt\")\n",
    "    # Also, on TPU we cannot use tensorboard, but on GPU we can\n",
    "    log_dir = os.path.join(ROOT_PATH, \"data\", \"logs\", \n",
    "        \"training_dpr_reduced_dim\", datetime.datetime.now().strftime(\"%Y%m%d-%H%M%S\"))\n",
    "    \n",
    "    model = create_model(sample=next(dataset_train.take(1).as_numpy_iterator()),\n",
    "                             freeze_layers_up_to=3)\n",
    "\n",
    "    if DO_TRAINING:\n",
    "        # ModelCheckpoint callback is only available when not using TPU\n",
    "        cp_callback = tf.keras.callbacks.ModelCheckpoint(\n",
    "            filepath = checkpoint_path,\n",
    "            verbose=1,\n",
    "            save_weights_only = True,\n",
    "            save_best_only = False\n",
    "        )\n",
    "\n",
    "        # Same for tensorboard callback\n",
    "        tensorboard_callback = tf.keras.callbacks.TensorBoard(\n",
    "            log_dir=log_dir,\n",
    "            histogram_freq=1\n",
    "        )\n",
    "\n",
    "if DO_TRAINING:\n",
    "    # Early stopping can be used by both hardware\n",
    "    es_callback = tf.keras.callbacks.EarlyStopping(\n",
    "        patience = PATIENCE,\n",
    "        restore_best_weights=True\n",
    "    )\n",
    "\n",
    "    if using_TPU:\n",
    "        # Save first weights in a h5 file (it's the most stable way)\n",
    "        model.save_weights(os.path.join(\n",
    "            checkpoint_dir, 'training_reduced_dim_tpu_0.h5'),  overwrite=True)\n",
    "    else:\n",
    "        # Save the first weights using the pattern from before\n",
    "        model.save_weights(checkpoint_path.format(epoch=0))\n",
    "\n",
    "    callbacks = [es_callback]\n",
    "    if not using_TPU:\n",
    "        # These callback imply saving stuff on local disk, which cannot be \n",
    "        # done automatically using TPUs.\n",
    "        # Therefore, they are only active when using GPUs and local systems\n",
    "        callbacks.extend([cp_callback, tensorboard_callback])\n",
    "\n",
    "    # We fit the model\n",
    "    history = model.fit(\n",
    "        dataset_train, \n",
    "        y=None,\n",
    "        validation_data=dataset_val,\n",
    "        epochs=EPOCHS, \n",
    "        callbacks=callbacks,\n",
    "        shuffle=True,\n",
    "        use_multiprocessing=True,\n",
    "        initial_epoch=0,\n",
    "        verbose=1 # Show progress bar\n",
    "    )\n",
    "\n",
    "    if using_TPU:\n",
    "        # Save last weights\n",
    "        model.save_weights(os.path.join(\n",
    "            checkpoint_dir, 'training_reduced_dim_tpu_last.h5'), overwrite=True)"
   ]
  },
  {
   "cell_type": "code",
   "execution_count": 23,
   "metadata": {
    "scrolled": true
   },
   "outputs": [
    {
     "name": "stdout",
     "output_type": "stream",
     "text": [
      "Epoch 12/100\n",
      "21900/21900 [==============================] - ETA: 0s - loss: 0.0169 - sparse_categorical_accuracy: 0.9935\n",
      "Epoch 12: val_loss improved from inf to 0.02176, saving model to data\\training_dpr\\cp-0012.ckpt\n",
      "21900/21900 [==============================] - 4031s 183ms/step - loss: 0.0169 - sparse_categorical_accuracy: 0.9935 - val_loss: 0.0218 - val_sparse_categorical_accuracy: 0.9919\n",
      "Epoch 13/100\n",
      "21900/21900 [==============================] - ETA: 0s - loss: 0.0128 - sparse_categorical_accuracy: 0.9950\n",
      "Epoch 13: val_loss did not improve from 0.02176\n",
      "21900/21900 [==============================] - 3908s 178ms/step - loss: 0.0128 - sparse_categorical_accuracy: 0.9950 - val_loss: 0.0245 - val_sparse_categorical_accuracy: 0.9905\n",
      "Epoch 14/100\n",
      "21900/21900 [==============================] - ETA: 0s - loss: 0.0102 - sparse_categorical_accuracy: 0.9963\n",
      "Epoch 14: val_loss improved from 0.02176 to 0.01905, saving model to data\\training_dpr\\cp-0014.ckpt\n",
      "21900/21900 [==============================] - 3923s 179ms/step - loss: 0.0102 - sparse_categorical_accuracy: 0.9963 - val_loss: 0.0190 - val_sparse_categorical_accuracy: 0.9931\n",
      "Epoch 15/100\n",
      "21900/21900 [==============================] - ETA: 0s - loss: 0.0084 - sparse_categorical_accuracy: 0.9969\n",
      "Epoch 15: val_loss did not improve from 0.01905\n",
      "21900/21900 [==============================] - 3921s 179ms/step - loss: 0.0084 - sparse_categorical_accuracy: 0.9969 - val_loss: 0.0242 - val_sparse_categorical_accuracy: 0.9918\n",
      "Epoch 16/100\n",
      "21900/21900 [==============================] - ETA: 0s - loss: 0.0079 - sparse_categorical_accuracy: 0.9972\n",
      "Epoch 16: val_loss did not improve from 0.01905\n",
      "21900/21900 [==============================] - 3928s 179ms/step - loss: 0.0079 - sparse_categorical_accuracy: 0.9972 - val_loss: 0.0233 - val_sparse_categorical_accuracy: 0.9929\n",
      "Epoch 17/100\n",
      "21900/21900 [==============================] - ETA: 0s - loss: 0.0065 - sparse_categorical_accuracy: 0.9973\n",
      "Epoch 17: val_loss did not improve from 0.01905\n",
      "21900/21900 [==============================] - 3879s 177ms/step - loss: 0.0065 - sparse_categorical_accuracy: 0.9973 - val_loss: 0.0235 - val_sparse_categorical_accuracy: 0.9929\n"
     ]
    }
   ],
   "source": [
    "# Training from epoch 12 onward\n",
    "# history = model.fit(\n",
    "#     dataset_train, \n",
    "#     y=None,\n",
    "#     validation_data=dataset_val,\n",
    "#     epochs=EPOCHS, \n",
    "#     callbacks=[cp_callback, es_callback, tensorboard_callback],\n",
    "#     shuffle=True,\n",
    "#     use_multiprocessing=True,\n",
    "#     initial_epoch=11,\n",
    "#     verbose=1 # Show progress bar\n",
    "# )"
   ]
  },
  {
   "cell_type": "markdown",
   "metadata": {
    "id": "LCgA-4RbAZCh"
   },
   "source": [
    "The model was trained in 14 (+3 due to patience) epochs on a local GPU. It took about 14 hours and reached a validation accuracy of 99.31%. We can make a simple test with the same data of before to see if the embedding space is working properly."
   ]
  },
  {
   "cell_type": "code",
   "execution_count": 28,
   "metadata": {},
   "outputs": [
    {
     "data": {
      "text/plain": [
       "<sklearn.metrics._plot.confusion_matrix.ConfusionMatrixDisplay at 0x2ca5a251448>"
      ]
     },
     "execution_count": 28,
     "metadata": {},
     "output_type": "execute_result"
    },
    {
     "data": {
      "image/png": "[encoded data removed]",
      "text/plain": [
       "<Figure size 432x288 with 2 Axes>"
      ]
     },
     "metadata": {
      "needs_background": "light"
     },
     "output_type": "display_data"
    }
   ],
   "source": [
    "S = model(next(dataset_train.take(1).as_numpy_iterator()), training=True)\n",
    "S_arr = S.numpy()\n",
    "ConfusionMatrixDisplay.from_predictions(\n",
    "    y_true=np.arange(BATCH_SIZE), y_pred=np.argmax(S_arr, axis=1))"
   ]
  },
  {
   "cell_type": "markdown",
   "metadata": {
    "id": "5DtqzKMW6scF"
   },
   "source": [
    "# Question Answering with the DPR\n",
    "\n",
    "We have trained the two Bert (`bert_p`, the paragraphs encoder and `bert_q`, the questions encoder) models to produce embeddings that are as similar as possible for matching question-paragraph pairs. \n",
    "\n",
    "Thanks to our training, when we use `bert_q` to encode our question, we will now be sure that questions and paragraphs will both be encoded in the same space and have a high similarity between the question encoding and the matching paragraph's encoding.\n",
    "\n",
    "We can now use `bert_p` to encode all of our paragraphs a-priori using the same method we have used before (taking the 768-d encoding at the `[CLS]` token). These encodings will be stored in RAM. \n",
    "\n",
    "Then, we can define our final Question Answering model in this way:\n",
    "- It receives only a question's embedding as input.\n",
    "- It uses `bert_q` to create a representation of the question in the learnt 768-d space, that is in common with the paragraph representations.\n",
    "- We compute similarity scores between the representation of the question and all representations of paragraphs. Based on these scores, we select the top-k ($k=100$) paragraphs.\n",
    "- For each of the $k$ paragraphs, we must compute the probability of the paragraph being selected $P_{selected}(i)$, as well as the usual $P_{start, i}(s), P_{end, i}(t)$ for each of the $s$-th and $t$-th words of the $i$-th paragraph. To do that, we need the full encoding of the paragraph (the $512 \\times 768$ output of Bert), which will be denoted as $P_i$ in contrast to $\\hat{P}_i$ which is the 768-d encoding at the `[CLS]` token. We obtain the full encoding by passing the $k$ paragraphs through `bert_p`, which is set to non-trainable (otherwise the encoding of the `[CLS]` token would constantly change). \n",
    "- All probabilities are computed through dense layers:\n",
    "\\begin{gather}\n",
    "P_{start,i}(s) = softmax(P_i w_{start})_s\n",
    "\\\\\n",
    "P_{end,i}(t) = softmax(P_i w_{end})_t\n",
    "\\\\\n",
    "P_{selected}(i) = softmax(\\hat{P}^\\intercal w_{selected})_i\n",
    "\\\\\n",
    "\\end{gather}\n",
    "where $w_{start}$, $w_{end}$ and $w_{selected}$ are learnt vectors, while $\\hat{P} = [P_{1}^{[CLS]}, \\dots, P_k^{[CLS]}]$.\n",
    "- As final answer, we select the highest scoring start-end legal span from the highest-scoring paragraph.\n",
    "\n",
    "During training: For each question, we create a batch by sampling $m$ ($m=24$ in the paper) from the top-100 passages returned by the retrieval system (DPR, so by computing similarities with the pre-computed representations). The training objective is to maximize the marginal log-likelihood of all the correct answer spans in the positive passage (the answer string may appear multiple times in one passage), combined with the log-likelihood of the positive passage being selected. In the paper, a batch size of 16 was used.\n"
   ]
  },
  {
   "cell_type": "markdown",
   "metadata": {
    "id": "5InDU76v93rS"
   },
   "source": [
    "### Paragraphs representations"
   ]
  },
  {
   "cell_type": "markdown",
   "metadata": {
    "id": "fbp2lLe9iX-u"
   },
   "source": [
    "First of all, we load the weights of the trained model."
   ]
  },
  {
   "cell_type": "code",
   "execution_count": 32,
   "metadata": {
    "id": "ry1uahz-bh4_"
   },
   "outputs": [
    {
     "data": {
      "text/plain": [
       "<tensorflow.python.training.tracking.util.CheckpointLoadStatus at 0x2ca4bdb4688>"
      ]
     },
     "execution_count": 32,
     "metadata": {},
     "output_type": "execute_result"
    }
   ],
   "source": [
    "# Load the obtained weights\n",
    "model.load_weights(os.path.join(checkpoint_dir, 'cp-0014.ckpt'))"
   ]
  },
  {
   "cell_type": "markdown",
   "metadata": {
    "id": "OVIemd7MibmK"
   },
   "source": [
    "Then, we allocate space for the matrices that will contain all paragraphs encoding."
   ]
  },
  {
   "cell_type": "code",
   "execution_count": 36,
   "metadata": {
    "colab": {
     "base_uri": "https://localhost:8080/"
    },
    "id": "TPpSZ9nSZWMz",
    "outputId": "b8152710-1c15-45fc-c9e2-bbc841220501"
   },
   "outputs": [
    {
     "name": "stdout",
     "output_type": "stream",
     "text": [
      "(18896, 400, 240) (4921, 400, 240)\n"
     ]
    }
   ],
   "source": [
    "train_paragraphs_encodings = np.empty(\n",
    "    shape=(len(train_paragraphs), MAX_SEQ_LEN, BERT_DIMENSIONALITY)\n",
    ")\n",
    "val_paragraphs_encodings = np.empty(\n",
    "    shape=(len(val_paragraphs), MAX_SEQ_LEN, BERT_DIMENSIONALITY)\n",
    ")\n",
    "print(train_paragraphs_encodings.shape, val_paragraphs_encodings.shape)"
   ]
  },
  {
   "cell_type": "code",
   "execution_count": 37,
   "metadata": {
    "id": "bU8pBjgvbZS0"
   },
   "outputs": [
    {
     "name": "stdout",
     "output_type": "stream",
     "text": [
      "Obtaining training representations\n"
     ]
    },
    {
     "name": "stderr",
     "output_type": "stream",
     "text": [
      "  8%|█████▊                                                                      | 1451/18896 [01:07<13:33, 21.45it/s]\n"
     ]
    },
    {
     "ename": "KeyboardInterrupt",
     "evalue": "",
     "output_type": "error",
     "traceback": [
      "\u001b[1;31m---------------------------------------------------------------------------\u001b[0m",
      "\u001b[1;31mKeyboardInterrupt\u001b[0m                         Traceback (most recent call last)",
      "\u001b[1;32m~\\AppData\\Local\\Temp/ipykernel_19788/1074153439.py\u001b[0m in \u001b[0;36m<module>\u001b[1;34m\u001b[0m\n\u001b[0;32m      7\u001b[0m             \u001b[0mtrain_paragraphs\u001b[0m\u001b[1;33m[\u001b[0m\u001b[0mi\u001b[0m\u001b[1;33m]\u001b[0m\u001b[1;33m[\u001b[0m\u001b[1;34m'context'\u001b[0m\u001b[1;33m]\u001b[0m\u001b[1;33m,\u001b[0m \u001b[0mmax_length\u001b[0m \u001b[1;33m=\u001b[0m \u001b[0mMAX_SEQ_LEN\u001b[0m\u001b[1;33m,\u001b[0m\u001b[1;33m\u001b[0m\u001b[1;33m\u001b[0m\u001b[0m\n\u001b[0;32m      8\u001b[0m             \u001b[0mreturn_tensors\u001b[0m\u001b[1;33m=\u001b[0m\u001b[1;34m'tf'\u001b[0m\u001b[1;33m,\u001b[0m\u001b[1;33m\u001b[0m\u001b[1;33m\u001b[0m\u001b[0m\n\u001b[1;32m----> 9\u001b[1;33m             \u001b[0mtruncation\u001b[0m \u001b[1;33m=\u001b[0m \u001b[1;32mTrue\u001b[0m\u001b[1;33m,\u001b[0m \u001b[0mpadding\u001b[0m \u001b[1;33m=\u001b[0m \u001b[1;34m'max_length'\u001b[0m\u001b[1;33m\u001b[0m\u001b[1;33m\u001b[0m\u001b[0m\n\u001b[0m\u001b[0;32m     10\u001b[0m         ))[0,:,:]\n\u001b[0;32m     11\u001b[0m \u001b[1;33m\u001b[0m\u001b[0m\n",
      "\u001b[1;32m~\\anaconda3\\envs\\NLP\\lib\\site-packages\\keras\\utils\\traceback_utils.py\u001b[0m in \u001b[0;36merror_handler\u001b[1;34m(*args, **kwargs)\u001b[0m\n\u001b[0;32m     62\u001b[0m     \u001b[0mfiltered_tb\u001b[0m \u001b[1;33m=\u001b[0m \u001b[1;32mNone\u001b[0m\u001b[1;33m\u001b[0m\u001b[1;33m\u001b[0m\u001b[0m\n\u001b[0;32m     63\u001b[0m     \u001b[1;32mtry\u001b[0m\u001b[1;33m:\u001b[0m\u001b[1;33m\u001b[0m\u001b[1;33m\u001b[0m\u001b[0m\n\u001b[1;32m---> 64\u001b[1;33m       \u001b[1;32mreturn\u001b[0m \u001b[0mfn\u001b[0m\u001b[1;33m(\u001b[0m\u001b[1;33m*\u001b[0m\u001b[0margs\u001b[0m\u001b[1;33m,\u001b[0m \u001b[1;33m**\u001b[0m\u001b[0mkwargs\u001b[0m\u001b[1;33m)\u001b[0m\u001b[1;33m\u001b[0m\u001b[1;33m\u001b[0m\u001b[0m\n\u001b[0m\u001b[0;32m     65\u001b[0m     \u001b[1;32mexcept\u001b[0m \u001b[0mException\u001b[0m \u001b[1;32mas\u001b[0m \u001b[0me\u001b[0m\u001b[1;33m:\u001b[0m  \u001b[1;31m# pylint: disable=broad-except\u001b[0m\u001b[1;33m\u001b[0m\u001b[1;33m\u001b[0m\u001b[0m\n\u001b[0;32m     66\u001b[0m       \u001b[0mfiltered_tb\u001b[0m \u001b[1;33m=\u001b[0m \u001b[0m_process_traceback_frames\u001b[0m\u001b[1;33m(\u001b[0m\u001b[0me\u001b[0m\u001b[1;33m.\u001b[0m\u001b[0m__traceback__\u001b[0m\u001b[1;33m)\u001b[0m\u001b[1;33m\u001b[0m\u001b[1;33m\u001b[0m\u001b[0m\n",
      "\u001b[1;32m~\\anaconda3\\envs\\NLP\\lib\\site-packages\\keras\\engine\\base_layer.py\u001b[0m in \u001b[0;36m__call__\u001b[1;34m(self, *args, **kwargs)\u001b[0m\n\u001b[0;32m   1094\u001b[0m         with autocast_variable.enable_auto_cast_variables(\n\u001b[0;32m   1095\u001b[0m             self._compute_dtype_object):\n\u001b[1;32m-> 1096\u001b[1;33m           \u001b[0moutputs\u001b[0m \u001b[1;33m=\u001b[0m \u001b[0mcall_fn\u001b[0m\u001b[1;33m(\u001b[0m\u001b[0minputs\u001b[0m\u001b[1;33m,\u001b[0m \u001b[1;33m*\u001b[0m\u001b[0margs\u001b[0m\u001b[1;33m,\u001b[0m \u001b[1;33m**\u001b[0m\u001b[0mkwargs\u001b[0m\u001b[1;33m)\u001b[0m\u001b[1;33m\u001b[0m\u001b[1;33m\u001b[0m\u001b[0m\n\u001b[0m\u001b[0;32m   1097\u001b[0m \u001b[1;33m\u001b[0m\u001b[0m\n\u001b[0;32m   1098\u001b[0m         \u001b[1;32mif\u001b[0m \u001b[0mself\u001b[0m\u001b[1;33m.\u001b[0m\u001b[0m_activity_regularizer\u001b[0m\u001b[1;33m:\u001b[0m\u001b[1;33m\u001b[0m\u001b[1;33m\u001b[0m\u001b[0m\n",
      "\u001b[1;32m~\\anaconda3\\envs\\NLP\\lib\\site-packages\\keras\\utils\\traceback_utils.py\u001b[0m in \u001b[0;36merror_handler\u001b[1;34m(*args, **kwargs)\u001b[0m\n\u001b[0;32m     90\u001b[0m     \u001b[0mbound_signature\u001b[0m \u001b[1;33m=\u001b[0m \u001b[1;32mNone\u001b[0m\u001b[1;33m\u001b[0m\u001b[1;33m\u001b[0m\u001b[0m\n\u001b[0;32m     91\u001b[0m     \u001b[1;32mtry\u001b[0m\u001b[1;33m:\u001b[0m\u001b[1;33m\u001b[0m\u001b[1;33m\u001b[0m\u001b[0m\n\u001b[1;32m---> 92\u001b[1;33m       \u001b[1;32mreturn\u001b[0m \u001b[0mfn\u001b[0m\u001b[1;33m(\u001b[0m\u001b[1;33m*\u001b[0m\u001b[0margs\u001b[0m\u001b[1;33m,\u001b[0m \u001b[1;33m**\u001b[0m\u001b[0mkwargs\u001b[0m\u001b[1;33m)\u001b[0m\u001b[1;33m\u001b[0m\u001b[1;33m\u001b[0m\u001b[0m\n\u001b[0m\u001b[0;32m     93\u001b[0m     \u001b[1;32mexcept\u001b[0m \u001b[0mException\u001b[0m \u001b[1;32mas\u001b[0m \u001b[0me\u001b[0m\u001b[1;33m:\u001b[0m  \u001b[1;31m# pylint: disable=broad-except\u001b[0m\u001b[1;33m\u001b[0m\u001b[1;33m\u001b[0m\u001b[0m\n\u001b[0;32m     94\u001b[0m       \u001b[1;32mif\u001b[0m \u001b[0mhasattr\u001b[0m\u001b[1;33m(\u001b[0m\u001b[0me\u001b[0m\u001b[1;33m,\u001b[0m \u001b[1;34m'_keras_call_info_injected'\u001b[0m\u001b[1;33m)\u001b[0m\u001b[1;33m:\u001b[0m\u001b[1;33m\u001b[0m\u001b[1;33m\u001b[0m\u001b[0m\n",
      "\u001b[1;32m~\\AppData\\Local\\Temp/ipykernel_19788/161624410.py\u001b[0m in \u001b[0;36mcall\u001b[1;34m(self, inputs)\u001b[0m\n\u001b[0;32m      7\u001b[0m \u001b[1;33m\u001b[0m\u001b[0m\n\u001b[0;32m      8\u001b[0m     \u001b[1;32mdef\u001b[0m \u001b[0mcall\u001b[0m\u001b[1;33m(\u001b[0m\u001b[0mself\u001b[0m\u001b[1;33m,\u001b[0m \u001b[0minputs\u001b[0m\u001b[1;33m)\u001b[0m\u001b[1;33m:\u001b[0m\u001b[1;33m\u001b[0m\u001b[1;33m\u001b[0m\u001b[0m\n\u001b[1;32m----> 9\u001b[1;33m         \u001b[0mhidden_state\u001b[0m \u001b[1;33m=\u001b[0m \u001b[0mself\u001b[0m\u001b[1;33m.\u001b[0m\u001b[0mdistilbert_model\u001b[0m\u001b[1;33m(\u001b[0m\u001b[0minputs\u001b[0m\u001b[1;33m)\u001b[0m\u001b[1;33m.\u001b[0m\u001b[0mlast_hidden_state\u001b[0m\u001b[1;33m\u001b[0m\u001b[1;33m\u001b[0m\u001b[0m\n\u001b[0m\u001b[0;32m     10\u001b[0m         \u001b[1;31m# We introduce a dense layer that simply reduces the dimensionality of distilbert\u001b[0m\u001b[1;33m\u001b[0m\u001b[1;33m\u001b[0m\u001b[1;33m\u001b[0m\u001b[0m\n\u001b[0;32m     11\u001b[0m         \u001b[1;32mreturn\u001b[0m \u001b[0mself\u001b[0m\u001b[1;33m.\u001b[0m\u001b[0mreduction_layer\u001b[0m\u001b[1;33m(\u001b[0m\u001b[0mhidden_state\u001b[0m\u001b[1;33m)\u001b[0m\u001b[1;33m\u001b[0m\u001b[1;33m\u001b[0m\u001b[0m\n",
      "\u001b[1;32m~\\anaconda3\\envs\\NLP\\lib\\site-packages\\keras\\utils\\traceback_utils.py\u001b[0m in \u001b[0;36merror_handler\u001b[1;34m(*args, **kwargs)\u001b[0m\n\u001b[0;32m     62\u001b[0m     \u001b[0mfiltered_tb\u001b[0m \u001b[1;33m=\u001b[0m \u001b[1;32mNone\u001b[0m\u001b[1;33m\u001b[0m\u001b[1;33m\u001b[0m\u001b[0m\n\u001b[0;32m     63\u001b[0m     \u001b[1;32mtry\u001b[0m\u001b[1;33m:\u001b[0m\u001b[1;33m\u001b[0m\u001b[1;33m\u001b[0m\u001b[0m\n\u001b[1;32m---> 64\u001b[1;33m       \u001b[1;32mreturn\u001b[0m \u001b[0mfn\u001b[0m\u001b[1;33m(\u001b[0m\u001b[1;33m*\u001b[0m\u001b[0margs\u001b[0m\u001b[1;33m,\u001b[0m \u001b[1;33m**\u001b[0m\u001b[0mkwargs\u001b[0m\u001b[1;33m)\u001b[0m\u001b[1;33m\u001b[0m\u001b[1;33m\u001b[0m\u001b[0m\n\u001b[0m\u001b[0;32m     65\u001b[0m     \u001b[1;32mexcept\u001b[0m \u001b[0mException\u001b[0m \u001b[1;32mas\u001b[0m \u001b[0me\u001b[0m\u001b[1;33m:\u001b[0m  \u001b[1;31m# pylint: disable=broad-except\u001b[0m\u001b[1;33m\u001b[0m\u001b[1;33m\u001b[0m\u001b[0m\n\u001b[0;32m     66\u001b[0m       \u001b[0mfiltered_tb\u001b[0m \u001b[1;33m=\u001b[0m \u001b[0m_process_traceback_frames\u001b[0m\u001b[1;33m(\u001b[0m\u001b[0me\u001b[0m\u001b[1;33m.\u001b[0m\u001b[0m__traceback__\u001b[0m\u001b[1;33m)\u001b[0m\u001b[1;33m\u001b[0m\u001b[1;33m\u001b[0m\u001b[0m\n",
      "\u001b[1;32m~\\anaconda3\\envs\\NLP\\lib\\site-packages\\keras\\engine\\base_layer.py\u001b[0m in \u001b[0;36m__call__\u001b[1;34m(self, *args, **kwargs)\u001b[0m\n\u001b[0;32m   1094\u001b[0m         with autocast_variable.enable_auto_cast_variables(\n\u001b[0;32m   1095\u001b[0m             self._compute_dtype_object):\n\u001b[1;32m-> 1096\u001b[1;33m           \u001b[0moutputs\u001b[0m \u001b[1;33m=\u001b[0m \u001b[0mcall_fn\u001b[0m\u001b[1;33m(\u001b[0m\u001b[0minputs\u001b[0m\u001b[1;33m,\u001b[0m \u001b[1;33m*\u001b[0m\u001b[0margs\u001b[0m\u001b[1;33m,\u001b[0m \u001b[1;33m**\u001b[0m\u001b[0mkwargs\u001b[0m\u001b[1;33m)\u001b[0m\u001b[1;33m\u001b[0m\u001b[1;33m\u001b[0m\u001b[0m\n\u001b[0m\u001b[0;32m   1097\u001b[0m \u001b[1;33m\u001b[0m\u001b[0m\n\u001b[0;32m   1098\u001b[0m         \u001b[1;32mif\u001b[0m \u001b[0mself\u001b[0m\u001b[1;33m.\u001b[0m\u001b[0m_activity_regularizer\u001b[0m\u001b[1;33m:\u001b[0m\u001b[1;33m\u001b[0m\u001b[1;33m\u001b[0m\u001b[0m\n",
      "\u001b[1;32m~\\anaconda3\\envs\\NLP\\lib\\site-packages\\keras\\utils\\traceback_utils.py\u001b[0m in \u001b[0;36merror_handler\u001b[1;34m(*args, **kwargs)\u001b[0m\n\u001b[0;32m     90\u001b[0m     \u001b[0mbound_signature\u001b[0m \u001b[1;33m=\u001b[0m \u001b[1;32mNone\u001b[0m\u001b[1;33m\u001b[0m\u001b[1;33m\u001b[0m\u001b[0m\n\u001b[0;32m     91\u001b[0m     \u001b[1;32mtry\u001b[0m\u001b[1;33m:\u001b[0m\u001b[1;33m\u001b[0m\u001b[1;33m\u001b[0m\u001b[0m\n\u001b[1;32m---> 92\u001b[1;33m       \u001b[1;32mreturn\u001b[0m \u001b[0mfn\u001b[0m\u001b[1;33m(\u001b[0m\u001b[1;33m*\u001b[0m\u001b[0margs\u001b[0m\u001b[1;33m,\u001b[0m \u001b[1;33m**\u001b[0m\u001b[0mkwargs\u001b[0m\u001b[1;33m)\u001b[0m\u001b[1;33m\u001b[0m\u001b[1;33m\u001b[0m\u001b[0m\n\u001b[0m\u001b[0;32m     93\u001b[0m     \u001b[1;32mexcept\u001b[0m \u001b[0mException\u001b[0m \u001b[1;32mas\u001b[0m \u001b[0me\u001b[0m\u001b[1;33m:\u001b[0m  \u001b[1;31m# pylint: disable=broad-except\u001b[0m\u001b[1;33m\u001b[0m\u001b[1;33m\u001b[0m\u001b[0m\n\u001b[0;32m     94\u001b[0m       \u001b[1;32mif\u001b[0m \u001b[0mhasattr\u001b[0m\u001b[1;33m(\u001b[0m\u001b[0me\u001b[0m\u001b[1;33m,\u001b[0m \u001b[1;34m'_keras_call_info_injected'\u001b[0m\u001b[1;33m)\u001b[0m\u001b[1;33m:\u001b[0m\u001b[1;33m\u001b[0m\u001b[1;33m\u001b[0m\u001b[0m\n",
      "\u001b[1;32m~\\anaconda3\\envs\\NLP\\lib\\site-packages\\transformers\\models\\distilbert\\modeling_tf_distilbert.py\u001b[0m in \u001b[0;36mcall\u001b[1;34m(self, input_ids, attention_mask, head_mask, inputs_embeds, output_attentions, output_hidden_states, return_dict, training, **kwargs)\u001b[0m\n\u001b[0;32m    579\u001b[0m             \u001b[0moutput_hidden_states\u001b[0m\u001b[1;33m=\u001b[0m\u001b[0minputs\u001b[0m\u001b[1;33m[\u001b[0m\u001b[1;34m\"output_hidden_states\"\u001b[0m\u001b[1;33m]\u001b[0m\u001b[1;33m,\u001b[0m\u001b[1;33m\u001b[0m\u001b[1;33m\u001b[0m\u001b[0m\n\u001b[0;32m    580\u001b[0m             \u001b[0mreturn_dict\u001b[0m\u001b[1;33m=\u001b[0m\u001b[0minputs\u001b[0m\u001b[1;33m[\u001b[0m\u001b[1;34m\"return_dict\"\u001b[0m\u001b[1;33m]\u001b[0m\u001b[1;33m,\u001b[0m\u001b[1;33m\u001b[0m\u001b[1;33m\u001b[0m\u001b[0m\n\u001b[1;32m--> 581\u001b[1;33m             \u001b[0mtraining\u001b[0m\u001b[1;33m=\u001b[0m\u001b[0minputs\u001b[0m\u001b[1;33m[\u001b[0m\u001b[1;34m\"training\"\u001b[0m\u001b[1;33m]\u001b[0m\u001b[1;33m,\u001b[0m\u001b[1;33m\u001b[0m\u001b[1;33m\u001b[0m\u001b[0m\n\u001b[0m\u001b[0;32m    582\u001b[0m         )\n\u001b[0;32m    583\u001b[0m         \u001b[1;32mreturn\u001b[0m \u001b[0moutputs\u001b[0m\u001b[1;33m\u001b[0m\u001b[1;33m\u001b[0m\u001b[0m\n",
      "\u001b[1;32m~\\anaconda3\\envs\\NLP\\lib\\site-packages\\keras\\utils\\traceback_utils.py\u001b[0m in \u001b[0;36merror_handler\u001b[1;34m(*args, **kwargs)\u001b[0m\n\u001b[0;32m     62\u001b[0m     \u001b[0mfiltered_tb\u001b[0m \u001b[1;33m=\u001b[0m \u001b[1;32mNone\u001b[0m\u001b[1;33m\u001b[0m\u001b[1;33m\u001b[0m\u001b[0m\n\u001b[0;32m     63\u001b[0m     \u001b[1;32mtry\u001b[0m\u001b[1;33m:\u001b[0m\u001b[1;33m\u001b[0m\u001b[1;33m\u001b[0m\u001b[0m\n\u001b[1;32m---> 64\u001b[1;33m       \u001b[1;32mreturn\u001b[0m \u001b[0mfn\u001b[0m\u001b[1;33m(\u001b[0m\u001b[1;33m*\u001b[0m\u001b[0margs\u001b[0m\u001b[1;33m,\u001b[0m \u001b[1;33m**\u001b[0m\u001b[0mkwargs\u001b[0m\u001b[1;33m)\u001b[0m\u001b[1;33m\u001b[0m\u001b[1;33m\u001b[0m\u001b[0m\n\u001b[0m\u001b[0;32m     65\u001b[0m     \u001b[1;32mexcept\u001b[0m \u001b[0mException\u001b[0m \u001b[1;32mas\u001b[0m \u001b[0me\u001b[0m\u001b[1;33m:\u001b[0m  \u001b[1;31m# pylint: disable=broad-except\u001b[0m\u001b[1;33m\u001b[0m\u001b[1;33m\u001b[0m\u001b[0m\n\u001b[0;32m     66\u001b[0m       \u001b[0mfiltered_tb\u001b[0m \u001b[1;33m=\u001b[0m \u001b[0m_process_traceback_frames\u001b[0m\u001b[1;33m(\u001b[0m\u001b[0me\u001b[0m\u001b[1;33m.\u001b[0m\u001b[0m__traceback__\u001b[0m\u001b[1;33m)\u001b[0m\u001b[1;33m\u001b[0m\u001b[1;33m\u001b[0m\u001b[0m\n",
      "\u001b[1;32m~\\anaconda3\\envs\\NLP\\lib\\site-packages\\keras\\engine\\base_layer.py\u001b[0m in \u001b[0;36m__call__\u001b[1;34m(self, *args, **kwargs)\u001b[0m\n\u001b[0;32m   1094\u001b[0m         with autocast_variable.enable_auto_cast_variables(\n\u001b[0;32m   1095\u001b[0m             self._compute_dtype_object):\n\u001b[1;32m-> 1096\u001b[1;33m           \u001b[0moutputs\u001b[0m \u001b[1;33m=\u001b[0m \u001b[0mcall_fn\u001b[0m\u001b[1;33m(\u001b[0m\u001b[0minputs\u001b[0m\u001b[1;33m,\u001b[0m \u001b[1;33m*\u001b[0m\u001b[0margs\u001b[0m\u001b[1;33m,\u001b[0m \u001b[1;33m**\u001b[0m\u001b[0mkwargs\u001b[0m\u001b[1;33m)\u001b[0m\u001b[1;33m\u001b[0m\u001b[1;33m\u001b[0m\u001b[0m\n\u001b[0m\u001b[0;32m   1097\u001b[0m \u001b[1;33m\u001b[0m\u001b[0m\n\u001b[0;32m   1098\u001b[0m         \u001b[1;32mif\u001b[0m \u001b[0mself\u001b[0m\u001b[1;33m.\u001b[0m\u001b[0m_activity_regularizer\u001b[0m\u001b[1;33m:\u001b[0m\u001b[1;33m\u001b[0m\u001b[1;33m\u001b[0m\u001b[0m\n",
      "\u001b[1;32m~\\anaconda3\\envs\\NLP\\lib\\site-packages\\keras\\utils\\traceback_utils.py\u001b[0m in \u001b[0;36merror_handler\u001b[1;34m(*args, **kwargs)\u001b[0m\n\u001b[0;32m     90\u001b[0m     \u001b[0mbound_signature\u001b[0m \u001b[1;33m=\u001b[0m \u001b[1;32mNone\u001b[0m\u001b[1;33m\u001b[0m\u001b[1;33m\u001b[0m\u001b[0m\n\u001b[0;32m     91\u001b[0m     \u001b[1;32mtry\u001b[0m\u001b[1;33m:\u001b[0m\u001b[1;33m\u001b[0m\u001b[1;33m\u001b[0m\u001b[0m\n\u001b[1;32m---> 92\u001b[1;33m       \u001b[1;32mreturn\u001b[0m \u001b[0mfn\u001b[0m\u001b[1;33m(\u001b[0m\u001b[1;33m*\u001b[0m\u001b[0margs\u001b[0m\u001b[1;33m,\u001b[0m \u001b[1;33m**\u001b[0m\u001b[0mkwargs\u001b[0m\u001b[1;33m)\u001b[0m\u001b[1;33m\u001b[0m\u001b[1;33m\u001b[0m\u001b[0m\n\u001b[0m\u001b[0;32m     93\u001b[0m     \u001b[1;32mexcept\u001b[0m \u001b[0mException\u001b[0m \u001b[1;32mas\u001b[0m \u001b[0me\u001b[0m\u001b[1;33m:\u001b[0m  \u001b[1;31m# pylint: disable=broad-except\u001b[0m\u001b[1;33m\u001b[0m\u001b[1;33m\u001b[0m\u001b[0m\n\u001b[0;32m     94\u001b[0m       \u001b[1;32mif\u001b[0m \u001b[0mhasattr\u001b[0m\u001b[1;33m(\u001b[0m\u001b[0me\u001b[0m\u001b[1;33m,\u001b[0m \u001b[1;34m'_keras_call_info_injected'\u001b[0m\u001b[1;33m)\u001b[0m\u001b[1;33m:\u001b[0m\u001b[1;33m\u001b[0m\u001b[1;33m\u001b[0m\u001b[0m\n",
      "\u001b[1;32m~\\anaconda3\\envs\\NLP\\lib\\site-packages\\transformers\\models\\distilbert\\modeling_tf_distilbert.py\u001b[0m in \u001b[0;36mcall\u001b[1;34m(self, input_ids, attention_mask, head_mask, inputs_embeds, output_attentions, output_hidden_states, return_dict, training, **kwargs)\u001b[0m\n\u001b[0;32m    420\u001b[0m             \u001b[0minputs\u001b[0m\u001b[1;33m[\u001b[0m\u001b[1;34m\"output_hidden_states\"\u001b[0m\u001b[1;33m]\u001b[0m\u001b[1;33m,\u001b[0m\u001b[1;33m\u001b[0m\u001b[1;33m\u001b[0m\u001b[0m\n\u001b[0;32m    421\u001b[0m             \u001b[0minputs\u001b[0m\u001b[1;33m[\u001b[0m\u001b[1;34m\"return_dict\"\u001b[0m\u001b[1;33m]\u001b[0m\u001b[1;33m,\u001b[0m\u001b[1;33m\u001b[0m\u001b[1;33m\u001b[0m\u001b[0m\n\u001b[1;32m--> 422\u001b[1;33m             \u001b[0mtraining\u001b[0m\u001b[1;33m=\u001b[0m\u001b[0minputs\u001b[0m\u001b[1;33m[\u001b[0m\u001b[1;34m\"training\"\u001b[0m\u001b[1;33m]\u001b[0m\u001b[1;33m,\u001b[0m\u001b[1;33m\u001b[0m\u001b[1;33m\u001b[0m\u001b[0m\n\u001b[0m\u001b[0;32m    423\u001b[0m         )\n\u001b[0;32m    424\u001b[0m \u001b[1;33m\u001b[0m\u001b[0m\n",
      "\u001b[1;32m~\\anaconda3\\envs\\NLP\\lib\\site-packages\\keras\\utils\\traceback_utils.py\u001b[0m in \u001b[0;36merror_handler\u001b[1;34m(*args, **kwargs)\u001b[0m\n\u001b[0;32m     62\u001b[0m     \u001b[0mfiltered_tb\u001b[0m \u001b[1;33m=\u001b[0m \u001b[1;32mNone\u001b[0m\u001b[1;33m\u001b[0m\u001b[1;33m\u001b[0m\u001b[0m\n\u001b[0;32m     63\u001b[0m     \u001b[1;32mtry\u001b[0m\u001b[1;33m:\u001b[0m\u001b[1;33m\u001b[0m\u001b[1;33m\u001b[0m\u001b[0m\n\u001b[1;32m---> 64\u001b[1;33m       \u001b[1;32mreturn\u001b[0m \u001b[0mfn\u001b[0m\u001b[1;33m(\u001b[0m\u001b[1;33m*\u001b[0m\u001b[0margs\u001b[0m\u001b[1;33m,\u001b[0m \u001b[1;33m**\u001b[0m\u001b[0mkwargs\u001b[0m\u001b[1;33m)\u001b[0m\u001b[1;33m\u001b[0m\u001b[1;33m\u001b[0m\u001b[0m\n\u001b[0m\u001b[0;32m     65\u001b[0m     \u001b[1;32mexcept\u001b[0m \u001b[0mException\u001b[0m \u001b[1;32mas\u001b[0m \u001b[0me\u001b[0m\u001b[1;33m:\u001b[0m  \u001b[1;31m# pylint: disable=broad-except\u001b[0m\u001b[1;33m\u001b[0m\u001b[1;33m\u001b[0m\u001b[0m\n\u001b[0;32m     66\u001b[0m       \u001b[0mfiltered_tb\u001b[0m \u001b[1;33m=\u001b[0m \u001b[0m_process_traceback_frames\u001b[0m\u001b[1;33m(\u001b[0m\u001b[0me\u001b[0m\u001b[1;33m.\u001b[0m\u001b[0m__traceback__\u001b[0m\u001b[1;33m)\u001b[0m\u001b[1;33m\u001b[0m\u001b[1;33m\u001b[0m\u001b[0m\n",
      "\u001b[1;32m~\\anaconda3\\envs\\NLP\\lib\\site-packages\\keras\\engine\\base_layer.py\u001b[0m in \u001b[0;36m__call__\u001b[1;34m(self, *args, **kwargs)\u001b[0m\n\u001b[0;32m   1094\u001b[0m         with autocast_variable.enable_auto_cast_variables(\n\u001b[0;32m   1095\u001b[0m             self._compute_dtype_object):\n\u001b[1;32m-> 1096\u001b[1;33m           \u001b[0moutputs\u001b[0m \u001b[1;33m=\u001b[0m \u001b[0mcall_fn\u001b[0m\u001b[1;33m(\u001b[0m\u001b[0minputs\u001b[0m\u001b[1;33m,\u001b[0m \u001b[1;33m*\u001b[0m\u001b[0margs\u001b[0m\u001b[1;33m,\u001b[0m \u001b[1;33m**\u001b[0m\u001b[0mkwargs\u001b[0m\u001b[1;33m)\u001b[0m\u001b[1;33m\u001b[0m\u001b[1;33m\u001b[0m\u001b[0m\n\u001b[0m\u001b[0;32m   1097\u001b[0m \u001b[1;33m\u001b[0m\u001b[0m\n\u001b[0;32m   1098\u001b[0m         \u001b[1;32mif\u001b[0m \u001b[0mself\u001b[0m\u001b[1;33m.\u001b[0m\u001b[0m_activity_regularizer\u001b[0m\u001b[1;33m:\u001b[0m\u001b[1;33m\u001b[0m\u001b[1;33m\u001b[0m\u001b[0m\n",
      "\u001b[1;32m~\\anaconda3\\envs\\NLP\\lib\\site-packages\\keras\\utils\\traceback_utils.py\u001b[0m in \u001b[0;36merror_handler\u001b[1;34m(*args, **kwargs)\u001b[0m\n\u001b[0;32m     90\u001b[0m     \u001b[0mbound_signature\u001b[0m \u001b[1;33m=\u001b[0m \u001b[1;32mNone\u001b[0m\u001b[1;33m\u001b[0m\u001b[1;33m\u001b[0m\u001b[0m\n\u001b[0;32m     91\u001b[0m     \u001b[1;32mtry\u001b[0m\u001b[1;33m:\u001b[0m\u001b[1;33m\u001b[0m\u001b[1;33m\u001b[0m\u001b[0m\n\u001b[1;32m---> 92\u001b[1;33m       \u001b[1;32mreturn\u001b[0m \u001b[0mfn\u001b[0m\u001b[1;33m(\u001b[0m\u001b[1;33m*\u001b[0m\u001b[0margs\u001b[0m\u001b[1;33m,\u001b[0m \u001b[1;33m**\u001b[0m\u001b[0mkwargs\u001b[0m\u001b[1;33m)\u001b[0m\u001b[1;33m\u001b[0m\u001b[1;33m\u001b[0m\u001b[0m\n\u001b[0m\u001b[0;32m     93\u001b[0m     \u001b[1;32mexcept\u001b[0m \u001b[0mException\u001b[0m \u001b[1;32mas\u001b[0m \u001b[0me\u001b[0m\u001b[1;33m:\u001b[0m  \u001b[1;31m# pylint: disable=broad-except\u001b[0m\u001b[1;33m\u001b[0m\u001b[1;33m\u001b[0m\u001b[0m\n\u001b[0;32m     94\u001b[0m       \u001b[1;32mif\u001b[0m \u001b[0mhasattr\u001b[0m\u001b[1;33m(\u001b[0m\u001b[0me\u001b[0m\u001b[1;33m,\u001b[0m \u001b[1;34m'_keras_call_info_injected'\u001b[0m\u001b[1;33m)\u001b[0m\u001b[1;33m:\u001b[0m\u001b[1;33m\u001b[0m\u001b[1;33m\u001b[0m\u001b[0m\n",
      "\u001b[1;32m~\\anaconda3\\envs\\NLP\\lib\\site-packages\\transformers\\models\\distilbert\\modeling_tf_distilbert.py\u001b[0m in \u001b[0;36mcall\u001b[1;34m(self, x, attn_mask, head_mask, output_attentions, output_hidden_states, return_dict, training)\u001b[0m\n\u001b[0;32m    313\u001b[0m                 \u001b[0mall_hidden_states\u001b[0m \u001b[1;33m=\u001b[0m \u001b[0mall_hidden_states\u001b[0m \u001b[1;33m+\u001b[0m \u001b[1;33m(\u001b[0m\u001b[0mhidden_state\u001b[0m\u001b[1;33m,\u001b[0m\u001b[1;33m)\u001b[0m\u001b[1;33m\u001b[0m\u001b[1;33m\u001b[0m\u001b[0m\n\u001b[0;32m    314\u001b[0m \u001b[1;33m\u001b[0m\u001b[0m\n\u001b[1;32m--> 315\u001b[1;33m             \u001b[0mlayer_outputs\u001b[0m \u001b[1;33m=\u001b[0m \u001b[0mlayer_module\u001b[0m\u001b[1;33m(\u001b[0m\u001b[0mhidden_state\u001b[0m\u001b[1;33m,\u001b[0m \u001b[0mattn_mask\u001b[0m\u001b[1;33m,\u001b[0m \u001b[0mhead_mask\u001b[0m\u001b[1;33m[\u001b[0m\u001b[0mi\u001b[0m\u001b[1;33m]\u001b[0m\u001b[1;33m,\u001b[0m \u001b[0moutput_attentions\u001b[0m\u001b[1;33m,\u001b[0m \u001b[0mtraining\u001b[0m\u001b[1;33m=\u001b[0m\u001b[0mtraining\u001b[0m\u001b[1;33m)\u001b[0m\u001b[1;33m\u001b[0m\u001b[1;33m\u001b[0m\u001b[0m\n\u001b[0m\u001b[0;32m    316\u001b[0m             \u001b[0mhidden_state\u001b[0m \u001b[1;33m=\u001b[0m \u001b[0mlayer_outputs\u001b[0m\u001b[1;33m[\u001b[0m\u001b[1;33m-\u001b[0m\u001b[1;36m1\u001b[0m\u001b[1;33m]\u001b[0m\u001b[1;33m\u001b[0m\u001b[1;33m\u001b[0m\u001b[0m\n\u001b[0;32m    317\u001b[0m \u001b[1;33m\u001b[0m\u001b[0m\n",
      "\u001b[1;32m~\\anaconda3\\envs\\NLP\\lib\\site-packages\\keras\\utils\\traceback_utils.py\u001b[0m in \u001b[0;36merror_handler\u001b[1;34m(*args, **kwargs)\u001b[0m\n\u001b[0;32m     62\u001b[0m     \u001b[0mfiltered_tb\u001b[0m \u001b[1;33m=\u001b[0m \u001b[1;32mNone\u001b[0m\u001b[1;33m\u001b[0m\u001b[1;33m\u001b[0m\u001b[0m\n\u001b[0;32m     63\u001b[0m     \u001b[1;32mtry\u001b[0m\u001b[1;33m:\u001b[0m\u001b[1;33m\u001b[0m\u001b[1;33m\u001b[0m\u001b[0m\n\u001b[1;32m---> 64\u001b[1;33m       \u001b[1;32mreturn\u001b[0m \u001b[0mfn\u001b[0m\u001b[1;33m(\u001b[0m\u001b[1;33m*\u001b[0m\u001b[0margs\u001b[0m\u001b[1;33m,\u001b[0m \u001b[1;33m**\u001b[0m\u001b[0mkwargs\u001b[0m\u001b[1;33m)\u001b[0m\u001b[1;33m\u001b[0m\u001b[1;33m\u001b[0m\u001b[0m\n\u001b[0m\u001b[0;32m     65\u001b[0m     \u001b[1;32mexcept\u001b[0m \u001b[0mException\u001b[0m \u001b[1;32mas\u001b[0m \u001b[0me\u001b[0m\u001b[1;33m:\u001b[0m  \u001b[1;31m# pylint: disable=broad-except\u001b[0m\u001b[1;33m\u001b[0m\u001b[1;33m\u001b[0m\u001b[0m\n\u001b[0;32m     66\u001b[0m       \u001b[0mfiltered_tb\u001b[0m \u001b[1;33m=\u001b[0m \u001b[0m_process_traceback_frames\u001b[0m\u001b[1;33m(\u001b[0m\u001b[0me\u001b[0m\u001b[1;33m.\u001b[0m\u001b[0m__traceback__\u001b[0m\u001b[1;33m)\u001b[0m\u001b[1;33m\u001b[0m\u001b[1;33m\u001b[0m\u001b[0m\n",
      "\u001b[1;32m~\\anaconda3\\envs\\NLP\\lib\\site-packages\\keras\\engine\\base_layer.py\u001b[0m in \u001b[0;36m__call__\u001b[1;34m(self, *args, **kwargs)\u001b[0m\n\u001b[0;32m   1094\u001b[0m         with autocast_variable.enable_auto_cast_variables(\n\u001b[0;32m   1095\u001b[0m             self._compute_dtype_object):\n\u001b[1;32m-> 1096\u001b[1;33m           \u001b[0moutputs\u001b[0m \u001b[1;33m=\u001b[0m \u001b[0mcall_fn\u001b[0m\u001b[1;33m(\u001b[0m\u001b[0minputs\u001b[0m\u001b[1;33m,\u001b[0m \u001b[1;33m*\u001b[0m\u001b[0margs\u001b[0m\u001b[1;33m,\u001b[0m \u001b[1;33m**\u001b[0m\u001b[0mkwargs\u001b[0m\u001b[1;33m)\u001b[0m\u001b[1;33m\u001b[0m\u001b[1;33m\u001b[0m\u001b[0m\n\u001b[0m\u001b[0;32m   1097\u001b[0m \u001b[1;33m\u001b[0m\u001b[0m\n\u001b[0;32m   1098\u001b[0m         \u001b[1;32mif\u001b[0m \u001b[0mself\u001b[0m\u001b[1;33m.\u001b[0m\u001b[0m_activity_regularizer\u001b[0m\u001b[1;33m:\u001b[0m\u001b[1;33m\u001b[0m\u001b[1;33m\u001b[0m\u001b[0m\n",
      "\u001b[1;32m~\\anaconda3\\envs\\NLP\\lib\\site-packages\\keras\\utils\\traceback_utils.py\u001b[0m in \u001b[0;36merror_handler\u001b[1;34m(*args, **kwargs)\u001b[0m\n\u001b[0;32m     90\u001b[0m     \u001b[0mbound_signature\u001b[0m \u001b[1;33m=\u001b[0m \u001b[1;32mNone\u001b[0m\u001b[1;33m\u001b[0m\u001b[1;33m\u001b[0m\u001b[0m\n\u001b[0;32m     91\u001b[0m     \u001b[1;32mtry\u001b[0m\u001b[1;33m:\u001b[0m\u001b[1;33m\u001b[0m\u001b[1;33m\u001b[0m\u001b[0m\n\u001b[1;32m---> 92\u001b[1;33m       \u001b[1;32mreturn\u001b[0m \u001b[0mfn\u001b[0m\u001b[1;33m(\u001b[0m\u001b[1;33m*\u001b[0m\u001b[0margs\u001b[0m\u001b[1;33m,\u001b[0m \u001b[1;33m**\u001b[0m\u001b[0mkwargs\u001b[0m\u001b[1;33m)\u001b[0m\u001b[1;33m\u001b[0m\u001b[1;33m\u001b[0m\u001b[0m\n\u001b[0m\u001b[0;32m     93\u001b[0m     \u001b[1;32mexcept\u001b[0m \u001b[0mException\u001b[0m \u001b[1;32mas\u001b[0m \u001b[0me\u001b[0m\u001b[1;33m:\u001b[0m  \u001b[1;31m# pylint: disable=broad-except\u001b[0m\u001b[1;33m\u001b[0m\u001b[1;33m\u001b[0m\u001b[0m\n\u001b[0;32m     94\u001b[0m       \u001b[1;32mif\u001b[0m \u001b[0mhasattr\u001b[0m\u001b[1;33m(\u001b[0m\u001b[0me\u001b[0m\u001b[1;33m,\u001b[0m \u001b[1;34m'_keras_call_info_injected'\u001b[0m\u001b[1;33m)\u001b[0m\u001b[1;33m:\u001b[0m\u001b[1;33m\u001b[0m\u001b[1;33m\u001b[0m\u001b[0m\n",
      "\u001b[1;32m~\\anaconda3\\envs\\NLP\\lib\\site-packages\\transformers\\models\\distilbert\\modeling_tf_distilbert.py\u001b[0m in \u001b[0;36mcall\u001b[1;34m(self, x, attn_mask, head_mask, output_attentions, training)\u001b[0m\n\u001b[0;32m    270\u001b[0m \u001b[1;33m\u001b[0m\u001b[0m\n\u001b[0;32m    271\u001b[0m         \u001b[1;31m# Feed Forward Network\u001b[0m\u001b[1;33m\u001b[0m\u001b[1;33m\u001b[0m\u001b[1;33m\u001b[0m\u001b[0m\n\u001b[1;32m--> 272\u001b[1;33m         \u001b[0mffn_output\u001b[0m \u001b[1;33m=\u001b[0m \u001b[0mself\u001b[0m\u001b[1;33m.\u001b[0m\u001b[0mffn\u001b[0m\u001b[1;33m(\u001b[0m\u001b[0msa_output\u001b[0m\u001b[1;33m,\u001b[0m \u001b[0mtraining\u001b[0m\u001b[1;33m=\u001b[0m\u001b[0mtraining\u001b[0m\u001b[1;33m)\u001b[0m  \u001b[1;31m# (bs, seq_length, dim)\u001b[0m\u001b[1;33m\u001b[0m\u001b[1;33m\u001b[0m\u001b[0m\n\u001b[0m\u001b[0;32m    273\u001b[0m         \u001b[0mffn_output\u001b[0m \u001b[1;33m=\u001b[0m \u001b[0mself\u001b[0m\u001b[1;33m.\u001b[0m\u001b[0moutput_layer_norm\u001b[0m\u001b[1;33m(\u001b[0m\u001b[0mffn_output\u001b[0m \u001b[1;33m+\u001b[0m \u001b[0msa_output\u001b[0m\u001b[1;33m)\u001b[0m  \u001b[1;31m# (bs, seq_length, dim)\u001b[0m\u001b[1;33m\u001b[0m\u001b[1;33m\u001b[0m\u001b[0m\n\u001b[0;32m    274\u001b[0m \u001b[1;33m\u001b[0m\u001b[0m\n",
      "\u001b[1;32m~\\anaconda3\\envs\\NLP\\lib\\site-packages\\keras\\utils\\traceback_utils.py\u001b[0m in \u001b[0;36merror_handler\u001b[1;34m(*args, **kwargs)\u001b[0m\n\u001b[0;32m     62\u001b[0m     \u001b[0mfiltered_tb\u001b[0m \u001b[1;33m=\u001b[0m \u001b[1;32mNone\u001b[0m\u001b[1;33m\u001b[0m\u001b[1;33m\u001b[0m\u001b[0m\n\u001b[0;32m     63\u001b[0m     \u001b[1;32mtry\u001b[0m\u001b[1;33m:\u001b[0m\u001b[1;33m\u001b[0m\u001b[1;33m\u001b[0m\u001b[0m\n\u001b[1;32m---> 64\u001b[1;33m       \u001b[1;32mreturn\u001b[0m \u001b[0mfn\u001b[0m\u001b[1;33m(\u001b[0m\u001b[1;33m*\u001b[0m\u001b[0margs\u001b[0m\u001b[1;33m,\u001b[0m \u001b[1;33m**\u001b[0m\u001b[0mkwargs\u001b[0m\u001b[1;33m)\u001b[0m\u001b[1;33m\u001b[0m\u001b[1;33m\u001b[0m\u001b[0m\n\u001b[0m\u001b[0;32m     65\u001b[0m     \u001b[1;32mexcept\u001b[0m \u001b[0mException\u001b[0m \u001b[1;32mas\u001b[0m \u001b[0me\u001b[0m\u001b[1;33m:\u001b[0m  \u001b[1;31m# pylint: disable=broad-except\u001b[0m\u001b[1;33m\u001b[0m\u001b[1;33m\u001b[0m\u001b[0m\n\u001b[0;32m     66\u001b[0m       \u001b[0mfiltered_tb\u001b[0m \u001b[1;33m=\u001b[0m \u001b[0m_process_traceback_frames\u001b[0m\u001b[1;33m(\u001b[0m\u001b[0me\u001b[0m\u001b[1;33m.\u001b[0m\u001b[0m__traceback__\u001b[0m\u001b[1;33m)\u001b[0m\u001b[1;33m\u001b[0m\u001b[1;33m\u001b[0m\u001b[0m\n",
      "\u001b[1;32m~\\anaconda3\\envs\\NLP\\lib\\site-packages\\keras\\engine\\base_layer.py\u001b[0m in \u001b[0;36m__call__\u001b[1;34m(self, *args, **kwargs)\u001b[0m\n\u001b[0;32m   1094\u001b[0m         with autocast_variable.enable_auto_cast_variables(\n\u001b[0;32m   1095\u001b[0m             self._compute_dtype_object):\n\u001b[1;32m-> 1096\u001b[1;33m           \u001b[0moutputs\u001b[0m \u001b[1;33m=\u001b[0m \u001b[0mcall_fn\u001b[0m\u001b[1;33m(\u001b[0m\u001b[0minputs\u001b[0m\u001b[1;33m,\u001b[0m \u001b[1;33m*\u001b[0m\u001b[0margs\u001b[0m\u001b[1;33m,\u001b[0m \u001b[1;33m**\u001b[0m\u001b[0mkwargs\u001b[0m\u001b[1;33m)\u001b[0m\u001b[1;33m\u001b[0m\u001b[1;33m\u001b[0m\u001b[0m\n\u001b[0m\u001b[0;32m   1097\u001b[0m \u001b[1;33m\u001b[0m\u001b[0m\n\u001b[0;32m   1098\u001b[0m         \u001b[1;32mif\u001b[0m \u001b[0mself\u001b[0m\u001b[1;33m.\u001b[0m\u001b[0m_activity_regularizer\u001b[0m\u001b[1;33m:\u001b[0m\u001b[1;33m\u001b[0m\u001b[1;33m\u001b[0m\u001b[0m\n",
      "\u001b[1;32m~\\anaconda3\\envs\\NLP\\lib\\site-packages\\keras\\utils\\traceback_utils.py\u001b[0m in \u001b[0;36merror_handler\u001b[1;34m(*args, **kwargs)\u001b[0m\n\u001b[0;32m     90\u001b[0m     \u001b[0mbound_signature\u001b[0m \u001b[1;33m=\u001b[0m \u001b[1;32mNone\u001b[0m\u001b[1;33m\u001b[0m\u001b[1;33m\u001b[0m\u001b[0m\n\u001b[0;32m     91\u001b[0m     \u001b[1;32mtry\u001b[0m\u001b[1;33m:\u001b[0m\u001b[1;33m\u001b[0m\u001b[1;33m\u001b[0m\u001b[0m\n\u001b[1;32m---> 92\u001b[1;33m       \u001b[1;32mreturn\u001b[0m \u001b[0mfn\u001b[0m\u001b[1;33m(\u001b[0m\u001b[1;33m*\u001b[0m\u001b[0margs\u001b[0m\u001b[1;33m,\u001b[0m \u001b[1;33m**\u001b[0m\u001b[0mkwargs\u001b[0m\u001b[1;33m)\u001b[0m\u001b[1;33m\u001b[0m\u001b[1;33m\u001b[0m\u001b[0m\n\u001b[0m\u001b[0;32m     93\u001b[0m     \u001b[1;32mexcept\u001b[0m \u001b[0mException\u001b[0m \u001b[1;32mas\u001b[0m \u001b[0me\u001b[0m\u001b[1;33m:\u001b[0m  \u001b[1;31m# pylint: disable=broad-except\u001b[0m\u001b[1;33m\u001b[0m\u001b[1;33m\u001b[0m\u001b[0m\n\u001b[0;32m     94\u001b[0m       \u001b[1;32mif\u001b[0m \u001b[0mhasattr\u001b[0m\u001b[1;33m(\u001b[0m\u001b[0me\u001b[0m\u001b[1;33m,\u001b[0m \u001b[1;34m'_keras_call_info_injected'\u001b[0m\u001b[1;33m)\u001b[0m\u001b[1;33m:\u001b[0m\u001b[1;33m\u001b[0m\u001b[1;33m\u001b[0m\u001b[0m\n",
      "\u001b[1;32m~\\anaconda3\\envs\\NLP\\lib\\site-packages\\transformers\\models\\distilbert\\modeling_tf_distilbert.py\u001b[0m in \u001b[0;36mcall\u001b[1;34m(self, input, training)\u001b[0m\n\u001b[0;32m    223\u001b[0m \u001b[1;33m\u001b[0m\u001b[0m\n\u001b[0;32m    224\u001b[0m     \u001b[1;32mdef\u001b[0m \u001b[0mcall\u001b[0m\u001b[1;33m(\u001b[0m\u001b[0mself\u001b[0m\u001b[1;33m,\u001b[0m \u001b[0minput\u001b[0m\u001b[1;33m,\u001b[0m \u001b[0mtraining\u001b[0m\u001b[1;33m=\u001b[0m\u001b[1;32mFalse\u001b[0m\u001b[1;33m)\u001b[0m\u001b[1;33m:\u001b[0m\u001b[1;33m\u001b[0m\u001b[1;33m\u001b[0m\u001b[0m\n\u001b[1;32m--> 225\u001b[1;33m         \u001b[0mx\u001b[0m \u001b[1;33m=\u001b[0m \u001b[0mself\u001b[0m\u001b[1;33m.\u001b[0m\u001b[0mlin1\u001b[0m\u001b[1;33m(\u001b[0m\u001b[0minput\u001b[0m\u001b[1;33m)\u001b[0m\u001b[1;33m\u001b[0m\u001b[1;33m\u001b[0m\u001b[0m\n\u001b[0m\u001b[0;32m    226\u001b[0m         \u001b[0mx\u001b[0m \u001b[1;33m=\u001b[0m \u001b[0mself\u001b[0m\u001b[1;33m.\u001b[0m\u001b[0mactivation\u001b[0m\u001b[1;33m(\u001b[0m\u001b[0mx\u001b[0m\u001b[1;33m)\u001b[0m\u001b[1;33m\u001b[0m\u001b[1;33m\u001b[0m\u001b[0m\n\u001b[0;32m    227\u001b[0m         \u001b[0mx\u001b[0m \u001b[1;33m=\u001b[0m \u001b[0mself\u001b[0m\u001b[1;33m.\u001b[0m\u001b[0mlin2\u001b[0m\u001b[1;33m(\u001b[0m\u001b[0mx\u001b[0m\u001b[1;33m)\u001b[0m\u001b[1;33m\u001b[0m\u001b[1;33m\u001b[0m\u001b[0m\n",
      "\u001b[1;32m~\\anaconda3\\envs\\NLP\\lib\\site-packages\\keras\\utils\\traceback_utils.py\u001b[0m in \u001b[0;36merror_handler\u001b[1;34m(*args, **kwargs)\u001b[0m\n\u001b[0;32m     62\u001b[0m     \u001b[0mfiltered_tb\u001b[0m \u001b[1;33m=\u001b[0m \u001b[1;32mNone\u001b[0m\u001b[1;33m\u001b[0m\u001b[1;33m\u001b[0m\u001b[0m\n\u001b[0;32m     63\u001b[0m     \u001b[1;32mtry\u001b[0m\u001b[1;33m:\u001b[0m\u001b[1;33m\u001b[0m\u001b[1;33m\u001b[0m\u001b[0m\n\u001b[1;32m---> 64\u001b[1;33m       \u001b[1;32mreturn\u001b[0m \u001b[0mfn\u001b[0m\u001b[1;33m(\u001b[0m\u001b[1;33m*\u001b[0m\u001b[0margs\u001b[0m\u001b[1;33m,\u001b[0m \u001b[1;33m**\u001b[0m\u001b[0mkwargs\u001b[0m\u001b[1;33m)\u001b[0m\u001b[1;33m\u001b[0m\u001b[1;33m\u001b[0m\u001b[0m\n\u001b[0m\u001b[0;32m     65\u001b[0m     \u001b[1;32mexcept\u001b[0m \u001b[0mException\u001b[0m \u001b[1;32mas\u001b[0m \u001b[0me\u001b[0m\u001b[1;33m:\u001b[0m  \u001b[1;31m# pylint: disable=broad-except\u001b[0m\u001b[1;33m\u001b[0m\u001b[1;33m\u001b[0m\u001b[0m\n\u001b[0;32m     66\u001b[0m       \u001b[0mfiltered_tb\u001b[0m \u001b[1;33m=\u001b[0m \u001b[0m_process_traceback_frames\u001b[0m\u001b[1;33m(\u001b[0m\u001b[0me\u001b[0m\u001b[1;33m.\u001b[0m\u001b[0m__traceback__\u001b[0m\u001b[1;33m)\u001b[0m\u001b[1;33m\u001b[0m\u001b[1;33m\u001b[0m\u001b[0m\n",
      "\u001b[1;32m~\\anaconda3\\envs\\NLP\\lib\\site-packages\\keras\\engine\\base_layer.py\u001b[0m in \u001b[0;36m__call__\u001b[1;34m(self, *args, **kwargs)\u001b[0m\n\u001b[0;32m   1094\u001b[0m         with autocast_variable.enable_auto_cast_variables(\n\u001b[0;32m   1095\u001b[0m             self._compute_dtype_object):\n\u001b[1;32m-> 1096\u001b[1;33m           \u001b[0moutputs\u001b[0m \u001b[1;33m=\u001b[0m \u001b[0mcall_fn\u001b[0m\u001b[1;33m(\u001b[0m\u001b[0minputs\u001b[0m\u001b[1;33m,\u001b[0m \u001b[1;33m*\u001b[0m\u001b[0margs\u001b[0m\u001b[1;33m,\u001b[0m \u001b[1;33m**\u001b[0m\u001b[0mkwargs\u001b[0m\u001b[1;33m)\u001b[0m\u001b[1;33m\u001b[0m\u001b[1;33m\u001b[0m\u001b[0m\n\u001b[0m\u001b[0;32m   1097\u001b[0m \u001b[1;33m\u001b[0m\u001b[0m\n\u001b[0;32m   1098\u001b[0m         \u001b[1;32mif\u001b[0m \u001b[0mself\u001b[0m\u001b[1;33m.\u001b[0m\u001b[0m_activity_regularizer\u001b[0m\u001b[1;33m:\u001b[0m\u001b[1;33m\u001b[0m\u001b[1;33m\u001b[0m\u001b[0m\n",
      "\u001b[1;32m~\\anaconda3\\envs\\NLP\\lib\\site-packages\\keras\\utils\\traceback_utils.py\u001b[0m in \u001b[0;36merror_handler\u001b[1;34m(*args, **kwargs)\u001b[0m\n\u001b[0;32m     90\u001b[0m     \u001b[0mbound_signature\u001b[0m \u001b[1;33m=\u001b[0m \u001b[1;32mNone\u001b[0m\u001b[1;33m\u001b[0m\u001b[1;33m\u001b[0m\u001b[0m\n\u001b[0;32m     91\u001b[0m     \u001b[1;32mtry\u001b[0m\u001b[1;33m:\u001b[0m\u001b[1;33m\u001b[0m\u001b[1;33m\u001b[0m\u001b[0m\n\u001b[1;32m---> 92\u001b[1;33m       \u001b[1;32mreturn\u001b[0m \u001b[0mfn\u001b[0m\u001b[1;33m(\u001b[0m\u001b[1;33m*\u001b[0m\u001b[0margs\u001b[0m\u001b[1;33m,\u001b[0m \u001b[1;33m**\u001b[0m\u001b[0mkwargs\u001b[0m\u001b[1;33m)\u001b[0m\u001b[1;33m\u001b[0m\u001b[1;33m\u001b[0m\u001b[0m\n\u001b[0m\u001b[0;32m     93\u001b[0m     \u001b[1;32mexcept\u001b[0m \u001b[0mException\u001b[0m \u001b[1;32mas\u001b[0m \u001b[0me\u001b[0m\u001b[1;33m:\u001b[0m  \u001b[1;31m# pylint: disable=broad-except\u001b[0m\u001b[1;33m\u001b[0m\u001b[1;33m\u001b[0m\u001b[0m\n\u001b[0;32m     94\u001b[0m       \u001b[1;32mif\u001b[0m \u001b[0mhasattr\u001b[0m\u001b[1;33m(\u001b[0m\u001b[0me\u001b[0m\u001b[1;33m,\u001b[0m \u001b[1;34m'_keras_call_info_injected'\u001b[0m\u001b[1;33m)\u001b[0m\u001b[1;33m:\u001b[0m\u001b[1;33m\u001b[0m\u001b[1;33m\u001b[0m\u001b[0m\n",
      "\u001b[1;32m~\\anaconda3\\envs\\NLP\\lib\\site-packages\\keras\\layers\\core\\dense.py\u001b[0m in \u001b[0;36mcall\u001b[1;34m(self, inputs)\u001b[0m\n\u001b[0;32m    220\u001b[0m     \u001b[1;31m# Broadcast kernel to inputs.\u001b[0m\u001b[1;33m\u001b[0m\u001b[1;33m\u001b[0m\u001b[1;33m\u001b[0m\u001b[0m\n\u001b[0;32m    221\u001b[0m     \u001b[1;32melse\u001b[0m\u001b[1;33m:\u001b[0m\u001b[1;33m\u001b[0m\u001b[1;33m\u001b[0m\u001b[0m\n\u001b[1;32m--> 222\u001b[1;33m       \u001b[0moutputs\u001b[0m \u001b[1;33m=\u001b[0m \u001b[0mtf\u001b[0m\u001b[1;33m.\u001b[0m\u001b[0mtensordot\u001b[0m\u001b[1;33m(\u001b[0m\u001b[0minputs\u001b[0m\u001b[1;33m,\u001b[0m \u001b[0mself\u001b[0m\u001b[1;33m.\u001b[0m\u001b[0mkernel\u001b[0m\u001b[1;33m,\u001b[0m \u001b[1;33m[\u001b[0m\u001b[1;33m[\u001b[0m\u001b[0mrank\u001b[0m \u001b[1;33m-\u001b[0m \u001b[1;36m1\u001b[0m\u001b[1;33m]\u001b[0m\u001b[1;33m,\u001b[0m \u001b[1;33m[\u001b[0m\u001b[1;36m0\u001b[0m\u001b[1;33m]\u001b[0m\u001b[1;33m]\u001b[0m\u001b[1;33m)\u001b[0m\u001b[1;33m\u001b[0m\u001b[1;33m\u001b[0m\u001b[0m\n\u001b[0m\u001b[0;32m    223\u001b[0m       \u001b[1;31m# Reshape the output back to the original ndim of the input.\u001b[0m\u001b[1;33m\u001b[0m\u001b[1;33m\u001b[0m\u001b[1;33m\u001b[0m\u001b[0m\n\u001b[0;32m    224\u001b[0m       \u001b[1;32mif\u001b[0m \u001b[1;32mnot\u001b[0m \u001b[0mtf\u001b[0m\u001b[1;33m.\u001b[0m\u001b[0mexecuting_eagerly\u001b[0m\u001b[1;33m(\u001b[0m\u001b[1;33m)\u001b[0m\u001b[1;33m:\u001b[0m\u001b[1;33m\u001b[0m\u001b[1;33m\u001b[0m\u001b[0m\n",
      "\u001b[1;32m~\\anaconda3\\envs\\NLP\\lib\\site-packages\\tensorflow\\python\\util\\traceback_utils.py\u001b[0m in \u001b[0;36merror_handler\u001b[1;34m(*args, **kwargs)\u001b[0m\n\u001b[0;32m    148\u001b[0m     \u001b[0mfiltered_tb\u001b[0m \u001b[1;33m=\u001b[0m \u001b[1;32mNone\u001b[0m\u001b[1;33m\u001b[0m\u001b[1;33m\u001b[0m\u001b[0m\n\u001b[0;32m    149\u001b[0m     \u001b[1;32mtry\u001b[0m\u001b[1;33m:\u001b[0m\u001b[1;33m\u001b[0m\u001b[1;33m\u001b[0m\u001b[0m\n\u001b[1;32m--> 150\u001b[1;33m       \u001b[1;32mreturn\u001b[0m \u001b[0mfn\u001b[0m\u001b[1;33m(\u001b[0m\u001b[1;33m*\u001b[0m\u001b[0margs\u001b[0m\u001b[1;33m,\u001b[0m \u001b[1;33m**\u001b[0m\u001b[0mkwargs\u001b[0m\u001b[1;33m)\u001b[0m\u001b[1;33m\u001b[0m\u001b[1;33m\u001b[0m\u001b[0m\n\u001b[0m\u001b[0;32m    151\u001b[0m     \u001b[1;32mexcept\u001b[0m \u001b[0mException\u001b[0m \u001b[1;32mas\u001b[0m \u001b[0me\u001b[0m\u001b[1;33m:\u001b[0m\u001b[1;33m\u001b[0m\u001b[1;33m\u001b[0m\u001b[0m\n\u001b[0;32m    152\u001b[0m       \u001b[0mfiltered_tb\u001b[0m \u001b[1;33m=\u001b[0m \u001b[0m_process_traceback_frames\u001b[0m\u001b[1;33m(\u001b[0m\u001b[0me\u001b[0m\u001b[1;33m.\u001b[0m\u001b[0m__traceback__\u001b[0m\u001b[1;33m)\u001b[0m\u001b[1;33m\u001b[0m\u001b[1;33m\u001b[0m\u001b[0m\n",
      "\u001b[1;32m~\\anaconda3\\envs\\NLP\\lib\\site-packages\\tensorflow\\python\\util\\dispatch.py\u001b[0m in \u001b[0;36mop_dispatch_handler\u001b[1;34m(*args, **kwargs)\u001b[0m\n\u001b[0;32m   1080\u001b[0m       \u001b[1;31m# Fallback dispatch system (dispatch v1):\u001b[0m\u001b[1;33m\u001b[0m\u001b[1;33m\u001b[0m\u001b[1;33m\u001b[0m\u001b[0m\n\u001b[0;32m   1081\u001b[0m       \u001b[1;32mtry\u001b[0m\u001b[1;33m:\u001b[0m\u001b[1;33m\u001b[0m\u001b[1;33m\u001b[0m\u001b[0m\n\u001b[1;32m-> 1082\u001b[1;33m         \u001b[1;32mreturn\u001b[0m \u001b[0mdispatch_target\u001b[0m\u001b[1;33m(\u001b[0m\u001b[1;33m*\u001b[0m\u001b[0margs\u001b[0m\u001b[1;33m,\u001b[0m \u001b[1;33m**\u001b[0m\u001b[0mkwargs\u001b[0m\u001b[1;33m)\u001b[0m\u001b[1;33m\u001b[0m\u001b[1;33m\u001b[0m\u001b[0m\n\u001b[0m\u001b[0;32m   1083\u001b[0m       \u001b[1;32mexcept\u001b[0m \u001b[1;33m(\u001b[0m\u001b[0mTypeError\u001b[0m\u001b[1;33m,\u001b[0m \u001b[0mValueError\u001b[0m\u001b[1;33m)\u001b[0m\u001b[1;33m:\u001b[0m\u001b[1;33m\u001b[0m\u001b[1;33m\u001b[0m\u001b[0m\n\u001b[0;32m   1084\u001b[0m         \u001b[1;31m# Note: convert_to_eager_tensor currently raises a ValueError, not a\u001b[0m\u001b[1;33m\u001b[0m\u001b[1;33m\u001b[0m\u001b[1;33m\u001b[0m\u001b[0m\n",
      "\u001b[1;32m~\\anaconda3\\envs\\NLP\\lib\\site-packages\\tensorflow\\python\\ops\\math_ops.py\u001b[0m in \u001b[0;36mtensordot\u001b[1;34m(a, b, axes, name)\u001b[0m\n\u001b[0;32m   5122\u001b[0m     b_reshape, b_free_dims, b_free_dims_static = _tensordot_reshape(\n\u001b[0;32m   5123\u001b[0m         b, b_axes, True)\n\u001b[1;32m-> 5124\u001b[1;33m     \u001b[0mab_matmul\u001b[0m \u001b[1;33m=\u001b[0m \u001b[0mmatmul\u001b[0m\u001b[1;33m(\u001b[0m\u001b[0ma_reshape\u001b[0m\u001b[1;33m,\u001b[0m \u001b[0mb_reshape\u001b[0m\u001b[1;33m)\u001b[0m\u001b[1;33m\u001b[0m\u001b[1;33m\u001b[0m\u001b[0m\n\u001b[0m\u001b[0;32m   5125\u001b[0m     \u001b[1;32mif\u001b[0m \u001b[0misinstance\u001b[0m\u001b[1;33m(\u001b[0m\u001b[0ma_free_dims\u001b[0m\u001b[1;33m,\u001b[0m \u001b[0mlist\u001b[0m\u001b[1;33m)\u001b[0m \u001b[1;32mand\u001b[0m \u001b[0misinstance\u001b[0m\u001b[1;33m(\u001b[0m\u001b[0mb_free_dims\u001b[0m\u001b[1;33m,\u001b[0m \u001b[0mlist\u001b[0m\u001b[1;33m)\u001b[0m\u001b[1;33m:\u001b[0m\u001b[1;33m\u001b[0m\u001b[1;33m\u001b[0m\u001b[0m\n\u001b[0;32m   5126\u001b[0m       if (ab_matmul.get_shape().is_fully_defined() and\n",
      "\u001b[1;32m~\\anaconda3\\envs\\NLP\\lib\\site-packages\\tensorflow\\python\\util\\traceback_utils.py\u001b[0m in \u001b[0;36merror_handler\u001b[1;34m(*args, **kwargs)\u001b[0m\n\u001b[0;32m    148\u001b[0m     \u001b[0mfiltered_tb\u001b[0m \u001b[1;33m=\u001b[0m \u001b[1;32mNone\u001b[0m\u001b[1;33m\u001b[0m\u001b[1;33m\u001b[0m\u001b[0m\n\u001b[0;32m    149\u001b[0m     \u001b[1;32mtry\u001b[0m\u001b[1;33m:\u001b[0m\u001b[1;33m\u001b[0m\u001b[1;33m\u001b[0m\u001b[0m\n\u001b[1;32m--> 150\u001b[1;33m       \u001b[1;32mreturn\u001b[0m \u001b[0mfn\u001b[0m\u001b[1;33m(\u001b[0m\u001b[1;33m*\u001b[0m\u001b[0margs\u001b[0m\u001b[1;33m,\u001b[0m \u001b[1;33m**\u001b[0m\u001b[0mkwargs\u001b[0m\u001b[1;33m)\u001b[0m\u001b[1;33m\u001b[0m\u001b[1;33m\u001b[0m\u001b[0m\n\u001b[0m\u001b[0;32m    151\u001b[0m     \u001b[1;32mexcept\u001b[0m \u001b[0mException\u001b[0m \u001b[1;32mas\u001b[0m \u001b[0me\u001b[0m\u001b[1;33m:\u001b[0m\u001b[1;33m\u001b[0m\u001b[1;33m\u001b[0m\u001b[0m\n\u001b[0;32m    152\u001b[0m       \u001b[0mfiltered_tb\u001b[0m \u001b[1;33m=\u001b[0m \u001b[0m_process_traceback_frames\u001b[0m\u001b[1;33m(\u001b[0m\u001b[0me\u001b[0m\u001b[1;33m.\u001b[0m\u001b[0m__traceback__\u001b[0m\u001b[1;33m)\u001b[0m\u001b[1;33m\u001b[0m\u001b[1;33m\u001b[0m\u001b[0m\n",
      "\u001b[1;32m~\\anaconda3\\envs\\NLP\\lib\\site-packages\\tensorflow\\python\\util\\dispatch.py\u001b[0m in \u001b[0;36mop_dispatch_handler\u001b[1;34m(*args, **kwargs)\u001b[0m\n\u001b[0;32m   1080\u001b[0m       \u001b[1;31m# Fallback dispatch system (dispatch v1):\u001b[0m\u001b[1;33m\u001b[0m\u001b[1;33m\u001b[0m\u001b[1;33m\u001b[0m\u001b[0m\n\u001b[0;32m   1081\u001b[0m       \u001b[1;32mtry\u001b[0m\u001b[1;33m:\u001b[0m\u001b[1;33m\u001b[0m\u001b[1;33m\u001b[0m\u001b[0m\n\u001b[1;32m-> 1082\u001b[1;33m         \u001b[1;32mreturn\u001b[0m \u001b[0mdispatch_target\u001b[0m\u001b[1;33m(\u001b[0m\u001b[1;33m*\u001b[0m\u001b[0margs\u001b[0m\u001b[1;33m,\u001b[0m \u001b[1;33m**\u001b[0m\u001b[0mkwargs\u001b[0m\u001b[1;33m)\u001b[0m\u001b[1;33m\u001b[0m\u001b[1;33m\u001b[0m\u001b[0m\n\u001b[0m\u001b[0;32m   1083\u001b[0m       \u001b[1;32mexcept\u001b[0m \u001b[1;33m(\u001b[0m\u001b[0mTypeError\u001b[0m\u001b[1;33m,\u001b[0m \u001b[0mValueError\u001b[0m\u001b[1;33m)\u001b[0m\u001b[1;33m:\u001b[0m\u001b[1;33m\u001b[0m\u001b[1;33m\u001b[0m\u001b[0m\n\u001b[0;32m   1084\u001b[0m         \u001b[1;31m# Note: convert_to_eager_tensor currently raises a ValueError, not a\u001b[0m\u001b[1;33m\u001b[0m\u001b[1;33m\u001b[0m\u001b[1;33m\u001b[0m\u001b[0m\n",
      "\u001b[1;32m~\\anaconda3\\envs\\NLP\\lib\\site-packages\\tensorflow\\python\\ops\\math_ops.py\u001b[0m in \u001b[0;36mmatmul\u001b[1;34m(a, b, transpose_a, transpose_b, adjoint_a, adjoint_b, a_is_sparse, b_is_sparse, output_type, name)\u001b[0m\n\u001b[0;32m   3712\u001b[0m       \u001b[1;32melse\u001b[0m\u001b[1;33m:\u001b[0m\u001b[1;33m\u001b[0m\u001b[1;33m\u001b[0m\u001b[0m\n\u001b[0;32m   3713\u001b[0m         return gen_math_ops.mat_mul(\n\u001b[1;32m-> 3714\u001b[1;33m             a, b, transpose_a=transpose_a, transpose_b=transpose_b, name=name)\n\u001b[0m\u001b[0;32m   3715\u001b[0m \u001b[1;33m\u001b[0m\u001b[0m\n\u001b[0;32m   3716\u001b[0m \u001b[1;33m\u001b[0m\u001b[0m\n",
      "\u001b[1;32m~\\anaconda3\\envs\\NLP\\lib\\site-packages\\tensorflow\\python\\ops\\gen_math_ops.py\u001b[0m in \u001b[0;36mmat_mul\u001b[1;34m(a, b, transpose_a, transpose_b, name)\u001b[0m\n\u001b[0;32m   6012\u001b[0m       _result = pywrap_tfe.TFE_Py_FastPathExecute(\n\u001b[0;32m   6013\u001b[0m         \u001b[0m_ctx\u001b[0m\u001b[1;33m,\u001b[0m \u001b[1;34m\"MatMul\"\u001b[0m\u001b[1;33m,\u001b[0m \u001b[0mname\u001b[0m\u001b[1;33m,\u001b[0m \u001b[0ma\u001b[0m\u001b[1;33m,\u001b[0m \u001b[0mb\u001b[0m\u001b[1;33m,\u001b[0m \u001b[1;34m\"transpose_a\"\u001b[0m\u001b[1;33m,\u001b[0m \u001b[0mtranspose_a\u001b[0m\u001b[1;33m,\u001b[0m \u001b[1;34m\"transpose_b\"\u001b[0m\u001b[1;33m,\u001b[0m\u001b[1;33m\u001b[0m\u001b[1;33m\u001b[0m\u001b[0m\n\u001b[1;32m-> 6014\u001b[1;33m         transpose_b)\n\u001b[0m\u001b[0;32m   6015\u001b[0m       \u001b[1;32mreturn\u001b[0m \u001b[0m_result\u001b[0m\u001b[1;33m\u001b[0m\u001b[1;33m\u001b[0m\u001b[0m\n\u001b[0;32m   6016\u001b[0m     \u001b[1;32mexcept\u001b[0m \u001b[0m_core\u001b[0m\u001b[1;33m.\u001b[0m\u001b[0m_NotOkStatusException\u001b[0m \u001b[1;32mas\u001b[0m \u001b[0me\u001b[0m\u001b[1;33m:\u001b[0m\u001b[1;33m\u001b[0m\u001b[1;33m\u001b[0m\u001b[0m\n",
      "\u001b[1;31mKeyboardInterrupt\u001b[0m: "
     ]
    }
   ],
   "source": [
    "if not os.path.exists(os.path.join(checkpoint_dir, 'train_paragraphs_encodings.txt')) or \\\n",
    "   OVERRIDE_REPRESENTATIONS:\n",
    "\n",
    "    print(\"Obtaining training representations\")\n",
    "    for i in tqdm(range(len(train_paragraphs))):\n",
    "        train_paragraphs_encodings[i] = model.enc.model_p(tokenizer_distilbert(\n",
    "            train_paragraphs[i]['context'], max_length = MAX_SEQ_LEN, \n",
    "            return_tensors='tf',\n",
    "            truncation = True, padding = 'max_length'\n",
    "        ))[0,:,:]\n",
    "    \n",
    "    np.savetxt(os.path.join(checkpoint_dir, 'train_paragraphs_encodings.txt'), \n",
    "               train_paragraphs_encodings, delimiter=',')\n",
    "\n",
    "if not os.path.exists(os.path.join(checkpoint_dir, 'val_paragraphs_encodings.txt')) or \\\n",
    "   OVERRIDE_REPRESENTATIONS:\n",
    "\n",
    "    print(\"Obtaining validation representations\")\n",
    "    for i in tqdm(range(len(val_paragraphs))):\n",
    "        val_paragraphs_encodings[i] = model.enc.model_p(tokenizer_distilbert(\n",
    "            val_paragraphs[i]['context'], max_length = MAX_SEQ_LEN, \n",
    "            return_tensors='tf',\n",
    "            truncation = True, padding = 'max_length'\n",
    "        ))[0,:,:]\n",
    "\n",
    "    np.savetxt(os.path.join(checkpoint_dir, 'val_paragraphs_encodings.txt'),\n",
    "               val_paragraphs_encodings, delimiter=',')"
   ]
  },
  {
   "cell_type": "code",
   "execution_count": null,
   "metadata": {
    "id": "jPRAKDc-9GQm"
   },
   "outputs": [],
   "source": [
    "train_paragraphs_encoding = np.loadtxt(os.path.join(checkpoint_dir, \n",
    "                                                    'train_paragraphs_encodings.txt'), \n",
    "                                       delimiter=',', dtype=np.float32)\n",
    "val_paragraphs_encoding = np.loadtxt(os.path.join(checkpoint_dir, \n",
    "                                                  'val_paragraphs_encodings.txt'), \n",
    "                                     delimiter=',', dtype=np.float32)\n",
    "\n",
    "paragraph_encodings = np.concatenate([\n",
    "                                      train_paragraphs_encoding, \n",
    "                                      val_paragraphs_encoding], axis=0)"
   ]
  },
  {
   "cell_type": "code",
   "execution_count": null,
   "metadata": {
    "colab": {
     "base_uri": "https://localhost:8080/"
    },
    "id": "ACzsT13jiowd",
    "outputId": "77dae5aa-0d63-4c2a-cac0-847eb61b0c90"
   },
   "outputs": [
    {
     "data": {
      "text/plain": [
       "(23817, 768)"
      ]
     },
     "execution_count": 22,
     "metadata": {},
     "output_type": "execute_result"
    }
   ],
   "source": [
    "paragraph_encodings.shape"
   ]
  },
  {
   "cell_type": "markdown",
   "metadata": {
    "id": "nRjPOuWJPMT9"
   },
   "source": [
    "Actually, we don't have \"training\" and \"validation\" paragraphs, but a large set containing all of the available paragraphs."
   ]
  },
  {
   "cell_type": "markdown",
   "metadata": {
    "id": "ReN18CaggRW5"
   },
   "source": [
    "### Qualitative test"
   ]
  },
  {
   "cell_type": "markdown",
   "metadata": {
    "id": "qQ4-VRXZgXlb"
   },
   "source": [
    "We select some random questions and see whether the selected paragraph is the correct one."
   ]
  },
  {
   "cell_type": "code",
   "execution_count": null,
   "metadata": {
    "colab": {
     "base_uri": "https://localhost:8080/"
    },
    "id": "S1NISpx7gs4I",
    "outputId": "1f4c777f-8b7e-4b4d-cc0c-bdb11c1ffc1e"
   },
   "outputs": [
    {
     "name": "stdout",
     "output_type": "stream",
     "text": [
      "Question: What poet wrote a long poem describing Roman religious holidays?\n",
      "Ground truth paragraph: The meaning and origin of many archaic festivals baffled even Rome's intellectual elite, but the more obscure they were, the greater the opportunity for reinvention and reinterpretation — a fact lost neither on Augustus in his program of religious reform, which often cloaked autocratic innovation, nor on his only rival as mythmaker of the era, Ovid. In his Fasti, a long-form poem covering Roman holidays from January to June, Ovid presents a unique look at Roman antiquarian lore, popular customs, and religious practice that is by turns imaginative, entertaining, high-minded, and scurrilous; not a priestly account, despite the speaker's pose as a vates or inspired poet-prophet, but a work of description, imagination and poetic etymology that reflects the broad humor and burlesque spirit of such venerable festivals as the Saturnalia, Consualia, and feast of Anna Perenna on the Ides of March, where Ovid treats the assassination of the newly deified Julius Caesar as utterly incidental to the festivities among the Roman people. But official calendars preserved from different times and places also show a flexibility in omitting or expanding events, indicating that there was no single static and authoritative calendar of required observances. In the later Empire under Christian rule, the new Christian festivals were incorporated into the existing framework of the Roman calendar, alongside at least some of the traditional festivals.\n",
      "Ground truth index: 18137\n",
      "Question representation shape: (1, 768)\n",
      "Top-5 best matching paragraphs have indexes [18137 18135 10372 23647 18136]\n",
      "Top-5 best matching paragraphs:\n",
      "0)\tThe meaning and origin of many archaic festivals baffled even Rome's intellectual elite, but the more obscure they were, the greater the opportunity for reinvention and reinterpretation — a fact lost neither on Augustus in his program of religious reform, which often cloaked autocratic innovation, nor on his only rival as mythmaker of the era, Ovid. In his Fasti, a long-form poem covering Roman holidays from January to June, Ovid presents a unique look at Roman antiquarian lore, popular customs, and religious practice that is by turns imaginative, entertaining, high-minded, and scurrilous; not a priestly account, despite the speaker's pose as a vates or inspired poet-prophet, but a work of description, imagination and poetic etymology that reflects the broad humor and burlesque spirit of such venerable festivals as the Saturnalia, Consualia, and feast of Anna Perenna on the Ides of March, where Ovid treats the assassination of the newly deified Julius Caesar as utterly incidental to the festivities among the Roman people. But official calendars preserved from different times and places also show a flexibility in omitting or expanding events, indicating that there was no single static and authoritative calendar of required observances. In the later Empire under Christian rule, the new Christian festivals were incorporated into the existing framework of the Roman calendar, alongside at least some of the traditional festivals.\n",
      "1)\tRoman calendars show roughly forty annual religious festivals. Some lasted several days, others a single day or less: sacred days (dies fasti) outnumbered \"non-sacred\" days (dies nefasti). A comparison of surviving Roman religious calendars suggests that official festivals were organized according to broad seasonal groups that allowed for different local traditions. Some of the most ancient and popular festivals incorporated ludi (\"games,\" such as chariot races and theatrical performances), with examples including those held at Palestrina in honour of Fortuna Primigenia during Compitalia, and the Ludi Romani in honour of Liber. Other festivals may have required only the presence and rites of their priests and acolytes, or particular groups, such as women at the Bona Dea rites.\n",
      "2)\tWhile forming an integral part of the Christian calendar, particularly in Catholic regions, many Carnival traditions resemble those antedating Christianity. Italian Carnival is sometimes thought to be derived from the ancient Roman festivals of Saturnalia and Bacchanalia. The Saturnalia, in turn, may be based on the Greek Dionysia and Oriental festivals. For the start of the Roman Saturnalia, on December 17 authorities chose an enemy of the Roman people to represent the Lord of Misrule in each community. These men and women were forced to indulge in food and physical pleasures throughout the week, horribly murdered on December 25th: \"destroying the forces of darkness\".\n",
      "3)\tWhile forming an integral part of the Christian calendar, particularly in Catholic regions, many Carnival traditions resemble those antedating Christianity. Italian Carnival is sometimes thought to be derived from the ancient Roman festivals of Saturnalia and Bacchanalia. The Saturnalia, in turn, may be based on the Greek Dionysia and Oriental festivals. For the start of the Roman Saturnalia, on December 17 authorities chose an enemy of the Roman people to represent the Lord of Misrule in each community. These men and women were forced to indulge in food and physical pleasures throughout the week, horribly murdered on December 25th: \"destroying the forces of darkness\".\n",
      "4)\tOther public festivals were not required by the calendar, but occasioned by events. The triumph of a Roman general was celebrated as the fulfillment of religious vows, though these tended to be overshadowed by the political and social significance of the event. During the late Republic, the political elite competed to outdo each other in public display, and the ludi attendant on a triumph were expanded to include gladiator contests. Under the Principate, all such spectacular displays came under Imperial control: the most lavish were subsidised by emperors, and lesser events were provided by magistrates as a sacred duty and privilege of office. Additional festivals and games celebrated Imperial accessions and anniversaries. Others, such as the traditional Republican Secular Games to mark a new era (saeculum), became imperially funded to maintain traditional values and a common Roman identity. That the spectacles retained something of their sacral aura even in late antiquity is indicated by the admonitions of the Church Fathers that Christians should not take part.\n"
     ]
    }
   ],
   "source": [
    "sample_question = random.choice(train_questions)\n",
    "print(f\"Question: {sample_question['qas']['question']}\")\n",
    "print(f\"Ground truth paragraph: {get_paragraph_from_question(sample_question, train_dict)['context']}\")\n",
    "print(f\"Ground truth index: {get_paragraph_global_id_from_question(sample_question, paragraphs)}\")\n",
    "sample_q_repr = model.enc.model_q(tokenizer_distilbert(\n",
    "    sample_question['qas']['question'], max_length = 512, \n",
    "    return_tensors='tf', truncation = True, padding = 'max_length'\n",
    ")).last_hidden_state[:,0,:]\n",
    "print(f\"Question representation shape: {sample_q_repr.shape}\")\n",
    "scores = tf.tensordot(sample_q_repr, paragraph_encodings.T, axes=1)\n",
    "best_par_index = tf.argsort(scores, axis=1, direction='DESCENDING')[0, :5].numpy()\n",
    "print(f\"Top-5 best matching paragraphs have indexes {best_par_index}\")\n",
    "print(f\"Top-5 best matching paragraphs:\")\n",
    "for i in range(5):\n",
    "    print(f\"{i})\\t{paragraphs[best_par_index[i]]['context']}\")"
   ]
  },
  {
   "cell_type": "markdown",
   "metadata": {
    "id": "bOPMaSyb5CfJ"
   },
   "source": [
    "Usually, the correct paragraphs show up in the Top-5 list."
   ]
  },
  {
   "cell_type": "markdown",
   "metadata": {
    "id": "cWM3pdRAwBlz"
   },
   "source": [
    "### Quantitative test"
   ]
  },
  {
   "cell_type": "markdown",
   "metadata": {
    "id": "lJXrFcjnwFaA"
   },
   "source": [
    "We can measure the top-1/top-5 accuracy with the same used in the tf-idf baseline."
   ]
  },
  {
   "cell_type": "code",
   "execution_count": null,
   "metadata": {
    "id": "MShv2E92wXJt"
   },
   "outputs": [],
   "source": [
    "count_top1 = 0\n",
    "count_top5 = 0\n",
    "count_total = len(val_questions)\n",
    "\n",
    "if RUN_ACCURACY_ANALYSIS:\n",
    "    def top_5_for_question(question):\n",
    "        sample_q_repr = model.enc.model_q(question).last_hidden_state[:,0,:]\n",
    "        scores = tf.tensordot(sample_q_repr, paragraphs.T, axes=1)\n",
    "        top5_indices = tf.argsort(scores, axis=1, direction='DESCENDING')[0, :5].numpy()\n",
    "        top5_scores = tf.sort(scores, axis=1, direction='DESCENDING')[0, :5].numpy()\n",
    "        top5_para = [paragraphs[i] for i in top5_indices]\n",
    "        return top5_para, top5_scores, top5_indices     \n",
    "\n",
    "    for i,q in enumerate(tqdm(val_questions)):\n",
    "        top5_para, top5_scores, top5_indices = top_5_for_question(\n",
    "            tokenizer_distilbert(\n",
    "                q['qas']['question'], max_length = 512, \n",
    "                return_tensors='tf', truncation = True, padding = 'max_length'\n",
    "            )\n",
    "        )\n",
    "        top5_context_ids = [top5_para[i]['context_id'] for i in range(len(top5_para))]\n",
    "        gt_context_id = q['context_id'][0]\n",
    "        if gt_context_id == top5_context_ids[0]:\n",
    "            count_top1 += 1\n",
    "        if gt_context_id in top5_context_ids:\n",
    "            count_top5 += 1\n",
    "\n",
    "    top1_score = count_top1 / count_total * 100\n",
    "    top5_score = count_top5 / count_total * 100\n",
    "\n",
    "    print(f\"\\nTop 1 score: {top1_score:.2f}%,\\nTop 5 score: {top5_score:.2f}%\")"
   ]
  },
  {
   "cell_type": "markdown",
   "metadata": {
    "id": "RwctHyoXCrP5"
   },
   "source": [
    "TODO: Redo\n",
    "\n",
    "Top 1 score: 86.49%\n",
    "\n",
    "Top 5 score: 96.58%\n",
    "\n",
    "This is a clear improvement with respect to the Tf-Idf baseline (72.01%/87.82%), but it's also quite slower. \n",
    "- It may look as an unfair comparison, because the Tf-Idf baseline was tested on all questions, but in fact it's more realistic because it's done on a subset of data that the model has not been trained on."
   ]
  },
  {
   "cell_type": "markdown",
   "metadata": {
    "id": "zPG2DHje99it"
   },
   "source": [
    "## Question Answering model"
   ]
  },
  {
   "cell_type": "markdown",
   "metadata": {
    "id": "bGzumB9nAVYd"
   },
   "source": [
    "We pre-tokenize the paragraphs so that we have easy access to them inside the model."
   ]
  },
  {
   "cell_type": "code",
   "execution_count": null,
   "metadata": {
    "colab": {
     "base_uri": "https://localhost:8080/"
    },
    "id": "aDK42osrAlsX",
    "outputId": "e38eaf7c-d1d9-4a2c-d383-6e25e063eaaf"
   },
   "outputs": [
    {
     "name": "stderr",
     "output_type": "stream",
     "text": [
      "100%|██████████| 23817/23817 [00:19<00:00, 1253.39it/s]\n"
     ]
    }
   ],
   "source": [
    "pretokenized_paragraphs = {\n",
    "    'input_ids': [],\n",
    "    'attention_mask': [],\n",
    "    'offset_mapping': []\n",
    "}\n",
    "\n",
    "for i in tqdm(range(len(paragraphs))):\n",
    "    token_p = dict(tokenizer_distilbert(\n",
    "        paragraphs[i]['context'], max_length = 512, \n",
    "        return_tensors='tf', truncation = True, \n",
    "        padding = 'max_length', return_offsets_mapping = True\n",
    "    ))\n",
    "    pretokenized_paragraphs['input_ids'].append(token_p['input_ids'])\n",
    "    pretokenized_paragraphs['attention_mask'].append(token_p['attention_mask'])\n",
    "    pretokenized_paragraphs['offset_mapping'].append(token_p['offset_mapping'])"
   ]
  },
  {
   "cell_type": "markdown",
   "metadata": {
    "id": "VukXJ1tECXl9"
   },
   "source": [
    "Then, we create the Dense Passage Retriever model which contains the logic to deal with finding the highest scoring paragraph. It's by design non-trainable, since it assumes that `model_q` has already been trained."
   ]
  },
  {
   "cell_type": "code",
   "execution_count": null,
   "metadata": {
    "id": "w5mgm-pbCnLJ"
   },
   "outputs": [],
   "source": [
    "class DensePassageRetriever(keras.Model):\n",
    "    '''\n",
    "    This model retrieves the best available passages given a question\n",
    "    and a set of paragraphs (encodings). The model is non-trainable,\n",
    "    as it assumes that the deep question encoder (model_q) has already been\n",
    "    trained.\n",
    "    '''\n",
    "    def __init__(self, model_q, m=100):\n",
    "        super().__init__(trainable=False)\n",
    "        self.model_q = model_q\n",
    "        self.m = m\n",
    "\n",
    "    def call(self, inputs):\n",
    "        '''\n",
    "        Assumes that inputs is a dictionary containing (at least):\n",
    "        - `input_ids`: the input ids of the questions obtained from the tokenizer\n",
    "        - `attention_mask`: the attention mask of the questions obtained from the tokenizer\n",
    "\n",
    "        Returns the (batch_size x num_parag) matrix of scores and the (batch_size x m) top_m indexes (according\n",
    "        to parameter `m` which defaults to 100)\n",
    "        '''\n",
    "        # 1) Obtain search encoding of question\n",
    "        qs = {\n",
    "            'input_ids': inputs['questions']['input_ids'],\n",
    "            'attention_mask': inputs['questions']['attention_mask']\n",
    "        }\n",
    "        q_repr = self.model_q(qs).last_hidden_state[:,0,:]                                   # batch_size x encoding_dim\n",
    "        # 2) Selection of paragraphs using search encoding\n",
    "        scores = tf.tensordot(q_repr, tf.transpose(paragraph_encodings), axes=1)             # batch_size x num_parag\n",
    "        topm_indexes = tf.argsort(scores, axis=1, direction='DESCENDING')[:, :self.m]        # batch_size x m\n",
    "        return scores, topm_indexes\n"
   ]
  },
  {
   "cell_type": "markdown",
   "metadata": {
    "id": "qOcyq9GtN7i-"
   },
   "source": [
    "Finally, we define a function to create the model. The model should accept the top indices given by the DPR and return the collected paragraphs, their start, end and selection probabilities, as well as the representations according to `model_p`."
   ]
  },
  {
   "cell_type": "code",
   "execution_count": null,
   "metadata": {
    "id": "R_v3r3DcBeKz"
   },
   "outputs": [],
   "source": [
    "INPUT_LEN = 512     # Maximum length of the token sequence\n",
    "M = 3               # Number of paragraphs to be collected by the DPR (24 in the paper)\n",
    "\n",
    "class CollectParagraphsLayer(keras.layers.Layer):\n",
    "    '''\n",
    "    Custom layer that is used to collect the paragraphs according to the indices\n",
    "    returned by the DPR.\n",
    "    '''\n",
    "    def __init__(self, model_p):\n",
    "        super(CollectParagraphsLayer, self).__init__(trainable=False)\n",
    "        self.model_p = model_p\n",
    "\n",
    "    def call(self, inputs):\n",
    "        # Collect paragraphs. Inputs is the batch of paragraph indexes to gather\n",
    "        paragraphs = {\n",
    "            'input_ids': tf.squeeze(tf.gather(pretokenized_paragraphs['input_ids'], inputs), axis=2),\n",
    "            'attention_mask': tf.squeeze(tf.gather(pretokenized_paragraphs['attention_mask'], inputs), axis=2),\n",
    "            'offset_mapping': tf.squeeze(tf.gather(pretokenized_paragraphs['offset_mapping'], inputs), axis=2),\n",
    "            'indexes': inputs\n",
    "        }\n",
    "\n",
    "        # Iterate over batch to collect paragraphs representations\n",
    "        paragraphs_full_encodings = tf.cast(tf.expand_dims(self.model_p({\n",
    "                'input_ids': tf.gather(paragraphs['input_ids'], 0),\n",
    "                'attention_mask': tf.gather(paragraphs['attention_mask'], 0)\n",
    "            }).last_hidden_state, axis=0), dtype=tf.float32)\n",
    "        for i in tf.range(1, tf.shape(paragraphs['input_ids'])[0]):\n",
    "            tf.autograph.experimental.set_loop_options(\n",
    "                parallel_iterations=1,\n",
    "                swap_memory=True,\n",
    "                maximum_iterations=tf.shape(paragraphs['input_ids'])[0],\n",
    "                shape_invariants=[(paragraphs_full_encodings, tf.TensorShape([None, M, 512, 768]))]\n",
    "            )\n",
    "            hidden_state = self.model_p({\n",
    "                'input_ids': tf.gather(paragraphs['input_ids'], i),\n",
    "                'attention_mask': tf.gather(paragraphs['attention_mask'], i)\n",
    "            }).last_hidden_state\n",
    "            paragraphs_full_encodings = tf.concat([paragraphs_full_encodings, \n",
    "                                                  tf.cast(tf.expand_dims(hidden_state, axis=0), tf.float32)], \n",
    "                                                    axis=0)\n",
    "        \n",
    "        # Transform to tensors\n",
    "        paragraphs_search_encodings = paragraphs_full_encodings[:,:,0,:]\n",
    "\n",
    "        # # Compute full encoding (cannot pre-encode because it takes too much space) (also, for test mode)\n",
    "        # def hidden_states_fn(i, prev_hs, prev_hs_u):\n",
    "        #     # Body of the iteration: compute hidden state of element in batch\n",
    "        #     hidden_state = self.model_p({\n",
    "        #         'input_ids': tf.gather(paragraphs['input_ids'], i),\n",
    "        #         'attention_mask': tf.gather(paragraphs['attention_mask'], i)\n",
    "        #     }).last_hidden_state\n",
    "        #     return  tf.add(i, 1), tf.concat([prev_hs, tf.expand_dims(hidden_state, axis=0)], axis=0), \\\n",
    "        #             tf.concat([prev_hs_u, tf.expand_dims(hidden_state[:,0,:], axis=0)], axis=0)\n",
    "\n",
    "        # # Initial hidden state is that of element 0 of the batch\n",
    "        # init_hidden_state =  self.model_p({\n",
    "        #     'input_ids': tf.gather(paragraphs['input_ids'], 0),\n",
    "        #     'attention_mask': tf.gather(paragraphs['attention_mask'], 0)\n",
    "        # }).last_hidden_state\n",
    "        # # Define the loop variables and conditions\n",
    "        # loop_vars = (tf.constant(1), tf.expand_dims(init_hidden_state, axis=0), \n",
    "        #             tf.expand_dims(init_hidden_state[:,0,:], axis=0))\n",
    "        # cond = lambda i, a, b: tf.less(i, tf.shape(paragraphs['input_ids'])[0])\n",
    "        # body = hidden_states_fn\n",
    "        # # Run the while loop\n",
    "        # _, paragraphs_full_encodings, paragraphs_search_encodings = \\\n",
    "        #     tf.while_loop(cond, body, loop_vars, shape_invariants=(loop_vars[0].get_shape(), \n",
    "        #                                                         tf.TensorShape([None, M, 512, 768]),\n",
    "        #                                                         tf.TensorShape([None, M, 768])),\n",
    "        #                   swap_memory=True, maximum_iterations=tf.shape(paragraphs['input_ids'])[0])\n",
    "\n",
    "        return paragraphs, paragraphs_full_encodings, paragraphs_search_encodings\n",
    "\n",
    "class BestScoringCollector(keras.layers.Layer):\n",
    "    '''\n",
    "    Custom layer to collect the start and end probabilities from the best scoring\n",
    "    paragraph\n",
    "    '''\n",
    "    def __init__(self, **kwargs):\n",
    "        super(BestScoringCollector, self).__init__(trainable=False, **kwargs)\n",
    "\n",
    "    def call(self, probs_s, probs_e, probs_sel):\n",
    "        # Selection of best scoring paragraphs\n",
    "        best_scoring_paragraphs = tf.squeeze(tf.argmax(probs_sel, axis=1, output_type=tf.int32))\n",
    "        # Selection of related start-end probabilities\n",
    "        probs_s = tf.squeeze(tf.gather(probs_s, indices=tf.expand_dims(best_scoring_paragraphs, -1), batch_dims=1))\n",
    "        probs_e = tf.squeeze(tf.gather(probs_e, indices=tf.expand_dims(best_scoring_paragraphs, -1), batch_dims=1))\n",
    "        return probs_s, probs_e\n",
    "\n",
    "def create_QA_model(model_p, m = M):\n",
    "    # Receives in input the top indexes received by the DPR\n",
    "    topm_indexes = keras.Input(shape=(M, ), dtype='int32', name=\"topm_indexes\")\n",
    "\n",
    "    paragraphs, paragraphs_full_encodings, paragraphs_search_encodings = \\\n",
    "        CollectParagraphsLayer(model_p)(topm_indexes)\n",
    "\n",
    "    # Compute probabilities for the start token\n",
    "    out_S = keras.layers.TimeDistributed(keras.layers.Dense(1), name=\"start_token_logits\")(paragraphs_full_encodings)\n",
    "    out_S = keras.layers.Reshape((M, 512))(out_S)\n",
    "    out_S = keras.layers.Softmax(name=\"start_probs\", axis=1, dtype='float32')(out_S)\n",
    "\n",
    "    # The same is done for the end tokens.\n",
    "    out_E = keras.layers.TimeDistributed(keras.layers.Dense(1), name=\"end_token_logits\")(paragraphs_full_encodings)\n",
    "    out_E = keras.layers.Reshape((M, 512))(out_E)\n",
    "    out_E = keras.layers.Softmax(name=\"end_probs\", axis=1, dtype='float32')(out_E)\n",
    "\n",
    "    # Also, we compute paragraph selection probabilities\n",
    "    out_SEL = keras.layers.Dense(1, name=\"selection_logits\")(paragraphs_search_encodings)\n",
    "    out_SEL = keras.layers.Flatten('channels_first')(out_SEL)\n",
    "    out_SEL = keras.layers.Softmax(name=\"selection_probs\", dtype='float32')(out_SEL)\n",
    "\n",
    "    out_S, out_E = BestScoringCollector(name='best_scoring_collector')(out_S, out_E, out_SEL)\n",
    "\n",
    "    # We return the keras model\n",
    "    model = keras.Model(\n",
    "        inputs=[topm_indexes],\n",
    "        outputs = [paragraphs, paragraphs_full_encodings, out_S, out_E, out_SEL]\n",
    "    )\n",
    "\n",
    "    return model"
   ]
  },
  {
   "cell_type": "markdown",
   "metadata": {
    "id": "JR-Jr45AObut"
   },
   "source": [
    "We analyze the model."
   ]
  },
  {
   "cell_type": "code",
   "execution_count": null,
   "metadata": {
    "id": "Cvu8NLQGtSbJ"
   },
   "outputs": [],
   "source": [
    "model_qa = create_QA_model(model.enc.model_q, model.enc.model_p)"
   ]
  },
  {
   "cell_type": "code",
   "execution_count": null,
   "metadata": {
    "colab": {
     "base_uri": "https://localhost:8080/"
    },
    "id": "CkdbnPt_v-G8",
    "outputId": "e34d586c-5a2e-482d-b48a-d4b7b06c513f"
   },
   "outputs": [
    {
     "name": "stdout",
     "output_type": "stream",
     "text": [
      "Model: \"model\"\n",
      "__________________________________________________________________________________________________\n",
      " Layer (type)                   Output Shape         Param #     Connected to                     \n",
      "==================================================================================================\n",
      " topm_indexes (InputLayer)      [(None, 3)]          0           []                               \n",
      "                                                                                                  \n",
      " collect_paragraphs_layer (Coll  ({'input_ids': (Non  66362880   ['topm_indexes[0][0]']           \n",
      " ectParagraphsLayer)            e, 3, 512),                                                       \n",
      "                                 'attention_mask':                                                \n",
      "                                (None, 3, 512),                                                   \n",
      "                                 'offset_mapping':                                                \n",
      "                                (None, 3, 512, 2),                                                \n",
      "                                 'indexes': (None,                                                \n",
      "                                3)},                                                              \n",
      "                                 (None, 3, 512, 768                                               \n",
      "                                ),                                                                \n",
      "                                 (None, 3, 768))                                                  \n",
      "                                                                                                  \n",
      " start_token_logits (TimeDistri  (None, 3, 512, 1)   769         ['collect_paragraphs_layer[0][4]'\n",
      " buted)                                                          ]                                \n",
      "                                                                                                  \n",
      " end_token_logits (TimeDistribu  (None, 3, 512, 1)   769         ['collect_paragraphs_layer[0][4]'\n",
      " ted)                                                            ]                                \n",
      "                                                                                                  \n",
      " selection_logits (Dense)       (None, 3, 1)         769         ['collect_paragraphs_layer[0][5]'\n",
      "                                                                 ]                                \n",
      "                                                                                                  \n",
      " reshape (Reshape)              (None, 3, 512)       0           ['start_token_logits[0][0]']     \n",
      "                                                                                                  \n",
      " reshape_1 (Reshape)            (None, 3, 512)       0           ['end_token_logits[0][0]']       \n",
      "                                                                                                  \n",
      " flatten (Flatten)              (None, 3)            0           ['selection_logits[0][0]']       \n",
      "                                                                                                  \n",
      " start_probs (Softmax)          (None, 3, 512)       0           ['reshape[0][0]']                \n",
      "                                                                                                  \n",
      " end_probs (Softmax)            (None, 3, 512)       0           ['reshape_1[0][0]']              \n",
      "                                                                                                  \n",
      " selection_probs (Softmax)      (None, 3)            0           ['flatten[0][0]']                \n",
      "                                                                                                  \n",
      " best_scoring_collector (BestSc  (None, None)        0           ['start_probs[0][0]',            \n",
      " oringCollector)                                                  'end_probs[0][0]',              \n",
      "                                                                  'selection_probs[0][0]']        \n",
      "                                                                                                  \n",
      "==================================================================================================\n",
      "Total params: 66,365,187\n",
      "Trainable params: 2,307\n",
      "Non-trainable params: 66,362,880\n",
      "__________________________________________________________________________________________________\n"
     ]
    }
   ],
   "source": [
    "model_qa.summary()"
   ]
  },
  {
   "cell_type": "markdown",
   "metadata": {
    "id": "m1Etf4vYO5OB"
   },
   "source": [
    "The outputs are of the expected shape. We also use an utility to see the model visually."
   ]
  },
  {
   "cell_type": "code",
   "execution_count": null,
   "metadata": {
    "colab": {
     "base_uri": "https://localhost:8080/",
     "height": 564
    },
    "id": "q8KH_VJSL8VN",
    "outputId": "bed812e2-58be-4f4b-ac9e-4ca1257e1764"
   },
   "outputs": [
    {
     "data": {
      "image/png": "[encoded data removed]",
      "text/plain": [
       "<IPython.core.display.Image object>"
      ]
     },
     "execution_count": 30,
     "metadata": {},
     "output_type": "execute_result"
    }
   ],
   "source": [
    "keras.utils.plot_model(model_qa, \"multi_input_and_output_model.png\")"
   ]
  },
  {
   "cell_type": "markdown",
   "metadata": {
    "id": "WNhAi3lsPUOZ"
   },
   "source": [
    "### Training\n",
    "\n",
    "To train the model we need to:\n",
    "\n",
    "- Compile it defining the losses and optimizer.\n",
    "- Create a ground truth batch that we use for comparing the model's output."
   ]
  },
  {
   "cell_type": "markdown",
   "metadata": {
    "id": "leUruObriIep"
   },
   "source": [
    "We define custom training and testing functions."
   ]
  },
  {
   "cell_type": "code",
   "execution_count": null,
   "metadata": {
    "id": "3iWkkQK8zhv-"
   },
   "outputs": [],
   "source": [
    "# Metrics (create under the strategy scope if using TPU)\n",
    "if using_TPU:\n",
    "    with strategy.scope():\n",
    "        loss_tracker = keras.metrics.Mean(name=\"loss\")\n",
    "        start_acc_metric = keras.metrics.CategoricalAccuracy(name=\"start_token_accuracy\")\n",
    "        end_acc_metric = keras.metrics.CategoricalAccuracy(name=\"end_token_accuracy\")\n",
    "        sel_acc_metric = keras.metrics.CategoricalAccuracy(name=\"par_selection_accuracy\")\n",
    "else:\n",
    "    loss_tracker = keras.metrics.Mean(name=\"loss\")\n",
    "    start_acc_metric = keras.metrics.CategoricalAccuracy(name=\"start_token_accuracy\")\n",
    "    end_acc_metric = keras.metrics.CategoricalAccuracy(name=\"end_token_accuracy\")\n",
    "    sel_acc_metric = keras.metrics.CategoricalAccuracy(name=\"par_selection_accuracy\")\n",
    "\n",
    "class QuestionAnsweringModel(keras.Model):\n",
    "    def __init__(self, model_q, model_p):\n",
    "        super(QuestionAnsweringModel, self).__init__()\n",
    "        self.dpr_model = DensePassageRetriever(model_q, m=M)\n",
    "        self.model_qa = create_QA_model(model_q, model_p)\n",
    "    \n",
    "    def call(self, inputs):\n",
    "        return self.model_qa(inputs)\n",
    "\n",
    "    @tf.function\n",
    "    def tf_shuffle_on_columns(self, value):\n",
    "        '''\n",
    "        Utility function that shuffles a tensor randomly on each of its rows.\n",
    "        '''\n",
    "        # Create a tensor of random numbers, argsort it and use them as indices to gather\n",
    "        # values from the original tensor\n",
    "        return tf.gather(value, tf.argsort(tf.random.uniform(tf.shape(value))), batch_dims=1)\n",
    "\n",
    "    @tf.function\n",
    "    def obtain_training_info(self, indexes, topm_indexes):\n",
    "        '''\n",
    "        Obtains a batch of data and the ground truth mask to be used while training the model\n",
    "        '''\n",
    "        # Collect ground truth indexes\n",
    "        gt_paragraphs = tf.expand_dims(tf.cast(indexes, tf.int32), -1)\n",
    "        # A training sample is formed by the positive and m-1 negative examples\n",
    "        # obtained from the top-100 for each of the questions in the batch.\n",
    "        # We create a data batch by sampling m-1 examples from the masked 100 paragraphs\n",
    "        negative_masks = tf.math.not_equal(topm_indexes, gt_paragraphs)\n",
    "        # To keep the graph working with the correct sizes, we create a tensor of negatives \n",
    "        # by random shuffling the large tensor of topm and taking the first train_m elements.\n",
    "        # The positive examples are replaced by randomly sampling from the same tensor.\n",
    "        # It could happen that the positive example is replaced by itself, or that a \n",
    "        # negative sample appears twice in the batch, but it's a non-deterministic\n",
    "        # process.\n",
    "        negatives = self.tf_shuffle_on_columns(tf.where(\n",
    "            negative_masks, topm_indexes, self.tf_shuffle_on_columns(topm_indexes))\n",
    "        )[:,:M-1]\n",
    "        # We concatenate the positive paragraph index to the selected negatives and shuffle\n",
    "        # so that the positive is not always the last element\n",
    "        data_batch = self.tf_shuffle_on_columns(\n",
    "            tf.concat([negatives, gt_paragraphs], axis=1))\n",
    "        # When we have a data batch, we create the ground truth mask, which represents the position\n",
    "        # of the positive sample in the data batch in a one-hot encoded fashion.\n",
    "        gt_mask = tf.cast(data_batch == gt_paragraphs, tf.int32)\n",
    "        return data_batch, gt_mask\n",
    "\n",
    "    def train_step(self, data):\n",
    "        # Get top indexes from the DPR\n",
    "        _, topm_indexes = self.dpr_model(data)\n",
    "        # Obtain the training batch and the ground truth mask\n",
    "        data_batch, gt_mask = self.obtain_training_info(\n",
    "            data['paragraphs']['index'], topm_indexes)\n",
    "        # Open the gradient tape, obtain predictions and compute the loss\n",
    "        with tf.GradientTape() as tape:\n",
    "            _, _, out_S, out_E, out_SEL = self(data_batch, training=True)\n",
    "            loss_start = self.compiled_loss(data['answers']['out_s'], out_S)\n",
    "            loss_end = self.compiled_loss(data['answers']['out_e'], out_E)\n",
    "            loss_sel = self.compiled_loss(gt_mask, out_SEL)\n",
    "            loss_value = sum([loss_start, loss_end, loss_sel])\n",
    "        # Compute the gradients and apply them on the variables\n",
    "        grads = tape.gradient(loss_value, self.trainable_weights)\n",
    "        self.optimizer.apply_gradients(zip(grads, self.trainable_weights))\n",
    "        # Update the metrics\n",
    "        loss_tracker.update_state(loss_value)\n",
    "        start_acc_metric.update_state(data['answers']['out_s'], out_S)\n",
    "        end_acc_metric.update_state(data['answers']['out_e'], out_E)\n",
    "        sel_acc_metric.update_state(gt_mask, out_SEL)\n",
    "        return {\"loss\": loss_tracker.result(), \n",
    "                \"start_accuracy\": start_acc_metric.result(),\n",
    "                \"end_accuracy\": end_acc_metric.result(),\n",
    "                \"sel_accuracy\": sel_acc_metric.result()}\n",
    "\n",
    "    def test_step(self, data):\n",
    "        # Get top indexes from the DPR\n",
    "        _, topm_indexes = self.dpr_model(data)\n",
    "        # Obtain the training batch and the ground truth mask to compute metrics\n",
    "        data_batch, gt_mask = self.obtain_training_info(\n",
    "            data['paragraphs']['index'], topm_indexes)\n",
    "        # Compute predictions\n",
    "        _, _, out_S, out_E, out_SEL = self(data_batch, training=False)\n",
    "        # Compute the loss to update its metric\n",
    "        loss_start = self.compiled_loss(data['answers']['out_s'], out_S)\n",
    "        loss_end = self.compiled_loss(data['answers']['out_e'], out_E)\n",
    "        loss_sel = self.compiled_loss(gt_mask, out_SEL)\n",
    "        loss_value = sum([loss_start, loss_end, loss_sel])\n",
    "        loss_tracker.update_state(loss_value)\n",
    "        # Updates the metrics\n",
    "        start_acc_metric.update_state(data['answers']['out_s'], out_S)\n",
    "        end_acc_metric.update_state(data['answers']['out_e'], out_E)\n",
    "        sel_acc_metric.update_state(gt_mask, out_SEL)\n",
    "        # Return a dict mapping metric names to current value.\n",
    "        return {\"loss\": loss_tracker.result(), \n",
    "                \"start_accuracy\": start_acc_metric.result(),\n",
    "                \"end_accuracy\": end_acc_metric.result(),\n",
    "                \"sel_accuracy\": sel_acc_metric.result()}\n",
    "\n",
    "    @property\n",
    "    def metrics(self):\n",
    "        # We list our `Metric` objects here so that `reset_states()` can be\n",
    "        # called automatically at the start of each epoch\n",
    "        # or at the start of `evaluate()`.\n",
    "        return [loss_tracker, start_acc_metric, end_acc_metric, sel_acc_metric]\n",
    "\n",
    "def create_trainable_QA_model(model_q, model_p):\n",
    "    print(\"Creating Question Answering model...\")\n",
    "    model = QuestionAnsweringModel(model_q, model_p)\n",
    "\n",
    "    print(\"Compiling...\")\n",
    "    # Compile the model (metrics are defined into the model)\n",
    "    model.compile(\n",
    "        optimizer = keras.optimizers.Adam(learning_rate=3e-6),\n",
    "        loss = keras.losses.CategoricalCrossentropy()\n",
    "    )\n",
    "\n",
    "    print(\"Testing on some data...\")\n",
    "    # Pass one batch of test data to build the model\n",
    "    inputs = next(dataset_train.take(1).as_numpy_iterator())\n",
    "    _, topm_indexes = model.dpr_model(inputs)\n",
    "    paragraphs, best_scoring_paragraphs, probs_sel, probs_s, probs_e = model(topm_indexes)\n",
    "    \n",
    "    print(\"Output shapes:\")\n",
    "    print(f\"\\tparagraphs: {paragraphs.keys()}\")\n",
    "    print(f\"\\tbest_scoring_paragraphs: {best_scoring_paragraphs.shape}\")\n",
    "    print(f\"\\tprobs_sel: {probs_sel.shape}\")\n",
    "    print(f\"\\tprobs_s: {probs_s.shape}\")\n",
    "    print(f\"\\tprobs_e: {probs_e.shape}\")\n",
    "\n",
    "    model.summary()\n",
    "\n",
    "    return model"
   ]
  },
  {
   "cell_type": "code",
   "execution_count": null,
   "metadata": {
    "colab": {
     "base_uri": "https://localhost:8080/"
    },
    "id": "T5RLqioFsIon",
    "outputId": "dd938727-727a-4ef2-f2c3-6babf79550db"
   },
   "outputs": [
    {
     "name": "stdout",
     "output_type": "stream",
     "text": [
      "Creating Question Answering model...\n",
      "Compiling...\n",
      "Testing on some data...\n",
      "Output shapes:\n",
      "\tparagraphs: dict_keys(['input_ids', 'attention_mask', 'offset_mapping', 'indexes'])\n",
      "\tbest_scoring_paragraphs: (8, 3, 512, 768)\n",
      "\tprobs_sel: (8, 512)\n",
      "\tprobs_s: (8, 512)\n",
      "\tprobs_e: (8, 3)\n",
      "Model: \"question_answering_model\"\n",
      "_________________________________________________________________\n",
      " Layer (type)                Output Shape              Param #   \n",
      "=================================================================\n",
      " dense_passage_retriever (De  multiple                 66362880  \n",
      " nsePassageRetriever)                                            \n",
      "                                                                 \n",
      " model_1 (Functional)        [{'input_ids': (None, 3,  66365187  \n",
      "                              512),                              \n",
      "                              'attention_mask': (None            \n",
      "                             , 3, 512),                          \n",
      "                              'offset_mapping': (None            \n",
      "                             , 3, 512, 2),                       \n",
      "                              'indexes': (None, 3)},             \n",
      "                              (None, 3, 512, 768),               \n",
      "                              None, None, (None, 3)]             \n",
      "                                                                 \n",
      "=================================================================\n",
      "Total params: 66,365,187\n",
      "Trainable params: 2,307\n",
      "Non-trainable params: 66,362,880\n",
      "_________________________________________________________________\n"
     ]
    }
   ],
   "source": [
    "import datetime\n",
    "\n",
    "if using_TPU:\n",
    "    # TPU requires to create the model within the scope of the distributed strategy\n",
    "    # we're using.\n",
    "    with strategy.scope():\n",
    "        model_QA = create_trainable_QA_model(model.enc.model_q, model.enc.model_p)\n",
    "\n",
    "    # Workaraound for saving locally when using cloud TPUs\n",
    "    local_device_option = tf.train.CheckpointOptions(\n",
    "        experimental_io_device=\"/job:localhost\")\n",
    "else:\n",
    "    # GPUs and local systems don't need the above specifications. We simply\n",
    "    # create a pattern for the filename and let the callbacks deal with it.\n",
    "    checkpoint_path = os.path.join(checkpoint_dir, \"cp-{epoch:04d}.ckpt\")\n",
    "    # Also, on TPU we cannot use tensorboard, but on GPU we can\n",
    "    log_dir = os.path.join(ROOT_PATH, \"data\", \"logs\", \n",
    "        \"training_qa_dpr\", datetime.datetime.now().strftime(\"%Y%m%d-%H%M%S\"))\n",
    "    \n",
    "    model_QA = create_trainable_QA_model(model.enc.model_q, model.enc.model_p)"
   ]
  },
  {
   "cell_type": "markdown",
   "metadata": {
    "id": "ffh1nGX0I9FT"
   },
   "source": [
    "Train the model:"
   ]
  },
  {
   "cell_type": "code",
   "execution_count": null,
   "metadata": {
    "id": "UmsAi9v63eia"
   },
   "outputs": [],
   "source": [
    "QA_BATCH_SIZE = 4 if not using_TPU else 32\n",
    "\n",
    "dataset_train = create_dataset_from_records(train_questions, paragraphs, train_dict, tokenizer_distilbert, \n",
    "                                            os.path.join(datasets_dir, 'train'), batch_size=QA_BATCH_SIZE)\n",
    "dataset_val = create_dataset_from_records(val_questions, paragraphs, val_dict, tokenizer_distilbert,\n",
    "                                            os.path.join(datasets_dir, 'val'), training=False, batch_size=QA_BATCH_SIZE)\n",
    "\n",
    "if DO_QA_TRAINING:\n",
    "    # Early stopping can be used by both hardware\n",
    "    es_callback = tf.keras.callbacks.EarlyStopping(\n",
    "        patience = PATIENCE,\n",
    "        restore_best_weights=True\n",
    "    )\n",
    "    callbacks = [es_callback]\n",
    "    if not using_TPU:\n",
    "        # ModelCheckpoint callback is only available when not using TPU\n",
    "        cp_callback = tf.keras.callbacks.ModelCheckpoint(\n",
    "            filepath = checkpoint_path,\n",
    "            verbose=1,\n",
    "            save_weights_only = True,\n",
    "            save_best_only = False\n",
    "        )\n",
    "        # Same for tensorboard callback\n",
    "        tensorboard_callback = tf.keras.callbacks.TensorBoard(\n",
    "            log_dir=log_dir,\n",
    "            histogram_freq=1\n",
    "        )\n",
    "        # Save the first weights using the pattern from before\n",
    "        model_QA.save_weights(checkpoint_path.format(epoch=0))\n",
    "        # These callback imply saving stuff on local disk, which cannot be \n",
    "        # done automatically using TPUs.\n",
    "        # Therefore, they are only active when using GPUs and local systems\n",
    "        callbacks.extend([cp_callback, tensorboard_callback])\n",
    "    else:\n",
    "        # Save first weights in a h5 file (it's the most stable way)\n",
    "        model_QA.save_weights(os.path.join(\n",
    "            checkpoint_dir, 'training_qa_tpu_0.h5'), overwrite=True)        \n",
    "\n",
    "    # We fit the model\n",
    "    history = model_QA.fit(\n",
    "        dataset_train, \n",
    "        y=None,\n",
    "        validation_data=dataset_val,\n",
    "        epochs=EPOCHS, \n",
    "        callbacks=callbacks,\n",
    "        shuffle=True,\n",
    "        use_multiprocessing=True,\n",
    "        initial_epoch=0,\n",
    "        verbose=1 # Show progress bar\n",
    "    )\n",
    "\n",
    "    if using_TPU:\n",
    "        # Save last weights\n",
    "        model_qa.save_weights(os.path.join(\n",
    "            checkpoint_dir, 'training_qa_tpu_last.h5'), overwrite=True)"
   ]
  },
  {
   "cell_type": "markdown",
   "metadata": {
    "id": "-I79iOHjGbE-"
   },
   "source": [
    "### Obtaining an answer"
   ]
  },
  {
   "cell_type": "code",
   "execution_count": null,
   "metadata": {
    "id": "CWUaL844hyf6"
   },
   "outputs": [],
   "source": [
    "def start_end_token_from_probabilities(\n",
    "    pstartv: np.array, \n",
    "    pendv: np.array, \n",
    "    dim:int=512) -> List[List[int]]:\n",
    "    '''\n",
    "    Returns a List of [StartToken, EndToken] elements computed from the batch outputs.\n",
    "    '''\n",
    "    idxs = []\n",
    "    for i in range(pstartv.shape[0]):\n",
    "        # For each element in the batch, transform the vectors into matrices\n",
    "        # by repeating them dim times:\n",
    "        # - Vectors of starting probabilities are stacked on the columns\n",
    "        pstart = np.stack([pstartv[i,:]]*dim, axis=1)\n",
    "        # - Vectors of ending probabilities are repeated on the rows\n",
    "        pend = np.stack([pendv[i,:]]*dim, axis=0)\n",
    "        # Once we have the two matrices, we sum them (element-wise operation)\n",
    "        # to obtain the scores of each combination\n",
    "        sums = pstart + pend\n",
    "        # We only care about the scores in the upper triangular part of the matrix\n",
    "        # (where the ending index is greater than the starting index)\n",
    "        # therefore we zero out the diagonal and the lower triangular area\n",
    "        sums = np.triu(sums, k=1)\n",
    "        # The most probable set of tokens is the one with highest score in the\n",
    "        # remaining matrix. Through argmax we obtain its position.\n",
    "        val = np.argmax(sums)\n",
    "        # Since the starting probabilities are repeated on the columns, each element\n",
    "        # is identified by the row. Ending probabilities are instead repeated on rows,\n",
    "        # so each element is identified by the column.\n",
    "        row = val // dim\n",
    "        col = val - dim*row\n",
    "        idxs.append([row,col])\n",
    "    return idxs"
   ]
  },
  {
   "cell_type": "code",
   "execution_count": null,
   "metadata": {
    "id": "8CUVf45Cj0oI"
   },
   "outputs": [],
   "source": [
    "answers_start_end = start_end_token_from_probabilities(probs_s, probs_e)\n",
    "print(answers_start_end)"
   ]
  },
  {
   "cell_type": "markdown",
   "metadata": {
    "id": "xVfgDsb_GHIE"
   },
   "source": [
    "Finally, we can obtain the answers to the questions we have given the network."
   ]
  },
  {
   "cell_type": "code",
   "execution_count": null,
   "metadata": {
    "id": "CcpI3LVz2vKY"
   },
   "outputs": [],
   "source": [
    "best_indices = tf.squeeze(tf.gather(paragraphs['indexes'], tf.expand_dims(best_scoring_paragraphs, -1), batch_dims=1))\n",
    "best_offsets = tf.squeeze(tf.gather(pretokenized_val_paragraphs['offset_mapping'], best_indices))\n",
    "best_offsets.shape, best_indices.shape"
   ]
  },
  {
   "cell_type": "code",
   "execution_count": null,
   "metadata": {
    "id": "FuWtARzUITEV"
   },
   "outputs": [],
   "source": [
    "char_start_end = [(best_offsets[i][answers_start_end[i][0]][0].numpy(),\n",
    "                   best_offsets[i][answers_start_end[i][1]][1].numpy())\n",
    "                 for i in range(BATCH_SIZE)]\n",
    "char_start_end"
   ]
  },
  {
   "cell_type": "code",
   "execution_count": null,
   "metadata": {
    "id": "ktvdpz52fxOc"
   },
   "outputs": [],
   "source": [
    "# Correction for answers arriving to the end of the sequence\n",
    "for i in range(BATCH_SIZE):\n",
    "    c = char_start_end[i]\n",
    "    if c[1] >= c[0]:\n",
    "        char_start_end[i] = (c[0], c[1])\n",
    "    else:\n",
    "        char_start_end[i] = (c[0], 1000000)"
   ]
  },
  {
   "cell_type": "code",
   "execution_count": null,
   "metadata": {
    "id": "6edjxYTw4k-t"
   },
   "outputs": [],
   "source": [
    "for i, p in enumerate(best_indices.numpy()):\n",
    "    print(val_paragraphs[p]['context'][char_start_end[i][0]:char_start_end[i][1]])"
   ]
  },
  {
   "cell_type": "markdown",
   "metadata": {
    "id": "V_B5U-_tKR6v"
   },
   "source": [
    "Of course, answers are extremely bad because we need to train the Dense layers selecting the start and end tokens, as well as the paragraph selector."
   ]
  }
 ],
 "metadata": {
  "accelerator": "TPU",
  "colab": {
   "collapsed_sections": [],
   "include_colab_link": true,
   "name": "dense_passage_retriever.ipynb",
   "provenance": []
  },
  "interpreter": {
   "hash": "8d3a38b9baf6bccb52d534d3795fadb5d3190627f4e5187a36a9129f48a6e143"
  },
  "kernelspec": {
   "display_name": "Python 3 (ipykernel)",
   "language": "python",
   "name": "python3"
  },
  "language_info": {
   "codemirror_mode": {
    "name": "ipython",
    "version": 3
   },
   "file_extension": ".py",
   "mimetype": "text/x-python",
   "name": "python",
   "nbconvert_exporter": "python",
   "pygments_lexer": "ipython3",
   "version": "3.7.11"
  },
  "widgets": {
   "application/vnd.jupyter.widget-state+json": {
    "0924f87b11a746ddb47ab7c04ff6a00d": {
     "model_module": "@jupyter-widgets/base",
     "model_module_version": "1.2.0",
     "model_name": "LayoutModel",
     "state": {
      "_model_module": "@jupyter-widgets/base",
      "_model_module_version": "1.2.0",
      "_model_name": "LayoutModel",
      "_view_count": null,
      "_view_module": "@jupyter-widgets/base",
      "_view_module_version": "1.2.0",
      "_view_name": "LayoutView",
      "align_content": null,
      "align_items": null,
      "align_self": null,
      "border": null,
      "bottom": null,
      "display": null,
      "flex": null,
      "flex_flow": null,
      "grid_area": null,
      "grid_auto_columns": null,
      "grid_auto_flow": null,
      "grid_auto_rows": null,
      "grid_column": null,
      "grid_gap": null,
      "grid_row": null,
      "grid_template_areas": null,
      "grid_template_columns": null,
      "grid_template_rows": null,
      "height": null,
      "justify_content": null,
      "justify_items": null,
      "left": null,
      "margin": null,
      "max_height": null,
      "max_width": null,
      "min_height": null,
      "min_width": null,
      "object_fit": null,
      "object_position": null,
      "order": null,
      "overflow": null,
      "overflow_x": null,
      "overflow_y": null,
      "padding": null,
      "right": null,
      "top": null,
      "visibility": null,
      "width": null
     }
    },
    "09f2b409bafd4b1ea541d4eb6c9eb90a": {
     "model_module": "@jupyter-widgets/controls",
     "model_module_version": "1.5.0",
     "model_name": "HTMLModel",
     "state": {
      "_dom_classes": [],
      "_model_module": "@jupyter-widgets/controls",
      "_model_module_version": "1.5.0",
      "_model_name": "HTMLModel",
      "_view_count": null,
      "_view_module": "@jupyter-widgets/controls",
      "_view_module_version": "1.5.0",
      "_view_name": "HTMLView",
      "description": "",
      "description_tooltip": null,
      "layout": "IPY_MODEL_b9bb21fd93654d5e8347b78a71b6240e",
      "placeholder": "​",
      "style": "IPY_MODEL_de90f7a1d9304dcc968031e2577cc5f6",
      "value": "Downloading: 100%"
     }
    },
    "0eec18d9434245fdba77dbcc33bda84d": {
     "model_module": "@jupyter-widgets/controls",
     "model_module_version": "1.5.0",
     "model_name": "ProgressStyleModel",
     "state": {
      "_model_module": "@jupyter-widgets/controls",
      "_model_module_version": "1.5.0",
      "_model_name": "ProgressStyleModel",
      "_view_count": null,
      "_view_module": "@jupyter-widgets/base",
      "_view_module_version": "1.2.0",
      "_view_name": "StyleView",
      "bar_color": null,
      "description_width": ""
     }
    },
    "0f7a56c2a52c48c6b4a045f087833201": {
     "model_module": "@jupyter-widgets/controls",
     "model_module_version": "1.5.0",
     "model_name": "DescriptionStyleModel",
     "state": {
      "_model_module": "@jupyter-widgets/controls",
      "_model_module_version": "1.5.0",
      "_model_name": "DescriptionStyleModel",
      "_view_count": null,
      "_view_module": "@jupyter-widgets/base",
      "_view_module_version": "1.2.0",
      "_view_name": "StyleView",
      "description_width": ""
     }
    },
    "141bbc8726de412393f276e42cddc98a": {
     "model_module": "@jupyter-widgets/controls",
     "model_module_version": "1.5.0",
     "model_name": "DescriptionStyleModel",
     "state": {
      "_model_module": "@jupyter-widgets/controls",
      "_model_module_version": "1.5.0",
      "_model_name": "DescriptionStyleModel",
      "_view_count": null,
      "_view_module": "@jupyter-widgets/base",
      "_view_module_version": "1.2.0",
      "_view_name": "StyleView",
      "description_width": ""
     }
    },
    "1dee67fe311042ba93397b589496a249": {
     "model_module": "@jupyter-widgets/controls",
     "model_module_version": "1.5.0",
     "model_name": "HTMLModel",
     "state": {
      "_dom_classes": [],
      "_model_module": "@jupyter-widgets/controls",
      "_model_module_version": "1.5.0",
      "_model_name": "HTMLModel",
      "_view_count": null,
      "_view_module": "@jupyter-widgets/controls",
      "_view_module_version": "1.5.0",
      "_view_name": "HTMLView",
      "description": "",
      "description_tooltip": null,
      "layout": "IPY_MODEL_46fbd4324ea541dcbbd8d7099c6a2855",
      "placeholder": "​",
      "style": "IPY_MODEL_e62ef7d4513f4360b802602bdd549a38",
      "value": "Downloading: 100%"
     }
    },
    "2050a44993f24997920d540e1fe20c29": {
     "model_module": "@jupyter-widgets/base",
     "model_module_version": "1.2.0",
     "model_name": "LayoutModel",
     "state": {
      "_model_module": "@jupyter-widgets/base",
      "_model_module_version": "1.2.0",
      "_model_name": "LayoutModel",
      "_view_count": null,
      "_view_module": "@jupyter-widgets/base",
      "_view_module_version": "1.2.0",
      "_view_name": "LayoutView",
      "align_content": null,
      "align_items": null,
      "align_self": null,
      "border": null,
      "bottom": null,
      "display": null,
      "flex": null,
      "flex_flow": null,
      "grid_area": null,
      "grid_auto_columns": null,
      "grid_auto_flow": null,
      "grid_auto_rows": null,
      "grid_column": null,
      "grid_gap": null,
      "grid_row": null,
      "grid_template_areas": null,
      "grid_template_columns": null,
      "grid_template_rows": null,
      "height": null,
      "justify_content": null,
      "justify_items": null,
      "left": null,
      "margin": null,
      "max_height": null,
      "max_width": null,
      "min_height": null,
      "min_width": null,
      "object_fit": null,
      "object_position": null,
      "order": null,
      "overflow": null,
      "overflow_x": null,
      "overflow_y": null,
      "padding": null,
      "right": null,
      "top": null,
      "visibility": null,
      "width": null
     }
    },
    "251ca56eb0a34797a4cdbc03cd69a4d5": {
     "model_module": "@jupyter-widgets/controls",
     "model_module_version": "1.5.0",
     "model_name": "HBoxModel",
     "state": {
      "_dom_classes": [],
      "_model_module": "@jupyter-widgets/controls",
      "_model_module_version": "1.5.0",
      "_model_name": "HBoxModel",
      "_view_count": null,
      "_view_module": "@jupyter-widgets/controls",
      "_view_module_version": "1.5.0",
      "_view_name": "HBoxView",
      "box_style": "",
      "children": [
       "IPY_MODEL_731db3a2ea1c46d38da3877b3e06380e",
       "IPY_MODEL_bab2ea94301d4877ad320124f2417390",
       "IPY_MODEL_6b7105f611db4731a002027f515dd3de"
      ],
      "layout": "IPY_MODEL_cfa23da7945145d08fe253e4504d68b8"
     }
    },
    "2acb3dc386044c9196ec6b2169607883": {
     "model_module": "@jupyter-widgets/base",
     "model_module_version": "1.2.0",
     "model_name": "LayoutModel",
     "state": {
      "_model_module": "@jupyter-widgets/base",
      "_model_module_version": "1.2.0",
      "_model_name": "LayoutModel",
      "_view_count": null,
      "_view_module": "@jupyter-widgets/base",
      "_view_module_version": "1.2.0",
      "_view_name": "LayoutView",
      "align_content": null,
      "align_items": null,
      "align_self": null,
      "border": null,
      "bottom": null,
      "display": null,
      "flex": null,
      "flex_flow": null,
      "grid_area": null,
      "grid_auto_columns": null,
      "grid_auto_flow": null,
      "grid_auto_rows": null,
      "grid_column": null,
      "grid_gap": null,
      "grid_row": null,
      "grid_template_areas": null,
      "grid_template_columns": null,
      "grid_template_rows": null,
      "height": null,
      "justify_content": null,
      "justify_items": null,
      "left": null,
      "margin": null,
      "max_height": null,
      "max_width": null,
      "min_height": null,
      "min_width": null,
      "object_fit": null,
      "object_position": null,
      "order": null,
      "overflow": null,
      "overflow_x": null,
      "overflow_y": null,
      "padding": null,
      "right": null,
      "top": null,
      "visibility": null,
      "width": null
     }
    },
    "38f584f7b21d4632a58fe8a76fdbe8fb": {
     "model_module": "@jupyter-widgets/base",
     "model_module_version": "1.2.0",
     "model_name": "LayoutModel",
     "state": {
      "_model_module": "@jupyter-widgets/base",
      "_model_module_version": "1.2.0",
      "_model_name": "LayoutModel",
      "_view_count": null,
      "_view_module": "@jupyter-widgets/base",
      "_view_module_version": "1.2.0",
      "_view_name": "LayoutView",
      "align_content": null,
      "align_items": null,
      "align_self": null,
      "border": null,
      "bottom": null,
      "display": null,
      "flex": null,
      "flex_flow": null,
      "grid_area": null,
      "grid_auto_columns": null,
      "grid_auto_flow": null,
      "grid_auto_rows": null,
      "grid_column": null,
      "grid_gap": null,
      "grid_row": null,
      "grid_template_areas": null,
      "grid_template_columns": null,
      "grid_template_rows": null,
      "height": null,
      "justify_content": null,
      "justify_items": null,
      "left": null,
      "margin": null,
      "max_height": null,
      "max_width": null,
      "min_height": null,
      "min_width": null,
      "object_fit": null,
      "object_position": null,
      "order": null,
      "overflow": null,
      "overflow_x": null,
      "overflow_y": null,
      "padding": null,
      "right": null,
      "top": null,
      "visibility": null,
      "width": null
     }
    },
    "46fbd4324ea541dcbbd8d7099c6a2855": {
     "model_module": "@jupyter-widgets/base",
     "model_module_version": "1.2.0",
     "model_name": "LayoutModel",
     "state": {
      "_model_module": "@jupyter-widgets/base",
      "_model_module_version": "1.2.0",
      "_model_name": "LayoutModel",
      "_view_count": null,
      "_view_module": "@jupyter-widgets/base",
      "_view_module_version": "1.2.0",
      "_view_name": "LayoutView",
      "align_content": null,
      "align_items": null,
      "align_self": null,
      "border": null,
      "bottom": null,
      "display": null,
      "flex": null,
      "flex_flow": null,
      "grid_area": null,
      "grid_auto_columns": null,
      "grid_auto_flow": null,
      "grid_auto_rows": null,
      "grid_column": null,
      "grid_gap": null,
      "grid_row": null,
      "grid_template_areas": null,
      "grid_template_columns": null,
      "grid_template_rows": null,
      "height": null,
      "justify_content": null,
      "justify_items": null,
      "left": null,
      "margin": null,
      "max_height": null,
      "max_width": null,
      "min_height": null,
      "min_width": null,
      "object_fit": null,
      "object_position": null,
      "order": null,
      "overflow": null,
      "overflow_x": null,
      "overflow_y": null,
      "padding": null,
      "right": null,
      "top": null,
      "visibility": null,
      "width": null
     }
    },
    "4767ff8f74b046d6b596718b5c3cbaf9": {
     "model_module": "@jupyter-widgets/controls",
     "model_module_version": "1.5.0",
     "model_name": "ProgressStyleModel",
     "state": {
      "_model_module": "@jupyter-widgets/controls",
      "_model_module_version": "1.5.0",
      "_model_name": "ProgressStyleModel",
      "_view_count": null,
      "_view_module": "@jupyter-widgets/base",
      "_view_module_version": "1.2.0",
      "_view_name": "StyleView",
      "bar_color": null,
      "description_width": ""
     }
    },
    "52fd40dc559647508ae234f56eb7c2b0": {
     "model_module": "@jupyter-widgets/controls",
     "model_module_version": "1.5.0",
     "model_name": "HBoxModel",
     "state": {
      "_dom_classes": [],
      "_model_module": "@jupyter-widgets/controls",
      "_model_module_version": "1.5.0",
      "_model_name": "HBoxModel",
      "_view_count": null,
      "_view_module": "@jupyter-widgets/controls",
      "_view_module_version": "1.5.0",
      "_view_name": "HBoxView",
      "box_style": "",
      "children": [
       "IPY_MODEL_f6a8d1a6b30a44a189c22b6512a124e8",
       "IPY_MODEL_90346f08361947f9b3d9a02e57699f71",
       "IPY_MODEL_cd90708906dd44e6813b8d247047696d"
      ],
      "layout": "IPY_MODEL_38f584f7b21d4632a58fe8a76fdbe8fb"
     }
    },
    "5aa715c564a84e7281afdc822bf04d94": {
     "model_module": "@jupyter-widgets/base",
     "model_module_version": "1.2.0",
     "model_name": "LayoutModel",
     "state": {
      "_model_module": "@jupyter-widgets/base",
      "_model_module_version": "1.2.0",
      "_model_name": "LayoutModel",
      "_view_count": null,
      "_view_module": "@jupyter-widgets/base",
      "_view_module_version": "1.2.0",
      "_view_name": "LayoutView",
      "align_content": null,
      "align_items": null,
      "align_self": null,
      "border": null,
      "bottom": null,
      "display": null,
      "flex": null,
      "flex_flow": null,
      "grid_area": null,
      "grid_auto_columns": null,
      "grid_auto_flow": null,
      "grid_auto_rows": null,
      "grid_column": null,
      "grid_gap": null,
      "grid_row": null,
      "grid_template_areas": null,
      "grid_template_columns": null,
      "grid_template_rows": null,
      "height": null,
      "justify_content": null,
      "justify_items": null,
      "left": null,
      "margin": null,
      "max_height": null,
      "max_width": null,
      "min_height": null,
      "min_width": null,
      "object_fit": null,
      "object_position": null,
      "order": null,
      "overflow": null,
      "overflow_x": null,
      "overflow_y": null,
      "padding": null,
      "right": null,
      "top": null,
      "visibility": null,
      "width": null
     }
    },
    "6a59c67f1e7a49bdb04de7696e371cb3": {
     "model_module": "@jupyter-widgets/controls",
     "model_module_version": "1.5.0",
     "model_name": "DescriptionStyleModel",
     "state": {
      "_model_module": "@jupyter-widgets/controls",
      "_model_module_version": "1.5.0",
      "_model_name": "DescriptionStyleModel",
      "_view_count": null,
      "_view_module": "@jupyter-widgets/base",
      "_view_module_version": "1.2.0",
      "_view_name": "StyleView",
      "description_width": ""
     }
    },
    "6b5184d0bced4fb0bb6c683a15e8c72a": {
     "model_module": "@jupyter-widgets/controls",
     "model_module_version": "1.5.0",
     "model_name": "DescriptionStyleModel",
     "state": {
      "_model_module": "@jupyter-widgets/controls",
      "_model_module_version": "1.5.0",
      "_model_name": "DescriptionStyleModel",
      "_view_count": null,
      "_view_module": "@jupyter-widgets/base",
      "_view_module_version": "1.2.0",
      "_view_name": "StyleView",
      "description_width": ""
     }
    },
    "6b7105f611db4731a002027f515dd3de": {
     "model_module": "@jupyter-widgets/controls",
     "model_module_version": "1.5.0",
     "model_name": "HTMLModel",
     "state": {
      "_dom_classes": [],
      "_model_module": "@jupyter-widgets/controls",
      "_model_module_version": "1.5.0",
      "_model_name": "HTMLModel",
      "_view_count": null,
      "_view_module": "@jupyter-widgets/controls",
      "_view_module_version": "1.5.0",
      "_view_name": "HTMLView",
      "description": "",
      "description_tooltip": null,
      "layout": "IPY_MODEL_89a3f8ab7a784f82848622295c35d103",
      "placeholder": "​",
      "style": "IPY_MODEL_6b5184d0bced4fb0bb6c683a15e8c72a",
      "value": " 226k/226k [00:00&lt;00:00, 1.02MB/s]"
     }
    },
    "718c8209da524e299d7f7217efeebae1": {
     "model_module": "@jupyter-widgets/controls",
     "model_module_version": "1.5.0",
     "model_name": "HTMLModel",
     "state": {
      "_dom_classes": [],
      "_model_module": "@jupyter-widgets/controls",
      "_model_module_version": "1.5.0",
      "_model_name": "HTMLModel",
      "_view_count": null,
      "_view_module": "@jupyter-widgets/controls",
      "_view_module_version": "1.5.0",
      "_view_name": "HTMLView",
      "description": "",
      "description_tooltip": null,
      "layout": "IPY_MODEL_ff5782c53edb41719efe7be4c9c9163f",
      "placeholder": "​",
      "style": "IPY_MODEL_af011dde1eb14a27aee289ce846230b0",
      "value": " 28.0/28.0 [00:00&lt;00:00, 664B/s]"
     }
    },
    "731db3a2ea1c46d38da3877b3e06380e": {
     "model_module": "@jupyter-widgets/controls",
     "model_module_version": "1.5.0",
     "model_name": "HTMLModel",
     "state": {
      "_dom_classes": [],
      "_model_module": "@jupyter-widgets/controls",
      "_model_module_version": "1.5.0",
      "_model_name": "HTMLModel",
      "_view_count": null,
      "_view_module": "@jupyter-widgets/controls",
      "_view_module_version": "1.5.0",
      "_view_name": "HTMLView",
      "description": "",
      "description_tooltip": null,
      "layout": "IPY_MODEL_7e7f79c0f3044452b1c7914d18b4a0ad",
      "placeholder": "​",
      "style": "IPY_MODEL_6a59c67f1e7a49bdb04de7696e371cb3",
      "value": "Downloading: 100%"
     }
    },
    "7842392242d747c28ff250c1f480ea81": {
     "model_module": "@jupyter-widgets/base",
     "model_module_version": "1.2.0",
     "model_name": "LayoutModel",
     "state": {
      "_model_module": "@jupyter-widgets/base",
      "_model_module_version": "1.2.0",
      "_model_name": "LayoutModel",
      "_view_count": null,
      "_view_module": "@jupyter-widgets/base",
      "_view_module_version": "1.2.0",
      "_view_name": "LayoutView",
      "align_content": null,
      "align_items": null,
      "align_self": null,
      "border": null,
      "bottom": null,
      "display": null,
      "flex": null,
      "flex_flow": null,
      "grid_area": null,
      "grid_auto_columns": null,
      "grid_auto_flow": null,
      "grid_auto_rows": null,
      "grid_column": null,
      "grid_gap": null,
      "grid_row": null,
      "grid_template_areas": null,
      "grid_template_columns": null,
      "grid_template_rows": null,
      "height": null,
      "justify_content": null,
      "justify_items": null,
      "left": null,
      "margin": null,
      "max_height": null,
      "max_width": null,
      "min_height": null,
      "min_width": null,
      "object_fit": null,
      "object_position": null,
      "order": null,
      "overflow": null,
      "overflow_x": null,
      "overflow_y": null,
      "padding": null,
      "right": null,
      "top": null,
      "visibility": null,
      "width": null
     }
    },
    "7c4de7dd902a4eb28583185a2ead2087": {
     "model_module": "@jupyter-widgets/controls",
     "model_module_version": "1.5.0",
     "model_name": "DescriptionStyleModel",
     "state": {
      "_model_module": "@jupyter-widgets/controls",
      "_model_module_version": "1.5.0",
      "_model_name": "DescriptionStyleModel",
      "_view_count": null,
      "_view_module": "@jupyter-widgets/base",
      "_view_module_version": "1.2.0",
      "_view_name": "StyleView",
      "description_width": ""
     }
    },
    "7cdb6d43aef34b4d8637315681fd87fa": {
     "model_module": "@jupyter-widgets/controls",
     "model_module_version": "1.5.0",
     "model_name": "DescriptionStyleModel",
     "state": {
      "_model_module": "@jupyter-widgets/controls",
      "_model_module_version": "1.5.0",
      "_model_name": "DescriptionStyleModel",
      "_view_count": null,
      "_view_module": "@jupyter-widgets/base",
      "_view_module_version": "1.2.0",
      "_view_name": "StyleView",
      "description_width": ""
     }
    },
    "7d09df23fc714d8db8b9bbf0e16bb8dd": {
     "model_module": "@jupyter-widgets/controls",
     "model_module_version": "1.5.0",
     "model_name": "HBoxModel",
     "state": {
      "_dom_classes": [],
      "_model_module": "@jupyter-widgets/controls",
      "_model_module_version": "1.5.0",
      "_model_name": "HBoxModel",
      "_view_count": null,
      "_view_module": "@jupyter-widgets/controls",
      "_view_module_version": "1.5.0",
      "_view_name": "HBoxView",
      "box_style": "",
      "children": [
       "IPY_MODEL_1dee67fe311042ba93397b589496a249",
       "IPY_MODEL_ada87120c122422db11b1dca822a148a",
       "IPY_MODEL_a5b7e24fad334b489e0f94026c8b6124"
      ],
      "layout": "IPY_MODEL_9fe366dff9ea48d4b75636ed0a046007"
     }
    },
    "7e7f79c0f3044452b1c7914d18b4a0ad": {
     "model_module": "@jupyter-widgets/base",
     "model_module_version": "1.2.0",
     "model_name": "LayoutModel",
     "state": {
      "_model_module": "@jupyter-widgets/base",
      "_model_module_version": "1.2.0",
      "_model_name": "LayoutModel",
      "_view_count": null,
      "_view_module": "@jupyter-widgets/base",
      "_view_module_version": "1.2.0",
      "_view_name": "LayoutView",
      "align_content": null,
      "align_items": null,
      "align_self": null,
      "border": null,
      "bottom": null,
      "display": null,
      "flex": null,
      "flex_flow": null,
      "grid_area": null,
      "grid_auto_columns": null,
      "grid_auto_flow": null,
      "grid_auto_rows": null,
      "grid_column": null,
      "grid_gap": null,
      "grid_row": null,
      "grid_template_areas": null,
      "grid_template_columns": null,
      "grid_template_rows": null,
      "height": null,
      "justify_content": null,
      "justify_items": null,
      "left": null,
      "margin": null,
      "max_height": null,
      "max_width": null,
      "min_height": null,
      "min_width": null,
      "object_fit": null,
      "object_position": null,
      "order": null,
      "overflow": null,
      "overflow_x": null,
      "overflow_y": null,
      "padding": null,
      "right": null,
      "top": null,
      "visibility": null,
      "width": null
     }
    },
    "89a3f8ab7a784f82848622295c35d103": {
     "model_module": "@jupyter-widgets/base",
     "model_module_version": "1.2.0",
     "model_name": "LayoutModel",
     "state": {
      "_model_module": "@jupyter-widgets/base",
      "_model_module_version": "1.2.0",
      "_model_name": "LayoutModel",
      "_view_count": null,
      "_view_module": "@jupyter-widgets/base",
      "_view_module_version": "1.2.0",
      "_view_name": "LayoutView",
      "align_content": null,
      "align_items": null,
      "align_self": null,
      "border": null,
      "bottom": null,
      "display": null,
      "flex": null,
      "flex_flow": null,
      "grid_area": null,
      "grid_auto_columns": null,
      "grid_auto_flow": null,
      "grid_auto_rows": null,
      "grid_column": null,
      "grid_gap": null,
      "grid_row": null,
      "grid_template_areas": null,
      "grid_template_columns": null,
      "grid_template_rows": null,
      "height": null,
      "justify_content": null,
      "justify_items": null,
      "left": null,
      "margin": null,
      "max_height": null,
      "max_width": null,
      "min_height": null,
      "min_width": null,
      "object_fit": null,
      "object_position": null,
      "order": null,
      "overflow": null,
      "overflow_x": null,
      "overflow_y": null,
      "padding": null,
      "right": null,
      "top": null,
      "visibility": null,
      "width": null
     }
    },
    "8a560e0afb894e86ae50d0073d807a39": {
     "model_module": "@jupyter-widgets/base",
     "model_module_version": "1.2.0",
     "model_name": "LayoutModel",
     "state": {
      "_model_module": "@jupyter-widgets/base",
      "_model_module_version": "1.2.0",
      "_model_name": "LayoutModel",
      "_view_count": null,
      "_view_module": "@jupyter-widgets/base",
      "_view_module_version": "1.2.0",
      "_view_name": "LayoutView",
      "align_content": null,
      "align_items": null,
      "align_self": null,
      "border": null,
      "bottom": null,
      "display": null,
      "flex": null,
      "flex_flow": null,
      "grid_area": null,
      "grid_auto_columns": null,
      "grid_auto_flow": null,
      "grid_auto_rows": null,
      "grid_column": null,
      "grid_gap": null,
      "grid_row": null,
      "grid_template_areas": null,
      "grid_template_columns": null,
      "grid_template_rows": null,
      "height": null,
      "justify_content": null,
      "justify_items": null,
      "left": null,
      "margin": null,
      "max_height": null,
      "max_width": null,
      "min_height": null,
      "min_width": null,
      "object_fit": null,
      "object_position": null,
      "order": null,
      "overflow": null,
      "overflow_x": null,
      "overflow_y": null,
      "padding": null,
      "right": null,
      "top": null,
      "visibility": null,
      "width": null
     }
    },
    "90346f08361947f9b3d9a02e57699f71": {
     "model_module": "@jupyter-widgets/controls",
     "model_module_version": "1.5.0",
     "model_name": "FloatProgressModel",
     "state": {
      "_dom_classes": [],
      "_model_module": "@jupyter-widgets/controls",
      "_model_module_version": "1.5.0",
      "_model_name": "FloatProgressModel",
      "_view_count": null,
      "_view_module": "@jupyter-widgets/controls",
      "_view_module_version": "1.5.0",
      "_view_name": "ProgressView",
      "bar_style": "success",
      "description": "",
      "description_tooltip": null,
      "layout": "IPY_MODEL_a6acaf5533ad44a797f2441a223598ee",
      "max": 363423424,
      "min": 0,
      "orientation": "horizontal",
      "style": "IPY_MODEL_0eec18d9434245fdba77dbcc33bda84d",
      "value": 363423424
     }
    },
    "97811a5510e04d6f80f78349af33104a": {
     "model_module": "@jupyter-widgets/controls",
     "model_module_version": "1.5.0",
     "model_name": "HBoxModel",
     "state": {
      "_dom_classes": [],
      "_model_module": "@jupyter-widgets/controls",
      "_model_module_version": "1.5.0",
      "_model_name": "HBoxModel",
      "_view_count": null,
      "_view_module": "@jupyter-widgets/controls",
      "_view_module_version": "1.5.0",
      "_view_name": "HBoxView",
      "box_style": "",
      "children": [
       "IPY_MODEL_09f2b409bafd4b1ea541d4eb6c9eb90a",
       "IPY_MODEL_fb0b949573c24eb7898efba6547375d6",
       "IPY_MODEL_abf69e4d64c74e06b940fe876cacb620"
      ],
      "layout": "IPY_MODEL_8a560e0afb894e86ae50d0073d807a39"
     }
    },
    "9fe366dff9ea48d4b75636ed0a046007": {
     "model_module": "@jupyter-widgets/base",
     "model_module_version": "1.2.0",
     "model_name": "LayoutModel",
     "state": {
      "_model_module": "@jupyter-widgets/base",
      "_model_module_version": "1.2.0",
      "_model_name": "LayoutModel",
      "_view_count": null,
      "_view_module": "@jupyter-widgets/base",
      "_view_module_version": "1.2.0",
      "_view_name": "LayoutView",
      "align_content": null,
      "align_items": null,
      "align_self": null,
      "border": null,
      "bottom": null,
      "display": null,
      "flex": null,
      "flex_flow": null,
      "grid_area": null,
      "grid_auto_columns": null,
      "grid_auto_flow": null,
      "grid_auto_rows": null,
      "grid_column": null,
      "grid_gap": null,
      "grid_row": null,
      "grid_template_areas": null,
      "grid_template_columns": null,
      "grid_template_rows": null,
      "height": null,
      "justify_content": null,
      "justify_items": null,
      "left": null,
      "margin": null,
      "max_height": null,
      "max_width": null,
      "min_height": null,
      "min_width": null,
      "object_fit": null,
      "object_position": null,
      "order": null,
      "overflow": null,
      "overflow_x": null,
      "overflow_y": null,
      "padding": null,
      "right": null,
      "top": null,
      "visibility": null,
      "width": null
     }
    },
    "a5b7e24fad334b489e0f94026c8b6124": {
     "model_module": "@jupyter-widgets/controls",
     "model_module_version": "1.5.0",
     "model_name": "HTMLModel",
     "state": {
      "_dom_classes": [],
      "_model_module": "@jupyter-widgets/controls",
      "_model_module_version": "1.5.0",
      "_model_name": "HTMLModel",
      "_view_count": null,
      "_view_module": "@jupyter-widgets/controls",
      "_view_module_version": "1.5.0",
      "_view_name": "HTMLView",
      "description": "",
      "description_tooltip": null,
      "layout": "IPY_MODEL_b52231374aa240c6a5f007d70bd7a854",
      "placeholder": "​",
      "style": "IPY_MODEL_b94a57eb641d476890c126cc34fa2549",
      "value": " 483/483 [00:00&lt;00:00, 8.16kB/s]"
     }
    },
    "a6acaf5533ad44a797f2441a223598ee": {
     "model_module": "@jupyter-widgets/base",
     "model_module_version": "1.2.0",
     "model_name": "LayoutModel",
     "state": {
      "_model_module": "@jupyter-widgets/base",
      "_model_module_version": "1.2.0",
      "_model_name": "LayoutModel",
      "_view_count": null,
      "_view_module": "@jupyter-widgets/base",
      "_view_module_version": "1.2.0",
      "_view_name": "LayoutView",
      "align_content": null,
      "align_items": null,
      "align_self": null,
      "border": null,
      "bottom": null,
      "display": null,
      "flex": null,
      "flex_flow": null,
      "grid_area": null,
      "grid_auto_columns": null,
      "grid_auto_flow": null,
      "grid_auto_rows": null,
      "grid_column": null,
      "grid_gap": null,
      "grid_row": null,
      "grid_template_areas": null,
      "grid_template_columns": null,
      "grid_template_rows": null,
      "height": null,
      "justify_content": null,
      "justify_items": null,
      "left": null,
      "margin": null,
      "max_height": null,
      "max_width": null,
      "min_height": null,
      "min_width": null,
      "object_fit": null,
      "object_position": null,
      "order": null,
      "overflow": null,
      "overflow_x": null,
      "overflow_y": null,
      "padding": null,
      "right": null,
      "top": null,
      "visibility": null,
      "width": null
     }
    },
    "abf69e4d64c74e06b940fe876cacb620": {
     "model_module": "@jupyter-widgets/controls",
     "model_module_version": "1.5.0",
     "model_name": "HTMLModel",
     "state": {
      "_dom_classes": [],
      "_model_module": "@jupyter-widgets/controls",
      "_model_module_version": "1.5.0",
      "_model_name": "HTMLModel",
      "_view_count": null,
      "_view_module": "@jupyter-widgets/controls",
      "_view_module_version": "1.5.0",
      "_view_name": "HTMLView",
      "description": "",
      "description_tooltip": null,
      "layout": "IPY_MODEL_adc1fe162d494cab9093e11515003370",
      "placeholder": "​",
      "style": "IPY_MODEL_7c4de7dd902a4eb28583185a2ead2087",
      "value": " 455k/455k [00:00&lt;00:00, 1.47MB/s]"
     }
    },
    "ada87120c122422db11b1dca822a148a": {
     "model_module": "@jupyter-widgets/controls",
     "model_module_version": "1.5.0",
     "model_name": "FloatProgressModel",
     "state": {
      "_dom_classes": [],
      "_model_module": "@jupyter-widgets/controls",
      "_model_module_version": "1.5.0",
      "_model_name": "FloatProgressModel",
      "_view_count": null,
      "_view_module": "@jupyter-widgets/controls",
      "_view_module_version": "1.5.0",
      "_view_name": "ProgressView",
      "bar_style": "success",
      "description": "",
      "description_tooltip": null,
      "layout": "IPY_MODEL_0924f87b11a746ddb47ab7c04ff6a00d",
      "max": 483,
      "min": 0,
      "orientation": "horizontal",
      "style": "IPY_MODEL_e77f0e4ff90643c6b81309f28c1e736f",
      "value": 483
     }
    },
    "adc1fe162d494cab9093e11515003370": {
     "model_module": "@jupyter-widgets/base",
     "model_module_version": "1.2.0",
     "model_name": "LayoutModel",
     "state": {
      "_model_module": "@jupyter-widgets/base",
      "_model_module_version": "1.2.0",
      "_model_name": "LayoutModel",
      "_view_count": null,
      "_view_module": "@jupyter-widgets/base",
      "_view_module_version": "1.2.0",
      "_view_name": "LayoutView",
      "align_content": null,
      "align_items": null,
      "align_self": null,
      "border": null,
      "bottom": null,
      "display": null,
      "flex": null,
      "flex_flow": null,
      "grid_area": null,
      "grid_auto_columns": null,
      "grid_auto_flow": null,
      "grid_auto_rows": null,
      "grid_column": null,
      "grid_gap": null,
      "grid_row": null,
      "grid_template_areas": null,
      "grid_template_columns": null,
      "grid_template_rows": null,
      "height": null,
      "justify_content": null,
      "justify_items": null,
      "left": null,
      "margin": null,
      "max_height": null,
      "max_width": null,
      "min_height": null,
      "min_width": null,
      "object_fit": null,
      "object_position": null,
      "order": null,
      "overflow": null,
      "overflow_x": null,
      "overflow_y": null,
      "padding": null,
      "right": null,
      "top": null,
      "visibility": null,
      "width": null
     }
    },
    "af011dde1eb14a27aee289ce846230b0": {
     "model_module": "@jupyter-widgets/controls",
     "model_module_version": "1.5.0",
     "model_name": "DescriptionStyleModel",
     "state": {
      "_model_module": "@jupyter-widgets/controls",
      "_model_module_version": "1.5.0",
      "_model_name": "DescriptionStyleModel",
      "_view_count": null,
      "_view_module": "@jupyter-widgets/base",
      "_view_module_version": "1.2.0",
      "_view_name": "StyleView",
      "description_width": ""
     }
    },
    "b52231374aa240c6a5f007d70bd7a854": {
     "model_module": "@jupyter-widgets/base",
     "model_module_version": "1.2.0",
     "model_name": "LayoutModel",
     "state": {
      "_model_module": "@jupyter-widgets/base",
      "_model_module_version": "1.2.0",
      "_model_name": "LayoutModel",
      "_view_count": null,
      "_view_module": "@jupyter-widgets/base",
      "_view_module_version": "1.2.0",
      "_view_name": "LayoutView",
      "align_content": null,
      "align_items": null,
      "align_self": null,
      "border": null,
      "bottom": null,
      "display": null,
      "flex": null,
      "flex_flow": null,
      "grid_area": null,
      "grid_auto_columns": null,
      "grid_auto_flow": null,
      "grid_auto_rows": null,
      "grid_column": null,
      "grid_gap": null,
      "grid_row": null,
      "grid_template_areas": null,
      "grid_template_columns": null,
      "grid_template_rows": null,
      "height": null,
      "justify_content": null,
      "justify_items": null,
      "left": null,
      "margin": null,
      "max_height": null,
      "max_width": null,
      "min_height": null,
      "min_width": null,
      "object_fit": null,
      "object_position": null,
      "order": null,
      "overflow": null,
      "overflow_x": null,
      "overflow_y": null,
      "padding": null,
      "right": null,
      "top": null,
      "visibility": null,
      "width": null
     }
    },
    "b94a57eb641d476890c126cc34fa2549": {
     "model_module": "@jupyter-widgets/controls",
     "model_module_version": "1.5.0",
     "model_name": "DescriptionStyleModel",
     "state": {
      "_model_module": "@jupyter-widgets/controls",
      "_model_module_version": "1.5.0",
      "_model_name": "DescriptionStyleModel",
      "_view_count": null,
      "_view_module": "@jupyter-widgets/base",
      "_view_module_version": "1.2.0",
      "_view_name": "StyleView",
      "description_width": ""
     }
    },
    "b9bb21fd93654d5e8347b78a71b6240e": {
     "model_module": "@jupyter-widgets/base",
     "model_module_version": "1.2.0",
     "model_name": "LayoutModel",
     "state": {
      "_model_module": "@jupyter-widgets/base",
      "_model_module_version": "1.2.0",
      "_model_name": "LayoutModel",
      "_view_count": null,
      "_view_module": "@jupyter-widgets/base",
      "_view_module_version": "1.2.0",
      "_view_name": "LayoutView",
      "align_content": null,
      "align_items": null,
      "align_self": null,
      "border": null,
      "bottom": null,
      "display": null,
      "flex": null,
      "flex_flow": null,
      "grid_area": null,
      "grid_auto_columns": null,
      "grid_auto_flow": null,
      "grid_auto_rows": null,
      "grid_column": null,
      "grid_gap": null,
      "grid_row": null,
      "grid_template_areas": null,
      "grid_template_columns": null,
      "grid_template_rows": null,
      "height": null,
      "justify_content": null,
      "justify_items": null,
      "left": null,
      "margin": null,
      "max_height": null,
      "max_width": null,
      "min_height": null,
      "min_width": null,
      "object_fit": null,
      "object_position": null,
      "order": null,
      "overflow": null,
      "overflow_x": null,
      "overflow_y": null,
      "padding": null,
      "right": null,
      "top": null,
      "visibility": null,
      "width": null
     }
    },
    "bab2ea94301d4877ad320124f2417390": {
     "model_module": "@jupyter-widgets/controls",
     "model_module_version": "1.5.0",
     "model_name": "FloatProgressModel",
     "state": {
      "_dom_classes": [],
      "_model_module": "@jupyter-widgets/controls",
      "_model_module_version": "1.5.0",
      "_model_name": "FloatProgressModel",
      "_view_count": null,
      "_view_module": "@jupyter-widgets/controls",
      "_view_module_version": "1.5.0",
      "_view_name": "ProgressView",
      "bar_style": "success",
      "description": "",
      "description_tooltip": null,
      "layout": "IPY_MODEL_dd83641538d24610969ab498a7d2fa9b",
      "max": 231508,
      "min": 0,
      "orientation": "horizontal",
      "style": "IPY_MODEL_ca80801d21504a6da8a81189ef352ab5",
      "value": 231508
     }
    },
    "c046fdc704844307a24bf63a90106a39": {
     "model_module": "@jupyter-widgets/controls",
     "model_module_version": "1.5.0",
     "model_name": "HTMLModel",
     "state": {
      "_dom_classes": [],
      "_model_module": "@jupyter-widgets/controls",
      "_model_module_version": "1.5.0",
      "_model_name": "HTMLModel",
      "_view_count": null,
      "_view_module": "@jupyter-widgets/controls",
      "_view_module_version": "1.5.0",
      "_view_name": "HTMLView",
      "description": "",
      "description_tooltip": null,
      "layout": "IPY_MODEL_2acb3dc386044c9196ec6b2169607883",
      "placeholder": "​",
      "style": "IPY_MODEL_7cdb6d43aef34b4d8637315681fd87fa",
      "value": "Downloading: 100%"
     }
    },
    "ca80801d21504a6da8a81189ef352ab5": {
     "model_module": "@jupyter-widgets/controls",
     "model_module_version": "1.5.0",
     "model_name": "ProgressStyleModel",
     "state": {
      "_model_module": "@jupyter-widgets/controls",
      "_model_module_version": "1.5.0",
      "_model_name": "ProgressStyleModel",
      "_view_count": null,
      "_view_module": "@jupyter-widgets/base",
      "_view_module_version": "1.2.0",
      "_view_name": "StyleView",
      "bar_color": null,
      "description_width": ""
     }
    },
    "cb6fc8935a1a4d0b9c96b8e53fd4def1": {
     "model_module": "@jupyter-widgets/controls",
     "model_module_version": "1.5.0",
     "model_name": "ProgressStyleModel",
     "state": {
      "_model_module": "@jupyter-widgets/controls",
      "_model_module_version": "1.5.0",
      "_model_name": "ProgressStyleModel",
      "_view_count": null,
      "_view_module": "@jupyter-widgets/base",
      "_view_module_version": "1.2.0",
      "_view_name": "StyleView",
      "bar_color": null,
      "description_width": ""
     }
    },
    "cd90708906dd44e6813b8d247047696d": {
     "model_module": "@jupyter-widgets/controls",
     "model_module_version": "1.5.0",
     "model_name": "HTMLModel",
     "state": {
      "_dom_classes": [],
      "_model_module": "@jupyter-widgets/controls",
      "_model_module_version": "1.5.0",
      "_model_name": "HTMLModel",
      "_view_count": null,
      "_view_module": "@jupyter-widgets/controls",
      "_view_module_version": "1.5.0",
      "_view_name": "HTMLView",
      "description": "",
      "description_tooltip": null,
      "layout": "IPY_MODEL_5aa715c564a84e7281afdc822bf04d94",
      "placeholder": "​",
      "style": "IPY_MODEL_0f7a56c2a52c48c6b4a045f087833201",
      "value": " 347M/347M [00:07&lt;00:00, 51.4MB/s]"
     }
    },
    "cfa23da7945145d08fe253e4504d68b8": {
     "model_module": "@jupyter-widgets/base",
     "model_module_version": "1.2.0",
     "model_name": "LayoutModel",
     "state": {
      "_model_module": "@jupyter-widgets/base",
      "_model_module_version": "1.2.0",
      "_model_name": "LayoutModel",
      "_view_count": null,
      "_view_module": "@jupyter-widgets/base",
      "_view_module_version": "1.2.0",
      "_view_name": "LayoutView",
      "align_content": null,
      "align_items": null,
      "align_self": null,
      "border": null,
      "bottom": null,
      "display": null,
      "flex": null,
      "flex_flow": null,
      "grid_area": null,
      "grid_auto_columns": null,
      "grid_auto_flow": null,
      "grid_auto_rows": null,
      "grid_column": null,
      "grid_gap": null,
      "grid_row": null,
      "grid_template_areas": null,
      "grid_template_columns": null,
      "grid_template_rows": null,
      "height": null,
      "justify_content": null,
      "justify_items": null,
      "left": null,
      "margin": null,
      "max_height": null,
      "max_width": null,
      "min_height": null,
      "min_width": null,
      "object_fit": null,
      "object_position": null,
      "order": null,
      "overflow": null,
      "overflow_x": null,
      "overflow_y": null,
      "padding": null,
      "right": null,
      "top": null,
      "visibility": null,
      "width": null
     }
    },
    "d922006c7beb461db6ca5f09837f100c": {
     "model_module": "@jupyter-widgets/controls",
     "model_module_version": "1.5.0",
     "model_name": "HBoxModel",
     "state": {
      "_dom_classes": [],
      "_model_module": "@jupyter-widgets/controls",
      "_model_module_version": "1.5.0",
      "_model_name": "HBoxModel",
      "_view_count": null,
      "_view_module": "@jupyter-widgets/controls",
      "_view_module_version": "1.5.0",
      "_view_name": "HBoxView",
      "box_style": "",
      "children": [
       "IPY_MODEL_c046fdc704844307a24bf63a90106a39",
       "IPY_MODEL_dd4b7a42411c4468bd3a286359d87898",
       "IPY_MODEL_718c8209da524e299d7f7217efeebae1"
      ],
      "layout": "IPY_MODEL_d9a7f773c79841e09b23a70f3dce5f3d"
     }
    },
    "d9a7f773c79841e09b23a70f3dce5f3d": {
     "model_module": "@jupyter-widgets/base",
     "model_module_version": "1.2.0",
     "model_name": "LayoutModel",
     "state": {
      "_model_module": "@jupyter-widgets/base",
      "_model_module_version": "1.2.0",
      "_model_name": "LayoutModel",
      "_view_count": null,
      "_view_module": "@jupyter-widgets/base",
      "_view_module_version": "1.2.0",
      "_view_name": "LayoutView",
      "align_content": null,
      "align_items": null,
      "align_self": null,
      "border": null,
      "bottom": null,
      "display": null,
      "flex": null,
      "flex_flow": null,
      "grid_area": null,
      "grid_auto_columns": null,
      "grid_auto_flow": null,
      "grid_auto_rows": null,
      "grid_column": null,
      "grid_gap": null,
      "grid_row": null,
      "grid_template_areas": null,
      "grid_template_columns": null,
      "grid_template_rows": null,
      "height": null,
      "justify_content": null,
      "justify_items": null,
      "left": null,
      "margin": null,
      "max_height": null,
      "max_width": null,
      "min_height": null,
      "min_width": null,
      "object_fit": null,
      "object_position": null,
      "order": null,
      "overflow": null,
      "overflow_x": null,
      "overflow_y": null,
      "padding": null,
      "right": null,
      "top": null,
      "visibility": null,
      "width": null
     }
    },
    "dbc605143d284f609db16f7b5b91e7f7": {
     "model_module": "@jupyter-widgets/base",
     "model_module_version": "1.2.0",
     "model_name": "LayoutModel",
     "state": {
      "_model_module": "@jupyter-widgets/base",
      "_model_module_version": "1.2.0",
      "_model_name": "LayoutModel",
      "_view_count": null,
      "_view_module": "@jupyter-widgets/base",
      "_view_module_version": "1.2.0",
      "_view_name": "LayoutView",
      "align_content": null,
      "align_items": null,
      "align_self": null,
      "border": null,
      "bottom": null,
      "display": null,
      "flex": null,
      "flex_flow": null,
      "grid_area": null,
      "grid_auto_columns": null,
      "grid_auto_flow": null,
      "grid_auto_rows": null,
      "grid_column": null,
      "grid_gap": null,
      "grid_row": null,
      "grid_template_areas": null,
      "grid_template_columns": null,
      "grid_template_rows": null,
      "height": null,
      "justify_content": null,
      "justify_items": null,
      "left": null,
      "margin": null,
      "max_height": null,
      "max_width": null,
      "min_height": null,
      "min_width": null,
      "object_fit": null,
      "object_position": null,
      "order": null,
      "overflow": null,
      "overflow_x": null,
      "overflow_y": null,
      "padding": null,
      "right": null,
      "top": null,
      "visibility": null,
      "width": null
     }
    },
    "dd4b7a42411c4468bd3a286359d87898": {
     "model_module": "@jupyter-widgets/controls",
     "model_module_version": "1.5.0",
     "model_name": "FloatProgressModel",
     "state": {
      "_dom_classes": [],
      "_model_module": "@jupyter-widgets/controls",
      "_model_module_version": "1.5.0",
      "_model_name": "FloatProgressModel",
      "_view_count": null,
      "_view_module": "@jupyter-widgets/controls",
      "_view_module_version": "1.5.0",
      "_view_name": "ProgressView",
      "bar_style": "success",
      "description": "",
      "description_tooltip": null,
      "layout": "IPY_MODEL_2050a44993f24997920d540e1fe20c29",
      "max": 28,
      "min": 0,
      "orientation": "horizontal",
      "style": "IPY_MODEL_4767ff8f74b046d6b596718b5c3cbaf9",
      "value": 28
     }
    },
    "dd83641538d24610969ab498a7d2fa9b": {
     "model_module": "@jupyter-widgets/base",
     "model_module_version": "1.2.0",
     "model_name": "LayoutModel",
     "state": {
      "_model_module": "@jupyter-widgets/base",
      "_model_module_version": "1.2.0",
      "_model_name": "LayoutModel",
      "_view_count": null,
      "_view_module": "@jupyter-widgets/base",
      "_view_module_version": "1.2.0",
      "_view_name": "LayoutView",
      "align_content": null,
      "align_items": null,
      "align_self": null,
      "border": null,
      "bottom": null,
      "display": null,
      "flex": null,
      "flex_flow": null,
      "grid_area": null,
      "grid_auto_columns": null,
      "grid_auto_flow": null,
      "grid_auto_rows": null,
      "grid_column": null,
      "grid_gap": null,
      "grid_row": null,
      "grid_template_areas": null,
      "grid_template_columns": null,
      "grid_template_rows": null,
      "height": null,
      "justify_content": null,
      "justify_items": null,
      "left": null,
      "margin": null,
      "max_height": null,
      "max_width": null,
      "min_height": null,
      "min_width": null,
      "object_fit": null,
      "object_position": null,
      "order": null,
      "overflow": null,
      "overflow_x": null,
      "overflow_y": null,
      "padding": null,
      "right": null,
      "top": null,
      "visibility": null,
      "width": null
     }
    },
    "de90f7a1d9304dcc968031e2577cc5f6": {
     "model_module": "@jupyter-widgets/controls",
     "model_module_version": "1.5.0",
     "model_name": "DescriptionStyleModel",
     "state": {
      "_model_module": "@jupyter-widgets/controls",
      "_model_module_version": "1.5.0",
      "_model_name": "DescriptionStyleModel",
      "_view_count": null,
      "_view_module": "@jupyter-widgets/base",
      "_view_module_version": "1.2.0",
      "_view_name": "StyleView",
      "description_width": ""
     }
    },
    "e62ef7d4513f4360b802602bdd549a38": {
     "model_module": "@jupyter-widgets/controls",
     "model_module_version": "1.5.0",
     "model_name": "DescriptionStyleModel",
     "state": {
      "_model_module": "@jupyter-widgets/controls",
      "_model_module_version": "1.5.0",
      "_model_name": "DescriptionStyleModel",
      "_view_count": null,
      "_view_module": "@jupyter-widgets/base",
      "_view_module_version": "1.2.0",
      "_view_name": "StyleView",
      "description_width": ""
     }
    },
    "e77f0e4ff90643c6b81309f28c1e736f": {
     "model_module": "@jupyter-widgets/controls",
     "model_module_version": "1.5.0",
     "model_name": "ProgressStyleModel",
     "state": {
      "_model_module": "@jupyter-widgets/controls",
      "_model_module_version": "1.5.0",
      "_model_name": "ProgressStyleModel",
      "_view_count": null,
      "_view_module": "@jupyter-widgets/base",
      "_view_module_version": "1.2.0",
      "_view_name": "StyleView",
      "bar_color": null,
      "description_width": ""
     }
    },
    "f6a8d1a6b30a44a189c22b6512a124e8": {
     "model_module": "@jupyter-widgets/controls",
     "model_module_version": "1.5.0",
     "model_name": "HTMLModel",
     "state": {
      "_dom_classes": [],
      "_model_module": "@jupyter-widgets/controls",
      "_model_module_version": "1.5.0",
      "_model_name": "HTMLModel",
      "_view_count": null,
      "_view_module": "@jupyter-widgets/controls",
      "_view_module_version": "1.5.0",
      "_view_name": "HTMLView",
      "description": "",
      "description_tooltip": null,
      "layout": "IPY_MODEL_dbc605143d284f609db16f7b5b91e7f7",
      "placeholder": "​",
      "style": "IPY_MODEL_141bbc8726de412393f276e42cddc98a",
      "value": "Downloading: 100%"
     }
    },
    "fb0b949573c24eb7898efba6547375d6": {
     "model_module": "@jupyter-widgets/controls",
     "model_module_version": "1.5.0",
     "model_name": "FloatProgressModel",
     "state": {
      "_dom_classes": [],
      "_model_module": "@jupyter-widgets/controls",
      "_model_module_version": "1.5.0",
      "_model_name": "FloatProgressModel",
      "_view_count": null,
      "_view_module": "@jupyter-widgets/controls",
      "_view_module_version": "1.5.0",
      "_view_name": "ProgressView",
      "bar_style": "success",
      "description": "",
      "description_tooltip": null,
      "layout": "IPY_MODEL_7842392242d747c28ff250c1f480ea81",
      "max": 466062,
      "min": 0,
      "orientation": "horizontal",
      "style": "IPY_MODEL_cb6fc8935a1a4d0b9c96b8e53fd4def1",
      "value": 466062
     }
    },
    "ff5782c53edb41719efe7be4c9c9163f": {
     "model_module": "@jupyter-widgets/base",
     "model_module_version": "1.2.0",
     "model_name": "LayoutModel",
     "state": {
      "_model_module": "@jupyter-widgets/base",
      "_model_module_version": "1.2.0",
      "_model_name": "LayoutModel",
      "_view_count": null,
      "_view_module": "@jupyter-widgets/base",
      "_view_module_version": "1.2.0",
      "_view_name": "LayoutView",
      "align_content": null,
      "align_items": null,
      "align_self": null,
      "border": null,
      "bottom": null,
      "display": null,
      "flex": null,
      "flex_flow": null,
      "grid_area": null,
      "grid_auto_columns": null,
      "grid_auto_flow": null,
      "grid_auto_rows": null,
      "grid_column": null,
      "grid_gap": null,
      "grid_row": null,
      "grid_template_areas": null,
      "grid_template_columns": null,
      "grid_template_rows": null,
      "height": null,
      "justify_content": null,
      "justify_items": null,
      "left": null,
      "margin": null,
      "max_height": null,
      "max_width": null,
      "min_height": null,
      "min_width": null,
      "object_fit": null,
      "object_position": null,
      "order": null,
      "overflow": null,
      "overflow_x": null,
      "overflow_y": null,
      "padding": null,
      "right": null,
      "top": null,
      "visibility": null,
      "width": null
     }
    }
   }
  }
 },
 "nbformat": 4,
 "nbformat_minor": 1
}
