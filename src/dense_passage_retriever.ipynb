{
  "cells": [
    {
      "cell_type": "code",
      "execution_count": 1,
      "metadata": {
        "id": "8oZkaIoI1esj"
      },
      "outputs": [],
      "source": [
        "username = 'MarcelloCeresini'\n",
        "repository = 'QuestionAnswering'\n",
        "\n",
        "# COLAB ONLY CELLS\n",
        "try:\n",
        "    import google.colab\n",
        "    IN_COLAB = True\n",
        "    !pip3 install transformers\n",
        "    !git clone https://www.github.com/{username}/{repository}.git\n",
        "    #from google.colab import drive\n",
        "    #drive.mount('/content/drive/')\n",
        "    %cd /content/QuestionAnswering/src\n",
        "    using_TPU = True    # If we are running this notebook on Colab, use a TPU\n",
        "    # Import functions to update cloud bucket. \n",
        "    # Key for using Google cloud services is on personal drive\n",
        "    from google.cloud import storage\n",
        "    # Google cloud credentials\n",
        "    %env GOOGLE_APPLICATION_CREDENTIALS=/content/drive/MyDrive/Uni/Magistrale/NLP/Project/nlp-project-338723-0510aa0a4912.json\n",
        "except:\n",
        "    IN_COLAB = False\n",
        "    using_TPU = False   # If you're not on Colab you probably won't have access to a TPU"
      ]
    },
    {
      "cell_type": "markdown",
      "metadata": {
        "id": "nmXDnbCt1ess"
      },
      "source": [
        "# Description"
      ]
    },
    {
      "cell_type": "markdown",
      "metadata": {
        "id": "4tIdZRSl1esu"
      },
      "source": [
        "In this notebook, we will try to implement the architecture detailed in [Dense Passage Retrieval for Open-Domain Question Answering](https://arxiv.org/pdf/2004.04906.pdf). \n",
        "\n",
        "The idea is that we have a corpus of documents $C = {p_1, p_2, \\dots, p_M}$ where each passage $p_i$ can be viewed as a sequence of tokens $w_1^{(i)}, w_2^{(i)}, \\dots, w_{|p_i|}^{(i)}$ and given a question $q$ we want to find the sequence of tokens $w_s^{(i)}, w_{s+1}^{(i)}, \\dots, w_{e}^{(i)}$ from one of the passage $i$ that can answer the question.\n",
        "\n",
        "In order to find the passage $i$ we need an efficient **Retriever** (i.e. a function $R: (q, C) \\rightarrow C_F$ where $C_F$ is a very small set of $k$ documents that have a high correlation with the query.)\n",
        "\n",
        "In the Tf-Idf example, the retriever was simply a function that returned the top score obtained by computing the vector cosine similarity between the query and all other documents. The problem with this approach is that it is not very efficient. Tf-Idf is a **sparse** document/query representation, thus computing a multitude of dot products between these very long vectors can be expensive.\n",
        "\n",
        "The paper cited above proposes a **dense** representation instead. It uses a Dense Encoder $E_P$ which maps all paragraphs to $d$-dimensional vectors. These vectors are stored in a database so that they can be efficiently retrieved. \n",
        "\n",
        "At run-time, another Dense Encoder $E_Q$ is used: it maps the input question to a vector with the same dimensionality $d$. Then, a similarity score is computed between the two representations:\n",
        "\n",
        "$sim(p,q) = E_Q(q)^\\intercal E_P(p)$\n",
        "\n",
        "In the paper, $E_Q$ and $E_P$ are two independent BERT transformers and the $d$-dimensional vector is the **output at the $\\texttt{[CLS]}$ token** (so, $d = 768$).\n",
        "- This leaves open the possibility to use a larger dimensionality (eg. concatenating the output at multiple blocks like we did for the QA task).\n",
        "\n",
        "<!-- The $d$-dimensional representations of the $M$ passages are indexed using [FAISS](https://github.com/facebookresearch/faiss), an efficient, open-source library for similarity search and clustering of dense vectors developed at Facebook AI.  -->\n",
        "At run-time, we simply compute $v_q = E_Q(q)$ and retrieve the top $k$ passages with embeddings closest to $v_q$.\n",
        "\n",
        "In this case, training the network means solving a **metric learning** problem: the two BERT networks need to learn an **effective vector space** such that relevant pairs of questions and passages are close, while irrelevant pairs are placed further away. In this problem we usually build a **training instance $D$** as ${(q_i, p_i^+, p_{i,1}^-, p_{i,2}^-, \\dots, p_{i,n}^-)}^m_{i=1}$, where question $q$ is paired with a relevant (positive) passage $p_i^+$ and $n$ irrelevant (negative) passages. Then, the loss function is the negative log-likelihood of the positive passage:\n",
        "\n",
        "$L(q_i, p_i^+, p_{i,1}^-, p_{i,2}^-, \\dots, p_{i,n}^-) = -\\log\\frac{e^{sim(q_i, p_i^+)}}{e^{sim(q_i, p_i^+)} + \\sum_{j=1}^n e^{sim(q_i, p_{i,j}^-)}}$\n",
        "\n",
        "It's easy to find the positive paragraph, but choosing the negatives is quite important. In particular, the paper proposes different ways for sampling the negatives:\n",
        "- Random: a negative is any random passage in the corpus\n",
        "- TF-IDF (The paper uses a variant, BM25): the negatives are the top passages (not containing the answer) returned by a TF-IDF search\n",
        "- Gold: the negatives are positives for other questions in the mini-batch. For the researchers, this is the best negative-mining option, because it's the most efficient and also it makes a batch a complete unit of learning (we learn the relationship that each question in the batch has with the other paragraphs).\n",
        "\n",
        "The Gold method allows the **in-batch negatives** technique: assuming to have a batch size of $B$, then we collect two $B \\times d$ matrices (one for questions, one for their positive paragraphs). Then, we compute $S = QP^\\intercal$ which is a $B \\times B$ matrix of **similarity scored** between each question and paragraph. This matrix can directly be used for training: any ($q_i, p_j$) pair where $i = j$ is considered to be a positive example, while it's negative otherwise. In total there will be $B$ training instances per batch, each with $B-1$ negative passages. \n",
        "\n",
        "Furthermore, at least one of the $B-1$ negative passages should be hard enough, so that the model learns to discriminate well. We pick the first non-positive paragraph returned by a Tf-Idf vectorizer and replace a random negative in the batch with it."
      ]
    },
    {
      "cell_type": "markdown",
      "metadata": {
        "id": "7s1cbEuy1es4"
      },
      "source": [
        "# Configuration"
      ]
    },
    {
      "cell_type": "markdown",
      "metadata": {
        "id": "Pm45AN-fDEiv"
      },
      "source": [
        "## Imports"
      ]
    },
    {
      "cell_type": "code",
      "execution_count": 2,
      "metadata": {
        "colab": {
          "base_uri": "https://localhost:8080/",
          "height": 104,
          "referenced_widgets": [
            "1fabe1bed61c4f308ff170fdf1bd3e0c",
            "6c0120d5fe5f4b0c83e0ac03b41e18b1",
            "e88ed43ef11f4f629ecbafdf6bed8856",
            "eb06c3f87ec34352971f282d86a215d9",
            "cc13ae4d678d41b5ba927c55d8fcbc69",
            "14e1e266aad54a46a3317395251e5287",
            "8b262df523ab4e4d92a907adb506b8be",
            "56ba5461bcb246b2a5e064dd9fa25cde",
            "10bb0ce02e59437890b04043bd237ddf",
            "d751b89ca38e41c3ab8b3837efda5866",
            "ca2de380bd3140469a636b96aa6e42c4"
          ]
        },
        "id": "8CBcRCvCCpzg",
        "outputId": "2e4d8fb5-5031-4924-a786-06ba5e4a8fb5"
      },
      "outputs": [],
      "source": [
        "import os\n",
        "import time\n",
        "import numpy as np\n",
        "import random\n",
        "from tqdm import tqdm\n",
        "from functools import partial\n",
        "tqdm = partial(tqdm, position=0, leave=True)\n",
        "import tensorflow as tf\n",
        "from tensorflow import keras\n",
        "from tensorflow.keras import layers\n",
        "from tensorflow.keras.utils import Sequence\n",
        "from typing import List, Union, Dict, Tuple\n",
        "from transformers import BertTokenizerFast, DistilBertTokenizerFast, \\\n",
        "                         TFBertModel, TFDistilBertModel\n",
        "from sklearn.feature_extraction.text import TfidfVectorizer\n",
        "\n",
        "import utils\n",
        "\n",
        "RANDOM_SEED = 42\n",
        "MAX_SEQ_LEN = 512\n",
        "BERT_DIMENSIONALITY = 768\n",
        "\n",
        "np.random.seed(RANDOM_SEED)\n",
        "random.seed(RANDOM_SEED)\n",
        "tf.random.set_seed(RANDOM_SEED)"
      ]
    },
    {
      "cell_type": "markdown",
      "metadata": {
        "id": "K7Ih1ZqSDCmW"
      },
      "source": [
        "### TPU check\n",
        "The training could be made faster if we use the cloud GPUs offered by Google on Google Colab. Since TPUs require manual intialization and other oddities, we check multiple times throughout the notebook what kind of hardware we are running the code on."
      ]
    },
    {
      "cell_type": "code",
      "execution_count": 3,
      "metadata": {
        "colab": {
          "base_uri": "https://localhost:8080/"
        },
        "id": "iyt5e89MCm4X",
        "outputId": "3d72dc22-3fa6-4ce9-a48f-fc8ed4a8d51f"
      },
      "outputs": [
        {
          "name": "stdout",
          "output_type": "stream",
          "text": [
            "All devices:  [LogicalDevice(name='/job:worker/replica:0/task:0/device:TPU:0', device_type='TPU'), LogicalDevice(name='/job:worker/replica:0/task:0/device:TPU:1', device_type='TPU'), LogicalDevice(name='/job:worker/replica:0/task:0/device:TPU:2', device_type='TPU'), LogicalDevice(name='/job:worker/replica:0/task:0/device:TPU:3', device_type='TPU'), LogicalDevice(name='/job:worker/replica:0/task:0/device:TPU:4', device_type='TPU'), LogicalDevice(name='/job:worker/replica:0/task:0/device:TPU:5', device_type='TPU'), LogicalDevice(name='/job:worker/replica:0/task:0/device:TPU:6', device_type='TPU'), LogicalDevice(name='/job:worker/replica:0/task:0/device:TPU:7', device_type='TPU')]\n"
          ]
        }
      ],
      "source": [
        "if using_TPU:\n",
        "    try: \n",
        "        resolver = tf.distribute.cluster_resolver.TPUClusterResolver(tpu='')\n",
        "        tf.config.experimental_connect_to_cluster(resolver)\n",
        "        # This is the TPU initialization code that has to be at the beginning.\n",
        "        tf.tpu.experimental.initialize_tpu_system(resolver)\n",
        "        print(\"All devices: \", tf.config.list_logical_devices('TPU'))\n",
        "        strategy = tf.distribute.TPUStrategy(resolver)\n",
        "    except:\n",
        "        print(\"TPUs are not available, setting flag 'using_TPU' to False.\")\n",
        "        using_TPU = False\n",
        "        print(\"Num GPUs Available: \", len(tf.config.list_physical_devices('GPU')))\n",
        "else:\n",
        "    print(\"Num GPUs Available: \", len(tf.config.list_physical_devices('GPU')))\n",
        "\n",
        "BATCH_SIZE = 8 if not using_TPU else 128"
      ]
    },
    {
      "cell_type": "markdown",
      "metadata": {
        "id": "vVHmkEeC2kuf"
      },
      "source": [
        "## Allowed operations"
      ]
    },
    {
      "cell_type": "code",
      "execution_count": 7,
      "metadata": {
        "id": "QSfXDW2g2sAr"
      },
      "outputs": [],
      "source": [
        "ANALYSE_TOKENIZATIONS = True    # Tokenises all paragraphs and showcases a simple analysis\n",
        "                                # for reducing the length of the sequence. Runs in less \n",
        "                                # than a few minutes on any architecture.\n",
        "\n",
        "OVERWRITE_DATASETS = False      # Best to be run on GPU, takes about half an hour.\n",
        "                                # It saves a new copy of the pre-tokenized\n",
        "                                # question-paragraph pair on Google Drive.\n",
        "                                # The copy should then be uploaded to GCloud into\n",
        "                                # the bucket allocated for the project to be used by\n",
        "                                # TPUs.\n",
        "\n",
        "DO_TRAINING = True              # Best to be run on TPU, takes about 2 hours.\n",
        "                                # It trains the model and saves a copy of the \n",
        "                                # last weights on Google Drive. When run on GPU\n",
        "                                # It also saves checkpoints and Tensorboard data,\n",
        "                                # but it takes over 4 hours to do a single epoch,\n",
        "                                # so it's impossible to run it on Colab.\n",
        "\n",
        "OVERRIDE_REPRESENTATIONS = True  # Best to be run on GPU, it takes about 30 minutes.\n",
        "                                 # It produces representations of all paragraphs\n",
        "                                 # using the trained model_p as a large NumPy array\n",
        "                                 # that is stored on Google Drive at the end.\n",
        "\n",
        "OVERRIDE_SCORES = False          # Produces scores for all paragraphs for each question in each set\n",
        "                                 # using the dpr and tf-idf, used to compute metrics. Takes up a LOT\n",
        "                                 # of RAM\n",
        "\n",
        "RUN_ACCURACY_ANALYSIS = True    # Best to be run on GPU, takes about 30 minutes.\n",
        "                                # It analyzes the paragraph retrieval capability\n",
        "                                # of the model with top-1 to top-100 accuracy."
      ]
    },
    {
      "cell_type": "markdown",
      "metadata": {
        "id": "eAv3n12tDIAo"
      },
      "source": [
        "## Variables"
      ]
    },
    {
      "cell_type": "markdown",
      "metadata": {
        "id": "d8piWcupDOPR"
      },
      "source": [
        "We define all the paths."
      ]
    },
    {
      "cell_type": "code",
      "execution_count": 29,
      "metadata": {
        "id": "On3I2PUgCwNF"
      },
      "outputs": [],
      "source": [
        "ROOT_PATH = os.path.dirname(os.getcwd())\n",
        "TRAINING_FILE = os.path.join(ROOT_PATH, 'data', 'training_set.json')\n",
        "VALIDATION_FILE = os.path.join(ROOT_PATH, 'data', 'validation_set.json')\n",
        "TEST_FILE = os.path.join(ROOT_PATH, 'data', 'dev_set.json')"
      ]
    },
    {
      "cell_type": "code",
      "execution_count": 31,
      "metadata": {},
      "outputs": [],
      "source": [
        "if IN_COLAB:\n",
        "    from google.colab import drive\n",
        "    drive.mount('/content/drive/')\n",
        "    checkpoint_dir = '/content/drive/MyDrive/Uni/Magistrale/NLP/Project/weights/training_dpr/'\n",
        "    datasets_dir = '/content/drive/MyDrive/Uni/Magistrale/NLP/Project/datasets/dpr/'\n",
        "else:\n",
        "    # Create the folder where we'll save the weights of the model\n",
        "    checkpoint_dir = os.path.join(\"checkpoints\", \"training_dpr\")\n",
        "    datasets_dir = os.path.join(ROOT_PATH, \"data\", \"training_dpr\", \"dataset\")\n",
        "\n",
        "os.makedirs(checkpoint_dir, exist_ok=True)\n",
        "os.makedirs(datasets_dir, exist_ok=True)"
      ]
    },
    {
      "cell_type": "markdown",
      "metadata": {
        "id": "YLC6xwfKDSAN"
      },
      "source": [
        "We collect the training, validation and testing questions and paragraphs."
      ]
    },
    {
      "cell_type": "code",
      "execution_count": 4,
      "metadata": {
        "colab": {
          "base_uri": "https://localhost:8080/"
        },
        "id": "1zdDCsLZDMkm",
        "outputId": "fff2ae17-8d2e-4b61-e55e-44d5a2ee8d4d"
      },
      "outputs": [
        {
          "name": "stdout",
          "output_type": "stream",
          "text": [
            "Number of training questions: 65064\n",
            "Number of training paragraphs: 13975\n",
            "\n",
            "Number of val questions: 22535\n",
            "Number of val paragraphs: 4921\n",
            "\n",
            "Number of test questions: 10570\n",
            "Number of test paragraphs: 2067\n"
          ]
        }
      ],
      "source": [
        "from utils import get_questions_and_paragraphs\n",
        "\n",
        "train_paragraphs_and_questions = utils.read_question_set(TRAINING_FILE)['data']\n",
        "val_paragraphs_and_questions = utils.read_question_set(VALIDATION_FILE)['data']\n",
        "test_paragraphs_and_questions = utils.read_question_set(TEST_FILE)['data']\n",
        "\n",
        "# Remove the validation set from the train set\n",
        "train_paragraphs_and_questions = [article for article in train_paragraphs_and_questions \\\n",
        "                                  if article not in val_paragraphs_and_questions]\n",
        "\n",
        "train_questions, train_paragraphs = get_questions_and_paragraphs(train_paragraphs_and_questions)\n",
        "val_questions, val_paragraphs = get_questions_and_paragraphs(val_paragraphs_and_questions)\n",
        "test_questions, test_paragraphs = get_questions_and_paragraphs(test_paragraphs_and_questions)\n",
        "\n",
        "print(f\"Number of training questions: {len(train_questions)}\")\n",
        "print(f\"Number of training paragraphs: {len(train_paragraphs)}\")\n",
        "print()\n",
        "print(f\"Number of val questions: {len(val_questions)}\")\n",
        "print(f\"Number of val paragraphs: {len(val_paragraphs)}\")\n",
        "print()\n",
        "print(f\"Number of test questions: {len(test_questions)}\")\n",
        "print(f\"Number of test paragraphs: {len(test_paragraphs)}\")"
      ]
    },
    {
      "cell_type": "markdown",
      "metadata": {
        "id": "fvGAqUBvDbIg"
      },
      "source": [
        "We create the two different DistilBert models for encoding and test them on a random question/paragraph."
      ]
    },
    {
      "cell_type": "code",
      "execution_count": null,
      "metadata": {
        "colab": {
          "base_uri": "https://localhost:8080/",
          "height": 371,
          "referenced_widgets": [
            "01f180ac83c44a7cb1ff974bdc7ab13e",
            "cfd992c3ce154a77af97efbc3089da63",
            "c283599f48604804bdf0894750c52269",
            "7f76787372e24db4af66a063c1cbdadc",
            "ab98c43b6c3749d087bf75f7d5b11589",
            "1c99dc5488a7438a86762851edb03b66",
            "17e739cc184a4f88a7f816c1f6d4f9a5",
            "5e0f8230323f489da914292426a7e91a",
            "1cb1396df32749188e5150dbefa3bbd2",
            "7fc14d78df7b4ef79ddd068e4a9fa324",
            "04cc48ccff614467a0beffad45e439fc",
            "4a9fbef78aa246eebd0fef77e5ea914e",
            "fa565972473d4bc3a0a6705be76cd6b6",
            "5e5de9526e2b4e2da9a32c585ddc7f89",
            "781fb2661a3f4b3b8d2c7f2ed3a56ff0",
            "3a9db2e80f9649d9a6d61881b081de1f",
            "2bce496a446446b0a5dc02086200a0f9",
            "e9a5f0ea7ba54163b30b62d7865b603a",
            "187147b3f18b46d9a2c110357e623a1a",
            "15b468408856476cb60a501a580bcb1d",
            "375ee0b4e1214fb1a0eef421f91cad8f",
            "6e61d71f3972487096e4c6f532dc2229",
            "7c0ee8b305dd4370b43bdb905f53fa77",
            "318ed6d123034a4190fbce9d62f46109",
            "c1fd2289d0c740cf8053bfed5d192534",
            "feb5b394e8b14fa89f165179f6a1a207",
            "7ba94b893ec14228bf5524ae1f685d0c",
            "702089ad5e2344b79bdfa141ae19d358",
            "ed8711700508458d95b928552eddeb16",
            "111b0247036446ceb35e9f53e9539ad8",
            "f77d5aa71af64783a526a71bd6779abb",
            "d5b9e0614bc54f0fa439b1ef6f15aa51",
            "72cc51b3690a4a4a8127c01d55f86a82",
            "08c06f3690bc4ec3b6451992e39f7944",
            "2fd969a0cb4f4114a948cb180d269f4d",
            "03fa38915a214925a41116ba9d7c2465",
            "b6297c05930c4ceeb4609191a29586f0",
            "2d2e0f4e3cf347e686a24c856f75d8c0",
            "e74dc55a6aa840399c6a40fc79bb01d7",
            "54166597132f4fa9a53240ab2d255a07",
            "e9dcd640a301493a85b85af9a8f0ef58",
            "1e92bc4ef9ac4db9a2c28b402a92babd",
            "785397b3ec5b44d7a0b3cb353b41ce0a",
            "b747229a3e3b4f96a28ead90e2c15da0",
            "f5802f802cf2482fa9cb6a6636da52a0",
            "eee4c3166b6f48099dc3018a7f60e7db",
            "705db5fecee543c8ac1d1c80596dfeb8",
            "94ab722d0bf94e75ad3d271519542c40",
            "7dab2768a384420cbd0d99f7a105697b",
            "cd25d439bbf34ec68b32ff5d972f1e21",
            "90ba6224654d40ca81bfd5b506c5a240",
            "c790538904a14ccba718572fcd6a1b7c",
            "85e2d7b726e84432a89d05c58142be27",
            "28bca8beb0024c088e390ce7c4450873",
            "5c978b5490c34e0f82a1115332f2ad93"
          ]
        },
        "id": "1XI6YUBZDit8",
        "outputId": "189e4a1e-1ea4-4a21-b0dd-3de17fd4829e"
      },
      "outputs": [],
      "source": [
        "tokenizer_distilbert = DistilBertTokenizerFast.from_pretrained('distilbert-base-uncased')\n",
        "\n",
        "model_q, model_p = TFDistilBertModel.from_pretrained('distilbert-base-uncased'), \\\n",
        "                   TFDistilBertModel.from_pretrained('distilbert-base-uncased')"
      ]
    },
    {
      "cell_type": "markdown",
      "metadata": {
        "id": "QFP6H-ok1jyN"
      },
      "source": [
        "What is the ideal maximum length of a sequence of tokens?"
      ]
    },
    {
      "cell_type": "code",
      "execution_count": null,
      "metadata": {
        "colab": {
          "base_uri": "https://localhost:8080/"
        },
        "id": "RFfkIhW-1i8P",
        "outputId": "ecaac183-0c27-4086-a50b-8b20ff9193b4"
      },
      "outputs": [
        {
          "name": "stderr",
          "output_type": "stream",
          "text": [
            "  1%|▏         | 200/13975 [00:00<00:06, 1996.59it/s]Token indices sequence length is longer than the specified maximum sequence length for this model (720 > 512). Running this sequence through the model will result in indexing errors\n",
            "100%|██████████| 13975/13975 [00:06<00:00, 2150.24it/s]"
          ]
        },
        {
          "name": "stdout",
          "output_type": "stream",
          "text": [
            "Total n. of paragraphs: 13975\n",
            "Only 184 are truncated when using 350 max tokens (1.3166368515205724%)\n",
            "Only 156 are truncated when using 360 max tokens (1.1162790697674418%)\n",
            "Only 132 are truncated when using 370 max tokens (0.9445438282647585%)\n",
            "Only 119 are truncated when using 380 max tokens (0.851520572450805%)\n",
            "Only 100 are truncated when using 390 max tokens (0.7155635062611807%)\n",
            "Only 84 are truncated when using 400 max tokens (0.6010733452593918%)\n",
            "Only 68 are truncated when using 410 max tokens (0.48658318425760283%)\n",
            "Only 58 are truncated when using 420 max tokens (0.4150268336314848%)\n",
            "Only 46 are truncated when using 430 max tokens (0.3291592128801431%)\n",
            "Only 39 are truncated when using 440 max tokens (0.27906976744186046%)\n",
            "Only 35 are truncated when using 450 max tokens (0.25044722719141327%)\n",
            "Only 30 are truncated when using 460 max tokens (0.2146690518783542%)\n",
            "Only 28 are truncated when using 470 max tokens (0.2003577817531306%)\n",
            "Only 27 are truncated when using 480 max tokens (0.19320214669051877%)\n",
            "Only 22 are truncated when using 490 max tokens (0.15742397137745975%)\n"
          ]
        },
        {
          "name": "stderr",
          "output_type": "stream",
          "text": [
            "\n"
          ]
        }
      ],
      "source": [
        "if ANALYSE_TOKENIZATIONS:\n",
        "    lens = []\n",
        "    for paragraph in tqdm(train_paragraphs):\n",
        "        emb = tokenizer_distilbert(paragraph['context'], return_tensors='np')\n",
        "        tokens = emb['attention_mask'].shape[1]\n",
        "        lens.append(tokens)\n",
        "    print(f\"Total n. of paragraphs: {len(train_paragraphs)}\")\n",
        "    for i in range(350, 500, 10):\n",
        "        print(f\"Only {np.sum(np.asarray(lens) > i)} are truncated when using {i} max tokens ({np.sum(np.asarray(lens) > i) / len(train_paragraphs)*100}%)\")"
      ]
    },
    {
      "cell_type": "markdown",
      "metadata": {
        "id": "t80p88uc5493"
      },
      "source": [
        "To reduce memory consumption, we can:\n",
        "- Truncate sequences at something like 380 tokens (less than 1% of the total training paragraphs would be cut with this decision)\n",
        "- Reduce the dimensionality of Bert/DistilBert's output to `BERT_DIMENSIONALITY` (instead of the default of 768)."
      ]
    },
    {
      "cell_type": "code",
      "execution_count": 10,
      "metadata": {
        "id": "yQmglauV5p5V"
      },
      "outputs": [],
      "source": [
        "MAX_SEQ_LEN = 512\n",
        "BERT_DIMENSIONALITY = 768"
      ]
    },
    {
      "cell_type": "markdown",
      "metadata": {
        "id": "ZF8bdGkg5uAE"
      },
      "source": [
        "If we decide to reduce the dimensionality, we can add a `Dense` layer on top of the encoder. This layer reduces the dimension of the output to whatever we need."
      ]
    },
    {
      "cell_type": "code",
      "execution_count": 8,
      "metadata": {
        "id": "8GSRnaQpJOqB"
      },
      "outputs": [],
      "source": [
        "from utils import ReducedDistilBertModel\n",
        "\n",
        "model_q = ReducedDistilBertModel(model_q)\n",
        "model_p = ReducedDistilBertModel(model_p)"
      ]
    },
    {
      "cell_type": "markdown",
      "metadata": {
        "id": "hrnVC5w26ZrP"
      },
      "source": [
        "Let's try this model on a test question:"
      ]
    },
    {
      "cell_type": "code",
      "execution_count": 10,
      "metadata": {
        "colab": {
          "base_uri": "https://localhost:8080/"
        },
        "id": "EcCbC-Vi1es5",
        "outputId": "6633a7fa-ded3-4a1d-bbc7-35221a2bc2a3"
      },
      "outputs": [
        {
          "name": "stdout",
          "output_type": "stream",
          "text": [
            "Testing on a simple question. \n",
            "Question: To whom did the Virgin Mary allegedly appear in 1858 in Lourdes France?\n",
            "Representation dimensionality: (768,)\n"
          ]
        }
      ],
      "source": [
        "test_question = train_questions[0]['qas']['question']\n",
        "print(f\"Testing on a simple question. \\nQuestion: {test_question}\")\n",
        "inputs_test = tokenizer_distilbert(test_question, return_tensors=\"tf\")\n",
        "outputs = model_q(inputs_test)\n",
        "\n",
        "# As a representation of the token we use the last hidden state at the [CLS] token (the first one)\n",
        "test_q_repr = outputs[0,0,:]\n",
        "print(f\"Representation dimensionality: {test_q_repr.shape}\")"
      ]
    },
    {
      "cell_type": "markdown",
      "metadata": {
        "id": "yrIu_o4AskgF"
      },
      "source": [
        "We also create the Tf-Idf vectorizers for the training and validation sets."
      ]
    },
    {
      "cell_type": "code",
      "execution_count": null,
      "metadata": {},
      "outputs": [],
      "source": [
        "train_val_paragraphs = train_paragraphs + val_paragraphs"
      ]
    },
    {
      "cell_type": "code",
      "execution_count": 11,
      "metadata": {
        "id": "oxY534ShszhQ"
      },
      "outputs": [],
      "source": [
        "final_vectorizer = TfidfVectorizer(strip_accents='unicode', lowercase=True, max_df=0.8, norm='l2')"
      ]
    },
    {
      "cell_type": "markdown",
      "metadata": {
        "id": "mNtqOSlWtTBv"
      },
      "source": [
        "Transform all paragraphs into a vectorized representation."
      ]
    },
    {
      "cell_type": "code",
      "execution_count": 12,
      "metadata": {
        "id": "TfphwqPKs45x"
      },
      "outputs": [],
      "source": [
        "final_vectorizer = final_vectorizer.fit([train_val_paragraphs[i]['context'] for i in range(len(train_val_paragraphs))])\n",
        "train_docs_vect  = final_vectorizer.transform([train_paragraphs[i]['context'] for i in range(len(train_paragraphs))])\n",
        "val_docs_vect    = final_vectorizer.transform([val_paragraphs[i]['context'] for i in range(len(val_paragraphs))])\n",
        "test_docs_vect   = final_vectorizer.transform([test_paragraphs[i]['context'] for i in range(len(test_paragraphs))])"
      ]
    },
    {
      "cell_type": "markdown",
      "metadata": {
        "id": "RuyfXIt5tbs8"
      },
      "source": [
        "For each question in these sets, obtain its highest scoring negative."
      ]
    },
    {
      "cell_type": "code",
      "execution_count": 13,
      "metadata": {
        "id": "cEsPdTbNtfzK"
      },
      "outputs": [],
      "source": [
        "def get_best_negative_paragraph_for_question(question, vectorizer, docs_vet, paragraphs):\n",
        "    # Get the groundtruth paragraph for the question\n",
        "    gt_paragraph, _ = question['context_id']\n",
        "    # Transform the question into a vector\n",
        "    vect_question = vectorizer.transform([question['qas']['question']])\n",
        "    # Compute similarities with the input matrix of representations\n",
        "    similarities = np.asarray(np.dot(docs_vet, vect_question.T).todense()).flatten()\n",
        "    # Obtain the best scoring indices and remove the groundtruth index\n",
        "    best_scoring_paragraph_indices = np.argsort(-similarities)\n",
        "    best_scoring_paragraph_indices = best_scoring_paragraph_indices[\n",
        "        best_scoring_paragraph_indices != gt_paragraph]\n",
        "    best_negative = best_scoring_paragraph_indices[0]\n",
        "    # Return the corresponding paragraph\n",
        "    return paragraphs[best_negative]"
      ]
    },
    {
      "cell_type": "code",
      "execution_count": 14,
      "metadata": {
        "colab": {
          "base_uri": "https://localhost:8080/"
        },
        "id": "iYLBAXEgvj_p",
        "outputId": "481c8907-a498-429e-9229-cefa19f410fd"
      },
      "outputs": [
        {
          "data": {
            "text/plain": [
              "{'context': ' In Methodism, Mary is honored as the Mother of God. Methodists do not have any additional teachings on the Virgin Mary except from what is mentioned in Scripture and the ecumenical Creeds. As such, Methodists believe that Mary was conceived in her womb through the Holy Ghost and accept the doctrine of the Virgin Birth, although they, along with Orthodox Christians and other Protestant Christians, reject the doctrine of the Immaculate Conception. John Wesley, the principal founder of the Methodist movement within the Church of England, believed that Mary \"continued a pure and unspotted virgin\", thus upholding the doctrine of the perpetual virginity of Mary. Contemporary Methodism does hold that Mary was a virgin before, during, and immediately after the birth of Christ. In addition, some Methodists also hold the doctrine of the Assumption of Mary as a pious opinion.',\n",
              " 'context_id': (114, 20)}"
            ]
          },
          "execution_count": 14,
          "metadata": {},
          "output_type": "execute_result"
        }
      ],
      "source": [
        "get_best_negative_paragraph_for_question(\n",
        "    train_questions[0], final_vectorizer, train_docs_vect, train_paragraphs)"
      ]
    },
    {
      "cell_type": "markdown",
      "metadata": {
        "id": "IOQngL0QvyPr"
      },
      "source": [
        "This is indeed a hard negative, because it talks about Mary and Christian religion just like the grondtruth paragraph:"
      ]
    },
    {
      "cell_type": "code",
      "execution_count": 15,
      "metadata": {
        "colab": {
          "base_uri": "https://localhost:8080/"
        },
        "id": "kRCc0lsrv7x0",
        "outputId": "681fb1ea-7170-4d60-dbb7-2c66117399a6"
      },
      "outputs": [
        {
          "data": {
            "text/plain": [
              "{'context': 'Architecturally, the school has a Catholic character. Atop the Main Building\\'s gold dome is a golden statue of the Virgin Mary. Immediately in front of the Main Building and facing it, is a copper statue of Christ with arms upraised with the legend \"Venite Ad Me Omnes\". Next to the Main Building is the Basilica of the Sacred Heart. Immediately behind the basilica is the Grotto, a Marian place of prayer and reflection. It is a replica of the grotto at Lourdes, France where the Virgin Mary reputedly appeared to Saint Bernadette Soubirous in 1858. At the end of the main drive (and in a direct line that connects through 3 statues and the Gold Dome), is a simple, modern stone statue of Mary.',\n",
              " 'context_id': (0, 0)}"
            ]
          },
          "execution_count": 15,
          "metadata": {},
          "output_type": "execute_result"
        }
      ],
      "source": [
        "train_paragraphs[0]"
      ]
    },
    {
      "cell_type": "markdown",
      "metadata": {
        "id": "tCYkx8rf1es_"
      },
      "source": [
        "# Dataset creation"
      ]
    },
    {
      "cell_type": "markdown",
      "metadata": {
        "id": "KENlnOwNCxN_"
      },
      "source": [
        "First of all, we need to train our models. To do that, we need to create a dataset that feeds batches of questions and positive and negative paragraphs to our model. The model is then used to compute the representations of the questions/paragraphs and through the representations we can compute the similarities and correct the learnt distributions from the encoder models."
      ]
    },
    {
      "cell_type": "markdown",
      "metadata": {
        "id": "hynvz3Gw1etA"
      },
      "source": [
        "For the dataset, we use the `tf.data.Dataset` API. In particular, we first create the dataset in a `.proto` file which contains all the information in a byte format. The file is then uploaded on Google Cloud, where it can easily be accessed all future times. This is the only working way to have a large dataset accessible from the TPU."
      ]
    },
    {
      "cell_type": "code",
      "execution_count": 20,
      "metadata": {
        "colab": {
          "base_uri": "https://localhost:8080/"
        },
        "id": "OaBWVf5k1etB",
        "outputId": "ca9cc1b8-0029-4866-b2ec-8257c16ad11b"
      },
      "outputs": [
        {
          "name": "stdout",
          "output_type": "stream",
          "text": [
            "Loading train_768 dataset from GCS (gs://volpepe-nlp-project-squad-datasets/train_768.proto).\n",
            "Loading val_768 dataset from GCS (gs://volpepe-nlp-project-squad-datasets/val_768.proto).\n"
          ]
        }
      ],
      "source": [
        "from utils import get_paragraph_from_question, decode_dataset_fn\n",
        "\n",
        "def pre_tokenize_data(questions, dataset, tokenizer):\n",
        "    # Pre-tokenizes questions and paragraphs\n",
        "    tokenized_questions = [\n",
        "        dict(tokenizer(questions[i]['qas']['question'], \n",
        "            max_length = MAX_SEQ_LEN, truncation = True, \n",
        "            padding = 'max_length'))\n",
        "        for i in tqdm(range(len(questions)))]\n",
        "    tokenized_paragraphs = [\n",
        "        dict(tokenizer(get_paragraph_from_question(\n",
        "                    questions[i], dataset\n",
        "                )['context'], max_length = MAX_SEQ_LEN, \n",
        "            truncation = True, padding = 'max_length',\n",
        "            return_offsets_mapping = True))             # For the paragraphs we need the offset mappings too\n",
        "        for i in tqdm(range(len(questions)))]\n",
        "    return tokenized_questions, tokenized_paragraphs\n",
        "\n",
        "def find_start_end_token_one_hot_encoded(\n",
        "    answers: Dict, \n",
        "    offsets: List[Tuple[int]]) -> Dict:\n",
        "    '''\n",
        "    This function returns the starting and ending token of the answer, \n",
        "    already one hot encoded and ready for binary crossentropy.\n",
        "    Inputs:\n",
        "        - answers: `List[Dict]` --> for each question, a list of answers.\n",
        "            Each answer contains:\n",
        "            - `answer_start`: the index of the starting character\n",
        "            - `text`: the text of the answer, that we exploit through the \n",
        "                number of chars that it contains\n",
        "        - offsets: `List[Tuple[int]]` --> the tokenizer from HuggingFace \n",
        "            transforms the paragraph into a sequence of tokens. \n",
        "            Offsets keeps track of the character start and end indexes for each token.\n",
        "   \n",
        "    Output:\n",
        "        - result: `Dict` --> each key contains only one array, the one-hot \n",
        "            encoded version of, respectively, the start and end token of \n",
        "            the answer in the sentence (question+context)\n",
        "    '''\n",
        "    result = {\n",
        "        \"out_S\": np.zeros(len(offsets), dtype=np.int32),\n",
        "        \"out_E\": np.zeros(len(offsets), dtype=np.int32)\n",
        "    } \n",
        "    for answer in answers:\n",
        "        starting_char = answer['answer_start']\n",
        "        answer_len = len(answer['text'])\n",
        "        # We skip the first token, [CLS], that has (0,0) as a tuple\n",
        "        for i in range(1, len(offsets)):\n",
        "            # Check if starting char is within the indexes\n",
        "            if (starting_char >= offsets[i][0]) and \\\n",
        "                (starting_char <= offsets[i][1]):\n",
        "                result[\"out_S\"][i] += 1\n",
        "            # If the ending char (starting + length -1) is in the interval, \n",
        "            # same as above.\n",
        "            if (starting_char + answer_len - 1 >= offsets[i][0]) and \\\n",
        "                (starting_char + answer_len - 1 < offsets[i][1]):\n",
        "                result[\"out_E\"][i] += 1\n",
        "                break\n",
        "    return result\n",
        "\n",
        "def create_dataset_from_records(questions, paragraphs, dataset, tokenizer, \n",
        "                                fn, vectorizer, docs_vect, batch_size=BATCH_SIZE):\n",
        "    # Prepare strings\n",
        "    filename = f'{fn}_{BERT_DIMENSIONALITY}.proto'\n",
        "    fn_type = filename.split(os.sep)[-1].replace('.proto','')\n",
        "    dst_name = fn_type + '.proto'\n",
        "    bucket_name = 'volpepe-nlp-project-squad-datasets'\n",
        "    gcs_filename = f'gs://{bucket_name}/{dst_name}'\n",
        "    # If we want to write a new dataset or overwrite one with the same name:\n",
        "    if OVERWRITE_DATASETS:\n",
        "        print(\"Pre-tokenizing data...\")\n",
        "        tok_questions, tok_paragraphs = pre_tokenize_data(questions, dataset, tokenizer)\n",
        "        assert len(tok_questions) == len(tok_paragraphs), \"Error while pre-tokenizing dataset\"\n",
        "        print(\"Preprocessing answers...\")\n",
        "        answer_tokens = [find_start_end_token_one_hot_encoded(\n",
        "            questions[i]['qas']['answers'], tok_paragraphs[i]['offset_mapping'])\n",
        "            for i in tqdm(range(len(questions)))]\n",
        "        print(\"Saving dataset on disk...\")\n",
        "        with tf.io.TFRecordWriter(filename) as file_writer:\n",
        "            for i in tqdm(range(len(tok_questions))):\n",
        "                hard_paragraph = get_best_negative_paragraph_for_question(questions[i], vectorizer, docs_vect, paragraphs)\n",
        "                tok_hard_paragraph = dict(tokenizer(hard_paragraph['context'], \n",
        "                                                    max_length = MAX_SEQ_LEN, \n",
        "                                                    truncation = True, \n",
        "                                                    padding = 'max_length',\n",
        "                                                    return_offsets_mapping = False))\n",
        "                record_bytes = tf.train.Example(features=tf.train.Features(feature={\n",
        "                    \"question__input_ids\": tf.train.Feature(int64_list=tf.train.Int64List(\n",
        "                            value=tok_questions[i][\"input_ids\"])),\n",
        "                    \"question__attention_mask\": tf.train.Feature(int64_list=tf.train.Int64List(\n",
        "                            value=tok_questions[i][\"attention_mask\"])),\n",
        "                    \"question__index\": tf.train.Feature(int64_list=tf.train.Int64List(\n",
        "                        value=[i])),\n",
        "                    \"answer__out_s\": tf.train.Feature(int64_list=tf.train.Int64List(\n",
        "                        value=answer_tokens[i][\"out_S\"])),\n",
        "                    \"answer__out_e\": tf.train.Feature(int64_list=tf.train.Int64List(\n",
        "                        value=answer_tokens[i][\"out_E\"])),\n",
        "                    \"paragraph__input_ids\": tf.train.Feature(int64_list=tf.train.Int64List(\n",
        "                        value=tok_paragraphs[i][\"input_ids\"])),\n",
        "                    \"paragraph__attention_mask\": tf.train.Feature(int64_list=tf.train.Int64List(\n",
        "                        value=tok_paragraphs[i][\"attention_mask\"])),\n",
        "                    \"hard_paragraph__input_ids\": tf.train.Feature(int64_list=tf.train.Int64List(\n",
        "                        value=tok_hard_paragraph['input_ids'])),\n",
        "                    \"hard_paragraph__attention_mask\": tf.train.Feature(int64_list=tf.train.Int64List(\n",
        "                        value=tok_hard_paragraph['attention_mask'])),\n",
        "                    \"paragraph__tokens_s\": tf.train.Feature(int64_list=tf.train.Int64List(\n",
        "                            value=[x[0] for x in tok_paragraphs[i][\"offset_mapping\"]])),\n",
        "                    \"paragraph__tokens_e\": tf.train.Feature(int64_list=tf.train.Int64List(\n",
        "                            value=[x[1] for x in tok_paragraphs[i][\"offset_mapping\"]])),\n",
        "                    \"context__index\": tf.train.Feature(int64_list=tf.train.Int64List(\n",
        "                        value=[questions[i]['context_id'][0]])),\n",
        "                    \"paragraph__index\": tf.train.Feature(int64_list=tf.train.Int64List(\n",
        "                        value=[questions[i]['context_id'][1]]))\n",
        "                    })).SerializeToString()\n",
        "                file_writer.write(record_bytes)\n",
        "        # Upload the dataset on cloud\n",
        "        print(f\"Uploading {filename} on {gcs_filename} (bucket {bucket_name}) with name {dst_name}\")\n",
        "        storage_client = storage.Client()\n",
        "        bucket = storage_client.bucket(bucket_name)\n",
        "        blob = bucket.blob(dst_name)\n",
        "        blob.upload_from_filename(filename)\n",
        "        time.sleep(5)   # Wait 5 seconds\n",
        "    print(f\"Loading {fn_type} dataset from GCS ({gcs_filename}).\")\n",
        "    # Return it as processed dataset\n",
        "    dataset = tf.data.TFRecordDataset([gcs_filename]).map(decode_dataset_fn)\n",
        "    dataset = dataset.apply(tf.data.experimental.assert_cardinality(len(questions)))\n",
        "    dataset = dataset.shuffle(5000, reshuffle_each_iteration=True)\n",
        "    dataset = dataset.batch(batch_size)\n",
        "    dataset = dataset.cache()\n",
        "    dataset = dataset.prefetch(tf.data.AUTOTUNE)\n",
        "    return dataset\n",
        "\n",
        "### CREATE DATASETS ###\n",
        "# Valid for both TPU and GPU\n",
        "dataset_train = create_dataset_from_records(train_questions, train_paragraphs, train_paragraphs_and_questions, \n",
        "                                            tokenizer_distilbert, os.path.join(datasets_dir, 'train'),\n",
        "                                            final_vectorizer, train_docs_vect)\n",
        "dataset_val = create_dataset_from_records(val_questions, val_paragraphs, val_paragraphs_and_questions, \n",
        "                                          tokenizer_distilbert, os.path.join(datasets_dir, 'val'),\n",
        "                                          final_vectorizer, val_docs_vect)"
      ]
    },
    {
      "cell_type": "markdown",
      "metadata": {
        "id": "xAnwbiFU1etF"
      },
      "source": [
        "# Training pipeline"
      ]
    },
    {
      "cell_type": "markdown",
      "metadata": {
        "id": "52lwz19a1etG"
      },
      "source": [
        "First of all, we need a layer that takes as input the dictionary containing the tokenized questions and answers and returns their compact representations."
      ]
    },
    {
      "cell_type": "code",
      "execution_count": 21,
      "metadata": {
        "colab": {
          "base_uri": "https://localhost:8080/"
        },
        "id": "PjPUMwKk1etG",
        "outputId": "777fc296-a249-41fd-f335-f5a0abb2e027"
      },
      "outputs": [
        {
          "name": "stdout",
          "output_type": "stream",
          "text": [
            "Output shape when in training mode: (128, 768), (128, 768), (128, 768)\n",
            "Output shape when in testing mode: (128, 768)\n",
            "Output shape when dealing with a single question: (1, 768)\n"
          ]
        }
      ],
      "source": [
        "from utils import DenseEncoder\n",
        "\n",
        "# Small test for the layer\n",
        "class TestDenseEncoderModel(keras.Model):\n",
        "    def __init__(self, model_q, model_p):\n",
        "        super().__init__()\n",
        "        self.enc = DenseEncoder(model_q, model_p)\n",
        "\n",
        "    def call(self, inputs, training=False):\n",
        "        return self.enc(inputs, training=training)\n",
        "\n",
        "test_model = TestDenseEncoderModel(model_q, model_p)\n",
        "q_repr, p_repr, p_hard_repr = test_model(next(dataset_train.take(1).as_numpy_iterator()), training=True)\n",
        "print(f\"Output shape when in training mode: {q_repr.shape}, {p_repr.shape}, {p_hard_repr.shape}\")\n",
        "q_repr_2 = test_model(next(dataset_train.take(1).as_numpy_iterator()), training=False)\n",
        "print(f\"Output shape when in testing mode: {q_repr_2.shape}\")\n",
        "q = tokenizer_distilbert(\n",
        "    train_questions[0]['qas']['question'], max_length = MAX_SEQ_LEN, \n",
        "    truncation = True, padding = 'max_length', return_tensors=\"tf\")\n",
        "q_repr_3 = test_model({'questions': q})\n",
        "print(f\"Output shape when dealing with a single question: {q_repr_3.shape}\")"
      ]
    },
    {
      "cell_type": "markdown",
      "metadata": {
        "id": "e4r1MfHP1etI"
      },
      "source": [
        "Once we have the representations, we should compute the similarities, thus obtaining a a full mini-batch of positive-negative examples."
      ]
    },
    {
      "cell_type": "code",
      "execution_count": 19,
      "metadata": {
        "colab": {
          "base_uri": "https://localhost:8080/"
        },
        "id": "ZdG5bkWV2FU5",
        "outputId": "5ad2e7fa-4588-4295-ce14-d2c4f5e444a3"
      },
      "outputs": [
        {
          "data": {
            "text/plain": [
              "TensorShape([128, 128])"
            ]
          },
          "execution_count": 19,
          "metadata": {},
          "output_type": "execute_result"
        }
      ],
      "source": [
        "# Create the similarity matrix\n",
        "S = tf.tensordot(q_repr, tf.transpose(p_repr), axes=1)\n",
        "S.shape"
      ]
    },
    {
      "cell_type": "markdown",
      "metadata": {
        "id": "qEPy1ug1__n0"
      },
      "source": [
        "This similarity matrix has the following meaning:\n",
        "- Rows represent questions.\n",
        "- Each element in the row contains the similarity that the respective question has with the paragraphs in the batch (paragraphs are on the columns and one of them is the positive one, the others are negative)"
      ]
    },
    {
      "cell_type": "markdown",
      "metadata": {
        "id": "gRi022EH6cuz"
      },
      "source": [
        "To this matrix, we want to append the score that the paragraphs have with the hard paragraphs. To do that we:\n",
        "- One by one, we compute the score that each question representations has with the corresponding hard paragraph.\n",
        "- We append these scores to the original $8\\times8$ matrix, obtaining a $8\\times9$ matrix of similarities. "
      ]
    },
    {
      "cell_type": "code",
      "execution_count": 20,
      "metadata": {
        "colab": {
          "base_uri": "https://localhost:8080/"
        },
        "id": "FDRxz8ImIUs2",
        "outputId": "2bf50b8b-1c2d-459d-e97f-0bb68b1c82b4"
      },
      "outputs": [
        {
          "data": {
            "text/plain": [
              "TensorShape([128, 1])"
            ]
          },
          "execution_count": 20,
          "metadata": {},
          "output_type": "execute_result"
        }
      ],
      "source": [
        "hard_scores = tf.gather(\n",
        "    # Get the elements on the diagonal of the 8x8 matrix of scores between questions and \n",
        "    # hard paragraphs\n",
        "    tf.tensordot(q_repr, tf.transpose(p_hard_repr), axes=1), \n",
        "    tf.expand_dims(tf.range(BATCH_SIZE), axis=1), batch_dims=1)\n",
        "hard_scores.shape"
      ]
    },
    {
      "cell_type": "code",
      "execution_count": 21,
      "metadata": {
        "colab": {
          "base_uri": "https://localhost:8080/"
        },
        "id": "yZ9nP9r3F3-A",
        "outputId": "4c9c86ec-382f-47d3-f07e-78fc7d9f42b1"
      },
      "outputs": [
        {
          "data": {
            "text/plain": [
              "TensorShape([128, 129])"
            ]
          },
          "execution_count": 21,
          "metadata": {},
          "output_type": "execute_result"
        }
      ],
      "source": [
        "complete_S = tf.concat([S, hard_scores], axis=1)\n",
        "complete_S.shape"
      ]
    },
    {
      "cell_type": "markdown",
      "metadata": {
        "id": "7lHTo-9EGhwy"
      },
      "source": [
        "Note: the groundtruth value are still the ones from 1 to 8, so this does not damage the loss computation."
      ]
    },
    {
      "cell_type": "markdown",
      "metadata": {
        "id": "zBwtW8D76aJH"
      },
      "source": [
        "In the paper, they refer to the loss as a *minimization of the negative log-likelihood of the positive passage*: what it really means is that we need to transform similarities to probabilities and use a categorical cross-entropy loss, where labels are the row index (which is also the column index in that row for the positive passage)"
      ]
    },
    {
      "cell_type": "code",
      "execution_count": 22,
      "metadata": {
        "colab": {
          "base_uri": "https://localhost:8080/"
        },
        "id": "J_aJezqWCKsw",
        "outputId": "31801a4e-cb3c-4a1d-dedd-6222a85ed7cc"
      },
      "outputs": [
        {
          "data": {
            "text/plain": [
              "11.2015"
            ]
          },
          "execution_count": 22,
          "metadata": {},
          "output_type": "execute_result"
        }
      ],
      "source": [
        "loss = tf.keras.losses.SparseCategoricalCrossentropy(\n",
        "    from_logits=True\n",
        ")\n",
        "loss(y_true=tf.range(BATCH_SIZE), y_pred=complete_S).numpy()"
      ]
    },
    {
      "cell_type": "markdown",
      "metadata": {
        "id": "BnidWQLZDwsf"
      },
      "source": [
        "The loss seems to be quite high for this batch. We can study it with a confusion matrix."
      ]
    },
    {
      "cell_type": "code",
      "execution_count": 23,
      "metadata": {
        "colab": {
          "base_uri": "https://localhost:8080/",
          "height": 300
        },
        "id": "Vdgc2-gQD1PP",
        "outputId": "be9b824f-81de-4d76-e245-933fcd0a05f0"
      },
      "outputs": [
        {
          "data": {
            "text/plain": [
              "<sklearn.metrics._plot.confusion_matrix.ConfusionMatrixDisplay at 0x7f041312c990>"
            ]
          },
          "execution_count": 23,
          "metadata": {},
          "output_type": "execute_result"
        },
        {
          "data": {
            "image/png": "[encoded data removed]",
            "text/plain": [
              "<Figure size 432x288 with 2 Axes>"
            ]
          },
          "metadata": {
            "needs_background": "light"
          },
          "output_type": "display_data"
        }
      ],
      "source": [
        "from sklearn.metrics import ConfusionMatrixDisplay\n",
        "\n",
        "S_arr = complete_S.numpy()\n",
        "ConfusionMatrixDisplay.from_predictions(y_true=np.arange(BATCH_SIZE), y_pred=np.argmax(S_arr, axis=1))"
      ]
    },
    {
      "cell_type": "markdown",
      "metadata": {
        "id": "pQwdzlTfEsH4"
      },
      "source": [
        "Indeed, ideally the predictions should be on the diagonal. This means that the \"default\" space for this metric learning problem is not that good. We are ready to learn a new representation distribution."
      ]
    },
    {
      "cell_type": "markdown",
      "metadata": {
        "id": "gOOLMK5mIMPc"
      },
      "source": [
        "# Model definition"
      ]
    },
    {
      "cell_type": "code",
      "execution_count": 22,
      "metadata": {
        "id": "nme0koNHE76t"
      },
      "outputs": [],
      "source": [
        "from utils import DeepQPEncoder\n",
        "\n",
        "def create_model(sample, freeze_layers_up_to=5):\n",
        "    print(\"Creating BERT models...\")\n",
        "    model_q, model_p =  TFDistilBertModel.from_pretrained('distilbert-base-uncased'), \\\n",
        "                        TFDistilBertModel.from_pretrained('distilbert-base-uncased')\n",
        "\n",
        "    # Freeze layers \n",
        "    for i in range(freeze_layers_up_to): # layers 0 to variable are frozen, successive layers learn\n",
        "        model_q.distilbert.transformer.layer[i].trainable = False\n",
        "        model_p.distilbert.transformer.layer[i].trainable = False\n",
        "\n",
        "    model_q, model_p = ReducedDistilBertModel(model_q), ReducedDistilBertModel(model_p)\n",
        "\n",
        "    print(\"Creating Deep Encoder...\")\n",
        "    model = DeepQPEncoder(model_q, model_p)\n",
        "\n",
        "    print(\"Compiling...\")\n",
        "    # Compile the model and loss\n",
        "    model.compile(\n",
        "        optimizer=keras.optimizers.Adam(learning_rate=3e-6),\n",
        "        loss=keras.losses.SparseCategoricalCrossentropy(from_logits=True),\n",
        "        metrics=[keras.metrics.SparseCategoricalAccuracy()]\n",
        "    )\n",
        "\n",
        "    print(\"Testing on some data...\")\n",
        "    # Pass one batch of data to build the model\n",
        "    model(sample)\n",
        "\n",
        "    # Return the model\n",
        "    print(\"Model created!\")\n",
        "    return model"
      ]
    },
    {
      "cell_type": "markdown",
      "metadata": {
        "id": "HA_dwB6MIHaq"
      },
      "source": [
        "# Training"
      ]
    },
    {
      "cell_type": "markdown",
      "metadata": {
        "id": "kfdxw7F4IWVi"
      },
      "source": [
        "Define utility variables and saving paths."
      ]
    },
    {
      "cell_type": "code",
      "execution_count": null,
      "metadata": {
        "id": "s838Rj9GIUA9"
      },
      "outputs": [],
      "source": [
        "EPOCHS = 200\n",
        "PATIENCE = 20"
      ]
    },
    {
      "cell_type": "markdown",
      "metadata": {
        "id": "rOrJEqCQIZ3c"
      },
      "source": [
        "Before training, we check if we're using a TPU, in order to create the model within the scope of the strategy.\n",
        "\n",
        "Then, we train the model."
      ]
    },
    {
      "cell_type": "code",
      "execution_count": 23,
      "metadata": {
        "colab": {
          "base_uri": "https://localhost:8080/"
        },
        "id": "_O5zDcaTEtxV",
        "outputId": "de486d8d-a202-4236-b38e-7b508950e1db"
      },
      "outputs": [
        {
          "name": "stdout",
          "output_type": "stream",
          "text": [
            "Creating BERT models...\n"
          ]
        },
        {
          "name": "stderr",
          "output_type": "stream",
          "text": [
            "Some layers from the model checkpoint at distilbert-base-uncased were not used when initializing TFDistilBertModel: ['vocab_transform', 'vocab_projector', 'activation_13', 'vocab_layer_norm']\n",
            "- This IS expected if you are initializing TFDistilBertModel from the checkpoint of a model trained on another task or with another architecture (e.g. initializing a BertForSequenceClassification model from a BertForPreTraining model).\n",
            "- This IS NOT expected if you are initializing TFDistilBertModel from the checkpoint of a model that you expect to be exactly identical (initializing a BertForSequenceClassification model from a BertForSequenceClassification model).\n",
            "All the layers of TFDistilBertModel were initialized from the model checkpoint at distilbert-base-uncased.\n",
            "If your task is similar to the task the model of the checkpoint was trained on, you can already use TFDistilBertModel for predictions without further training.\n",
            "Some layers from the model checkpoint at distilbert-base-uncased were not used when initializing TFDistilBertModel: ['vocab_transform', 'vocab_projector', 'activation_13', 'vocab_layer_norm']\n",
            "- This IS expected if you are initializing TFDistilBertModel from the checkpoint of a model trained on another task or with another architecture (e.g. initializing a BertForSequenceClassification model from a BertForPreTraining model).\n",
            "- This IS NOT expected if you are initializing TFDistilBertModel from the checkpoint of a model that you expect to be exactly identical (initializing a BertForSequenceClassification model from a BertForSequenceClassification model).\n",
            "All the layers of TFDistilBertModel were initialized from the model checkpoint at distilbert-base-uncased.\n",
            "If your task is similar to the task the model of the checkpoint was trained on, you can already use TFDistilBertModel for predictions without further training.\n"
          ]
        },
        {
          "name": "stdout",
          "output_type": "stream",
          "text": [
            "Creating Deep Encoder...\n",
            "Compiling...\n",
            "Testing on some data...\n",
            "Model created!\n"
          ]
        }
      ],
      "source": [
        "import datetime\n",
        "\n",
        "# GPUs and local systems don't need the above specifications. We simply\n",
        "# create a pattern for the filename and let the callbacks deal with it.\n",
        "model_name = f'dpr_{BERT_DIMENSIONALITY}_hard'\n",
        "checkpoint_path = os.path.join(checkpoint_dir, model_name + \".ckpt\")\n",
        "# Workaraound for saving locally when using cloud TPUs\n",
        "local_device_option = tf.train.CheckpointOptions(\n",
        "    experimental_io_device=\"/job:localhost\")\n",
        "\n",
        "if using_TPU:\n",
        "    # TPU requires to create the model within the scope of the distributed strategy\n",
        "    # we're using.\n",
        "    with strategy.scope():\n",
        "        model = create_model(sample=next(dataset_train.take(1).as_numpy_iterator()),\n",
        "                             freeze_layers_up_to=3)\n",
        "else:\n",
        "    # On TPU we cannot use tensorboard, but on GPU we can\n",
        "    log_dir = os.path.join(ROOT_PATH, \"data\", \"logs\", \n",
        "        f\"training_dpr_{BERT_DIMENSIONALITY}_hard\", datetime.datetime.now().strftime(\"%Y%m%d-%H%M%S\"))\n",
        "    \n",
        "    model = create_model(sample=next(dataset_train.take(1).as_numpy_iterator()),\n",
        "                             freeze_layers_up_to=3)"
      ]
    },
    {
      "cell_type": "code",
      "execution_count": null,
      "metadata": {
        "colab": {
          "base_uri": "https://localhost:8080/"
        },
        "id": "wN6WxrL-IRjj",
        "outputId": "3dd9cbc7-f7d1-4451-ad2b-412e6e68afb1",
        "scrolled": true
      },
      "outputs": [
        {
          "name": "stdout",
          "output_type": "stream",
          "text": [
            "Epoch 1/200\n",
            "509/509 [==============================] - ETA: 0s - loss: 1.2324 - sparse_categorical_accuracy: 0.5646\n",
            "Epoch 1: val_loss improved from inf to 0.80833, saving model to /content/drive/MyDrive/Uni/Magistrale/NLP/Project/weights/training_dpr/dpr_768_hard.ckpt\n",
            "509/509 [==============================] - 490s 755ms/step - loss: 1.2324 - sparse_categorical_accuracy: 0.5646 - val_loss: 0.8083 - val_sparse_categorical_accuracy: 0.5904\n",
            "Epoch 2/200\n",
            "509/509 [==============================] - ETA: 0s - loss: 0.7341 - sparse_categorical_accuracy: 0.6204\n",
            "Epoch 2: val_loss improved from 0.80833 to 0.73576, saving model to /content/drive/MyDrive/Uni/Magistrale/NLP/Project/weights/training_dpr/dpr_768_hard.ckpt\n",
            "509/509 [==============================] - 344s 675ms/step - loss: 0.7341 - sparse_categorical_accuracy: 0.6204 - val_loss: 0.7358 - val_sparse_categorical_accuracy: 0.6103\n",
            "Epoch 3/200\n",
            "509/509 [==============================] - ETA: 0s - loss: 0.6726 - sparse_categorical_accuracy: 0.6393\n",
            "Epoch 3: val_loss improved from 0.73576 to 0.70373, saving model to /content/drive/MyDrive/Uni/Magistrale/NLP/Project/weights/training_dpr/dpr_768_hard.ckpt\n",
            "509/509 [==============================] - 348s 683ms/step - loss: 0.6726 - sparse_categorical_accuracy: 0.6393 - val_loss: 0.7037 - val_sparse_categorical_accuracy: 0.6147\n",
            "Epoch 4/200\n",
            "509/509 [==============================] - ETA: 0s - loss: 0.6335 - sparse_categorical_accuracy: 0.6545\n",
            "Epoch 4: val_loss improved from 0.70373 to 0.68134, saving model to /content/drive/MyDrive/Uni/Magistrale/NLP/Project/weights/training_dpr/dpr_768_hard.ckpt\n",
            "509/509 [==============================] - 344s 676ms/step - loss: 0.6335 - sparse_categorical_accuracy: 0.6545 - val_loss: 0.6813 - val_sparse_categorical_accuracy: 0.6274\n",
            "Epoch 5/200\n",
            "509/509 [==============================] - ETA: 0s - loss: 0.6024 - sparse_categorical_accuracy: 0.6654\n",
            "Epoch 5: val_loss improved from 0.68134 to 0.67217, saving model to /content/drive/MyDrive/Uni/Magistrale/NLP/Project/weights/training_dpr/dpr_768_hard.ckpt\n",
            "509/509 [==============================] - 345s 677ms/step - loss: 0.6024 - sparse_categorical_accuracy: 0.6654 - val_loss: 0.6722 - val_sparse_categorical_accuracy: 0.6276\n",
            "Epoch 6/200\n",
            "509/509 [==============================] - ETA: 0s - loss: 0.5773 - sparse_categorical_accuracy: 0.6746\n",
            "Epoch 6: val_loss improved from 0.67217 to 0.66373, saving model to /content/drive/MyDrive/Uni/Magistrale/NLP/Project/weights/training_dpr/dpr_768_hard.ckpt\n",
            "509/509 [==============================] - 344s 676ms/step - loss: 0.5773 - sparse_categorical_accuracy: 0.6746 - val_loss: 0.6637 - val_sparse_categorical_accuracy: 0.6324\n",
            "Epoch 7/200\n",
            "509/509 [==============================] - ETA: 0s - loss: 0.5586 - sparse_categorical_accuracy: 0.6817\n",
            "Epoch 7: val_loss improved from 0.66373 to 0.65332, saving model to /content/drive/MyDrive/Uni/Magistrale/NLP/Project/weights/training_dpr/dpr_768_hard.ckpt\n",
            "509/509 [==============================] - 346s 681ms/step - loss: 0.5586 - sparse_categorical_accuracy: 0.6817 - val_loss: 0.6533 - val_sparse_categorical_accuracy: 0.6409\n",
            "Epoch 8/200\n",
            "509/509 [==============================] - ETA: 0s - loss: 0.5380 - sparse_categorical_accuracy: 0.6911\n",
            "Epoch 8: val_loss improved from 0.65332 to 0.64863, saving model to /content/drive/MyDrive/Uni/Magistrale/NLP/Project/weights/training_dpr/dpr_768_hard.ckpt\n",
            "509/509 [==============================] - 344s 675ms/step - loss: 0.5380 - sparse_categorical_accuracy: 0.6911 - val_loss: 0.6486 - val_sparse_categorical_accuracy: 0.6439\n",
            "Epoch 9/200\n",
            "509/509 [==============================] - ETA: 0s - loss: 0.5247 - sparse_categorical_accuracy: 0.6936\n",
            "Epoch 9: val_loss improved from 0.64863 to 0.64363, saving model to /content/drive/MyDrive/Uni/Magistrale/NLP/Project/weights/training_dpr/dpr_768_hard.ckpt\n",
            "509/509 [==============================] - 348s 683ms/step - loss: 0.5247 - sparse_categorical_accuracy: 0.6936 - val_loss: 0.6436 - val_sparse_categorical_accuracy: 0.6403\n",
            "Epoch 10/200\n",
            "509/509 [==============================] - ETA: 0s - loss: 0.5099 - sparse_categorical_accuracy: 0.7003\n",
            "Epoch 10: val_loss did not improve from 0.64363\n",
            "509/509 [==============================] - 327s 643ms/step - loss: 0.5099 - sparse_categorical_accuracy: 0.7003 - val_loss: 0.6457 - val_sparse_categorical_accuracy: 0.6435\n",
            "Epoch 11/200\n",
            "509/509 [==============================] - ETA: 0s - loss: 0.4966 - sparse_categorical_accuracy: 0.7081\n",
            "Epoch 11: val_loss did not improve from 0.64363\n",
            "509/509 [==============================] - 325s 640ms/step - loss: 0.4966 - sparse_categorical_accuracy: 0.7081 - val_loss: 0.6455 - val_sparse_categorical_accuracy: 0.6424\n",
            "Epoch 12/200\n",
            "509/509 [==============================] - ETA: 0s - loss: 0.4830 - sparse_categorical_accuracy: 0.7136\n",
            "Epoch 12: val_loss did not improve from 0.64363\n",
            "509/509 [==============================] - 325s 638ms/step - loss: 0.4830 - sparse_categorical_accuracy: 0.7136 - val_loss: 0.6471 - val_sparse_categorical_accuracy: 0.6474\n",
            "Epoch 13/200\n",
            "509/509 [==============================] - ETA: 0s - loss: 0.4725 - sparse_categorical_accuracy: 0.7202\n",
            "Epoch 13: val_loss did not improve from 0.64363\n",
            "509/509 [==============================] - 323s 636ms/step - loss: 0.4725 - sparse_categorical_accuracy: 0.7202 - val_loss: 0.6515 - val_sparse_categorical_accuracy: 0.6453\n",
            "Epoch 14/200\n",
            "509/509 [==============================] - ETA: 0s - loss: 0.4638 - sparse_categorical_accuracy: 0.7206\n",
            "Epoch 14: val_loss did not improve from 0.64363\n",
            "509/509 [==============================] - 324s 637ms/step - loss: 0.4638 - sparse_categorical_accuracy: 0.7206 - val_loss: 0.6552 - val_sparse_categorical_accuracy: 0.6437\n",
            "Epoch 15/200\n",
            "509/509 [==============================] - ETA: 0s - loss: 0.4572 - sparse_categorical_accuracy: 0.7250\n",
            "Epoch 15: val_loss did not improve from 0.64363\n",
            "509/509 [==============================] - 329s 647ms/step - loss: 0.4572 - sparse_categorical_accuracy: 0.7250 - val_loss: 0.6522 - val_sparse_categorical_accuracy: 0.6466\n",
            "Epoch 16/200\n",
            "509/509 [==============================] - ETA: 0s - loss: 0.4490 - sparse_categorical_accuracy: 0.7287\n",
            "Epoch 16: val_loss did not improve from 0.64363\n",
            "509/509 [==============================] - 324s 637ms/step - loss: 0.4490 - sparse_categorical_accuracy: 0.7287 - val_loss: 0.6496 - val_sparse_categorical_accuracy: 0.6493\n",
            "Epoch 17/200\n",
            "509/509 [==============================] - ETA: 0s - loss: 0.4429 - sparse_categorical_accuracy: 0.7316\n",
            "Epoch 17: val_loss did not improve from 0.64363\n",
            "509/509 [==============================] - 324s 638ms/step - loss: 0.4429 - sparse_categorical_accuracy: 0.7316 - val_loss: 0.6515 - val_sparse_categorical_accuracy: 0.6461\n",
            "Epoch 18/200\n",
            "509/509 [==============================] - ETA: 0s - loss: 0.4355 - sparse_categorical_accuracy: 0.7341\n",
            "Epoch 18: val_loss did not improve from 0.64363\n",
            "509/509 [==============================] - 324s 638ms/step - loss: 0.4355 - sparse_categorical_accuracy: 0.7341 - val_loss: 0.6581 - val_sparse_categorical_accuracy: 0.6454\n",
            "Epoch 19/200\n",
            "509/509 [==============================] - ETA: 0s - loss: 0.4327 - sparse_categorical_accuracy: 0.7328\n",
            "Epoch 19: val_loss did not improve from 0.64363\n",
            "509/509 [==============================] - 324s 637ms/step - loss: 0.4327 - sparse_categorical_accuracy: 0.7328 - val_loss: 0.6572 - val_sparse_categorical_accuracy: 0.6427\n",
            "Epoch 20/200\n",
            "509/509 [==============================] - ETA: 0s - loss: 0.4273 - sparse_categorical_accuracy: 0.7377\n",
            "Epoch 20: val_loss did not improve from 0.64363\n",
            "509/509 [==============================] - 324s 637ms/step - loss: 0.4273 - sparse_categorical_accuracy: 0.7377 - val_loss: 0.6614 - val_sparse_categorical_accuracy: 0.6443\n",
            "Epoch 21/200\n",
            "509/509 [==============================] - ETA: 0s - loss: 0.4224 - sparse_categorical_accuracy: 0.7402\n",
            "Epoch 21: val_loss did not improve from 0.64363\n",
            "509/509 [==============================] - 325s 638ms/step - loss: 0.4224 - sparse_categorical_accuracy: 0.7402 - val_loss: 0.6612 - val_sparse_categorical_accuracy: 0.6473\n",
            "Epoch 22/200\n",
            "509/509 [==============================] - ETA: 0s - loss: 0.4187 - sparse_categorical_accuracy: 0.7400\n",
            "Epoch 22: val_loss did not improve from 0.64363\n",
            "509/509 [==============================] - 324s 636ms/step - loss: 0.4187 - sparse_categorical_accuracy: 0.7400 - val_loss: 0.6673 - val_sparse_categorical_accuracy: 0.6459\n",
            "Epoch 23/200\n",
            "509/509 [==============================] - ETA: 0s - loss: 0.4143 - sparse_categorical_accuracy: 0.7441\n",
            "Epoch 23: val_loss did not improve from 0.64363\n",
            "509/509 [==============================] - 324s 637ms/step - loss: 0.4143 - sparse_categorical_accuracy: 0.7441 - val_loss: 0.6642 - val_sparse_categorical_accuracy: 0.6465\n",
            "Epoch 24/200\n",
            "509/509 [==============================] - ETA: 0s - loss: 0.4089 - sparse_categorical_accuracy: 0.7468\n",
            "Epoch 24: val_loss did not improve from 0.64363\n",
            "509/509 [==============================] - 324s 638ms/step - loss: 0.4089 - sparse_categorical_accuracy: 0.7468 - val_loss: 0.6658 - val_sparse_categorical_accuracy: 0.6458\n",
            "Epoch 25/200\n",
            "509/509 [==============================] - ETA: 0s - loss: 0.4069 - sparse_categorical_accuracy: 0.7464\n",
            "Epoch 25: val_loss did not improve from 0.64363\n",
            "509/509 [==============================] - 324s 637ms/step - loss: 0.4069 - sparse_categorical_accuracy: 0.7464 - val_loss: 0.6729 - val_sparse_categorical_accuracy: 0.6442\n",
            "Epoch 26/200\n",
            "509/509 [==============================] - ETA: 0s - loss: 0.4081 - sparse_categorical_accuracy: 0.7444\n",
            "Epoch 26: val_loss did not improve from 0.64363\n",
            "509/509 [==============================] - 324s 637ms/step - loss: 0.4081 - sparse_categorical_accuracy: 0.7444 - val_loss: 0.6639 - val_sparse_categorical_accuracy: 0.6460\n",
            "Epoch 27/200\n",
            "509/509 [==============================] - ETA: 0s - loss: 0.4042 - sparse_categorical_accuracy: 0.7465\n",
            "Epoch 27: val_loss did not improve from 0.64363\n",
            "509/509 [==============================] - 325s 638ms/step - loss: 0.4042 - sparse_categorical_accuracy: 0.7465 - val_loss: 0.6704 - val_sparse_categorical_accuracy: 0.6442\n",
            "Epoch 28/200\n",
            "509/509 [==============================] - ETA: 0s - loss: 0.4015 - sparse_categorical_accuracy: 0.7471\n",
            "Epoch 28: val_loss did not improve from 0.64363\n",
            "509/509 [==============================] - 324s 637ms/step - loss: 0.4015 - sparse_categorical_accuracy: 0.7471 - val_loss: 0.6678 - val_sparse_categorical_accuracy: 0.6496\n",
            "Epoch 29/200\n",
            "509/509 [==============================] - ETA: 0s - loss: 0.3985 - sparse_categorical_accuracy: 0.7484\n",
            "Epoch 29: val_loss did not improve from 0.64363\n",
            "509/509 [==============================] - 337s 663ms/step - loss: 0.3985 - sparse_categorical_accuracy: 0.7484 - val_loss: 0.6730 - val_sparse_categorical_accuracy: 0.6472\n"
          ]
        }
      ],
      "source": [
        "if DO_TRAINING:\n",
        "    if not using_TPU:\n",
        "        # Tensorboard callback is not available on TPU\n",
        "        tensorboard_callback = tf.keras.callbacks.TensorBoard(\n",
        "            log_dir=log_dir,\n",
        "            histogram_freq=1\n",
        "        )\n",
        "    \n",
        "    # ModelCheckpoint callback is available both on TPU and GPU \n",
        "    # with the options parameter\n",
        "    cp_callback = tf.keras.callbacks.ModelCheckpoint(\n",
        "        filepath = checkpoint_path,\n",
        "        verbose=1,\n",
        "        save_weights_only = True,\n",
        "        save_best_only = True,\n",
        "        options=local_device_option\n",
        "    )\n",
        "\n",
        "    # Early stopping can be used by both hardware\n",
        "    es_callback = tf.keras.callbacks.EarlyStopping(\n",
        "        patience = PATIENCE,\n",
        "        restore_best_weights=True\n",
        "    )\n",
        "\n",
        "    callbacks = [es_callback, cp_callback]\n",
        "    if not using_TPU:\n",
        "        # These callback imply saving stuff on local disk, which cannot be \n",
        "        # done automatically using TPUs.\n",
        "        # Therefore, they are only active when using GPUs and local systems\n",
        "        callbacks.extend([tensorboard_callback])\n",
        "\n",
        "    # We fit the model\n",
        "    history = model.fit(\n",
        "        dataset_train, \n",
        "        y=None,\n",
        "        validation_data=dataset_val,\n",
        "        epochs=EPOCHS, \n",
        "        callbacks=callbacks,\n",
        "        use_multiprocessing=True,\n",
        "        initial_epoch=0,\n",
        "        verbose=1 # Show progress bar\n",
        "    )"
      ]
    },
    {
      "cell_type": "markdown",
      "metadata": {
        "id": "LCgA-4RbAZCh"
      },
      "source": [
        "The model was trained in 9 (+20 due to patience) epochs on a cloud TPU. It took less than an hour and reached a validation accuracy of 64.36%. We can make a simple test with the same data of before to see if the embedding space is working properly."
      ]
    },
    {
      "cell_type": "code",
      "execution_count": null,
      "metadata": {
        "colab": {
          "base_uri": "https://localhost:8080/",
          "height": 283
        },
        "id": "pkTmbBS0CmZ4",
        "outputId": "f2d410fb-e689-49d0-9018-20b81ed68ce6"
      },
      "outputs": [
        {
          "data": {
            "image/png": "[encoded data removed]",
            "text/plain": [
              "<Figure size 432x288 with 2 Axes>"
            ]
          },
          "metadata": {
            "needs_background": "light"
          },
          "output_type": "display_data"
        }
      ],
      "source": [
        "if DO_TRAINING:\n",
        "    S = model(next(dataset_val.take(1).as_numpy_iterator()), training=True)\n",
        "    S_arr = S.numpy()\n",
        "    ConfusionMatrixDisplay.from_predictions(\n",
        "        y_true=np.arange(BATCH_SIZE), y_pred=np.argmax(S_arr, axis=1))"
      ]
    },
    {
      "cell_type": "markdown",
      "metadata": {
        "id": "84i9cMRsUCaE"
      },
      "source": [
        "Training history:"
      ]
    },
    {
      "cell_type": "code",
      "execution_count": null,
      "metadata": {
        "colab": {
          "base_uri": "https://localhost:8080/",
          "height": 282
        },
        "id": "Ux56cvk6DI6H",
        "outputId": "c6992d0a-7cd2-45b8-af05-359e8354e857"
      },
      "outputs": [
        {
          "data": {
            "text/plain": [
              "<matplotlib.patches.Polygon at 0x7f4ad0e64050>"
            ]
          },
          "execution_count": 52,
          "metadata": {},
          "output_type": "execute_result"
        },
        {
          "data": {
            "image/png": "[encoded data removed]",
            "text/plain": [
              "<Figure size 432x288 with 1 Axes>"
            ]
          },
          "metadata": {
            "needs_background": "light"
          },
          "output_type": "display_data"
        }
      ],
      "source": [
        "import matplotlib.pyplot as plt\n",
        "\n",
        "plt.plot(history.history['loss'], label='loss')\n",
        "plt.plot(history.history['val_loss'], label='val_loss')\n",
        "plt.plot(history.history['sparse_categorical_accuracy'], label='accuracy')\n",
        "plt.plot(history.history['val_sparse_categorical_accuracy'], label='val_accuracy')\n",
        "plt.legend()\n",
        "plt.grid()\n",
        "plt.axvspan(len(history.history['loss'])-7, len(history.history['loss'])-1, color='red', alpha=0.3)"
      ]
    },
    {
      "cell_type": "markdown",
      "metadata": {
        "id": "5InDU76v93rS"
      },
      "source": [
        "# Evaluation"
      ]
    },
    {
      "cell_type": "markdown",
      "metadata": {
        "id": "fbp2lLe9iX-u"
      },
      "source": [
        "First of all, we load the weights of the trained model."
      ]
    },
    {
      "cell_type": "code",
      "execution_count": 25,
      "metadata": {
        "colab": {
          "base_uri": "https://localhost:8080/"
        },
        "id": "ry1uahz-bh4_",
        "outputId": "de376725-6577-47a4-dda8-e0c7667d6f39",
        "scrolled": true
      },
      "outputs": [
        {
          "data": {
            "text/plain": [
              "<tensorflow.python.checkpoint.checkpoint.CheckpointLoadStatus at 0x1152db85510>"
            ]
          },
          "execution_count": 25,
          "metadata": {},
          "output_type": "execute_result"
        }
      ],
      "source": [
        "# Load the obtained weights\n",
        "model.load_weights(checkpoint_path, options=local_device_option)"
      ]
    },
    {
      "cell_type": "markdown",
      "metadata": {
        "id": "M6vabTXiR0Dc"
      },
      "source": [
        "We load the encodings of the dataset splits in memory."
      ]
    },
    {
      "cell_type": "code",
      "execution_count": 32,
      "metadata": {
        "id": "_raRP1TkVK7d"
      },
      "outputs": [],
      "source": [
        "representations_dir = os.path.join(datasets_dir, 'representations')\n",
        "os.makedirs(representations_dir, exist_ok=True)"
      ]
    },
    {
      "cell_type": "markdown",
      "metadata": {
        "id": "PpftT_jQgaw0"
      },
      "source": [
        "#### Test"
      ]
    },
    {
      "cell_type": "code",
      "execution_count": 33,
      "metadata": {
        "id": "TPpSZ9nSZWMz"
      },
      "outputs": [],
      "source": [
        "if OVERRIDE_REPRESENTATIONS:\n",
        "    test_paragraphs_encodings = np.stack([\n",
        "            model.enc.model_p(tokenizer_distilbert(\n",
        "                test_paragraphs[i]['context'], max_length = MAX_SEQ_LEN, \n",
        "                return_tensors='tf', truncation = True, padding = 'max_length'\n",
        "            ))[0,0,:].numpy().astype(np.float32) \n",
        "        for i in tqdm(range(len(test_paragraphs)))\n",
        "    ])\n",
        "    np.save(os.path.join(representations_dir, 'test_paragraphs_encodings'), test_paragraphs_encodings)\n",
        "\n",
        "test_paragraphs_encodings = np.load(os.path.join(representations_dir, 'test_paragraphs_encodings.npy'), allow_pickle=True)"
      ]
    },
    {
      "cell_type": "code",
      "execution_count": 34,
      "metadata": {
        "colab": {
          "base_uri": "https://localhost:8080/"
        },
        "id": "cLL1bwtOurbO",
        "outputId": "83cc071a-a277-400d-8381-8272cae7205b"
      },
      "outputs": [
        {
          "data": {
            "text/plain": [
              "((2067, 768), dtype('float32'))"
            ]
          },
          "execution_count": 34,
          "metadata": {},
          "output_type": "execute_result"
        }
      ],
      "source": [
        "test_paragraphs_encodings.shape, test_paragraphs_encodings.dtype"
      ]
    },
    {
      "cell_type": "markdown",
      "metadata": {
        "id": "OOtSk17ogima"
      },
      "source": [
        "### Val"
      ]
    },
    {
      "cell_type": "code",
      "execution_count": null,
      "metadata": {
        "id": "0tQIHuWabgRh"
      },
      "outputs": [],
      "source": [
        "if OVERRIDE_REPRESENTATIONS:\n",
        "    val_paragraphs_encodings = np.zeros(shape=(len(val_paragraphs), BERT_DIMENSIONALITY), dtype=np.float32)\n",
        "    for i in tqdm(range(len(val_paragraphs))):\n",
        "        val_paragraphs_encodings[i] = model.enc.model_p(tokenizer_distilbert(\n",
        "            val_paragraphs[i]['context'], max_length = MAX_SEQ_LEN, \n",
        "            return_tensors='tf', truncation = True, padding = 'max_length'\n",
        "        ))[0,0,:].numpy().astype(np.float32)\n",
        "    np.save(os.path.join(representations_dir, 'val_paragraphs_encodings.npy'), val_paragraphs_encodings)\n",
        "\n",
        "val_paragraphs_encodings = np.load(os.path.join(representations_dir, 'val_paragraphs_encodings.npy'))"
      ]
    },
    {
      "cell_type": "code",
      "execution_count": null,
      "metadata": {
        "id": "JuY6U0EfYHdp"
      },
      "outputs": [],
      "source": [
        "val_paragraphs_encodings.shape, val_paragraphs_encodings.dtype"
      ]
    },
    {
      "cell_type": "markdown",
      "metadata": {
        "id": "dqN9PaGngk0y"
      },
      "source": [
        "### Train"
      ]
    },
    {
      "cell_type": "code",
      "execution_count": null,
      "metadata": {
        "id": "U2Itb9qCmP6O"
      },
      "outputs": [],
      "source": [
        "if OVERRIDE_REPRESENTATIONS:\n",
        "    train_paragraphs_encodings = np.zeros(shape=(len(train_paragraphs), BERT_DIMENSIONALITY), dtype=np.float32)\n",
        "    for i in tqdm(range(len(train_paragraphs))):\n",
        "        train_paragraphs_encodings[i] = model.enc.model_p(tokenizer_distilbert(\n",
        "            train_paragraphs[i]['context'], max_length = MAX_SEQ_LEN, \n",
        "            return_tensors='tf', truncation = True, padding = 'max_length'\n",
        "        ))[0,0,:].numpy().astype(np.float32)\n",
        "    np.save(os.path.join(representations_dir, 'train_paragraphs_encodings.npy'), train_paragraphs_encodings)\n",
        "\n",
        "train_paragraphs_encodings = np.load(os.path.join(representations_dir, 'train_paragraphs_encodings.npy'))"
      ]
    },
    {
      "cell_type": "code",
      "execution_count": null,
      "metadata": {
        "id": "7H69NqZSYJvq"
      },
      "outputs": [],
      "source": [
        "train_paragraphs_encodings.shape, train_paragraphs_encodings.dtype"
      ]
    },
    {
      "cell_type": "markdown",
      "metadata": {
        "id": "ReN18CaggRW5"
      },
      "source": [
        "### Qualitative test"
      ]
    },
    {
      "cell_type": "markdown",
      "metadata": {
        "id": "qQ4-VRXZgXlb"
      },
      "source": [
        "We select some random questions from the test set and see whether the selected paragraph is the correct one."
      ]
    },
    {
      "cell_type": "code",
      "execution_count": 39,
      "metadata": {
        "colab": {
          "base_uri": "https://localhost:8080/"
        },
        "id": "S1NISpx7gs4I",
        "outputId": "b6999c14-3a9c-43b0-a964-88fbadcf60e5"
      },
      "outputs": [
        {
          "name": "stdout",
          "output_type": "stream",
          "text": [
            "Question: What are more common in other plastids than chloroplasts?\n",
            "Ground truth paragraph: The chloroplast membranes sometimes protrude out into the cytoplasm, forming a stromule, or stroma-containing tubule. Stromules are very rare in chloroplasts, and are much more common in other plastids like chromoplasts and amyloplasts in petals and roots, respectively. They may exist to increase the chloroplast's surface area for cross-membrane transport, because they are often branched and tangled with the endoplasmic reticulum. When they were first observed in 1962, some plant biologists dismissed the structures as artifactual, claiming that stromules were just oddly shaped chloroplasts with constricted regions or dividing chloroplasts. However, there is a growing body of evidence that stromules are functional, integral features of plant cell plastids, not merely artifacts.\n",
            "Ground truth index: (39, 31)\n",
            "Question representation shape: (1, 768)\n",
            "Top-5 best matching paragraphs have ids [(39, 28), (39, 31), (39, 56), (39, 35), (39, 8)]\n",
            "Top-5 best matching paragraphs:\n",
            "0)\tIn land plants, chloroplasts are generally lens-shaped, 5–8 μm in diameter and 1–3 μm thick. Greater diversity in chloroplast shapes exists among the algae, which often contain a single chloroplast that can be shaped like a net (e.g., Oedogonium), a cup (e.g., Chlamydomonas), a ribbon-like spiral around the edges of the cell (e.g., Spirogyra), or slightly twisted bands at the cell edges (e.g., Sirogonium). Some algae have two chloroplasts in each cell; they are star-shaped in Zygnema, or may follow the shape of half the cell in order Desmidiales. In some algae, the chloroplast takes up most of the cell, with pockets for the nucleus and other organelles (for example some species of Chlorella have a cup-shaped chloroplast that occupies much of the cell).\n",
            "1)\tThe chloroplast membranes sometimes protrude out into the cytoplasm, forming a stromule, or stroma-containing tubule. Stromules are very rare in chloroplasts, and are much more common in other plastids like chromoplasts and amyloplasts in petals and roots, respectively. They may exist to increase the chloroplast's surface area for cross-membrane transport, because they are often branched and tangled with the endoplasmic reticulum. When they were first observed in 1962, some plant biologists dismissed the structures as artifactual, claiming that stromules were just oddly shaped chloroplasts with constricted regions or dividing chloroplasts. However, there is a growing body of evidence that stromules are functional, integral features of plant cell plastids, not merely artifacts.\n",
            "2)\tChloroplasts are a special type of a plant cell organelle called a plastid, though the two terms are sometimes used interchangeably. There are many other types of plastids, which carry out various functions. All chloroplasts in a plant are descended from undifferentiated proplastids found in the zygote, or fertilized egg. Proplastids are commonly found in an adult plant's apical meristems. Chloroplasts do not normally develop from proplastids in root tip meristems—instead, the formation of starch-storing amyloplasts is more common.\n",
            "3)\tPlastoglobuli were once thought to be free-floating in the stroma, but it is now thought that they are permanently attached either to a thylakoid or to another plastoglobulus attached to a thylakoid, a configuration that allows a plastoglobulus to exchange its contents with the thylakoid network. In normal green chloroplasts, the vast majority of plastoglobuli occur singularly, attached directly to their parent thylakoid. In old or stressed chloroplasts, plastoglobuli tend to occur in linked groups or chains, still always anchored to a thylakoid.\n",
            "4)\tThe chloroplastidan chloroplasts, or green chloroplasts, are another large, highly diverse primary chloroplast lineage. Their host organisms are commonly known as the green algae and land plants. They differ from glaucophyte and red algal chloroplasts in that they have lost their phycobilisomes, and contain chlorophyll b instead. Most green chloroplasts are (obviously) green, though some aren't, like some forms of Hæmatococcus pluvialis, due to accessory pigments that override the chlorophylls' green colors. Chloroplastidan chloroplasts have lost the peptidoglycan wall between their double membrane, and have replaced it with an intermembrane space. Some plants seem to have kept the genes for the synthesis of the peptidoglycan layer, though they've been repurposed for use in chloroplast division instead.\n"
          ]
        }
      ],
      "source": [
        "from utils import get_context_ids_from_top_indices\n",
        "\n",
        "sample_question = random.choice(test_questions)\n",
        "question_text = sample_question['qas']['question']\n",
        "tokenized_question = tokenizer_distilbert(question_text, return_tensors=\"tf\")\n",
        "paragraph_id = sample_question['context_id']\n",
        "print(f\"Question: {question_text}\")\n",
        "print(f\"Ground truth paragraph: {get_paragraph_from_question(sample_question, test_paragraphs_and_questions)['context']}\")\n",
        "print(f\"Ground truth index: {paragraph_id}\")\n",
        "sample_q_repr = model.enc.model_q(tokenized_question)[:,0,:]\n",
        "print(f\"Question representation shape: {sample_q_repr.shape}\")\n",
        "scores = tf.tensordot(sample_q_repr, test_paragraphs_encodings.T, axes=1)\n",
        "best_par_index = tf.argsort(scores, axis=1, direction='DESCENDING')[0, :5].numpy()\n",
        "print(f\"Top-5 best matching paragraphs have ids {get_context_ids_from_top_indices(test_paragraphs, best_par_index)}\")\n",
        "print(f\"Top-5 best matching paragraphs:\")\n",
        "for i in range(5):\n",
        "    print(f\"{i})\\t{test_paragraphs[best_par_index[i]]['context']}\")"
      ]
    },
    {
      "cell_type": "markdown",
      "metadata": {
        "id": "bOPMaSyb5CfJ"
      },
      "source": [
        "Usually, the correct paragraphs show up in the Top-5 list, or very similar paragraphs appear instead."
      ]
    },
    {
      "cell_type": "markdown",
      "metadata": {
        "id": "cWM3pdRAwBlz"
      },
      "source": [
        "### Quantitative test"
      ]
    },
    {
      "cell_type": "markdown",
      "metadata": {},
      "source": [
        "Here we check the available data to understand what's the best way to combine them and compute scores and other statistics regarding the DPR."
      ]
    },
    {
      "cell_type": "code",
      "execution_count": null,
      "metadata": {},
      "outputs": [],
      "source": [
        "scores_dir = os.path.join(datasets_dir, 'scores')\n",
        "os.makedirs(scores_dir, exist_ok=True)"
      ]
    },
    {
      "cell_type": "code",
      "execution_count": null,
      "metadata": {},
      "outputs": [
        {
          "name": "stdout",
          "output_type": "stream",
          "text": [
            "(65064, 768) (22535, 768) (10570, 768)\n"
          ]
        }
      ],
      "source": [
        "train_questions_encodings = np.load(os.path.join(representations_dir, 'train_questions_encodings.npy'))\n",
        "val_questions_encodings = np.load(os.path.join(representations_dir, 'val_questions_encodings.npy'))\n",
        "test_questions_encodings = np.load(os.path.join(representations_dir, 'test_questions_encodings.npy'))\n",
        "print(train_questions_encodings.shape, val_questions_encodings.shape,test_questions_encodings.shape)"
      ]
    },
    {
      "cell_type": "code",
      "execution_count": null,
      "metadata": {},
      "outputs": [],
      "source": [
        "def get_paragraph_encoding_index(question, dataset):\n",
        "    '''\n",
        "    Returns the index of the gt paragraph/context\n",
        "    '''\n",
        "    art_id, par_id = question['context_id']\n",
        "    idx = sum([len(dataset[i]['paragraphs']) for i in range(art_id)]) + par_id\n",
        "    return idx\n",
        "\n",
        "def get_scores(k, question_set, paragraphs_and_question_set, question_encodings, paragraphs_encodings, vectorizer, docs_vectorized):\n",
        "    '''\n",
        "    Returns gt_ids for each question and the scores from both the DPR and Tf-Idf for all the paragraphs in relation to that question\n",
        "    '''\n",
        "    gts, dprs, tfidfs = [], [], []\n",
        "    for i, q in enumerate(tqdm(question_set)):\n",
        "\n",
        "        gt_id = get_paragraph_encoding_index(q, paragraphs_and_question_set)\n",
        "        sample_q_repr = question_encodings[i]\n",
        "        dpr_scores = np.dot(sample_q_repr, paragraphs_encodings.T) \n",
        "        question_text = q['qas']['question']\n",
        "        vect_question = vectorizer.transform([question_text])\n",
        "        TfIdf_scores = np.asarray(np.dot(docs_vectorized, vect_question.T).todense()).flatten()\n",
        "        \n",
        "        gts.append(gt_id)\n",
        "        dprs.append(dpr_scores)\n",
        "        tfidfs.append(TfIdf_scores)\n",
        "\n",
        "    return gts, dprs, tfidfs\n",
        "\n",
        "if OVERRIDE_SCORES:\n",
        "    train_results = get_scores(1, train_questions, train_paragraphs_and_questions, train_questions_encodings, train_paragraphs_encodings, final_vectorizer, train_docs_vect)\n",
        "    val_results = get_scores(1, val_questions, val_paragraphs_and_questions, val_questions_encodings, val_paragraphs_encodings, final_vectorizer, val_docs_vect)\n",
        "    test_results = get_scores(1, test_questions, test_paragraphs_and_questions, test_questions_encodings, test_paragraphs_encodings, final_vectorizer, test_docs_vect)\n",
        "\n",
        "    np.save(os.path.join(scores_dir, 'train_scores.npy'), train_results)\n",
        "    np.save(os.path.join(scores_dir, 'val_scores.npy'), val_results)\n",
        "    np.save(os.path.join(scores_dir, 'test_scores.npy'), test_results)\n",
        "\n",
        "else:\n",
        "    # You need a LOT of RAM to load the train_results\n",
        "    train_results = np.load(os.path.join(scores_dir, 'train_scores.npy'), allow_pickle=True)\n",
        "    val_results = np.load(os.path.join(scores_dir, 'val_scores.npy'), allow_pickle=True)\n",
        "    test_results = np.load(os.path.join(scores_dir, 'test_scores.npy'), allow_pickle=True)\n"
      ]
    },
    {
      "cell_type": "code",
      "execution_count": null,
      "metadata": {},
      "outputs": [
        {
          "name": "stderr",
          "output_type": "stream",
          "text": [
            "/tmp/ipykernel_3265/1376111047.py:13: RuntimeWarning: invalid value encountered in divide\n",
            "  tfidf_mean_normalized = [np.mean(x/np.max(x)) for x in tfidfs]\n",
            "/tmp/ipykernel_3265/1376111047.py:16: RuntimeWarning: invalid value encountered in divide\n",
            "  tfidf_top5_normalized = [np.mean(x[-k:]/np.max(x)) for x in tfidfs]\n",
            "/tmp/ipykernel_3265/1376111047.py:19: RuntimeWarning: invalid value encountered in divide\n",
            "  tfidf_mean_normalized2 = [np.mean((x-np.min(x))/np.max(x)) for x in tfidfs]\n",
            "/tmp/ipykernel_3265/1376111047.py:22: RuntimeWarning: invalid value encountered in divide\n",
            "  tfidf_top5_normalized2 = [np.mean((x[-k:]-np.min(x))/np.max(x)) for x in tfidfs]\n"
          ]
        }
      ],
      "source": [
        "gts, dprs, tfidfs = train_results\n",
        "k = 5\n",
        "dprs = [np.sort(x) for x in dprs]\n",
        "tfidfs = [np.sort(x) for x in tfidfs]\n",
        "\n",
        "dpr_mean = [np.mean(x) for x in dprs]\n",
        "tfidf_mean = [np.mean(x) for x in tfidfs]\n",
        "\n",
        "dpr_top5 = [np.mean(x[-k:]) for x in dprs]\n",
        "tfidf_top5 = [np.mean(x[-k:]) for x in tfidfs]\n",
        "\n",
        "dpr_mean_normalized = [np.mean(x/np.max(x)) for x in dprs]\n",
        "tfidf_mean_normalized = [np.mean(x/np.max(x)) for x in tfidfs]\n",
        "\n",
        "dpr_top5_normalized = [np.mean(x[-k:]/np.max(x)) for x in dprs]\n",
        "tfidf_top5_normalized = [np.mean(x[-k:]/np.max(x)) for x in tfidfs]\n",
        "\n",
        "dpr_mean_normalized2 = [np.mean((x-np.min(x))/np.max(x)) for x in dprs]\n",
        "tfidf_mean_normalized2 = [np.mean((x-np.min(x))/np.max(x)) for x in tfidfs]\n",
        "\n",
        "dpr_top5_normalized2 = [np.mean((x[-k:]-np.min(x))/np.max(x)) for x in dprs]\n",
        "tfidf_top5_normalized2 = [np.mean((x[-k:]-np.min(x))/np.max(x)) for x in tfidfs]"
      ]
    },
    {
      "cell_type": "code",
      "execution_count": null,
      "metadata": {},
      "outputs": [
        {
          "name": "stderr",
          "output_type": "stream",
          "text": [
            "/tmp/ipykernel_3265/3673167267.py:2: RuntimeWarning: invalid value encountered in divide\n",
            "  tfidf_top5_standardized = [np.mean((x[-k:]-np.mean(x))/np.mean(x)) for x in tfidfs]\n"
          ]
        }
      ],
      "source": [
        "dpr_top5_standardized = [np.mean((x[-k:]-np.mean(x))/np.std(x)) for x in dprs]\n",
        "tfidf_top5_standardized = [np.mean((x[-k:]-np.mean(x))/np.mean(x)) for x in tfidfs]\n",
        "\n",
        "dpr_top5_standardized = np.sort(dpr_top5_standardized)\n",
        "tfidf_top5_standardized = np.sort(tfidf_top5_standardized)"
      ]
    },
    {
      "cell_type": "code",
      "execution_count": null,
      "metadata": {},
      "outputs": [
        {
          "data": {
            "image/png": "[encoded data removed]",
            "text/plain": [
              "<Figure size 640x480 with 2 Axes>"
            ]
          },
          "metadata": {},
          "output_type": "display_data"
        }
      ],
      "source": [
        "%matplotlib inline\n",
        "fig, (ax1, ax2) = plt.subplots(1, 2)\n",
        "ax1.hist(dpr_mean)\n",
        "ax1.set_title(\"DPR mean distribution\")\n",
        "ax2.hist(tfidf_mean)\n",
        "ax2.set_title(\"Tf-Idf mean distribution\")\n",
        "ax1.label_outer()\n",
        "ax2.set_ylim(ax1.get_ylim())\n",
        "ax2.label_outer()\n",
        "plt.show()"
      ]
    },
    {
      "cell_type": "code",
      "execution_count": null,
      "metadata": {},
      "outputs": [
        {
          "data": {
            "image/png": "[encoded data removed]",
            "text/plain": [
              "<Figure size 640x480 with 2 Axes>"
            ]
          },
          "metadata": {},
          "output_type": "display_data"
        }
      ],
      "source": [
        "%matplotlib inline\n",
        "fig, (ax1, ax2) = plt.subplots(1, 2)\n",
        "ax1.hist(dpr_top5)\n",
        "ax1.set_title(\"DPR top5 distribution\")\n",
        "ax2.hist(tfidf_top5)\n",
        "ax2.set_title(\"Tf-Idf top5 distribution\")\n",
        "ax1.label_outer()\n",
        "ax2.set_ylim(ax1.get_ylim())\n",
        "ax2.label_outer()\n",
        "plt.show()"
      ]
    },
    {
      "cell_type": "code",
      "execution_count": null,
      "metadata": {},
      "outputs": [
        {
          "data": {
            "image/png": "[encoded data removed]",
            "text/plain": [
              "<Figure size 1400x500 with 2 Axes>"
            ]
          },
          "metadata": {},
          "output_type": "display_data"
        }
      ],
      "source": [
        "%matplotlib inline\n",
        "\n",
        "bins = np.linspace(0.8, 1, 100)\n",
        "\n",
        "fig, (ax1, ax2) = plt.subplots(1, 2)\n",
        "fig.set_size_inches(14,5)\n",
        "\n",
        "ax1.set_title(\"Normalized mean distributions\")\n",
        "ax1.hist(dpr_mean_normalized, alpha=0.8, label=\"DPR\")\n",
        "ax1.hist(tfidf_mean_normalized, alpha=0.8, label=\"Tf-Idf\")\n",
        "ax1.legend()\n",
        "\n",
        "ax2.set_title(\"Normalized top5 distributions\")\n",
        "ax2.hist(dpr_top5_normalized, alpha=0.8, label=\"DPR\")\n",
        "ax2.hist(tfidf_top5_normalized, alpha=0.8, label=\"Tf-Idf\")\n",
        "ax2.legend()\n",
        "\n",
        "plt.show()"
      ]
    },
    {
      "cell_type": "code",
      "execution_count": null,
      "metadata": {},
      "outputs": [
        {
          "data": {
            "image/png": "[encoded data removed]",
            "text/plain": [
              "<Figure size 1400x500 with 2 Axes>"
            ]
          },
          "metadata": {},
          "output_type": "display_data"
        }
      ],
      "source": [
        "%matplotlib inline\n",
        "\n",
        "bins = np.linspace(0.8, 1, 100)\n",
        "\n",
        "fig, (ax1, ax2) = plt.subplots(1, 2)\n",
        "fig.set_size_inches(14,5)\n",
        "\n",
        "ax1.set_title(\"Normalized [0,1] mean distributions\")\n",
        "ax1.hist(dpr_mean_normalized2, alpha=0.8, label=\"DPR\")\n",
        "ax1.hist(tfidf_mean_normalized2, alpha=0.8, label=\"Tf-Idf\")\n",
        "ax1.legend()\n",
        "\n",
        "ax2.set_title(\"Normalized [0,1] top5 distributions\")\n",
        "ax2.hist(dpr_top5_normalized2, alpha=0.8, label=\"DPR\")\n",
        "ax2.hist(tfidf_top5_normalized2, alpha=0.8, label=\"Tf-Idf\")\n",
        "ax2.legend()\n",
        "\n",
        "plt.show()"
      ]
    },
    {
      "cell_type": "code",
      "execution_count": null,
      "metadata": {},
      "outputs": [
        {
          "data": {
            "image/png": "[encoded data removed]",
            "text/plain": [
              "<Figure size 640x480 with 1 Axes>"
            ]
          },
          "metadata": {},
          "output_type": "display_data"
        }
      ],
      "source": [
        "%matplotlib inline\n",
        "\n",
        "plt.title(\"Standardized top5 distributions\")\n",
        "(n, bins, patches) = plt.hist(dpr_top5_standardized, alpha=0.8, label=\"DPR\")\n",
        "plt.hist(tfidf_top5_standardized[:-10], alpha=0.5, label=\"Tf-Idf\")\n",
        "plt.legend()\n",
        "plt.show()"
      ]
    },
    {
      "cell_type": "code",
      "execution_count": null,
      "metadata": {},
      "outputs": [],
      "source": [
        "def update_counts(gt, top_k, matrix):\n",
        "    for idx in top_k:\n",
        "        matrix[gt, idx] += 1\n",
        "    \n",
        "\n",
        "def compute_counts(results, indexes_size, top_k_list = [1], hyperparam = None, full=True):\n",
        "    gts, dprs, tfidfs = results\n",
        "\n",
        "    counts = {}\n",
        "    for k in top_k_list:\n",
        "        if full:\n",
        "            counts[k] = {\n",
        "                \"dpr\": np.zeros((indexes_size, indexes_size)),\n",
        "                \"tfidf\": np.zeros((indexes_size, indexes_size)),\n",
        "                \"sum\": np.zeros((indexes_size, indexes_size)),\n",
        "                \"max\": np.zeros((indexes_size, indexes_size))\n",
        "            }\n",
        "            if hyperparam != None:\n",
        "                counts[k][\"w_sum\"] = np.zeros((indexes_size, indexes_size))\n",
        "        else:\n",
        "            counts[k] = np.zeros((indexes_size, indexes_size))\n",
        "\n",
        "    if full:\n",
        "        iterator = tqdm(zip(gts, dprs, tfidfs))\n",
        "    else:\n",
        "        iterator = zip(gts, dprs, tfidfs)\n",
        "\n",
        "    for gt, dpr_scores, tfidf_scores in iterator:\n",
        "\n",
        "        if full:\n",
        "            normalized_dpr_scores = dpr_scores/np.max(dpr_scores)\n",
        "            normalized_tfidf_scores = tfidf_scores/np.max(tfidf_scores)\n",
        "\n",
        "            dpr_idx = np.argsort(dpr_scores)\n",
        "            tfidf_idx = np.argsort(tfidf_scores)\n",
        "            sum_idx = np.argsort(normalized_dpr_scores + normalized_tfidf_scores)\n",
        "            max_idx = np.argsort([max(d, t) for d, t in zip(normalized_dpr_scores, normalized_tfidf_scores)])\n",
        "\n",
        "            if hyperparam != None:\n",
        "                standardized_dpr_scores = (dpr_scores-np.mean(dpr_scores))/np.std(dpr_scores)\n",
        "                standardized_tfidf_scores = (tfidf_scores-np.mean(tfidf_scores))/np.std(tfidf_scores)\n",
        "                weighed_sum = np.argsort(standardized_dpr_scores*(1-hyperparam) + standardized_tfidf_scores*hyperparam)\n",
        "\n",
        "        else:\n",
        "            standardized_dpr_scores = (dpr_scores-np.mean(dpr_scores))/np.std(dpr_scores)\n",
        "            standardized_tfidf_scores = (tfidf_scores-np.mean(tfidf_scores))/np.std(tfidf_scores)\n",
        "            weighed_sum = np.argsort(standardized_dpr_scores*(1-hyperparam) + standardized_tfidf_scores*hyperparam)\n",
        "\n",
        "        for k in top_k_list:\n",
        "            if full:\n",
        "                update_counts(gt, dpr_idx[-k:], counts[k][\"dpr\"])\n",
        "                update_counts(gt, tfidf_idx[-k:], counts[k][\"tfidf\"])\n",
        "                update_counts(gt, sum_idx[-k:], counts[k][\"sum\"])\n",
        "                update_counts(gt, max_idx[-k:], counts[k][\"max\"])\n",
        "                if hyperparam != None:\n",
        "                    update_counts(gt, weighed_sum[-k:], counts[k][\"w_sum\"])\n",
        "                                        \n",
        "            else:\n",
        "                update_counts(gt, weighed_sum[-k:], counts[k])\n",
        "\n",
        "    return counts\n"
      ]
    },
    {
      "cell_type": "code",
      "execution_count": null,
      "metadata": {},
      "outputs": [],
      "source": [
        "def metrics(matrix, k=1):\n",
        "    diag = matrix.diagonal()    \n",
        "\n",
        "    accuracy = sum(diag) * k / matrix.sum() # because matrix.sum() / k = number of total samples to predict (each sample corresponds to k predictions) \n",
        "\n",
        "    if k == 1:\n",
        "\n",
        "        precisions =    [d/s if s!=0 else 0 for d,s in zip(diag,matrix.sum(axis=0))] # how many times we predicted correctly paragraph x when we predict paragraph x? \n",
        "        # d times! divided by the number of times that, in general, we predicted that a paragraph was that paragraph\n",
        "\n",
        "        recalls =       [d/s if s!=0 else 0 for d,s in zip(diag,matrix.sum(axis=1))] # how many times paragraph x has been correctly predicted when it was actually the gt?\n",
        "        # d times! divided by the numbe of times that it was the gt, that is the sum over the ROWS of all the values (divided by how many values you insert each time, k)\n",
        "        \n",
        "        f1s = [2*p*r/(p+r) if p+r!=0 else 0 for p,r in zip(precisions, recalls)]\n",
        "\n",
        "        macro_precision = np.mean(precisions)\n",
        "        macro_recall = np.mean(recalls)\n",
        "        macro_f1 = np.mean(f1s)\n",
        "\n",
        "        return {\n",
        "            \"acc\":accuracy, \n",
        "            \"macro-precision\":macro_precision, \n",
        "            \"macro-recall\":macro_recall, \n",
        "            \"macro-f1\":macro_f1\n",
        "        }\n",
        "    \n",
        "    else:\n",
        "        return accuracy"
      ]
    },
    {
      "cell_type": "code",
      "execution_count": null,
      "metadata": {},
      "outputs": [],
      "source": [
        "def print_metrics(counts, top_k_list):\n",
        "    for k in top_k_list:\n",
        "        print(k)\n",
        "        for key in counts[k].keys():\n",
        "            print(key, metrics(counts[k][key], k))"
      ]
    },
    {
      "cell_type": "markdown",
      "metadata": {},
      "source": [
        "Val"
      ]
    },
    {
      "cell_type": "code",
      "execution_count": null,
      "metadata": {},
      "outputs": [],
      "source": [
        "def get_accuracies_hyperparam(results, top_k_list, hyperparam_range = np.arange(0.05, 1, 0.05)):\n",
        "    opt = {}\n",
        "    # for hyperparam in hyperparam_range:\n",
        "    for hyperparam in tqdm(hyperparam_range):\n",
        "        counts = compute_counts(results, len(val_paragraphs), top_k_list, hyperparam, full=False)\n",
        "        opt[hyperparam] = {}\n",
        "        for k in top_k_list:\n",
        "            if k == 1:\n",
        "                opt[hyperparam][k] = metrics(counts[k], k)[\"acc\"]\n",
        "            else:\n",
        "                opt[hyperparam][k] = metrics(counts[k], k)\n",
        "    return opt"
      ]
    },
    {
      "cell_type": "code",
      "execution_count": null,
      "metadata": {},
      "outputs": [
        {
          "name": "stderr",
          "output_type": "stream",
          "text": [
            "  0%|          | 0/19 [00:00<?, ?it/s]/tmp/ipykernel_19417/1677794207.py:46: RuntimeWarning: invalid value encountered in divide\n",
            "  standardized_tfidf_scores = (tfidf_scores-np.mean(tfidf_scores))/np.std(tfidf_scores)\n",
            "100%|██████████| 19/19 [02:43<00:00,  8.60s/it]\n"
          ]
        }
      ],
      "source": [
        "top_k_list = [1, 5, 20, 100]\n",
        "\n",
        "hyperparam_range = np.arange(0.05, 1, 0.05)\n",
        "\n",
        "opt = get_accuracies_hyperparam(val_results, top_k_list, hyperparam_range)"
      ]
    },
    {
      "cell_type": "code",
      "execution_count": null,
      "metadata": {},
      "outputs": [],
      "source": [
        "%matplotlib inline"
      ]
    },
    {
      "cell_type": "code",
      "execution_count": null,
      "metadata": {},
      "outputs": [],
      "source": [
        "import matplotlib.pyplot as plt\n",
        "\n",
        "def print_graph_optimization(opt, top_k_list, hyperparam_range):\n",
        "    for k in top_k_list:\n",
        "        plt.plot(\n",
        "            [h for h in hyperparam_range], \n",
        "            [opt[h][k] for h in hyperparam_range],\n",
        "            label = \"k = {:.0f}\".format(k),\n",
        "        )\n",
        "\n",
        "    plt.title(\"DPR*(1-h) + Tf-Idf*h\")\n",
        "    plt.xlabel(\"h\")\n",
        "    plt.ylabel(\"Accuracy\")\n",
        "    plt.legend()\n",
        "    plt.show()"
      ]
    },
    {
      "cell_type": "code",
      "execution_count": null,
      "metadata": {},
      "outputs": [
        {
          "data": {
            "image/png": "[encoded data removed]",
            "text/plain": [
              "<Figure size 640x480 with 1 Axes>"
            ]
          },
          "metadata": {},
          "output_type": "display_data"
        }
      ],
      "source": [
        "print_graph_optimization(opt, top_k_list, hyperparam_range)"
      ]
    },
    {
      "cell_type": "markdown",
      "metadata": {},
      "source": [
        "Left = DPR\n",
        "\n",
        "Right = Tf-Idf"
      ]
    },
    {
      "cell_type": "code",
      "execution_count": null,
      "metadata": {},
      "outputs": [
        {
          "name": "stdout",
          "output_type": "stream",
          "text": [
            "k: 1, max h: 0.1\n",
            "k: 5, max h: 0.15000000000000002\n",
            "k: 20, max h: 0.2\n",
            "k: 100, max h: 0.2\n"
          ]
        }
      ],
      "source": [
        "for k in top_k_list:\n",
        "    print(\"k: {}, max h: {}\".format(k, hyperparam_range[ np.argmax([opt[h][k] for h in hyperparam_range]) ]))"
      ]
    },
    {
      "cell_type": "markdown",
      "metadata": {},
      "source": [
        "Test"
      ]
    },
    {
      "cell_type": "code",
      "execution_count": null,
      "metadata": {},
      "outputs": [
        {
          "name": "stderr",
          "output_type": "stream",
          "text": [
            "  0%|          | 0/100 [00:00<?, ?it/s]/tmp/ipykernel_19417/1677794207.py:46: RuntimeWarning: invalid value encountered in divide\n",
            "  standardized_tfidf_scores = (tfidf_scores-np.mean(tfidf_scores))/np.std(tfidf_scores)\n",
            "100%|██████████| 100/100 [14:03<00:00,  8.44s/it]\n"
          ]
        }
      ],
      "source": [
        "hyperparam_range = np.linspace(0.075, 0.225, 100)\n",
        "opt = get_accuracies_hyperparam(val_results, top_k_list, hyperparam_range)"
      ]
    },
    {
      "cell_type": "code",
      "execution_count": null,
      "metadata": {},
      "outputs": [
        {
          "data": {
            "image/png": "[encoded data removed]",
            "text/plain": [
              "<Figure size 640x480 with 1 Axes>"
            ]
          },
          "metadata": {},
          "output_type": "display_data"
        }
      ],
      "source": [
        "print_graph_optimization(opt, top_k_list, hyperparam_range)"
      ]
    },
    {
      "cell_type": "code",
      "execution_count": null,
      "metadata": {},
      "outputs": [
        {
          "name": "stdout",
          "output_type": "stream",
          "text": [
            "k: 1, max h: 0.1159090909090909\n",
            "k: 5, max h: 0.13712121212121214\n",
            "k: 20, max h: 0.16893939393939394\n",
            "k: 100, max h: 0.1856060606060606\n"
          ]
        }
      ],
      "source": [
        "for k in top_k_list:\n",
        "    print(\"k: {}, max h: {}\".format(k, hyperparam_range[ np.argmax([opt[h][k] for h in hyperparam_range]) ]))"
      ]
    },
    {
      "cell_type": "markdown",
      "metadata": {},
      "source": [
        "DPR is better than Tf-Idf but, as could be imagined, when k is bigger tf-idf has more possibilities in finding the right paragraph"
      ]
    },
    {
      "cell_type": "code",
      "execution_count": null,
      "metadata": {},
      "outputs": [],
      "source": [
        "hyperparam = 0.14\n",
        "top_k_list = [1, 5, 20, 100]"
      ]
    },
    {
      "cell_type": "code",
      "execution_count": null,
      "metadata": {},
      "outputs": [
        {
          "name": "stderr",
          "output_type": "stream",
          "text": [
            "10570it [00:14, 728.90it/s]\n"
          ]
        },
        {
          "name": "stdout",
          "output_type": "stream",
          "text": [
            "1\n",
            "dpr {'acc': 0.4784295175023652, 'macro-precision': 0.5400666101582802, 'macro-recall': 0.4850251390513467, 'macro-f1': 0.46431192768270596}\n",
            "tfidf {'acc': 0.5137180700094608, 'macro-precision': 0.6383863138472958, 'macro-recall': 0.5259952255553096, 'macro-f1': 0.5257225439024367}\n",
            "sum {'acc': 0.5738883632923368, 'macro-precision': 0.6791081224374254, 'macro-recall': 0.5865125592105682, 'macro-f1': 0.5841735966221445}\n",
            "max {'acc': 0.4964995269631031, 'macro-precision': 0.571440153650348, 'macro-recall': 0.5062339345043403, 'macro-f1': 0.49916059656692247}\n",
            "w_sum {'acc': 0.6956480605487227, 'macro-precision': 0.7559416464905105, 'macro-recall': 0.710520452480632, 'macro-f1': 0.7007320293632027}\n",
            "5\n",
            "dpr 0.7793755912961211\n",
            "tfidf 0.7487228003784295\n",
            "sum 0.8138126773888363\n",
            "max 0.8503311258278146\n",
            "w_sum 0.9140964995269631\n",
            "20\n",
            "dpr 0.9359508041627247\n",
            "tfidf 0.9018921475875118\n",
            "sum 0.9391674550614948\n",
            "max 0.956953642384106\n",
            "w_sum 0.9785241248817408\n",
            "100\n",
            "dpr 0.9929044465468306\n",
            "tfidf 0.9746452223273415\n",
            "sum 0.988647114474929\n",
            "max 0.9950804162724692\n",
            "w_sum 0.9977294228949858\n"
          ]
        }
      ],
      "source": [
        "test_results = np.load(os.path.join(scores_dir, 'test_scores.npy'), allow_pickle=True)\n",
        "counts = compute_counts(test_results, len(test_paragraphs), top_k_list, hyperparam=hyperparam)\n",
        "print_metrics(counts, top_k_list)"
      ]
    },
    {
      "cell_type": "markdown",
      "metadata": {
        "id": "WMe1p_OQR0De"
      },
      "source": [
        "Accuracy scores for the Dense Passage Retriever are:\n",
        "\n",
        "- Top 1 score: 47.84%\n",
        "- Top 5 score: 77.94%\n",
        "- Top 20 score: 93.59%\n",
        "- Top 100 score: 99.29%\n",
        "\n",
        "The Tf-Idf model instead reached:\n",
        "\n",
        "- Top 1 score: 51.37%\n",
        "- Top 5 score: 74.87%\n",
        "- Top 20 score: 90.19%\n",
        "- Top 100 score: 97.46%\n",
        "\n",
        "So we already have better results, which proves that the DPR is in general better at generalising."
      ]
    },
    {
      "cell_type": "markdown",
      "metadata": {
        "id": "v3z22gobHASC"
      },
      "source": [
        "# Saving intermediate results"
      ]
    },
    {
      "cell_type": "markdown",
      "metadata": {
        "id": "r1PwwaOpHGyG"
      },
      "source": [
        "We will pre-compute all of our questions' encodings with `model_q` so that we can easily access them later."
      ]
    },
    {
      "cell_type": "code",
      "execution_count": null,
      "metadata": {
        "id": "TEElaUH1IxmU"
      },
      "outputs": [],
      "source": [
        "from collections import deque\n",
        "\n",
        "precomputed_encodings = {\n",
        "    'train': {\n",
        "        'questions': train_questions,\n",
        "        'encodings': deque([])\n",
        "    }, \n",
        "    'val': {\n",
        "        'questions': val_questions,\n",
        "        'encodings': deque([])\n",
        "    },\n",
        "    'test': {\n",
        "        'questions': test_questions,\n",
        "        'encodings': deque([])\n",
        "    }\n",
        "}"
      ]
    },
    {
      "cell_type": "code",
      "execution_count": null,
      "metadata": {
        "colab": {
          "base_uri": "https://localhost:8080/"
        },
        "id": "BgZle3UEHBx6",
        "outputId": "0aa7a5a5-b9c3-496a-8d18-62e647a21afb"
      },
      "outputs": [
        {
          "name": "stderr",
          "output_type": "stream",
          "text": [
            "100%|██████████| 65064/65064 [1:22:04<00:00, 13.21it/s]\n",
            "100%|██████████| 22535/22535 [27:46<00:00, 13.52it/s]\n",
            "100%|██████████| 10570/10570 [13:02<00:00, 13.51it/s]\n"
          ]
        }
      ],
      "source": [
        "if OVERRIDE_REPRESENTATIONS:\n",
        "    for key in precomputed_encodings:\n",
        "        question_set = precomputed_encodings[key]['questions']\n",
        "        for i,q in enumerate(tqdm(question_set)):\n",
        "            # Tokenize the question\n",
        "            tok_q = tokenizer_distilbert(\n",
        "                q['qas']['question'], max_length = MAX_SEQ_LEN, \n",
        "                return_tensors='tf', truncation = True, padding = 'max_length'\n",
        "            )\n",
        "            # Pass the tokens through the question encoder\n",
        "            q_repr = model.enc.model_q(tok_q)[:,0,:].numpy()\n",
        "            # Append the computed embedding into the matrix for the respective set\n",
        "            precomputed_encodings[key]['encodings'].append(np.squeeze(q_repr))\n",
        "        # Save the matrix of precomputed values\n",
        "        encoding_matrix = np.stack(list(precomputed_encodings[key]['encodings']))\n",
        "        np.save(os.path.join(representations_dir, f'{key}_questions_encodings.npy'), encoding_matrix)"
      ]
    }
  ],
  "metadata": {
    "accelerator": "TPU",
    "colab": {
      "collapsed_sections": [],
      "provenance": []
    },
    "gpuClass": "standard",
    "kernelspec": {
      "display_name": "Python 3.10.4",
      "language": "python",
      "name": "python3"
    },
    "language_info": {
      "codemirror_mode": {
        "name": "ipython",
        "version": 3
      },
      "file_extension": ".py",
      "mimetype": "text/x-python",
      "name": "python",
      "nbconvert_exporter": "python",
      "pygments_lexer": "ipython3",
      "version": "3.10.4"
    },
    "vscode": {
      "interpreter": {
        "hash": "3f1aedb1eb2c65e580c7e6628d6a6f161dbf7d87a60144a28bd6d91db1c87885"
      }
    },
    "widgets": {
      "application/vnd.jupyter.widget-state+json": {
        "01f180ac83c44a7cb1ff974bdc7ab13e": {
          "model_module": "@jupyter-widgets/controls",
          "model_module_version": "1.5.0",
          "model_name": "HBoxModel",
          "state": {
            "_dom_classes": [],
            "_model_module": "@jupyter-widgets/controls",
            "_model_module_version": "1.5.0",
            "_model_name": "HBoxModel",
            "_view_count": null,
            "_view_module": "@jupyter-widgets/controls",
            "_view_module_version": "1.5.0",
            "_view_name": "HBoxView",
            "box_style": "",
            "children": [
              "IPY_MODEL_cfd992c3ce154a77af97efbc3089da63",
              "IPY_MODEL_c283599f48604804bdf0894750c52269",
              "IPY_MODEL_7f76787372e24db4af66a063c1cbdadc"
            ],
            "layout": "IPY_MODEL_ab98c43b6c3749d087bf75f7d5b11589"
          }
        },
        "03fa38915a214925a41116ba9d7c2465": {
          "model_module": "@jupyter-widgets/controls",
          "model_module_version": "1.5.0",
          "model_name": "FloatProgressModel",
          "state": {
            "_dom_classes": [],
            "_model_module": "@jupyter-widgets/controls",
            "_model_module_version": "1.5.0",
            "_model_name": "FloatProgressModel",
            "_view_count": null,
            "_view_module": "@jupyter-widgets/controls",
            "_view_module_version": "1.5.0",
            "_view_name": "ProgressView",
            "bar_style": "success",
            "description": "",
            "description_tooltip": null,
            "layout": "IPY_MODEL_e9dcd640a301493a85b85af9a8f0ef58",
            "max": 483,
            "min": 0,
            "orientation": "horizontal",
            "style": "IPY_MODEL_1e92bc4ef9ac4db9a2c28b402a92babd",
            "value": 483
          }
        },
        "04cc48ccff614467a0beffad45e439fc": {
          "model_module": "@jupyter-widgets/controls",
          "model_module_version": "1.5.0",
          "model_name": "DescriptionStyleModel",
          "state": {
            "_model_module": "@jupyter-widgets/controls",
            "_model_module_version": "1.5.0",
            "_model_name": "DescriptionStyleModel",
            "_view_count": null,
            "_view_module": "@jupyter-widgets/base",
            "_view_module_version": "1.2.0",
            "_view_name": "StyleView",
            "description_width": ""
          }
        },
        "08c06f3690bc4ec3b6451992e39f7944": {
          "model_module": "@jupyter-widgets/controls",
          "model_module_version": "1.5.0",
          "model_name": "HBoxModel",
          "state": {
            "_dom_classes": [],
            "_model_module": "@jupyter-widgets/controls",
            "_model_module_version": "1.5.0",
            "_model_name": "HBoxModel",
            "_view_count": null,
            "_view_module": "@jupyter-widgets/controls",
            "_view_module_version": "1.5.0",
            "_view_name": "HBoxView",
            "box_style": "",
            "children": [
              "IPY_MODEL_2fd969a0cb4f4114a948cb180d269f4d",
              "IPY_MODEL_03fa38915a214925a41116ba9d7c2465",
              "IPY_MODEL_b6297c05930c4ceeb4609191a29586f0"
            ],
            "layout": "IPY_MODEL_2d2e0f4e3cf347e686a24c856f75d8c0"
          }
        },
        "10bb0ce02e59437890b04043bd237ddf": {
          "model_module": "@jupyter-widgets/controls",
          "model_module_version": "1.5.0",
          "model_name": "ProgressStyleModel",
          "state": {
            "_model_module": "@jupyter-widgets/controls",
            "_model_module_version": "1.5.0",
            "_model_name": "ProgressStyleModel",
            "_view_count": null,
            "_view_module": "@jupyter-widgets/base",
            "_view_module_version": "1.2.0",
            "_view_name": "StyleView",
            "bar_color": null,
            "description_width": ""
          }
        },
        "111b0247036446ceb35e9f53e9539ad8": {
          "model_module": "@jupyter-widgets/base",
          "model_module_version": "1.2.0",
          "model_name": "LayoutModel",
          "state": {
            "_model_module": "@jupyter-widgets/base",
            "_model_module_version": "1.2.0",
            "_model_name": "LayoutModel",
            "_view_count": null,
            "_view_module": "@jupyter-widgets/base",
            "_view_module_version": "1.2.0",
            "_view_name": "LayoutView",
            "align_content": null,
            "align_items": null,
            "align_self": null,
            "border": null,
            "bottom": null,
            "display": null,
            "flex": null,
            "flex_flow": null,
            "grid_area": null,
            "grid_auto_columns": null,
            "grid_auto_flow": null,
            "grid_auto_rows": null,
            "grid_column": null,
            "grid_gap": null,
            "grid_row": null,
            "grid_template_areas": null,
            "grid_template_columns": null,
            "grid_template_rows": null,
            "height": null,
            "justify_content": null,
            "justify_items": null,
            "left": null,
            "margin": null,
            "max_height": null,
            "max_width": null,
            "min_height": null,
            "min_width": null,
            "object_fit": null,
            "object_position": null,
            "order": null,
            "overflow": null,
            "overflow_x": null,
            "overflow_y": null,
            "padding": null,
            "right": null,
            "top": null,
            "visibility": null,
            "width": null
          }
        },
        "14e1e266aad54a46a3317395251e5287": {
          "model_module": "@jupyter-widgets/base",
          "model_module_version": "1.2.0",
          "model_name": "LayoutModel",
          "state": {
            "_model_module": "@jupyter-widgets/base",
            "_model_module_version": "1.2.0",
            "_model_name": "LayoutModel",
            "_view_count": null,
            "_view_module": "@jupyter-widgets/base",
            "_view_module_version": "1.2.0",
            "_view_name": "LayoutView",
            "align_content": null,
            "align_items": null,
            "align_self": null,
            "border": null,
            "bottom": null,
            "display": null,
            "flex": null,
            "flex_flow": null,
            "grid_area": null,
            "grid_auto_columns": null,
            "grid_auto_flow": null,
            "grid_auto_rows": null,
            "grid_column": null,
            "grid_gap": null,
            "grid_row": null,
            "grid_template_areas": null,
            "grid_template_columns": null,
            "grid_template_rows": null,
            "height": null,
            "justify_content": null,
            "justify_items": null,
            "left": null,
            "margin": null,
            "max_height": null,
            "max_width": null,
            "min_height": null,
            "min_width": null,
            "object_fit": null,
            "object_position": null,
            "order": null,
            "overflow": null,
            "overflow_x": null,
            "overflow_y": null,
            "padding": null,
            "right": null,
            "top": null,
            "visibility": null,
            "width": null
          }
        },
        "15b468408856476cb60a501a580bcb1d": {
          "model_module": "@jupyter-widgets/controls",
          "model_module_version": "1.5.0",
          "model_name": "ProgressStyleModel",
          "state": {
            "_model_module": "@jupyter-widgets/controls",
            "_model_module_version": "1.5.0",
            "_model_name": "ProgressStyleModel",
            "_view_count": null,
            "_view_module": "@jupyter-widgets/base",
            "_view_module_version": "1.2.0",
            "_view_name": "StyleView",
            "bar_color": null,
            "description_width": ""
          }
        },
        "17e739cc184a4f88a7f816c1f6d4f9a5": {
          "model_module": "@jupyter-widgets/controls",
          "model_module_version": "1.5.0",
          "model_name": "DescriptionStyleModel",
          "state": {
            "_model_module": "@jupyter-widgets/controls",
            "_model_module_version": "1.5.0",
            "_model_name": "DescriptionStyleModel",
            "_view_count": null,
            "_view_module": "@jupyter-widgets/base",
            "_view_module_version": "1.2.0",
            "_view_name": "StyleView",
            "description_width": ""
          }
        },
        "187147b3f18b46d9a2c110357e623a1a": {
          "model_module": "@jupyter-widgets/base",
          "model_module_version": "1.2.0",
          "model_name": "LayoutModel",
          "state": {
            "_model_module": "@jupyter-widgets/base",
            "_model_module_version": "1.2.0",
            "_model_name": "LayoutModel",
            "_view_count": null,
            "_view_module": "@jupyter-widgets/base",
            "_view_module_version": "1.2.0",
            "_view_name": "LayoutView",
            "align_content": null,
            "align_items": null,
            "align_self": null,
            "border": null,
            "bottom": null,
            "display": null,
            "flex": null,
            "flex_flow": null,
            "grid_area": null,
            "grid_auto_columns": null,
            "grid_auto_flow": null,
            "grid_auto_rows": null,
            "grid_column": null,
            "grid_gap": null,
            "grid_row": null,
            "grid_template_areas": null,
            "grid_template_columns": null,
            "grid_template_rows": null,
            "height": null,
            "justify_content": null,
            "justify_items": null,
            "left": null,
            "margin": null,
            "max_height": null,
            "max_width": null,
            "min_height": null,
            "min_width": null,
            "object_fit": null,
            "object_position": null,
            "order": null,
            "overflow": null,
            "overflow_x": null,
            "overflow_y": null,
            "padding": null,
            "right": null,
            "top": null,
            "visibility": null,
            "width": null
          }
        },
        "1c99dc5488a7438a86762851edb03b66": {
          "model_module": "@jupyter-widgets/base",
          "model_module_version": "1.2.0",
          "model_name": "LayoutModel",
          "state": {
            "_model_module": "@jupyter-widgets/base",
            "_model_module_version": "1.2.0",
            "_model_name": "LayoutModel",
            "_view_count": null,
            "_view_module": "@jupyter-widgets/base",
            "_view_module_version": "1.2.0",
            "_view_name": "LayoutView",
            "align_content": null,
            "align_items": null,
            "align_self": null,
            "border": null,
            "bottom": null,
            "display": null,
            "flex": null,
            "flex_flow": null,
            "grid_area": null,
            "grid_auto_columns": null,
            "grid_auto_flow": null,
            "grid_auto_rows": null,
            "grid_column": null,
            "grid_gap": null,
            "grid_row": null,
            "grid_template_areas": null,
            "grid_template_columns": null,
            "grid_template_rows": null,
            "height": null,
            "justify_content": null,
            "justify_items": null,
            "left": null,
            "margin": null,
            "max_height": null,
            "max_width": null,
            "min_height": null,
            "min_width": null,
            "object_fit": null,
            "object_position": null,
            "order": null,
            "overflow": null,
            "overflow_x": null,
            "overflow_y": null,
            "padding": null,
            "right": null,
            "top": null,
            "visibility": null,
            "width": null
          }
        },
        "1cb1396df32749188e5150dbefa3bbd2": {
          "model_module": "@jupyter-widgets/controls",
          "model_module_version": "1.5.0",
          "model_name": "ProgressStyleModel",
          "state": {
            "_model_module": "@jupyter-widgets/controls",
            "_model_module_version": "1.5.0",
            "_model_name": "ProgressStyleModel",
            "_view_count": null,
            "_view_module": "@jupyter-widgets/base",
            "_view_module_version": "1.2.0",
            "_view_name": "StyleView",
            "bar_color": null,
            "description_width": ""
          }
        },
        "1e92bc4ef9ac4db9a2c28b402a92babd": {
          "model_module": "@jupyter-widgets/controls",
          "model_module_version": "1.5.0",
          "model_name": "ProgressStyleModel",
          "state": {
            "_model_module": "@jupyter-widgets/controls",
            "_model_module_version": "1.5.0",
            "_model_name": "ProgressStyleModel",
            "_view_count": null,
            "_view_module": "@jupyter-widgets/base",
            "_view_module_version": "1.2.0",
            "_view_name": "StyleView",
            "bar_color": null,
            "description_width": ""
          }
        },
        "1fabe1bed61c4f308ff170fdf1bd3e0c": {
          "model_module": "@jupyter-widgets/controls",
          "model_module_version": "1.5.0",
          "model_name": "HBoxModel",
          "state": {
            "_dom_classes": [],
            "_model_module": "@jupyter-widgets/controls",
            "_model_module_version": "1.5.0",
            "_model_name": "HBoxModel",
            "_view_count": null,
            "_view_module": "@jupyter-widgets/controls",
            "_view_module_version": "1.5.0",
            "_view_name": "HBoxView",
            "box_style": "",
            "children": [
              "IPY_MODEL_6c0120d5fe5f4b0c83e0ac03b41e18b1",
              "IPY_MODEL_e88ed43ef11f4f629ecbafdf6bed8856",
              "IPY_MODEL_eb06c3f87ec34352971f282d86a215d9"
            ],
            "layout": "IPY_MODEL_cc13ae4d678d41b5ba927c55d8fcbc69"
          }
        },
        "28bca8beb0024c088e390ce7c4450873": {
          "model_module": "@jupyter-widgets/base",
          "model_module_version": "1.2.0",
          "model_name": "LayoutModel",
          "state": {
            "_model_module": "@jupyter-widgets/base",
            "_model_module_version": "1.2.0",
            "_model_name": "LayoutModel",
            "_view_count": null,
            "_view_module": "@jupyter-widgets/base",
            "_view_module_version": "1.2.0",
            "_view_name": "LayoutView",
            "align_content": null,
            "align_items": null,
            "align_self": null,
            "border": null,
            "bottom": null,
            "display": null,
            "flex": null,
            "flex_flow": null,
            "grid_area": null,
            "grid_auto_columns": null,
            "grid_auto_flow": null,
            "grid_auto_rows": null,
            "grid_column": null,
            "grid_gap": null,
            "grid_row": null,
            "grid_template_areas": null,
            "grid_template_columns": null,
            "grid_template_rows": null,
            "height": null,
            "justify_content": null,
            "justify_items": null,
            "left": null,
            "margin": null,
            "max_height": null,
            "max_width": null,
            "min_height": null,
            "min_width": null,
            "object_fit": null,
            "object_position": null,
            "order": null,
            "overflow": null,
            "overflow_x": null,
            "overflow_y": null,
            "padding": null,
            "right": null,
            "top": null,
            "visibility": null,
            "width": null
          }
        },
        "2bce496a446446b0a5dc02086200a0f9": {
          "model_module": "@jupyter-widgets/base",
          "model_module_version": "1.2.0",
          "model_name": "LayoutModel",
          "state": {
            "_model_module": "@jupyter-widgets/base",
            "_model_module_version": "1.2.0",
            "_model_name": "LayoutModel",
            "_view_count": null,
            "_view_module": "@jupyter-widgets/base",
            "_view_module_version": "1.2.0",
            "_view_name": "LayoutView",
            "align_content": null,
            "align_items": null,
            "align_self": null,
            "border": null,
            "bottom": null,
            "display": null,
            "flex": null,
            "flex_flow": null,
            "grid_area": null,
            "grid_auto_columns": null,
            "grid_auto_flow": null,
            "grid_auto_rows": null,
            "grid_column": null,
            "grid_gap": null,
            "grid_row": null,
            "grid_template_areas": null,
            "grid_template_columns": null,
            "grid_template_rows": null,
            "height": null,
            "justify_content": null,
            "justify_items": null,
            "left": null,
            "margin": null,
            "max_height": null,
            "max_width": null,
            "min_height": null,
            "min_width": null,
            "object_fit": null,
            "object_position": null,
            "order": null,
            "overflow": null,
            "overflow_x": null,
            "overflow_y": null,
            "padding": null,
            "right": null,
            "top": null,
            "visibility": null,
            "width": null
          }
        },
        "2d2e0f4e3cf347e686a24c856f75d8c0": {
          "model_module": "@jupyter-widgets/base",
          "model_module_version": "1.2.0",
          "model_name": "LayoutModel",
          "state": {
            "_model_module": "@jupyter-widgets/base",
            "_model_module_version": "1.2.0",
            "_model_name": "LayoutModel",
            "_view_count": null,
            "_view_module": "@jupyter-widgets/base",
            "_view_module_version": "1.2.0",
            "_view_name": "LayoutView",
            "align_content": null,
            "align_items": null,
            "align_self": null,
            "border": null,
            "bottom": null,
            "display": null,
            "flex": null,
            "flex_flow": null,
            "grid_area": null,
            "grid_auto_columns": null,
            "grid_auto_flow": null,
            "grid_auto_rows": null,
            "grid_column": null,
            "grid_gap": null,
            "grid_row": null,
            "grid_template_areas": null,
            "grid_template_columns": null,
            "grid_template_rows": null,
            "height": null,
            "justify_content": null,
            "justify_items": null,
            "left": null,
            "margin": null,
            "max_height": null,
            "max_width": null,
            "min_height": null,
            "min_width": null,
            "object_fit": null,
            "object_position": null,
            "order": null,
            "overflow": null,
            "overflow_x": null,
            "overflow_y": null,
            "padding": null,
            "right": null,
            "top": null,
            "visibility": null,
            "width": null
          }
        },
        "2fd969a0cb4f4114a948cb180d269f4d": {
          "model_module": "@jupyter-widgets/controls",
          "model_module_version": "1.5.0",
          "model_name": "HTMLModel",
          "state": {
            "_dom_classes": [],
            "_model_module": "@jupyter-widgets/controls",
            "_model_module_version": "1.5.0",
            "_model_name": "HTMLModel",
            "_view_count": null,
            "_view_module": "@jupyter-widgets/controls",
            "_view_module_version": "1.5.0",
            "_view_name": "HTMLView",
            "description": "",
            "description_tooltip": null,
            "layout": "IPY_MODEL_e74dc55a6aa840399c6a40fc79bb01d7",
            "placeholder": "​",
            "style": "IPY_MODEL_54166597132f4fa9a53240ab2d255a07",
            "value": "Downloading: 100%"
          }
        },
        "318ed6d123034a4190fbce9d62f46109": {
          "model_module": "@jupyter-widgets/controls",
          "model_module_version": "1.5.0",
          "model_name": "HTMLModel",
          "state": {
            "_dom_classes": [],
            "_model_module": "@jupyter-widgets/controls",
            "_model_module_version": "1.5.0",
            "_model_name": "HTMLModel",
            "_view_count": null,
            "_view_module": "@jupyter-widgets/controls",
            "_view_module_version": "1.5.0",
            "_view_name": "HTMLView",
            "description": "",
            "description_tooltip": null,
            "layout": "IPY_MODEL_702089ad5e2344b79bdfa141ae19d358",
            "placeholder": "​",
            "style": "IPY_MODEL_ed8711700508458d95b928552eddeb16",
            "value": "Downloading: 100%"
          }
        },
        "375ee0b4e1214fb1a0eef421f91cad8f": {
          "model_module": "@jupyter-widgets/base",
          "model_module_version": "1.2.0",
          "model_name": "LayoutModel",
          "state": {
            "_model_module": "@jupyter-widgets/base",
            "_model_module_version": "1.2.0",
            "_model_name": "LayoutModel",
            "_view_count": null,
            "_view_module": "@jupyter-widgets/base",
            "_view_module_version": "1.2.0",
            "_view_name": "LayoutView",
            "align_content": null,
            "align_items": null,
            "align_self": null,
            "border": null,
            "bottom": null,
            "display": null,
            "flex": null,
            "flex_flow": null,
            "grid_area": null,
            "grid_auto_columns": null,
            "grid_auto_flow": null,
            "grid_auto_rows": null,
            "grid_column": null,
            "grid_gap": null,
            "grid_row": null,
            "grid_template_areas": null,
            "grid_template_columns": null,
            "grid_template_rows": null,
            "height": null,
            "justify_content": null,
            "justify_items": null,
            "left": null,
            "margin": null,
            "max_height": null,
            "max_width": null,
            "min_height": null,
            "min_width": null,
            "object_fit": null,
            "object_position": null,
            "order": null,
            "overflow": null,
            "overflow_x": null,
            "overflow_y": null,
            "padding": null,
            "right": null,
            "top": null,
            "visibility": null,
            "width": null
          }
        },
        "3a9db2e80f9649d9a6d61881b081de1f": {
          "model_module": "@jupyter-widgets/base",
          "model_module_version": "1.2.0",
          "model_name": "LayoutModel",
          "state": {
            "_model_module": "@jupyter-widgets/base",
            "_model_module_version": "1.2.0",
            "_model_name": "LayoutModel",
            "_view_count": null,
            "_view_module": "@jupyter-widgets/base",
            "_view_module_version": "1.2.0",
            "_view_name": "LayoutView",
            "align_content": null,
            "align_items": null,
            "align_self": null,
            "border": null,
            "bottom": null,
            "display": null,
            "flex": null,
            "flex_flow": null,
            "grid_area": null,
            "grid_auto_columns": null,
            "grid_auto_flow": null,
            "grid_auto_rows": null,
            "grid_column": null,
            "grid_gap": null,
            "grid_row": null,
            "grid_template_areas": null,
            "grid_template_columns": null,
            "grid_template_rows": null,
            "height": null,
            "justify_content": null,
            "justify_items": null,
            "left": null,
            "margin": null,
            "max_height": null,
            "max_width": null,
            "min_height": null,
            "min_width": null,
            "object_fit": null,
            "object_position": null,
            "order": null,
            "overflow": null,
            "overflow_x": null,
            "overflow_y": null,
            "padding": null,
            "right": null,
            "top": null,
            "visibility": null,
            "width": null
          }
        },
        "4a9fbef78aa246eebd0fef77e5ea914e": {
          "model_module": "@jupyter-widgets/controls",
          "model_module_version": "1.5.0",
          "model_name": "HBoxModel",
          "state": {
            "_dom_classes": [],
            "_model_module": "@jupyter-widgets/controls",
            "_model_module_version": "1.5.0",
            "_model_name": "HBoxModel",
            "_view_count": null,
            "_view_module": "@jupyter-widgets/controls",
            "_view_module_version": "1.5.0",
            "_view_name": "HBoxView",
            "box_style": "",
            "children": [
              "IPY_MODEL_fa565972473d4bc3a0a6705be76cd6b6",
              "IPY_MODEL_5e5de9526e2b4e2da9a32c585ddc7f89",
              "IPY_MODEL_781fb2661a3f4b3b8d2c7f2ed3a56ff0"
            ],
            "layout": "IPY_MODEL_3a9db2e80f9649d9a6d61881b081de1f"
          }
        },
        "54166597132f4fa9a53240ab2d255a07": {
          "model_module": "@jupyter-widgets/controls",
          "model_module_version": "1.5.0",
          "model_name": "DescriptionStyleModel",
          "state": {
            "_model_module": "@jupyter-widgets/controls",
            "_model_module_version": "1.5.0",
            "_model_name": "DescriptionStyleModel",
            "_view_count": null,
            "_view_module": "@jupyter-widgets/base",
            "_view_module_version": "1.2.0",
            "_view_name": "StyleView",
            "description_width": ""
          }
        },
        "56ba5461bcb246b2a5e064dd9fa25cde": {
          "model_module": "@jupyter-widgets/base",
          "model_module_version": "1.2.0",
          "model_name": "LayoutModel",
          "state": {
            "_model_module": "@jupyter-widgets/base",
            "_model_module_version": "1.2.0",
            "_model_name": "LayoutModel",
            "_view_count": null,
            "_view_module": "@jupyter-widgets/base",
            "_view_module_version": "1.2.0",
            "_view_name": "LayoutView",
            "align_content": null,
            "align_items": null,
            "align_self": null,
            "border": null,
            "bottom": null,
            "display": null,
            "flex": null,
            "flex_flow": null,
            "grid_area": null,
            "grid_auto_columns": null,
            "grid_auto_flow": null,
            "grid_auto_rows": null,
            "grid_column": null,
            "grid_gap": null,
            "grid_row": null,
            "grid_template_areas": null,
            "grid_template_columns": null,
            "grid_template_rows": null,
            "height": null,
            "justify_content": null,
            "justify_items": null,
            "left": null,
            "margin": null,
            "max_height": null,
            "max_width": null,
            "min_height": null,
            "min_width": null,
            "object_fit": null,
            "object_position": null,
            "order": null,
            "overflow": null,
            "overflow_x": null,
            "overflow_y": null,
            "padding": null,
            "right": null,
            "top": null,
            "visibility": null,
            "width": "20px"
          }
        },
        "5c978b5490c34e0f82a1115332f2ad93": {
          "model_module": "@jupyter-widgets/controls",
          "model_module_version": "1.5.0",
          "model_name": "DescriptionStyleModel",
          "state": {
            "_model_module": "@jupyter-widgets/controls",
            "_model_module_version": "1.5.0",
            "_model_name": "DescriptionStyleModel",
            "_view_count": null,
            "_view_module": "@jupyter-widgets/base",
            "_view_module_version": "1.2.0",
            "_view_name": "StyleView",
            "description_width": ""
          }
        },
        "5e0f8230323f489da914292426a7e91a": {
          "model_module": "@jupyter-widgets/base",
          "model_module_version": "1.2.0",
          "model_name": "LayoutModel",
          "state": {
            "_model_module": "@jupyter-widgets/base",
            "_model_module_version": "1.2.0",
            "_model_name": "LayoutModel",
            "_view_count": null,
            "_view_module": "@jupyter-widgets/base",
            "_view_module_version": "1.2.0",
            "_view_name": "LayoutView",
            "align_content": null,
            "align_items": null,
            "align_self": null,
            "border": null,
            "bottom": null,
            "display": null,
            "flex": null,
            "flex_flow": null,
            "grid_area": null,
            "grid_auto_columns": null,
            "grid_auto_flow": null,
            "grid_auto_rows": null,
            "grid_column": null,
            "grid_gap": null,
            "grid_row": null,
            "grid_template_areas": null,
            "grid_template_columns": null,
            "grid_template_rows": null,
            "height": null,
            "justify_content": null,
            "justify_items": null,
            "left": null,
            "margin": null,
            "max_height": null,
            "max_width": null,
            "min_height": null,
            "min_width": null,
            "object_fit": null,
            "object_position": null,
            "order": null,
            "overflow": null,
            "overflow_x": null,
            "overflow_y": null,
            "padding": null,
            "right": null,
            "top": null,
            "visibility": null,
            "width": null
          }
        },
        "5e5de9526e2b4e2da9a32c585ddc7f89": {
          "model_module": "@jupyter-widgets/controls",
          "model_module_version": "1.5.0",
          "model_name": "FloatProgressModel",
          "state": {
            "_dom_classes": [],
            "_model_module": "@jupyter-widgets/controls",
            "_model_module_version": "1.5.0",
            "_model_name": "FloatProgressModel",
            "_view_count": null,
            "_view_module": "@jupyter-widgets/controls",
            "_view_module_version": "1.5.0",
            "_view_name": "ProgressView",
            "bar_style": "success",
            "description": "",
            "description_tooltip": null,
            "layout": "IPY_MODEL_187147b3f18b46d9a2c110357e623a1a",
            "max": 231508,
            "min": 0,
            "orientation": "horizontal",
            "style": "IPY_MODEL_15b468408856476cb60a501a580bcb1d",
            "value": 231508
          }
        },
        "6c0120d5fe5f4b0c83e0ac03b41e18b1": {
          "model_module": "@jupyter-widgets/controls",
          "model_module_version": "1.5.0",
          "model_name": "HTMLModel",
          "state": {
            "_dom_classes": [],
            "_model_module": "@jupyter-widgets/controls",
            "_model_module_version": "1.5.0",
            "_model_name": "HTMLModel",
            "_view_count": null,
            "_view_module": "@jupyter-widgets/controls",
            "_view_module_version": "1.5.0",
            "_view_name": "HTMLView",
            "description": "",
            "description_tooltip": null,
            "layout": "IPY_MODEL_14e1e266aad54a46a3317395251e5287",
            "placeholder": "​",
            "style": "IPY_MODEL_8b262df523ab4e4d92a907adb506b8be",
            "value": ""
          }
        },
        "6e61d71f3972487096e4c6f532dc2229": {
          "model_module": "@jupyter-widgets/controls",
          "model_module_version": "1.5.0",
          "model_name": "DescriptionStyleModel",
          "state": {
            "_model_module": "@jupyter-widgets/controls",
            "_model_module_version": "1.5.0",
            "_model_name": "DescriptionStyleModel",
            "_view_count": null,
            "_view_module": "@jupyter-widgets/base",
            "_view_module_version": "1.2.0",
            "_view_name": "StyleView",
            "description_width": ""
          }
        },
        "702089ad5e2344b79bdfa141ae19d358": {
          "model_module": "@jupyter-widgets/base",
          "model_module_version": "1.2.0",
          "model_name": "LayoutModel",
          "state": {
            "_model_module": "@jupyter-widgets/base",
            "_model_module_version": "1.2.0",
            "_model_name": "LayoutModel",
            "_view_count": null,
            "_view_module": "@jupyter-widgets/base",
            "_view_module_version": "1.2.0",
            "_view_name": "LayoutView",
            "align_content": null,
            "align_items": null,
            "align_self": null,
            "border": null,
            "bottom": null,
            "display": null,
            "flex": null,
            "flex_flow": null,
            "grid_area": null,
            "grid_auto_columns": null,
            "grid_auto_flow": null,
            "grid_auto_rows": null,
            "grid_column": null,
            "grid_gap": null,
            "grid_row": null,
            "grid_template_areas": null,
            "grid_template_columns": null,
            "grid_template_rows": null,
            "height": null,
            "justify_content": null,
            "justify_items": null,
            "left": null,
            "margin": null,
            "max_height": null,
            "max_width": null,
            "min_height": null,
            "min_width": null,
            "object_fit": null,
            "object_position": null,
            "order": null,
            "overflow": null,
            "overflow_x": null,
            "overflow_y": null,
            "padding": null,
            "right": null,
            "top": null,
            "visibility": null,
            "width": null
          }
        },
        "705db5fecee543c8ac1d1c80596dfeb8": {
          "model_module": "@jupyter-widgets/controls",
          "model_module_version": "1.5.0",
          "model_name": "FloatProgressModel",
          "state": {
            "_dom_classes": [],
            "_model_module": "@jupyter-widgets/controls",
            "_model_module_version": "1.5.0",
            "_model_name": "FloatProgressModel",
            "_view_count": null,
            "_view_module": "@jupyter-widgets/controls",
            "_view_module_version": "1.5.0",
            "_view_name": "ProgressView",
            "bar_style": "success",
            "description": "",
            "description_tooltip": null,
            "layout": "IPY_MODEL_c790538904a14ccba718572fcd6a1b7c",
            "max": 363423424,
            "min": 0,
            "orientation": "horizontal",
            "style": "IPY_MODEL_85e2d7b726e84432a89d05c58142be27",
            "value": 363423424
          }
        },
        "72cc51b3690a4a4a8127c01d55f86a82": {
          "model_module": "@jupyter-widgets/controls",
          "model_module_version": "1.5.0",
          "model_name": "DescriptionStyleModel",
          "state": {
            "_model_module": "@jupyter-widgets/controls",
            "_model_module_version": "1.5.0",
            "_model_name": "DescriptionStyleModel",
            "_view_count": null,
            "_view_module": "@jupyter-widgets/base",
            "_view_module_version": "1.2.0",
            "_view_name": "StyleView",
            "description_width": ""
          }
        },
        "781fb2661a3f4b3b8d2c7f2ed3a56ff0": {
          "model_module": "@jupyter-widgets/controls",
          "model_module_version": "1.5.0",
          "model_name": "HTMLModel",
          "state": {
            "_dom_classes": [],
            "_model_module": "@jupyter-widgets/controls",
            "_model_module_version": "1.5.0",
            "_model_name": "HTMLModel",
            "_view_count": null,
            "_view_module": "@jupyter-widgets/controls",
            "_view_module_version": "1.5.0",
            "_view_name": "HTMLView",
            "description": "",
            "description_tooltip": null,
            "layout": "IPY_MODEL_375ee0b4e1214fb1a0eef421f91cad8f",
            "placeholder": "​",
            "style": "IPY_MODEL_6e61d71f3972487096e4c6f532dc2229",
            "value": " 232k/232k [00:00&lt;00:00, 5.17kB/s]"
          }
        },
        "785397b3ec5b44d7a0b3cb353b41ce0a": {
          "model_module": "@jupyter-widgets/base",
          "model_module_version": "1.2.0",
          "model_name": "LayoutModel",
          "state": {
            "_model_module": "@jupyter-widgets/base",
            "_model_module_version": "1.2.0",
            "_model_name": "LayoutModel",
            "_view_count": null,
            "_view_module": "@jupyter-widgets/base",
            "_view_module_version": "1.2.0",
            "_view_name": "LayoutView",
            "align_content": null,
            "align_items": null,
            "align_self": null,
            "border": null,
            "bottom": null,
            "display": null,
            "flex": null,
            "flex_flow": null,
            "grid_area": null,
            "grid_auto_columns": null,
            "grid_auto_flow": null,
            "grid_auto_rows": null,
            "grid_column": null,
            "grid_gap": null,
            "grid_row": null,
            "grid_template_areas": null,
            "grid_template_columns": null,
            "grid_template_rows": null,
            "height": null,
            "justify_content": null,
            "justify_items": null,
            "left": null,
            "margin": null,
            "max_height": null,
            "max_width": null,
            "min_height": null,
            "min_width": null,
            "object_fit": null,
            "object_position": null,
            "order": null,
            "overflow": null,
            "overflow_x": null,
            "overflow_y": null,
            "padding": null,
            "right": null,
            "top": null,
            "visibility": null,
            "width": null
          }
        },
        "7ba94b893ec14228bf5524ae1f685d0c": {
          "model_module": "@jupyter-widgets/base",
          "model_module_version": "1.2.0",
          "model_name": "LayoutModel",
          "state": {
            "_model_module": "@jupyter-widgets/base",
            "_model_module_version": "1.2.0",
            "_model_name": "LayoutModel",
            "_view_count": null,
            "_view_module": "@jupyter-widgets/base",
            "_view_module_version": "1.2.0",
            "_view_name": "LayoutView",
            "align_content": null,
            "align_items": null,
            "align_self": null,
            "border": null,
            "bottom": null,
            "display": null,
            "flex": null,
            "flex_flow": null,
            "grid_area": null,
            "grid_auto_columns": null,
            "grid_auto_flow": null,
            "grid_auto_rows": null,
            "grid_column": null,
            "grid_gap": null,
            "grid_row": null,
            "grid_template_areas": null,
            "grid_template_columns": null,
            "grid_template_rows": null,
            "height": null,
            "justify_content": null,
            "justify_items": null,
            "left": null,
            "margin": null,
            "max_height": null,
            "max_width": null,
            "min_height": null,
            "min_width": null,
            "object_fit": null,
            "object_position": null,
            "order": null,
            "overflow": null,
            "overflow_x": null,
            "overflow_y": null,
            "padding": null,
            "right": null,
            "top": null,
            "visibility": null,
            "width": null
          }
        },
        "7c0ee8b305dd4370b43bdb905f53fa77": {
          "model_module": "@jupyter-widgets/controls",
          "model_module_version": "1.5.0",
          "model_name": "HBoxModel",
          "state": {
            "_dom_classes": [],
            "_model_module": "@jupyter-widgets/controls",
            "_model_module_version": "1.5.0",
            "_model_name": "HBoxModel",
            "_view_count": null,
            "_view_module": "@jupyter-widgets/controls",
            "_view_module_version": "1.5.0",
            "_view_name": "HBoxView",
            "box_style": "",
            "children": [
              "IPY_MODEL_318ed6d123034a4190fbce9d62f46109",
              "IPY_MODEL_c1fd2289d0c740cf8053bfed5d192534",
              "IPY_MODEL_feb5b394e8b14fa89f165179f6a1a207"
            ],
            "layout": "IPY_MODEL_7ba94b893ec14228bf5524ae1f685d0c"
          }
        },
        "7dab2768a384420cbd0d99f7a105697b": {
          "model_module": "@jupyter-widgets/base",
          "model_module_version": "1.2.0",
          "model_name": "LayoutModel",
          "state": {
            "_model_module": "@jupyter-widgets/base",
            "_model_module_version": "1.2.0",
            "_model_name": "LayoutModel",
            "_view_count": null,
            "_view_module": "@jupyter-widgets/base",
            "_view_module_version": "1.2.0",
            "_view_name": "LayoutView",
            "align_content": null,
            "align_items": null,
            "align_self": null,
            "border": null,
            "bottom": null,
            "display": null,
            "flex": null,
            "flex_flow": null,
            "grid_area": null,
            "grid_auto_columns": null,
            "grid_auto_flow": null,
            "grid_auto_rows": null,
            "grid_column": null,
            "grid_gap": null,
            "grid_row": null,
            "grid_template_areas": null,
            "grid_template_columns": null,
            "grid_template_rows": null,
            "height": null,
            "justify_content": null,
            "justify_items": null,
            "left": null,
            "margin": null,
            "max_height": null,
            "max_width": null,
            "min_height": null,
            "min_width": null,
            "object_fit": null,
            "object_position": null,
            "order": null,
            "overflow": null,
            "overflow_x": null,
            "overflow_y": null,
            "padding": null,
            "right": null,
            "top": null,
            "visibility": null,
            "width": null
          }
        },
        "7f76787372e24db4af66a063c1cbdadc": {
          "model_module": "@jupyter-widgets/controls",
          "model_module_version": "1.5.0",
          "model_name": "HTMLModel",
          "state": {
            "_dom_classes": [],
            "_model_module": "@jupyter-widgets/controls",
            "_model_module_version": "1.5.0",
            "_model_name": "HTMLModel",
            "_view_count": null,
            "_view_module": "@jupyter-widgets/controls",
            "_view_module_version": "1.5.0",
            "_view_name": "HTMLView",
            "description": "",
            "description_tooltip": null,
            "layout": "IPY_MODEL_7fc14d78df7b4ef79ddd068e4a9fa324",
            "placeholder": "​",
            "style": "IPY_MODEL_04cc48ccff614467a0beffad45e439fc",
            "value": " 28.0/28.0 [00:00&lt;00:00, 142B/s]"
          }
        },
        "7fc14d78df7b4ef79ddd068e4a9fa324": {
          "model_module": "@jupyter-widgets/base",
          "model_module_version": "1.2.0",
          "model_name": "LayoutModel",
          "state": {
            "_model_module": "@jupyter-widgets/base",
            "_model_module_version": "1.2.0",
            "_model_name": "LayoutModel",
            "_view_count": null,
            "_view_module": "@jupyter-widgets/base",
            "_view_module_version": "1.2.0",
            "_view_name": "LayoutView",
            "align_content": null,
            "align_items": null,
            "align_self": null,
            "border": null,
            "bottom": null,
            "display": null,
            "flex": null,
            "flex_flow": null,
            "grid_area": null,
            "grid_auto_columns": null,
            "grid_auto_flow": null,
            "grid_auto_rows": null,
            "grid_column": null,
            "grid_gap": null,
            "grid_row": null,
            "grid_template_areas": null,
            "grid_template_columns": null,
            "grid_template_rows": null,
            "height": null,
            "justify_content": null,
            "justify_items": null,
            "left": null,
            "margin": null,
            "max_height": null,
            "max_width": null,
            "min_height": null,
            "min_width": null,
            "object_fit": null,
            "object_position": null,
            "order": null,
            "overflow": null,
            "overflow_x": null,
            "overflow_y": null,
            "padding": null,
            "right": null,
            "top": null,
            "visibility": null,
            "width": null
          }
        },
        "85e2d7b726e84432a89d05c58142be27": {
          "model_module": "@jupyter-widgets/controls",
          "model_module_version": "1.5.0",
          "model_name": "ProgressStyleModel",
          "state": {
            "_model_module": "@jupyter-widgets/controls",
            "_model_module_version": "1.5.0",
            "_model_name": "ProgressStyleModel",
            "_view_count": null,
            "_view_module": "@jupyter-widgets/base",
            "_view_module_version": "1.2.0",
            "_view_name": "StyleView",
            "bar_color": null,
            "description_width": ""
          }
        },
        "8b262df523ab4e4d92a907adb506b8be": {
          "model_module": "@jupyter-widgets/controls",
          "model_module_version": "1.5.0",
          "model_name": "DescriptionStyleModel",
          "state": {
            "_model_module": "@jupyter-widgets/controls",
            "_model_module_version": "1.5.0",
            "_model_name": "DescriptionStyleModel",
            "_view_count": null,
            "_view_module": "@jupyter-widgets/base",
            "_view_module_version": "1.2.0",
            "_view_name": "StyleView",
            "description_width": ""
          }
        },
        "90ba6224654d40ca81bfd5b506c5a240": {
          "model_module": "@jupyter-widgets/controls",
          "model_module_version": "1.5.0",
          "model_name": "DescriptionStyleModel",
          "state": {
            "_model_module": "@jupyter-widgets/controls",
            "_model_module_version": "1.5.0",
            "_model_name": "DescriptionStyleModel",
            "_view_count": null,
            "_view_module": "@jupyter-widgets/base",
            "_view_module_version": "1.2.0",
            "_view_name": "StyleView",
            "description_width": ""
          }
        },
        "94ab722d0bf94e75ad3d271519542c40": {
          "model_module": "@jupyter-widgets/controls",
          "model_module_version": "1.5.0",
          "model_name": "HTMLModel",
          "state": {
            "_dom_classes": [],
            "_model_module": "@jupyter-widgets/controls",
            "_model_module_version": "1.5.0",
            "_model_name": "HTMLModel",
            "_view_count": null,
            "_view_module": "@jupyter-widgets/controls",
            "_view_module_version": "1.5.0",
            "_view_name": "HTMLView",
            "description": "",
            "description_tooltip": null,
            "layout": "IPY_MODEL_28bca8beb0024c088e390ce7c4450873",
            "placeholder": "​",
            "style": "IPY_MODEL_5c978b5490c34e0f82a1115332f2ad93",
            "value": " 363M/363M [00:15&lt;00:00, 47.5MB/s]"
          }
        },
        "ab98c43b6c3749d087bf75f7d5b11589": {
          "model_module": "@jupyter-widgets/base",
          "model_module_version": "1.2.0",
          "model_name": "LayoutModel",
          "state": {
            "_model_module": "@jupyter-widgets/base",
            "_model_module_version": "1.2.0",
            "_model_name": "LayoutModel",
            "_view_count": null,
            "_view_module": "@jupyter-widgets/base",
            "_view_module_version": "1.2.0",
            "_view_name": "LayoutView",
            "align_content": null,
            "align_items": null,
            "align_self": null,
            "border": null,
            "bottom": null,
            "display": null,
            "flex": null,
            "flex_flow": null,
            "grid_area": null,
            "grid_auto_columns": null,
            "grid_auto_flow": null,
            "grid_auto_rows": null,
            "grid_column": null,
            "grid_gap": null,
            "grid_row": null,
            "grid_template_areas": null,
            "grid_template_columns": null,
            "grid_template_rows": null,
            "height": null,
            "justify_content": null,
            "justify_items": null,
            "left": null,
            "margin": null,
            "max_height": null,
            "max_width": null,
            "min_height": null,
            "min_width": null,
            "object_fit": null,
            "object_position": null,
            "order": null,
            "overflow": null,
            "overflow_x": null,
            "overflow_y": null,
            "padding": null,
            "right": null,
            "top": null,
            "visibility": null,
            "width": null
          }
        },
        "b6297c05930c4ceeb4609191a29586f0": {
          "model_module": "@jupyter-widgets/controls",
          "model_module_version": "1.5.0",
          "model_name": "HTMLModel",
          "state": {
            "_dom_classes": [],
            "_model_module": "@jupyter-widgets/controls",
            "_model_module_version": "1.5.0",
            "_model_name": "HTMLModel",
            "_view_count": null,
            "_view_module": "@jupyter-widgets/controls",
            "_view_module_version": "1.5.0",
            "_view_name": "HTMLView",
            "description": "",
            "description_tooltip": null,
            "layout": "IPY_MODEL_785397b3ec5b44d7a0b3cb353b41ce0a",
            "placeholder": "​",
            "style": "IPY_MODEL_b747229a3e3b4f96a28ead90e2c15da0",
            "value": " 483/483 [00:00&lt;00:00, 2.34kB/s]"
          }
        },
        "b747229a3e3b4f96a28ead90e2c15da0": {
          "model_module": "@jupyter-widgets/controls",
          "model_module_version": "1.5.0",
          "model_name": "DescriptionStyleModel",
          "state": {
            "_model_module": "@jupyter-widgets/controls",
            "_model_module_version": "1.5.0",
            "_model_name": "DescriptionStyleModel",
            "_view_count": null,
            "_view_module": "@jupyter-widgets/base",
            "_view_module_version": "1.2.0",
            "_view_name": "StyleView",
            "description_width": ""
          }
        },
        "c1fd2289d0c740cf8053bfed5d192534": {
          "model_module": "@jupyter-widgets/controls",
          "model_module_version": "1.5.0",
          "model_name": "FloatProgressModel",
          "state": {
            "_dom_classes": [],
            "_model_module": "@jupyter-widgets/controls",
            "_model_module_version": "1.5.0",
            "_model_name": "FloatProgressModel",
            "_view_count": null,
            "_view_module": "@jupyter-widgets/controls",
            "_view_module_version": "1.5.0",
            "_view_name": "ProgressView",
            "bar_style": "success",
            "description": "",
            "description_tooltip": null,
            "layout": "IPY_MODEL_111b0247036446ceb35e9f53e9539ad8",
            "max": 466062,
            "min": 0,
            "orientation": "horizontal",
            "style": "IPY_MODEL_f77d5aa71af64783a526a71bd6779abb",
            "value": 466062
          }
        },
        "c283599f48604804bdf0894750c52269": {
          "model_module": "@jupyter-widgets/controls",
          "model_module_version": "1.5.0",
          "model_name": "FloatProgressModel",
          "state": {
            "_dom_classes": [],
            "_model_module": "@jupyter-widgets/controls",
            "_model_module_version": "1.5.0",
            "_model_name": "FloatProgressModel",
            "_view_count": null,
            "_view_module": "@jupyter-widgets/controls",
            "_view_module_version": "1.5.0",
            "_view_name": "ProgressView",
            "bar_style": "success",
            "description": "",
            "description_tooltip": null,
            "layout": "IPY_MODEL_5e0f8230323f489da914292426a7e91a",
            "max": 28,
            "min": 0,
            "orientation": "horizontal",
            "style": "IPY_MODEL_1cb1396df32749188e5150dbefa3bbd2",
            "value": 28
          }
        },
        "c790538904a14ccba718572fcd6a1b7c": {
          "model_module": "@jupyter-widgets/base",
          "model_module_version": "1.2.0",
          "model_name": "LayoutModel",
          "state": {
            "_model_module": "@jupyter-widgets/base",
            "_model_module_version": "1.2.0",
            "_model_name": "LayoutModel",
            "_view_count": null,
            "_view_module": "@jupyter-widgets/base",
            "_view_module_version": "1.2.0",
            "_view_name": "LayoutView",
            "align_content": null,
            "align_items": null,
            "align_self": null,
            "border": null,
            "bottom": null,
            "display": null,
            "flex": null,
            "flex_flow": null,
            "grid_area": null,
            "grid_auto_columns": null,
            "grid_auto_flow": null,
            "grid_auto_rows": null,
            "grid_column": null,
            "grid_gap": null,
            "grid_row": null,
            "grid_template_areas": null,
            "grid_template_columns": null,
            "grid_template_rows": null,
            "height": null,
            "justify_content": null,
            "justify_items": null,
            "left": null,
            "margin": null,
            "max_height": null,
            "max_width": null,
            "min_height": null,
            "min_width": null,
            "object_fit": null,
            "object_position": null,
            "order": null,
            "overflow": null,
            "overflow_x": null,
            "overflow_y": null,
            "padding": null,
            "right": null,
            "top": null,
            "visibility": null,
            "width": null
          }
        },
        "ca2de380bd3140469a636b96aa6e42c4": {
          "model_module": "@jupyter-widgets/controls",
          "model_module_version": "1.5.0",
          "model_name": "DescriptionStyleModel",
          "state": {
            "_model_module": "@jupyter-widgets/controls",
            "_model_module_version": "1.5.0",
            "_model_name": "DescriptionStyleModel",
            "_view_count": null,
            "_view_module": "@jupyter-widgets/base",
            "_view_module_version": "1.2.0",
            "_view_name": "StyleView",
            "description_width": ""
          }
        },
        "cc13ae4d678d41b5ba927c55d8fcbc69": {
          "model_module": "@jupyter-widgets/base",
          "model_module_version": "1.2.0",
          "model_name": "LayoutModel",
          "state": {
            "_model_module": "@jupyter-widgets/base",
            "_model_module_version": "1.2.0",
            "_model_name": "LayoutModel",
            "_view_count": null,
            "_view_module": "@jupyter-widgets/base",
            "_view_module_version": "1.2.0",
            "_view_name": "LayoutView",
            "align_content": null,
            "align_items": null,
            "align_self": null,
            "border": null,
            "bottom": null,
            "display": null,
            "flex": null,
            "flex_flow": null,
            "grid_area": null,
            "grid_auto_columns": null,
            "grid_auto_flow": null,
            "grid_auto_rows": null,
            "grid_column": null,
            "grid_gap": null,
            "grid_row": null,
            "grid_template_areas": null,
            "grid_template_columns": null,
            "grid_template_rows": null,
            "height": null,
            "justify_content": null,
            "justify_items": null,
            "left": null,
            "margin": null,
            "max_height": null,
            "max_width": null,
            "min_height": null,
            "min_width": null,
            "object_fit": null,
            "object_position": null,
            "order": null,
            "overflow": null,
            "overflow_x": null,
            "overflow_y": null,
            "padding": null,
            "right": null,
            "top": null,
            "visibility": null,
            "width": null
          }
        },
        "cd25d439bbf34ec68b32ff5d972f1e21": {
          "model_module": "@jupyter-widgets/base",
          "model_module_version": "1.2.0",
          "model_name": "LayoutModel",
          "state": {
            "_model_module": "@jupyter-widgets/base",
            "_model_module_version": "1.2.0",
            "_model_name": "LayoutModel",
            "_view_count": null,
            "_view_module": "@jupyter-widgets/base",
            "_view_module_version": "1.2.0",
            "_view_name": "LayoutView",
            "align_content": null,
            "align_items": null,
            "align_self": null,
            "border": null,
            "bottom": null,
            "display": null,
            "flex": null,
            "flex_flow": null,
            "grid_area": null,
            "grid_auto_columns": null,
            "grid_auto_flow": null,
            "grid_auto_rows": null,
            "grid_column": null,
            "grid_gap": null,
            "grid_row": null,
            "grid_template_areas": null,
            "grid_template_columns": null,
            "grid_template_rows": null,
            "height": null,
            "justify_content": null,
            "justify_items": null,
            "left": null,
            "margin": null,
            "max_height": null,
            "max_width": null,
            "min_height": null,
            "min_width": null,
            "object_fit": null,
            "object_position": null,
            "order": null,
            "overflow": null,
            "overflow_x": null,
            "overflow_y": null,
            "padding": null,
            "right": null,
            "top": null,
            "visibility": null,
            "width": null
          }
        },
        "cfd992c3ce154a77af97efbc3089da63": {
          "model_module": "@jupyter-widgets/controls",
          "model_module_version": "1.5.0",
          "model_name": "HTMLModel",
          "state": {
            "_dom_classes": [],
            "_model_module": "@jupyter-widgets/controls",
            "_model_module_version": "1.5.0",
            "_model_name": "HTMLModel",
            "_view_count": null,
            "_view_module": "@jupyter-widgets/controls",
            "_view_module_version": "1.5.0",
            "_view_name": "HTMLView",
            "description": "",
            "description_tooltip": null,
            "layout": "IPY_MODEL_1c99dc5488a7438a86762851edb03b66",
            "placeholder": "​",
            "style": "IPY_MODEL_17e739cc184a4f88a7f816c1f6d4f9a5",
            "value": "Downloading: 100%"
          }
        },
        "d5b9e0614bc54f0fa439b1ef6f15aa51": {
          "model_module": "@jupyter-widgets/base",
          "model_module_version": "1.2.0",
          "model_name": "LayoutModel",
          "state": {
            "_model_module": "@jupyter-widgets/base",
            "_model_module_version": "1.2.0",
            "_model_name": "LayoutModel",
            "_view_count": null,
            "_view_module": "@jupyter-widgets/base",
            "_view_module_version": "1.2.0",
            "_view_name": "LayoutView",
            "align_content": null,
            "align_items": null,
            "align_self": null,
            "border": null,
            "bottom": null,
            "display": null,
            "flex": null,
            "flex_flow": null,
            "grid_area": null,
            "grid_auto_columns": null,
            "grid_auto_flow": null,
            "grid_auto_rows": null,
            "grid_column": null,
            "grid_gap": null,
            "grid_row": null,
            "grid_template_areas": null,
            "grid_template_columns": null,
            "grid_template_rows": null,
            "height": null,
            "justify_content": null,
            "justify_items": null,
            "left": null,
            "margin": null,
            "max_height": null,
            "max_width": null,
            "min_height": null,
            "min_width": null,
            "object_fit": null,
            "object_position": null,
            "order": null,
            "overflow": null,
            "overflow_x": null,
            "overflow_y": null,
            "padding": null,
            "right": null,
            "top": null,
            "visibility": null,
            "width": null
          }
        },
        "d751b89ca38e41c3ab8b3837efda5866": {
          "model_module": "@jupyter-widgets/base",
          "model_module_version": "1.2.0",
          "model_name": "LayoutModel",
          "state": {
            "_model_module": "@jupyter-widgets/base",
            "_model_module_version": "1.2.0",
            "_model_name": "LayoutModel",
            "_view_count": null,
            "_view_module": "@jupyter-widgets/base",
            "_view_module_version": "1.2.0",
            "_view_name": "LayoutView",
            "align_content": null,
            "align_items": null,
            "align_self": null,
            "border": null,
            "bottom": null,
            "display": null,
            "flex": null,
            "flex_flow": null,
            "grid_area": null,
            "grid_auto_columns": null,
            "grid_auto_flow": null,
            "grid_auto_rows": null,
            "grid_column": null,
            "grid_gap": null,
            "grid_row": null,
            "grid_template_areas": null,
            "grid_template_columns": null,
            "grid_template_rows": null,
            "height": null,
            "justify_content": null,
            "justify_items": null,
            "left": null,
            "margin": null,
            "max_height": null,
            "max_width": null,
            "min_height": null,
            "min_width": null,
            "object_fit": null,
            "object_position": null,
            "order": null,
            "overflow": null,
            "overflow_x": null,
            "overflow_y": null,
            "padding": null,
            "right": null,
            "top": null,
            "visibility": null,
            "width": null
          }
        },
        "e74dc55a6aa840399c6a40fc79bb01d7": {
          "model_module": "@jupyter-widgets/base",
          "model_module_version": "1.2.0",
          "model_name": "LayoutModel",
          "state": {
            "_model_module": "@jupyter-widgets/base",
            "_model_module_version": "1.2.0",
            "_model_name": "LayoutModel",
            "_view_count": null,
            "_view_module": "@jupyter-widgets/base",
            "_view_module_version": "1.2.0",
            "_view_name": "LayoutView",
            "align_content": null,
            "align_items": null,
            "align_self": null,
            "border": null,
            "bottom": null,
            "display": null,
            "flex": null,
            "flex_flow": null,
            "grid_area": null,
            "grid_auto_columns": null,
            "grid_auto_flow": null,
            "grid_auto_rows": null,
            "grid_column": null,
            "grid_gap": null,
            "grid_row": null,
            "grid_template_areas": null,
            "grid_template_columns": null,
            "grid_template_rows": null,
            "height": null,
            "justify_content": null,
            "justify_items": null,
            "left": null,
            "margin": null,
            "max_height": null,
            "max_width": null,
            "min_height": null,
            "min_width": null,
            "object_fit": null,
            "object_position": null,
            "order": null,
            "overflow": null,
            "overflow_x": null,
            "overflow_y": null,
            "padding": null,
            "right": null,
            "top": null,
            "visibility": null,
            "width": null
          }
        },
        "e88ed43ef11f4f629ecbafdf6bed8856": {
          "model_module": "@jupyter-widgets/controls",
          "model_module_version": "1.5.0",
          "model_name": "FloatProgressModel",
          "state": {
            "_dom_classes": [],
            "_model_module": "@jupyter-widgets/controls",
            "_model_module_version": "1.5.0",
            "_model_name": "FloatProgressModel",
            "_view_count": null,
            "_view_module": "@jupyter-widgets/controls",
            "_view_module_version": "1.5.0",
            "_view_name": "ProgressView",
            "bar_style": "success",
            "description": "",
            "description_tooltip": null,
            "layout": "IPY_MODEL_56ba5461bcb246b2a5e064dd9fa25cde",
            "max": 1,
            "min": 0,
            "orientation": "horizontal",
            "style": "IPY_MODEL_10bb0ce02e59437890b04043bd237ddf",
            "value": 0
          }
        },
        "e9a5f0ea7ba54163b30b62d7865b603a": {
          "model_module": "@jupyter-widgets/controls",
          "model_module_version": "1.5.0",
          "model_name": "DescriptionStyleModel",
          "state": {
            "_model_module": "@jupyter-widgets/controls",
            "_model_module_version": "1.5.0",
            "_model_name": "DescriptionStyleModel",
            "_view_count": null,
            "_view_module": "@jupyter-widgets/base",
            "_view_module_version": "1.2.0",
            "_view_name": "StyleView",
            "description_width": ""
          }
        },
        "e9dcd640a301493a85b85af9a8f0ef58": {
          "model_module": "@jupyter-widgets/base",
          "model_module_version": "1.2.0",
          "model_name": "LayoutModel",
          "state": {
            "_model_module": "@jupyter-widgets/base",
            "_model_module_version": "1.2.0",
            "_model_name": "LayoutModel",
            "_view_count": null,
            "_view_module": "@jupyter-widgets/base",
            "_view_module_version": "1.2.0",
            "_view_name": "LayoutView",
            "align_content": null,
            "align_items": null,
            "align_self": null,
            "border": null,
            "bottom": null,
            "display": null,
            "flex": null,
            "flex_flow": null,
            "grid_area": null,
            "grid_auto_columns": null,
            "grid_auto_flow": null,
            "grid_auto_rows": null,
            "grid_column": null,
            "grid_gap": null,
            "grid_row": null,
            "grid_template_areas": null,
            "grid_template_columns": null,
            "grid_template_rows": null,
            "height": null,
            "justify_content": null,
            "justify_items": null,
            "left": null,
            "margin": null,
            "max_height": null,
            "max_width": null,
            "min_height": null,
            "min_width": null,
            "object_fit": null,
            "object_position": null,
            "order": null,
            "overflow": null,
            "overflow_x": null,
            "overflow_y": null,
            "padding": null,
            "right": null,
            "top": null,
            "visibility": null,
            "width": null
          }
        },
        "eb06c3f87ec34352971f282d86a215d9": {
          "model_module": "@jupyter-widgets/controls",
          "model_module_version": "1.5.0",
          "model_name": "HTMLModel",
          "state": {
            "_dom_classes": [],
            "_model_module": "@jupyter-widgets/controls",
            "_model_module_version": "1.5.0",
            "_model_name": "HTMLModel",
            "_view_count": null,
            "_view_module": "@jupyter-widgets/controls",
            "_view_module_version": "1.5.0",
            "_view_name": "HTMLView",
            "description": "",
            "description_tooltip": null,
            "layout": "IPY_MODEL_d751b89ca38e41c3ab8b3837efda5866",
            "placeholder": "​",
            "style": "IPY_MODEL_ca2de380bd3140469a636b96aa6e42c4",
            "value": " 0/0 [00:00&lt;?, ?it/s]"
          }
        },
        "ed8711700508458d95b928552eddeb16": {
          "model_module": "@jupyter-widgets/controls",
          "model_module_version": "1.5.0",
          "model_name": "DescriptionStyleModel",
          "state": {
            "_model_module": "@jupyter-widgets/controls",
            "_model_module_version": "1.5.0",
            "_model_name": "DescriptionStyleModel",
            "_view_count": null,
            "_view_module": "@jupyter-widgets/base",
            "_view_module_version": "1.2.0",
            "_view_name": "StyleView",
            "description_width": ""
          }
        },
        "eee4c3166b6f48099dc3018a7f60e7db": {
          "model_module": "@jupyter-widgets/controls",
          "model_module_version": "1.5.0",
          "model_name": "HTMLModel",
          "state": {
            "_dom_classes": [],
            "_model_module": "@jupyter-widgets/controls",
            "_model_module_version": "1.5.0",
            "_model_name": "HTMLModel",
            "_view_count": null,
            "_view_module": "@jupyter-widgets/controls",
            "_view_module_version": "1.5.0",
            "_view_name": "HTMLView",
            "description": "",
            "description_tooltip": null,
            "layout": "IPY_MODEL_cd25d439bbf34ec68b32ff5d972f1e21",
            "placeholder": "​",
            "style": "IPY_MODEL_90ba6224654d40ca81bfd5b506c5a240",
            "value": "Downloading: 100%"
          }
        },
        "f5802f802cf2482fa9cb6a6636da52a0": {
          "model_module": "@jupyter-widgets/controls",
          "model_module_version": "1.5.0",
          "model_name": "HBoxModel",
          "state": {
            "_dom_classes": [],
            "_model_module": "@jupyter-widgets/controls",
            "_model_module_version": "1.5.0",
            "_model_name": "HBoxModel",
            "_view_count": null,
            "_view_module": "@jupyter-widgets/controls",
            "_view_module_version": "1.5.0",
            "_view_name": "HBoxView",
            "box_style": "",
            "children": [
              "IPY_MODEL_eee4c3166b6f48099dc3018a7f60e7db",
              "IPY_MODEL_705db5fecee543c8ac1d1c80596dfeb8",
              "IPY_MODEL_94ab722d0bf94e75ad3d271519542c40"
            ],
            "layout": "IPY_MODEL_7dab2768a384420cbd0d99f7a105697b"
          }
        },
        "f77d5aa71af64783a526a71bd6779abb": {
          "model_module": "@jupyter-widgets/controls",
          "model_module_version": "1.5.0",
          "model_name": "ProgressStyleModel",
          "state": {
            "_model_module": "@jupyter-widgets/controls",
            "_model_module_version": "1.5.0",
            "_model_name": "ProgressStyleModel",
            "_view_count": null,
            "_view_module": "@jupyter-widgets/base",
            "_view_module_version": "1.2.0",
            "_view_name": "StyleView",
            "bar_color": null,
            "description_width": ""
          }
        },
        "fa565972473d4bc3a0a6705be76cd6b6": {
          "model_module": "@jupyter-widgets/controls",
          "model_module_version": "1.5.0",
          "model_name": "HTMLModel",
          "state": {
            "_dom_classes": [],
            "_model_module": "@jupyter-widgets/controls",
            "_model_module_version": "1.5.0",
            "_model_name": "HTMLModel",
            "_view_count": null,
            "_view_module": "@jupyter-widgets/controls",
            "_view_module_version": "1.5.0",
            "_view_name": "HTMLView",
            "description": "",
            "description_tooltip": null,
            "layout": "IPY_MODEL_2bce496a446446b0a5dc02086200a0f9",
            "placeholder": "​",
            "style": "IPY_MODEL_e9a5f0ea7ba54163b30b62d7865b603a",
            "value": "Downloading: 100%"
          }
        },
        "feb5b394e8b14fa89f165179f6a1a207": {
          "model_module": "@jupyter-widgets/controls",
          "model_module_version": "1.5.0",
          "model_name": "HTMLModel",
          "state": {
            "_dom_classes": [],
            "_model_module": "@jupyter-widgets/controls",
            "_model_module_version": "1.5.0",
            "_model_name": "HTMLModel",
            "_view_count": null,
            "_view_module": "@jupyter-widgets/controls",
            "_view_module_version": "1.5.0",
            "_view_name": "HTMLView",
            "description": "",
            "description_tooltip": null,
            "layout": "IPY_MODEL_d5b9e0614bc54f0fa439b1ef6f15aa51",
            "placeholder": "​",
            "style": "IPY_MODEL_72cc51b3690a4a4a8127c01d55f86a82",
            "value": " 466k/466k [00:00&lt;00:00, 1.07MB/s]"
          }
        }
      }
    }
  },
  "nbformat": 4,
  "nbformat_minor": 0
}
