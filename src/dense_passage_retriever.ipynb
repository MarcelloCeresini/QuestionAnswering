{
  "cells": [
    {
      "cell_type": "code",
      "execution_count": 1,
      "metadata": {
        "id": "8oZkaIoI1esj",
        "colab": {
          "base_uri": "https://localhost:8080/"
        },
        "outputId": "2c29b268-5e0f-4f01-8594-8baa2338426f"
      },
      "outputs": [
        {
          "output_type": "stream",
          "name": "stdout",
          "text": [
            "Collecting transformers\n",
            "  Downloading transformers-4.18.0-py3-none-any.whl (4.0 MB)\n",
            "\u001b[K     |████████████████████████████████| 4.0 MB 5.2 MB/s \n",
            "\u001b[?25hCollecting huggingface-hub<1.0,>=0.1.0\n",
            "  Downloading huggingface_hub-0.5.1-py3-none-any.whl (77 kB)\n",
            "\u001b[K     |████████████████████████████████| 77 kB 4.6 MB/s \n",
            "\u001b[?25hRequirement already satisfied: regex!=2019.12.17 in /usr/local/lib/python3.7/dist-packages (from transformers) (2019.12.20)\n",
            "Requirement already satisfied: numpy>=1.17 in /usr/local/lib/python3.7/dist-packages (from transformers) (1.21.6)\n",
            "Requirement already satisfied: filelock in /usr/local/lib/python3.7/dist-packages (from transformers) (3.6.0)\n",
            "Requirement already satisfied: requests in /usr/local/lib/python3.7/dist-packages (from transformers) (2.23.0)\n",
            "Collecting tokenizers!=0.11.3,<0.13,>=0.11.1\n",
            "  Downloading tokenizers-0.12.1-cp37-cp37m-manylinux_2_12_x86_64.manylinux2010_x86_64.whl (6.6 MB)\n",
            "\u001b[K     |████████████████████████████████| 6.6 MB 13.0 MB/s \n",
            "\u001b[?25hRequirement already satisfied: packaging>=20.0 in /usr/local/lib/python3.7/dist-packages (from transformers) (21.3)\n",
            "Requirement already satisfied: importlib-metadata in /usr/local/lib/python3.7/dist-packages (from transformers) (4.11.3)\n",
            "Collecting sacremoses\n",
            "  Downloading sacremoses-0.0.49-py3-none-any.whl (895 kB)\n",
            "\u001b[K     |████████████████████████████████| 895 kB 46.1 MB/s \n",
            "\u001b[?25hCollecting pyyaml>=5.1\n",
            "  Downloading PyYAML-6.0-cp37-cp37m-manylinux_2_5_x86_64.manylinux1_x86_64.manylinux_2_12_x86_64.manylinux2010_x86_64.whl (596 kB)\n",
            "\u001b[K     |████████████████████████████████| 596 kB 22.1 MB/s \n",
            "\u001b[?25hRequirement already satisfied: tqdm>=4.27 in /usr/local/lib/python3.7/dist-packages (from transformers) (4.64.0)\n",
            "Requirement already satisfied: typing-extensions>=3.7.4.3 in /usr/local/lib/python3.7/dist-packages (from huggingface-hub<1.0,>=0.1.0->transformers) (4.2.0)\n",
            "Requirement already satisfied: pyparsing!=3.0.5,>=2.0.2 in /usr/local/lib/python3.7/dist-packages (from packaging>=20.0->transformers) (3.0.8)\n",
            "Requirement already satisfied: zipp>=0.5 in /usr/local/lib/python3.7/dist-packages (from importlib-metadata->transformers) (3.8.0)\n",
            "Requirement already satisfied: chardet<4,>=3.0.2 in /usr/local/lib/python3.7/dist-packages (from requests->transformers) (3.0.4)\n",
            "Requirement already satisfied: certifi>=2017.4.17 in /usr/local/lib/python3.7/dist-packages (from requests->transformers) (2021.10.8)\n",
            "Requirement already satisfied: urllib3!=1.25.0,!=1.25.1,<1.26,>=1.21.1 in /usr/local/lib/python3.7/dist-packages (from requests->transformers) (1.24.3)\n",
            "Requirement already satisfied: idna<3,>=2.5 in /usr/local/lib/python3.7/dist-packages (from requests->transformers) (2.10)\n",
            "Requirement already satisfied: joblib in /usr/local/lib/python3.7/dist-packages (from sacremoses->transformers) (1.1.0)\n",
            "Requirement already satisfied: six in /usr/local/lib/python3.7/dist-packages (from sacremoses->transformers) (1.15.0)\n",
            "Requirement already satisfied: click in /usr/local/lib/python3.7/dist-packages (from sacremoses->transformers) (7.1.2)\n",
            "Installing collected packages: pyyaml, tokenizers, sacremoses, huggingface-hub, transformers\n",
            "  Attempting uninstall: pyyaml\n",
            "    Found existing installation: PyYAML 3.13\n",
            "    Uninstalling PyYAML-3.13:\n",
            "      Successfully uninstalled PyYAML-3.13\n",
            "Successfully installed huggingface-hub-0.5.1 pyyaml-6.0 sacremoses-0.0.49 tokenizers-0.12.1 transformers-4.18.0\n",
            "Cloning into 'QuestionAnswering'...\n",
            "warning: redirecting to https://github.com/MarcelloCeresini/QuestionAnswering.git/\n",
            "remote: Enumerating objects: 918, done.\u001b[K\n",
            "remote: Counting objects: 100% (88/88), done.\u001b[K\n",
            "remote: Compressing objects: 100% (60/60), done.\u001b[K\n",
            "remote: Total 918 (delta 57), reused 31 (delta 28), pack-reused 830\u001b[K\n",
            "Receiving objects: 100% (918/918), 28.91 MiB | 8.26 MiB/s, done.\n",
            "Resolving deltas: 100% (554/554), done.\n",
            "Checking out files: 100% (48/48), done.\n",
            "/content/QuestionAnswering/src\n"
          ]
        }
      ],
      "source": [
        "username = 'MarcelloCeresini'\n",
        "repository = 'QuestionAnswering'\n",
        "\n",
        "# COLAB ONLY CELLS\n",
        "try:\n",
        "    import google.colab\n",
        "    IN_COLAB = True\n",
        "    !pip3 install transformers\n",
        "    !git clone https://www.github.com/{username}/{repository}.git\n",
        "    #from google.colab import drive\n",
        "    #drive.mount('/content/drive/')\n",
        "    %cd /content/QuestionAnswering/src\n",
        "    using_TPU = True    # If we are running this notebook on Colab, use a TPU\n",
        "except:\n",
        "    IN_COLAB = False\n",
        "    using_TPU = False   # If you're not on Colab you probably won't have access to a TPU"
      ]
    },
    {
      "cell_type": "markdown",
      "metadata": {
        "id": "nmXDnbCt1ess"
      },
      "source": [
        "# Description"
      ]
    },
    {
      "cell_type": "markdown",
      "metadata": {
        "id": "4tIdZRSl1esu"
      },
      "source": [
        "In this notebook, we will try to implement the architecture detailed in [Dense Passage Retrieval for Open-Domain Question Answering](https://arxiv.org/pdf/2004.04906.pdf). \n",
        "\n",
        "The idea is that we have a corpus of documents $C = {p_1, p_2, \\dots, p_M}$ where each passage $p_i$ can be viewed as a sequence of tokens $w_1^{(i)}, w_2^{(i)}, \\dots, w_{|p_i|}^{(i)}$ and given a question $q$ we want to find the sequence of tokens $w_s^{(i)}, w_{s+1}^{(i)}, \\dots, w_{e}^{(i)}$ from one of the passage $i$ that can answer the question.\n",
        "\n",
        "In order to find the passage $i$ we need an efficient **Retriever** (i.e. a function $R: (q, C) \\rightarrow C_F$ where $C_F$ is a very small set of $k$ documents that have a high correlation with the query.)\n",
        "\n",
        "In the Tf-Idf example, the retriever was simply a function that returned the top 5 scores obtained by computing the vector cosine similarity between the query and all other documents. The problem with this approach is that it is not very efficient. Tf-Idf is a **sparse** document/query representation, thus computing a multitude of dot products between these very long vectors can be expensive.\n",
        "\n",
        "The paper cited above proposes a **dense** representation instead. It uses a Dense Encoder $E_P$ which maps all paragraphs to $d$-dimensional vectors. These vectors are stored in a database so that they can be efficiently retrieved. \n",
        "\n",
        "At run-time, another Dense Encoder is used $E_Q$ which maps the input question to a vector with the same dimensionality $d$. Then, a similarity score is computed between the two representations:\n",
        "\n",
        "$sim(p,q) = E_Q(q)^\\intercal E_P(p)$\n",
        "\n",
        "In the paper, $E_Q$ and $E_P$ are two independent BERT transformers and the $d$-dimensional vector is the **output at the $\\texttt{[CLS]}$ token** (so, $d = 768$).\n",
        "- This leaves open the possibility to use a larger dimensionality (eg. concatenating the output at multiple blocks like we did for the QA task).\n",
        "\n",
        "The $d$-dimensional representations of the $M$ passages are indexed using [FAISS](https://github.com/facebookresearch/faiss), an efficient, open-source library for similarity search and clustering of dense vectors developed at Facebook AI. At run-time, we simply compute $v_q = E_Q(q)$ and retrieve the top $k$ passages with embeddings closest to $v_q$.\n",
        "\n",
        "In this case, training the network means solving a **metric learning** problem: the two BERT networks need to learn an **effective vector space** such that relevant pairs of questions and passages are close, while irrelevant pairs are placed further away. In this problem we usually build a **training instance $D$** as ${(q_i, p_i^+, p_{i,1}^-, p_{i,2}^-, \\dots, p_{i,n}^-)}^m_{i=1}$, where question $q$ is paired with a relevant (positive) passage $p_i^+$ and $n$ irrelevant (negative) passages. Then, the loss function is the negative log-likelihood of the positive passage:\n",
        "\n",
        "$L(q_i, p_i^+, p_{i,1}^-, p_{i,2}^-, \\dots, p_{i,n}^-) = -\\log\\frac{e^{sim(q_i, p_i^+)}}{e^{sim(q_i, p_i^+)} + \\sum_{j=1}^n e^{sim(q_i, p_{i,j}^-)}}$\n",
        "\n",
        "It's easy to find the positive paragraph, but choosing the negatives is quite important. In particular, the paper proposes different ways for sampling the negatives:\n",
        "- Random: a negative is any random passage in the corpus\n",
        "- TF-IDF (The paper uses a variant, BM25): the negatives are the top passages (not containing the answer) returned by a TF-IDF search\n",
        "- Gold: the negatives are positives for other questions in the mini-batch. For the researchers, this is the best negative-mining option, because it's the most efficient and also it makes a batch a complete unit of learning (we learn the relationship that each question in the batch has with the other paragraphs).\n",
        "\n",
        "The Gold method allows the **in-batch negatives** technique: assuming to have a batch size of $B$, then we collect two $B \\times d$ matrices (one for questions, one for their positive paragraphs). Then, we compute $S = QP^\\intercal$ which is a $B \\times B$ matrix of **similarity scored** between each question and paragraph. This matrix can directly be used for training: any ($q_i, p_j$) pais where $i = j$ is considered to be a positive example, while it's negative otherwise. In total there will be $B$ training instances per batch, each with $B-1$ negative passages. "
      ]
    },
    {
      "cell_type": "markdown",
      "metadata": {
        "id": "7s1cbEuy1es4"
      },
      "source": [
        "# Configuration"
      ]
    },
    {
      "cell_type": "markdown",
      "metadata": {
        "id": "Pm45AN-fDEiv"
      },
      "source": [
        "## Imports"
      ]
    },
    {
      "cell_type": "code",
      "execution_count": 2,
      "metadata": {
        "id": "8CBcRCvCCpzg"
      },
      "outputs": [],
      "source": [
        "import os\n",
        "import numpy as np\n",
        "import random\n",
        "from tqdm import tqdm\n",
        "from functools import partial\n",
        "tqdm = partial(tqdm, position=0, leave=True)\n",
        "import tensorflow as tf\n",
        "from transformers import BertTokenizerFast, DistilBertTokenizerFast, \\\n",
        "                         TFBertModel, TFDistilBertModel\n",
        "import utils\n",
        "\n",
        "RANDOM_SEED = 42\n",
        "BERT_DIMENSIONALITY = 768\n",
        "\n",
        "np.random.seed(RANDOM_SEED)\n",
        "random.seed(RANDOM_SEED)\n",
        "tf.random.set_seed(RANDOM_SEED)"
      ]
    },
    {
      "cell_type": "markdown",
      "metadata": {
        "id": "K7Ih1ZqSDCmW"
      },
      "source": [
        "### TPU check\n",
        "The training could be made faster if we use the cloud GPUs offered by Google on Google Colab. Since TPUs require manual intialization and other oddities, we check multiple times throughout the notebook what kind of hardware we are running the code on.\n",
        "using_TPU = True\n"
      ]
    },
    {
      "cell_type": "code",
      "execution_count": 3,
      "metadata": {
        "id": "iyt5e89MCm4X",
        "outputId": "a383db9a-18ad-4e33-d07a-59d499449254",
        "colab": {
          "base_uri": "https://localhost:8080/"
        }
      },
      "outputs": [
        {
          "output_type": "stream",
          "name": "stdout",
          "text": [
            "INFO:tensorflow:Deallocate tpu buffers before initializing tpu system.\n"
          ]
        },
        {
          "output_type": "stream",
          "name": "stderr",
          "text": [
            "INFO:tensorflow:Deallocate tpu buffers before initializing tpu system.\n"
          ]
        },
        {
          "output_type": "stream",
          "name": "stdout",
          "text": [
            "INFO:tensorflow:Initializing the TPU system: grpc://10.8.96.194:8470\n"
          ]
        },
        {
          "output_type": "stream",
          "name": "stderr",
          "text": [
            "INFO:tensorflow:Initializing the TPU system: grpc://10.8.96.194:8470\n"
          ]
        },
        {
          "output_type": "stream",
          "name": "stdout",
          "text": [
            "INFO:tensorflow:Finished initializing TPU system.\n"
          ]
        },
        {
          "output_type": "stream",
          "name": "stderr",
          "text": [
            "INFO:tensorflow:Finished initializing TPU system.\n"
          ]
        },
        {
          "output_type": "stream",
          "name": "stdout",
          "text": [
            "All devices:  [LogicalDevice(name='/job:worker/replica:0/task:0/device:TPU:0', device_type='TPU'), LogicalDevice(name='/job:worker/replica:0/task:0/device:TPU:1', device_type='TPU'), LogicalDevice(name='/job:worker/replica:0/task:0/device:TPU:2', device_type='TPU'), LogicalDevice(name='/job:worker/replica:0/task:0/device:TPU:3', device_type='TPU'), LogicalDevice(name='/job:worker/replica:0/task:0/device:TPU:4', device_type='TPU'), LogicalDevice(name='/job:worker/replica:0/task:0/device:TPU:5', device_type='TPU'), LogicalDevice(name='/job:worker/replica:0/task:0/device:TPU:6', device_type='TPU'), LogicalDevice(name='/job:worker/replica:0/task:0/device:TPU:7', device_type='TPU')]\n",
            "INFO:tensorflow:Found TPU system:\n"
          ]
        },
        {
          "output_type": "stream",
          "name": "stderr",
          "text": [
            "INFO:tensorflow:Found TPU system:\n"
          ]
        },
        {
          "output_type": "stream",
          "name": "stdout",
          "text": [
            "INFO:tensorflow:*** Num TPU Cores: 8\n"
          ]
        },
        {
          "output_type": "stream",
          "name": "stderr",
          "text": [
            "INFO:tensorflow:*** Num TPU Cores: 8\n"
          ]
        },
        {
          "output_type": "stream",
          "name": "stdout",
          "text": [
            "INFO:tensorflow:*** Num TPU Workers: 1\n"
          ]
        },
        {
          "output_type": "stream",
          "name": "stderr",
          "text": [
            "INFO:tensorflow:*** Num TPU Workers: 1\n"
          ]
        },
        {
          "output_type": "stream",
          "name": "stdout",
          "text": [
            "INFO:tensorflow:*** Num TPU Cores Per Worker: 8\n"
          ]
        },
        {
          "output_type": "stream",
          "name": "stderr",
          "text": [
            "INFO:tensorflow:*** Num TPU Cores Per Worker: 8\n"
          ]
        },
        {
          "output_type": "stream",
          "name": "stdout",
          "text": [
            "INFO:tensorflow:*** Available Device: _DeviceAttributes(/job:localhost/replica:0/task:0/device:CPU:0, CPU, 0, 0)\n"
          ]
        },
        {
          "output_type": "stream",
          "name": "stderr",
          "text": [
            "INFO:tensorflow:*** Available Device: _DeviceAttributes(/job:localhost/replica:0/task:0/device:CPU:0, CPU, 0, 0)\n"
          ]
        },
        {
          "output_type": "stream",
          "name": "stdout",
          "text": [
            "INFO:tensorflow:*** Available Device: _DeviceAttributes(/job:worker/replica:0/task:0/device:CPU:0, CPU, 0, 0)\n"
          ]
        },
        {
          "output_type": "stream",
          "name": "stderr",
          "text": [
            "INFO:tensorflow:*** Available Device: _DeviceAttributes(/job:worker/replica:0/task:0/device:CPU:0, CPU, 0, 0)\n"
          ]
        },
        {
          "output_type": "stream",
          "name": "stdout",
          "text": [
            "INFO:tensorflow:*** Available Device: _DeviceAttributes(/job:worker/replica:0/task:0/device:TPU:0, TPU, 0, 0)\n"
          ]
        },
        {
          "output_type": "stream",
          "name": "stderr",
          "text": [
            "INFO:tensorflow:*** Available Device: _DeviceAttributes(/job:worker/replica:0/task:0/device:TPU:0, TPU, 0, 0)\n"
          ]
        },
        {
          "output_type": "stream",
          "name": "stdout",
          "text": [
            "INFO:tensorflow:*** Available Device: _DeviceAttributes(/job:worker/replica:0/task:0/device:TPU:1, TPU, 0, 0)\n"
          ]
        },
        {
          "output_type": "stream",
          "name": "stderr",
          "text": [
            "INFO:tensorflow:*** Available Device: _DeviceAttributes(/job:worker/replica:0/task:0/device:TPU:1, TPU, 0, 0)\n"
          ]
        },
        {
          "output_type": "stream",
          "name": "stdout",
          "text": [
            "INFO:tensorflow:*** Available Device: _DeviceAttributes(/job:worker/replica:0/task:0/device:TPU:2, TPU, 0, 0)\n"
          ]
        },
        {
          "output_type": "stream",
          "name": "stderr",
          "text": [
            "INFO:tensorflow:*** Available Device: _DeviceAttributes(/job:worker/replica:0/task:0/device:TPU:2, TPU, 0, 0)\n"
          ]
        },
        {
          "output_type": "stream",
          "name": "stdout",
          "text": [
            "INFO:tensorflow:*** Available Device: _DeviceAttributes(/job:worker/replica:0/task:0/device:TPU:3, TPU, 0, 0)\n"
          ]
        },
        {
          "output_type": "stream",
          "name": "stderr",
          "text": [
            "INFO:tensorflow:*** Available Device: _DeviceAttributes(/job:worker/replica:0/task:0/device:TPU:3, TPU, 0, 0)\n"
          ]
        },
        {
          "output_type": "stream",
          "name": "stdout",
          "text": [
            "INFO:tensorflow:*** Available Device: _DeviceAttributes(/job:worker/replica:0/task:0/device:TPU:4, TPU, 0, 0)\n"
          ]
        },
        {
          "output_type": "stream",
          "name": "stderr",
          "text": [
            "INFO:tensorflow:*** Available Device: _DeviceAttributes(/job:worker/replica:0/task:0/device:TPU:4, TPU, 0, 0)\n"
          ]
        },
        {
          "output_type": "stream",
          "name": "stdout",
          "text": [
            "INFO:tensorflow:*** Available Device: _DeviceAttributes(/job:worker/replica:0/task:0/device:TPU:5, TPU, 0, 0)\n"
          ]
        },
        {
          "output_type": "stream",
          "name": "stderr",
          "text": [
            "INFO:tensorflow:*** Available Device: _DeviceAttributes(/job:worker/replica:0/task:0/device:TPU:5, TPU, 0, 0)\n"
          ]
        },
        {
          "output_type": "stream",
          "name": "stdout",
          "text": [
            "INFO:tensorflow:*** Available Device: _DeviceAttributes(/job:worker/replica:0/task:0/device:TPU:6, TPU, 0, 0)\n"
          ]
        },
        {
          "output_type": "stream",
          "name": "stderr",
          "text": [
            "INFO:tensorflow:*** Available Device: _DeviceAttributes(/job:worker/replica:0/task:0/device:TPU:6, TPU, 0, 0)\n"
          ]
        },
        {
          "output_type": "stream",
          "name": "stdout",
          "text": [
            "INFO:tensorflow:*** Available Device: _DeviceAttributes(/job:worker/replica:0/task:0/device:TPU:7, TPU, 0, 0)\n"
          ]
        },
        {
          "output_type": "stream",
          "name": "stderr",
          "text": [
            "INFO:tensorflow:*** Available Device: _DeviceAttributes(/job:worker/replica:0/task:0/device:TPU:7, TPU, 0, 0)\n"
          ]
        },
        {
          "output_type": "stream",
          "name": "stdout",
          "text": [
            "INFO:tensorflow:*** Available Device: _DeviceAttributes(/job:worker/replica:0/task:0/device:TPU_SYSTEM:0, TPU_SYSTEM, 0, 0)\n"
          ]
        },
        {
          "output_type": "stream",
          "name": "stderr",
          "text": [
            "INFO:tensorflow:*** Available Device: _DeviceAttributes(/job:worker/replica:0/task:0/device:TPU_SYSTEM:0, TPU_SYSTEM, 0, 0)\n"
          ]
        },
        {
          "output_type": "stream",
          "name": "stdout",
          "text": [
            "INFO:tensorflow:*** Available Device: _DeviceAttributes(/job:worker/replica:0/task:0/device:XLA_CPU:0, XLA_CPU, 0, 0)\n"
          ]
        },
        {
          "output_type": "stream",
          "name": "stderr",
          "text": [
            "INFO:tensorflow:*** Available Device: _DeviceAttributes(/job:worker/replica:0/task:0/device:XLA_CPU:0, XLA_CPU, 0, 0)\n"
          ]
        }
      ],
      "source": [
        "if using_TPU:\n",
        "    try: \n",
        "        resolver = tf.distribute.cluster_resolver.TPUClusterResolver(tpu='')\n",
        "        tf.config.experimental_connect_to_cluster(resolver)\n",
        "        # This is the TPU initialization code that has to be at the beginning.\n",
        "        tf.tpu.experimental.initialize_tpu_system(resolver)\n",
        "        print(\"All devices: \", tf.config.list_logical_devices('TPU'))\n",
        "        strategy = tf.distribute.TPUStrategy(resolver)\n",
        "    except:\n",
        "        print(\"TPUs are not available, setting flag 'using_TPU' to False.\")\n",
        "        using_TPU = False\n",
        "else:\n",
        "    print(\"Num GPUs Available: \", len(tf.config.list_physical_devices('GPU')))"
      ]
    },
    {
      "cell_type": "code",
      "source": [
        "if IN_COLAB:\n",
        "    from google.colab import drive\n",
        "    drive.mount('/content/drive/')\n",
        "    checkpoint_dir = '/content/drive/My Drive/Uni/Magistrale/NLP/Project/weights/training_dpr/'\n",
        "    datasets_dir = '/content/drive/My Drive/Uni/Magistrale/NLP/Project/datasets/dpr/'\n",
        "else:\n",
        "    # Create the folder where we'll save the weights of the model\n",
        "    checkpoint_dir = os.path.join(\"data\", \"training_dpr\")\n",
        "    datasets_dir = os.path.join(\"data\", \"training_dpr\", \"dataset\")\n",
        "\n",
        "os.makedirs(checkpoint_dir, exist_ok=True)\n",
        "os.makedirs(datasets_dir, exist_ok=True)"
      ],
      "metadata": {
        "id": "jDjUKQxol1lS",
        "colab": {
          "base_uri": "https://localhost:8080/"
        },
        "outputId": "3bb34c57-af5d-4bef-c027-08ef81956cf1"
      },
      "execution_count": 4,
      "outputs": [
        {
          "output_type": "stream",
          "name": "stdout",
          "text": [
            "Mounted at /content/drive/\n"
          ]
        }
      ]
    },
    {
      "cell_type": "markdown",
      "source": [
        "## Allowed operations"
      ],
      "metadata": {
        "id": "vVHmkEeC2kuf"
      }
    },
    {
      "cell_type": "code",
      "source": [
        "OVERWRITE_DATASETS = False      # Best to be run on GPU, takes about half an hour.\n",
        "                                # It saves a new copy of the pre-tokenized\n",
        "                                # question-paragraph pair on Google Drive.\n",
        "                                # The copy should then be uploaded to GCloud into\n",
        "                                # the bucket allocated for the project to be used by\n",
        "                                # TPUs.\n",
        "\n",
        "DO_TRAINING = False             # Best to be run on TPU, takes about 2 hours.\n",
        "                                # It trains the model and saves a copy of the initial\n",
        "                                # and last weights on Google Drive. When run on GPU\n",
        "                                # It also saves checkpoints and Tensorboard data,\n",
        "                                # but it takes over 4 hours to do a single epoch,\n",
        "                                # so it's impossible to run it on Colab.\n",
        "\n",
        "OVERRIDE_REPRESENTATIONS = False # Best to be run on GPU, it takes about 30 minutes.\n",
        "                                 # It produces representations of all paragraphs\n",
        "                                 # using the trained model_p as a large NumPy array\n",
        "                                 # that is stored on Google Drive at the end.\n",
        "\n",
        "RUN_ACCURACY_ANALYSIS = False   # Best to be run on GPU, takes about an hour\n",
        "                                # It analyzes the paragraph retrieval capability\n",
        "                                # of the model with top-1 and top-5 accuracy.\n",
        "\n",
        "DO_QA_TRAINING = True          # Best to be run on TPU, takes more than 2 hours.\n",
        "                                # See DO_TRAINING."
      ],
      "metadata": {
        "id": "QSfXDW2g2sAr"
      },
      "execution_count": 5,
      "outputs": []
    },
    {
      "cell_type": "markdown",
      "metadata": {
        "id": "eAv3n12tDIAo"
      },
      "source": [
        "## Variables"
      ]
    },
    {
      "cell_type": "markdown",
      "metadata": {
        "id": "d8piWcupDOPR"
      },
      "source": [
        "We define all the paths."
      ]
    },
    {
      "cell_type": "code",
      "execution_count": 6,
      "metadata": {
        "id": "On3I2PUgCwNF"
      },
      "outputs": [],
      "source": [
        "ROOT_PATH = os.path.dirname(os.getcwd())\n",
        "TRAINING_FILE = os.path.join(ROOT_PATH, 'data', 'training_set.json')\n",
        "VALIDATION_FILE = os.path.join(ROOT_PATH, 'data', 'validation_set.json')"
      ]
    },
    {
      "cell_type": "markdown",
      "metadata": {
        "id": "YLC6xwfKDSAN"
      },
      "source": [
        "We collect the training and validation questions and paragraphs into different lists."
      ]
    },
    {
      "cell_type": "code",
      "execution_count": 7,
      "metadata": {
        "id": "1zdDCsLZDMkm"
      },
      "outputs": [],
      "source": [
        "train_dict = utils.read_question_set(TRAINING_FILE)\n",
        "val_dict = utils.read_question_set(VALIDATION_FILE)\n",
        "\n",
        "def get_questions_and_paragraphs_from_dataset(dataset):\n",
        "    questions = [{\n",
        "            'qas': qas,\n",
        "            'context_id': (i,j)    # We also track the question's original context and paragraph indices so to have a ground truth\n",
        "        }\n",
        "        for i in range(len(dataset['data']))\n",
        "        for j, para in enumerate(dataset['data'][i]['paragraphs'])\n",
        "        for qas in para['qas']\n",
        "    ]\n",
        "\n",
        "    paragraphs = [{\n",
        "            'context': para['context'],\n",
        "            'context_id': (i,j)\n",
        "        }\n",
        "        for i in range(len(dataset['data']))\n",
        "        for j, para in enumerate(dataset['data'][i]['paragraphs'])\n",
        "    ]\n",
        "\n",
        "    for i in range(len(questions)):\n",
        "        questions[i]['global_id'] = i\n",
        "    for i in range(len(paragraphs)):\n",
        "        paragraphs[i]['global_id'] = i\n",
        "\n",
        "    return questions, paragraphs\n",
        "\n",
        "train_questions, train_paragraphs = get_questions_and_paragraphs_from_dataset(train_dict)\n",
        "val_questions, val_paragraphs = get_questions_and_paragraphs_from_dataset(val_dict)"
      ]
    },
    {
      "cell_type": "markdown",
      "metadata": {
        "id": "fvGAqUBvDbIg"
      },
      "source": [
        "We create the two different DistilBert models for encoding and test them on a random question/paragraph."
      ]
    },
    {
      "cell_type": "code",
      "execution_count": 8,
      "metadata": {
        "id": "1XI6YUBZDit8",
        "colab": {
          "base_uri": "https://localhost:8080/",
          "height": 371,
          "referenced_widgets": [
            "6ca6edf75d274df5aaacc64d027f89f1",
            "024d160183a54bb1807375986c77e3e5",
            "58de658e3be7480b9c344f9ece7507b4",
            "7e3d4148bab445aba702042cbf8201a4",
            "4f098ce711714974b20b8a60ddf74e9d",
            "31678269929e41eca807b7ab3996a384",
            "f5f5dfd6889f4c9890327ee9486b9d25",
            "b2489d9d86b54ad39b28eb4a2f7421d7",
            "d34b200c0d4048a3b996c31ae2153416",
            "bd9467e4e2eb483294af697b18aa7a3c",
            "514b6ebeaf1344dfb5345c622e838293",
            "1f34a0d1d86c448ab564427aa63390d9",
            "5258f9be229a418696daa526c863aaea",
            "9081cdbc086c49449dd1c2bcdc9a8124",
            "5dcca91e17fd466e94416b23ebe54e84",
            "3176d0433a2a473ca0625c4922b2aad8",
            "b34ed6463476468ebc7a96464235dc4a",
            "3b96e2a39a4c4a048c0b4a6d7c58604e",
            "be91bf5ead674c1589d7fb62778d67e6",
            "7af99be95c3b4746bb2807ac5987b0fd",
            "7d23fa103da34dbf8038840a05660301",
            "30ce1828d260447a94c86e6f56efda71",
            "3889d73d27bd43fd9866f5063c286438",
            "742148660c0240fbbe19577c6931c3f4",
            "437622eedfed46659ef4fccfd40d522c",
            "5b25b68830e94fffbb501821225d0491",
            "1130835b06784d5fa1c9ecdaa68a980c",
            "5b44920ca66e437eac78ede6189aec4a",
            "dccf58aef1cb4b64a8d78a365d380120",
            "8a26f38e46d049a59e23aa61c85dc3f2",
            "b63607b9b065462592d1f1e4c33b4414",
            "fd61aa7233584e59b37a22cf0d3e89b4",
            "0d4246b74de54b40a17657671bf7625c",
            "e1f486ddd3684ba7a39cf9008803276d",
            "12012c47de934fba81834e10230d9c99",
            "ee9a4ce093ad4c3a967a676de8acc57d",
            "d0375749d17847249cda097a3728cb6c",
            "3b190331564d4337b244c0d5a1be5919",
            "a6e336e5d1c04bb99a0dfb0a4263cb14",
            "38a16c0269be4fceb51cd42d78658ccb",
            "2ba0767d43e64fb9be5a1c5e1d42ea36",
            "b21ffe9cb9fe46e79f8c6165b5e3832a",
            "d19dcb4576884564873f1391fc948244",
            "da522a1d53be42f1a25902678a3cbeac",
            "97ca21003d2b4604a137852b018dc4a6",
            "5947da15cdad440f8eebfac50c7c622f",
            "01f3faab1c7c413f8984aaa2748657be",
            "5078643581794c1db1752d3c40756845",
            "f59366a30c754507a277d06e0843a529",
            "b089ba74d124414a947b1c9999632b8e",
            "ab6083ebd4474b6bb29de770d4fec8ef",
            "cb5e07a8410445a3bbac4808fbc23fa1",
            "77cd9f6305a64e57ba548f2c3002b7af",
            "642ca1a1008c4e9d9feeb0c22879052b",
            "658345b88e9942ddbabed1af9e5a5643"
          ]
        },
        "outputId": "5bca020d-093d-4e87-a729-da29337772e6"
      },
      "outputs": [
        {
          "output_type": "display_data",
          "data": {
            "text/plain": [
              "Downloading:   0%|          | 0.00/28.0 [00:00<?, ?B/s]"
            ],
            "application/vnd.jupyter.widget-view+json": {
              "version_major": 2,
              "version_minor": 0,
              "model_id": "6ca6edf75d274df5aaacc64d027f89f1"
            }
          },
          "metadata": {}
        },
        {
          "output_type": "display_data",
          "data": {
            "text/plain": [
              "Downloading:   0%|          | 0.00/226k [00:00<?, ?B/s]"
            ],
            "application/vnd.jupyter.widget-view+json": {
              "version_major": 2,
              "version_minor": 0,
              "model_id": "1f34a0d1d86c448ab564427aa63390d9"
            }
          },
          "metadata": {}
        },
        {
          "output_type": "display_data",
          "data": {
            "text/plain": [
              "Downloading:   0%|          | 0.00/455k [00:00<?, ?B/s]"
            ],
            "application/vnd.jupyter.widget-view+json": {
              "version_major": 2,
              "version_minor": 0,
              "model_id": "3889d73d27bd43fd9866f5063c286438"
            }
          },
          "metadata": {}
        },
        {
          "output_type": "display_data",
          "data": {
            "text/plain": [
              "Downloading:   0%|          | 0.00/483 [00:00<?, ?B/s]"
            ],
            "application/vnd.jupyter.widget-view+json": {
              "version_major": 2,
              "version_minor": 0,
              "model_id": "e1f486ddd3684ba7a39cf9008803276d"
            }
          },
          "metadata": {}
        },
        {
          "output_type": "display_data",
          "data": {
            "text/plain": [
              "Downloading:   0%|          | 0.00/347M [00:00<?, ?B/s]"
            ],
            "application/vnd.jupyter.widget-view+json": {
              "version_major": 2,
              "version_minor": 0,
              "model_id": "97ca21003d2b4604a137852b018dc4a6"
            }
          },
          "metadata": {}
        },
        {
          "output_type": "stream",
          "name": "stderr",
          "text": [
            "Some layers from the model checkpoint at distilbert-base-uncased were not used when initializing TFDistilBertModel: ['activation_13', 'vocab_projector', 'vocab_layer_norm', 'vocab_transform']\n",
            "- This IS expected if you are initializing TFDistilBertModel from the checkpoint of a model trained on another task or with another architecture (e.g. initializing a BertForSequenceClassification model from a BertForPreTraining model).\n",
            "- This IS NOT expected if you are initializing TFDistilBertModel from the checkpoint of a model that you expect to be exactly identical (initializing a BertForSequenceClassification model from a BertForSequenceClassification model).\n",
            "All the layers of TFDistilBertModel were initialized from the model checkpoint at distilbert-base-uncased.\n",
            "If your task is similar to the task the model of the checkpoint was trained on, you can already use TFDistilBertModel for predictions without further training.\n",
            "Some layers from the model checkpoint at distilbert-base-uncased were not used when initializing TFDistilBertModel: ['activation_13', 'vocab_projector', 'vocab_layer_norm', 'vocab_transform']\n",
            "- This IS expected if you are initializing TFDistilBertModel from the checkpoint of a model trained on another task or with another architecture (e.g. initializing a BertForSequenceClassification model from a BertForPreTraining model).\n",
            "- This IS NOT expected if you are initializing TFDistilBertModel from the checkpoint of a model that you expect to be exactly identical (initializing a BertForSequenceClassification model from a BertForSequenceClassification model).\n",
            "All the layers of TFDistilBertModel were initialized from the model checkpoint at distilbert-base-uncased.\n",
            "If your task is similar to the task the model of the checkpoint was trained on, you can already use TFDistilBertModel for predictions without further training.\n"
          ]
        }
      ],
      "source": [
        "tokenizer_distilbert = DistilBertTokenizerFast.from_pretrained('distilbert-base-uncased')\n",
        "model_q, model_p = TFDistilBertModel.from_pretrained('distilbert-base-uncased'), \\\n",
        "                   TFDistilBertModel.from_pretrained('distilbert-base-uncased')"
      ]
    },
    {
      "cell_type": "code",
      "execution_count": 9,
      "metadata": {
        "id": "EcCbC-Vi1es5",
        "colab": {
          "base_uri": "https://localhost:8080/"
        },
        "outputId": "fb565295-b6eb-4cd5-d5ba-c1702ef24030"
      },
      "outputs": [
        {
          "output_type": "stream",
          "name": "stdout",
          "text": [
            "Testing on a simple question. \n",
            "Question: To whom did the Virgin Mary allegedly appear in 1858 in Lourdes France?\n",
            "Representation dimensionality: (768,)\n"
          ]
        }
      ],
      "source": [
        "test_question = train_questions[0]['qas']['question']\n",
        "print(f\"Testing on a simple question. \\nQuestion: {test_question}\")\n",
        "inputs_test = tokenizer_distilbert(test_question, return_tensors=\"tf\")\n",
        "outputs = model_q(inputs_test)\n",
        "\n",
        "# As a representation of the token we use the last hidden state at the [CLS] token (the first one)\n",
        "last_hidden_states = outputs.last_hidden_state\n",
        "test_q_repr = last_hidden_states[0,0,:]\n",
        "print(f\"Representation dimensionality: {test_q_repr.shape}\")"
      ]
    },
    {
      "cell_type": "markdown",
      "metadata": {
        "id": "l_lPiEZu1es9"
      },
      "source": [
        "# Encoders Training"
      ]
    },
    {
      "cell_type": "markdown",
      "metadata": {
        "id": "v7qavEm61es-"
      },
      "source": [
        "First of all, we need to train our models. To do that, we need to create a dataset that feeds batches of questions and positive and negative paragraphs to a model, which is used to compute the representations, then the similarities and to correct the learnt distributions from the encoder models."
      ]
    },
    {
      "cell_type": "markdown",
      "metadata": {
        "id": "tCYkx8rf1es_"
      },
      "source": [
        "## Dataset creation"
      ]
    },
    {
      "cell_type": "markdown",
      "metadata": {
        "id": "hynvz3Gw1etA"
      },
      "source": [
        "For the dataset, we use the `tf.data.Dataset` API. In particular, we first create the dataset in a `.proto` file which contains all the information in a byte format. The file is then uploaded on Google Cloud, where it can easily be accessed all future times. This is the only working way to have a large dataset accessible from the TPU."
      ]
    },
    {
      "cell_type": "code",
      "execution_count": 10,
      "metadata": {
        "id": "OaBWVf5k1etB",
        "colab": {
          "base_uri": "https://localhost:8080/"
        },
        "outputId": "afab7271-7678-491f-e821-fa81c7172291"
      },
      "outputs": [
        {
          "output_type": "stream",
          "name": "stdout",
          "text": [
            "Loading train dataset from GCS (gs://volpepe-nlp-project-squad-datasets/train.proto).\n",
            "Loading val dataset from GCS (gs://volpepe-nlp-project-squad-datasets/val.proto).\n"
          ]
        }
      ],
      "source": [
        "import math\n",
        "from tensorflow import keras\n",
        "from tensorflow.keras import layers\n",
        "from tensorflow.keras.utils import Sequence\n",
        "from typing import List, Union\n",
        "from tqdm import tqdm\n",
        "from typing import Dict, Tuple\n",
        "\n",
        "BATCH_SIZE = 8 if not using_TPU else 64\n",
        "\n",
        "def get_paragraph_from_question(qas, dataset):\n",
        "    i,j = qas['context_id']\n",
        "    return dataset['data'][i]['paragraphs'][j]\n",
        "\n",
        "def get_paragraph_global_id_from_question(question, paragraphs):\n",
        "    for p in paragraphs:\n",
        "        if p['context_id'] == question['context_id']:\n",
        "            return p['global_id']\n",
        "\n",
        "def pre_tokenize_data(questions, dataset, tokenizer):\n",
        "    tokenized_questions = [\n",
        "        dict(tokenizer(questions[i]['qas']['question'], \n",
        "            max_length = 512, truncation = True, \n",
        "            padding = 'max_length'))\n",
        "    for i in tqdm(range(len(questions)))]\n",
        "    tokenized_paragraphs = [\n",
        "        dict(tokenizer(get_paragraph_from_question(\n",
        "                    questions[i], dataset\n",
        "                )['context'], max_length = 512, \n",
        "            truncation = True, padding = 'max_length',\n",
        "            return_offsets_mapping = True))\n",
        "    for i in tqdm(range(len(questions)))]\n",
        "    return tokenized_questions, tokenized_paragraphs\n",
        "\n",
        "def find_start_end_token_one_hot_encoded(\n",
        "    answers: Dict, \n",
        "    offsets: List[Tuple[int]]) -> Dict:\n",
        "    '''\n",
        "    This function returns the starting and ending token of the answer, \n",
        "    already one hot encoded and ready for binary crossentropy.\n",
        "    Inputs:\n",
        "        - answers: `List[Dict]` --> for each question, a list of answers.\n",
        "            Each answer contains:\n",
        "            - `answer_start`: the index of the starting character\n",
        "            - `text`: the text of the answer, that we exploit through the \n",
        "                number of chars that it contains\n",
        "        - offsets: `List[Tuple[int]]` --> the tokenizer from HuggingFace \n",
        "            transforms the paragraph into a sequence of tokens. \n",
        "            Offsets keeps track of the character start and end indexes for each token.\n",
        "   \n",
        "    Output:\n",
        "        - result: `Dict` --> each key contains only one array, the one-hot \n",
        "            encoded version of, respectively, the start and end token of \n",
        "            the answer in the sentence (question+context)\n",
        "    '''\n",
        "    result = {\n",
        "        \"out_S\": np.zeros(len(offsets), dtype=np.int32),\n",
        "        \"out_E\": np.zeros(len(offsets), dtype=np.int32)\n",
        "    } \n",
        "    for answer in answers:\n",
        "        starting_char = answer['answer_start']\n",
        "        answer_len = len(answer['text'])\n",
        "        # We skip the first token, [CLS], that has (0,0) as a tuple\n",
        "        for i in range(1, len(offsets)):\n",
        "            # Check if starting char is within the indexes\n",
        "            if (starting_char >= offsets[i][0]) and \\\n",
        "                (starting_char <= offsets[i][1]):\n",
        "                result[\"out_S\"][i] += 1\n",
        "            # If the ending char (starting + length -1) is in the interval, \n",
        "            # same as above.\n",
        "            if (starting_char + answer_len - 1 >= offsets[i][0]) and \\\n",
        "                (starting_char + answer_len - 1 < offsets[i][1]):\n",
        "                result[\"out_E\"][i] += 1\n",
        "                break\n",
        "    return result\n",
        "\n",
        "def decode_fn(record_bytes):\n",
        "  example = tf.io.parse_single_example(\n",
        "      # Data\n",
        "      record_bytes,\n",
        "      # Schema\n",
        "      {\"question__input_ids\": tf.io.FixedLenFeature(shape=(512,), dtype=tf.int64),\n",
        "       \"question__attention_mask\": tf.io.FixedLenFeature(shape=(512,), dtype=tf.int64),\n",
        "       \"question__id\": tf.io.FixedLenFeature(shape=(), dtype=tf.string),\n",
        "       \"answer__out_s\": tf.io.FixedLenFeature(shape=(512,), dtype=tf.int64),\n",
        "       \"answer__out_e\": tf.io.FixedLenFeature(shape=(512,), dtype=tf.int64),\n",
        "       \"paragraph__input_ids\": tf.io.FixedLenFeature(shape=(512,), dtype=tf.int64),\n",
        "       \"paragraph__attention_mask\": tf.io.FixedLenFeature(shape=(512,), dtype=tf.int64),\n",
        "       \"paragraph__text\": tf.io.FixedLenFeature(shape=(), dtype=tf.string),\n",
        "       \"paragraph__tokens_s\": tf.io.FixedLenFeature(shape=(512,), dtype=tf.int64),\n",
        "       \"paragraph__tokens_e\": tf.io.FixedLenFeature(shape=(512,), dtype=tf.int64),\n",
        "       \"paragraph__index\": tf.io.FixedLenFeature(shape=(), dtype=tf.int64)})\n",
        "  return {\n",
        "      \"questions\": {'input_ids': example['question__input_ids'],\n",
        "                    'attention_mask': example['question__attention_mask'],\n",
        "                    'id': example['question__id']},\n",
        "      \"answers\":   {'out_s': example['answer__out_s'],\n",
        "                    'out_e': example['answer__out_e']},\n",
        "      \"paragraphs\":{'input_ids': example['paragraph__input_ids'],\n",
        "                    'attention_mask': example['paragraph__attention_mask'],\n",
        "                    'tokens_s': example['paragraph__tokens_s'],\n",
        "                    'tokens_e': example['paragraph__tokens_e'],\n",
        "                    'text': example['paragraph__text'],\n",
        "                    'index': example['paragraph__index']}\n",
        "  }\n",
        "\n",
        "def create_dataset_from_records(questions, paragraphs, dataset, tokenizer, fn, training=True):\n",
        "    # Pre-tokenize and write dataset on disk\n",
        "    filename = f'{fn}.proto'\n",
        "    fn_type = filename.split(os.sep)[-1].replace('.proto','')\n",
        "    gcs_filename = os.path.join('gs://volpepe-nlp-project-squad-datasets', f'{fn_type}.proto')\n",
        "    if not os.path.exists(filename) or OVERWRITE_DATASETS:\n",
        "        print(\"Pre-tokenizing data...\")\n",
        "        tok_questions, tok_paragraphs = pre_tokenize_data(questions, dataset, tokenizer)\n",
        "        assert len(tok_questions) == len(tok_paragraphs), \"Error while pre-tokenizing dataset\"\n",
        "        print(\"Preprocessing answers...\")\n",
        "        answer_tokens = [find_start_end_token_one_hot_encoded(\n",
        "            questions[i]['qas']['answers'], tok_paragraphs[i]['offset_mapping'])\n",
        "        for i in tqdm(range(len(questions)))]\n",
        "        print(\"Saving dataset on disk...\")\n",
        "        with tf.io.TFRecordWriter(filename) as file_writer:\n",
        "            for i in tqdm(range(len(tok_questions))):\n",
        "                record_bytes = tf.train.Example(features=tf.train.Features(feature={\n",
        "                    \"question__input_ids\": tf.train.Feature(int64_list=tf.train.Int64List(\n",
        "                            value=tok_questions[i][\"input_ids\"])),\n",
        "                    \"question__attention_mask\": tf.train.Feature(int64_list=tf.train.Int64List(\n",
        "                            value=tok_questions[i][\"attention_mask\"])),\n",
        "                    \"question__id\": tf.train.Feature(bytes_list=tf.train.BytesList(\n",
        "                        value=[questions[i]['qas']['id'].encode('utf-8')])),\n",
        "                    \"answer__out_s\": tf.train.Feature(int64_list=tf.train.Int64List(\n",
        "                        value=answer_tokens[i][\"out_S\"])),\n",
        "                    \"answer__out_e\": tf.train.Feature(int64_list=tf.train.Int64List(\n",
        "                        value=answer_tokens[i][\"out_E\"])),\n",
        "                    \"paragraph__input_ids\": tf.train.Feature(int64_list=tf.train.Int64List(\n",
        "                        value=tok_paragraphs[i][\"input_ids\"])),\n",
        "                    \"paragraph__attention_mask\": tf.train.Feature(int64_list=tf.train.Int64List(\n",
        "                        value=tok_paragraphs[i][\"attention_mask\"])),\n",
        "                    \"paragraph__tokens_s\": tf.train.Feature(int64_list=tf.train.Int64List(\n",
        "                            value=[x[0] for x in tok_paragraphs[i][\"offset_mapping\"]])),\n",
        "                    \"paragraph__tokens_e\": tf.train.Feature(int64_list=tf.train.Int64List(\n",
        "                            value=[x[1] for x in tok_paragraphs[i][\"offset_mapping\"]])), \n",
        "                    \"paragraph__text\": tf.train.Feature(bytes_list=tf.train.BytesList(\n",
        "                        value=[get_paragraph_from_question(\n",
        "                            questions[i], dataset\n",
        "                        )['context'].encode('utf-8')])),\n",
        "                    \"paragraph__index\": tf.train.Feature(int64_list=tf.train.Int64List(\n",
        "                        value=[get_paragraph_global_id_from_question(questions[i], paragraphs)]))\n",
        "                    })).SerializeToString()\n",
        "                file_writer.write(record_bytes)\n",
        "        print(\"Upload the dataset on Google Cloud and re-run the function\")\n",
        "        return None\n",
        "    print(f\"Loading {fn_type} dataset from GCS ({gcs_filename}).\")\n",
        "    # Return it as processed dataset\n",
        "    dataset = tf.data.TFRecordDataset([gcs_filename]).map(decode_fn)\n",
        "    dataset = dataset.cache()\n",
        "    dataset = dataset.shuffle(10000)\n",
        "    if training:\n",
        "        dataset = dataset.repeat()\n",
        "    dataset = dataset.prefetch(tf.data.AUTOTUNE)\n",
        "    dataset = dataset.apply(tf.data.experimental.assert_cardinality(len(questions)))\n",
        "    dataset = dataset.batch(BATCH_SIZE)\n",
        "    return dataset\n",
        "\n",
        "### CREATE DATASETS ###\n",
        "# Valid for both TPU and GPU\n",
        "dataset_train = create_dataset_from_records(train_questions, train_paragraphs, train_dict, tokenizer_distilbert, \n",
        "                                            os.path.join(datasets_dir, 'train'))\n",
        "dataset_val = create_dataset_from_records(val_questions, val_paragraphs, val_dict, tokenizer_distilbert,\n",
        "                                            os.path.join(datasets_dir, 'val'), training=False)"
      ]
    },
    {
      "cell_type": "markdown",
      "metadata": {
        "id": "xAnwbiFU1etF"
      },
      "source": [
        "## Training pipeline"
      ]
    },
    {
      "cell_type": "markdown",
      "metadata": {
        "id": "52lwz19a1etG"
      },
      "source": [
        "First of all, we need a layer that takes as input the dictionary containing the tokenized questions and answers and returns their compact representations."
      ]
    },
    {
      "cell_type": "code",
      "execution_count": 11,
      "metadata": {
        "id": "PjPUMwKk1etG",
        "colab": {
          "base_uri": "https://localhost:8080/"
        },
        "outputId": "2a320630-feba-4802-d715-9255f0f21fad"
      },
      "outputs": [
        {
          "output_type": "stream",
          "name": "stdout",
          "text": [
            "Output shape when in training mode: (64, 768), (64, 768)\n",
            "Output shape when in testing mode: (64, 768)\n",
            "Output shape when dealing with a single question: (1, 768)\n"
          ]
        }
      ],
      "source": [
        "class DenseEncoder(layers.Layer):\n",
        "    def __init__(self, model_q, model_p):\n",
        "        super().__init__()\n",
        "        self.model_q = model_q  # Dense encoder for questions\n",
        "        self.model_p = model_p  # Dense encoder for paragraphs\n",
        "    \n",
        "    def call(self, inputs, training=False):\n",
        "        qs = {\n",
        "            'input_ids': inputs['questions']['input_ids'],\n",
        "            'attention_mask': inputs['questions']['attention_mask']\n",
        "        }\n",
        "        q_repr = self.model_q(qs).last_hidden_state[:,0,:]\n",
        "        if training:\n",
        "            # Input contains the questions and paragraphs encoding\n",
        "            ps = qs = {\n",
        "                'input_ids': inputs['paragraphs']['input_ids'],\n",
        "                'attention_mask': inputs['paragraphs']['attention_mask']\n",
        "            }\n",
        "            p_repr = self.model_p(ps).last_hidden_state[:,0,:]\n",
        "            return q_repr, p_repr\n",
        "        else:\n",
        "            return q_repr\n",
        "\n",
        "# Small test for the layer\n",
        "class TestDenseEncoderModel(keras.Model):\n",
        "    def __init__(self, model_q, model_p):\n",
        "        super().__init__()\n",
        "        self.enc = DenseEncoder(model_q, model_p)\n",
        "\n",
        "    def call(self, inputs, training=False):\n",
        "        return self.enc(inputs, training=training)\n",
        "\n",
        "test_model = TestDenseEncoderModel(model_q, model_p)\n",
        "q_repr, p_repr = test_model(next(dataset_train.take(1).as_numpy_iterator()), training=True)\n",
        "print(f\"Output shape when in training mode: {q_repr.shape}, {p_repr.shape}\")\n",
        "q_repr_2 = test_model(next(dataset_train.take(1).as_numpy_iterator()), training=False)\n",
        "print(f\"Output shape when in testing mode: {q_repr_2.shape}\")\n",
        "q = tokenizer_distilbert(\n",
        "    train_questions[0]['qas']['question'], max_length = 512, \n",
        "    truncation = True, padding = 'max_length', return_tensors=\"tf\")\n",
        "q_repr_3 = test_model({'questions': q})\n",
        "print(f\"Output shape when dealing with a single question: {q_repr_3.shape}\")"
      ]
    },
    {
      "cell_type": "markdown",
      "metadata": {
        "id": "e4r1MfHP1etI"
      },
      "source": [
        "Once we have the representations, we should compute the similarities, thus obtaining a a full mini-batch of positive-negative examples. "
      ]
    },
    {
      "cell_type": "code",
      "execution_count": 12,
      "metadata": {
        "id": "ZdG5bkWV2FU5",
        "colab": {
          "base_uri": "https://localhost:8080/"
        },
        "outputId": "054d52df-d0c8-422f-a06b-1df354d9edb5"
      },
      "outputs": [
        {
          "output_type": "execute_result",
          "data": {
            "text/plain": [
              "TensorShape([64, 64])"
            ]
          },
          "metadata": {},
          "execution_count": 12
        }
      ],
      "source": [
        "# Create the similarity matrix\n",
        "S = tf.tensordot(q_repr, tf.transpose(p_repr), axes=1)\n",
        "S.shape"
      ]
    },
    {
      "cell_type": "markdown",
      "metadata": {
        "id": "qEPy1ug1__n0"
      },
      "source": [
        "This similarity matrix has the following meaning:\n",
        "- Rows represent questions.\n",
        "- Each row contains the similarity that the respective question has with the 16 paragraphs (one of them is the positive one, the others are negative)\n",
        "\n",
        "In the paper, they refer to the loss as a *minimization of the negative log-likelihood of the positive passage*: what it really means is that we need to transform similarities to probabilities and use a categorical cross-entropy loss, where labels are the row index (which is also the column index in that row for the positive passage)"
      ]
    },
    {
      "cell_type": "code",
      "execution_count": 13,
      "metadata": {
        "id": "J_aJezqWCKsw",
        "colab": {
          "base_uri": "https://localhost:8080/"
        },
        "outputId": "edabac31-43cb-4d24-9fd1-44cca71d4f8f"
      },
      "outputs": [
        {
          "output_type": "execute_result",
          "data": {
            "text/plain": [
              "8.03569"
            ]
          },
          "metadata": {},
          "execution_count": 13
        }
      ],
      "source": [
        "loss = tf.keras.losses.SparseCategoricalCrossentropy(\n",
        "    from_logits=True\n",
        ")\n",
        "loss(y_true=tf.range(BATCH_SIZE), y_pred=S).numpy()"
      ]
    },
    {
      "cell_type": "markdown",
      "metadata": {
        "id": "BnidWQLZDwsf"
      },
      "source": [
        "The loss seems to be quite high for this batch. We can study it with a confusion matrix."
      ]
    },
    {
      "cell_type": "code",
      "execution_count": 14,
      "metadata": {
        "id": "Vdgc2-gQD1PP"
      },
      "outputs": [],
      "source": [
        "from sklearn.metrics import ConfusionMatrixDisplay\n",
        "\n",
        "if not using_TPU: # Otherwise the batch size is HUGE\n",
        "    S_arr = S.numpy()\n",
        "    ConfusionMatrixDisplay.from_predictions(\n",
        "        y_true=np.arange(BATCH_SIZE), y_pred=np.argmax(S_arr, axis=1))"
      ]
    },
    {
      "cell_type": "markdown",
      "metadata": {
        "id": "pQwdzlTfEsH4"
      },
      "source": [
        "Indeed, ideally the predictions should be on the diagonal. This means that the \"default\" space for this metric learning problem is not that good. We are ready to learn a new representation distribution."
      ]
    },
    {
      "cell_type": "markdown",
      "metadata": {
        "id": "gOOLMK5mIMPc"
      },
      "source": [
        "## Model definition"
      ]
    },
    {
      "cell_type": "code",
      "execution_count": 15,
      "metadata": {
        "id": "nme0koNHE76t"
      },
      "outputs": [],
      "source": [
        "class DeepQPEncoder(keras.Model):\n",
        "\n",
        "    def __init__(self, model_q, model_p):\n",
        "        super().__init__()\n",
        "        self.enc = DenseEncoder(model_q, model_p)\n",
        "\n",
        "    def call(self, inputs, training=False):\n",
        "        if training:\n",
        "            # For training we return the similarity matrix\n",
        "            repr_q, repr_p = self.enc(inputs, training=training)\n",
        "            S = tf.tensordot(repr_q, tf.transpose(repr_p), axes=1)\n",
        "            return S\n",
        "        else:\n",
        "            # In other cases, we return the representation of the question(s)\n",
        "            repr_q = self.enc(inputs, training=training)            \n",
        "            return repr_q\n",
        "\n",
        "    def train_step(self, data):\n",
        "        x = data\n",
        "        y = tf.range(tf.shape(x['questions']['input_ids'])[0])\n",
        "        with tf.GradientTape() as tape:\n",
        "            # Obtain similarities\n",
        "            S = self(x, training=True)\n",
        "            # Obtain loss value\n",
        "            loss = self.compiled_loss(y, S)\n",
        "        # Construct gradients and apply them through the optimizer\n",
        "        gradients = tape.gradient(loss, self.trainable_variables)\n",
        "        self.optimizer.apply_gradients(zip(gradients, self.trainable_variables))\n",
        "        # Update and return metrics (specifically the one for the loss value).\n",
        "        self.compiled_metrics.update_state(y, S)\n",
        "        return {m.name: m.result() for m in self.metrics}\n",
        "\n",
        "    def test_step(self, data):\n",
        "        x = data\n",
        "        y = tf.range(tf.shape(x['questions']['input_ids'])[0])\n",
        "        S = self(x, training=True) # We are not really training, but we have to obtain S\n",
        "        self.compiled_loss(y, S)\n",
        "        self.compiled_metrics.update_state(y, S)\n",
        "        return {m.name: m.result() for m in self.metrics}\n",
        "\n",
        "def create_model(sample, freeze_layers_up_to=5):\n",
        "    print(\"Creating BERT models...\")\n",
        "    model_q, model_p =  TFDistilBertModel.from_pretrained('distilbert-base-uncased'), \\\n",
        "                        TFDistilBertModel.from_pretrained('distilbert-base-uncased')\n",
        "\n",
        "    # Freeze layers \n",
        "    for i in range(freeze_layers_up_to): # layers 0 to variable are frozen, successive layers learn\n",
        "        model_q.distilbert.transformer.layer[i].trainable = False\n",
        "        model_p.distilbert.transformer.layer[i].trainable = False\n",
        "    \n",
        "    print(\"Creating Deep Encoder...\")\n",
        "    model = DeepQPEncoder(model_q, model_p)\n",
        "\n",
        "    print(\"Compiling...\")\n",
        "    # Compile the model and loss\n",
        "    model.compile(\n",
        "        optimizer=keras.optimizers.Adam(learning_rate=3e-6),\n",
        "        loss=keras.losses.SparseCategoricalCrossentropy(from_logits=True),\n",
        "        metrics=[keras.metrics.SparseCategoricalAccuracy()]\n",
        "    )\n",
        "\n",
        "    print(\"Testing on some data...\")\n",
        "    # Pass one batch of data to build the model\n",
        "    model(sample)\n",
        "\n",
        "    # Return the model\n",
        "    print(\"Model created!\")\n",
        "    return model"
      ]
    },
    {
      "cell_type": "markdown",
      "metadata": {
        "id": "HA_dwB6MIHaq"
      },
      "source": [
        "## Training procedure"
      ]
    },
    {
      "cell_type": "markdown",
      "metadata": {
        "id": "kfdxw7F4IWVi"
      },
      "source": [
        "Define utility variables and saving paths."
      ]
    },
    {
      "cell_type": "code",
      "execution_count": 16,
      "metadata": {
        "id": "s838Rj9GIUA9"
      },
      "outputs": [],
      "source": [
        "EPOCHS = 100\n",
        "PATIENCE = 3"
      ]
    },
    {
      "cell_type": "markdown",
      "metadata": {
        "id": "rOrJEqCQIZ3c"
      },
      "source": [
        "Before training, we check if we're using a TPU, in order to create the model within the scope of the strategy.\n",
        "\n",
        "Then, we train the model."
      ]
    },
    {
      "cell_type": "code",
      "execution_count": 17,
      "metadata": {
        "id": "wN6WxrL-IRjj",
        "colab": {
          "base_uri": "https://localhost:8080/"
        },
        "outputId": "4c1702ab-7373-44f4-bcf6-d025af9c1b73"
      },
      "outputs": [
        {
          "output_type": "stream",
          "name": "stdout",
          "text": [
            "Creating BERT models...\n"
          ]
        },
        {
          "output_type": "stream",
          "name": "stderr",
          "text": [
            "Some layers from the model checkpoint at distilbert-base-uncased were not used when initializing TFDistilBertModel: ['activation_13', 'vocab_projector', 'vocab_layer_norm', 'vocab_transform']\n",
            "- This IS expected if you are initializing TFDistilBertModel from the checkpoint of a model trained on another task or with another architecture (e.g. initializing a BertForSequenceClassification model from a BertForPreTraining model).\n",
            "- This IS NOT expected if you are initializing TFDistilBertModel from the checkpoint of a model that you expect to be exactly identical (initializing a BertForSequenceClassification model from a BertForSequenceClassification model).\n",
            "All the layers of TFDistilBertModel were initialized from the model checkpoint at distilbert-base-uncased.\n",
            "If your task is similar to the task the model of the checkpoint was trained on, you can already use TFDistilBertModel for predictions without further training.\n",
            "Some layers from the model checkpoint at distilbert-base-uncased were not used when initializing TFDistilBertModel: ['activation_13', 'vocab_projector', 'vocab_layer_norm', 'vocab_transform']\n",
            "- This IS expected if you are initializing TFDistilBertModel from the checkpoint of a model trained on another task or with another architecture (e.g. initializing a BertForSequenceClassification model from a BertForPreTraining model).\n",
            "- This IS NOT expected if you are initializing TFDistilBertModel from the checkpoint of a model that you expect to be exactly identical (initializing a BertForSequenceClassification model from a BertForSequenceClassification model).\n",
            "All the layers of TFDistilBertModel were initialized from the model checkpoint at distilbert-base-uncased.\n",
            "If your task is similar to the task the model of the checkpoint was trained on, you can already use TFDistilBertModel for predictions without further training.\n"
          ]
        },
        {
          "output_type": "stream",
          "name": "stdout",
          "text": [
            "Creating Deep Encoder...\n",
            "Compiling...\n",
            "Testing on some data...\n",
            "Model created!\n"
          ]
        }
      ],
      "source": [
        "import datetime\n",
        "\n",
        "if using_TPU:\n",
        "    # TPU requires to create the model within the scope of the distributed strategy\n",
        "    # we're using.\n",
        "    with strategy.scope():\n",
        "        model = create_model(sample=next(dataset_train.take(1).as_numpy_iterator()),\n",
        "                             freeze_layers_up_to=3)\n",
        "\n",
        "    # Workaraound for saving locally when using cloud TPUs\n",
        "    local_device_option = tf.train.CheckpointOptions(\n",
        "        experimental_io_device=\"/job:localhost\")\n",
        "else:\n",
        "    # GPUs and local systems don't need the above specifications. We simply\n",
        "    # create a pattern for the filename and let the callbacks deal with it.\n",
        "    checkpoint_path = os.path.join(checkpoint_dir, \"cp-{epoch:04d}.ckpt\")\n",
        "    # Also, on TPU we cannot use tensorboard, but on GPU we can\n",
        "    log_dir = os.path.join(ROOT_PATH, \"data\", \"logs\", \n",
        "        \"training_dpr\", datetime.datetime.now().strftime(\"%Y%m%d-%H%M%S\"))\n",
        "    \n",
        "    model = create_model(sample=next(dataset_train.take(1).as_numpy_iterator()),\n",
        "                             freeze_layers_up_to=3)\n",
        "\n",
        "    if DO_TRAINING:\n",
        "        # ModelCheckpoint callback is only available when not using TPU\n",
        "        cp_callback = tf.keras.callbacks.ModelCheckpoint(\n",
        "            filepath = checkpoint_path,\n",
        "            verbose=1,\n",
        "            save_weights_only = True,\n",
        "            save_best_only = False\n",
        "        )\n",
        "\n",
        "        # Same for tensorboard callback\n",
        "        tensorboard_callback = tf.keras.callbacks.TensorBoard(\n",
        "            log_dir=log_dir,\n",
        "            histogram_freq=1\n",
        "        )\n",
        "\n",
        "if DO_TRAINING:\n",
        "    # Early stopping can be used by both hardware\n",
        "    es_callback = tf.keras.callbacks.EarlyStopping(\n",
        "        patience = PATIENCE,\n",
        "        restore_best_weights=True\n",
        "    )\n",
        "\n",
        "    if using_TPU:\n",
        "        # Save first weights in a h5 file (it's the most stable way)\n",
        "        model.save_weights(os.path.join(\n",
        "            checkpoint_dir, 'training_normal_tpu_0.h5'),  overwrite=True)\n",
        "    else:\n",
        "        # Save the first weights using the pattern from before\n",
        "        model.save_weights(checkpoint_path.format(epoch=0))\n",
        "\n",
        "    callbacks = [es_callback]\n",
        "    if not using_TPU:\n",
        "        # These callback imply saving stuff on local disk, which cannot be \n",
        "        # done automatically using TPUs.\n",
        "        # Therefore, they are only active when using GPUs and local systems\n",
        "        callbacks.extend([cp_callback, tensorboard_callback])\n",
        "\n",
        "    # We fit the model\n",
        "    history = model.fit(\n",
        "        dataset_train, \n",
        "        y=None,\n",
        "        validation_data=dataset_val,\n",
        "        epochs=EPOCHS, \n",
        "        callbacks=callbacks,\n",
        "        shuffle=True,\n",
        "        use_multiprocessing=True,\n",
        "        initial_epoch=0,\n",
        "        verbose=1 # Show progress bar\n",
        "    )\n",
        "\n",
        "    if using_TPU:\n",
        "        # Save last weights\n",
        "        model.save_weights(os.path.join(\n",
        "            checkpoint_dir, 'training_normal_tpu_last.h5'), overwrite=True)"
      ]
    },
    {
      "cell_type": "markdown",
      "source": [
        "Note: the model was trained in 22 epochs on a cloud TPU. It took about two hours and reached a validation accuracy of 99.3%."
      ],
      "metadata": {
        "id": "LCgA-4RbAZCh"
      }
    },
    {
      "cell_type": "markdown",
      "source": [
        "# Question Answering with the DPR\n",
        "\n",
        "We have trained the two Bert (`bert_p`, the paragraphs encoder and `bert_q`, the questions encoder) models to produce embeddings that are as similar as possible for matching question-paragraph pairs. \n",
        "\n",
        "Thanks to our training, when we use `bert_q` to encode our question, we will now be sure that questions and paragraphs will both be encoded in the same space and have a high similarity between the question encoding and the matching paragraph's encoding.\n",
        "\n",
        "We can now use `bert_p` to encode all of our paragraphs a-priori using the same method we have used before (taking the 768-d encoding at the `[CLS]` token). These encodings will be stored in RAM. \n",
        "\n",
        "Then, we can define our final Question Answering model in this way:\n",
        "- It receives only a question's embedding as input.\n",
        "- It uses `bert_q` to create a representation of the question in the learnt 768-d space, that is in common with the paragraph representations.\n",
        "- We compute similarity scores between the representation of the question and all representations of paragraphs. Based on these scores, we select the top-k ($k=100$) paragraphs.\n",
        "- For each of the $k$ paragraphs, we must compute the probability of the paragraph being selected $P_{selected}(i)$, as well as the usual $P_{start, i}(s), P_{end, i}(t)$ for each of the $s$-th and $t$-th words of the $i$-th paragraph. To do that, we need the full encoding of the paragraph (the $512 \\times 768$ output of Bert), which will be denoted as $P_i$ in contrast to $\\hat{P}_i$ which is the 768-d encoding at the `[CLS]` token. We obtain the full encoding by passing the $k$ paragraphs through `bert_p`, which is set to non-trainable (otherwise the encoding of the `[CLS]` token would constantly change). \n",
        "- All probabilities are computed through dense layers:\n",
        "\\begin{gather}\n",
        "P_{start,i}(s) = softmax(P_i w_{start})_s\n",
        "\\\\\n",
        "P_{end,i}(t) = softmax(P_i w_{end})_t\n",
        "\\\\\n",
        "P_{selected}(i) = softmax(\\hat{P}^\\intercal w_{selected})_i\n",
        "\\\\\n",
        "\\end{gather}\n",
        "where $w_{start}$, $w_{end}$ and $w_{selected}$ are learnt vectors, while $\\hat{P} = [P_{1}^{[CLS]}, \\dots, P_k^{[CLS]}]$.\n",
        "- As final answer, we select the highest scoring start-end legal span from the highest-scoring paragraph.\n",
        "\n",
        "During training: For each question, we create a batch by sampling $m$ ($m=24$ in the paper) from the top-100 passages returned by the retrieval system (DPR, so by computing similarities with the pre-computed representations). The training objective is to maximize the marginal log-likelihood of all the correct answer spans in the positive passage (the answer string may appear multiple times in one passage), combined with the log-likelihood of the positive passage being selected. In the paper, a batch size of 16 was used.\n"
      ],
      "metadata": {
        "id": "5DtqzKMW6scF"
      }
    },
    {
      "cell_type": "markdown",
      "source": [
        "### Paragraphs representations"
      ],
      "metadata": {
        "id": "5InDU76v93rS"
      }
    },
    {
      "cell_type": "markdown",
      "source": [
        "First of all, we load the weights of the trained model."
      ],
      "metadata": {
        "id": "fbp2lLe9iX-u"
      }
    },
    {
      "cell_type": "code",
      "source": [
        "# Load the obtained weights\n",
        "model.load_weights(os.path.join(checkpoint_dir, 'training_normal_tpu_last.h5'))"
      ],
      "metadata": {
        "id": "ry1uahz-bh4_"
      },
      "execution_count": 18,
      "outputs": []
    },
    {
      "cell_type": "markdown",
      "source": [
        "Then, we allocate space for the matrices that will contain all paragraphs encoding."
      ],
      "metadata": {
        "id": "OVIemd7MibmK"
      }
    },
    {
      "cell_type": "code",
      "source": [
        "train_paragraphs_encodings = np.empty(\n",
        "    shape=(len(train_paragraphs), BERT_DIMENSIONALITY)\n",
        ")\n",
        "val_paragraphs_encodings = np.empty(\n",
        "    shape=(len(val_paragraphs), BERT_DIMENSIONALITY)\n",
        ")\n",
        "print(train_paragraphs_encodings.shape, val_paragraphs_encodings.shape)"
      ],
      "metadata": {
        "id": "TPpSZ9nSZWMz",
        "colab": {
          "base_uri": "https://localhost:8080/"
        },
        "outputId": "1a9ce264-035d-414b-9f6f-c7b874a6f76f"
      },
      "execution_count": 19,
      "outputs": [
        {
          "output_type": "stream",
          "name": "stdout",
          "text": [
            "(18896, 768) (4921, 768)\n"
          ]
        }
      ]
    },
    {
      "cell_type": "code",
      "source": [
        "if not os.path.exists(os.path.join(checkpoint_dir, 'train_paragraphs_encodings.txt')) or \\\n",
        "   OVERRIDE_REPRESENTATIONS:\n",
        "\n",
        "    print(\"Obtaining training representations\")\n",
        "    for i in tqdm(range(len(train_paragraphs))):\n",
        "        train_paragraphs_encodings[i] = model.enc.model_p(tokenizer_distilbert(\n",
        "            train_paragraphs[i]['context'], max_length = 512, \n",
        "            return_tensors='tf',\n",
        "            truncation = True, padding = 'max_length'\n",
        "        )).last_hidden_state[0,0,:]\n",
        "    \n",
        "    np.savetxt(os.path.join(checkpoint_dir, 'train_paragraphs_encodings.txt'), \n",
        "               train_paragraphs_encodings, delimiter=',')\n",
        "\n",
        "if not os.path.exists(os.path.join(checkpoint_dir, 'val_paragraphs_encodings.txt')) or \\\n",
        "   OVERRIDE_REPRESENTATIONS:\n",
        "\n",
        "    print(\"Obtaining validation representations\")\n",
        "    for i in tqdm(range(len(val_paragraphs))):\n",
        "        val_paragraphs_encodings[i] = model.enc.model_p(tokenizer_distilbert(\n",
        "            val_paragraphs[i]['context'], max_length = 512, \n",
        "            return_tensors='tf',\n",
        "            truncation = True, padding = 'max_length'\n",
        "        )).last_hidden_state[0,0,:]\n",
        "\n",
        "    np.savetxt(os.path.join(checkpoint_dir, 'val_paragraphs_encodings.txt'),\n",
        "               val_paragraphs_encodings, delimiter=',')"
      ],
      "metadata": {
        "id": "bU8pBjgvbZS0"
      },
      "execution_count": 20,
      "outputs": []
    },
    {
      "cell_type": "code",
      "source": [
        "train_paragraphs_encoding = np.loadtxt(os.path.join(checkpoint_dir, \n",
        "                                                    'train_paragraphs_encodings.txt'), \n",
        "                                       delimiter=',', dtype=np.float32)\n",
        "val_paragraphs_encoding = np.loadtxt(os.path.join(checkpoint_dir, \n",
        "                                                  'val_paragraphs_encodings.txt'), \n",
        "                                     delimiter=',', dtype=np.float32)"
      ],
      "metadata": {
        "id": "jPRAKDc-9GQm"
      },
      "execution_count": 21,
      "outputs": []
    },
    {
      "cell_type": "markdown",
      "source": [
        "### Qualitative test"
      ],
      "metadata": {
        "id": "ReN18CaggRW5"
      }
    },
    {
      "cell_type": "markdown",
      "source": [
        "We select some random questions and see whether the selected paragraph is the correct one."
      ],
      "metadata": {
        "id": "qQ4-VRXZgXlb"
      }
    },
    {
      "cell_type": "code",
      "source": [
        "sample_question = random.choice(train_questions)\n",
        "print(f\"Question: {sample_question['qas']['question']}\")\n",
        "print(f\"Ground truth paragraph: {get_paragraph_from_question(sample_question, train_dict)['context']}\")\n",
        "print(f\"Ground truth index: {get_paragraph_global_id_from_question(sample_question, train_paragraphs)}\")\n",
        "sample_q_repr = model.enc.model_q(tokenizer_distilbert(\n",
        "    sample_question['qas']['question'], max_length = 512, \n",
        "    return_tensors='tf', truncation = True, padding = 'max_length'\n",
        ")).last_hidden_state[:,0,:]\n",
        "print(f\"Question representation shape: {sample_q_repr.shape}\")\n",
        "scores = tf.tensordot(sample_q_repr, train_paragraphs_encoding.T, axes=1)\n",
        "best_par_index = tf.argsort(scores, axis=1, direction='DESCENDING')[0, :5].numpy()\n",
        "print(f\"Top-5 best matching paragraphs have indexes {best_par_index}\")\n",
        "print(f\"Top-5 best matching paragraphs:\")\n",
        "for i in range(5):\n",
        "    print(f\"{i})\\t{train_paragraphs[best_par_index[i]]['context']}\")"
      ],
      "metadata": {
        "id": "S1NISpx7gs4I",
        "colab": {
          "base_uri": "https://localhost:8080/"
        },
        "outputId": "509a939a-fa2e-4aba-e56b-8eee0fcf38d1"
      },
      "execution_count": 22,
      "outputs": [
        {
          "output_type": "stream",
          "name": "stdout",
          "text": [
            "Question: What poet wrote a long poem describing Roman religious holidays?\n",
            "Ground truth paragraph: The meaning and origin of many archaic festivals baffled even Rome's intellectual elite, but the more obscure they were, the greater the opportunity for reinvention and reinterpretation — a fact lost neither on Augustus in his program of religious reform, which often cloaked autocratic innovation, nor on his only rival as mythmaker of the era, Ovid. In his Fasti, a long-form poem covering Roman holidays from January to June, Ovid presents a unique look at Roman antiquarian lore, popular customs, and religious practice that is by turns imaginative, entertaining, high-minded, and scurrilous; not a priestly account, despite the speaker's pose as a vates or inspired poet-prophet, but a work of description, imagination and poetic etymology that reflects the broad humor and burlesque spirit of such venerable festivals as the Saturnalia, Consualia, and feast of Anna Perenna on the Ides of March, where Ovid treats the assassination of the newly deified Julius Caesar as utterly incidental to the festivities among the Roman people. But official calendars preserved from different times and places also show a flexibility in omitting or expanding events, indicating that there was no single static and authoritative calendar of required observances. In the later Empire under Christian rule, the new Christian festivals were incorporated into the existing framework of the Roman calendar, alongside at least some of the traditional festivals.\n",
            "Ground truth index: 18137\n",
            "Question representation shape: (1, 768)\n",
            "Top-5 best matching paragraphs have indexes [18137 18135 10372 18136 18124]\n",
            "Top-5 best matching paragraphs:\n",
            "0)\tThe meaning and origin of many archaic festivals baffled even Rome's intellectual elite, but the more obscure they were, the greater the opportunity for reinvention and reinterpretation — a fact lost neither on Augustus in his program of religious reform, which often cloaked autocratic innovation, nor on his only rival as mythmaker of the era, Ovid. In his Fasti, a long-form poem covering Roman holidays from January to June, Ovid presents a unique look at Roman antiquarian lore, popular customs, and religious practice that is by turns imaginative, entertaining, high-minded, and scurrilous; not a priestly account, despite the speaker's pose as a vates or inspired poet-prophet, but a work of description, imagination and poetic etymology that reflects the broad humor and burlesque spirit of such venerable festivals as the Saturnalia, Consualia, and feast of Anna Perenna on the Ides of March, where Ovid treats the assassination of the newly deified Julius Caesar as utterly incidental to the festivities among the Roman people. But official calendars preserved from different times and places also show a flexibility in omitting or expanding events, indicating that there was no single static and authoritative calendar of required observances. In the later Empire under Christian rule, the new Christian festivals were incorporated into the existing framework of the Roman calendar, alongside at least some of the traditional festivals.\n",
            "1)\tRoman calendars show roughly forty annual religious festivals. Some lasted several days, others a single day or less: sacred days (dies fasti) outnumbered \"non-sacred\" days (dies nefasti). A comparison of surviving Roman religious calendars suggests that official festivals were organized according to broad seasonal groups that allowed for different local traditions. Some of the most ancient and popular festivals incorporated ludi (\"games,\" such as chariot races and theatrical performances), with examples including those held at Palestrina in honour of Fortuna Primigenia during Compitalia, and the Ludi Romani in honour of Liber. Other festivals may have required only the presence and rites of their priests and acolytes, or particular groups, such as women at the Bona Dea rites.\n",
            "2)\tWhile forming an integral part of the Christian calendar, particularly in Catholic regions, many Carnival traditions resemble those antedating Christianity. Italian Carnival is sometimes thought to be derived from the ancient Roman festivals of Saturnalia and Bacchanalia. The Saturnalia, in turn, may be based on the Greek Dionysia and Oriental festivals. For the start of the Roman Saturnalia, on December 17 authorities chose an enemy of the Roman people to represent the Lord of Misrule in each community. These men and women were forced to indulge in food and physical pleasures throughout the week, horribly murdered on December 25th: \"destroying the forces of darkness\".\n",
            "3)\tOther public festivals were not required by the calendar, but occasioned by events. The triumph of a Roman general was celebrated as the fulfillment of religious vows, though these tended to be overshadowed by the political and social significance of the event. During the late Republic, the political elite competed to outdo each other in public display, and the ludi attendant on a triumph were expanded to include gladiator contests. Under the Principate, all such spectacular displays came under Imperial control: the most lavish were subsidised by emperors, and lesser events were provided by magistrates as a sacred duty and privilege of office. Additional festivals and games celebrated Imperial accessions and anniversaries. Others, such as the traditional Republican Secular Games to mark a new era (saeculum), became imperially funded to maintain traditional values and a common Roman identity. That the spectacles retained something of their sacral aura even in late antiquity is indicated by the admonitions of the Church Fathers that Christians should not take part.\n",
            "4)\tThe Romans are known for the great number of deities they honored, a capacity that earned the mockery of early Christian polemicists. The presence of Greeks on the Italian peninsula from the beginning of the historical period influenced Roman culture, introducing some religious practices that became as fundamental as the cult of Apollo. The Romans looked for common ground between their major gods and those of the Greeks (interpretatio graeca), adapting Greek myths and iconography for Latin literature and Roman art. Etruscan religion was also a major influence, particularly on the practice of augury.\n"
          ]
        }
      ]
    },
    {
      "cell_type": "markdown",
      "source": [
        "Usually, the correct paragraphs show up in the Top-5 list."
      ],
      "metadata": {
        "id": "bOPMaSyb5CfJ"
      }
    },
    {
      "cell_type": "markdown",
      "source": [
        "### Quantitative test"
      ],
      "metadata": {
        "id": "cWM3pdRAwBlz"
      }
    },
    {
      "cell_type": "markdown",
      "source": [
        "We can measure the top-1/top-5 accuracy with the same used in the tf-idf baseline."
      ],
      "metadata": {
        "id": "lJXrFcjnwFaA"
      }
    },
    {
      "cell_type": "code",
      "source": [
        "count_top1 = 0\n",
        "count_top5 = 0\n",
        "count_total = len(val_questions)\n",
        "\n",
        "if RUN_ACCURACY_ANALYSIS:\n",
        "    def top_5_for_question(question):\n",
        "        sample_q_repr = model.enc.model_q(question).last_hidden_state[:,0,:]\n",
        "        scores = tf.tensordot(sample_q_repr, val_paragraphs_encoding.T, axes=1)\n",
        "        top5_indices = tf.argsort(scores, axis=1, direction='DESCENDING')[0, :5].numpy()\n",
        "        top5_scores = tf.sort(scores, axis=1, direction='DESCENDING')[0, :5].numpy()\n",
        "        top5_para = [val_paragraphs[i] for i in top5_indices]\n",
        "        return top5_para, top5_scores, top5_indices     \n",
        "\n",
        "    for i,q in enumerate(tqdm(val_questions)):\n",
        "        top5_para, top5_scores, top5_indices = top_5_for_question(\n",
        "            tokenizer_distilbert(\n",
        "                q['qas']['question'], max_length = 512, \n",
        "                return_tensors='tf', truncation = True, padding = 'max_length'\n",
        "            )\n",
        "        )\n",
        "        top5_context_ids = [top5_para[i]['context_id'] for i in range(len(top5_para))]\n",
        "        gt_context_id = q['context_id'][0]\n",
        "        if gt_context_id == top5_context_ids[0]:\n",
        "            count_top1 += 1\n",
        "        if gt_context_id in top5_context_ids:\n",
        "            count_top5 += 1\n",
        "\n",
        "    top1_score = count_top1 / count_total * 100\n",
        "    top5_score = count_top5 / count_total * 100\n",
        "\n",
        "    print(f\"\\nTop 1 score: {top1_score:.2f}%,\\nTop 5 score: {top5_score:.2f}%\")"
      ],
      "metadata": {
        "id": "MShv2E92wXJt"
      },
      "execution_count": 23,
      "outputs": []
    },
    {
      "cell_type": "markdown",
      "source": [
        "Top 1 score: 86.49%\n",
        "\n",
        "Top 5 score: 96.58%\n",
        "\n",
        "This is a clear improvement with respect to the Tf-Idf baseline (72.01%/87.82%), but it's also quite slower. \n",
        "- It may look as an unfair comparison, because the Tf-Idf baseline was tested on all questions, but in fact it's more realistic because it's done on a subset of data that the model has not been trained on."
      ],
      "metadata": {
        "id": "RwctHyoXCrP5"
      }
    },
    {
      "cell_type": "markdown",
      "source": [
        "## Question Answering model"
      ],
      "metadata": {
        "id": "zPG2DHje99it"
      }
    },
    {
      "cell_type": "code",
      "source": [
        "class DensePassageRetriever(keras.Model):\n",
        "    '''\n",
        "    This model retrieves the best available passages given a question\n",
        "    and a set of paragraphs (encodings). The model is non-trainable,\n",
        "    as it assumes that the deep question encoder (model_q) has already been\n",
        "    trained.\n",
        "    '''\n",
        "    def __init__(self, model_q):\n",
        "        super().__init__()\n",
        "        self.model_q = model_q\n",
        "\n",
        "    def call(self, inputs, m=100):\n",
        "        '''\n",
        "        Assumes that inputs is a dictionary containing (at least):\n",
        "        - `input_ids`: the input ids of the questions obtained from the tokenizer\n",
        "        - `attention_mask`: the attention mask of the questions obtained from the tokenizer\n",
        "        - `paragraphs_encodings`: the matrix of paragraph encodings for the dataset (num_parag x encoding_dim)\n",
        "\n",
        "        Returns the (batch_size x num_parag) matrix of scores and the (batch_size x m) top_m indexes (according\n",
        "        to parameter `m` which defaults to 100)\n",
        "        '''\n",
        "        # 1) Obtain search encoding of question\n",
        "        qs = {\n",
        "            'input_ids': inputs['questions']['input_ids'],\n",
        "            'attention_mask': inputs['questions']['attention_mask']\n",
        "        }\n",
        "        q_repr = self.model_q(qs).last_hidden_state[:,0,:]                                   # batch_size x encoding_dim\n",
        "        # 2) Selection of paragraphs using search encoding\n",
        "        scores = tf.tensordot(q_repr, tf.transpose(inputs['paragraphs_encodings']), axes=1)  # batch_size x num_parag\n",
        "        topm_indexes = tf.argsort(scores, axis=1, direction='DESCENDING')[:, :m]             # batch_size x m\n",
        "        return scores, topm_indexes\n",
        "\n",
        "\n",
        "class QuestionAnsweringModel(keras.Model):\n",
        "\n",
        "    def __init__(self, model_q, model_p, tokenizer, train_m = 24, m = 50):\n",
        "        super().__init__()\n",
        "        self.dpr = DensePassageRetriever(model_q)\n",
        "        self.model_p = model_p\n",
        "        self.tokenizer = tokenizer\n",
        "        # The dot product + softmaxes are implemented as Dense layers\n",
        "        # with only 1 output and a later softmax activation\n",
        "        self.dense_s = keras.layers.TimeDistributed(keras.layers.Dense(1), name=\"start_token_probability_layer\") # Output: n_par_selectedx512x1 scores\n",
        "        self.dense_e = keras.layers.TimeDistributed(keras.layers.Dense(1), name=\"end_token_probability_layer\")   # Output: n_par_selectedx512x1 scores\n",
        "        self.dense_sel = keras.layers.Dense(1, name=\"paragraph_selection_probability_layer\")                     # Output: n_par_selectedx1 scores\n",
        "        self.flatten = keras.layers.TimeDistributed(keras.layers.Flatten(), name=\"flatten_layer\")                # Flattening utility layer\n",
        "        # We always train on the same data so we save the training encodings\n",
        "        self.train_encoding_dataset = train_paragraphs_encoding\n",
        "        self.train_paragraphs = tf.stack([train_paragraphs[i]['context'] for i in range(len(train_paragraphs))])\n",
        "        # The encodings and paragraphs of the other set (validation? test?) should be\n",
        "        # loaded in before using the model\n",
        "        self.other_encoding_dataset = None\n",
        "        self.other_paragraphs = None\n",
        "        # Set the dpr, model_q and model_p as non-trainable\n",
        "        for l in self.dpr.model_q.layers:\n",
        "            l.trainable = False\n",
        "        for l in self.dpr.layers:\n",
        "            l.trainable = False\n",
        "        for l in self.model_p.layers:\n",
        "            l.trainable = False\n",
        "        # Other parameters\n",
        "        self.train_m = train_m\n",
        "        self.m = m\n",
        "\n",
        "\n",
        "    def load_testing_set_of_paragraphs(self, paragraphs, paragraphs_encoding):\n",
        "        # REMEMBER: switch the dataset of paragraphs encoding\n",
        "        # when moving from validation to test\n",
        "        self.other_paragraphs = np.stack([paragraphs[i]['context'] for i in range(len(paragraphs))])\n",
        "        self.other_encoding_dataset = paragraphs_encoding\n",
        "\n",
        "\n",
        "    def collect_paragraphs_from_indices(self, data_batch, paragraphs):\n",
        "        # Collect paragraphs\n",
        "        paragraphs = tf.gather(paragraphs, data_batch).numpy()\n",
        "        # Tokenize the selected paragraphs\n",
        "        tokenized_paragraphs = [dict(self.tokenizer(\n",
        "            [par.decode('utf-8') for par in paragraphs[p]], max_length = 512, \n",
        "            return_tensors='tf', truncation = True, \n",
        "            padding = 'max_length', return_offsets_mapping = True\n",
        "        )) for p in range(len(paragraphs))]\n",
        "        # Compute full encoding (cannot pre-encode because it takes too much space) (also, for test mode)\n",
        "        paragraphs_full_encodings = [self.model_p({\n",
        "                'input_ids': tokenized_paragraphs[p]['input_ids'],\n",
        "                'attention_mask': tokenized_paragraphs[p]['attention_mask']\n",
        "            }).last_hidden_state for p in range(len(paragraphs))]                   # batch_size x (mx512x768) tensors\n",
        "        # The search encoding is simply the first token of these\n",
        "        paragraphs_search_encodings = [p[:,0,:] for p in paragraphs_full_encodings] # batch_size x (mx768) tensors\n",
        "\n",
        "        return paragraphs, tokenized_paragraphs, \\\n",
        "            tf.stack(paragraphs_full_encodings), \\\n",
        "            tf.stack(paragraphs_search_encodings)\n",
        "\n",
        "    def call(self, inputs, training=False):\n",
        "        if not training:\n",
        "            # inputs should be simply be the question string\n",
        "            tokenized_q = dict(self.tokenizer(\n",
        "                inputs[0], max_length = 512, \n",
        "                return_tensors='tf', truncation = True, \n",
        "                padding = 'max_length', return_offsets_mapping = True\n",
        "            ))\n",
        "\n",
        "            # Do what should be done in the test step:\n",
        "\n",
        "            # Obtain the topm_indexes for the question\n",
        "            _, topm_indexes = self.dpr({\n",
        "                'questions': {\n",
        "                    'input_ids': tokenized_q['input_ids'],\n",
        "                    'attention_mask': tokenized_q['attention_mask']\n",
        "                },\n",
        "                'paragraphs_encodings': self.other_encoding_dataset\n",
        "            }, m = self.m)\n",
        "            \n",
        "            # In the test case, the data batch is simply made of the returned paragraphs\n",
        "            data_batch = topm_indexes\n",
        "\n",
        "            # Gather paragraphs and compute their encodings\n",
        "            paragraphs, tokenized_paragraphs, paragraphs_full_encodings, paragraphs_search_encodings = \\\n",
        "                self.collect_paragraphs_from_indices(data_batch, self.other_paragraphs)\n",
        "\n",
        "            # Create the input dictionary\n",
        "            inputs = {\n",
        "                'paragraphs_full_encodings': paragraphs_full_encodings,\n",
        "                'paragraphs_search_encodings': paragraphs_search_encodings\n",
        "            }\n",
        "\n",
        "        # Probabilities calculations\n",
        "        probs_s = tf.nn.softmax(self.flatten(self.dense_s(inputs['paragraphs_full_encodings'])), axis=2)\n",
        "        probs_e = tf.nn.softmax(self.flatten(self.dense_e(inputs['paragraphs_full_encodings'])), axis=2)\n",
        "        probs_sel = tf.nn.softmax(self.dense_sel(inputs['paragraphs_search_encodings']), axis=1)\n",
        "\n",
        "        # Selection of best scoring paragraphs\n",
        "        best_scoring_paragraphs = tf.cast(tf.squeeze(tf.argmax(probs_sel, axis=1)), tf.int32)\n",
        "\n",
        "        # Selection of related start-end probabilities\n",
        "        probs_s = tf.squeeze(tf.gather(probs_s, indices=tf.expand_dims(best_scoring_paragraphs, -1), batch_dims=1))\n",
        "        probs_e = tf.squeeze(tf.gather(probs_e, indices=tf.expand_dims(best_scoring_paragraphs, -1), batch_dims=1))\n",
        "\n",
        "        if training:\n",
        "            # Compute losses\n",
        "            self.add_loss(keras.losses.categorical_crossentropy(\n",
        "                y_true=inputs['out_s'], y_pred=probs_s\n",
        "            ))\n",
        "            self.add_loss(keras.losses.categorical_crossentropy(\n",
        "                y_true=inputs['out_e'], y_pred=probs_e\n",
        "            ))\n",
        "            self.add_loss(keras.losses.categorical_crossentropy(\n",
        "                y_true=inputs['gt_mask'], y_pred=tf.squeeze(probs_sel)\n",
        "            ))\n",
        "\n",
        "            # Update metrics\n",
        "            self.add_metric(keras.metrics.categorical_accuracy(\n",
        "                y_true=inputs['out_s'], y_pred=probs_s), \n",
        "                name=\"start_token_accuracy\")\n",
        "            self.add_metric(keras.metrics.categorical_accuracy(\n",
        "                y_true=inputs['out_e'], y_pred=probs_e), \n",
        "                name=\"end_token_accuracy\")\n",
        "            self.add_metric(keras.metrics.categorical_accuracy(\n",
        "                y_true=inputs['gt_mask'], y_pred=tf.squeeze(probs_sel)), \n",
        "                name=\"selection_accuracy\")\n",
        "\n",
        "            return probs_sel, probs_s, probs_e\n",
        "        \n",
        "        else:\n",
        "\n",
        "            return paragraphs, tokenized_paragraphs, best_scoring_paragraphs, \\\n",
        "                   probs_sel, probs_s, probs_e\n",
        "\n",
        "\n",
        "    @tf.function\n",
        "    def obtain_training_info(self, indexes, topm_indexes):\n",
        "        # Collect ground truth indexes\n",
        "        gt_paragraphs = tf.expand_dims(tf.cast(indexes, tf.int32), -1)\n",
        "        # A training sample is formed by the positive and m-1 negative examples\n",
        "        # obtained from the top-100 for each of the questions in the batch.\n",
        "        # We create a data batch by sampling m-1 examples from the masked 100 paragraphs\n",
        "        negative_masks = tf.math.not_equal(topm_indexes, gt_paragraphs)\n",
        "        # To keep the graph working with the correct sizes, we create a tensor of negatives \n",
        "        # by random shuffling the large tensor of topm and taking the first train_m elements.\n",
        "        # The positive examples are replaced by randomly sampling from the same tensor.\n",
        "        # It could happen that the positive example is replaced by itself, or that a \n",
        "        # negative sample appears twice in the batch, but it's a non-deterministic\n",
        "        # process.\n",
        "        negatives = self.tf_shuffle_on_columns(tf.where(\n",
        "            negative_masks, topm_indexes, self.tf_shuffle_on_columns(topm_indexes))\n",
        "        )[:,:self.train_m-1]\n",
        "        # We concatenate the positive paragraph index to the selected negatives and shuffle\n",
        "        # so that the positive is not always the last element\n",
        "        data_batch = self.tf_shuffle_on_columns(\n",
        "            tf.concat([negatives, gt_paragraphs], axis=1))\n",
        "        # When we have a data batch, we create the ground truth mask, which represents the position\n",
        "        # of the positive sample in the data batch in a one-hot encoded fashion.\n",
        "        gt_mask = tf.cast(data_batch == gt_paragraphs, tf.int32)\n",
        "        return data_batch, gt_mask\n",
        "\n",
        "\n",
        "    @tf.function\n",
        "    def tf_shuffle_on_columns(self, value):\n",
        "        # Create a tensor of random numbers, argsort it and use them as indices to gather\n",
        "        # values from the original tensor\n",
        "        return tf.gather(value, tf.argsort(tf.random.uniform(tf.shape(value))), batch_dims=1)\n",
        "\n",
        "\n",
        "    def train_step(self, data):\n",
        "        # Obtain scores and paragraphs top indexes\n",
        "        _, topm_indexes = self.dpr({\n",
        "            'questions': {\n",
        "                'input_ids': data['questions']['input_ids'],\n",
        "                'attention_mask': data['questions']['attention_mask']\n",
        "            },\n",
        "            'paragraphs_encodings': self.train_encoding_dataset\n",
        "        })\n",
        "        \n",
        "        data_batch, gt_mask = self.obtain_training_info(\n",
        "            data['paragraphs']['index'], topm_indexes)\n",
        "\n",
        "        # Gather paragraphs and compute their encodings\n",
        "        _, _, paragraphs_full_encodings, paragraphs_search_encodings = \\\n",
        "            self.collect_paragraphs_from_indices(data_batch, self.train_paragraphs)\n",
        "\n",
        "        # Create the input dictionary\n",
        "        inputs = {\n",
        "            'paragraphs_full_encodings': paragraphs_full_encodings,\n",
        "            'paragraphs_search_encodings': paragraphs_search_encodings,\n",
        "            'out_s': data['answers']['out_s'],\n",
        "            'out_e': data['answers']['out_e'],\n",
        "            'gt_mask': gt_mask\n",
        "        }\n",
        "        \n",
        "        # Activate the gradient tape and collect the output from the model\n",
        "        with tf.GradientTape() as tape:\n",
        "            # Obtain probabilities from the model\n",
        "            probs_sel, probs_s, probs_e = self(inputs, training=True)\n",
        "            # Obtain loss value\n",
        "            loss = sum(self.losses)\n",
        "        \n",
        "        # Construct gradients and apply them through the optimizer\n",
        "        gradients = tape.gradient(loss, self.trainable_variables)\n",
        "        self.optimizer.apply_gradients(zip(gradients, self.trainable_variables))\n",
        "        # Return the dict of metrics\n",
        "        return {m.name: m.result() for m in self.metrics}\n",
        "\n",
        "\n",
        "    def test_step(self, data):\n",
        "        # Obtain scores and paragraphs top indexes\n",
        "        _, topm_indexes = self.dpr({\n",
        "            'questions': {\n",
        "                'input_ids': data['questions']['input_ids'],\n",
        "                'attention_mask': data['questions']['attention_mask']\n",
        "            },\n",
        "            'paragraphs_encodings': self.other_encoding_dataset\n",
        "        }, m = self.m)\n",
        "        \n",
        "        # In the test case, the data batch is simply made of the returned paragraphs\n",
        "        data_batch = topm_indexes\n",
        "\n",
        "        # Gather paragraphs and compute their encodings\n",
        "        _, _, paragraphs_full_encodings, paragraphs_search_encodings = \\\n",
        "            self.collect_paragraphs_from_indices(data_batch, self.other_paragraphs)\n",
        "\n",
        "        # Create the input dictionary\n",
        "        inputs = {\n",
        "            'paragraphs_full_encodings': paragraphs_full_encodings,\n",
        "            'paragraphs_search_encodings': paragraphs_search_encodings,\n",
        "            'out_s': data['answers']['out_s'],\n",
        "            'out_e': data['answers']['out_e'],\n",
        "            'gt_mask': gt_mask\n",
        "        }\n",
        "\n",
        "        # Obtain the probabilities from the model and return the dict of metrics\n",
        "        probs_sel, probs_s, probs_e = self(inputs, training=True)\n",
        "        return {m.name: m.result() for m in self.metrics}\n",
        "\n",
        "\n",
        "    def start_end_token_from_probabilities(\n",
        "        pstartv: np.array, \n",
        "        pendv: np.array, \n",
        "        dim:int=512) -> List[List[int]]:\n",
        "        '''\n",
        "        Returns a List of [StartToken, EndToken] elements computed from the batch outputs.\n",
        "        '''\n",
        "        idxs = []\n",
        "        for i in range(pstartv.shape[0]):\n",
        "            # For each element in the batch, transform the vectors into matrices\n",
        "            # by repeating them dim times:\n",
        "            # - Vectors of starting probabilities are stacked on the columns\n",
        "            pstart = np.stack([pstartv[i,:]]*dim, axis=1)\n",
        "            # - Vectors of ending probabilities are repeated on the rows\n",
        "            pend = np.stack([pendv[i,:]]*dim, axis=0)\n",
        "            # Once we have the two matrices, we sum them (element-wise operation)\n",
        "            # to obtain the scores of each combination\n",
        "            sums = pstart + pend\n",
        "            # We only care about the scores in the upper triangular part of the matrix\n",
        "            # (where the ending index is greater than the starting index)\n",
        "            # therefore we zero out the diagonal and the lower triangular area\n",
        "            sums = np.triu(sums, k=1)\n",
        "            # The most probable set of tokens is the one with highest score in the\n",
        "            # remaining matrix. Through argmax we obtain its position.\n",
        "            val = np.argmax(sums)\n",
        "            # Since the starting probabilities are repeated on the columns, each element\n",
        "            # is identified by the row. Ending probabilities are instead repeated on rows,\n",
        "            # so each element is identified by the column.\n",
        "            row = val // dim\n",
        "            col = val - dim*row\n",
        "            idxs.append([row,col])\n",
        "        return idxs\n",
        "\n",
        "\n",
        "def create_model_qa(model_q, model_p, tokenizer, sample):\n",
        "    print(\"Creating Question Answering model...\")\n",
        "    model = QuestionAnsweringModel(model_q, model_p, tokenizer)\n",
        "\n",
        "    print(\"Compiling...\")\n",
        "    # Compile the model (loss and metrics are defined into the model)\n",
        "    model.compile(\n",
        "        run_eagerly=True,\n",
        "        optimizer=keras.optimizers.Adam(learning_rate=3e-6)\n",
        "    )\n",
        "\n",
        "    # Load the validation set\n",
        "    model.load_testing_set_of_paragraphs(val_paragraphs, \n",
        "                                         val_paragraphs_encoding)\n",
        "\n",
        "    print(\"Testing on some data...\")\n",
        "    # Pass one batch of data to build the model\n",
        "    model(sample, training=False)\n",
        "\n",
        "    # Visualize the model's structure\n",
        "    model.summary()\n",
        "\n",
        "    # Return the model\n",
        "    print(\"Model created!\")\n",
        "    return model"
      ],
      "metadata": {
        "id": "qs19PLwt-AOh"
      },
      "execution_count": 24,
      "outputs": []
    },
    {
      "cell_type": "markdown",
      "source": [
        "Train the model:"
      ],
      "metadata": {
        "id": "ffh1nGX0I9FT"
      }
    },
    {
      "cell_type": "code",
      "source": [
        "import datetime\n",
        "\n",
        "if using_TPU:\n",
        "    # TPU requires to create the model within the scope of the distributed strategy\n",
        "    # we're using.\n",
        "    with strategy.scope():\n",
        "        model_qa = create_model_qa(model.enc.model_q, model.enc.model_p,tokenizer_distilbert,\n",
        "                                sample=\"Who are you?\")\n",
        "\n",
        "    # Workaraound for saving locally when using cloud TPUs\n",
        "    local_device_option = tf.train.CheckpointOptions(\n",
        "        experimental_io_device=\"/job:localhost\")\n",
        "else:\n",
        "    # GPUs and local systems don't need the above specifications. We simply\n",
        "    # create a pattern for the filename and let the callbacks deal with it.\n",
        "    checkpoint_path = os.path.join(checkpoint_dir, \"cp-{epoch:04d}.ckpt\")\n",
        "    # Also, on TPU we cannot use tensorboard, but on GPU we can\n",
        "    log_dir = os.path.join(ROOT_PATH, \"data\", \"logs\", \n",
        "        \"training_qa_dpr\", datetime.datetime.now().strftime(\"%Y%m%d-%H%M%S\"))\n",
        "    \n",
        "    model_qa = create_model_qa(model.enc.model_q, model.enc.model_p, tokenizer_distilbert,\n",
        "                            sample=\"Who are you?\")\n",
        "\n",
        "    if DO_QA_TRAINING:\n",
        "        # ModelCheckpoint callback is only available when not using TPU\n",
        "        cp_callback = tf.keras.callbacks.ModelCheckpoint(\n",
        "            filepath = checkpoint_path,\n",
        "            verbose=1,\n",
        "            save_weights_only = True,\n",
        "            save_best_only = False\n",
        "        )\n",
        "\n",
        "        # Same for tensorboard callback\n",
        "        tensorboard_callback = tf.keras.callbacks.TensorBoard(\n",
        "            log_dir=log_dir,\n",
        "            histogram_freq=1\n",
        "        )\n",
        "\n",
        "if DO_QA_TRAINING:\n",
        "    # Early stopping can be used by both hardware\n",
        "    es_callback = tf.keras.callbacks.EarlyStopping(\n",
        "        patience = PATIENCE,\n",
        "        restore_best_weights=True\n",
        "    )\n",
        "\n",
        "    if using_TPU:\n",
        "        # Save first weights in a h5 file (it's the most stable way)\n",
        "        model_qa.save_weights(os.path.join(\n",
        "            checkpoint_dir, 'training_qa_tpu_0.h5'), overwrite=True)\n",
        "    else:\n",
        "        # Save the first weights using the pattern from before\n",
        "        model_qa.save_weights(checkpoint_path.format(epoch=0))\n",
        "\n",
        "    callbacks = [es_callback]\n",
        "    if not using_TPU:\n",
        "        # These callback imply saving stuff on local disk, which cannot be \n",
        "        # done automatically using TPUs.\n",
        "        # Therefore, they are only active when using GPUs and local systems\n",
        "        callbacks.extend([cp_callback, tensorboard_callback])\n",
        "\n",
        "    # We fit the model\n",
        "    history = model_qa.fit(\n",
        "        dataset_train, \n",
        "        y=None,\n",
        "        validation_data=dataset_val,\n",
        "        epochs=EPOCHS, \n",
        "        callbacks=callbacks,\n",
        "        shuffle=True,\n",
        "        use_multiprocessing=True,\n",
        "        initial_epoch=0,\n",
        "        verbose=1 # Show progress bar\n",
        "    )\n",
        "\n",
        "    if using_TPU:\n",
        "        # Save last weights\n",
        "        model_qa.save_weights(os.path.join(\n",
        "            checkpoint_dir, 'training_qa_tpu_last.h5'), overwrite=True)"
      ],
      "metadata": {
        "id": "UmsAi9v63eia"
      },
      "execution_count": null,
      "outputs": []
    },
    {
      "cell_type": "markdown",
      "source": [
        "## Tests"
      ],
      "metadata": {
        "id": "JTZvwegh2eo-"
      }
    },
    {
      "cell_type": "markdown",
      "source": [
        "First, we make a test to check if the pipeline is working fine."
      ],
      "metadata": {
        "id": "9x73-nT0Frwr"
      }
    },
    {
      "cell_type": "code",
      "source": [
        "inputs = next(dataset_val.take(1).as_numpy_iterator())\n",
        "\n",
        "scores, top100_indexes = model_qa.dpr({\n",
        "    'questions': {\n",
        "        'input_ids': inputs['questions']['input_ids'],\n",
        "        'attention_mask': inputs['questions']['attention_mask']\n",
        "    },\n",
        "    'paragraphs_encodings': val_paragraphs_encoding\n",
        "})"
      ],
      "metadata": {
        "id": "LGKJvfEznlFe"
      },
      "execution_count": 78,
      "outputs": []
    },
    {
      "cell_type": "code",
      "source": [
        "top100_indexes[:,:5]"
      ],
      "metadata": {
        "id": "YpacrgoHZm3S",
        "outputId": "5ca9ed20-ab4e-40fc-9ee4-9e50a23f8b99",
        "colab": {
          "base_uri": "https://localhost:8080/"
        }
      },
      "execution_count": 79,
      "outputs": [
        {
          "output_type": "execute_result",
          "data": {
            "text/plain": [
              "<tf.Tensor: shape=(8, 5), dtype=int32, numpy=\n",
              "array([[1203, 1216, 1217, 1219, 2118],\n",
              "       [ 190,  235,  238,  205,  241],\n",
              "       [1489, 1476, 1468, 1475, 1483],\n",
              "       [  49,   55,   48,   56,   50],\n",
              "       [1977, 1979, 1991, 1960, 1975],\n",
              "       [1998, 1909, 1994, 1999, 1937],\n",
              "       [ 889, 3878,  890,  883,  888],\n",
              "       [1904, 1986, 1955, 1954, 1957]], dtype=int32)>"
            ]
          },
          "metadata": {},
          "execution_count": 79
        }
      ]
    },
    {
      "cell_type": "code",
      "source": [
        "model_qa.obtain_training_info(inputs['paragraphs']['index'], top100_indexes)"
      ],
      "metadata": {
        "colab": {
          "base_uri": "https://localhost:8080/"
        },
        "id": "PGybmCN2nqhx",
        "outputId": "ea21cc0f-705b-4c52-b4c4-865e1016a1a7"
      },
      "execution_count": 80,
      "outputs": [
        {
          "output_type": "execute_result",
          "data": {
            "text/plain": [
              "(<tf.Tensor: shape=(8, 24), dtype=int32, numpy=\n",
              " array([[1225,  326, 2150, 1223, 2174, 1213, 4186, 2129, 3251, 1224, 1217,\n",
              "         1918, 2148, 2134, 1950, 2142, 2144, 1215, 1231, 2156, 2132, 2180,\n",
              "         1228, 1203],\n",
              "        [4274,  242, 1247,  232, 1237, 3543, 3753,  205, 1240, 1514,  211,\n",
              "          713,  734, 1901,  224,  206,  240,  243,  236,  237,  189,  203,\n",
              "          239,  233],\n",
              "        [4482,   93, 1486, 1549,  750, 1415, 1051, 4197, 1056, 4211, 1477,\n",
              "         1493, 1467, 1463,   78, 1488, 3148,  793,   80,   74, 1489, 1887,\n",
              "         1487, 1481],\n",
              "        [  58,    3,   38,   64,   43, 3235, 3109,    8, 3944, 3930,   49,\n",
              "         2577,  357,   57,   50, 1615,   60, 4774, 4552,   59, 3947,   44,\n",
              "         1085, 1619],\n",
              "        [1958, 1947,  232, 3047, 1774, 3254, 2765, 3295, 2741, 4138, 1025,\n",
              "         2744, 2744, 1028, 1991, 1950, 3300, 1315, 1949,  251, 2766,  230,\n",
              "         2767, 2667],\n",
              "        [1948, 1991, 1954, 1990, 3477, 1950, 1899, 1907, 1934, 1966, 1981,\n",
              "         2385, 1904, 2699, 3395, 1898, 1896, 2698, 1897, 3469, 1957, 1956,\n",
              "         1903, 2139],\n",
              "        [ 939, 3630, 4717, 3890,  888, 1681,  997,  892, 1637,  992,  877,\n",
              "         1366,  878, 4713, 1691, 4685, 4713,  889, 2648, 1753, 1679,  885,\n",
              "          979,  883],\n",
              "        [2137, 4538, 1944, 1960, 2710, 1963,  793, 3091, 1973, 1961, 1979,\n",
              "          104, 2140, 1984, 1887, 1904, 4812, 1901, 1945, 1975, 1986, 1978,\n",
              "         2138, 3049]], dtype=int32)>,\n",
              " <tf.Tensor: shape=(8, 24), dtype=int32, numpy=\n",
              " array([[0, 0, 0, 0, 0, 0, 0, 0, 0, 0, 0, 0, 0, 0, 0, 0, 0, 0, 0, 0, 0, 0,\n",
              "         0, 1],\n",
              "        [0, 0, 0, 0, 0, 0, 0, 0, 0, 0, 0, 0, 0, 0, 0, 0, 0, 0, 0, 0, 0, 0,\n",
              "         0, 1],\n",
              "        [0, 0, 0, 0, 0, 0, 0, 0, 0, 0, 0, 0, 0, 0, 0, 0, 0, 0, 0, 0, 1, 0,\n",
              "         0, 0],\n",
              "        [0, 0, 0, 0, 0, 0, 0, 0, 0, 0, 1, 0, 0, 0, 0, 0, 0, 0, 0, 0, 0, 0,\n",
              "         0, 0],\n",
              "        [0, 0, 0, 0, 0, 0, 0, 0, 0, 0, 0, 0, 0, 0, 1, 0, 0, 0, 0, 0, 0, 0,\n",
              "         0, 0],\n",
              "        [0, 0, 0, 0, 0, 0, 0, 0, 0, 0, 0, 0, 1, 0, 0, 0, 0, 0, 0, 0, 0, 0,\n",
              "         0, 0],\n",
              "        [0, 0, 0, 0, 1, 0, 0, 0, 0, 0, 0, 0, 0, 0, 0, 0, 0, 0, 0, 0, 0, 0,\n",
              "         0, 0],\n",
              "        [0, 0, 0, 0, 0, 0, 0, 0, 0, 0, 0, 0, 0, 0, 0, 1, 0, 0, 0, 0, 0, 0,\n",
              "         0, 0]], dtype=int32)>)"
            ]
          },
          "metadata": {},
          "execution_count": 80
        }
      ]
    },
    {
      "cell_type": "code",
      "source": [
        "gt_paragraphs = tf.expand_dims(tf.cast(inputs['paragraphs']['index'], tf.int32), -1)\n",
        "gt_paragraphs"
      ],
      "metadata": {
        "colab": {
          "base_uri": "https://localhost:8080/"
        },
        "id": "tNgmQrZjoJJG",
        "outputId": "eb49c3d7-2b2f-4d25-e0cc-761d2e3ebdf9"
      },
      "execution_count": 81,
      "outputs": [
        {
          "output_type": "execute_result",
          "data": {
            "text/plain": [
              "<tf.Tensor: shape=(8, 1), dtype=int32, numpy=\n",
              "array([[1203],\n",
              "       [ 233],\n",
              "       [1489],\n",
              "       [  49],\n",
              "       [1991],\n",
              "       [1904],\n",
              "       [ 888],\n",
              "       [1904]], dtype=int32)>"
            ]
          },
          "metadata": {},
          "execution_count": 81
        }
      ]
    },
    {
      "cell_type": "code",
      "source": [
        "gt_paragraphs = tf.cast(inputs['paragraphs']['index'], tf.int32) \n",
        "print(top100_indexes.shape, gt_paragraphs.shape)"
      ],
      "metadata": {
        "colab": {
          "base_uri": "https://localhost:8080/"
        },
        "id": "uJXodIdiDdGZ",
        "outputId": "ddc15358-aee3-4bb8-f961-6cc32974e846"
      },
      "execution_count": 82,
      "outputs": [
        {
          "output_type": "stream",
          "name": "stdout",
          "text": [
            "(8, 100) (8,)\n"
          ]
        }
      ]
    },
    {
      "cell_type": "code",
      "source": [
        "gt_paragraphs"
      ],
      "metadata": {
        "colab": {
          "base_uri": "https://localhost:8080/"
        },
        "id": "X2hPRXJLpqeo",
        "outputId": "264a09bf-ea29-4732-e514-5829473b827d"
      },
      "execution_count": 83,
      "outputs": [
        {
          "output_type": "execute_result",
          "data": {
            "text/plain": [
              "<tf.Tensor: shape=(8,), dtype=int32, numpy=array([1203,  233, 1489,   49, 1991, 1904,  888, 1904], dtype=int32)>"
            ]
          },
          "metadata": {},
          "execution_count": 83
        }
      ]
    },
    {
      "cell_type": "code",
      "source": [
        "negatives_mask = tf.math.not_equal(top100_indexes, tf.expand_dims(gt_paragraphs, -1))\n",
        "negatives_mask.shape"
      ],
      "metadata": {
        "colab": {
          "base_uri": "https://localhost:8080/"
        },
        "id": "8_maliCQG072",
        "outputId": "446fcba6-dbb5-493f-fb09-6d7c556070eb"
      },
      "execution_count": 84,
      "outputs": [
        {
          "output_type": "execute_result",
          "data": {
            "text/plain": [
              "TensorShape([8, 100])"
            ]
          },
          "metadata": {},
          "execution_count": 84
        }
      ]
    },
    {
      "cell_type": "code",
      "source": [
        "negatives = model_qa.tf_shuffle_on_columns(tf.where(negatives_mask, top100_indexes, model_qa.tf_shuffle_on_columns(top100_indexes)))[:,:23]\n",
        "negatives"
      ],
      "metadata": {
        "colab": {
          "base_uri": "https://localhost:8080/"
        },
        "id": "hzepLGGvJPEF",
        "outputId": "3fd7a3a3-ec24-4a94-f758-6e1652945df5"
      },
      "execution_count": 85,
      "outputs": [
        {
          "output_type": "execute_result",
          "data": {
            "text/plain": [
              "<tf.Tensor: shape=(8, 23), dtype=int32, numpy=\n",
              "array([[ 154, 2176, 1213,  114, 1981, 1909, 1206, 4501, 2141, 2173, 2174,\n",
              "        2151, 2187, 2170, 2180, 1226, 2150, 2142,  867, 2139, 4508, 2160,\n",
              "        2155],\n",
              "       [ 229, 1514, 3543, 3715,  218, 1503,  216,  211, 3753, 1507, 1240,\n",
              "        1504, 1237,  190,  198, 1262, 3752, 1248,  222,  221,  213, 3717,\n",
              "        1502],\n",
              "       [4148, 1053, 1051, 3090, 1471,  758, 1466, 1887, 1549, 1464, 2873,\n",
              "        2874, 1488, 1474, 1469, 1065, 1463, 1054, 4193, 4174, 2654, 4228,\n",
              "        1486],\n",
              "       [  48, 2576, 2557, 2297,   34,   38, 4771,   36, 4540, 3942, 1935,\n",
              "        2506, 2580,   47,   52, 4851, 4794,   46, 3105,    7,  572, 2578,\n",
              "        2575],\n",
              "       [2516,  228, 1970, 3340, 2061, 1981, 4785, 1988, 1950,  230, 1034,\n",
              "         227, 2767, 2782, 2740, 4019, 2743, 1960, 2739,  251, 2764, 1953,\n",
              "        4812],\n",
              "       [4271, 1969, 1999, 3395, 4578, 3468, 3338, 1902, 1934, 1900, 1937,\n",
              "        3459, 1992, 1909, 3386, 4400, 1903, 1917, 1907, 1986, 1974, 1990,\n",
              "        1906],\n",
              "       [1002, 3883, 1645, 3561, 3889,  879, 1707,  992, 4713,  299, 3892,\n",
              "         882, 1681, 1195,  995,  939,  896, 3878, 4706, 1292, 3891,  892,\n",
              "        1638],\n",
              "       [1982, 1908, 3093, 3085, 1891, 1978, 2137, 3096, 2169, 2048, 2140,\n",
              "        1987, 4496, 1984, 1919,   94, 1881, 2131, 1967,   97, 1898, 1947,\n",
              "        1975]], dtype=int32)>"
            ]
          },
          "metadata": {},
          "execution_count": 85
        }
      ]
    },
    {
      "cell_type": "code",
      "source": [
        "data_batch = model_qa.tf_shuffle_on_columns(tf.concat([negatives, tf.expand_dims(gt_paragraphs, -1)], axis=1))\n",
        "data_batch"
      ],
      "metadata": {
        "colab": {
          "base_uri": "https://localhost:8080/"
        },
        "id": "rZ4_Oq_2mGnb",
        "outputId": "7b623f26-bf8c-4af0-cb8c-bb49f92efe26"
      },
      "execution_count": 86,
      "outputs": [
        {
          "output_type": "execute_result",
          "data": {
            "text/plain": [
              "<tf.Tensor: shape=(8, 24), dtype=int32, numpy=\n",
              "array([[2160, 1909, 2173, 1981,  114, 4501, 2155, 2176, 2142,  154, 2187,\n",
              "        1206, 4508, 2150, 1226,  867, 1203, 1213, 2170, 2141, 2151, 2139,\n",
              "        2174, 2180],\n",
              "       [ 218,  222, 1262, 1237, 1514, 3753,  213, 3717, 1507, 3752, 1240,\n",
              "        1502,  211, 1503, 1504,  216, 3543, 3715,  221,  233, 1248,  190,\n",
              "         198,  229],\n",
              "       [1549, 1053, 1489, 1474, 1488, 3090, 1887, 1466, 1463, 1469, 4148,\n",
              "        1471, 1486, 4193, 4174, 4228, 1464, 1065, 1054, 2654, 1051, 2874,\n",
              "        2873,  758],\n",
              "       [4540,   48,   34, 2576,   52,   47,   38, 4794,   46, 2575, 2578,\n",
              "        2297, 1935, 3105,  572, 2506,    7, 2580, 3942,   49,   36, 4771,\n",
              "        4851, 2557],\n",
              "       [2782, 2767, 1981,  230, 4812, 2740, 2764, 2743, 1950, 3340,  228,\n",
              "        1960, 2516, 4019,  251, 1034, 1953, 1970, 2739, 4785, 1988,  227,\n",
              "        2061, 1991],\n",
              "       [1969, 1902, 1909, 1937, 3386, 1992, 4271, 1903, 1999, 1986, 4578,\n",
              "        3395, 1990, 1934, 3338, 4400, 3468, 1900, 1917, 1974, 1907, 3459,\n",
              "        1906, 1904],\n",
              "       [1707, 3891, 3883, 1681,  896,  939, 4706, 4713,  992, 1638, 3561,\n",
              "        3892, 3889, 1292, 1195,  892,  995, 3878,  879, 1002, 1645,  299,\n",
              "         882,  888],\n",
              "       [1908, 1975, 2131, 1947, 1984, 1967, 2140,   94, 1898, 3085, 1982,\n",
              "        2048, 1881,   97, 1987, 1891, 3096, 2169, 1919, 1904, 1978, 2137,\n",
              "        3093, 4496]], dtype=int32)>"
            ]
          },
          "metadata": {},
          "execution_count": 86
        }
      ]
    },
    {
      "cell_type": "code",
      "source": [
        "gt_mask = tf.cast(data_batch == tf.expand_dims(gt_paragraphs, -1), tf.int32)\n",
        "gt_mask"
      ],
      "metadata": {
        "colab": {
          "base_uri": "https://localhost:8080/"
        },
        "id": "EcbkOXnOm6do",
        "outputId": "9c9c8053-28e8-49ec-cb5e-12a38086bede"
      },
      "execution_count": 87,
      "outputs": [
        {
          "output_type": "execute_result",
          "data": {
            "text/plain": [
              "<tf.Tensor: shape=(8, 24), dtype=int32, numpy=\n",
              "array([[0, 0, 0, 0, 0, 0, 0, 0, 0, 0, 0, 0, 0, 0, 0, 0, 1, 0, 0, 0, 0, 0,\n",
              "        0, 0],\n",
              "       [0, 0, 0, 0, 0, 0, 0, 0, 0, 0, 0, 0, 0, 0, 0, 0, 0, 0, 0, 1, 0, 0,\n",
              "        0, 0],\n",
              "       [0, 0, 1, 0, 0, 0, 0, 0, 0, 0, 0, 0, 0, 0, 0, 0, 0, 0, 0, 0, 0, 0,\n",
              "        0, 0],\n",
              "       [0, 0, 0, 0, 0, 0, 0, 0, 0, 0, 0, 0, 0, 0, 0, 0, 0, 0, 0, 1, 0, 0,\n",
              "        0, 0],\n",
              "       [0, 0, 0, 0, 0, 0, 0, 0, 0, 0, 0, 0, 0, 0, 0, 0, 0, 0, 0, 0, 0, 0,\n",
              "        0, 1],\n",
              "       [0, 0, 0, 0, 0, 0, 0, 0, 0, 0, 0, 0, 0, 0, 0, 0, 0, 0, 0, 0, 0, 0,\n",
              "        0, 1],\n",
              "       [0, 0, 0, 0, 0, 0, 0, 0, 0, 0, 0, 0, 0, 0, 0, 0, 0, 0, 0, 0, 0, 0,\n",
              "        0, 1],\n",
              "       [0, 0, 0, 0, 0, 0, 0, 0, 0, 0, 0, 0, 0, 0, 0, 0, 0, 0, 0, 1, 0, 0,\n",
              "        0, 0]], dtype=int32)>"
            ]
          },
          "metadata": {},
          "execution_count": 87
        }
      ]
    },
    {
      "cell_type": "code",
      "source": [
        "class ParagraphCollectorLayer(keras.layers.Layer):\n",
        "    \n",
        "    def __init__(self, model_p, tokenizer, **kwargs):\n",
        "        # This layer is executed in eager mode, because it must\n",
        "        # use the values of the indices inside the data batch tensor\n",
        "        # to gather paragraphs\n",
        "        super().__init__(dynamic=True, trainable=False, **kwargs)\n",
        "        self.model_p = model_p\n",
        "        self.tokenizer = tokenizer\n",
        "    \n",
        "    def call(self, inputs):\n",
        "        # Inputs should contain the tensor of indices [0] and the list of paragraphs [1]\n",
        "        # (train or other)\n",
        "        data_batch = inputs[0]\n",
        "        paragraphs = inputs[1]\n",
        "        # Collect paragraphs\n",
        "        paragraphs = tf.gather(paragraphs, data_batch).numpy()\n",
        "        # Tokenize the selected paragraphs\n",
        "        tokenized_paragraphs = [dict(self.tokenizer(\n",
        "            [par.decode('utf-8') for par in paragraphs[p]], max_length = 512, \n",
        "            return_tensors='tf', truncation = True, \n",
        "            padding = 'max_length', return_offsets_mapping = True\n",
        "        )) for p in range(len(paragraphs))]\n",
        "        # Compute full encoding (cannot pre-encode because it takes too much space)\n",
        "        paragraphs_full_encodings = [self.model_p({\n",
        "                'input_ids': tokenized_paragraphs[p]['input_ids'],\n",
        "                'attention_mask': tokenized_paragraphs[p]['attention_mask']\n",
        "            }).last_hidden_state for p in range(len(paragraphs))]                   # batch_size x (mx512x768) tensors\n",
        "        # The search encoding is simply the first token of these\n",
        "        paragraphs_search_encodings = [p[:,0,:] for p in paragraphs_full_encodings] # batch_size x (mx768) tensors\n",
        "\n",
        "        return tf.stack(paragraphs_full_encodings), tf.stack(paragraphs_search_encodings)"
      ],
      "metadata": {
        "id": "XrxaqJdMlzlq"
      },
      "execution_count": 88,
      "outputs": []
    },
    {
      "cell_type": "code",
      "source": [
        "par_coll_layer = ParagraphCollectorLayer(model.enc.model_p, tokenizer_distilbert)"
      ],
      "metadata": {
        "id": "M9CeRtE2l5nN"
      },
      "execution_count": 89,
      "outputs": []
    },
    {
      "cell_type": "code",
      "source": [
        "paragraphs_full_encodings, paragraphs_search_encodings = par_coll_layer(\n",
        "    [data_batch, np.stack([val_paragraphs[i]['context'] for i in range(len(val_paragraphs))])])"
      ],
      "metadata": {
        "id": "Oc9cA6U6mAJh"
      },
      "execution_count": 90,
      "outputs": []
    },
    {
      "cell_type": "code",
      "source": [
        "paragraphs_full_encodings.shape"
      ],
      "metadata": {
        "colab": {
          "base_uri": "https://localhost:8080/"
        },
        "id": "yBsLGWpbpqPh",
        "outputId": "091edd57-10a5-4568-9129-bd602616499b"
      },
      "execution_count": 91,
      "outputs": [
        {
          "output_type": "execute_result",
          "data": {
            "text/plain": [
              "TensorShape([8, 24, 512, 768])"
            ]
          },
          "metadata": {},
          "execution_count": 91
        }
      ]
    },
    {
      "cell_type": "code",
      "source": [
        "paragraphs_search_encodings.shape"
      ],
      "metadata": {
        "colab": {
          "base_uri": "https://localhost:8080/"
        },
        "id": "SunINc2wpsJU",
        "outputId": "878fc2e5-0533-4315-f575-77c37c619a90"
      },
      "execution_count": 92,
      "outputs": [
        {
          "output_type": "execute_result",
          "data": {
            "text/plain": [
              "TensorShape([8, 24, 768])"
            ]
          },
          "metadata": {},
          "execution_count": 92
        }
      ]
    },
    {
      "cell_type": "code",
      "source": [
        "# Layers definitions\n",
        "dense_s = keras.layers.TimeDistributed(keras.layers.Dense(1)) # Output: 24x512x1 scores\n",
        "dense_e = keras.layers.TimeDistributed(keras.layers.Dense(1)) # Output: 24x512x1 scores\n",
        "dense_sel = keras.layers.Dense(1) # Output: 24x1 scores\n",
        "flatten = keras.layers.TimeDistributed(keras.layers.Flatten())\n",
        "softmax = keras.layers.Softmax(axis=1)"
      ],
      "metadata": {
        "id": "h_OgQdO--c-P"
      },
      "execution_count": 93,
      "outputs": []
    },
    {
      "cell_type": "code",
      "source": [
        "probs_s = tf.nn.softmax(flatten(dense_s(paragraphs_full_encodings)), axis=2)\n",
        "probs_e = tf.nn.softmax(flatten(dense_e(paragraphs_full_encodings)), axis=2)\n",
        "probs_sel = tf.nn.softmax(dense_sel(paragraphs_search_encodings), axis=1)\n",
        "print(probs_s.shape, probs_e.shape, probs_sel.shape)"
      ],
      "metadata": {
        "colab": {
          "base_uri": "https://localhost:8080/"
        },
        "id": "kTY0KyloqAPt",
        "outputId": "a5ebb3f1-2939-434d-b11b-eb65933bdcba"
      },
      "execution_count": 94,
      "outputs": [
        {
          "output_type": "stream",
          "name": "stdout",
          "text": [
            "(8, 24, 512) (8, 24, 512) (8, 24, 1)\n"
          ]
        }
      ]
    },
    {
      "cell_type": "code",
      "source": [
        "# Selection of best scoring paragraphs\n",
        "best_scoring_paragraphs = tf.squeeze(tf.argmax(probs_sel, axis=1))\n",
        "best_scoring_paragraphs"
      ],
      "metadata": {
        "id": "Xff-TM2QIbWG",
        "outputId": "0621f883-be63-4e9a-f72e-462ef5432235",
        "colab": {
          "base_uri": "https://localhost:8080/"
        }
      },
      "execution_count": 95,
      "outputs": [
        {
          "output_type": "execute_result",
          "data": {
            "text/plain": [
              "<tf.Tensor: shape=(8,), dtype=int64, numpy=array([20,  7, 19,  7, 12, 13, 20, 18])>"
            ]
          },
          "metadata": {},
          "execution_count": 95
        }
      ]
    },
    {
      "cell_type": "code",
      "source": [
        "# Selection of related start-end probabilities\n",
        "probs_s = tf.squeeze(tf.gather(probs_s, indices=tf.expand_dims(best_scoring_paragraphs, -1), batch_dims=1))\n",
        "probs_e = tf.squeeze(tf.gather(probs_e, indices=tf.expand_dims(best_scoring_paragraphs, -1), batch_dims=1))"
      ],
      "metadata": {
        "id": "3e8sU1tpzDZT"
      },
      "execution_count": 96,
      "outputs": []
    },
    {
      "cell_type": "code",
      "source": [
        "print(best_scoring_paragraphs.shape, probs_s.shape, probs_e.shape)"
      ],
      "metadata": {
        "colab": {
          "base_uri": "https://localhost:8080/"
        },
        "id": "J7l8fAxbsDSV",
        "outputId": "d1529fda-8920-4fca-c4c0-3f5c200549a1"
      },
      "execution_count": 97,
      "outputs": [
        {
          "output_type": "stream",
          "name": "stdout",
          "text": [
            "(8,) (8, 512) (8, 512)\n"
          ]
        }
      ]
    },
    {
      "cell_type": "code",
      "source": [
        "## Loss functions:\n",
        "# 1) Probability loss\n",
        "loss = tf.keras.losses.CategoricalCrossentropy()\n",
        "answer_s_loss = loss(y_true=inputs['answers']['out_s'], y_pred=probs_s)\n",
        "answer_e_loss = loss(y_true=inputs['answers']['out_e'], y_pred=probs_e)\n",
        "# 2) Selection loss\n",
        "selection_loss = loss(y_true=tf.stack(gt_mask), y_pred=tf.squeeze(probs_sel))\n",
        "\n",
        "print(f\"Answer start loss: {answer_s_loss.numpy()}, Answer end loss: {answer_e_loss.numpy()}, Selection loss: {selection_loss.numpy()}\")"
      ],
      "metadata": {
        "colab": {
          "base_uri": "https://localhost:8080/"
        },
        "id": "G-KVx8Fcl78z",
        "outputId": "121c0a0b-71eb-4766-d281-5e98f951e908"
      },
      "execution_count": 98,
      "outputs": [
        {
          "output_type": "stream",
          "name": "stdout",
          "text": [
            "Answer start loss: 6.138369083404541, Answer end loss: 6.211648941040039, Selection loss: 3.3223214149475098\n"
          ]
        }
      ]
    },
    {
      "cell_type": "markdown",
      "source": [
        "We reuse the function that returns the start and end tokens of the question given the computed probabilities"
      ],
      "metadata": {
        "id": "QPhI8HbNF_nJ"
      }
    },
    {
      "cell_type": "code",
      "source": [
        "def start_end_token_from_probabilities(\n",
        "    pstartv: np.array, \n",
        "    pendv: np.array, \n",
        "    dim:int=512) -> List[List[int]]:\n",
        "    '''\n",
        "    Returns a List of [StartToken, EndToken] elements computed from the batch outputs.\n",
        "    '''\n",
        "    idxs = []\n",
        "    for i in range(pstartv.shape[0]):\n",
        "        # For each element in the batch, transform the vectors into matrices\n",
        "        # by repeating them dim times:\n",
        "        # - Vectors of starting probabilities are stacked on the columns\n",
        "        pstart = np.stack([pstartv[i,:]]*dim, axis=1)\n",
        "        # - Vectors of ending probabilities are repeated on the rows\n",
        "        pend = np.stack([pendv[i,:]]*dim, axis=0)\n",
        "        # Once we have the two matrices, we sum them (element-wise operation)\n",
        "        # to obtain the scores of each combination\n",
        "        sums = pstart + pend\n",
        "        # We only care about the scores in the upper triangular part of the matrix\n",
        "        # (where the ending index is greater than the starting index)\n",
        "        # therefore we zero out the diagonal and the lower triangular area\n",
        "        sums = np.triu(sums, k=1)\n",
        "        # The most probable set of tokens is the one with highest score in the\n",
        "        # remaining matrix. Through argmax we obtain its position.\n",
        "        val = np.argmax(sums)\n",
        "        # Since the starting probabilities are repeated on the columns, each element\n",
        "        # is identified by the row. Ending probabilities are instead repeated on rows,\n",
        "        # so each element is identified by the column.\n",
        "        row = val // dim\n",
        "        col = val - dim*row\n",
        "        idxs.append([row,col])\n",
        "    return idxs"
      ],
      "metadata": {
        "id": "CWUaL844hyf6"
      },
      "execution_count": null,
      "outputs": []
    },
    {
      "cell_type": "code",
      "source": [
        "answers_start_end = start_end_token_from_probabilities(probs_s, probs_e)\n",
        "print(answers_start_end)"
      ],
      "metadata": {
        "colab": {
          "base_uri": "https://localhost:8080/"
        },
        "id": "8CUVf45Cj0oI",
        "outputId": "4ed2d657-db09-4921-bdd7-8352e37548df"
      },
      "execution_count": null,
      "outputs": [
        {
          "output_type": "stream",
          "name": "stdout",
          "text": [
            "[[103, 201], [4, 173], [7, 159], [172, 353], [113, 115], [56, 223], [127, 129], [132, 172]]\n"
          ]
        }
      ]
    },
    {
      "cell_type": "markdown",
      "source": [
        "Finally, we can obtain the answers to the questions we have given the network."
      ],
      "metadata": {
        "id": "xVfgDsb_GHIE"
      }
    },
    {
      "cell_type": "code",
      "source": [
        "char_start_end = [(tokenized_paragraphs[i]['offset_mapping'][best_scoring_paragraphs[i]][answers_start_end[i][0]][0].numpy(),\n",
        "                   tokenized_paragraphs[i]['offset_mapping'][best_scoring_paragraphs[i]][answers_start_end[i][1]][1].numpy())\n",
        "                 for i in range(BATCH_SIZE)]\n",
        "char_start_end"
      ],
      "metadata": {
        "colab": {
          "base_uri": "https://localhost:8080/"
        },
        "id": "FuWtARzUITEV",
        "outputId": "8862aff9-c608-4adf-eaea-8e8d9b688aee"
      },
      "execution_count": null,
      "outputs": [
        {
          "output_type": "execute_result",
          "data": {
            "text/plain": [
              "[(499, 0),\n",
              " (13, 0),\n",
              " (20, 0),\n",
              " (813, 0),\n",
              " (559, 569),\n",
              " (261, 0),\n",
              " (604, 614),\n",
              " (599, 761)]"
            ]
          },
          "metadata": {},
          "execution_count": 83
        }
      ]
    },
    {
      "cell_type": "code",
      "source": [
        "# Correction for answers arriving to the end of the sequence\n",
        "for i in range(BATCH_SIZE):\n",
        "    c = char_start_end[i]\n",
        "    if c[1] >= c[0]:\n",
        "        char_start_end[i] = (c[0], c[1])\n",
        "    else:\n",
        "        char_start_end[i] = (c[0], 1000000)"
      ],
      "metadata": {
        "id": "ktvdpz52fxOc"
      },
      "execution_count": null,
      "outputs": []
    },
    {
      "cell_type": "code",
      "source": [
        "answers = [paragraphs[i][best_scoring_paragraphs[i]]['context'][char_start_end[i][0]:char_start_end[i][1]] \n",
        "           for i in range(BATCH_SIZE)]\n",
        "for a in answers:\n",
        "    print(a)"
      ],
      "metadata": {
        "colab": {
          "base_uri": "https://localhost:8080/"
        },
        "id": "oaz-Ud_LGSkS",
        "outputId": "1c5f7e05-390b-4ff5-85dd-b2782f6a6fcc"
      },
      "execution_count": null,
      "outputs": [
        {
          "output_type": "stream",
          "name": "stdout",
          "text": [
            ".\n",
            "hand, many of the medieval buildings once situated within the town walls are now in ruins or have disappeared altogether. From successive incarnations of the motte and bailey castle, only a section of the bailey wall remains today, lying just off Castle Way. The last remains of the Franciscan friary in Southampton, founded circa 1233 and dissolved in 1538, were swept away in the 1940s. The site is now occupied by Friary House.\n",
            "or region) of DNA that encodes a functional RNA or protein product, and is the molecular unit of heredity.:Glossary The transmission of genes to an organism's offspring is the basis of the inheritance of phenotypic traits. Most biological traits are under the influence of polygenes (many different genes) as well as the gene–environment interactions. Some genetic traits are instantly visible, such as eye colour or number of limbs, and some are not, such as blood type, risk for specific diseases, or the thousands of basic biochemical processes that comprise life.\n",
            "wherever possible. Drums of oil were also ignited to simulate the effect of a blazing city or town, with the aim of fooling subsequent waves of bombers into dropping their bombs on the wrong location. The Chew Magna decoy town was hit by half-a-dozen bombs on 2 December 1940, and over a thousand incendiaries on 3 January 1941. The following night the Uphill decoy town, protecting Weston-super-Mare's airfield, was bombed; a herd of dairy cows was hit, killing some and severely injuring others.\n",
            "on the top\n",
            "on infrastructure to prevent flooding. Floods were not only an inconvenience but also a health hazard, since during flood periods human waste polluted the city's streets. By draining the area, the mosquito population dropped as did the frequency of the diseases they spread. However, draining the wetlands also changed the habitat for fish and birds and the areas accessible for Indian cultivation close to the capital.\n",
            "at the end\n",
            ". it is not just that some papers don't check their facts or accept denials: they don't care if the stories are true or not.\" It was reported, most notably in The\n"
          ]
        }
      ]
    },
    {
      "cell_type": "markdown",
      "source": [
        "Of course, answers are extremely bad because we need to train the Dense layers selecting the start and end tokens, as well as the paragraph selector."
      ],
      "metadata": {
        "id": "V_B5U-_tKR6v"
      }
    }
  ],
  "metadata": {
    "colab": {
      "collapsed_sections": [],
      "name": "dense_passage_retriever.ipynb",
      "provenance": []
    },
    "interpreter": {
      "hash": "8d3a38b9baf6bccb52d534d3795fadb5d3190627f4e5187a36a9129f48a6e143"
    },
    "kernelspec": {
      "display_name": "Python 3.7.11",
      "language": "python",
      "name": "python3"
    },
    "language_info": {
      "codemirror_mode": {
        "name": "ipython",
        "version": 3
      },
      "file_extension": ".py",
      "mimetype": "text/x-python",
      "name": "python",
      "nbconvert_exporter": "python",
      "pygments_lexer": "ipython3",
      "version": "3.7.12"
    },
    "orig_nbformat": 4,
    "accelerator": "GPU",
    "widgets": {
      "application/vnd.jupyter.widget-state+json": {
        "6ca6edf75d274df5aaacc64d027f89f1": {
          "model_module": "@jupyter-widgets/controls",
          "model_name": "HBoxModel",
          "model_module_version": "1.5.0",
          "state": {
            "_dom_classes": [],
            "_model_module": "@jupyter-widgets/controls",
            "_model_module_version": "1.5.0",
            "_model_name": "HBoxModel",
            "_view_count": null,
            "_view_module": "@jupyter-widgets/controls",
            "_view_module_version": "1.5.0",
            "_view_name": "HBoxView",
            "box_style": "",
            "children": [
              "IPY_MODEL_024d160183a54bb1807375986c77e3e5",
              "IPY_MODEL_58de658e3be7480b9c344f9ece7507b4",
              "IPY_MODEL_7e3d4148bab445aba702042cbf8201a4"
            ],
            "layout": "IPY_MODEL_4f098ce711714974b20b8a60ddf74e9d"
          }
        },
        "024d160183a54bb1807375986c77e3e5": {
          "model_module": "@jupyter-widgets/controls",
          "model_name": "HTMLModel",
          "model_module_version": "1.5.0",
          "state": {
            "_dom_classes": [],
            "_model_module": "@jupyter-widgets/controls",
            "_model_module_version": "1.5.0",
            "_model_name": "HTMLModel",
            "_view_count": null,
            "_view_module": "@jupyter-widgets/controls",
            "_view_module_version": "1.5.0",
            "_view_name": "HTMLView",
            "description": "",
            "description_tooltip": null,
            "layout": "IPY_MODEL_31678269929e41eca807b7ab3996a384",
            "placeholder": "​",
            "style": "IPY_MODEL_f5f5dfd6889f4c9890327ee9486b9d25",
            "value": "Downloading: 100%"
          }
        },
        "58de658e3be7480b9c344f9ece7507b4": {
          "model_module": "@jupyter-widgets/controls",
          "model_name": "FloatProgressModel",
          "model_module_version": "1.5.0",
          "state": {
            "_dom_classes": [],
            "_model_module": "@jupyter-widgets/controls",
            "_model_module_version": "1.5.0",
            "_model_name": "FloatProgressModel",
            "_view_count": null,
            "_view_module": "@jupyter-widgets/controls",
            "_view_module_version": "1.5.0",
            "_view_name": "ProgressView",
            "bar_style": "success",
            "description": "",
            "description_tooltip": null,
            "layout": "IPY_MODEL_b2489d9d86b54ad39b28eb4a2f7421d7",
            "max": 28,
            "min": 0,
            "orientation": "horizontal",
            "style": "IPY_MODEL_d34b200c0d4048a3b996c31ae2153416",
            "value": 28
          }
        },
        "7e3d4148bab445aba702042cbf8201a4": {
          "model_module": "@jupyter-widgets/controls",
          "model_name": "HTMLModel",
          "model_module_version": "1.5.0",
          "state": {
            "_dom_classes": [],
            "_model_module": "@jupyter-widgets/controls",
            "_model_module_version": "1.5.0",
            "_model_name": "HTMLModel",
            "_view_count": null,
            "_view_module": "@jupyter-widgets/controls",
            "_view_module_version": "1.5.0",
            "_view_name": "HTMLView",
            "description": "",
            "description_tooltip": null,
            "layout": "IPY_MODEL_bd9467e4e2eb483294af697b18aa7a3c",
            "placeholder": "​",
            "style": "IPY_MODEL_514b6ebeaf1344dfb5345c622e838293",
            "value": " 28.0/28.0 [00:00&lt;00:00, 425B/s]"
          }
        },
        "4f098ce711714974b20b8a60ddf74e9d": {
          "model_module": "@jupyter-widgets/base",
          "model_name": "LayoutModel",
          "model_module_version": "1.2.0",
          "state": {
            "_model_module": "@jupyter-widgets/base",
            "_model_module_version": "1.2.0",
            "_model_name": "LayoutModel",
            "_view_count": null,
            "_view_module": "@jupyter-widgets/base",
            "_view_module_version": "1.2.0",
            "_view_name": "LayoutView",
            "align_content": null,
            "align_items": null,
            "align_self": null,
            "border": null,
            "bottom": null,
            "display": null,
            "flex": null,
            "flex_flow": null,
            "grid_area": null,
            "grid_auto_columns": null,
            "grid_auto_flow": null,
            "grid_auto_rows": null,
            "grid_column": null,
            "grid_gap": null,
            "grid_row": null,
            "grid_template_areas": null,
            "grid_template_columns": null,
            "grid_template_rows": null,
            "height": null,
            "justify_content": null,
            "justify_items": null,
            "left": null,
            "margin": null,
            "max_height": null,
            "max_width": null,
            "min_height": null,
            "min_width": null,
            "object_fit": null,
            "object_position": null,
            "order": null,
            "overflow": null,
            "overflow_x": null,
            "overflow_y": null,
            "padding": null,
            "right": null,
            "top": null,
            "visibility": null,
            "width": null
          }
        },
        "31678269929e41eca807b7ab3996a384": {
          "model_module": "@jupyter-widgets/base",
          "model_name": "LayoutModel",
          "model_module_version": "1.2.0",
          "state": {
            "_model_module": "@jupyter-widgets/base",
            "_model_module_version": "1.2.0",
            "_model_name": "LayoutModel",
            "_view_count": null,
            "_view_module": "@jupyter-widgets/base",
            "_view_module_version": "1.2.0",
            "_view_name": "LayoutView",
            "align_content": null,
            "align_items": null,
            "align_self": null,
            "border": null,
            "bottom": null,
            "display": null,
            "flex": null,
            "flex_flow": null,
            "grid_area": null,
            "grid_auto_columns": null,
            "grid_auto_flow": null,
            "grid_auto_rows": null,
            "grid_column": null,
            "grid_gap": null,
            "grid_row": null,
            "grid_template_areas": null,
            "grid_template_columns": null,
            "grid_template_rows": null,
            "height": null,
            "justify_content": null,
            "justify_items": null,
            "left": null,
            "margin": null,
            "max_height": null,
            "max_width": null,
            "min_height": null,
            "min_width": null,
            "object_fit": null,
            "object_position": null,
            "order": null,
            "overflow": null,
            "overflow_x": null,
            "overflow_y": null,
            "padding": null,
            "right": null,
            "top": null,
            "visibility": null,
            "width": null
          }
        },
        "f5f5dfd6889f4c9890327ee9486b9d25": {
          "model_module": "@jupyter-widgets/controls",
          "model_name": "DescriptionStyleModel",
          "model_module_version": "1.5.0",
          "state": {
            "_model_module": "@jupyter-widgets/controls",
            "_model_module_version": "1.5.0",
            "_model_name": "DescriptionStyleModel",
            "_view_count": null,
            "_view_module": "@jupyter-widgets/base",
            "_view_module_version": "1.2.0",
            "_view_name": "StyleView",
            "description_width": ""
          }
        },
        "b2489d9d86b54ad39b28eb4a2f7421d7": {
          "model_module": "@jupyter-widgets/base",
          "model_name": "LayoutModel",
          "model_module_version": "1.2.0",
          "state": {
            "_model_module": "@jupyter-widgets/base",
            "_model_module_version": "1.2.0",
            "_model_name": "LayoutModel",
            "_view_count": null,
            "_view_module": "@jupyter-widgets/base",
            "_view_module_version": "1.2.0",
            "_view_name": "LayoutView",
            "align_content": null,
            "align_items": null,
            "align_self": null,
            "border": null,
            "bottom": null,
            "display": null,
            "flex": null,
            "flex_flow": null,
            "grid_area": null,
            "grid_auto_columns": null,
            "grid_auto_flow": null,
            "grid_auto_rows": null,
            "grid_column": null,
            "grid_gap": null,
            "grid_row": null,
            "grid_template_areas": null,
            "grid_template_columns": null,
            "grid_template_rows": null,
            "height": null,
            "justify_content": null,
            "justify_items": null,
            "left": null,
            "margin": null,
            "max_height": null,
            "max_width": null,
            "min_height": null,
            "min_width": null,
            "object_fit": null,
            "object_position": null,
            "order": null,
            "overflow": null,
            "overflow_x": null,
            "overflow_y": null,
            "padding": null,
            "right": null,
            "top": null,
            "visibility": null,
            "width": null
          }
        },
        "d34b200c0d4048a3b996c31ae2153416": {
          "model_module": "@jupyter-widgets/controls",
          "model_name": "ProgressStyleModel",
          "model_module_version": "1.5.0",
          "state": {
            "_model_module": "@jupyter-widgets/controls",
            "_model_module_version": "1.5.0",
            "_model_name": "ProgressStyleModel",
            "_view_count": null,
            "_view_module": "@jupyter-widgets/base",
            "_view_module_version": "1.2.0",
            "_view_name": "StyleView",
            "bar_color": null,
            "description_width": ""
          }
        },
        "bd9467e4e2eb483294af697b18aa7a3c": {
          "model_module": "@jupyter-widgets/base",
          "model_name": "LayoutModel",
          "model_module_version": "1.2.0",
          "state": {
            "_model_module": "@jupyter-widgets/base",
            "_model_module_version": "1.2.0",
            "_model_name": "LayoutModel",
            "_view_count": null,
            "_view_module": "@jupyter-widgets/base",
            "_view_module_version": "1.2.0",
            "_view_name": "LayoutView",
            "align_content": null,
            "align_items": null,
            "align_self": null,
            "border": null,
            "bottom": null,
            "display": null,
            "flex": null,
            "flex_flow": null,
            "grid_area": null,
            "grid_auto_columns": null,
            "grid_auto_flow": null,
            "grid_auto_rows": null,
            "grid_column": null,
            "grid_gap": null,
            "grid_row": null,
            "grid_template_areas": null,
            "grid_template_columns": null,
            "grid_template_rows": null,
            "height": null,
            "justify_content": null,
            "justify_items": null,
            "left": null,
            "margin": null,
            "max_height": null,
            "max_width": null,
            "min_height": null,
            "min_width": null,
            "object_fit": null,
            "object_position": null,
            "order": null,
            "overflow": null,
            "overflow_x": null,
            "overflow_y": null,
            "padding": null,
            "right": null,
            "top": null,
            "visibility": null,
            "width": null
          }
        },
        "514b6ebeaf1344dfb5345c622e838293": {
          "model_module": "@jupyter-widgets/controls",
          "model_name": "DescriptionStyleModel",
          "model_module_version": "1.5.0",
          "state": {
            "_model_module": "@jupyter-widgets/controls",
            "_model_module_version": "1.5.0",
            "_model_name": "DescriptionStyleModel",
            "_view_count": null,
            "_view_module": "@jupyter-widgets/base",
            "_view_module_version": "1.2.0",
            "_view_name": "StyleView",
            "description_width": ""
          }
        },
        "1f34a0d1d86c448ab564427aa63390d9": {
          "model_module": "@jupyter-widgets/controls",
          "model_name": "HBoxModel",
          "model_module_version": "1.5.0",
          "state": {
            "_dom_classes": [],
            "_model_module": "@jupyter-widgets/controls",
            "_model_module_version": "1.5.0",
            "_model_name": "HBoxModel",
            "_view_count": null,
            "_view_module": "@jupyter-widgets/controls",
            "_view_module_version": "1.5.0",
            "_view_name": "HBoxView",
            "box_style": "",
            "children": [
              "IPY_MODEL_5258f9be229a418696daa526c863aaea",
              "IPY_MODEL_9081cdbc086c49449dd1c2bcdc9a8124",
              "IPY_MODEL_5dcca91e17fd466e94416b23ebe54e84"
            ],
            "layout": "IPY_MODEL_3176d0433a2a473ca0625c4922b2aad8"
          }
        },
        "5258f9be229a418696daa526c863aaea": {
          "model_module": "@jupyter-widgets/controls",
          "model_name": "HTMLModel",
          "model_module_version": "1.5.0",
          "state": {
            "_dom_classes": [],
            "_model_module": "@jupyter-widgets/controls",
            "_model_module_version": "1.5.0",
            "_model_name": "HTMLModel",
            "_view_count": null,
            "_view_module": "@jupyter-widgets/controls",
            "_view_module_version": "1.5.0",
            "_view_name": "HTMLView",
            "description": "",
            "description_tooltip": null,
            "layout": "IPY_MODEL_b34ed6463476468ebc7a96464235dc4a",
            "placeholder": "​",
            "style": "IPY_MODEL_3b96e2a39a4c4a048c0b4a6d7c58604e",
            "value": "Downloading: 100%"
          }
        },
        "9081cdbc086c49449dd1c2bcdc9a8124": {
          "model_module": "@jupyter-widgets/controls",
          "model_name": "FloatProgressModel",
          "model_module_version": "1.5.0",
          "state": {
            "_dom_classes": [],
            "_model_module": "@jupyter-widgets/controls",
            "_model_module_version": "1.5.0",
            "_model_name": "FloatProgressModel",
            "_view_count": null,
            "_view_module": "@jupyter-widgets/controls",
            "_view_module_version": "1.5.0",
            "_view_name": "ProgressView",
            "bar_style": "success",
            "description": "",
            "description_tooltip": null,
            "layout": "IPY_MODEL_be91bf5ead674c1589d7fb62778d67e6",
            "max": 231508,
            "min": 0,
            "orientation": "horizontal",
            "style": "IPY_MODEL_7af99be95c3b4746bb2807ac5987b0fd",
            "value": 231508
          }
        },
        "5dcca91e17fd466e94416b23ebe54e84": {
          "model_module": "@jupyter-widgets/controls",
          "model_name": "HTMLModel",
          "model_module_version": "1.5.0",
          "state": {
            "_dom_classes": [],
            "_model_module": "@jupyter-widgets/controls",
            "_model_module_version": "1.5.0",
            "_model_name": "HTMLModel",
            "_view_count": null,
            "_view_module": "@jupyter-widgets/controls",
            "_view_module_version": "1.5.0",
            "_view_name": "HTMLView",
            "description": "",
            "description_tooltip": null,
            "layout": "IPY_MODEL_7d23fa103da34dbf8038840a05660301",
            "placeholder": "​",
            "style": "IPY_MODEL_30ce1828d260447a94c86e6f56efda71",
            "value": " 226k/226k [00:00&lt;00:00, 1.43MB/s]"
          }
        },
        "3176d0433a2a473ca0625c4922b2aad8": {
          "model_module": "@jupyter-widgets/base",
          "model_name": "LayoutModel",
          "model_module_version": "1.2.0",
          "state": {
            "_model_module": "@jupyter-widgets/base",
            "_model_module_version": "1.2.0",
            "_model_name": "LayoutModel",
            "_view_count": null,
            "_view_module": "@jupyter-widgets/base",
            "_view_module_version": "1.2.0",
            "_view_name": "LayoutView",
            "align_content": null,
            "align_items": null,
            "align_self": null,
            "border": null,
            "bottom": null,
            "display": null,
            "flex": null,
            "flex_flow": null,
            "grid_area": null,
            "grid_auto_columns": null,
            "grid_auto_flow": null,
            "grid_auto_rows": null,
            "grid_column": null,
            "grid_gap": null,
            "grid_row": null,
            "grid_template_areas": null,
            "grid_template_columns": null,
            "grid_template_rows": null,
            "height": null,
            "justify_content": null,
            "justify_items": null,
            "left": null,
            "margin": null,
            "max_height": null,
            "max_width": null,
            "min_height": null,
            "min_width": null,
            "object_fit": null,
            "object_position": null,
            "order": null,
            "overflow": null,
            "overflow_x": null,
            "overflow_y": null,
            "padding": null,
            "right": null,
            "top": null,
            "visibility": null,
            "width": null
          }
        },
        "b34ed6463476468ebc7a96464235dc4a": {
          "model_module": "@jupyter-widgets/base",
          "model_name": "LayoutModel",
          "model_module_version": "1.2.0",
          "state": {
            "_model_module": "@jupyter-widgets/base",
            "_model_module_version": "1.2.0",
            "_model_name": "LayoutModel",
            "_view_count": null,
            "_view_module": "@jupyter-widgets/base",
            "_view_module_version": "1.2.0",
            "_view_name": "LayoutView",
            "align_content": null,
            "align_items": null,
            "align_self": null,
            "border": null,
            "bottom": null,
            "display": null,
            "flex": null,
            "flex_flow": null,
            "grid_area": null,
            "grid_auto_columns": null,
            "grid_auto_flow": null,
            "grid_auto_rows": null,
            "grid_column": null,
            "grid_gap": null,
            "grid_row": null,
            "grid_template_areas": null,
            "grid_template_columns": null,
            "grid_template_rows": null,
            "height": null,
            "justify_content": null,
            "justify_items": null,
            "left": null,
            "margin": null,
            "max_height": null,
            "max_width": null,
            "min_height": null,
            "min_width": null,
            "object_fit": null,
            "object_position": null,
            "order": null,
            "overflow": null,
            "overflow_x": null,
            "overflow_y": null,
            "padding": null,
            "right": null,
            "top": null,
            "visibility": null,
            "width": null
          }
        },
        "3b96e2a39a4c4a048c0b4a6d7c58604e": {
          "model_module": "@jupyter-widgets/controls",
          "model_name": "DescriptionStyleModel",
          "model_module_version": "1.5.0",
          "state": {
            "_model_module": "@jupyter-widgets/controls",
            "_model_module_version": "1.5.0",
            "_model_name": "DescriptionStyleModel",
            "_view_count": null,
            "_view_module": "@jupyter-widgets/base",
            "_view_module_version": "1.2.0",
            "_view_name": "StyleView",
            "description_width": ""
          }
        },
        "be91bf5ead674c1589d7fb62778d67e6": {
          "model_module": "@jupyter-widgets/base",
          "model_name": "LayoutModel",
          "model_module_version": "1.2.0",
          "state": {
            "_model_module": "@jupyter-widgets/base",
            "_model_module_version": "1.2.0",
            "_model_name": "LayoutModel",
            "_view_count": null,
            "_view_module": "@jupyter-widgets/base",
            "_view_module_version": "1.2.0",
            "_view_name": "LayoutView",
            "align_content": null,
            "align_items": null,
            "align_self": null,
            "border": null,
            "bottom": null,
            "display": null,
            "flex": null,
            "flex_flow": null,
            "grid_area": null,
            "grid_auto_columns": null,
            "grid_auto_flow": null,
            "grid_auto_rows": null,
            "grid_column": null,
            "grid_gap": null,
            "grid_row": null,
            "grid_template_areas": null,
            "grid_template_columns": null,
            "grid_template_rows": null,
            "height": null,
            "justify_content": null,
            "justify_items": null,
            "left": null,
            "margin": null,
            "max_height": null,
            "max_width": null,
            "min_height": null,
            "min_width": null,
            "object_fit": null,
            "object_position": null,
            "order": null,
            "overflow": null,
            "overflow_x": null,
            "overflow_y": null,
            "padding": null,
            "right": null,
            "top": null,
            "visibility": null,
            "width": null
          }
        },
        "7af99be95c3b4746bb2807ac5987b0fd": {
          "model_module": "@jupyter-widgets/controls",
          "model_name": "ProgressStyleModel",
          "model_module_version": "1.5.0",
          "state": {
            "_model_module": "@jupyter-widgets/controls",
            "_model_module_version": "1.5.0",
            "_model_name": "ProgressStyleModel",
            "_view_count": null,
            "_view_module": "@jupyter-widgets/base",
            "_view_module_version": "1.2.0",
            "_view_name": "StyleView",
            "bar_color": null,
            "description_width": ""
          }
        },
        "7d23fa103da34dbf8038840a05660301": {
          "model_module": "@jupyter-widgets/base",
          "model_name": "LayoutModel",
          "model_module_version": "1.2.0",
          "state": {
            "_model_module": "@jupyter-widgets/base",
            "_model_module_version": "1.2.0",
            "_model_name": "LayoutModel",
            "_view_count": null,
            "_view_module": "@jupyter-widgets/base",
            "_view_module_version": "1.2.0",
            "_view_name": "LayoutView",
            "align_content": null,
            "align_items": null,
            "align_self": null,
            "border": null,
            "bottom": null,
            "display": null,
            "flex": null,
            "flex_flow": null,
            "grid_area": null,
            "grid_auto_columns": null,
            "grid_auto_flow": null,
            "grid_auto_rows": null,
            "grid_column": null,
            "grid_gap": null,
            "grid_row": null,
            "grid_template_areas": null,
            "grid_template_columns": null,
            "grid_template_rows": null,
            "height": null,
            "justify_content": null,
            "justify_items": null,
            "left": null,
            "margin": null,
            "max_height": null,
            "max_width": null,
            "min_height": null,
            "min_width": null,
            "object_fit": null,
            "object_position": null,
            "order": null,
            "overflow": null,
            "overflow_x": null,
            "overflow_y": null,
            "padding": null,
            "right": null,
            "top": null,
            "visibility": null,
            "width": null
          }
        },
        "30ce1828d260447a94c86e6f56efda71": {
          "model_module": "@jupyter-widgets/controls",
          "model_name": "DescriptionStyleModel",
          "model_module_version": "1.5.0",
          "state": {
            "_model_module": "@jupyter-widgets/controls",
            "_model_module_version": "1.5.0",
            "_model_name": "DescriptionStyleModel",
            "_view_count": null,
            "_view_module": "@jupyter-widgets/base",
            "_view_module_version": "1.2.0",
            "_view_name": "StyleView",
            "description_width": ""
          }
        },
        "3889d73d27bd43fd9866f5063c286438": {
          "model_module": "@jupyter-widgets/controls",
          "model_name": "HBoxModel",
          "model_module_version": "1.5.0",
          "state": {
            "_dom_classes": [],
            "_model_module": "@jupyter-widgets/controls",
            "_model_module_version": "1.5.0",
            "_model_name": "HBoxModel",
            "_view_count": null,
            "_view_module": "@jupyter-widgets/controls",
            "_view_module_version": "1.5.0",
            "_view_name": "HBoxView",
            "box_style": "",
            "children": [
              "IPY_MODEL_742148660c0240fbbe19577c6931c3f4",
              "IPY_MODEL_437622eedfed46659ef4fccfd40d522c",
              "IPY_MODEL_5b25b68830e94fffbb501821225d0491"
            ],
            "layout": "IPY_MODEL_1130835b06784d5fa1c9ecdaa68a980c"
          }
        },
        "742148660c0240fbbe19577c6931c3f4": {
          "model_module": "@jupyter-widgets/controls",
          "model_name": "HTMLModel",
          "model_module_version": "1.5.0",
          "state": {
            "_dom_classes": [],
            "_model_module": "@jupyter-widgets/controls",
            "_model_module_version": "1.5.0",
            "_model_name": "HTMLModel",
            "_view_count": null,
            "_view_module": "@jupyter-widgets/controls",
            "_view_module_version": "1.5.0",
            "_view_name": "HTMLView",
            "description": "",
            "description_tooltip": null,
            "layout": "IPY_MODEL_5b44920ca66e437eac78ede6189aec4a",
            "placeholder": "​",
            "style": "IPY_MODEL_dccf58aef1cb4b64a8d78a365d380120",
            "value": "Downloading: 100%"
          }
        },
        "437622eedfed46659ef4fccfd40d522c": {
          "model_module": "@jupyter-widgets/controls",
          "model_name": "FloatProgressModel",
          "model_module_version": "1.5.0",
          "state": {
            "_dom_classes": [],
            "_model_module": "@jupyter-widgets/controls",
            "_model_module_version": "1.5.0",
            "_model_name": "FloatProgressModel",
            "_view_count": null,
            "_view_module": "@jupyter-widgets/controls",
            "_view_module_version": "1.5.0",
            "_view_name": "ProgressView",
            "bar_style": "success",
            "description": "",
            "description_tooltip": null,
            "layout": "IPY_MODEL_8a26f38e46d049a59e23aa61c85dc3f2",
            "max": 466062,
            "min": 0,
            "orientation": "horizontal",
            "style": "IPY_MODEL_b63607b9b065462592d1f1e4c33b4414",
            "value": 466062
          }
        },
        "5b25b68830e94fffbb501821225d0491": {
          "model_module": "@jupyter-widgets/controls",
          "model_name": "HTMLModel",
          "model_module_version": "1.5.0",
          "state": {
            "_dom_classes": [],
            "_model_module": "@jupyter-widgets/controls",
            "_model_module_version": "1.5.0",
            "_model_name": "HTMLModel",
            "_view_count": null,
            "_view_module": "@jupyter-widgets/controls",
            "_view_module_version": "1.5.0",
            "_view_name": "HTMLView",
            "description": "",
            "description_tooltip": null,
            "layout": "IPY_MODEL_fd61aa7233584e59b37a22cf0d3e89b4",
            "placeholder": "​",
            "style": "IPY_MODEL_0d4246b74de54b40a17657671bf7625c",
            "value": " 455k/455k [00:00&lt;00:00, 1.57MB/s]"
          }
        },
        "1130835b06784d5fa1c9ecdaa68a980c": {
          "model_module": "@jupyter-widgets/base",
          "model_name": "LayoutModel",
          "model_module_version": "1.2.0",
          "state": {
            "_model_module": "@jupyter-widgets/base",
            "_model_module_version": "1.2.0",
            "_model_name": "LayoutModel",
            "_view_count": null,
            "_view_module": "@jupyter-widgets/base",
            "_view_module_version": "1.2.0",
            "_view_name": "LayoutView",
            "align_content": null,
            "align_items": null,
            "align_self": null,
            "border": null,
            "bottom": null,
            "display": null,
            "flex": null,
            "flex_flow": null,
            "grid_area": null,
            "grid_auto_columns": null,
            "grid_auto_flow": null,
            "grid_auto_rows": null,
            "grid_column": null,
            "grid_gap": null,
            "grid_row": null,
            "grid_template_areas": null,
            "grid_template_columns": null,
            "grid_template_rows": null,
            "height": null,
            "justify_content": null,
            "justify_items": null,
            "left": null,
            "margin": null,
            "max_height": null,
            "max_width": null,
            "min_height": null,
            "min_width": null,
            "object_fit": null,
            "object_position": null,
            "order": null,
            "overflow": null,
            "overflow_x": null,
            "overflow_y": null,
            "padding": null,
            "right": null,
            "top": null,
            "visibility": null,
            "width": null
          }
        },
        "5b44920ca66e437eac78ede6189aec4a": {
          "model_module": "@jupyter-widgets/base",
          "model_name": "LayoutModel",
          "model_module_version": "1.2.0",
          "state": {
            "_model_module": "@jupyter-widgets/base",
            "_model_module_version": "1.2.0",
            "_model_name": "LayoutModel",
            "_view_count": null,
            "_view_module": "@jupyter-widgets/base",
            "_view_module_version": "1.2.0",
            "_view_name": "LayoutView",
            "align_content": null,
            "align_items": null,
            "align_self": null,
            "border": null,
            "bottom": null,
            "display": null,
            "flex": null,
            "flex_flow": null,
            "grid_area": null,
            "grid_auto_columns": null,
            "grid_auto_flow": null,
            "grid_auto_rows": null,
            "grid_column": null,
            "grid_gap": null,
            "grid_row": null,
            "grid_template_areas": null,
            "grid_template_columns": null,
            "grid_template_rows": null,
            "height": null,
            "justify_content": null,
            "justify_items": null,
            "left": null,
            "margin": null,
            "max_height": null,
            "max_width": null,
            "min_height": null,
            "min_width": null,
            "object_fit": null,
            "object_position": null,
            "order": null,
            "overflow": null,
            "overflow_x": null,
            "overflow_y": null,
            "padding": null,
            "right": null,
            "top": null,
            "visibility": null,
            "width": null
          }
        },
        "dccf58aef1cb4b64a8d78a365d380120": {
          "model_module": "@jupyter-widgets/controls",
          "model_name": "DescriptionStyleModel",
          "model_module_version": "1.5.0",
          "state": {
            "_model_module": "@jupyter-widgets/controls",
            "_model_module_version": "1.5.0",
            "_model_name": "DescriptionStyleModel",
            "_view_count": null,
            "_view_module": "@jupyter-widgets/base",
            "_view_module_version": "1.2.0",
            "_view_name": "StyleView",
            "description_width": ""
          }
        },
        "8a26f38e46d049a59e23aa61c85dc3f2": {
          "model_module": "@jupyter-widgets/base",
          "model_name": "LayoutModel",
          "model_module_version": "1.2.0",
          "state": {
            "_model_module": "@jupyter-widgets/base",
            "_model_module_version": "1.2.0",
            "_model_name": "LayoutModel",
            "_view_count": null,
            "_view_module": "@jupyter-widgets/base",
            "_view_module_version": "1.2.0",
            "_view_name": "LayoutView",
            "align_content": null,
            "align_items": null,
            "align_self": null,
            "border": null,
            "bottom": null,
            "display": null,
            "flex": null,
            "flex_flow": null,
            "grid_area": null,
            "grid_auto_columns": null,
            "grid_auto_flow": null,
            "grid_auto_rows": null,
            "grid_column": null,
            "grid_gap": null,
            "grid_row": null,
            "grid_template_areas": null,
            "grid_template_columns": null,
            "grid_template_rows": null,
            "height": null,
            "justify_content": null,
            "justify_items": null,
            "left": null,
            "margin": null,
            "max_height": null,
            "max_width": null,
            "min_height": null,
            "min_width": null,
            "object_fit": null,
            "object_position": null,
            "order": null,
            "overflow": null,
            "overflow_x": null,
            "overflow_y": null,
            "padding": null,
            "right": null,
            "top": null,
            "visibility": null,
            "width": null
          }
        },
        "b63607b9b065462592d1f1e4c33b4414": {
          "model_module": "@jupyter-widgets/controls",
          "model_name": "ProgressStyleModel",
          "model_module_version": "1.5.0",
          "state": {
            "_model_module": "@jupyter-widgets/controls",
            "_model_module_version": "1.5.0",
            "_model_name": "ProgressStyleModel",
            "_view_count": null,
            "_view_module": "@jupyter-widgets/base",
            "_view_module_version": "1.2.0",
            "_view_name": "StyleView",
            "bar_color": null,
            "description_width": ""
          }
        },
        "fd61aa7233584e59b37a22cf0d3e89b4": {
          "model_module": "@jupyter-widgets/base",
          "model_name": "LayoutModel",
          "model_module_version": "1.2.0",
          "state": {
            "_model_module": "@jupyter-widgets/base",
            "_model_module_version": "1.2.0",
            "_model_name": "LayoutModel",
            "_view_count": null,
            "_view_module": "@jupyter-widgets/base",
            "_view_module_version": "1.2.0",
            "_view_name": "LayoutView",
            "align_content": null,
            "align_items": null,
            "align_self": null,
            "border": null,
            "bottom": null,
            "display": null,
            "flex": null,
            "flex_flow": null,
            "grid_area": null,
            "grid_auto_columns": null,
            "grid_auto_flow": null,
            "grid_auto_rows": null,
            "grid_column": null,
            "grid_gap": null,
            "grid_row": null,
            "grid_template_areas": null,
            "grid_template_columns": null,
            "grid_template_rows": null,
            "height": null,
            "justify_content": null,
            "justify_items": null,
            "left": null,
            "margin": null,
            "max_height": null,
            "max_width": null,
            "min_height": null,
            "min_width": null,
            "object_fit": null,
            "object_position": null,
            "order": null,
            "overflow": null,
            "overflow_x": null,
            "overflow_y": null,
            "padding": null,
            "right": null,
            "top": null,
            "visibility": null,
            "width": null
          }
        },
        "0d4246b74de54b40a17657671bf7625c": {
          "model_module": "@jupyter-widgets/controls",
          "model_name": "DescriptionStyleModel",
          "model_module_version": "1.5.0",
          "state": {
            "_model_module": "@jupyter-widgets/controls",
            "_model_module_version": "1.5.0",
            "_model_name": "DescriptionStyleModel",
            "_view_count": null,
            "_view_module": "@jupyter-widgets/base",
            "_view_module_version": "1.2.0",
            "_view_name": "StyleView",
            "description_width": ""
          }
        },
        "e1f486ddd3684ba7a39cf9008803276d": {
          "model_module": "@jupyter-widgets/controls",
          "model_name": "HBoxModel",
          "model_module_version": "1.5.0",
          "state": {
            "_dom_classes": [],
            "_model_module": "@jupyter-widgets/controls",
            "_model_module_version": "1.5.0",
            "_model_name": "HBoxModel",
            "_view_count": null,
            "_view_module": "@jupyter-widgets/controls",
            "_view_module_version": "1.5.0",
            "_view_name": "HBoxView",
            "box_style": "",
            "children": [
              "IPY_MODEL_12012c47de934fba81834e10230d9c99",
              "IPY_MODEL_ee9a4ce093ad4c3a967a676de8acc57d",
              "IPY_MODEL_d0375749d17847249cda097a3728cb6c"
            ],
            "layout": "IPY_MODEL_3b190331564d4337b244c0d5a1be5919"
          }
        },
        "12012c47de934fba81834e10230d9c99": {
          "model_module": "@jupyter-widgets/controls",
          "model_name": "HTMLModel",
          "model_module_version": "1.5.0",
          "state": {
            "_dom_classes": [],
            "_model_module": "@jupyter-widgets/controls",
            "_model_module_version": "1.5.0",
            "_model_name": "HTMLModel",
            "_view_count": null,
            "_view_module": "@jupyter-widgets/controls",
            "_view_module_version": "1.5.0",
            "_view_name": "HTMLView",
            "description": "",
            "description_tooltip": null,
            "layout": "IPY_MODEL_a6e336e5d1c04bb99a0dfb0a4263cb14",
            "placeholder": "​",
            "style": "IPY_MODEL_38a16c0269be4fceb51cd42d78658ccb",
            "value": "Downloading: 100%"
          }
        },
        "ee9a4ce093ad4c3a967a676de8acc57d": {
          "model_module": "@jupyter-widgets/controls",
          "model_name": "FloatProgressModel",
          "model_module_version": "1.5.0",
          "state": {
            "_dom_classes": [],
            "_model_module": "@jupyter-widgets/controls",
            "_model_module_version": "1.5.0",
            "_model_name": "FloatProgressModel",
            "_view_count": null,
            "_view_module": "@jupyter-widgets/controls",
            "_view_module_version": "1.5.0",
            "_view_name": "ProgressView",
            "bar_style": "success",
            "description": "",
            "description_tooltip": null,
            "layout": "IPY_MODEL_2ba0767d43e64fb9be5a1c5e1d42ea36",
            "max": 483,
            "min": 0,
            "orientation": "horizontal",
            "style": "IPY_MODEL_b21ffe9cb9fe46e79f8c6165b5e3832a",
            "value": 483
          }
        },
        "d0375749d17847249cda097a3728cb6c": {
          "model_module": "@jupyter-widgets/controls",
          "model_name": "HTMLModel",
          "model_module_version": "1.5.0",
          "state": {
            "_dom_classes": [],
            "_model_module": "@jupyter-widgets/controls",
            "_model_module_version": "1.5.0",
            "_model_name": "HTMLModel",
            "_view_count": null,
            "_view_module": "@jupyter-widgets/controls",
            "_view_module_version": "1.5.0",
            "_view_name": "HTMLView",
            "description": "",
            "description_tooltip": null,
            "layout": "IPY_MODEL_d19dcb4576884564873f1391fc948244",
            "placeholder": "​",
            "style": "IPY_MODEL_da522a1d53be42f1a25902678a3cbeac",
            "value": " 483/483 [00:00&lt;00:00, 13.7kB/s]"
          }
        },
        "3b190331564d4337b244c0d5a1be5919": {
          "model_module": "@jupyter-widgets/base",
          "model_name": "LayoutModel",
          "model_module_version": "1.2.0",
          "state": {
            "_model_module": "@jupyter-widgets/base",
            "_model_module_version": "1.2.0",
            "_model_name": "LayoutModel",
            "_view_count": null,
            "_view_module": "@jupyter-widgets/base",
            "_view_module_version": "1.2.0",
            "_view_name": "LayoutView",
            "align_content": null,
            "align_items": null,
            "align_self": null,
            "border": null,
            "bottom": null,
            "display": null,
            "flex": null,
            "flex_flow": null,
            "grid_area": null,
            "grid_auto_columns": null,
            "grid_auto_flow": null,
            "grid_auto_rows": null,
            "grid_column": null,
            "grid_gap": null,
            "grid_row": null,
            "grid_template_areas": null,
            "grid_template_columns": null,
            "grid_template_rows": null,
            "height": null,
            "justify_content": null,
            "justify_items": null,
            "left": null,
            "margin": null,
            "max_height": null,
            "max_width": null,
            "min_height": null,
            "min_width": null,
            "object_fit": null,
            "object_position": null,
            "order": null,
            "overflow": null,
            "overflow_x": null,
            "overflow_y": null,
            "padding": null,
            "right": null,
            "top": null,
            "visibility": null,
            "width": null
          }
        },
        "a6e336e5d1c04bb99a0dfb0a4263cb14": {
          "model_module": "@jupyter-widgets/base",
          "model_name": "LayoutModel",
          "model_module_version": "1.2.0",
          "state": {
            "_model_module": "@jupyter-widgets/base",
            "_model_module_version": "1.2.0",
            "_model_name": "LayoutModel",
            "_view_count": null,
            "_view_module": "@jupyter-widgets/base",
            "_view_module_version": "1.2.0",
            "_view_name": "LayoutView",
            "align_content": null,
            "align_items": null,
            "align_self": null,
            "border": null,
            "bottom": null,
            "display": null,
            "flex": null,
            "flex_flow": null,
            "grid_area": null,
            "grid_auto_columns": null,
            "grid_auto_flow": null,
            "grid_auto_rows": null,
            "grid_column": null,
            "grid_gap": null,
            "grid_row": null,
            "grid_template_areas": null,
            "grid_template_columns": null,
            "grid_template_rows": null,
            "height": null,
            "justify_content": null,
            "justify_items": null,
            "left": null,
            "margin": null,
            "max_height": null,
            "max_width": null,
            "min_height": null,
            "min_width": null,
            "object_fit": null,
            "object_position": null,
            "order": null,
            "overflow": null,
            "overflow_x": null,
            "overflow_y": null,
            "padding": null,
            "right": null,
            "top": null,
            "visibility": null,
            "width": null
          }
        },
        "38a16c0269be4fceb51cd42d78658ccb": {
          "model_module": "@jupyter-widgets/controls",
          "model_name": "DescriptionStyleModel",
          "model_module_version": "1.5.0",
          "state": {
            "_model_module": "@jupyter-widgets/controls",
            "_model_module_version": "1.5.0",
            "_model_name": "DescriptionStyleModel",
            "_view_count": null,
            "_view_module": "@jupyter-widgets/base",
            "_view_module_version": "1.2.0",
            "_view_name": "StyleView",
            "description_width": ""
          }
        },
        "2ba0767d43e64fb9be5a1c5e1d42ea36": {
          "model_module": "@jupyter-widgets/base",
          "model_name": "LayoutModel",
          "model_module_version": "1.2.0",
          "state": {
            "_model_module": "@jupyter-widgets/base",
            "_model_module_version": "1.2.0",
            "_model_name": "LayoutModel",
            "_view_count": null,
            "_view_module": "@jupyter-widgets/base",
            "_view_module_version": "1.2.0",
            "_view_name": "LayoutView",
            "align_content": null,
            "align_items": null,
            "align_self": null,
            "border": null,
            "bottom": null,
            "display": null,
            "flex": null,
            "flex_flow": null,
            "grid_area": null,
            "grid_auto_columns": null,
            "grid_auto_flow": null,
            "grid_auto_rows": null,
            "grid_column": null,
            "grid_gap": null,
            "grid_row": null,
            "grid_template_areas": null,
            "grid_template_columns": null,
            "grid_template_rows": null,
            "height": null,
            "justify_content": null,
            "justify_items": null,
            "left": null,
            "margin": null,
            "max_height": null,
            "max_width": null,
            "min_height": null,
            "min_width": null,
            "object_fit": null,
            "object_position": null,
            "order": null,
            "overflow": null,
            "overflow_x": null,
            "overflow_y": null,
            "padding": null,
            "right": null,
            "top": null,
            "visibility": null,
            "width": null
          }
        },
        "b21ffe9cb9fe46e79f8c6165b5e3832a": {
          "model_module": "@jupyter-widgets/controls",
          "model_name": "ProgressStyleModel",
          "model_module_version": "1.5.0",
          "state": {
            "_model_module": "@jupyter-widgets/controls",
            "_model_module_version": "1.5.0",
            "_model_name": "ProgressStyleModel",
            "_view_count": null,
            "_view_module": "@jupyter-widgets/base",
            "_view_module_version": "1.2.0",
            "_view_name": "StyleView",
            "bar_color": null,
            "description_width": ""
          }
        },
        "d19dcb4576884564873f1391fc948244": {
          "model_module": "@jupyter-widgets/base",
          "model_name": "LayoutModel",
          "model_module_version": "1.2.0",
          "state": {
            "_model_module": "@jupyter-widgets/base",
            "_model_module_version": "1.2.0",
            "_model_name": "LayoutModel",
            "_view_count": null,
            "_view_module": "@jupyter-widgets/base",
            "_view_module_version": "1.2.0",
            "_view_name": "LayoutView",
            "align_content": null,
            "align_items": null,
            "align_self": null,
            "border": null,
            "bottom": null,
            "display": null,
            "flex": null,
            "flex_flow": null,
            "grid_area": null,
            "grid_auto_columns": null,
            "grid_auto_flow": null,
            "grid_auto_rows": null,
            "grid_column": null,
            "grid_gap": null,
            "grid_row": null,
            "grid_template_areas": null,
            "grid_template_columns": null,
            "grid_template_rows": null,
            "height": null,
            "justify_content": null,
            "justify_items": null,
            "left": null,
            "margin": null,
            "max_height": null,
            "max_width": null,
            "min_height": null,
            "min_width": null,
            "object_fit": null,
            "object_position": null,
            "order": null,
            "overflow": null,
            "overflow_x": null,
            "overflow_y": null,
            "padding": null,
            "right": null,
            "top": null,
            "visibility": null,
            "width": null
          }
        },
        "da522a1d53be42f1a25902678a3cbeac": {
          "model_module": "@jupyter-widgets/controls",
          "model_name": "DescriptionStyleModel",
          "model_module_version": "1.5.0",
          "state": {
            "_model_module": "@jupyter-widgets/controls",
            "_model_module_version": "1.5.0",
            "_model_name": "DescriptionStyleModel",
            "_view_count": null,
            "_view_module": "@jupyter-widgets/base",
            "_view_module_version": "1.2.0",
            "_view_name": "StyleView",
            "description_width": ""
          }
        },
        "97ca21003d2b4604a137852b018dc4a6": {
          "model_module": "@jupyter-widgets/controls",
          "model_name": "HBoxModel",
          "model_module_version": "1.5.0",
          "state": {
            "_dom_classes": [],
            "_model_module": "@jupyter-widgets/controls",
            "_model_module_version": "1.5.0",
            "_model_name": "HBoxModel",
            "_view_count": null,
            "_view_module": "@jupyter-widgets/controls",
            "_view_module_version": "1.5.0",
            "_view_name": "HBoxView",
            "box_style": "",
            "children": [
              "IPY_MODEL_5947da15cdad440f8eebfac50c7c622f",
              "IPY_MODEL_01f3faab1c7c413f8984aaa2748657be",
              "IPY_MODEL_5078643581794c1db1752d3c40756845"
            ],
            "layout": "IPY_MODEL_f59366a30c754507a277d06e0843a529"
          }
        },
        "5947da15cdad440f8eebfac50c7c622f": {
          "model_module": "@jupyter-widgets/controls",
          "model_name": "HTMLModel",
          "model_module_version": "1.5.0",
          "state": {
            "_dom_classes": [],
            "_model_module": "@jupyter-widgets/controls",
            "_model_module_version": "1.5.0",
            "_model_name": "HTMLModel",
            "_view_count": null,
            "_view_module": "@jupyter-widgets/controls",
            "_view_module_version": "1.5.0",
            "_view_name": "HTMLView",
            "description": "",
            "description_tooltip": null,
            "layout": "IPY_MODEL_b089ba74d124414a947b1c9999632b8e",
            "placeholder": "​",
            "style": "IPY_MODEL_ab6083ebd4474b6bb29de770d4fec8ef",
            "value": "Downloading: 100%"
          }
        },
        "01f3faab1c7c413f8984aaa2748657be": {
          "model_module": "@jupyter-widgets/controls",
          "model_name": "FloatProgressModel",
          "model_module_version": "1.5.0",
          "state": {
            "_dom_classes": [],
            "_model_module": "@jupyter-widgets/controls",
            "_model_module_version": "1.5.0",
            "_model_name": "FloatProgressModel",
            "_view_count": null,
            "_view_module": "@jupyter-widgets/controls",
            "_view_module_version": "1.5.0",
            "_view_name": "ProgressView",
            "bar_style": "success",
            "description": "",
            "description_tooltip": null,
            "layout": "IPY_MODEL_cb5e07a8410445a3bbac4808fbc23fa1",
            "max": 363423424,
            "min": 0,
            "orientation": "horizontal",
            "style": "IPY_MODEL_77cd9f6305a64e57ba548f2c3002b7af",
            "value": 363423424
          }
        },
        "5078643581794c1db1752d3c40756845": {
          "model_module": "@jupyter-widgets/controls",
          "model_name": "HTMLModel",
          "model_module_version": "1.5.0",
          "state": {
            "_dom_classes": [],
            "_model_module": "@jupyter-widgets/controls",
            "_model_module_version": "1.5.0",
            "_model_name": "HTMLModel",
            "_view_count": null,
            "_view_module": "@jupyter-widgets/controls",
            "_view_module_version": "1.5.0",
            "_view_name": "HTMLView",
            "description": "",
            "description_tooltip": null,
            "layout": "IPY_MODEL_642ca1a1008c4e9d9feeb0c22879052b",
            "placeholder": "​",
            "style": "IPY_MODEL_658345b88e9942ddbabed1af9e5a5643",
            "value": " 347M/347M [00:07&lt;00:00, 54.9MB/s]"
          }
        },
        "f59366a30c754507a277d06e0843a529": {
          "model_module": "@jupyter-widgets/base",
          "model_name": "LayoutModel",
          "model_module_version": "1.2.0",
          "state": {
            "_model_module": "@jupyter-widgets/base",
            "_model_module_version": "1.2.0",
            "_model_name": "LayoutModel",
            "_view_count": null,
            "_view_module": "@jupyter-widgets/base",
            "_view_module_version": "1.2.0",
            "_view_name": "LayoutView",
            "align_content": null,
            "align_items": null,
            "align_self": null,
            "border": null,
            "bottom": null,
            "display": null,
            "flex": null,
            "flex_flow": null,
            "grid_area": null,
            "grid_auto_columns": null,
            "grid_auto_flow": null,
            "grid_auto_rows": null,
            "grid_column": null,
            "grid_gap": null,
            "grid_row": null,
            "grid_template_areas": null,
            "grid_template_columns": null,
            "grid_template_rows": null,
            "height": null,
            "justify_content": null,
            "justify_items": null,
            "left": null,
            "margin": null,
            "max_height": null,
            "max_width": null,
            "min_height": null,
            "min_width": null,
            "object_fit": null,
            "object_position": null,
            "order": null,
            "overflow": null,
            "overflow_x": null,
            "overflow_y": null,
            "padding": null,
            "right": null,
            "top": null,
            "visibility": null,
            "width": null
          }
        },
        "b089ba74d124414a947b1c9999632b8e": {
          "model_module": "@jupyter-widgets/base",
          "model_name": "LayoutModel",
          "model_module_version": "1.2.0",
          "state": {
            "_model_module": "@jupyter-widgets/base",
            "_model_module_version": "1.2.0",
            "_model_name": "LayoutModel",
            "_view_count": null,
            "_view_module": "@jupyter-widgets/base",
            "_view_module_version": "1.2.0",
            "_view_name": "LayoutView",
            "align_content": null,
            "align_items": null,
            "align_self": null,
            "border": null,
            "bottom": null,
            "display": null,
            "flex": null,
            "flex_flow": null,
            "grid_area": null,
            "grid_auto_columns": null,
            "grid_auto_flow": null,
            "grid_auto_rows": null,
            "grid_column": null,
            "grid_gap": null,
            "grid_row": null,
            "grid_template_areas": null,
            "grid_template_columns": null,
            "grid_template_rows": null,
            "height": null,
            "justify_content": null,
            "justify_items": null,
            "left": null,
            "margin": null,
            "max_height": null,
            "max_width": null,
            "min_height": null,
            "min_width": null,
            "object_fit": null,
            "object_position": null,
            "order": null,
            "overflow": null,
            "overflow_x": null,
            "overflow_y": null,
            "padding": null,
            "right": null,
            "top": null,
            "visibility": null,
            "width": null
          }
        },
        "ab6083ebd4474b6bb29de770d4fec8ef": {
          "model_module": "@jupyter-widgets/controls",
          "model_name": "DescriptionStyleModel",
          "model_module_version": "1.5.0",
          "state": {
            "_model_module": "@jupyter-widgets/controls",
            "_model_module_version": "1.5.0",
            "_model_name": "DescriptionStyleModel",
            "_view_count": null,
            "_view_module": "@jupyter-widgets/base",
            "_view_module_version": "1.2.0",
            "_view_name": "StyleView",
            "description_width": ""
          }
        },
        "cb5e07a8410445a3bbac4808fbc23fa1": {
          "model_module": "@jupyter-widgets/base",
          "model_name": "LayoutModel",
          "model_module_version": "1.2.0",
          "state": {
            "_model_module": "@jupyter-widgets/base",
            "_model_module_version": "1.2.0",
            "_model_name": "LayoutModel",
            "_view_count": null,
            "_view_module": "@jupyter-widgets/base",
            "_view_module_version": "1.2.0",
            "_view_name": "LayoutView",
            "align_content": null,
            "align_items": null,
            "align_self": null,
            "border": null,
            "bottom": null,
            "display": null,
            "flex": null,
            "flex_flow": null,
            "grid_area": null,
            "grid_auto_columns": null,
            "grid_auto_flow": null,
            "grid_auto_rows": null,
            "grid_column": null,
            "grid_gap": null,
            "grid_row": null,
            "grid_template_areas": null,
            "grid_template_columns": null,
            "grid_template_rows": null,
            "height": null,
            "justify_content": null,
            "justify_items": null,
            "left": null,
            "margin": null,
            "max_height": null,
            "max_width": null,
            "min_height": null,
            "min_width": null,
            "object_fit": null,
            "object_position": null,
            "order": null,
            "overflow": null,
            "overflow_x": null,
            "overflow_y": null,
            "padding": null,
            "right": null,
            "top": null,
            "visibility": null,
            "width": null
          }
        },
        "77cd9f6305a64e57ba548f2c3002b7af": {
          "model_module": "@jupyter-widgets/controls",
          "model_name": "ProgressStyleModel",
          "model_module_version": "1.5.0",
          "state": {
            "_model_module": "@jupyter-widgets/controls",
            "_model_module_version": "1.5.0",
            "_model_name": "ProgressStyleModel",
            "_view_count": null,
            "_view_module": "@jupyter-widgets/base",
            "_view_module_version": "1.2.0",
            "_view_name": "StyleView",
            "bar_color": null,
            "description_width": ""
          }
        },
        "642ca1a1008c4e9d9feeb0c22879052b": {
          "model_module": "@jupyter-widgets/base",
          "model_name": "LayoutModel",
          "model_module_version": "1.2.0",
          "state": {
            "_model_module": "@jupyter-widgets/base",
            "_model_module_version": "1.2.0",
            "_model_name": "LayoutModel",
            "_view_count": null,
            "_view_module": "@jupyter-widgets/base",
            "_view_module_version": "1.2.0",
            "_view_name": "LayoutView",
            "align_content": null,
            "align_items": null,
            "align_self": null,
            "border": null,
            "bottom": null,
            "display": null,
            "flex": null,
            "flex_flow": null,
            "grid_area": null,
            "grid_auto_columns": null,
            "grid_auto_flow": null,
            "grid_auto_rows": null,
            "grid_column": null,
            "grid_gap": null,
            "grid_row": null,
            "grid_template_areas": null,
            "grid_template_columns": null,
            "grid_template_rows": null,
            "height": null,
            "justify_content": null,
            "justify_items": null,
            "left": null,
            "margin": null,
            "max_height": null,
            "max_width": null,
            "min_height": null,
            "min_width": null,
            "object_fit": null,
            "object_position": null,
            "order": null,
            "overflow": null,
            "overflow_x": null,
            "overflow_y": null,
            "padding": null,
            "right": null,
            "top": null,
            "visibility": null,
            "width": null
          }
        },
        "658345b88e9942ddbabed1af9e5a5643": {
          "model_module": "@jupyter-widgets/controls",
          "model_name": "DescriptionStyleModel",
          "model_module_version": "1.5.0",
          "state": {
            "_model_module": "@jupyter-widgets/controls",
            "_model_module_version": "1.5.0",
            "_model_name": "DescriptionStyleModel",
            "_view_count": null,
            "_view_module": "@jupyter-widgets/base",
            "_view_module_version": "1.2.0",
            "_view_name": "StyleView",
            "description_width": ""
          }
        }
      }
    }
  },
  "nbformat": 4,
  "nbformat_minor": 0
}