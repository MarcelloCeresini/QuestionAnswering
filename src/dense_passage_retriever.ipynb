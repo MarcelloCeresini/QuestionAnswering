{
  "cells": [
    {
      "cell_type": "code",
      "execution_count": null,
      "metadata": {
        "id": "8oZkaIoI1esj"
      },
      "outputs": [],
      "source": [
        "username = 'MarcelloCeresini'\n",
        "repository = 'QuestionAnswering'\n",
        "\n",
        "# COLAB ONLY CELLS\n",
        "try:\n",
        "    import google.colab\n",
        "    IN_COLAB = True\n",
        "    !pip3 install transformers\n",
        "    !git clone https://www.github.com/{username}/{repository}.git\n",
        "    #from google.colab import drive\n",
        "    #drive.mount('/content/drive/')\n",
        "    %cd /content/QuestionAnswering/src\n",
        "except:\n",
        "    IN_COLAB = False"
      ]
    },
    {
      "cell_type": "markdown",
      "metadata": {
        "id": "nmXDnbCt1ess"
      },
      "source": [
        "# Description"
      ]
    },
    {
      "cell_type": "markdown",
      "metadata": {
        "id": "4tIdZRSl1esu"
      },
      "source": [
        "In this notebook, we will try to implement the architecture detailed in [Dense Passage Retrieval for Open-Domain Question Answering](https://arxiv.org/pdf/2004.04906.pdf). \n",
        "\n",
        "The idea is that we have a corpus of documents $C = {p_1, p_2, \\dots, p_M}$ where each passage $p_i$ can be viewed as a sequence of tokens $w_1^{(i)}, w_2^{(i)}, \\dots, w_{|p_i|}^{(i)}$ and given a question $q$ we want to find the sequence of tokens $w_s^{(i)}, w_{s+1}^{(i)}, \\dots, w_{e}^{(i)}$ from one of the passage $i$ that can answer the question.\n",
        "\n",
        "In order to find the passage $i$ we need an efficient **Retriever** (i.e. a function $R: (q, C) \\rightarrow C_F$ where $C_F$ is a very small set of $k$ documents that have a high correlation with the query.)\n",
        "\n",
        "In the Tf-Idf example, the retriever was simply a function that returned the top 5 scores obtained by computing the vector cosine similarity between the query and all other documents. The problem with this approach is that it is not very efficient. Tf-Idf is a **sparse** document/query representation, thus computing a multitude of dot products between these very long vectors can be expensive.\n",
        "\n",
        "The paper cited above proposes a **dense** representation instead. It uses a Dense Encoder $E_P$ which maps all paragraphs to $d$-dimensional vectors. These vectors are stored in a database so that they can be efficiently retrieved. \n",
        "\n",
        "At run-time, another Dense Encoder is used $E_Q$ which maps the input question to a vector with the same dimensionality $d$. Then, a similarity score is computed between the two representations:\n",
        "\n",
        "$sim(p,q) = E_Q(q)^\\intercal E_P(p)$\n",
        "\n",
        "In the paper, $E_Q$ and $E_P$ are two independent BERT transformers and the $d$-dimensional vector is the **output at the $\\texttt{[CLS]}$ token** (so, $d = 768$).\n",
        "- This leaves open the possibility to use a larger dimensionality (eg. concatenating the output at multiple blocks like we did for the QA task).\n",
        "\n",
        "The $d$-dimensional representations of the $M$ passages are indexed using [FAISS](https://github.com/facebookresearch/faiss), an efficient, open-source library for similarity search and clustering of dense vectors developed at Facebook AI. At run-time, we simply compute $v_q = E_Q(q)$ and retrieve the top $k$ passages with embeddings closest to $v_q$.\n",
        "\n",
        "In this case, training the network means solving a **metric learning** problem: the two BERT networks need to learn an **effective vector space** such that relevant pairs of questions and passages are close, while irrelevant pairs are placed further away. In this problem we usually build a **training instance $D$** as ${(q_i, p_i^+, p_{i,1}^-, p_{i,2}^-, \\dots, p_{i,n}^-)}^m_{i=1}$, where question $q$ is paired with a relevant (positive) passage $p_i^+$ and $n$ irrelevant (negative) passages. Then, the loss function is the negative log-likelihood of the positive passage:\n",
        "\n",
        "$L(q_i, p_i^+, p_{i,1}^-, p_{i,2}^-, \\dots, p_{i,n}^-) = -\\log\\frac{e^{sim(q_i, p_i^+)}}{e^{sim(q_i, p_i^+)} + \\sum_{j=1}^n e^{sim(q_i, p_{i,j}^-)}}$\n",
        "\n",
        "It's easy to find the positive paragraph, but choosing the negatives is quite important. In particular, the paper proposes different ways for sampling the negatives:\n",
        "- Random: a negative is any random passage in the corpus\n",
        "- TF-IDF (The paper uses a variant, BM25): the negatives are the top passages (not containing the answer) returned by a TF-IDF search\n",
        "- Gold: the negatives are positives for other questions in the mini-batch. For the researchers, this is the best negative-mining option, because it's the most efficient and also it makes a batch a complete unit of learning (we learn the relationship that each question in the batch has with the other paragraphs).\n",
        "\n",
        "The Gold method allows the **in-batch negatives** technique: assuming to have a batch size of $B$, then we collect two $B \\times d$ matrices (one for questions, one for their positive paragraphs). Then, we compute $S = QP^\\intercal$ which is a $B \\times B$ matrix of **similarity scored** between each question and paragraph. This matrix can directly be used for training: any ($q_i, p_j$) pais where $i = j$ is considered to be a positive example, while it's negative otherwise. In total there will be $B$ training instances per batch, each with $B-1$ negative passages. "
      ]
    },
    {
      "cell_type": "markdown",
      "metadata": {
        "id": "7s1cbEuy1es4"
      },
      "source": [
        "# Configuration"
      ]
    },
    {
      "cell_type": "code",
      "execution_count": null,
      "metadata": {
        "id": "EcCbC-Vi1es5"
      },
      "outputs": [],
      "source": [
        "import os\n",
        "import numpy as np\n",
        "import random\n",
        "from tqdm import tqdm\n",
        "import tensorflow as tf\n",
        "from transformers import BertTokenizer, DistilBertTokenizer, TFBertModel\n",
        "import utils\n",
        "\n",
        "RANDOM_SEED = 42\n",
        "BERT_DIMENSIONALITY = 768\n",
        "\n",
        "print(\"Configuration!\")\n",
        "\n",
        "np.random.seed(RANDOM_SEED)\n",
        "random.seed(RANDOM_SEED)\n",
        "tf.random.set_seed(RANDOM_SEED)\n",
        "\n",
        "print(\"Opening dataset and collecting questions and paragraphs...\")\n",
        "\n",
        "ROOT_PATH = os.path.dirname(os.getcwd())\n",
        "TRAINING_FILE = os.path.join(ROOT_PATH, 'data', 'training_set.json')\n",
        "paragraphs_and_questions = utils.read_question_set(TRAINING_FILE)\n",
        "\n",
        "questions = [{\n",
        "        'qas': qas,\n",
        "        'context_id': (i,j)    # We also track the question's original context and paragraph indices so to have a ground truth\n",
        "    }\n",
        "    for i in range(len(paragraphs_and_questions['data']))\n",
        "    for j, para in enumerate(paragraphs_and_questions['data'][i]['paragraphs'])\n",
        "    for qas in para['qas']\n",
        "]\n",
        "\n",
        "paragraphs = [{\n",
        "        'context': para['context'],\n",
        "        'context_id': i\n",
        "    }\n",
        "    for i in range(len(paragraphs_and_questions['data']))\n",
        "    for para in paragraphs_and_questions['data'][i]['paragraphs']\n",
        "]\n",
        "\n",
        "print(\"Instantiating the two models and tokenizer...\")\n",
        "\n",
        "tokenizer_bert = BertTokenizer.from_pretrained('bert-base-uncased')\n",
        "model_q, model_p = TFBertModel.from_pretrained('bert-base-uncased'), TFBertModel.from_pretrained('bert-base-uncased')\n",
        "\n",
        "test_question = questions[0]['qas']['question']\n",
        "print(f\"Testing on a simple question. \\nQuestion: {test_question}\")\n",
        "inputs_test = tokenizer_bert(test_question, return_tensors=\"tf\")\n",
        "outputs = model_q(inputs_test)\n",
        "\n",
        "# As a representation of the token we use the last hidden state at the [CLS] token (the first one)\n",
        "last_hidden_states = outputs.last_hidden_state\n",
        "test_q_repr = last_hidden_states[0,0,:]\n",
        "print(f\"Representation dimensionality: {test_q_repr.shape}\")"
      ]
    },
    {
      "cell_type": "markdown",
      "metadata": {
        "id": "l_lPiEZu1es9"
      },
      "source": [
        "# Training"
      ]
    },
    {
      "cell_type": "markdown",
      "metadata": {
        "id": "v7qavEm61es-"
      },
      "source": [
        "First of all, we need to train our models. To do that, we need to create a dataset that feeds batches of questions and positive and negative paragraphs to a model, which is used to compute the representations, then the similarities and to correct the learnt distributions from the encoder models."
      ]
    },
    {
      "cell_type": "markdown",
      "metadata": {
        "id": "tCYkx8rf1es_"
      },
      "source": [
        "## Dataset creation"
      ]
    },
    {
      "cell_type": "markdown",
      "metadata": {
        "id": "hynvz3Gw1etA"
      },
      "source": [
        "For the dataset, we use the `keras.utils.Sequence` object, which is a high-level multi-processing-ready data generator that we can use to generate full batches consisting of the tokenized question, as well as positive and negative paragraphs."
      ]
    },
    {
      "cell_type": "code",
      "execution_count": 4,
      "metadata": {
        "id": "OaBWVf5k1etB"
      },
      "outputs": [],
      "source": [
        "import math\n",
        "from tensorflow import keras\n",
        "from tensorflow.keras import layers\n",
        "from tensorflow.keras.utils import Sequence\n",
        "from typing import List, Union\n",
        "from tqdm import tqdm\n",
        "from functools import partial\n",
        "\n",
        "BATCH_SIZE = 16\n",
        "\n",
        "def get_paragraph_from_question(qas, dataset):\n",
        "    i,j = qas['context_id']\n",
        "    return dataset['data'][i]['paragraphs'][j]\n",
        "\n",
        "\n",
        "class TrainingDataset(Sequence):\n",
        "\n",
        "    def __init__(self, questions, dataset, tokenizer, batch_size=BATCH_SIZE):\n",
        "        self.questions = questions\n",
        "        self.dataset = dataset\n",
        "        self.tokenizer = tokenizer\n",
        "        self.batch_size = batch_size\n",
        "\n",
        "    def __len__(self):\n",
        "        return math.ceil(len(self.questions) / self.batch_size)\n",
        "\n",
        "    def __getitem__(self, _):\n",
        "        # Each batch is made of batch_size questions. Each question\n",
        "        # is paired with a positive and batch_size-1 negatives.\n",
        "        batch = []\n",
        "        # Randomly choose a batch of questions\n",
        "        questions_in = np.random.choice(self.questions, size=self.batch_size, replace=False)\n",
        "        # Obtain the respective paragraphs\n",
        "        paragraphs_in = np.array([get_paragraph_from_question(q, self.dataset)['context'] for q in questions_in])\n",
        "        # Then we obtain the tokenizer representation of the paragraphs\n",
        "        paragraphs_in = [self.tokenizer(paragraphs_in[i], \n",
        "                    return_tensors='tf', max_length = 512, \n",
        "                    truncation = True, padding = 'max_length')\n",
        "                    for i in range(len(paragraphs_in))]\n",
        "        for i in range(self.batch_size):\n",
        "            # Tokenize the question\n",
        "            qs = self.tokenizer(questions_in[i]['qas']['question'], \n",
        "                    return_tensors='tf', max_length = 512, \n",
        "                    truncation = True, padding = 'max_length')\n",
        "            # Populate the batch    \n",
        "            batch.append({\n",
        "                'question': qs,\n",
        "                'positive': paragraphs_in[i],\n",
        "                'negatives': [paragraphs_in[j] for j in range(len(paragraphs_in)) if j != i]\n",
        "            })\n",
        "        \n",
        "        return batch\n",
        "\n",
        "dataset = TrainingDataset(questions, paragraphs_and_questions, tokenizer_bert)"
      ]
    },
    {
      "cell_type": "markdown",
      "metadata": {
        "id": "xAnwbiFU1etF"
      },
      "source": [
        "## Training pipeline"
      ]
    },
    {
      "cell_type": "markdown",
      "metadata": {
        "id": "52lwz19a1etG"
      },
      "source": [
        "First of all, we need a layer that takes as input the dictionary containing the tokenized questions and answers and returns their compact representations."
      ]
    },
    {
      "cell_type": "code",
      "execution_count": 5,
      "metadata": {
        "colab": {
          "base_uri": "https://localhost:8080/"
        },
        "id": "PjPUMwKk1etG",
        "outputId": "c8faceea-1995-444b-cd4f-b991a60cc19e"
      },
      "outputs": [
        {
          "output_type": "stream",
          "name": "stdout",
          "text": [
            "(16, 768) (16, 768)\n"
          ]
        }
      ],
      "source": [
        "class DenseEncoder(layers.Layer):\n",
        "    def __init__(self, model_q, model_p):\n",
        "        super().__init__()\n",
        "        self.model_q = model_q  # Dense encoder for questions\n",
        "        self.model_p = model_p  # Dense encoder for paragraphs\n",
        "    \n",
        "    def call(self, inputs, training=False):\n",
        "        # We obtain the representation of the question with the first model\n",
        "        q_repr = tf.stack([tf.reshape(\n",
        "            self.model_q(el['question']).last_hidden_state[:,0,:], -1) \n",
        "        for el in inputs])\n",
        "        # If we're just testing the system, we simply return the encoded passage,\n",
        "        # Otherwise we must also encode the paragraphs.\n",
        "        if training:\n",
        "            p_repr = tf.stack([tf.reshape(\n",
        "                self.model_p(el['positive']).last_hidden_state[:,0,:], -1) \n",
        "            for el in inputs])\n",
        "            return q_repr, p_repr\n",
        "        else:\n",
        "            return q_repr\n",
        "\n",
        "# Small test for the layer\n",
        "class TestDenseEncoderModel(keras.Model):\n",
        "    def __init__(self, model_q, model_p):\n",
        "        super().__init__()\n",
        "        self.enc = DenseEncoder(model_q, model_p)\n",
        "\n",
        "    def call(self, inputs, training=False):\n",
        "        return self.enc(inputs, training=training)\n",
        "\n",
        "test_model = TestDenseEncoderModel(model_q, model_p)\n",
        "q_repr, p_repr = test_model(dataset[0], training=True)\n",
        "print(q_repr.shape, p_repr.shape)"
      ]
    },
    {
      "cell_type": "markdown",
      "metadata": {
        "id": "e4r1MfHP1etI"
      },
      "source": [
        "Once we have the representations, we should compute the similarities, thus obtaining a a full mini-batch of positive-negative examples. "
      ]
    },
    {
      "cell_type": "code",
      "source": [
        "# Create the similarity matrix\n",
        "S = tf.tensordot(q_repr, tf.transpose(p_repr), axes=1)\n",
        "S.shape"
      ],
      "metadata": {
        "colab": {
          "base_uri": "https://localhost:8080/"
        },
        "id": "ZdG5bkWV2FU5",
        "outputId": "e98fb535-7a6f-4539-d69b-e8469a6f2155"
      },
      "execution_count": 6,
      "outputs": [
        {
          "output_type": "execute_result",
          "data": {
            "text/plain": [
              "TensorShape([16, 16])"
            ]
          },
          "metadata": {},
          "execution_count": 6
        }
      ]
    },
    {
      "cell_type": "markdown",
      "source": [
        "This similarity matrix has the following meaning:\n",
        "- Rows represent questions.\n",
        "- Each row contains the similarity that the respective question has with the 16 paragraphs (one of them is the positive one, the others are negative)\n",
        "\n",
        "In the paper, they refer to the loss as a *minimization of the negative log-likelihood of the positive passage*: what it really means is that we need to transform similarities to probabilities and use a categorical cross-entropy loss, where labels are the row index (which is also the column index in that row for the positive passage)"
      ],
      "metadata": {
        "id": "qEPy1ug1__n0"
      }
    },
    {
      "cell_type": "code",
      "source": [
        "loss = tf.keras.losses.SparseCategoricalCrossentropy(\n",
        "    from_logits=True\n",
        ")\n",
        "loss(y_true=tf.range(BATCH_SIZE), y_pred=S).numpy()"
      ],
      "metadata": {
        "colab": {
          "base_uri": "https://localhost:8080/"
        },
        "id": "J_aJezqWCKsw",
        "outputId": "2b3f1ae0-4341-4f22-f0d8-20243e6f47a8"
      },
      "execution_count": 7,
      "outputs": [
        {
          "output_type": "execute_result",
          "data": {
            "text/plain": [
              "27.52066"
            ]
          },
          "metadata": {},
          "execution_count": 7
        }
      ]
    },
    {
      "cell_type": "markdown",
      "source": [
        "The loss seems to be quite high for this batch. We can study it with a confusion matrix."
      ],
      "metadata": {
        "id": "BnidWQLZDwsf"
      }
    },
    {
      "cell_type": "code",
      "source": [
        "from sklearn.metrics import ConfusionMatrixDisplay\n",
        "\n",
        "S_arr = S.numpy()\n",
        "ConfusionMatrixDisplay.from_predictions(\n",
        "    y_true=np.arange(BATCH_SIZE), y_pred=np.argmax(S_arr, axis=1))"
      ],
      "metadata": {
        "colab": {
          "base_uri": "https://localhost:8080/",
          "height": 300
        },
        "id": "Vdgc2-gQD1PP",
        "outputId": "9caa6b89-12a4-4cad-f24a-58decde68206"
      },
      "execution_count": 8,
      "outputs": [
        {
          "output_type": "execute_result",
          "data": {
            "text/plain": [
              "<sklearn.metrics._plot.confusion_matrix.ConfusionMatrixDisplay at 0x7f0d785f1850>"
            ]
          },
          "metadata": {},
          "execution_count": 8
        },
        {
          "output_type": "display_data",
          "data": {
            "text/plain": [
              "<Figure size 432x288 with 2 Axes>"
            ],
            "image/png": "[encoded data removed]"
          },
          "metadata": {
            "needs_background": "light"
          }
        }
      ]
    },
    {
      "cell_type": "markdown",
      "source": [
        "Indeed, ideally the predictions should be on the diagonal. This means that the \"default\" space for this metric learning problem is not that good. We are ready to learn a new representation distribution."
      ],
      "metadata": {
        "id": "pQwdzlTfEsH4"
      }
    },
    {
      "cell_type": "code",
      "source": [
        "class DensePassageRetriever(keras.Model):\n",
        "\n",
        "    def __init__(self, model_q, model_p):\n",
        "        super().__init__()\n",
        "        self.enc = DenseEncoder(model_q, model_p)\n",
        "\n",
        "    def call(self, inputs, training=False):\n",
        "        if training:\n",
        "            # During training, we return the similarity matrix\n",
        "            repr_q, repr_p = self.enc(inputs, training=training)\n",
        "            S = tf.tensordot(q_repr, tf.transpose(p_repr), axes=1)\n",
        "            return S\n",
        "        else:\n",
        "            # TODO\n",
        "            repr_q = self.enc(inputs, training=training)\n",
        "            return repr_q\n",
        "\n",
        "    def train_step(self, data):\n",
        "        # Custom train step to create ground truth labels on-the-fly\n",
        "        with tf.GradientTape() as tape:\n",
        "            # Obtain similarities\n",
        "            S = self(data, training=True)\n",
        "            # Create labels (0,1,2,...,BATCH_SIZE-1)\n",
        "            labels = tf.range(BATCH_SIZE)\n",
        "            # Obtain loss value\n",
        "            loss = self.compiled_loss(labels, S)\n",
        "        # Construct gradients and apply them through the optimizer\n",
        "        gradients = tape.gradient(loss, self.trainable_variables)\n",
        "        self.optimizer.apply_gradients(zip(gradients, self.trainable_variables))\n",
        "        # Update and return metrics (specifically the one for the loss value).\n",
        "        self.compiled_metrics.update_state(labels, S)\n",
        "        return {m.name: m.result() for m in self.metrics}\n",
        "\n",
        "def create_model(model_q, model_p, batch_size=BATCH_SIZE):\n",
        "    model = DensePassageRetriever(model_q, model_p)\n",
        "    # Compile the model and loss\n",
        "    model.compile(\n",
        "        optimizer=keras.optimizers.Adam(learning_rate=1e-3),\n",
        "        loss=keras.losses.SparseCategoricalCrossentropy(from_logits=True)\n",
        "    )\n",
        "    return model\n",
        "\n",
        "# Test if it works\n",
        "model = create_model(model_q, model_p, batch_size=BATCH_SIZE)\n",
        "history = model.fit(dataset, shuffle=True, epochs=1)"
      ],
      "metadata": {
        "id": "nme0koNHE76t"
      },
      "execution_count": null,
      "outputs": []
    },
    {
      "cell_type": "markdown",
      "metadata": {
        "id": "giBxscVS1etI"
      },
      "source": [
        "## Testing"
      ]
    },
    {
      "cell_type": "markdown",
      "metadata": {
        "id": "lsiV3d_d1etJ"
      },
      "source": [
        "We pre-compute the representations of the paragraphs. We save it on disk so that we don't need to re-compute it everytime."
      ]
    },
    {
      "cell_type": "code",
      "execution_count": null,
      "metadata": {
        "id": "ceMlD8dy1etJ",
        "outputId": "4b72f083-8f9a-418a-9851-16a180be48a3"
      },
      "outputs": [
        {
          "data": {
            "text/plain": [
              "(18896, 768)"
            ]
          },
          "metadata": {},
          "output_type": "display_data"
        }
      ],
      "source": [
        "paragraphs_representations = np.empty(\n",
        "    shape=(len(paragraphs), BERT_DIMENSIONALITY)\n",
        ")\n",
        "paragraphs_representations.shape"
      ]
    },
    {
      "cell_type": "code",
      "execution_count": null,
      "metadata": {
        "id": "Ue-ZdYeK1etK"
      },
      "outputs": [],
      "source": [
        "for i, p in enumerate(tqdm(paragraphs)):\n",
        "    paragraphs_representations[i] = model_p(tokenizer_bert(\n",
        "        p['context'], return_tensors='tf', max_length = 512, \n",
        "        truncation = True, padding = 'max_length'\n",
        "    )).last_hidden_state[0,0,:]\n",
        "np.savetxt('paragraphs_representations.txt', paragraphs_representations, delimiter=',')"
      ]
    },
    {
      "cell_type": "code",
      "execution_count": null,
      "metadata": {
        "id": "dxBcEA8s1etK"
      },
      "outputs": [],
      "source": [
        "paragraphs_representations = np.loadtxt('paragraphs_representations.txt', delimiter=',')"
      ]
    }
  ],
  "metadata": {
    "interpreter": {
      "hash": "8d3a38b9baf6bccb52d534d3795fadb5d3190627f4e5187a36a9129f48a6e143"
    },
    "kernelspec": {
      "display_name": "Python 3.7.11",
      "language": "python",
      "name": "python3"
    },
    "language_info": {
      "codemirror_mode": {
        "name": "ipython",
        "version": 3
      },
      "file_extension": ".py",
      "mimetype": "text/x-python",
      "name": "python",
      "nbconvert_exporter": "python",
      "pygments_lexer": "ipython3",
      "version": "3.7.11"
    },
    "orig_nbformat": 4,
    "colab": {
      "name": "dense_passage_retriever.ipynb",
      "provenance": [],
      "collapsed_sections": []
    },
    "accelerator": "GPU"
  },
  "nbformat": 4,
  "nbformat_minor": 0
}