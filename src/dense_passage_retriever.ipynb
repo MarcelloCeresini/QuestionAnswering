{
  "cells": [
    {
      "cell_type": "code",
      "execution_count": 1,
      "metadata": {
        "colab": {
          "base_uri": "https://localhost:8080/"
        },
        "id": "8oZkaIoI1esj",
        "outputId": "80442cad-bd55-40d2-b570-60ff7176348e"
      },
      "outputs": [
        {
          "output_type": "stream",
          "name": "stdout",
          "text": [
            "Looking in indexes: https://pypi.org/simple, https://us-python.pkg.dev/colab-wheels/public/simple/\n",
            "Collecting transformers\n",
            "  Downloading transformers-4.20.1-py3-none-any.whl (4.4 MB)\n",
            "\u001b[K     |████████████████████████████████| 4.4 MB 16.2 MB/s \n",
            "\u001b[?25hRequirement already satisfied: importlib-metadata in /usr/local/lib/python3.7/dist-packages (from transformers) (4.11.4)\n",
            "Collecting huggingface-hub<1.0,>=0.1.0\n",
            "  Downloading huggingface_hub-0.8.1-py3-none-any.whl (101 kB)\n",
            "\u001b[K     |████████████████████████████████| 101 kB 13.2 MB/s \n",
            "\u001b[?25hCollecting tokenizers!=0.11.3,<0.13,>=0.11.1\n",
            "  Downloading tokenizers-0.12.1-cp37-cp37m-manylinux_2_12_x86_64.manylinux2010_x86_64.whl (6.6 MB)\n",
            "\u001b[K     |████████████████████████████████| 6.6 MB 64.1 MB/s \n",
            "\u001b[?25hRequirement already satisfied: tqdm>=4.27 in /usr/local/lib/python3.7/dist-packages (from transformers) (4.64.0)\n",
            "Requirement already satisfied: requests in /usr/local/lib/python3.7/dist-packages (from transformers) (2.23.0)\n",
            "Requirement already satisfied: regex!=2019.12.17 in /usr/local/lib/python3.7/dist-packages (from transformers) (2022.6.2)\n",
            "Requirement already satisfied: packaging>=20.0 in /usr/local/lib/python3.7/dist-packages (from transformers) (21.3)\n",
            "Collecting pyyaml>=5.1\n",
            "  Downloading PyYAML-6.0-cp37-cp37m-manylinux_2_5_x86_64.manylinux1_x86_64.manylinux_2_12_x86_64.manylinux2010_x86_64.whl (596 kB)\n",
            "\u001b[K     |████████████████████████████████| 596 kB 74.0 MB/s \n",
            "\u001b[?25hRequirement already satisfied: numpy>=1.17 in /usr/local/lib/python3.7/dist-packages (from transformers) (1.21.6)\n",
            "Requirement already satisfied: filelock in /usr/local/lib/python3.7/dist-packages (from transformers) (3.7.1)\n",
            "Requirement already satisfied: typing-extensions>=3.7.4.3 in /usr/local/lib/python3.7/dist-packages (from huggingface-hub<1.0,>=0.1.0->transformers) (4.1.1)\n",
            "Requirement already satisfied: pyparsing!=3.0.5,>=2.0.2 in /usr/local/lib/python3.7/dist-packages (from packaging>=20.0->transformers) (3.0.9)\n",
            "Requirement already satisfied: zipp>=0.5 in /usr/local/lib/python3.7/dist-packages (from importlib-metadata->transformers) (3.8.0)\n",
            "Requirement already satisfied: urllib3!=1.25.0,!=1.25.1,<1.26,>=1.21.1 in /usr/local/lib/python3.7/dist-packages (from requests->transformers) (1.24.3)\n",
            "Requirement already satisfied: certifi>=2017.4.17 in /usr/local/lib/python3.7/dist-packages (from requests->transformers) (2022.6.15)\n",
            "Requirement already satisfied: idna<3,>=2.5 in /usr/local/lib/python3.7/dist-packages (from requests->transformers) (2.10)\n",
            "Requirement already satisfied: chardet<4,>=3.0.2 in /usr/local/lib/python3.7/dist-packages (from requests->transformers) (3.0.4)\n",
            "Installing collected packages: pyyaml, tokenizers, huggingface-hub, transformers\n",
            "  Attempting uninstall: pyyaml\n",
            "    Found existing installation: PyYAML 3.13\n",
            "    Uninstalling PyYAML-3.13:\n",
            "      Successfully uninstalled PyYAML-3.13\n",
            "Successfully installed huggingface-hub-0.8.1 pyyaml-6.0 tokenizers-0.12.1 transformers-4.20.1\n",
            "Cloning into 'QuestionAnswering'...\n",
            "warning: redirecting to https://github.com/MarcelloCeresini/QuestionAnswering.git/\n",
            "remote: Enumerating objects: 965, done.\u001b[K\n",
            "remote: Counting objects: 100% (135/135), done.\u001b[K\n",
            "remote: Compressing objects: 100% (99/99), done.\u001b[K\n",
            "remote: Total 965 (delta 89), reused 47 (delta 34), pack-reused 830\u001b[K\n",
            "Receiving objects: 100% (965/965), 29.07 MiB | 20.23 MiB/s, done.\n",
            "Resolving deltas: 100% (585/585), done.\n",
            "/content/QuestionAnswering/src\n",
            "env: GOOGLE_APPLICATION_CREDENTIALS=/content/drive/MyDrive/Uni/Magistrale/NLP/Project/nlp-project-338723-0510aa0a4912.json\n"
          ]
        }
      ],
      "source": [
        "username = 'MarcelloCeresini'\n",
        "repository = 'QuestionAnswering'\n",
        "\n",
        "# COLAB ONLY CELLS\n",
        "try:\n",
        "    import google.colab\n",
        "    IN_COLAB = True\n",
        "    !pip3 install transformers\n",
        "    !git clone https://www.github.com/{username}/{repository}.git\n",
        "    #from google.colab import drive\n",
        "    #drive.mount('/content/drive/')\n",
        "    %cd /content/QuestionAnswering/src\n",
        "    using_TPU = True    # If we are running this notebook on Colab, use a TPU\n",
        "    # Google cloud credentials\n",
        "    %env GOOGLE_APPLICATION_CREDENTIALS=/content/drive/MyDrive/Uni/Magistrale/NLP/Project/nlp-project-338723-0510aa0a4912.json\n",
        "except:\n",
        "    IN_COLAB = False\n",
        "    using_TPU = False   # If you're not on Colab you probably won't have access to a TPU"
      ]
    },
    {
      "cell_type": "markdown",
      "metadata": {
        "id": "nmXDnbCt1ess"
      },
      "source": [
        "# Description"
      ]
    },
    {
      "cell_type": "markdown",
      "metadata": {
        "id": "4tIdZRSl1esu"
      },
      "source": [
        "In this notebook, we will try to implement the architecture detailed in [Dense Passage Retrieval for Open-Domain Question Answering](https://arxiv.org/pdf/2004.04906.pdf). \n",
        "\n",
        "The idea is that we have a corpus of documents $C = {p_1, p_2, \\dots, p_M}$ where each passage $p_i$ can be viewed as a sequence of tokens $w_1^{(i)}, w_2^{(i)}, \\dots, w_{|p_i|}^{(i)}$ and given a question $q$ we want to find the sequence of tokens $w_s^{(i)}, w_{s+1}^{(i)}, \\dots, w_{e}^{(i)}$ from one of the passage $i$ that can answer the question.\n",
        "\n",
        "In order to find the passage $i$ we need an efficient **Retriever** (i.e. a function $R: (q, C) \\rightarrow C_F$ where $C_F$ is a very small set of $k$ documents that have a high correlation with the query.)\n",
        "\n",
        "In the Tf-Idf example, the retriever was simply a function that returned the top score obtained by computing the vector cosine similarity between the query and all other documents. The problem with this approach is that it is not very efficient. Tf-Idf is a **sparse** document/query representation, thus computing a multitude of dot products between these very long vectors can be expensive.\n",
        "\n",
        "The paper cited above proposes a **dense** representation instead. It uses a Dense Encoder $E_P$ which maps all paragraphs to $d$-dimensional vectors. These vectors are stored in a database so that they can be efficiently retrieved. \n",
        "\n",
        "At run-time, another Dense Encoder $E_Q$ is used: it maps the input question to a vector with the same dimensionality $d$. Then, a similarity score is computed between the two representations:\n",
        "\n",
        "$sim(p,q) = E_Q(q)^\\intercal E_P(p)$\n",
        "\n",
        "In the paper, $E_Q$ and $E_P$ are two independent BERT transformers and the $d$-dimensional vector is the **output at the $\\texttt{[CLS]}$ token** (so, $d = 768$).\n",
        "- This leaves open the possibility to use a larger dimensionality (eg. concatenating the output at multiple blocks like we did for the QA task).\n",
        "\n",
        "<!-- The $d$-dimensional representations of the $M$ passages are indexed using [FAISS](https://github.com/facebookresearch/faiss), an efficient, open-source library for similarity search and clustering of dense vectors developed at Facebook AI.  -->\n",
        "At run-time, we simply compute $v_q = E_Q(q)$ and retrieve the top $k$ passages with embeddings closest to $v_q$.\n",
        "\n",
        "In this case, training the network means solving a **metric learning** problem: the two BERT networks need to learn an **effective vector space** such that relevant pairs of questions and passages are close, while irrelevant pairs are placed further away. In this problem we usually build a **training instance $D$** as ${(q_i, p_i^+, p_{i,1}^-, p_{i,2}^-, \\dots, p_{i,n}^-)}^m_{i=1}$, where question $q$ is paired with a relevant (positive) passage $p_i^+$ and $n$ irrelevant (negative) passages. Then, the loss function is the negative log-likelihood of the positive passage:\n",
        "\n",
        "$L(q_i, p_i^+, p_{i,1}^-, p_{i,2}^-, \\dots, p_{i,n}^-) = -\\log\\frac{e^{sim(q_i, p_i^+)}}{e^{sim(q_i, p_i^+)} + \\sum_{j=1}^n e^{sim(q_i, p_{i,j}^-)}}$\n",
        "\n",
        "It's easy to find the positive paragraph, but choosing the negatives is quite important. In particular, the paper proposes different ways for sampling the negatives:\n",
        "- Random: a negative is any random passage in the corpus\n",
        "- TF-IDF (The paper uses a variant, BM25): the negatives are the top passages (not containing the answer) returned by a TF-IDF search\n",
        "- Gold: the negatives are positives for other questions in the mini-batch. For the researchers, this is the best negative-mining option, because it's the most efficient and also it makes a batch a complete unit of learning (we learn the relationship that each question in the batch has with the other paragraphs).\n",
        "\n",
        "The Gold method allows the **in-batch negatives** technique: assuming to have a batch size of $B$, then we collect two $B \\times d$ matrices (one for questions, one for their positive paragraphs). Then, we compute $S = QP^\\intercal$ which is a $B \\times B$ matrix of **similarity scored** between each question and paragraph. This matrix can directly be used for training: any ($q_i, p_j$) pais where $i = j$ is considered to be a positive example, while it's negative otherwise. In total there will be $B$ training instances per batch, each with $B-1$ negative passages. "
      ]
    },
    {
      "cell_type": "markdown",
      "metadata": {
        "id": "7s1cbEuy1es4"
      },
      "source": [
        "# Configuration"
      ]
    },
    {
      "cell_type": "markdown",
      "metadata": {
        "id": "Pm45AN-fDEiv"
      },
      "source": [
        "## Imports"
      ]
    },
    {
      "cell_type": "code",
      "execution_count": 2,
      "metadata": {
        "id": "8CBcRCvCCpzg"
      },
      "outputs": [],
      "source": [
        "import os\n",
        "import numpy as np\n",
        "import random\n",
        "from tqdm import tqdm\n",
        "from functools import partial\n",
        "tqdm = partial(tqdm, position=0, leave=True)\n",
        "import tensorflow as tf\n",
        "from tensorflow import keras\n",
        "from tensorflow.keras import layers\n",
        "from tensorflow.keras.utils import Sequence\n",
        "from typing import List, Union, Dict, Tuple\n",
        "from transformers import BertTokenizerFast, DistilBertTokenizerFast, \\\n",
        "                         TFBertModel, TFDistilBertModel\n",
        "import utils\n",
        "\n",
        "RANDOM_SEED = 42\n",
        "MAX_SEQ_LEN = 512\n",
        "BERT_DIMENSIONALITY = 768\n",
        "\n",
        "np.random.seed(RANDOM_SEED)\n",
        "random.seed(RANDOM_SEED)\n",
        "tf.random.set_seed(RANDOM_SEED)"
      ]
    },
    {
      "cell_type": "markdown",
      "metadata": {
        "id": "K7Ih1ZqSDCmW"
      },
      "source": [
        "### TPU check\n",
        "The training could be made faster if we use the cloud GPUs offered by Google on Google Colab. Since TPUs require manual intialization and other oddities, we check multiple times throughout the notebook what kind of hardware we are running the code on."
      ]
    },
    {
      "cell_type": "code",
      "execution_count": 3,
      "metadata": {
        "colab": {
          "base_uri": "https://localhost:8080/"
        },
        "id": "iyt5e89MCm4X",
        "outputId": "ac3da585-cfe2-4501-dfca-e9321a0c2b0c"
      },
      "outputs": [
        {
          "output_type": "stream",
          "name": "stdout",
          "text": [
            "TPUs are not available, setting flag 'using_TPU' to False.\n",
            "Num GPUs Available:  1\n"
          ]
        }
      ],
      "source": [
        "if using_TPU:\n",
        "    try: \n",
        "        resolver = tf.distribute.cluster_resolver.TPUClusterResolver(tpu='')\n",
        "        tf.config.experimental_connect_to_cluster(resolver)\n",
        "        # This is the TPU initialization code that has to be at the beginning.\n",
        "        tf.tpu.experimental.initialize_tpu_system(resolver)\n",
        "        print(\"All devices: \", tf.config.list_logical_devices('TPU'))\n",
        "        strategy = tf.distribute.TPUStrategy(resolver)\n",
        "    except:\n",
        "        print(\"TPUs are not available, setting flag 'using_TPU' to False.\")\n",
        "        using_TPU = False\n",
        "        print(\"Num GPUs Available: \", len(tf.config.list_physical_devices('GPU')))\n",
        "else:\n",
        "    print(\"Num GPUs Available: \", len(tf.config.list_physical_devices('GPU')))\n",
        "\n",
        "BATCH_SIZE = 8 if not using_TPU else 64"
      ]
    },
    {
      "cell_type": "code",
      "execution_count": 4,
      "metadata": {
        "colab": {
          "base_uri": "https://localhost:8080/"
        },
        "id": "jDjUKQxol1lS",
        "outputId": "7abd1016-bf7b-41ca-bf2e-83d28db6b188"
      },
      "outputs": [
        {
          "output_type": "stream",
          "name": "stdout",
          "text": [
            "Mounted at /content/drive/\n"
          ]
        }
      ],
      "source": [
        "if IN_COLAB:\n",
        "    from google.colab import drive\n",
        "    drive.mount('/content/drive/')\n",
        "    checkpoint_dir = '/content/drive/MyDrive/Uni/Magistrale/NLP/Project/weights/training_dpr/'\n",
        "    datasets_dir = '/content/drive/MyDrive/Uni/Magistrale/NLP/Project/datasets/dpr/'\n",
        "else:\n",
        "    # Create the folder where we'll save the weights of the model\n",
        "    checkpoint_dir = os.path.join(\"data\", \"training_dpr\")\n",
        "    datasets_dir = os.path.join(\"data\", \"training_dpr\", \"dataset\")\n",
        "\n",
        "os.makedirs(checkpoint_dir, exist_ok=True)\n",
        "os.makedirs(datasets_dir, exist_ok=True)"
      ]
    },
    {
      "cell_type": "markdown",
      "metadata": {
        "id": "vVHmkEeC2kuf"
      },
      "source": [
        "## Allowed operations"
      ]
    },
    {
      "cell_type": "code",
      "execution_count": 5,
      "metadata": {
        "id": "QSfXDW2g2sAr"
      },
      "outputs": [],
      "source": [
        "ANALYSE_TOKENIZATIONS = True    # Tokenises all paragraphs and showcases a simple analysis\n",
        "                                # for reducing the length of the sequence. Runs in less \n",
        "                                # than a few minutes on any architecture.\n",
        "\n",
        "OVERWRITE_DATASETS = False      # Best to be run on GPU, takes about half an hour.\n",
        "                                # It saves a new copy of the pre-tokenized\n",
        "                                # question-paragraph pair on Google Drive.\n",
        "                                # The copy should then be uploaded to GCloud into\n",
        "                                # the bucket allocated for the project to be used by\n",
        "                                # TPUs.\n",
        "\n",
        "DO_TRAINING = False             # Best to be run on TPU, takes about 2 hours.\n",
        "                                # It trains the model and saves a copy of the \n",
        "                                # last weights on Google Drive. When run on GPU\n",
        "                                # It also saves checkpoints and Tensorboard data,\n",
        "                                # but it takes over 4 hours to do a single epoch,\n",
        "                                # so it's impossible to run it on Colab.\n",
        "\n",
        "OVERRIDE_REPRESENTATIONS = True  # Best to be run on GPU, it takes about 30 minutes.\n",
        "                                 # It produces representations of all paragraphs\n",
        "                                 # using the trained model_p as a large NumPy array\n",
        "                                 # that is stored on Google Drive at the end.\n",
        "\n",
        "RUN_ACCURACY_ANALYSIS = True    # Best to be run on GPU, takes about an hour\n",
        "                                # It analyzes the paragraph retrieval capability\n",
        "                                # of the model with top-1 and top-5 accuracy."
      ]
    },
    {
      "cell_type": "markdown",
      "metadata": {
        "id": "eAv3n12tDIAo"
      },
      "source": [
        "## Variables"
      ]
    },
    {
      "cell_type": "markdown",
      "metadata": {
        "id": "d8piWcupDOPR"
      },
      "source": [
        "We define all the paths."
      ]
    },
    {
      "cell_type": "code",
      "execution_count": 6,
      "metadata": {
        "id": "On3I2PUgCwNF"
      },
      "outputs": [],
      "source": [
        "ROOT_PATH = os.path.dirname(os.getcwd())\n",
        "TRAINING_FILE = os.path.join(ROOT_PATH, 'data', 'training_set.json')\n",
        "VALIDATION_FILE = os.path.join(ROOT_PATH, 'data', 'validation_set.json')\n",
        "TEST_FILE = os.path.join(ROOT_PATH, 'data', 'dev_set.json')"
      ]
    },
    {
      "cell_type": "markdown",
      "metadata": {
        "id": "YLC6xwfKDSAN"
      },
      "source": [
        "We collect the training, validation and testing questions and paragraphs."
      ]
    },
    {
      "cell_type": "code",
      "execution_count": 7,
      "metadata": {
        "id": "1zdDCsLZDMkm",
        "outputId": "ba58aa39-4616-4aef-ae82-ccf1da61df9f",
        "colab": {
          "base_uri": "https://localhost:8080/"
        }
      },
      "outputs": [
        {
          "output_type": "stream",
          "name": "stdout",
          "text": [
            "Number of training questions: 65064\n",
            "Number of training paragraphs: 13975\n",
            "\n",
            "Number of val questions: 22535\n",
            "Number of val paragraphs: 4921\n",
            "\n",
            "Number of test questions: 10570\n",
            "Number of test paragraphs: 2067\n"
          ]
        }
      ],
      "source": [
        "train_paragraphs_and_questions = utils.read_question_set(TRAINING_FILE)['data']\n",
        "val_paragraphs_and_questions = utils.read_question_set(VALIDATION_FILE)['data']\n",
        "test_paragraphs_and_questions = utils.read_question_set(TEST_FILE)['data']\n",
        "\n",
        "# Remove the validation set from the train set\n",
        "train_paragraphs_and_questions = [article for article in train_paragraphs_and_questions \\\n",
        "                                  if article not in val_paragraphs_and_questions]\n",
        "\n",
        "def get_questions_and_paragraphs(dataset):\n",
        "    questions = [{\n",
        "            'qas': qas,\n",
        "            'context_id': (i,j)    # We also track the question's original context and paragraph indices so to have a ground truth\n",
        "        }\n",
        "        for i in range(len(dataset))\n",
        "        for j, para in enumerate(dataset[i]['paragraphs'])\n",
        "        for qas in para['qas']\n",
        "    ]\n",
        "\n",
        "    paragraphs = [{\n",
        "            'context': para['context'],\n",
        "            'context_id': i\n",
        "        }\n",
        "        for i in range(len(dataset))\n",
        "        for para in dataset[i]['paragraphs']\n",
        "    ]\n",
        "\n",
        "    return questions, paragraphs\n",
        "\n",
        "train_questions, train_paragraphs = get_questions_and_paragraphs(train_paragraphs_and_questions)\n",
        "val_questions, val_paragraphs = get_questions_and_paragraphs(val_paragraphs_and_questions)\n",
        "test_questions, test_paragraphs = get_questions_and_paragraphs(test_paragraphs_and_questions)\n",
        "\n",
        "print(f\"Number of training questions: {len(train_questions)}\")\n",
        "print(f\"Number of training paragraphs: {len(train_paragraphs)}\")\n",
        "print()\n",
        "print(f\"Number of val questions: {len(val_questions)}\")\n",
        "print(f\"Number of val paragraphs: {len(val_paragraphs)}\")\n",
        "print()\n",
        "print(f\"Number of test questions: {len(test_questions)}\")\n",
        "print(f\"Number of test paragraphs: {len(test_paragraphs)}\")"
      ]
    },
    {
      "cell_type": "markdown",
      "metadata": {
        "id": "fvGAqUBvDbIg"
      },
      "source": [
        "We create the two different DistilBert models for encoding and test them on a random question/paragraph."
      ]
    },
    {
      "cell_type": "code",
      "execution_count": 8,
      "metadata": {
        "colab": {
          "base_uri": "https://localhost:8080/",
          "height": 371,
          "referenced_widgets": [
            "a66bbeb82f454630be23958a4bb7377f",
            "877ec1c574c04322982c23e3a5f4b92e",
            "6dbed8211c374160a5df78b6fe8b437c",
            "307f209dfd904c32a3b9651cea409a25",
            "c70fbf4f761340359d19ba3ffcbbd3c5",
            "3276540ff881433cba1c040c024ca556",
            "590440ef20374231bd06d7a95fe30f96",
            "8e0311c2ccab4836b2101c43be15faab",
            "b0ee9ab4e82347029c044a1f5167f538",
            "d10062932a244060a0c6ae05a840dae0",
            "7d6321b5b1af4029b4002ea140bdb610",
            "4bcadc6218ce43c5820df2889809503b",
            "7f0d62f4978b4520970b3ea87393278e",
            "deff15c498f6450f912b882e2b3c1f01",
            "4a8ec779062f4642b1c20ce4eaa73c4f",
            "c6c0d9e139d04274b4e186bb7d5669ba",
            "92db509f57a644acaa9a52beaf4832b7",
            "75c73ccfba7048b08cbdc8d9351d1c8b",
            "159d73acf362465d97ff7620a80a48fa",
            "1db1aa77cd7c4b738402bcbbeb723508",
            "4b6c37c70664409492aa4c8b2178f73d",
            "7b5c7acce097464da8433c2b2be51da7",
            "323a1ea9c1a6426eb4bf31ab4e8bfa2a",
            "ba5a95f0eafc4d7e8a68d652b320f8f1",
            "5a94805eaccc4860b7ecd6a0174f0964",
            "ad47d6fdca544eff901495728764762b",
            "e25c24bc89094989a639196ed4b438a9",
            "0ed68e0169c14bdc8e249fb37c047472",
            "39d9f1882de844969cde09ccf41ca4f0",
            "95b7e98bc5a34367b4ab0109a295ec4a",
            "ef6dde71f82447ada74c6ce5631ba048",
            "e002733ede87420f91be43df00b119ef",
            "b2b865665fcf4a37afbc2090c93e6c3e",
            "502e796c9e99455ebe08d2c95a39972b",
            "eb1c378975f141a59364bcef54b46a30",
            "fc96c626922841129ce3b7a7bfc9d15c",
            "cfa3e35b200a43f1959ca9a6654c08a4",
            "5cbd9da6391345b39b7df65f3dc45fc2",
            "d462d01d9a314366890dc9fd0c672ea7",
            "470969c913604168aa1e803950e5440d",
            "bf058fa5f6ec4c9393aa6467713e556c",
            "0705291237c1407590623321ca0e9de6",
            "0aa2ba2a0a16447eb81ffb998f83700b",
            "95482596a7b54228a4726d947512e369",
            "2b9fe9675f2d43f4817d77c9bdb45419",
            "9f2244a0c91a4c39a41e44ef2f370edb",
            "d85d7eaacbe14f1ab595e61daa7b00ae",
            "6a009759af344f758dad8679356e29de",
            "ecfacc109edd4729b539a969f7ba87f4",
            "f98aeb40b8804ca693d8af3bc486c85e",
            "78c66b163c134061883c9e640ba107cf",
            "64e2028abcb44febba501bf73d32342e",
            "bd4a22e2fa6947b990c19836c03a9bcf",
            "96d2b5f2602649afa44e99014b08272d",
            "058d0039ea4d4664867238479ad5602d"
          ]
        },
        "id": "1XI6YUBZDit8",
        "outputId": "4bbcd0da-a1a6-43a7-f769-4959bdac2992"
      },
      "outputs": [
        {
          "output_type": "display_data",
          "data": {
            "text/plain": [
              "Downloading:   0%|          | 0.00/28.0 [00:00<?, ?B/s]"
            ],
            "application/vnd.jupyter.widget-view+json": {
              "version_major": 2,
              "version_minor": 0,
              "model_id": "a66bbeb82f454630be23958a4bb7377f"
            }
          },
          "metadata": {}
        },
        {
          "output_type": "display_data",
          "data": {
            "text/plain": [
              "Downloading:   0%|          | 0.00/226k [00:00<?, ?B/s]"
            ],
            "application/vnd.jupyter.widget-view+json": {
              "version_major": 2,
              "version_minor": 0,
              "model_id": "4bcadc6218ce43c5820df2889809503b"
            }
          },
          "metadata": {}
        },
        {
          "output_type": "display_data",
          "data": {
            "text/plain": [
              "Downloading:   0%|          | 0.00/455k [00:00<?, ?B/s]"
            ],
            "application/vnd.jupyter.widget-view+json": {
              "version_major": 2,
              "version_minor": 0,
              "model_id": "323a1ea9c1a6426eb4bf31ab4e8bfa2a"
            }
          },
          "metadata": {}
        },
        {
          "output_type": "display_data",
          "data": {
            "text/plain": [
              "Downloading:   0%|          | 0.00/483 [00:00<?, ?B/s]"
            ],
            "application/vnd.jupyter.widget-view+json": {
              "version_major": 2,
              "version_minor": 0,
              "model_id": "502e796c9e99455ebe08d2c95a39972b"
            }
          },
          "metadata": {}
        },
        {
          "output_type": "display_data",
          "data": {
            "text/plain": [
              "Downloading:   0%|          | 0.00/347M [00:00<?, ?B/s]"
            ],
            "application/vnd.jupyter.widget-view+json": {
              "version_major": 2,
              "version_minor": 0,
              "model_id": "2b9fe9675f2d43f4817d77c9bdb45419"
            }
          },
          "metadata": {}
        },
        {
          "output_type": "stream",
          "name": "stderr",
          "text": [
            "Some layers from the model checkpoint at distilbert-base-uncased were not used when initializing TFDistilBertModel: ['vocab_layer_norm', 'vocab_transform', 'vocab_projector', 'activation_13']\n",
            "- This IS expected if you are initializing TFDistilBertModel from the checkpoint of a model trained on another task or with another architecture (e.g. initializing a BertForSequenceClassification model from a BertForPreTraining model).\n",
            "- This IS NOT expected if you are initializing TFDistilBertModel from the checkpoint of a model that you expect to be exactly identical (initializing a BertForSequenceClassification model from a BertForSequenceClassification model).\n",
            "All the layers of TFDistilBertModel were initialized from the model checkpoint at distilbert-base-uncased.\n",
            "If your task is similar to the task the model of the checkpoint was trained on, you can already use TFDistilBertModel for predictions without further training.\n",
            "Some layers from the model checkpoint at distilbert-base-uncased were not used when initializing TFDistilBertModel: ['vocab_layer_norm', 'vocab_transform', 'vocab_projector', 'activation_13']\n",
            "- This IS expected if you are initializing TFDistilBertModel from the checkpoint of a model trained on another task or with another architecture (e.g. initializing a BertForSequenceClassification model from a BertForPreTraining model).\n",
            "- This IS NOT expected if you are initializing TFDistilBertModel from the checkpoint of a model that you expect to be exactly identical (initializing a BertForSequenceClassification model from a BertForSequenceClassification model).\n",
            "All the layers of TFDistilBertModel were initialized from the model checkpoint at distilbert-base-uncased.\n",
            "If your task is similar to the task the model of the checkpoint was trained on, you can already use TFDistilBertModel for predictions without further training.\n"
          ]
        }
      ],
      "source": [
        "tokenizer_distilbert = DistilBertTokenizerFast.from_pretrained('distilbert-base-uncased')\n",
        "\n",
        "model_q, model_p = TFDistilBertModel.from_pretrained('distilbert-base-uncased'), \\\n",
        "                   TFDistilBertModel.from_pretrained('distilbert-base-uncased')"
      ]
    },
    {
      "cell_type": "markdown",
      "metadata": {
        "id": "QFP6H-ok1jyN"
      },
      "source": [
        "What is the ideal maximum length of a sequence of tokens?"
      ]
    },
    {
      "cell_type": "code",
      "execution_count": 9,
      "metadata": {
        "id": "RFfkIhW-1i8P",
        "outputId": "eafa46a8-a819-4930-9243-c5ead46e8993",
        "colab": {
          "base_uri": "https://localhost:8080/"
        }
      },
      "outputs": [
        {
          "output_type": "stream",
          "name": "stderr",
          "text": [
            "  2%|▏         | 217/13975 [00:00<00:06, 2162.65it/s]Token indices sequence length is longer than the specified maximum sequence length for this model (720 > 512). Running this sequence through the model will result in indexing errors\n",
            "100%|██████████| 13975/13975 [00:06<00:00, 2223.00it/s]"
          ]
        },
        {
          "output_type": "stream",
          "name": "stdout",
          "text": [
            "Total n. of paragraphs: 13975\n",
            "Only 184 are truncated when using 350 max tokens (1.3166368515205724%)\n",
            "Only 156 are truncated when using 360 max tokens (1.1162790697674418%)\n",
            "Only 132 are truncated when using 370 max tokens (0.9445438282647585%)\n",
            "Only 119 are truncated when using 380 max tokens (0.851520572450805%)\n",
            "Only 100 are truncated when using 390 max tokens (0.7155635062611807%)\n",
            "Only 84 are truncated when using 400 max tokens (0.6010733452593918%)\n",
            "Only 68 are truncated when using 410 max tokens (0.48658318425760283%)\n",
            "Only 58 are truncated when using 420 max tokens (0.4150268336314848%)\n",
            "Only 46 are truncated when using 430 max tokens (0.3291592128801431%)\n",
            "Only 39 are truncated when using 440 max tokens (0.27906976744186046%)\n",
            "Only 35 are truncated when using 450 max tokens (0.25044722719141327%)\n",
            "Only 30 are truncated when using 460 max tokens (0.2146690518783542%)\n",
            "Only 28 are truncated when using 470 max tokens (0.2003577817531306%)\n",
            "Only 27 are truncated when using 480 max tokens (0.19320214669051877%)\n",
            "Only 22 are truncated when using 490 max tokens (0.15742397137745975%)\n"
          ]
        },
        {
          "output_type": "stream",
          "name": "stderr",
          "text": [
            "\n"
          ]
        }
      ],
      "source": [
        "if ANALYSE_TOKENIZATIONS:\n",
        "    lens = []\n",
        "    for paragraph in tqdm(train_paragraphs):\n",
        "        emb = tokenizer_distilbert(paragraph['context'], return_tensors='np')\n",
        "        tokens = emb['attention_mask'].shape[1]\n",
        "        lens.append(tokens)\n",
        "    print(f\"Total n. of paragraphs: {len(train_paragraphs)}\")\n",
        "    for i in range(350, 500, 10):\n",
        "        print(f\"Only {np.sum(np.asarray(lens) > i)} are truncated when using {i} max tokens ({np.sum(np.asarray(lens) > i) / len(train_paragraphs)*100}%)\")"
      ]
    },
    {
      "cell_type": "markdown",
      "metadata": {
        "id": "t80p88uc5493"
      },
      "source": [
        "To reduce memory consumption, we can:\n",
        "- Truncate sequences at something like 380 tokens (less than 1% of the total training paragraphs would be cut with this decision)\n",
        "- Reduce the dimensionality of Bert/DistilBert's output to `BERT_DIMENSIONALITY` (instead of the default of 768)."
      ]
    },
    {
      "cell_type": "code",
      "source": [
        "MAX_SEQ_LEN = 512\n",
        "BERT_DIMENSIONALITY = 768"
      ],
      "metadata": {
        "id": "yQmglauV5p5V"
      },
      "execution_count": 10,
      "outputs": []
    },
    {
      "cell_type": "markdown",
      "source": [
        "If we decide to reduce the dimensionality, we can add a `Dense` layer on top of the encoder. This layer reduces the dimension of the output to whatever we need."
      ],
      "metadata": {
        "id": "ZF8bdGkg5uAE"
      }
    },
    {
      "cell_type": "code",
      "execution_count": 11,
      "metadata": {
        "id": "8GSRnaQpJOqB"
      },
      "outputs": [],
      "source": [
        "class ReducedDistilBertModel(keras.Model):\n",
        "    def __init__(self, distilbert_model):\n",
        "        super(ReducedDistilBertModel, self).__init__()\n",
        "        self.distilbert_model = distilbert_model\n",
        "        self.reduction_layer = keras.layers.Dense(BERT_DIMENSIONALITY, \n",
        "                                                  activation='gelu')\n",
        "\n",
        "    def call(self, inputs):\n",
        "        hidden_state = self.distilbert_model(inputs).last_hidden_state\n",
        "        # We introduce a dense layer that simply reduces the dimensionality of distilbert\n",
        "        return self.reduction_layer(hidden_state)\n",
        "\n",
        "model_q = ReducedDistilBertModel(model_q)\n",
        "model_p = ReducedDistilBertModel(model_p)"
      ]
    },
    {
      "cell_type": "markdown",
      "source": [
        "Let's try this model on a test question:"
      ],
      "metadata": {
        "id": "hrnVC5w26ZrP"
      }
    },
    {
      "cell_type": "code",
      "execution_count": 12,
      "metadata": {
        "colab": {
          "base_uri": "https://localhost:8080/"
        },
        "id": "EcCbC-Vi1es5",
        "outputId": "72ff65b3-a5e0-4eb2-b491-ce85599961c5"
      },
      "outputs": [
        {
          "output_type": "stream",
          "name": "stdout",
          "text": [
            "Testing on a simple question. \n",
            "Question: To whom did the Virgin Mary allegedly appear in 1858 in Lourdes France?\n",
            "Representation dimensionality: (768,)\n"
          ]
        }
      ],
      "source": [
        "test_question = train_questions[0]['qas']['question']\n",
        "print(f\"Testing on a simple question. \\nQuestion: {test_question}\")\n",
        "inputs_test = tokenizer_distilbert(test_question, return_tensors=\"tf\")\n",
        "outputs = model_q(inputs_test)\n",
        "\n",
        "# As a representation of the token we use the last hidden state at the [CLS] token (the first one)\n",
        "test_q_repr = outputs[0,0,:]\n",
        "print(f\"Representation dimensionality: {test_q_repr.shape}\")"
      ]
    },
    {
      "cell_type": "markdown",
      "metadata": {
        "id": "tCYkx8rf1es_"
      },
      "source": [
        "# Dataset creation"
      ]
    },
    {
      "cell_type": "markdown",
      "source": [
        "First of all, we need to train our models. To do that, we need to create a dataset that feeds batches of questions and positive and negative paragraphs to our model. The model is then used to compute the representations of the questions/paragraphs and through the representations we can compute the similarities and correct the learnt distributions from the encoder models."
      ],
      "metadata": {
        "id": "KENlnOwNCxN_"
      }
    },
    {
      "cell_type": "markdown",
      "metadata": {
        "id": "hynvz3Gw1etA"
      },
      "source": [
        "For the dataset, we use the `tf.data.Dataset` API. In particular, we first create the dataset in a `.proto` file which contains all the information in a byte format. The file is then uploaded on Google Cloud, where it can easily be accessed all future times. This is the only working way to have a large dataset accessible from the TPU."
      ]
    },
    {
      "cell_type": "code",
      "execution_count": 13,
      "metadata": {
        "colab": {
          "base_uri": "https://localhost:8080/"
        },
        "id": "OaBWVf5k1etB",
        "outputId": "01c713af-2164-4223-93d7-765ca5dd84b3"
      },
      "outputs": [
        {
          "output_type": "stream",
          "name": "stdout",
          "text": [
            "Loading train_768 dataset from GCS (gs://volpepe-nlp-project-squad-datasets/train_768.proto).\n",
            "Loading val_768 dataset from GCS (gs://volpepe-nlp-project-squad-datasets/val_768.proto).\n"
          ]
        }
      ],
      "source": [
        "def get_paragraph_from_question(qas, dataset):\n",
        "    # Returns the ground truth paragraph for a question.\n",
        "    i,j = qas['context_id']\n",
        "    return dataset[i]['paragraphs'][j]\n",
        "\n",
        "def pre_tokenize_data(questions, dataset, tokenizer):\n",
        "    # Pre-tokenizes questions and paragraphs\n",
        "    tokenized_questions = [\n",
        "        dict(tokenizer(questions[i]['qas']['question'], \n",
        "            max_length = MAX_SEQ_LEN, truncation = True, \n",
        "            padding = 'max_length'))\n",
        "        for i in tqdm(range(len(questions)))]\n",
        "    tokenized_paragraphs = [\n",
        "        dict(tokenizer(get_paragraph_from_question(\n",
        "                    questions[i], dataset\n",
        "                )['context'], max_length = MAX_SEQ_LEN, \n",
        "            truncation = True, padding = 'max_length',\n",
        "            return_offsets_mapping = True))             # For the paragraphs we need the offset mappings too\n",
        "        for i in tqdm(range(len(questions)))]\n",
        "    return tokenized_questions, tokenized_paragraphs\n",
        "\n",
        "def find_start_end_token_one_hot_encoded(\n",
        "    answers: Dict, \n",
        "    offsets: List[Tuple[int]]) -> Dict:\n",
        "    '''\n",
        "    This function returns the starting and ending token of the answer, \n",
        "    already one hot encoded and ready for binary crossentropy.\n",
        "    Inputs:\n",
        "        - answers: `List[Dict]` --> for each question, a list of answers.\n",
        "            Each answer contains:\n",
        "            - `answer_start`: the index of the starting character\n",
        "            - `text`: the text of the answer, that we exploit through the \n",
        "                number of chars that it contains\n",
        "        - offsets: `List[Tuple[int]]` --> the tokenizer from HuggingFace \n",
        "            transforms the paragraph into a sequence of tokens. \n",
        "            Offsets keeps track of the character start and end indexes for each token.\n",
        "   \n",
        "    Output:\n",
        "        - result: `Dict` --> each key contains only one array, the one-hot \n",
        "            encoded version of, respectively, the start and end token of \n",
        "            the answer in the sentence (question+context)\n",
        "    '''\n",
        "    result = {\n",
        "        \"out_S\": np.zeros(len(offsets), dtype=np.int32),\n",
        "        \"out_E\": np.zeros(len(offsets), dtype=np.int32)\n",
        "    } \n",
        "    for answer in answers:\n",
        "        starting_char = answer['answer_start']\n",
        "        answer_len = len(answer['text'])\n",
        "        # We skip the first token, [CLS], that has (0,0) as a tuple\n",
        "        for i in range(1, len(offsets)):\n",
        "            # Check if starting char is within the indexes\n",
        "            if (starting_char >= offsets[i][0]) and \\\n",
        "                (starting_char <= offsets[i][1]):\n",
        "                result[\"out_S\"][i] += 1\n",
        "            # If the ending char (starting + length -1) is in the interval, \n",
        "            # same as above.\n",
        "            if (starting_char + answer_len - 1 >= offsets[i][0]) and \\\n",
        "                (starting_char + answer_len - 1 < offsets[i][1]):\n",
        "                result[\"out_E\"][i] += 1\n",
        "                break\n",
        "    return result\n",
        "\n",
        "def decode_fn(record_bytes):\n",
        "    # Reads one element from the dataset (as bytes) and decodes it in a tf.data Dataset element.\n",
        "    example = tf.io.parse_single_example(\n",
        "      # Data\n",
        "      record_bytes,\n",
        "      # Schema\n",
        "      {\"question__input_ids\": tf.io.FixedLenFeature(shape=(MAX_SEQ_LEN,), dtype=tf.int64),\n",
        "       \"question__attention_mask\": tf.io.FixedLenFeature(shape=(MAX_SEQ_LEN,), dtype=tf.int64),\n",
        "       \"question__index\": tf.io.FixedLenFeature(shape=(), dtype=tf.int64),\n",
        "       \"answer__out_s\": tf.io.FixedLenFeature(shape=(MAX_SEQ_LEN,), dtype=tf.int64),\n",
        "       \"answer__out_e\": tf.io.FixedLenFeature(shape=(MAX_SEQ_LEN,), dtype=tf.int64),\n",
        "       \"paragraph__input_ids\": tf.io.FixedLenFeature(shape=(MAX_SEQ_LEN,), dtype=tf.int64),\n",
        "       \"paragraph__attention_mask\": tf.io.FixedLenFeature(shape=(MAX_SEQ_LEN,), dtype=tf.int64),\n",
        "       \"paragraph__tokens_s\": tf.io.FixedLenFeature(shape=(MAX_SEQ_LEN,), dtype=tf.int64),\n",
        "       \"paragraph__tokens_e\": tf.io.FixedLenFeature(shape=(MAX_SEQ_LEN,), dtype=tf.int64),\n",
        "       \"context__index\": tf.io.FixedLenFeature(shape=(), dtype=tf.int64),\n",
        "       \"paragraph__index\": tf.io.FixedLenFeature(shape=(), dtype=tf.int64)})\n",
        "    return {\n",
        "      \"questions\": {'input_ids': example['question__input_ids'],\n",
        "                    'attention_mask': example['question__attention_mask'],\n",
        "                    'index': example['question__index']},\n",
        "      \"answers\":   {'out_s': example['answer__out_s'],\n",
        "                    'out_e': example['answer__out_e']},\n",
        "      \"paragraphs\":{'input_ids': example['paragraph__input_ids'],\n",
        "                    'attention_mask': example['paragraph__attention_mask'],\n",
        "                    'tokens_s': example['paragraph__tokens_s'],\n",
        "                    'tokens_e': example['paragraph__tokens_e']},\n",
        "      \"context_id\": (example['context__index'], example['paragraph__index'])\n",
        "    }\n",
        "\n",
        "def create_dataset_from_records(questions, paragraphs, dataset, tokenizer, \n",
        "                                fn, batch_size=BATCH_SIZE):\n",
        "    # Import functions to update cloud bucket. Key for using Google cloud services is on drive\n",
        "    from google.cloud import storage\n",
        "    import time\n",
        "\n",
        "    # Prepare strings\n",
        "    filename = f'{fn}_{BERT_DIMENSIONALITY}.proto'\n",
        "    fn_type = filename.split(os.sep)[-1].replace('.proto','')\n",
        "    dst_name = fn_type + '.proto'\n",
        "    bucket_name = 'volpepe-nlp-project-squad-datasets'\n",
        "    gcs_filename = f'gs://{bucket_name}/{dst_name}'\n",
        "    # If we want to write a new dataset or overwrite one with the same name:\n",
        "    if OVERWRITE_DATASETS:\n",
        "        print(\"Pre-tokenizing data...\")\n",
        "        tok_questions, tok_paragraphs = pre_tokenize_data(questions, dataset, tokenizer)\n",
        "        assert len(tok_questions) == len(tok_paragraphs), \"Error while pre-tokenizing dataset\"\n",
        "        print(\"Preprocessing answers...\")\n",
        "        answer_tokens = [find_start_end_token_one_hot_encoded(\n",
        "            questions[i]['qas']['answers'], tok_paragraphs[i]['offset_mapping'])\n",
        "        for i in tqdm(range(len(questions)))]\n",
        "        print(\"Saving dataset on disk...\")\n",
        "        with tf.io.TFRecordWriter(filename) as file_writer:\n",
        "            for i in tqdm(range(len(tok_questions))):\n",
        "                record_bytes = tf.train.Example(features=tf.train.Features(feature={\n",
        "                    \"question__input_ids\": tf.train.Feature(int64_list=tf.train.Int64List(\n",
        "                            value=tok_questions[i][\"input_ids\"])),\n",
        "                    \"question__attention_mask\": tf.train.Feature(int64_list=tf.train.Int64List(\n",
        "                            value=tok_questions[i][\"attention_mask\"])),\n",
        "                    \"question__index\": tf.train.Feature(int64_list=tf.train.Int64List(\n",
        "                        value=[i])),\n",
        "                    \"answer__out_s\": tf.train.Feature(int64_list=tf.train.Int64List(\n",
        "                        value=answer_tokens[i][\"out_S\"])),\n",
        "                    \"answer__out_e\": tf.train.Feature(int64_list=tf.train.Int64List(\n",
        "                        value=answer_tokens[i][\"out_E\"])),\n",
        "                    \"paragraph__input_ids\": tf.train.Feature(int64_list=tf.train.Int64List(\n",
        "                        value=tok_paragraphs[i][\"input_ids\"])),\n",
        "                    \"paragraph__attention_mask\": tf.train.Feature(int64_list=tf.train.Int64List(\n",
        "                        value=tok_paragraphs[i][\"attention_mask\"])),\n",
        "                    \"paragraph__tokens_s\": tf.train.Feature(int64_list=tf.train.Int64List(\n",
        "                            value=[x[0] for x in tok_paragraphs[i][\"offset_mapping\"]])),\n",
        "                    \"paragraph__tokens_e\": tf.train.Feature(int64_list=tf.train.Int64List(\n",
        "                            value=[x[1] for x in tok_paragraphs[i][\"offset_mapping\"]])),\n",
        "                    \"context__index\": tf.train.Feature(int64_list=tf.train.Int64List(\n",
        "                        value=[questions[i]['context_id'][0]])),\n",
        "                    \"paragraph__index\": tf.train.Feature(int64_list=tf.train.Int64List(\n",
        "                        value=[questions[i]['context_id'][1]]))\n",
        "                    })).SerializeToString()\n",
        "                file_writer.write(record_bytes)\n",
        "        # Upload the dataset on cloud\n",
        "        print(f\"Uploading {filename} on {gcs_filename} (bucket {bucket_name}) with name {dst_name}\")\n",
        "        storage_client = storage.Client()\n",
        "        bucket = storage_client.bucket(bucket_name)\n",
        "        blob = bucket.blob(dst_name)\n",
        "        blob.upload_from_filename(filename)\n",
        "        time.sleep(5)   # Wait 5 seconds\n",
        "    print(f\"Loading {fn_type} dataset from GCS ({gcs_filename}).\")\n",
        "    # Return it as processed dataset\n",
        "    dataset = tf.data.TFRecordDataset([gcs_filename]).map(decode_fn)\n",
        "    dataset = dataset.apply(tf.data.experimental.assert_cardinality(len(questions)))\n",
        "    dataset = dataset.shuffle(5000, reshuffle_each_iteration=True)\n",
        "    dataset = dataset.batch(batch_size)\n",
        "    dataset = dataset.cache()\n",
        "    dataset = dataset.prefetch(tf.data.AUTOTUNE)\n",
        "    return dataset\n",
        "\n",
        "### CREATE DATASETS ###\n",
        "# Valid for both TPU and GPU\n",
        "dataset_train = create_dataset_from_records(train_questions, train_paragraphs, train_paragraphs_and_questions, \n",
        "                                            tokenizer_distilbert, os.path.join(datasets_dir, 'train'))\n",
        "dataset_val = create_dataset_from_records(val_questions, val_paragraphs, val_paragraphs_and_questions, \n",
        "                                          tokenizer_distilbert, os.path.join(datasets_dir, 'val'))"
      ]
    },
    {
      "cell_type": "markdown",
      "metadata": {
        "id": "xAnwbiFU1etF"
      },
      "source": [
        "# Training pipeline"
      ]
    },
    {
      "cell_type": "markdown",
      "metadata": {
        "id": "52lwz19a1etG"
      },
      "source": [
        "First of all, we need a layer that takes as input the dictionary containing the tokenized questions and answers and returns their compact representations."
      ]
    },
    {
      "cell_type": "code",
      "execution_count": 14,
      "metadata": {
        "colab": {
          "base_uri": "https://localhost:8080/"
        },
        "id": "PjPUMwKk1etG",
        "outputId": "f3a78d1d-c418-4a30-a48c-d019113d7755"
      },
      "outputs": [
        {
          "output_type": "stream",
          "name": "stdout",
          "text": [
            "Output shape when in training mode: (8, 768), (8, 768)\n",
            "Output shape when in testing mode: (8, 768)\n",
            "Output shape when dealing with a single question: (1, 768)\n"
          ]
        }
      ],
      "source": [
        "class DenseEncoder(layers.Layer):\n",
        "    def __init__(self, model_q, model_p):\n",
        "        super().__init__()\n",
        "        self.model_q = model_q  # Dense encoder for questions\n",
        "        self.model_p = model_p  # Dense encoder for paragraphs\n",
        "    \n",
        "    def call(self, inputs, training=False):\n",
        "        qs = {\n",
        "            'input_ids': inputs['questions']['input_ids'],\n",
        "            'attention_mask': inputs['questions']['attention_mask']\n",
        "        }\n",
        "        q_repr = self.model_q(qs)[:,0,:]\n",
        "        if training:\n",
        "            # Input contains the questions and paragraphs encoding\n",
        "            ps = {\n",
        "                'input_ids': inputs['paragraphs']['input_ids'],\n",
        "                'attention_mask': inputs['paragraphs']['attention_mask']\n",
        "            }\n",
        "            p_repr = self.model_p(ps)[:,0,:]\n",
        "            return q_repr, p_repr\n",
        "        else:\n",
        "            return q_repr\n",
        "\n",
        "# Small test for the layer\n",
        "class TestDenseEncoderModel(keras.Model):\n",
        "    def __init__(self, model_q, model_p):\n",
        "        super().__init__()\n",
        "        self.enc = DenseEncoder(model_q, model_p)\n",
        "\n",
        "    def call(self, inputs, training=False):\n",
        "        return self.enc(inputs, training=training)\n",
        "\n",
        "test_model = TestDenseEncoderModel(model_q, model_p)\n",
        "q_repr, p_repr = test_model(next(dataset_train.take(1).as_numpy_iterator()), training=True)\n",
        "print(f\"Output shape when in training mode: {q_repr.shape}, {p_repr.shape}\")\n",
        "q_repr_2 = test_model(next(dataset_train.take(1).as_numpy_iterator()), training=False)\n",
        "print(f\"Output shape when in testing mode: {q_repr_2.shape}\")\n",
        "q = tokenizer_distilbert(\n",
        "    train_questions[0]['qas']['question'], max_length = MAX_SEQ_LEN, \n",
        "    truncation = True, padding = 'max_length', return_tensors=\"tf\")\n",
        "q_repr_3 = test_model({'questions': q})\n",
        "print(f\"Output shape when dealing with a single question: {q_repr_3.shape}\")"
      ]
    },
    {
      "cell_type": "markdown",
      "metadata": {
        "id": "e4r1MfHP1etI"
      },
      "source": [
        "Once we have the representations, we should compute the similarities, thus obtaining a a full mini-batch of positive-negative examples. "
      ]
    },
    {
      "cell_type": "code",
      "execution_count": 15,
      "metadata": {
        "colab": {
          "base_uri": "https://localhost:8080/"
        },
        "id": "ZdG5bkWV2FU5",
        "outputId": "87dbd8c3-d20f-439b-e4c5-28fe2696c9b4"
      },
      "outputs": [
        {
          "output_type": "execute_result",
          "data": {
            "text/plain": [
              "TensorShape([8, 8])"
            ]
          },
          "metadata": {},
          "execution_count": 15
        }
      ],
      "source": [
        "# Create the similarity matrix\n",
        "S = tf.tensordot(q_repr, tf.transpose(p_repr), axes=1)\n",
        "S.shape"
      ]
    },
    {
      "cell_type": "markdown",
      "metadata": {
        "id": "qEPy1ug1__n0"
      },
      "source": [
        "This similarity matrix has the following meaning:\n",
        "- Rows represent questions.\n",
        "- Each row contains the similarity that the respective question has with the paragraphs in the batch (one of them is the positive one, the others are negative)\n",
        "\n",
        "In the paper, they refer to the loss as a *minimization of the negative log-likelihood of the positive passage*: what it really means is that we need to transform similarities to probabilities and use a categorical cross-entropy loss, where labels are the row index (which is also the column index in that row for the positive passage)"
      ]
    },
    {
      "cell_type": "code",
      "execution_count": 16,
      "metadata": {
        "colab": {
          "base_uri": "https://localhost:8080/"
        },
        "id": "J_aJezqWCKsw",
        "outputId": "4cda044d-ef8f-4b9b-ad0e-c1bf601a8fb7"
      },
      "outputs": [
        {
          "output_type": "execute_result",
          "data": {
            "text/plain": [
              "2.4854136"
            ]
          },
          "metadata": {},
          "execution_count": 16
        }
      ],
      "source": [
        "loss = tf.keras.losses.SparseCategoricalCrossentropy(\n",
        "    from_logits=True\n",
        ")\n",
        "loss(y_true=tf.range(BATCH_SIZE), y_pred=S).numpy()"
      ]
    },
    {
      "cell_type": "markdown",
      "metadata": {
        "id": "BnidWQLZDwsf"
      },
      "source": [
        "The loss seems to be quite high for this batch. We can study it with a confusion matrix."
      ]
    },
    {
      "cell_type": "code",
      "execution_count": 17,
      "metadata": {
        "colab": {
          "base_uri": "https://localhost:8080/",
          "height": 300
        },
        "id": "Vdgc2-gQD1PP",
        "outputId": "d35fe74e-1296-4682-b074-bbb2c465d6b8"
      },
      "outputs": [
        {
          "output_type": "execute_result",
          "data": {
            "text/plain": [
              "<sklearn.metrics._plot.confusion_matrix.ConfusionMatrixDisplay at 0x7f06a804b3d0>"
            ]
          },
          "metadata": {},
          "execution_count": 17
        },
        {
          "output_type": "display_data",
          "data": {
            "text/plain": [
              "<Figure size 432x288 with 2 Axes>"
            ],
            "image/png": "[encoded data removed]"
          },
          "metadata": {
            "needs_background": "light"
          }
        }
      ],
      "source": [
        "from sklearn.metrics import ConfusionMatrixDisplay\n",
        "\n",
        "S_arr = S.numpy()\n",
        "ConfusionMatrixDisplay.from_predictions(y_true=np.arange(BATCH_SIZE), y_pred=np.argmax(S_arr, axis=1))"
      ]
    },
    {
      "cell_type": "markdown",
      "metadata": {
        "id": "pQwdzlTfEsH4"
      },
      "source": [
        "Indeed, ideally the predictions should be on the diagonal. This means that the \"default\" space for this metric learning problem is not that good. We are ready to learn a new representation distribution."
      ]
    },
    {
      "cell_type": "markdown",
      "metadata": {
        "id": "gOOLMK5mIMPc"
      },
      "source": [
        "# Model definition"
      ]
    },
    {
      "cell_type": "code",
      "execution_count": 18,
      "metadata": {
        "id": "nme0koNHE76t"
      },
      "outputs": [],
      "source": [
        "class DeepQPEncoder(keras.Model):\n",
        "\n",
        "    def __init__(self, model_q, model_p):\n",
        "        super().__init__()\n",
        "        self.enc = DenseEncoder(model_q, model_p)\n",
        "\n",
        "    def call(self, inputs, training=False):\n",
        "        if training:\n",
        "            # For training we return the similarity matrix\n",
        "            repr_q, repr_p = self.enc(inputs, training=training)\n",
        "            S = tf.tensordot(repr_q, tf.transpose(repr_p), axes=1)\n",
        "            return S\n",
        "        else:\n",
        "            # In other cases, we return the representation of the question(s)\n",
        "            repr_q = self.enc(inputs, training=training)            \n",
        "            return repr_q\n",
        "\n",
        "    def train_step(self, data):\n",
        "        x = data\n",
        "        y = tf.range(tf.shape(x['questions']['input_ids'])[0])\n",
        "        with tf.GradientTape() as tape:\n",
        "            # Obtain similarities\n",
        "            S = self(x, training=True)\n",
        "            # Obtain loss value\n",
        "            loss = self.compiled_loss(y, S)\n",
        "        # Construct gradients and apply them through the optimizer\n",
        "        gradients = tape.gradient(loss, self.trainable_variables)\n",
        "        self.optimizer.apply_gradients(zip(gradients, self.trainable_variables))\n",
        "        # Update and return metrics (specifically the one for the loss value).\n",
        "        self.compiled_metrics.update_state(y, S)\n",
        "        return {m.name: m.result() for m in self.metrics}\n",
        "\n",
        "    def test_step(self, data):\n",
        "        x = data\n",
        "        y = tf.range(tf.shape(x['questions']['input_ids'])[0])\n",
        "        S = self(x, training=True) # We are not really training, but we have to obtain S\n",
        "        self.compiled_loss(y, S)\n",
        "        self.compiled_metrics.update_state(y, S)\n",
        "        return {m.name: m.result() for m in self.metrics}\n",
        "\n",
        "def create_model(sample, freeze_layers_up_to=5):\n",
        "    print(\"Creating BERT models...\")\n",
        "    model_q, model_p =  TFDistilBertModel.from_pretrained('distilbert-base-uncased'), \\\n",
        "                        TFDistilBertModel.from_pretrained('distilbert-base-uncased')\n",
        "\n",
        "    # Freeze layers \n",
        "    for i in range(freeze_layers_up_to): # layers 0 to variable are frozen, successive layers learn\n",
        "        model_q.distilbert.transformer.layer[i].trainable = False\n",
        "        model_p.distilbert.transformer.layer[i].trainable = False\n",
        "\n",
        "    model_q, model_p = ReducedDistilBertModel(model_q), ReducedDistilBertModel(model_p)\n",
        "\n",
        "    print(\"Creating Deep Encoder...\")\n",
        "    model = DeepQPEncoder(model_q, model_p)\n",
        "\n",
        "    print(\"Compiling...\")\n",
        "    # Compile the model and loss\n",
        "    model.compile(\n",
        "        optimizer=keras.optimizers.Adam(learning_rate=3e-6),\n",
        "        loss=keras.losses.SparseCategoricalCrossentropy(from_logits=True),\n",
        "        metrics=[keras.metrics.SparseCategoricalAccuracy()]\n",
        "    )\n",
        "\n",
        "    print(\"Testing on some data...\")\n",
        "    # Pass one batch of data to build the model\n",
        "    model(sample)\n",
        "\n",
        "    # Return the model\n",
        "    print(\"Model created!\")\n",
        "    return model"
      ]
    },
    {
      "cell_type": "markdown",
      "metadata": {
        "id": "HA_dwB6MIHaq"
      },
      "source": [
        "# Training"
      ]
    },
    {
      "cell_type": "markdown",
      "metadata": {
        "id": "kfdxw7F4IWVi"
      },
      "source": [
        "Define utility variables and saving paths."
      ]
    },
    {
      "cell_type": "code",
      "execution_count": 19,
      "metadata": {
        "id": "s838Rj9GIUA9"
      },
      "outputs": [],
      "source": [
        "EPOCHS = 100\n",
        "PATIENCE = 7"
      ]
    },
    {
      "cell_type": "markdown",
      "metadata": {
        "id": "rOrJEqCQIZ3c"
      },
      "source": [
        "Before training, we check if we're using a TPU, in order to create the model within the scope of the strategy.\n",
        "\n",
        "Then, we train the model."
      ]
    },
    {
      "cell_type": "code",
      "execution_count": 20,
      "metadata": {
        "colab": {
          "base_uri": "https://localhost:8080/"
        },
        "id": "_O5zDcaTEtxV",
        "outputId": "1a2b7cf4-35ab-48ac-d63c-72e9f0aa1e8a"
      },
      "outputs": [
        {
          "output_type": "stream",
          "name": "stdout",
          "text": [
            "Creating BERT models...\n"
          ]
        },
        {
          "output_type": "stream",
          "name": "stderr",
          "text": [
            "Some layers from the model checkpoint at distilbert-base-uncased were not used when initializing TFDistilBertModel: ['vocab_layer_norm', 'vocab_transform', 'vocab_projector', 'activation_13']\n",
            "- This IS expected if you are initializing TFDistilBertModel from the checkpoint of a model trained on another task or with another architecture (e.g. initializing a BertForSequenceClassification model from a BertForPreTraining model).\n",
            "- This IS NOT expected if you are initializing TFDistilBertModel from the checkpoint of a model that you expect to be exactly identical (initializing a BertForSequenceClassification model from a BertForSequenceClassification model).\n",
            "All the layers of TFDistilBertModel were initialized from the model checkpoint at distilbert-base-uncased.\n",
            "If your task is similar to the task the model of the checkpoint was trained on, you can already use TFDistilBertModel for predictions without further training.\n",
            "Some layers from the model checkpoint at distilbert-base-uncased were not used when initializing TFDistilBertModel: ['vocab_layer_norm', 'vocab_transform', 'vocab_projector', 'activation_13']\n",
            "- This IS expected if you are initializing TFDistilBertModel from the checkpoint of a model trained on another task or with another architecture (e.g. initializing a BertForSequenceClassification model from a BertForPreTraining model).\n",
            "- This IS NOT expected if you are initializing TFDistilBertModel from the checkpoint of a model that you expect to be exactly identical (initializing a BertForSequenceClassification model from a BertForSequenceClassification model).\n",
            "All the layers of TFDistilBertModel were initialized from the model checkpoint at distilbert-base-uncased.\n",
            "If your task is similar to the task the model of the checkpoint was trained on, you can already use TFDistilBertModel for predictions without further training.\n"
          ]
        },
        {
          "output_type": "stream",
          "name": "stdout",
          "text": [
            "Creating Deep Encoder...\n",
            "Compiling...\n",
            "Testing on some data...\n",
            "Model created!\n"
          ]
        }
      ],
      "source": [
        "import datetime\n",
        "\n",
        "if using_TPU:\n",
        "    # TPU requires to create the model within the scope of the distributed strategy\n",
        "    # we're using.\n",
        "    with strategy.scope():\n",
        "        model = create_model(sample=next(dataset_train.take(1).as_numpy_iterator()),\n",
        "                             freeze_layers_up_to=3)\n",
        "\n",
        "    # Workaraound for saving locally when using cloud TPUs\n",
        "    local_device_option = tf.train.CheckpointOptions(\n",
        "        experimental_io_device=\"/job:localhost\")\n",
        "else:\n",
        "    # GPUs and local systems don't need the above specifications. We simply\n",
        "    # create a pattern for the filename and let the callbacks deal with it.\n",
        "    model_name = f'model_{BERT_DIMENSIONALITY}'\n",
        "    checkpoint_path = os.path.join(checkpoint_dir, model_name + \"_cp-{epoch:04d}.ckpt\")\n",
        "    # Also, on TPU we cannot use tensorboard, but on GPU we can\n",
        "    log_dir = os.path.join(ROOT_PATH, \"data\", \"logs\", \n",
        "        f\"training_dpr_{BERT_DIMENSIONALITY}\", datetime.datetime.now().strftime(\"%Y%m%d-%H%M%S\"))\n",
        "    \n",
        "    model = create_model(sample=next(dataset_train.take(1).as_numpy_iterator()),\n",
        "                             freeze_layers_up_to=3)"
      ]
    },
    {
      "cell_type": "code",
      "execution_count": 21,
      "metadata": {
        "colab": {
          "base_uri": "https://localhost:8080/"
        },
        "id": "wN6WxrL-IRjj",
        "outputId": "0a54e272-5291-4792-e46b-8f07579b7cf7",
        "scrolled": true
      },
      "outputs": [
        {
          "output_type": "stream",
          "name": "stdout",
          "text": [
            "Epoch 1/100\n",
            "1017/1017 [==============================] - 357s 278ms/step - loss: 0.6514 - sparse_categorical_accuracy: 0.7606 - val_loss: 0.3551 - val_sparse_categorical_accuracy: 0.8742\n",
            "Epoch 2/100\n",
            "1017/1017 [==============================] - 256s 252ms/step - loss: 0.2454 - sparse_categorical_accuracy: 0.9117 - val_loss: 0.2725 - val_sparse_categorical_accuracy: 0.9012\n",
            "Epoch 3/100\n",
            "1017/1017 [==============================] - 257s 252ms/step - loss: 0.1765 - sparse_categorical_accuracy: 0.9354 - val_loss: 0.2381 - val_sparse_categorical_accuracy: 0.9146\n",
            "Epoch 4/100\n",
            "1017/1017 [==============================] - 256s 252ms/step - loss: 0.1375 - sparse_categorical_accuracy: 0.9497 - val_loss: 0.2218 - val_sparse_categorical_accuracy: 0.9227\n",
            "Epoch 5/100\n",
            "1017/1017 [==============================] - 256s 252ms/step - loss: 0.1093 - sparse_categorical_accuracy: 0.9595 - val_loss: 0.2085 - val_sparse_categorical_accuracy: 0.9292\n",
            "Epoch 6/100\n",
            "1017/1017 [==============================] - 256s 252ms/step - loss: 0.0866 - sparse_categorical_accuracy: 0.9677 - val_loss: 0.2041 - val_sparse_categorical_accuracy: 0.9318\n",
            "Epoch 7/100\n",
            "1017/1017 [==============================] - 254s 250ms/step - loss: 0.0687 - sparse_categorical_accuracy: 0.9744 - val_loss: 0.2048 - val_sparse_categorical_accuracy: 0.9335\n",
            "Epoch 8/100\n",
            "1017/1017 [==============================] - 255s 251ms/step - loss: 0.0550 - sparse_categorical_accuracy: 0.9798 - val_loss: 0.2019 - val_sparse_categorical_accuracy: 0.9353\n",
            "Epoch 9/100\n",
            "1017/1017 [==============================] - 254s 250ms/step - loss: 0.0425 - sparse_categorical_accuracy: 0.9850 - val_loss: 0.2150 - val_sparse_categorical_accuracy: 0.9349\n",
            "Epoch 10/100\n",
            "1017/1017 [==============================] - 254s 250ms/step - loss: 0.0358 - sparse_categorical_accuracy: 0.9872 - val_loss: 0.2112 - val_sparse_categorical_accuracy: 0.9373\n",
            "Epoch 11/100\n",
            "1017/1017 [==============================] - 254s 249ms/step - loss: 0.0292 - sparse_categorical_accuracy: 0.9894 - val_loss: 0.2135 - val_sparse_categorical_accuracy: 0.9371\n",
            "Epoch 12/100\n",
            "1017/1017 [==============================] - 253s 249ms/step - loss: 0.0238 - sparse_categorical_accuracy: 0.9920 - val_loss: 0.2243 - val_sparse_categorical_accuracy: 0.9373\n",
            "Epoch 13/100\n",
            "1017/1017 [==============================] - 253s 249ms/step - loss: 0.0199 - sparse_categorical_accuracy: 0.9931 - val_loss: 0.2229 - val_sparse_categorical_accuracy: 0.9387\n",
            "Epoch 14/100\n",
            "1017/1017 [==============================] - 253s 249ms/step - loss: 0.0173 - sparse_categorical_accuracy: 0.9937 - val_loss: 0.2283 - val_sparse_categorical_accuracy: 0.9377\n",
            "Epoch 15/100\n",
            "1017/1017 [==============================] - 264s 260ms/step - loss: 0.0160 - sparse_categorical_accuracy: 0.9945 - val_loss: 0.2208 - val_sparse_categorical_accuracy: 0.9395\n"
          ]
        }
      ],
      "source": [
        "if DO_TRAINING:\n",
        "    if not using_TPU:\n",
        "        # ModelCheckpoint callback is only available when not using TPU\n",
        "        cp_callback = tf.keras.callbacks.ModelCheckpoint(\n",
        "            filepath = checkpoint_path,\n",
        "            verbose=1,\n",
        "            save_weights_only = True,\n",
        "            save_best_only = True\n",
        "        )\n",
        "\n",
        "        # Same for tensorboard callback\n",
        "        tensorboard_callback = tf.keras.callbacks.TensorBoard(\n",
        "            log_dir=log_dir,\n",
        "            histogram_freq=1\n",
        "        )\n",
        "\n",
        "    # Early stopping can be used by both hardware\n",
        "    es_callback = tf.keras.callbacks.EarlyStopping(\n",
        "        patience = PATIENCE,\n",
        "        restore_best_weights=True\n",
        "    )\n",
        "\n",
        "    callbacks = [es_callback]\n",
        "    if not using_TPU:\n",
        "        # These callback imply saving stuff on local disk, which cannot be \n",
        "        # done automatically using TPUs.\n",
        "        # Therefore, they are only active when using GPUs and local systems\n",
        "        callbacks.extend([cp_callback, tensorboard_callback])\n",
        "\n",
        "    # We fit the model\n",
        "    history = model.fit(\n",
        "        dataset_train, \n",
        "        y=None,\n",
        "        validation_data=dataset_val,\n",
        "        epochs=EPOCHS, \n",
        "        callbacks=callbacks,\n",
        "        use_multiprocessing=True,\n",
        "        initial_epoch=0,\n",
        "        verbose=1 # Show progress bar\n",
        "    )\n",
        "\n",
        "    if using_TPU:\n",
        "        # Save last weights\n",
        "        model.save_weights(os.path.join(\n",
        "            checkpoint_dir, f'training_{BERT_DIMENSIONALITY}_tpu_last.h5'), overwrite=True)\n",
        "    else:\n",
        "        # Final save\n",
        "        model.save_weights(os.path.join(checkpoint_dir, f'final_dpr_{BERT_DIMENSIONALITY}.ckpt'), overwrite=True)"
      ]
    },
    {
      "cell_type": "markdown",
      "metadata": {
        "id": "LCgA-4RbAZCh"
      },
      "source": [
        "The model was trained in 6 (+3 due to patience) epochs on a cloud TPU. It took less than an hour and reached a validation accuracy of 93.36%. We can make a simple test with the same data of before to see if the embedding space is working properly."
      ]
    },
    {
      "cell_type": "code",
      "execution_count": 22,
      "metadata": {
        "id": "pkTmbBS0CmZ4",
        "outputId": "68015cae-77ac-435a-af6b-261fd483b225",
        "colab": {
          "base_uri": "https://localhost:8080/",
          "height": 283
        }
      },
      "outputs": [
        {
          "output_type": "display_data",
          "data": {
            "text/plain": [
              "<Figure size 432x288 with 2 Axes>"
            ],
            "image/png": "[encoded data removed]"
          },
          "metadata": {
            "needs_background": "light"
          }
        }
      ],
      "source": [
        "if DO_TRAINING:\n",
        "    S = model(next(dataset_val.take(1).as_numpy_iterator()), training=True)\n",
        "    S_arr = S.numpy()\n",
        "    ConfusionMatrixDisplay.from_predictions(\n",
        "        y_true=np.arange(BATCH_SIZE), y_pred=np.argmax(S_arr, axis=1))"
      ]
    },
    {
      "cell_type": "markdown",
      "source": [
        "Training history:"
      ],
      "metadata": {
        "id": "84i9cMRsUCaE"
      }
    },
    {
      "cell_type": "code",
      "source": [
        "import matplotlib.pyplot as plt\n",
        "\n",
        "plt.plot(history.history['loss'], label='loss')\n",
        "plt.plot(history.history['val_loss'], label='val_loss')\n",
        "plt.plot(history.history['sparse_categorical_accuracy'], label='accuracy')\n",
        "plt.plot(history.history['val_sparse_categorical_accuracy'], label='val_accuracy')\n",
        "plt.legend()\n",
        "plt.grid()\n",
        "plt.axvspan(7, 14, color='red', alpha=0.3)"
      ],
      "metadata": {
        "id": "Ux56cvk6DI6H",
        "outputId": "b1f809e0-87be-45f2-b096-3f3d4a87d3ec",
        "colab": {
          "base_uri": "https://localhost:8080/",
          "height": 282
        }
      },
      "execution_count": 34,
      "outputs": [
        {
          "output_type": "execute_result",
          "data": {
            "text/plain": [
              "<matplotlib.patches.Polygon at 0x7f663891d750>"
            ]
          },
          "metadata": {},
          "execution_count": 34
        },
        {
          "output_type": "display_data",
          "data": {
            "text/plain": [
              "<Figure size 432x288 with 1 Axes>"
            ],
            "image/png": "[encoded data removed]"
          },
          "metadata": {
            "needs_background": "light"
          }
        }
      ]
    },
    {
      "cell_type": "markdown",
      "metadata": {
        "id": "5InDU76v93rS"
      },
      "source": [
        "# Evaluation"
      ]
    },
    {
      "cell_type": "markdown",
      "metadata": {
        "id": "fbp2lLe9iX-u"
      },
      "source": [
        "(RUN THIS SECTION ON GPU)\n",
        "\n",
        "First of all, we load the weights of the trained model."
      ]
    },
    {
      "cell_type": "code",
      "execution_count": 21,
      "metadata": {
        "colab": {
          "base_uri": "https://localhost:8080/"
        },
        "id": "ry1uahz-bh4_",
        "outputId": "5b79dfbf-d97b-47ac-827c-94c6f64ef40c",
        "scrolled": true
      },
      "outputs": [
        {
          "output_type": "execute_result",
          "data": {
            "text/plain": [
              "<tensorflow.python.training.tracking.util.CheckpointLoadStatus at 0x7f06a887f9d0>"
            ]
          },
          "metadata": {},
          "execution_count": 21
        }
      ],
      "source": [
        "# Load the obtained weights\n",
        "model.load_weights(os.path.join(checkpoint_dir, f'final_dpr_{BERT_DIMENSIONALITY}.ckpt'))"
      ]
    },
    {
      "cell_type": "markdown",
      "metadata": {
        "id": "M6vabTXiR0Dc"
      },
      "source": [
        "We load the encodings in memory but using the memmap mode because the files are larger than the available RAM. Basically, we are only loading a map of the file on disk in memory and for complex reads we follow this map and read from the disk.\n",
        "\n",
        "This makes it possible to access the array, even though it will be slower than having the representations on RAM. But in this way we can also enlarge the dimensionality if needed."
      ]
    },
    {
      "cell_type": "code",
      "execution_count": 22,
      "metadata": {
        "colab": {
          "base_uri": "https://localhost:8080/"
        },
        "id": "TPpSZ9nSZWMz",
        "outputId": "3c5e7ffc-5414-4253-bd6f-a00c85be3955"
      },
      "outputs": [
        {
          "output_type": "stream",
          "name": "stderr",
          "text": [
            "100%|██████████| 2067/2067 [02:44<00:00, 12.57it/s]\n"
          ]
        }
      ],
      "source": [
        "representations_dir = os.path.join(datasets_dir, 'representations')\n",
        "os.makedirs(representations_dir, exist_ok=True)\n",
        "\n",
        "if OVERRIDE_REPRESENTATIONS:\n",
        "    test_paragraphs_encodings = np.stack([\n",
        "            model.enc.model_p(tokenizer_distilbert(\n",
        "                test_paragraphs[i]['context'], max_length = MAX_SEQ_LEN, \n",
        "                return_tensors='tf', truncation = True, padding = 'max_length'\n",
        "            ))[0,:,:].numpy().astype(np.float32) \n",
        "        for i in tqdm(range(len(test_paragraphs)))\n",
        "    ])\n",
        "    np.save(os.path.join(representations_dir, 'test_paragraphs_encodings'), test_paragraphs_encodings)\n",
        "    del test_paragraphs_encodings\n",
        "\n",
        "test_paragraphs_encodings = np.load(os.path.join(representations_dir, 'test_paragraphs_encodings.npy'), allow_pickle=True)"
      ]
    },
    {
      "cell_type": "code",
      "source": [
        "test_paragraphs_encodings.shape, test_paragraphs_encodings.dtype"
      ],
      "metadata": {
        "id": "cLL1bwtOurbO",
        "outputId": "317b13fc-bbcb-474a-8f1e-145f8d244b9b",
        "colab": {
          "base_uri": "https://localhost:8080/"
        }
      },
      "execution_count": 23,
      "outputs": [
        {
          "output_type": "execute_result",
          "data": {
            "text/plain": [
              "((2067, 512, 768), dtype('float32'))"
            ]
          },
          "metadata": {},
          "execution_count": 23
        }
      ]
    },
    {
      "cell_type": "markdown",
      "source": [
        "We also need to map paragraphs to their position in the encoding matrix."
      ],
      "metadata": {
        "id": "acFbh9kH4ChH"
      }
    },
    {
      "cell_type": "code",
      "source": [
        "def get_paragraph_encoding_index(question, dataset):\n",
        "    art_id, par_id = question['context_id']\n",
        "    idx = sum([len(dataset[i]['paragraphs']) for i in range(art_id)]) + par_id\n",
        "    return idx"
      ],
      "metadata": {
        "id": "P32oYqfP4GFJ"
      },
      "execution_count": 24,
      "outputs": []
    },
    {
      "cell_type": "markdown",
      "metadata": {
        "id": "ReN18CaggRW5"
      },
      "source": [
        "### Qualitative test"
      ]
    },
    {
      "cell_type": "markdown",
      "metadata": {
        "id": "qQ4-VRXZgXlb"
      },
      "source": [
        "We select some random questions from the test set and see whether the selected paragraph is the correct one."
      ]
    },
    {
      "cell_type": "code",
      "execution_count": 25,
      "metadata": {
        "colab": {
          "base_uri": "https://localhost:8080/"
        },
        "id": "S1NISpx7gs4I",
        "outputId": "7392fe3a-030d-46d3-e514-2223790b34ab"
      },
      "outputs": [
        {
          "output_type": "stream",
          "name": "stdout",
          "text": [
            "Question: How might gravity effects be observed differently according to Newton?\n",
            "Ground truth paragraph: Newton came to realize that the effects of gravity might be observed in different ways at larger distances. In particular, Newton determined that the acceleration of the Moon around the Earth could be ascribed to the same force of gravity if the acceleration due to gravity decreased as an inverse square law. Further, Newton realized that the acceleration due to gravity is proportional to the mass of the attracting body. Combining these ideas gives a formula that relates the mass () and the radius () of the Earth to the gravitational acceleration:\n",
            "Ground truth index: 2047\n",
            "Question representation shape: (1, 768)\n",
            "Top-5 best matching paragraphs have indexes [2047 2048 2027 2046 2038]\n",
            "Top-5 best matching paragraphs:\n",
            "0)\tNewton came to realize that the effects of gravity might be observed in different ways at larger distances. In particular, Newton determined that the acceleration of the Moon around the Earth could be ascribed to the same force of gravity if the acceleration due to gravity decreased as an inverse square law. Further, Newton realized that the acceleration due to gravity is proportional to the mass of the attracting body. Combining these ideas gives a formula that relates the mass () and the radius () of the Earth to the gravitational acceleration:\n",
            "1)\tIn this equation, a dimensional constant  is used to describe the relative strength of gravity. This constant has come to be known as Newton's Universal Gravitation Constant, though its value was unknown in Newton's lifetime. Not until 1798 was Henry Cavendish able to make the first measurement of  using a torsion balance; this was widely reported in the press as a measurement of the mass of the Earth since knowing  could allow one to solve for the Earth's mass given the above equation. Newton, however, realized that since all celestial bodies followed the same laws of motion, his law of gravity had to be universal. Succinctly stated, Newton's Law of Gravitation states that the force on a spherical object of mass  due to the gravitational pull of mass  is\n",
            "2)\tNewton's First Law of Motion states that objects continue to move in a state of constant velocity unless acted upon by an external net force or resultant force. This law is an extension of Galileo's insight that constant velocity was associated with a lack of net force (see a more detailed description of this below). Newton proposed that every object with mass has an innate inertia that functions as the fundamental equilibrium \"natural state\" in place of the Aristotelian idea of the \"natural state of rest\". That is, the first law contradicts the intuitive Aristotelian belief that a net force is required to keep an object moving with constant velocity. By making rest physically indistinguishable from non-zero constant velocity, Newton's First Law directly connects inertia with the concept of relative velocities. Specifically, in systems where objects are moving with different velocities, it is impossible to determine which object is \"in motion\" and which object is \"at rest\". In other words, to phrase matters more technically, the laws of physics are the same in every inertial frame of reference, that is, in all frames related by a Galilean transformation.\n",
            "3)\tWhat we now call gravity was not identified as a universal force until the work of Isaac Newton. Before Newton, the tendency for objects to fall towards the Earth was not understood to be related to the motions of celestial objects. Galileo was instrumental in describing the characteristics of falling objects by determining that the acceleration of every object in free-fall was constant and independent of the mass of the object. Today, this acceleration due to gravity towards the surface of the Earth is usually designated as  and has a magnitude of about 9.81 meters per second squared (this measurement is taken from sea level and may vary depending on location), and points toward the center of the Earth. This observation means that the force of gravity on an object at the Earth's surface is directly proportional to the object's mass. Thus an object that has a mass of  will experience a force:\n",
            "4)\tA static equilibrium between two forces is the most usual way of measuring forces, using simple devices such as weighing scales and spring balances. For example, an object suspended on a vertical spring scale experiences the force of gravity acting on the object balanced by a force applied by the \"spring reaction force\", which equals the object's weight. Using such tools, some quantitative force laws were discovered: that the force of gravity is proportional to volume for objects of constant density (widely exploited for millennia to define standard weights); Archimedes' principle for buoyancy; Archimedes' analysis of the lever; Boyle's law for gas pressure; and Hooke's law for springs. These were all formulated and experimentally verified before Isaac Newton expounded his Three Laws of Motion.\n"
          ]
        }
      ],
      "source": [
        "sample_question = random.choice(test_questions)\n",
        "question_text = sample_question['qas']['question']\n",
        "tokenized_question = tokenizer_distilbert(question_text, return_tensors=\"tf\")\n",
        "paragraph_index = get_paragraph_encoding_index(sample_question, test_paragraphs_and_questions)\n",
        "print(f\"Question: {question_text}\")\n",
        "print(f\"Ground truth paragraph: {get_paragraph_from_question(sample_question, test_paragraphs_and_questions)['context']}\")\n",
        "print(f\"Ground truth index: {paragraph_index}\")\n",
        "sample_q_repr = model.enc.model_q(tokenized_question)[:,0,:]\n",
        "print(f\"Question representation shape: {sample_q_repr.shape}\")\n",
        "scores = tf.tensordot(sample_q_repr, test_paragraphs_encodings[:,0,:].T, axes=1)\n",
        "best_par_index = tf.argsort(scores, axis=1, direction='DESCENDING')[0, :5].numpy()\n",
        "print(f\"Top-5 best matching paragraphs have indexes {best_par_index}\")\n",
        "print(f\"Top-5 best matching paragraphs:\")\n",
        "for i in range(5):\n",
        "    print(f\"{i})\\t{test_paragraphs[best_par_index[i]]['context']}\")"
      ]
    },
    {
      "cell_type": "markdown",
      "metadata": {
        "id": "bOPMaSyb5CfJ"
      },
      "source": [
        "Usually, the correct paragraphs show up in the Top-5 list, or very similar paragraphs appear instead."
      ]
    },
    {
      "cell_type": "markdown",
      "metadata": {
        "id": "cWM3pdRAwBlz"
      },
      "source": [
        "### Quantitative test"
      ]
    },
    {
      "cell_type": "markdown",
      "metadata": {
        "id": "lJXrFcjnwFaA"
      },
      "source": [
        "We can measure the top-1/top-5 accuracy as we've done for the tf-idf baseline."
      ]
    },
    {
      "cell_type": "code",
      "execution_count": 26,
      "metadata": {
        "id": "MShv2E92wXJt",
        "scrolled": true,
        "outputId": "4093dcbc-5428-469d-9da6-df0a542bebcb",
        "colab": {
          "base_uri": "https://localhost:8080/"
        }
      },
      "outputs": [
        {
          "output_type": "stream",
          "name": "stderr",
          "text": [
            "100%|██████████| 10570/10570 [24:34<00:00,  7.17it/s]"
          ]
        },
        {
          "output_type": "stream",
          "name": "stdout",
          "text": [
            "\n",
            "Top 1 test score: 4.32%,\n",
            "Top 5 test score: 58.56%\n"
          ]
        },
        {
          "output_type": "stream",
          "name": "stderr",
          "text": [
            "\n"
          ]
        }
      ],
      "source": [
        "count_top1 = 0\n",
        "count_top5 = 0\n",
        "count_total = len(test_questions)\n",
        "\n",
        "if RUN_ACCURACY_ANALYSIS:\n",
        "    def top_5_for_question(tok_q, paragraphs_encodings):\n",
        "        # Input: a tokenized question\n",
        "        # Pass the question through the question encoder\n",
        "        sample_q_repr = model.enc.model_q(tok_q)[:,0,:].numpy()\n",
        "        # Compute scores with the paragraphs\n",
        "        scores = np.dot(sample_q_repr, paragraphs_encodings[:,0,:].T)\n",
        "        # Obtain the best scores and indices\n",
        "        top5_indices = np.argsort(scores, axis=1)[0, -5:]\n",
        "        top5_scores = np.sort(scores, axis=1)[0, -5:]\n",
        "        return top5_indices, top5_scores     \n",
        "\n",
        "    for i,q in enumerate(tqdm(test_questions)):\n",
        "        gt_context_id = get_paragraph_encoding_index(q, test_paragraphs_and_questions)\n",
        "        top5_indices, top5_scores = top_5_for_question(\n",
        "            tokenizer_distilbert(\n",
        "                q['qas']['question'], max_length = MAX_SEQ_LEN, \n",
        "                return_tensors='tf', truncation = True, padding = 'max_length'\n",
        "            ), test_paragraphs_encodings\n",
        "        )\n",
        "        if gt_context_id == top5_indices[0]:\n",
        "            count_top1 += 1\n",
        "        if gt_context_id in top5_indices:\n",
        "            count_top5 += 1\n",
        "\n",
        "    top1_score = count_top1 / count_total * 100\n",
        "    top5_score = count_top5 / count_total * 100\n",
        "\n",
        "    print(f\"\\nTop 1 test score: {top1_score:.2f}%,\\nTop 5 test score: {top5_score:.2f}%\")"
      ]
    },
    {
      "cell_type": "markdown",
      "metadata": {
        "id": "WMe1p_OQR0De"
      },
      "source": [
        "Top 1 score: 4.32%\n",
        "\n",
        "Top 5 score: 58.56%\n",
        "\n",
        "It looks pretty bad, but these are paragraphs that were not seen in training so the model still has some generalisation capabilities. Also, the selected paragraphs are usually correlated to the question and furthermore we will analyse the first 24 paragraphs, not just the first 5, so the model still has a chance to be good at selecting the appropriate paragraph and answer."
      ]
    },
    {
      "cell_type": "markdown",
      "metadata": {
        "id": "RwctHyoXCrP5"
      },
      "source": [
        "To have a fair comparison with Tf-Idf, the same model was trained seeing all test paragraphs and reached:\n",
        "\n",
        "Top 1 score: 89.04%\n",
        "\n",
        "Top 5 score: 97.69%"
      ]
    }
  ],
  "metadata": {
    "accelerator": "GPU",
    "colab": {
      "collapsed_sections": [],
      "name": "dense_passage_retriever.ipynb",
      "provenance": [],
      "toc_visible": true
    },
    "interpreter": {
      "hash": "3f1aedb1eb2c65e580c7e6628d6a6f161dbf7d87a60144a28bd6d91db1c87885"
    },
    "kernelspec": {
      "display_name": "Python 3 (ipykernel)",
      "language": "python",
      "name": "python3"
    },
    "language_info": {
      "codemirror_mode": {
        "name": "ipython",
        "version": 3
      },
      "file_extension": ".py",
      "mimetype": "text/x-python",
      "name": "python",
      "nbconvert_exporter": "python",
      "pygments_lexer": "ipython3",
      "version": "3.7.11"
    },
    "widgets": {
      "application/vnd.jupyter.widget-state+json": {
        "a66bbeb82f454630be23958a4bb7377f": {
          "model_module": "@jupyter-widgets/controls",
          "model_name": "HBoxModel",
          "model_module_version": "1.5.0",
          "state": {
            "_dom_classes": [],
            "_model_module": "@jupyter-widgets/controls",
            "_model_module_version": "1.5.0",
            "_model_name": "HBoxModel",
            "_view_count": null,
            "_view_module": "@jupyter-widgets/controls",
            "_view_module_version": "1.5.0",
            "_view_name": "HBoxView",
            "box_style": "",
            "children": [
              "IPY_MODEL_877ec1c574c04322982c23e3a5f4b92e",
              "IPY_MODEL_6dbed8211c374160a5df78b6fe8b437c",
              "IPY_MODEL_307f209dfd904c32a3b9651cea409a25"
            ],
            "layout": "IPY_MODEL_c70fbf4f761340359d19ba3ffcbbd3c5"
          }
        },
        "877ec1c574c04322982c23e3a5f4b92e": {
          "model_module": "@jupyter-widgets/controls",
          "model_name": "HTMLModel",
          "model_module_version": "1.5.0",
          "state": {
            "_dom_classes": [],
            "_model_module": "@jupyter-widgets/controls",
            "_model_module_version": "1.5.0",
            "_model_name": "HTMLModel",
            "_view_count": null,
            "_view_module": "@jupyter-widgets/controls",
            "_view_module_version": "1.5.0",
            "_view_name": "HTMLView",
            "description": "",
            "description_tooltip": null,
            "layout": "IPY_MODEL_3276540ff881433cba1c040c024ca556",
            "placeholder": "​",
            "style": "IPY_MODEL_590440ef20374231bd06d7a95fe30f96",
            "value": "Downloading: 100%"
          }
        },
        "6dbed8211c374160a5df78b6fe8b437c": {
          "model_module": "@jupyter-widgets/controls",
          "model_name": "FloatProgressModel",
          "model_module_version": "1.5.0",
          "state": {
            "_dom_classes": [],
            "_model_module": "@jupyter-widgets/controls",
            "_model_module_version": "1.5.0",
            "_model_name": "FloatProgressModel",
            "_view_count": null,
            "_view_module": "@jupyter-widgets/controls",
            "_view_module_version": "1.5.0",
            "_view_name": "ProgressView",
            "bar_style": "success",
            "description": "",
            "description_tooltip": null,
            "layout": "IPY_MODEL_8e0311c2ccab4836b2101c43be15faab",
            "max": 28,
            "min": 0,
            "orientation": "horizontal",
            "style": "IPY_MODEL_b0ee9ab4e82347029c044a1f5167f538",
            "value": 28
          }
        },
        "307f209dfd904c32a3b9651cea409a25": {
          "model_module": "@jupyter-widgets/controls",
          "model_name": "HTMLModel",
          "model_module_version": "1.5.0",
          "state": {
            "_dom_classes": [],
            "_model_module": "@jupyter-widgets/controls",
            "_model_module_version": "1.5.0",
            "_model_name": "HTMLModel",
            "_view_count": null,
            "_view_module": "@jupyter-widgets/controls",
            "_view_module_version": "1.5.0",
            "_view_name": "HTMLView",
            "description": "",
            "description_tooltip": null,
            "layout": "IPY_MODEL_d10062932a244060a0c6ae05a840dae0",
            "placeholder": "​",
            "style": "IPY_MODEL_7d6321b5b1af4029b4002ea140bdb610",
            "value": " 28.0/28.0 [00:00&lt;00:00, 761B/s]"
          }
        },
        "c70fbf4f761340359d19ba3ffcbbd3c5": {
          "model_module": "@jupyter-widgets/base",
          "model_name": "LayoutModel",
          "model_module_version": "1.2.0",
          "state": {
            "_model_module": "@jupyter-widgets/base",
            "_model_module_version": "1.2.0",
            "_model_name": "LayoutModel",
            "_view_count": null,
            "_view_module": "@jupyter-widgets/base",
            "_view_module_version": "1.2.0",
            "_view_name": "LayoutView",
            "align_content": null,
            "align_items": null,
            "align_self": null,
            "border": null,
            "bottom": null,
            "display": null,
            "flex": null,
            "flex_flow": null,
            "grid_area": null,
            "grid_auto_columns": null,
            "grid_auto_flow": null,
            "grid_auto_rows": null,
            "grid_column": null,
            "grid_gap": null,
            "grid_row": null,
            "grid_template_areas": null,
            "grid_template_columns": null,
            "grid_template_rows": null,
            "height": null,
            "justify_content": null,
            "justify_items": null,
            "left": null,
            "margin": null,
            "max_height": null,
            "max_width": null,
            "min_height": null,
            "min_width": null,
            "object_fit": null,
            "object_position": null,
            "order": null,
            "overflow": null,
            "overflow_x": null,
            "overflow_y": null,
            "padding": null,
            "right": null,
            "top": null,
            "visibility": null,
            "width": null
          }
        },
        "3276540ff881433cba1c040c024ca556": {
          "model_module": "@jupyter-widgets/base",
          "model_name": "LayoutModel",
          "model_module_version": "1.2.0",
          "state": {
            "_model_module": "@jupyter-widgets/base",
            "_model_module_version": "1.2.0",
            "_model_name": "LayoutModel",
            "_view_count": null,
            "_view_module": "@jupyter-widgets/base",
            "_view_module_version": "1.2.0",
            "_view_name": "LayoutView",
            "align_content": null,
            "align_items": null,
            "align_self": null,
            "border": null,
            "bottom": null,
            "display": null,
            "flex": null,
            "flex_flow": null,
            "grid_area": null,
            "grid_auto_columns": null,
            "grid_auto_flow": null,
            "grid_auto_rows": null,
            "grid_column": null,
            "grid_gap": null,
            "grid_row": null,
            "grid_template_areas": null,
            "grid_template_columns": null,
            "grid_template_rows": null,
            "height": null,
            "justify_content": null,
            "justify_items": null,
            "left": null,
            "margin": null,
            "max_height": null,
            "max_width": null,
            "min_height": null,
            "min_width": null,
            "object_fit": null,
            "object_position": null,
            "order": null,
            "overflow": null,
            "overflow_x": null,
            "overflow_y": null,
            "padding": null,
            "right": null,
            "top": null,
            "visibility": null,
            "width": null
          }
        },
        "590440ef20374231bd06d7a95fe30f96": {
          "model_module": "@jupyter-widgets/controls",
          "model_name": "DescriptionStyleModel",
          "model_module_version": "1.5.0",
          "state": {
            "_model_module": "@jupyter-widgets/controls",
            "_model_module_version": "1.5.0",
            "_model_name": "DescriptionStyleModel",
            "_view_count": null,
            "_view_module": "@jupyter-widgets/base",
            "_view_module_version": "1.2.0",
            "_view_name": "StyleView",
            "description_width": ""
          }
        },
        "8e0311c2ccab4836b2101c43be15faab": {
          "model_module": "@jupyter-widgets/base",
          "model_name": "LayoutModel",
          "model_module_version": "1.2.0",
          "state": {
            "_model_module": "@jupyter-widgets/base",
            "_model_module_version": "1.2.0",
            "_model_name": "LayoutModel",
            "_view_count": null,
            "_view_module": "@jupyter-widgets/base",
            "_view_module_version": "1.2.0",
            "_view_name": "LayoutView",
            "align_content": null,
            "align_items": null,
            "align_self": null,
            "border": null,
            "bottom": null,
            "display": null,
            "flex": null,
            "flex_flow": null,
            "grid_area": null,
            "grid_auto_columns": null,
            "grid_auto_flow": null,
            "grid_auto_rows": null,
            "grid_column": null,
            "grid_gap": null,
            "grid_row": null,
            "grid_template_areas": null,
            "grid_template_columns": null,
            "grid_template_rows": null,
            "height": null,
            "justify_content": null,
            "justify_items": null,
            "left": null,
            "margin": null,
            "max_height": null,
            "max_width": null,
            "min_height": null,
            "min_width": null,
            "object_fit": null,
            "object_position": null,
            "order": null,
            "overflow": null,
            "overflow_x": null,
            "overflow_y": null,
            "padding": null,
            "right": null,
            "top": null,
            "visibility": null,
            "width": null
          }
        },
        "b0ee9ab4e82347029c044a1f5167f538": {
          "model_module": "@jupyter-widgets/controls",
          "model_name": "ProgressStyleModel",
          "model_module_version": "1.5.0",
          "state": {
            "_model_module": "@jupyter-widgets/controls",
            "_model_module_version": "1.5.0",
            "_model_name": "ProgressStyleModel",
            "_view_count": null,
            "_view_module": "@jupyter-widgets/base",
            "_view_module_version": "1.2.0",
            "_view_name": "StyleView",
            "bar_color": null,
            "description_width": ""
          }
        },
        "d10062932a244060a0c6ae05a840dae0": {
          "model_module": "@jupyter-widgets/base",
          "model_name": "LayoutModel",
          "model_module_version": "1.2.0",
          "state": {
            "_model_module": "@jupyter-widgets/base",
            "_model_module_version": "1.2.0",
            "_model_name": "LayoutModel",
            "_view_count": null,
            "_view_module": "@jupyter-widgets/base",
            "_view_module_version": "1.2.0",
            "_view_name": "LayoutView",
            "align_content": null,
            "align_items": null,
            "align_self": null,
            "border": null,
            "bottom": null,
            "display": null,
            "flex": null,
            "flex_flow": null,
            "grid_area": null,
            "grid_auto_columns": null,
            "grid_auto_flow": null,
            "grid_auto_rows": null,
            "grid_column": null,
            "grid_gap": null,
            "grid_row": null,
            "grid_template_areas": null,
            "grid_template_columns": null,
            "grid_template_rows": null,
            "height": null,
            "justify_content": null,
            "justify_items": null,
            "left": null,
            "margin": null,
            "max_height": null,
            "max_width": null,
            "min_height": null,
            "min_width": null,
            "object_fit": null,
            "object_position": null,
            "order": null,
            "overflow": null,
            "overflow_x": null,
            "overflow_y": null,
            "padding": null,
            "right": null,
            "top": null,
            "visibility": null,
            "width": null
          }
        },
        "7d6321b5b1af4029b4002ea140bdb610": {
          "model_module": "@jupyter-widgets/controls",
          "model_name": "DescriptionStyleModel",
          "model_module_version": "1.5.0",
          "state": {
            "_model_module": "@jupyter-widgets/controls",
            "_model_module_version": "1.5.0",
            "_model_name": "DescriptionStyleModel",
            "_view_count": null,
            "_view_module": "@jupyter-widgets/base",
            "_view_module_version": "1.2.0",
            "_view_name": "StyleView",
            "description_width": ""
          }
        },
        "4bcadc6218ce43c5820df2889809503b": {
          "model_module": "@jupyter-widgets/controls",
          "model_name": "HBoxModel",
          "model_module_version": "1.5.0",
          "state": {
            "_dom_classes": [],
            "_model_module": "@jupyter-widgets/controls",
            "_model_module_version": "1.5.0",
            "_model_name": "HBoxModel",
            "_view_count": null,
            "_view_module": "@jupyter-widgets/controls",
            "_view_module_version": "1.5.0",
            "_view_name": "HBoxView",
            "box_style": "",
            "children": [
              "IPY_MODEL_7f0d62f4978b4520970b3ea87393278e",
              "IPY_MODEL_deff15c498f6450f912b882e2b3c1f01",
              "IPY_MODEL_4a8ec779062f4642b1c20ce4eaa73c4f"
            ],
            "layout": "IPY_MODEL_c6c0d9e139d04274b4e186bb7d5669ba"
          }
        },
        "7f0d62f4978b4520970b3ea87393278e": {
          "model_module": "@jupyter-widgets/controls",
          "model_name": "HTMLModel",
          "model_module_version": "1.5.0",
          "state": {
            "_dom_classes": [],
            "_model_module": "@jupyter-widgets/controls",
            "_model_module_version": "1.5.0",
            "_model_name": "HTMLModel",
            "_view_count": null,
            "_view_module": "@jupyter-widgets/controls",
            "_view_module_version": "1.5.0",
            "_view_name": "HTMLView",
            "description": "",
            "description_tooltip": null,
            "layout": "IPY_MODEL_92db509f57a644acaa9a52beaf4832b7",
            "placeholder": "​",
            "style": "IPY_MODEL_75c73ccfba7048b08cbdc8d9351d1c8b",
            "value": "Downloading: 100%"
          }
        },
        "deff15c498f6450f912b882e2b3c1f01": {
          "model_module": "@jupyter-widgets/controls",
          "model_name": "FloatProgressModel",
          "model_module_version": "1.5.0",
          "state": {
            "_dom_classes": [],
            "_model_module": "@jupyter-widgets/controls",
            "_model_module_version": "1.5.0",
            "_model_name": "FloatProgressModel",
            "_view_count": null,
            "_view_module": "@jupyter-widgets/controls",
            "_view_module_version": "1.5.0",
            "_view_name": "ProgressView",
            "bar_style": "success",
            "description": "",
            "description_tooltip": null,
            "layout": "IPY_MODEL_159d73acf362465d97ff7620a80a48fa",
            "max": 231508,
            "min": 0,
            "orientation": "horizontal",
            "style": "IPY_MODEL_1db1aa77cd7c4b738402bcbbeb723508",
            "value": 231508
          }
        },
        "4a8ec779062f4642b1c20ce4eaa73c4f": {
          "model_module": "@jupyter-widgets/controls",
          "model_name": "HTMLModel",
          "model_module_version": "1.5.0",
          "state": {
            "_dom_classes": [],
            "_model_module": "@jupyter-widgets/controls",
            "_model_module_version": "1.5.0",
            "_model_name": "HTMLModel",
            "_view_count": null,
            "_view_module": "@jupyter-widgets/controls",
            "_view_module_version": "1.5.0",
            "_view_name": "HTMLView",
            "description": "",
            "description_tooltip": null,
            "layout": "IPY_MODEL_4b6c37c70664409492aa4c8b2178f73d",
            "placeholder": "​",
            "style": "IPY_MODEL_7b5c7acce097464da8433c2b2be51da7",
            "value": " 226k/226k [00:00&lt;00:00, 5.22MB/s]"
          }
        },
        "c6c0d9e139d04274b4e186bb7d5669ba": {
          "model_module": "@jupyter-widgets/base",
          "model_name": "LayoutModel",
          "model_module_version": "1.2.0",
          "state": {
            "_model_module": "@jupyter-widgets/base",
            "_model_module_version": "1.2.0",
            "_model_name": "LayoutModel",
            "_view_count": null,
            "_view_module": "@jupyter-widgets/base",
            "_view_module_version": "1.2.0",
            "_view_name": "LayoutView",
            "align_content": null,
            "align_items": null,
            "align_self": null,
            "border": null,
            "bottom": null,
            "display": null,
            "flex": null,
            "flex_flow": null,
            "grid_area": null,
            "grid_auto_columns": null,
            "grid_auto_flow": null,
            "grid_auto_rows": null,
            "grid_column": null,
            "grid_gap": null,
            "grid_row": null,
            "grid_template_areas": null,
            "grid_template_columns": null,
            "grid_template_rows": null,
            "height": null,
            "justify_content": null,
            "justify_items": null,
            "left": null,
            "margin": null,
            "max_height": null,
            "max_width": null,
            "min_height": null,
            "min_width": null,
            "object_fit": null,
            "object_position": null,
            "order": null,
            "overflow": null,
            "overflow_x": null,
            "overflow_y": null,
            "padding": null,
            "right": null,
            "top": null,
            "visibility": null,
            "width": null
          }
        },
        "92db509f57a644acaa9a52beaf4832b7": {
          "model_module": "@jupyter-widgets/base",
          "model_name": "LayoutModel",
          "model_module_version": "1.2.0",
          "state": {
            "_model_module": "@jupyter-widgets/base",
            "_model_module_version": "1.2.0",
            "_model_name": "LayoutModel",
            "_view_count": null,
            "_view_module": "@jupyter-widgets/base",
            "_view_module_version": "1.2.0",
            "_view_name": "LayoutView",
            "align_content": null,
            "align_items": null,
            "align_self": null,
            "border": null,
            "bottom": null,
            "display": null,
            "flex": null,
            "flex_flow": null,
            "grid_area": null,
            "grid_auto_columns": null,
            "grid_auto_flow": null,
            "grid_auto_rows": null,
            "grid_column": null,
            "grid_gap": null,
            "grid_row": null,
            "grid_template_areas": null,
            "grid_template_columns": null,
            "grid_template_rows": null,
            "height": null,
            "justify_content": null,
            "justify_items": null,
            "left": null,
            "margin": null,
            "max_height": null,
            "max_width": null,
            "min_height": null,
            "min_width": null,
            "object_fit": null,
            "object_position": null,
            "order": null,
            "overflow": null,
            "overflow_x": null,
            "overflow_y": null,
            "padding": null,
            "right": null,
            "top": null,
            "visibility": null,
            "width": null
          }
        },
        "75c73ccfba7048b08cbdc8d9351d1c8b": {
          "model_module": "@jupyter-widgets/controls",
          "model_name": "DescriptionStyleModel",
          "model_module_version": "1.5.0",
          "state": {
            "_model_module": "@jupyter-widgets/controls",
            "_model_module_version": "1.5.0",
            "_model_name": "DescriptionStyleModel",
            "_view_count": null,
            "_view_module": "@jupyter-widgets/base",
            "_view_module_version": "1.2.0",
            "_view_name": "StyleView",
            "description_width": ""
          }
        },
        "159d73acf362465d97ff7620a80a48fa": {
          "model_module": "@jupyter-widgets/base",
          "model_name": "LayoutModel",
          "model_module_version": "1.2.0",
          "state": {
            "_model_module": "@jupyter-widgets/base",
            "_model_module_version": "1.2.0",
            "_model_name": "LayoutModel",
            "_view_count": null,
            "_view_module": "@jupyter-widgets/base",
            "_view_module_version": "1.2.0",
            "_view_name": "LayoutView",
            "align_content": null,
            "align_items": null,
            "align_self": null,
            "border": null,
            "bottom": null,
            "display": null,
            "flex": null,
            "flex_flow": null,
            "grid_area": null,
            "grid_auto_columns": null,
            "grid_auto_flow": null,
            "grid_auto_rows": null,
            "grid_column": null,
            "grid_gap": null,
            "grid_row": null,
            "grid_template_areas": null,
            "grid_template_columns": null,
            "grid_template_rows": null,
            "height": null,
            "justify_content": null,
            "justify_items": null,
            "left": null,
            "margin": null,
            "max_height": null,
            "max_width": null,
            "min_height": null,
            "min_width": null,
            "object_fit": null,
            "object_position": null,
            "order": null,
            "overflow": null,
            "overflow_x": null,
            "overflow_y": null,
            "padding": null,
            "right": null,
            "top": null,
            "visibility": null,
            "width": null
          }
        },
        "1db1aa77cd7c4b738402bcbbeb723508": {
          "model_module": "@jupyter-widgets/controls",
          "model_name": "ProgressStyleModel",
          "model_module_version": "1.5.0",
          "state": {
            "_model_module": "@jupyter-widgets/controls",
            "_model_module_version": "1.5.0",
            "_model_name": "ProgressStyleModel",
            "_view_count": null,
            "_view_module": "@jupyter-widgets/base",
            "_view_module_version": "1.2.0",
            "_view_name": "StyleView",
            "bar_color": null,
            "description_width": ""
          }
        },
        "4b6c37c70664409492aa4c8b2178f73d": {
          "model_module": "@jupyter-widgets/base",
          "model_name": "LayoutModel",
          "model_module_version": "1.2.0",
          "state": {
            "_model_module": "@jupyter-widgets/base",
            "_model_module_version": "1.2.0",
            "_model_name": "LayoutModel",
            "_view_count": null,
            "_view_module": "@jupyter-widgets/base",
            "_view_module_version": "1.2.0",
            "_view_name": "LayoutView",
            "align_content": null,
            "align_items": null,
            "align_self": null,
            "border": null,
            "bottom": null,
            "display": null,
            "flex": null,
            "flex_flow": null,
            "grid_area": null,
            "grid_auto_columns": null,
            "grid_auto_flow": null,
            "grid_auto_rows": null,
            "grid_column": null,
            "grid_gap": null,
            "grid_row": null,
            "grid_template_areas": null,
            "grid_template_columns": null,
            "grid_template_rows": null,
            "height": null,
            "justify_content": null,
            "justify_items": null,
            "left": null,
            "margin": null,
            "max_height": null,
            "max_width": null,
            "min_height": null,
            "min_width": null,
            "object_fit": null,
            "object_position": null,
            "order": null,
            "overflow": null,
            "overflow_x": null,
            "overflow_y": null,
            "padding": null,
            "right": null,
            "top": null,
            "visibility": null,
            "width": null
          }
        },
        "7b5c7acce097464da8433c2b2be51da7": {
          "model_module": "@jupyter-widgets/controls",
          "model_name": "DescriptionStyleModel",
          "model_module_version": "1.5.0",
          "state": {
            "_model_module": "@jupyter-widgets/controls",
            "_model_module_version": "1.5.0",
            "_model_name": "DescriptionStyleModel",
            "_view_count": null,
            "_view_module": "@jupyter-widgets/base",
            "_view_module_version": "1.2.0",
            "_view_name": "StyleView",
            "description_width": ""
          }
        },
        "323a1ea9c1a6426eb4bf31ab4e8bfa2a": {
          "model_module": "@jupyter-widgets/controls",
          "model_name": "HBoxModel",
          "model_module_version": "1.5.0",
          "state": {
            "_dom_classes": [],
            "_model_module": "@jupyter-widgets/controls",
            "_model_module_version": "1.5.0",
            "_model_name": "HBoxModel",
            "_view_count": null,
            "_view_module": "@jupyter-widgets/controls",
            "_view_module_version": "1.5.0",
            "_view_name": "HBoxView",
            "box_style": "",
            "children": [
              "IPY_MODEL_ba5a95f0eafc4d7e8a68d652b320f8f1",
              "IPY_MODEL_5a94805eaccc4860b7ecd6a0174f0964",
              "IPY_MODEL_ad47d6fdca544eff901495728764762b"
            ],
            "layout": "IPY_MODEL_e25c24bc89094989a639196ed4b438a9"
          }
        },
        "ba5a95f0eafc4d7e8a68d652b320f8f1": {
          "model_module": "@jupyter-widgets/controls",
          "model_name": "HTMLModel",
          "model_module_version": "1.5.0",
          "state": {
            "_dom_classes": [],
            "_model_module": "@jupyter-widgets/controls",
            "_model_module_version": "1.5.0",
            "_model_name": "HTMLModel",
            "_view_count": null,
            "_view_module": "@jupyter-widgets/controls",
            "_view_module_version": "1.5.0",
            "_view_name": "HTMLView",
            "description": "",
            "description_tooltip": null,
            "layout": "IPY_MODEL_0ed68e0169c14bdc8e249fb37c047472",
            "placeholder": "​",
            "style": "IPY_MODEL_39d9f1882de844969cde09ccf41ca4f0",
            "value": "Downloading: 100%"
          }
        },
        "5a94805eaccc4860b7ecd6a0174f0964": {
          "model_module": "@jupyter-widgets/controls",
          "model_name": "FloatProgressModel",
          "model_module_version": "1.5.0",
          "state": {
            "_dom_classes": [],
            "_model_module": "@jupyter-widgets/controls",
            "_model_module_version": "1.5.0",
            "_model_name": "FloatProgressModel",
            "_view_count": null,
            "_view_module": "@jupyter-widgets/controls",
            "_view_module_version": "1.5.0",
            "_view_name": "ProgressView",
            "bar_style": "success",
            "description": "",
            "description_tooltip": null,
            "layout": "IPY_MODEL_95b7e98bc5a34367b4ab0109a295ec4a",
            "max": 466062,
            "min": 0,
            "orientation": "horizontal",
            "style": "IPY_MODEL_ef6dde71f82447ada74c6ce5631ba048",
            "value": 466062
          }
        },
        "ad47d6fdca544eff901495728764762b": {
          "model_module": "@jupyter-widgets/controls",
          "model_name": "HTMLModel",
          "model_module_version": "1.5.0",
          "state": {
            "_dom_classes": [],
            "_model_module": "@jupyter-widgets/controls",
            "_model_module_version": "1.5.0",
            "_model_name": "HTMLModel",
            "_view_count": null,
            "_view_module": "@jupyter-widgets/controls",
            "_view_module_version": "1.5.0",
            "_view_name": "HTMLView",
            "description": "",
            "description_tooltip": null,
            "layout": "IPY_MODEL_e002733ede87420f91be43df00b119ef",
            "placeholder": "​",
            "style": "IPY_MODEL_b2b865665fcf4a37afbc2090c93e6c3e",
            "value": " 455k/455k [00:00&lt;00:00, 6.70MB/s]"
          }
        },
        "e25c24bc89094989a639196ed4b438a9": {
          "model_module": "@jupyter-widgets/base",
          "model_name": "LayoutModel",
          "model_module_version": "1.2.0",
          "state": {
            "_model_module": "@jupyter-widgets/base",
            "_model_module_version": "1.2.0",
            "_model_name": "LayoutModel",
            "_view_count": null,
            "_view_module": "@jupyter-widgets/base",
            "_view_module_version": "1.2.0",
            "_view_name": "LayoutView",
            "align_content": null,
            "align_items": null,
            "align_self": null,
            "border": null,
            "bottom": null,
            "display": null,
            "flex": null,
            "flex_flow": null,
            "grid_area": null,
            "grid_auto_columns": null,
            "grid_auto_flow": null,
            "grid_auto_rows": null,
            "grid_column": null,
            "grid_gap": null,
            "grid_row": null,
            "grid_template_areas": null,
            "grid_template_columns": null,
            "grid_template_rows": null,
            "height": null,
            "justify_content": null,
            "justify_items": null,
            "left": null,
            "margin": null,
            "max_height": null,
            "max_width": null,
            "min_height": null,
            "min_width": null,
            "object_fit": null,
            "object_position": null,
            "order": null,
            "overflow": null,
            "overflow_x": null,
            "overflow_y": null,
            "padding": null,
            "right": null,
            "top": null,
            "visibility": null,
            "width": null
          }
        },
        "0ed68e0169c14bdc8e249fb37c047472": {
          "model_module": "@jupyter-widgets/base",
          "model_name": "LayoutModel",
          "model_module_version": "1.2.0",
          "state": {
            "_model_module": "@jupyter-widgets/base",
            "_model_module_version": "1.2.0",
            "_model_name": "LayoutModel",
            "_view_count": null,
            "_view_module": "@jupyter-widgets/base",
            "_view_module_version": "1.2.0",
            "_view_name": "LayoutView",
            "align_content": null,
            "align_items": null,
            "align_self": null,
            "border": null,
            "bottom": null,
            "display": null,
            "flex": null,
            "flex_flow": null,
            "grid_area": null,
            "grid_auto_columns": null,
            "grid_auto_flow": null,
            "grid_auto_rows": null,
            "grid_column": null,
            "grid_gap": null,
            "grid_row": null,
            "grid_template_areas": null,
            "grid_template_columns": null,
            "grid_template_rows": null,
            "height": null,
            "justify_content": null,
            "justify_items": null,
            "left": null,
            "margin": null,
            "max_height": null,
            "max_width": null,
            "min_height": null,
            "min_width": null,
            "object_fit": null,
            "object_position": null,
            "order": null,
            "overflow": null,
            "overflow_x": null,
            "overflow_y": null,
            "padding": null,
            "right": null,
            "top": null,
            "visibility": null,
            "width": null
          }
        },
        "39d9f1882de844969cde09ccf41ca4f0": {
          "model_module": "@jupyter-widgets/controls",
          "model_name": "DescriptionStyleModel",
          "model_module_version": "1.5.0",
          "state": {
            "_model_module": "@jupyter-widgets/controls",
            "_model_module_version": "1.5.0",
            "_model_name": "DescriptionStyleModel",
            "_view_count": null,
            "_view_module": "@jupyter-widgets/base",
            "_view_module_version": "1.2.0",
            "_view_name": "StyleView",
            "description_width": ""
          }
        },
        "95b7e98bc5a34367b4ab0109a295ec4a": {
          "model_module": "@jupyter-widgets/base",
          "model_name": "LayoutModel",
          "model_module_version": "1.2.0",
          "state": {
            "_model_module": "@jupyter-widgets/base",
            "_model_module_version": "1.2.0",
            "_model_name": "LayoutModel",
            "_view_count": null,
            "_view_module": "@jupyter-widgets/base",
            "_view_module_version": "1.2.0",
            "_view_name": "LayoutView",
            "align_content": null,
            "align_items": null,
            "align_self": null,
            "border": null,
            "bottom": null,
            "display": null,
            "flex": null,
            "flex_flow": null,
            "grid_area": null,
            "grid_auto_columns": null,
            "grid_auto_flow": null,
            "grid_auto_rows": null,
            "grid_column": null,
            "grid_gap": null,
            "grid_row": null,
            "grid_template_areas": null,
            "grid_template_columns": null,
            "grid_template_rows": null,
            "height": null,
            "justify_content": null,
            "justify_items": null,
            "left": null,
            "margin": null,
            "max_height": null,
            "max_width": null,
            "min_height": null,
            "min_width": null,
            "object_fit": null,
            "object_position": null,
            "order": null,
            "overflow": null,
            "overflow_x": null,
            "overflow_y": null,
            "padding": null,
            "right": null,
            "top": null,
            "visibility": null,
            "width": null
          }
        },
        "ef6dde71f82447ada74c6ce5631ba048": {
          "model_module": "@jupyter-widgets/controls",
          "model_name": "ProgressStyleModel",
          "model_module_version": "1.5.0",
          "state": {
            "_model_module": "@jupyter-widgets/controls",
            "_model_module_version": "1.5.0",
            "_model_name": "ProgressStyleModel",
            "_view_count": null,
            "_view_module": "@jupyter-widgets/base",
            "_view_module_version": "1.2.0",
            "_view_name": "StyleView",
            "bar_color": null,
            "description_width": ""
          }
        },
        "e002733ede87420f91be43df00b119ef": {
          "model_module": "@jupyter-widgets/base",
          "model_name": "LayoutModel",
          "model_module_version": "1.2.0",
          "state": {
            "_model_module": "@jupyter-widgets/base",
            "_model_module_version": "1.2.0",
            "_model_name": "LayoutModel",
            "_view_count": null,
            "_view_module": "@jupyter-widgets/base",
            "_view_module_version": "1.2.0",
            "_view_name": "LayoutView",
            "align_content": null,
            "align_items": null,
            "align_self": null,
            "border": null,
            "bottom": null,
            "display": null,
            "flex": null,
            "flex_flow": null,
            "grid_area": null,
            "grid_auto_columns": null,
            "grid_auto_flow": null,
            "grid_auto_rows": null,
            "grid_column": null,
            "grid_gap": null,
            "grid_row": null,
            "grid_template_areas": null,
            "grid_template_columns": null,
            "grid_template_rows": null,
            "height": null,
            "justify_content": null,
            "justify_items": null,
            "left": null,
            "margin": null,
            "max_height": null,
            "max_width": null,
            "min_height": null,
            "min_width": null,
            "object_fit": null,
            "object_position": null,
            "order": null,
            "overflow": null,
            "overflow_x": null,
            "overflow_y": null,
            "padding": null,
            "right": null,
            "top": null,
            "visibility": null,
            "width": null
          }
        },
        "b2b865665fcf4a37afbc2090c93e6c3e": {
          "model_module": "@jupyter-widgets/controls",
          "model_name": "DescriptionStyleModel",
          "model_module_version": "1.5.0",
          "state": {
            "_model_module": "@jupyter-widgets/controls",
            "_model_module_version": "1.5.0",
            "_model_name": "DescriptionStyleModel",
            "_view_count": null,
            "_view_module": "@jupyter-widgets/base",
            "_view_module_version": "1.2.0",
            "_view_name": "StyleView",
            "description_width": ""
          }
        },
        "502e796c9e99455ebe08d2c95a39972b": {
          "model_module": "@jupyter-widgets/controls",
          "model_name": "HBoxModel",
          "model_module_version": "1.5.0",
          "state": {
            "_dom_classes": [],
            "_model_module": "@jupyter-widgets/controls",
            "_model_module_version": "1.5.0",
            "_model_name": "HBoxModel",
            "_view_count": null,
            "_view_module": "@jupyter-widgets/controls",
            "_view_module_version": "1.5.0",
            "_view_name": "HBoxView",
            "box_style": "",
            "children": [
              "IPY_MODEL_eb1c378975f141a59364bcef54b46a30",
              "IPY_MODEL_fc96c626922841129ce3b7a7bfc9d15c",
              "IPY_MODEL_cfa3e35b200a43f1959ca9a6654c08a4"
            ],
            "layout": "IPY_MODEL_5cbd9da6391345b39b7df65f3dc45fc2"
          }
        },
        "eb1c378975f141a59364bcef54b46a30": {
          "model_module": "@jupyter-widgets/controls",
          "model_name": "HTMLModel",
          "model_module_version": "1.5.0",
          "state": {
            "_dom_classes": [],
            "_model_module": "@jupyter-widgets/controls",
            "_model_module_version": "1.5.0",
            "_model_name": "HTMLModel",
            "_view_count": null,
            "_view_module": "@jupyter-widgets/controls",
            "_view_module_version": "1.5.0",
            "_view_name": "HTMLView",
            "description": "",
            "description_tooltip": null,
            "layout": "IPY_MODEL_d462d01d9a314366890dc9fd0c672ea7",
            "placeholder": "​",
            "style": "IPY_MODEL_470969c913604168aa1e803950e5440d",
            "value": "Downloading: 100%"
          }
        },
        "fc96c626922841129ce3b7a7bfc9d15c": {
          "model_module": "@jupyter-widgets/controls",
          "model_name": "FloatProgressModel",
          "model_module_version": "1.5.0",
          "state": {
            "_dom_classes": [],
            "_model_module": "@jupyter-widgets/controls",
            "_model_module_version": "1.5.0",
            "_model_name": "FloatProgressModel",
            "_view_count": null,
            "_view_module": "@jupyter-widgets/controls",
            "_view_module_version": "1.5.0",
            "_view_name": "ProgressView",
            "bar_style": "success",
            "description": "",
            "description_tooltip": null,
            "layout": "IPY_MODEL_bf058fa5f6ec4c9393aa6467713e556c",
            "max": 483,
            "min": 0,
            "orientation": "horizontal",
            "style": "IPY_MODEL_0705291237c1407590623321ca0e9de6",
            "value": 483
          }
        },
        "cfa3e35b200a43f1959ca9a6654c08a4": {
          "model_module": "@jupyter-widgets/controls",
          "model_name": "HTMLModel",
          "model_module_version": "1.5.0",
          "state": {
            "_dom_classes": [],
            "_model_module": "@jupyter-widgets/controls",
            "_model_module_version": "1.5.0",
            "_model_name": "HTMLModel",
            "_view_count": null,
            "_view_module": "@jupyter-widgets/controls",
            "_view_module_version": "1.5.0",
            "_view_name": "HTMLView",
            "description": "",
            "description_tooltip": null,
            "layout": "IPY_MODEL_0aa2ba2a0a16447eb81ffb998f83700b",
            "placeholder": "​",
            "style": "IPY_MODEL_95482596a7b54228a4726d947512e369",
            "value": " 483/483 [00:00&lt;00:00, 15.3kB/s]"
          }
        },
        "5cbd9da6391345b39b7df65f3dc45fc2": {
          "model_module": "@jupyter-widgets/base",
          "model_name": "LayoutModel",
          "model_module_version": "1.2.0",
          "state": {
            "_model_module": "@jupyter-widgets/base",
            "_model_module_version": "1.2.0",
            "_model_name": "LayoutModel",
            "_view_count": null,
            "_view_module": "@jupyter-widgets/base",
            "_view_module_version": "1.2.0",
            "_view_name": "LayoutView",
            "align_content": null,
            "align_items": null,
            "align_self": null,
            "border": null,
            "bottom": null,
            "display": null,
            "flex": null,
            "flex_flow": null,
            "grid_area": null,
            "grid_auto_columns": null,
            "grid_auto_flow": null,
            "grid_auto_rows": null,
            "grid_column": null,
            "grid_gap": null,
            "grid_row": null,
            "grid_template_areas": null,
            "grid_template_columns": null,
            "grid_template_rows": null,
            "height": null,
            "justify_content": null,
            "justify_items": null,
            "left": null,
            "margin": null,
            "max_height": null,
            "max_width": null,
            "min_height": null,
            "min_width": null,
            "object_fit": null,
            "object_position": null,
            "order": null,
            "overflow": null,
            "overflow_x": null,
            "overflow_y": null,
            "padding": null,
            "right": null,
            "top": null,
            "visibility": null,
            "width": null
          }
        },
        "d462d01d9a314366890dc9fd0c672ea7": {
          "model_module": "@jupyter-widgets/base",
          "model_name": "LayoutModel",
          "model_module_version": "1.2.0",
          "state": {
            "_model_module": "@jupyter-widgets/base",
            "_model_module_version": "1.2.0",
            "_model_name": "LayoutModel",
            "_view_count": null,
            "_view_module": "@jupyter-widgets/base",
            "_view_module_version": "1.2.0",
            "_view_name": "LayoutView",
            "align_content": null,
            "align_items": null,
            "align_self": null,
            "border": null,
            "bottom": null,
            "display": null,
            "flex": null,
            "flex_flow": null,
            "grid_area": null,
            "grid_auto_columns": null,
            "grid_auto_flow": null,
            "grid_auto_rows": null,
            "grid_column": null,
            "grid_gap": null,
            "grid_row": null,
            "grid_template_areas": null,
            "grid_template_columns": null,
            "grid_template_rows": null,
            "height": null,
            "justify_content": null,
            "justify_items": null,
            "left": null,
            "margin": null,
            "max_height": null,
            "max_width": null,
            "min_height": null,
            "min_width": null,
            "object_fit": null,
            "object_position": null,
            "order": null,
            "overflow": null,
            "overflow_x": null,
            "overflow_y": null,
            "padding": null,
            "right": null,
            "top": null,
            "visibility": null,
            "width": null
          }
        },
        "470969c913604168aa1e803950e5440d": {
          "model_module": "@jupyter-widgets/controls",
          "model_name": "DescriptionStyleModel",
          "model_module_version": "1.5.0",
          "state": {
            "_model_module": "@jupyter-widgets/controls",
            "_model_module_version": "1.5.0",
            "_model_name": "DescriptionStyleModel",
            "_view_count": null,
            "_view_module": "@jupyter-widgets/base",
            "_view_module_version": "1.2.0",
            "_view_name": "StyleView",
            "description_width": ""
          }
        },
        "bf058fa5f6ec4c9393aa6467713e556c": {
          "model_module": "@jupyter-widgets/base",
          "model_name": "LayoutModel",
          "model_module_version": "1.2.0",
          "state": {
            "_model_module": "@jupyter-widgets/base",
            "_model_module_version": "1.2.0",
            "_model_name": "LayoutModel",
            "_view_count": null,
            "_view_module": "@jupyter-widgets/base",
            "_view_module_version": "1.2.0",
            "_view_name": "LayoutView",
            "align_content": null,
            "align_items": null,
            "align_self": null,
            "border": null,
            "bottom": null,
            "display": null,
            "flex": null,
            "flex_flow": null,
            "grid_area": null,
            "grid_auto_columns": null,
            "grid_auto_flow": null,
            "grid_auto_rows": null,
            "grid_column": null,
            "grid_gap": null,
            "grid_row": null,
            "grid_template_areas": null,
            "grid_template_columns": null,
            "grid_template_rows": null,
            "height": null,
            "justify_content": null,
            "justify_items": null,
            "left": null,
            "margin": null,
            "max_height": null,
            "max_width": null,
            "min_height": null,
            "min_width": null,
            "object_fit": null,
            "object_position": null,
            "order": null,
            "overflow": null,
            "overflow_x": null,
            "overflow_y": null,
            "padding": null,
            "right": null,
            "top": null,
            "visibility": null,
            "width": null
          }
        },
        "0705291237c1407590623321ca0e9de6": {
          "model_module": "@jupyter-widgets/controls",
          "model_name": "ProgressStyleModel",
          "model_module_version": "1.5.0",
          "state": {
            "_model_module": "@jupyter-widgets/controls",
            "_model_module_version": "1.5.0",
            "_model_name": "ProgressStyleModel",
            "_view_count": null,
            "_view_module": "@jupyter-widgets/base",
            "_view_module_version": "1.2.0",
            "_view_name": "StyleView",
            "bar_color": null,
            "description_width": ""
          }
        },
        "0aa2ba2a0a16447eb81ffb998f83700b": {
          "model_module": "@jupyter-widgets/base",
          "model_name": "LayoutModel",
          "model_module_version": "1.2.0",
          "state": {
            "_model_module": "@jupyter-widgets/base",
            "_model_module_version": "1.2.0",
            "_model_name": "LayoutModel",
            "_view_count": null,
            "_view_module": "@jupyter-widgets/base",
            "_view_module_version": "1.2.0",
            "_view_name": "LayoutView",
            "align_content": null,
            "align_items": null,
            "align_self": null,
            "border": null,
            "bottom": null,
            "display": null,
            "flex": null,
            "flex_flow": null,
            "grid_area": null,
            "grid_auto_columns": null,
            "grid_auto_flow": null,
            "grid_auto_rows": null,
            "grid_column": null,
            "grid_gap": null,
            "grid_row": null,
            "grid_template_areas": null,
            "grid_template_columns": null,
            "grid_template_rows": null,
            "height": null,
            "justify_content": null,
            "justify_items": null,
            "left": null,
            "margin": null,
            "max_height": null,
            "max_width": null,
            "min_height": null,
            "min_width": null,
            "object_fit": null,
            "object_position": null,
            "order": null,
            "overflow": null,
            "overflow_x": null,
            "overflow_y": null,
            "padding": null,
            "right": null,
            "top": null,
            "visibility": null,
            "width": null
          }
        },
        "95482596a7b54228a4726d947512e369": {
          "model_module": "@jupyter-widgets/controls",
          "model_name": "DescriptionStyleModel",
          "model_module_version": "1.5.0",
          "state": {
            "_model_module": "@jupyter-widgets/controls",
            "_model_module_version": "1.5.0",
            "_model_name": "DescriptionStyleModel",
            "_view_count": null,
            "_view_module": "@jupyter-widgets/base",
            "_view_module_version": "1.2.0",
            "_view_name": "StyleView",
            "description_width": ""
          }
        },
        "2b9fe9675f2d43f4817d77c9bdb45419": {
          "model_module": "@jupyter-widgets/controls",
          "model_name": "HBoxModel",
          "model_module_version": "1.5.0",
          "state": {
            "_dom_classes": [],
            "_model_module": "@jupyter-widgets/controls",
            "_model_module_version": "1.5.0",
            "_model_name": "HBoxModel",
            "_view_count": null,
            "_view_module": "@jupyter-widgets/controls",
            "_view_module_version": "1.5.0",
            "_view_name": "HBoxView",
            "box_style": "",
            "children": [
              "IPY_MODEL_9f2244a0c91a4c39a41e44ef2f370edb",
              "IPY_MODEL_d85d7eaacbe14f1ab595e61daa7b00ae",
              "IPY_MODEL_6a009759af344f758dad8679356e29de"
            ],
            "layout": "IPY_MODEL_ecfacc109edd4729b539a969f7ba87f4"
          }
        },
        "9f2244a0c91a4c39a41e44ef2f370edb": {
          "model_module": "@jupyter-widgets/controls",
          "model_name": "HTMLModel",
          "model_module_version": "1.5.0",
          "state": {
            "_dom_classes": [],
            "_model_module": "@jupyter-widgets/controls",
            "_model_module_version": "1.5.0",
            "_model_name": "HTMLModel",
            "_view_count": null,
            "_view_module": "@jupyter-widgets/controls",
            "_view_module_version": "1.5.0",
            "_view_name": "HTMLView",
            "description": "",
            "description_tooltip": null,
            "layout": "IPY_MODEL_f98aeb40b8804ca693d8af3bc486c85e",
            "placeholder": "​",
            "style": "IPY_MODEL_78c66b163c134061883c9e640ba107cf",
            "value": "Downloading: 100%"
          }
        },
        "d85d7eaacbe14f1ab595e61daa7b00ae": {
          "model_module": "@jupyter-widgets/controls",
          "model_name": "FloatProgressModel",
          "model_module_version": "1.5.0",
          "state": {
            "_dom_classes": [],
            "_model_module": "@jupyter-widgets/controls",
            "_model_module_version": "1.5.0",
            "_model_name": "FloatProgressModel",
            "_view_count": null,
            "_view_module": "@jupyter-widgets/controls",
            "_view_module_version": "1.5.0",
            "_view_name": "ProgressView",
            "bar_style": "success",
            "description": "",
            "description_tooltip": null,
            "layout": "IPY_MODEL_64e2028abcb44febba501bf73d32342e",
            "max": 363423424,
            "min": 0,
            "orientation": "horizontal",
            "style": "IPY_MODEL_bd4a22e2fa6947b990c19836c03a9bcf",
            "value": 363423424
          }
        },
        "6a009759af344f758dad8679356e29de": {
          "model_module": "@jupyter-widgets/controls",
          "model_name": "HTMLModel",
          "model_module_version": "1.5.0",
          "state": {
            "_dom_classes": [],
            "_model_module": "@jupyter-widgets/controls",
            "_model_module_version": "1.5.0",
            "_model_name": "HTMLModel",
            "_view_count": null,
            "_view_module": "@jupyter-widgets/controls",
            "_view_module_version": "1.5.0",
            "_view_name": "HTMLView",
            "description": "",
            "description_tooltip": null,
            "layout": "IPY_MODEL_96d2b5f2602649afa44e99014b08272d",
            "placeholder": "​",
            "style": "IPY_MODEL_058d0039ea4d4664867238479ad5602d",
            "value": " 347M/347M [00:06&lt;00:00, 55.6MB/s]"
          }
        },
        "ecfacc109edd4729b539a969f7ba87f4": {
          "model_module": "@jupyter-widgets/base",
          "model_name": "LayoutModel",
          "model_module_version": "1.2.0",
          "state": {
            "_model_module": "@jupyter-widgets/base",
            "_model_module_version": "1.2.0",
            "_model_name": "LayoutModel",
            "_view_count": null,
            "_view_module": "@jupyter-widgets/base",
            "_view_module_version": "1.2.0",
            "_view_name": "LayoutView",
            "align_content": null,
            "align_items": null,
            "align_self": null,
            "border": null,
            "bottom": null,
            "display": null,
            "flex": null,
            "flex_flow": null,
            "grid_area": null,
            "grid_auto_columns": null,
            "grid_auto_flow": null,
            "grid_auto_rows": null,
            "grid_column": null,
            "grid_gap": null,
            "grid_row": null,
            "grid_template_areas": null,
            "grid_template_columns": null,
            "grid_template_rows": null,
            "height": null,
            "justify_content": null,
            "justify_items": null,
            "left": null,
            "margin": null,
            "max_height": null,
            "max_width": null,
            "min_height": null,
            "min_width": null,
            "object_fit": null,
            "object_position": null,
            "order": null,
            "overflow": null,
            "overflow_x": null,
            "overflow_y": null,
            "padding": null,
            "right": null,
            "top": null,
            "visibility": null,
            "width": null
          }
        },
        "f98aeb40b8804ca693d8af3bc486c85e": {
          "model_module": "@jupyter-widgets/base",
          "model_name": "LayoutModel",
          "model_module_version": "1.2.0",
          "state": {
            "_model_module": "@jupyter-widgets/base",
            "_model_module_version": "1.2.0",
            "_model_name": "LayoutModel",
            "_view_count": null,
            "_view_module": "@jupyter-widgets/base",
            "_view_module_version": "1.2.0",
            "_view_name": "LayoutView",
            "align_content": null,
            "align_items": null,
            "align_self": null,
            "border": null,
            "bottom": null,
            "display": null,
            "flex": null,
            "flex_flow": null,
            "grid_area": null,
            "grid_auto_columns": null,
            "grid_auto_flow": null,
            "grid_auto_rows": null,
            "grid_column": null,
            "grid_gap": null,
            "grid_row": null,
            "grid_template_areas": null,
            "grid_template_columns": null,
            "grid_template_rows": null,
            "height": null,
            "justify_content": null,
            "justify_items": null,
            "left": null,
            "margin": null,
            "max_height": null,
            "max_width": null,
            "min_height": null,
            "min_width": null,
            "object_fit": null,
            "object_position": null,
            "order": null,
            "overflow": null,
            "overflow_x": null,
            "overflow_y": null,
            "padding": null,
            "right": null,
            "top": null,
            "visibility": null,
            "width": null
          }
        },
        "78c66b163c134061883c9e640ba107cf": {
          "model_module": "@jupyter-widgets/controls",
          "model_name": "DescriptionStyleModel",
          "model_module_version": "1.5.0",
          "state": {
            "_model_module": "@jupyter-widgets/controls",
            "_model_module_version": "1.5.0",
            "_model_name": "DescriptionStyleModel",
            "_view_count": null,
            "_view_module": "@jupyter-widgets/base",
            "_view_module_version": "1.2.0",
            "_view_name": "StyleView",
            "description_width": ""
          }
        },
        "64e2028abcb44febba501bf73d32342e": {
          "model_module": "@jupyter-widgets/base",
          "model_name": "LayoutModel",
          "model_module_version": "1.2.0",
          "state": {
            "_model_module": "@jupyter-widgets/base",
            "_model_module_version": "1.2.0",
            "_model_name": "LayoutModel",
            "_view_count": null,
            "_view_module": "@jupyter-widgets/base",
            "_view_module_version": "1.2.0",
            "_view_name": "LayoutView",
            "align_content": null,
            "align_items": null,
            "align_self": null,
            "border": null,
            "bottom": null,
            "display": null,
            "flex": null,
            "flex_flow": null,
            "grid_area": null,
            "grid_auto_columns": null,
            "grid_auto_flow": null,
            "grid_auto_rows": null,
            "grid_column": null,
            "grid_gap": null,
            "grid_row": null,
            "grid_template_areas": null,
            "grid_template_columns": null,
            "grid_template_rows": null,
            "height": null,
            "justify_content": null,
            "justify_items": null,
            "left": null,
            "margin": null,
            "max_height": null,
            "max_width": null,
            "min_height": null,
            "min_width": null,
            "object_fit": null,
            "object_position": null,
            "order": null,
            "overflow": null,
            "overflow_x": null,
            "overflow_y": null,
            "padding": null,
            "right": null,
            "top": null,
            "visibility": null,
            "width": null
          }
        },
        "bd4a22e2fa6947b990c19836c03a9bcf": {
          "model_module": "@jupyter-widgets/controls",
          "model_name": "ProgressStyleModel",
          "model_module_version": "1.5.0",
          "state": {
            "_model_module": "@jupyter-widgets/controls",
            "_model_module_version": "1.5.0",
            "_model_name": "ProgressStyleModel",
            "_view_count": null,
            "_view_module": "@jupyter-widgets/base",
            "_view_module_version": "1.2.0",
            "_view_name": "StyleView",
            "bar_color": null,
            "description_width": ""
          }
        },
        "96d2b5f2602649afa44e99014b08272d": {
          "model_module": "@jupyter-widgets/base",
          "model_name": "LayoutModel",
          "model_module_version": "1.2.0",
          "state": {
            "_model_module": "@jupyter-widgets/base",
            "_model_module_version": "1.2.0",
            "_model_name": "LayoutModel",
            "_view_count": null,
            "_view_module": "@jupyter-widgets/base",
            "_view_module_version": "1.2.0",
            "_view_name": "LayoutView",
            "align_content": null,
            "align_items": null,
            "align_self": null,
            "border": null,
            "bottom": null,
            "display": null,
            "flex": null,
            "flex_flow": null,
            "grid_area": null,
            "grid_auto_columns": null,
            "grid_auto_flow": null,
            "grid_auto_rows": null,
            "grid_column": null,
            "grid_gap": null,
            "grid_row": null,
            "grid_template_areas": null,
            "grid_template_columns": null,
            "grid_template_rows": null,
            "height": null,
            "justify_content": null,
            "justify_items": null,
            "left": null,
            "margin": null,
            "max_height": null,
            "max_width": null,
            "min_height": null,
            "min_width": null,
            "object_fit": null,
            "object_position": null,
            "order": null,
            "overflow": null,
            "overflow_x": null,
            "overflow_y": null,
            "padding": null,
            "right": null,
            "top": null,
            "visibility": null,
            "width": null
          }
        },
        "058d0039ea4d4664867238479ad5602d": {
          "model_module": "@jupyter-widgets/controls",
          "model_name": "DescriptionStyleModel",
          "model_module_version": "1.5.0",
          "state": {
            "_model_module": "@jupyter-widgets/controls",
            "_model_module_version": "1.5.0",
            "_model_name": "DescriptionStyleModel",
            "_view_count": null,
            "_view_module": "@jupyter-widgets/base",
            "_view_module_version": "1.2.0",
            "_view_name": "StyleView",
            "description_width": ""
          }
        }
      }
    },
    "gpuClass": "standard"
  },
  "nbformat": 4,
  "nbformat_minor": 0
}