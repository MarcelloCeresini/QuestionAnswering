{
  "cells": [
    {
      "cell_type": "code",
      "execution_count": 1,
      "metadata": {
        "colab": {
          "base_uri": "https://localhost:8080/"
        },
        "id": "ZfNL_Qz3L2Iv",
        "outputId": "aef485dd-be50-4375-a2c8-0815990d38a9"
      },
      "outputs": [],
      "source": [
        "# COLAB ONLY CELLS\n",
        "try:\n",
        "    import google.colab\n",
        "    IN_COLAB = True\n",
        "    !pip3 install transformers  # https://huggingface.co/docs/transformers/installation\n",
        "    !nvidia-smi                 # Check which GPU has been chosen for us\n",
        "    !rm -rf logs\n",
        "    # Download the dataset from personal drive\n",
        "    !mkdir data\n",
        "    !wget --no-check-certificate 'https://docs.google.com/uc?export=download&id=19jcMX4KFwVAp4yvgvw1GXSnSgpoQytqg' -O data/training_set.json\n",
        "except:\n",
        "    IN_COLAB = False"
      ]
    },
    {
      "cell_type": "markdown",
      "metadata": {
        "id": "JT-fSNf0L2Ix"
      },
      "source": [
        "# Question Answering Project"
      ]
    },
    {
      "cell_type": "markdown",
      "metadata": {
        "id": "nN0AAEtkL2Iz"
      },
      "source": [
        "## Data Preprocessing"
      ]
    },
    {
      "cell_type": "markdown",
      "metadata": {
        "id": "eKC7RATHL2Iz"
      },
      "source": [
        "### Imports"
      ]
    },
    {
      "cell_type": "code",
      "execution_count": 2,
      "metadata": {
        "id": "tX8o7g0cL2Iz"
      },
      "outputs": [],
      "source": [
        "%load_ext tensorboard\n",
        "\n",
        "import os\n",
        "import requests\n",
        "import zipfile\n",
        "from tqdm import tqdm\n",
        "import time\n",
        "import random\n",
        "import datetime\n",
        "from IPython.display import display\n",
        "from functools import partial\n",
        "\n",
        "from typing import List, Dict, Callable, Sequence, Tuple\n",
        "\n",
        "from sklearn.metrics import f1_score, confusion_matrix, ConfusionMatrixDisplay\n",
        "\n",
        "import json\n",
        "import numpy as np\n",
        "import pandas as pd\n",
        "import matplotlib.pyplot as plt\n",
        "import tensorflow as tf\n",
        "from tensorflow import keras\n",
        "from tensorflow.keras import layers\n",
        "\n",
        "%matplotlib inline\n",
        "\n",
        "# Fix random seed for reproducibility\n",
        "RANDOM_SEED = 42\n",
        "np.random.seed(RANDOM_SEED)\n",
        "random.seed(RANDOM_SEED)\n",
        "tf.random.set_seed(RANDOM_SEED)\n",
        "\n",
        "############################## CONFIG ###########################\n",
        "SMALL_TRAIN_LEN = 20 # NUMBER OF ARTICLES\n",
        "SMALL_VAL_LEN = 5\n",
        "BATCH_SIZE = 16 # NUMBER OF PARAGRAPH + QUESTION PAIRS\n",
        "VAL_BATCH_SIZE = 4"
      ]
    },
    {
      "cell_type": "markdown",
      "metadata": {
        "id": "ubVaUez8L2I0"
      },
      "source": [
        "### Dataset Analysis"
      ]
    },
    {
      "cell_type": "code",
      "execution_count": 3,
      "metadata": {},
      "outputs": [],
      "source": [
        "ROOT_PATH = os.path.dirname(os.getcwd())"
      ]
    },
    {
      "cell_type": "markdown",
      "metadata": {
        "id": "THVHnsCUb85x"
      },
      "source": [
        "We load the dataset and explore it."
      ]
    },
    {
      "cell_type": "code",
      "execution_count": 4,
      "metadata": {
        "id": "NDfpgk4aL2I1"
      },
      "outputs": [],
      "source": [
        "TRAINING_FILE = os.path.join(ROOT_PATH, 'data', 'training_set.json')\n",
        "with open(TRAINING_FILE, 'r') as f:\n",
        "    questions = json.load(f)"
      ]
    },
    {
      "cell_type": "markdown",
      "metadata": {
        "id": "ljlLWUFUR_XV"
      },
      "source": [
        "The file is a list of articles (identified by the \"title\"), each one divided in paragraphs (identified by the \"context\"), and containing a list of questions (\"qas\"). \n",
        "Each qas has:\n",
        "- \"id\": integer\n",
        "- \"question\": string --> the text of the question\n",
        "- \"answers\": the list of possible answers, with 2 informations:\n",
        "    - \"answer_start\": integer --> the character with whichc the answer starts\n",
        "    - \"text\": string --> the whole text of the answer "
      ]
    },
    {
      "cell_type": "code",
      "execution_count": 5,
      "metadata": {
        "colab": {
          "base_uri": "https://localhost:8080/"
        },
        "id": "k5j8xnHXR_XV",
        "outputId": "31b14708-9e0e-4909-86d7-66c0bf65dcfe"
      },
      "outputs": [
        {
          "name": "stdout",
          "output_type": "stream",
          "text": [
            "TITLE of the article\n",
            "University_of_Notre_Dame \n",
            "\n",
            "(Part of the) TEXT of one of the article's paragraphs\n",
            "Architecturally, the school has a Catholic character. Atop the Main Building's gold dome is a golden ...\n",
            "\n",
            "TEXT of one of the paragraphs' questions\n",
            "To whom did the Virgin Mary allegedly appear in 1858 in Lourdes France? \n",
            "\n",
            "ID of one of the paragraphs' questions\n",
            "5733be284776f41900661182 \n",
            "\n",
            "STARTING CHARACTER NUMBER of one of the questions' answers\n",
            "515 \n",
            "\n",
            "TEXT of one of the questions' answers\n",
            "Saint Bernadette Soubirous \n",
            "\n",
            "VERSION of the dataset\n",
            "1.1\n"
          ]
        }
      ],
      "source": [
        "print(\"TITLE of the article\")\n",
        "print(questions[\"data\"][0][\"title\"], \"\\n\")\n",
        "print(\"(Part of the) TEXT of one of the article's paragraphs\")\n",
        "print(questions[\"data\"][0][\"paragraphs\"][0][\"context\"][:100], \"...\\n\")\n",
        "print(\"TEXT of one of the paragraphs' questions\")\n",
        "print(questions[\"data\"][0][\"paragraphs\"][0][\"qas\"][0][\"question\"], \"\\n\")\n",
        "print(\"ID of one of the paragraphs' questions\")\n",
        "print(questions[\"data\"][0][\"paragraphs\"][0][\"qas\"][0][\"id\"], \"\\n\")\n",
        "print(\"STARTING CHARACTER NUMBER of one of the questions' answers\")\n",
        "print(questions[\"data\"][0][\"paragraphs\"][0][\"qas\"][0][\"answers\"][0][\"answer_start\"], \"\\n\")\n",
        "print(\"TEXT of one of the questions' answers\")\n",
        "print(questions[\"data\"][0][\"paragraphs\"][0][\"qas\"][0][\"answers\"][0][\"text\"], \"\\n\")\n",
        "print(\"VERSION of the dataset\")\n",
        "print(questions[\"version\"])"
      ]
    },
    {
      "cell_type": "code",
      "execution_count": 6,
      "metadata": {
        "colab": {
          "base_uri": "https://localhost:8080/",
          "height": 1000
        },
        "id": "Y6-J8XIQL2I2",
        "outputId": "c412232a-b029-4adb-cffe-937178ffae45"
      },
      "outputs": [
        {
          "name": "stdout",
          "output_type": "stream",
          "text": [
            "The training set contains 442 articles\n",
            "\n",
            "On average, each article contains 42.75 paragraphs...\n",
            "\twith a maximum of 149 paragraphs...\n",
            "\tand a minimum of 5 paragraphs...\n",
            "\tand a standard deviation of 21.69423.\n",
            "\n",
            "On average, each paragraph is 735.78 characters long...\n",
            "\twith a maximum of 3706 chars...\n",
            "\tand a minimum of 151 chars...\n",
            "\tand a standard deviation of 309.96450...\n",
            "\tover a total of 18896 paragraphs.\n",
            "\n",
            "On average, each paragraph contains 4.64 questions...\n",
            "\twith a maximum of 25 questions...\n",
            "\tand a minimum of 1 questions...\n",
            "\tand a standard deviation of 1.68096.\n",
            "\n",
            "On average, each question is 59.57 characters long...\n",
            "\twith a maximum of 25651 chars...\n",
            "\tand a minimum of 1 chars...\n",
            "\tand a standard deviation of 89.02705.\n",
            "\n",
            "On average, each question has 1.00 answers...\n",
            "\twith a maximum of 1 answers...\n",
            "\tand a minimum of 1 answers...\n",
            "\tand a standard deviation of 0.00000...\n",
            "\tover a total of 87599 questions.\n",
            "\n",
            "On average, each answer has 20.15 chars...\n",
            "\twith a maximum of 239 chars...\n",
            "\tand a minimum of 1 chars...\n",
            "\tand a standard deviation of 21.59722...\n",
            "\n",
            "On average, each answer starts at position 319.88 ...\n",
            "\twith a maximum of 3126 ...\n",
            "\tand a minimum of 0 ...\n",
            "\tand a standard deviation of 266.35069...\n"
          ]
        },
        {
          "data": {
            "image/png": "[encoded data removed]",
            "text/plain": [
              "<Figure size 720x720 with 6 Axes>"
            ]
          },
          "metadata": {
            "needs_background": "light"
          },
          "output_type": "display_data"
        }
      ],
      "source": [
        "def get_stats(elemlist:List[float]):\n",
        "    '''\n",
        "    Returns useful stats of list of floats\n",
        "    '''\n",
        "    return  np.average(elemlist), np.max(elemlist),\\\n",
        "            np.min(elemlist), np.std(elemlist)\n",
        "\n",
        "def plot_stats(elemlist:List[float], ax:plt.Axes, title:str):\n",
        "    ax.hist(elemlist)\n",
        "    ax.set_title(title)\n",
        "\n",
        "def print_stats(dataset:Dict, title:str):\n",
        "    # The length of the dataset is the number of articles\n",
        "    print(\"The training set contains {} articles\\n\".format(len(dataset['data'])))\n",
        "    # For each article in the data we extract the number of its paragraphs\n",
        "    paragraphs_len = [ len(article['paragraphs']) for article in dataset['data'] ]\n",
        "    # And then we print some stats on how many paragraphs per article we have\n",
        "    avg_paragraphs_len, max_paragraphs_len, min_paragraphs_len, std_paragraphs_len = \\\n",
        "        get_stats(paragraphs_len)\n",
        "    print(\"On average, each article contains {:.2f} paragraphs...\".format(avg_paragraphs_len))\n",
        "    print(\"\\twith a maximum of {} paragraphs...\".format(max_paragraphs_len))\n",
        "    print(\"\\tand a minimum of {} paragraphs...\".format(min_paragraphs_len))\n",
        "    print(\"\\tand a standard deviation of {:.5f}.\\n\".format(std_paragraphs_len))\n",
        "\n",
        "    # Then we find the length of the text of the paragraphs\n",
        "    contexts_len = [ len(paragraph['context']) for article in dataset['data'] \n",
        "                                            for paragraph in article['paragraphs'] ]\n",
        "    # And print some stats\n",
        "    avg_context_len, max_context_len, min_context_len, std_context_len = \\\n",
        "        get_stats(contexts_len)\n",
        "    print(\"On average, each paragraph is {:.2f} characters long...\".format(avg_context_len))\n",
        "    print(\"\\twith a maximum of {} chars...\".format(max_context_len))\n",
        "    print(\"\\tand a minimum of {} chars...\".format(min_context_len))\n",
        "    print(\"\\tand a standard deviation of {:.5f}...\".format(std_context_len))\n",
        "    # We also add the total number of paragraphs\n",
        "    print(\"\\tover a total of {} paragraphs.\\n\".format(len(contexts_len)))\n",
        "\n",
        "    # Same thing as before: how many questions for each context\n",
        "    questions_len = [ len(paragraph['qas']) for article in dataset['data'] \n",
        "                                            for paragraph in article['paragraphs'] ]\n",
        "    # And print some stats\n",
        "    avg_questions_len, max_questions_len, min_questions_len, std_questions_len = \\\n",
        "        get_stats(questions_len)\n",
        "    print(\"On average, each paragraph contains {:.2f} questions...\".format(avg_questions_len))\n",
        "    print(\"\\twith a maximum of {} questions...\".format(max_questions_len))\n",
        "    print(\"\\tand a minimum of {} questions...\".format(min_questions_len))\n",
        "    print(\"\\tand a standard deviation of {:.5f}.\\n\".format(std_questions_len))\n",
        "\n",
        "    # Same thing as before: how many questions for each context\n",
        "    questions_text_len = [ len(question['question']) for article in dataset['data'] \n",
        "                                            for paragraph in article['paragraphs']\n",
        "                                            for question in paragraph[\"qas\"] ]\n",
        "    # And print some stats\n",
        "    avg_questions_text_len, max_questions_text_len, min_questions_text_len, std_questions_text_len = \\\n",
        "        get_stats(questions_text_len)\n",
        "    print(\"On average, each question is {:.2f} characters long...\".format(avg_questions_text_len))\n",
        "    print(\"\\twith a maximum of {} chars...\".format(max_questions_text_len))\n",
        "    print(\"\\tand a minimum of {} chars...\".format(min_questions_text_len))\n",
        "    print(\"\\tand a standard deviation of {:.5f}.\\n\".format(std_questions_text_len))\n",
        "\n",
        "    # How many answers for each question\n",
        "    answers_len = [ len(question['answers']) for article in dataset['data'] \n",
        "                                            for paragraph in article['paragraphs']\n",
        "                                            for question in paragraph['qas'] ]\n",
        "    # Print some stats\n",
        "    avg_answers_len, max_answers_len, min_answers_len, std_answers_len = \\\n",
        "        get_stats(answers_len)\n",
        "    print(\"On average, each question has {:.2f} answers...\".format(avg_answers_len))\n",
        "    print(\"\\twith a maximum of {} answers...\".format(max_answers_len))\n",
        "    print(\"\\tand a minimum of {} answers...\".format(min_answers_len))\n",
        "    print(\"\\tand a standard deviation of {:.5f}...\".format(std_answers_len))\n",
        "    # Also adding the total number of questions\n",
        "    print(\"\\tover a total of {} questions.\\n\".format(len(answers_len)))\n",
        "\n",
        "    # How many chars for THE answer to each question (since there is ONLY one answer for each question, always)\n",
        "    answers_text_len = [ len(question['answers'][0]['text']) for article in dataset['data'] \n",
        "                                            for paragraph in article['paragraphs']\n",
        "                                            for question in paragraph['qas'] ]\n",
        "    # Print some stats\n",
        "    avg_answers_text_len, max_answers_text_len, min_answers_text_len, std_answers_text_len = \\\n",
        "        get_stats(answers_text_len)\n",
        "    print(\"On average, each answer has {:.2f} chars...\".format(avg_answers_text_len))\n",
        "    print(\"\\twith a maximum of {} chars...\".format(max_answers_text_len))\n",
        "    print(\"\\tand a minimum of {} chars...\".format(min_answers_text_len))\n",
        "    print(\"\\tand a standard deviation of {:.5f}...\\n\".format(std_answers_text_len))\n",
        "\n",
        "    answers_start = [ question['answers'][0]['answer_start'] for article in dataset['data'] \n",
        "                                            for paragraph in article['paragraphs']\n",
        "                                            for question in paragraph['qas'] ]\n",
        "    # Print some stats\n",
        "    avg_answers_start, max_answers_start, min_answers_start, std_answers_start = \\\n",
        "        get_stats(answers_start)\n",
        "    print(\"On average, each answer starts at position {:.2f} ...\".format(avg_answers_start))\n",
        "    print(\"\\twith a maximum of {} ...\".format(max_answers_start))\n",
        "    print(\"\\tand a minimum of {} ...\".format(min_answers_start))\n",
        "    print(\"\\tand a standard deviation of {:.5f}...\".format(std_answers_start))\n",
        "\n",
        "    fig, ((ax1, ax2, ax3), (ax4, ax5, ax6)) = plt.subplots(nrows=2, ncols=3, figsize=(10,10))\n",
        "    fig.suptitle(title, fontsize=18)\n",
        "    plot_stats(paragraphs_len, ax1, 'Paragraphs per article')\n",
        "    plot_stats(contexts_len, ax2, 'Chars per paragraph')\n",
        "    plot_stats(questions_len, ax3, 'Questions per paragraph')\n",
        "    plot_stats(np.sort(questions_text_len)[:-1], ax4, 'Chars per question') # there is one CLEAR outlier with 25k chars, while the mean is 60 and std is 90. We remove it from the plot\n",
        "    # TODO: maybe look into the outlier\n",
        "    # plot_stats(answers_len, ax5, 'Answers per question') # Removed because it's just 1 always\n",
        "    plot_stats(answers_text_len, ax5, 'Chars per answer')\n",
        "    plot_stats(answers_start, ax6, 'Starting char per answer')\n",
        "\n",
        "print_stats(questions, 'Full dataset')"
      ]
    },
    {
      "cell_type": "markdown",
      "metadata": {
        "id": "iWnTi6z2Rp_w"
      },
      "source": [
        "We observe that on the training set there is only one answer for each question. On the tests set there could be multiple answers, but this should only be important when evaluating the model with the evaluation script."
      ]
    },
    {
      "cell_type": "markdown",
      "metadata": {
        "id": "rxWJJFTmcP9T"
      },
      "source": [
        "### Dataset splitting"
      ]
    },
    {
      "cell_type": "markdown",
      "metadata": {
        "id": "B5lMAzGubxnD"
      },
      "source": [
        "We can split the dataset into train and validation based on the articles' titles, so that questions related to one article are all either in the training or in the validation set.\n",
        "\n",
        "We use a 75-25 train-val split and check that the two splits approximately have the same properties."
      ]
    },
    {
      "cell_type": "code",
      "execution_count": 7,
      "metadata": {
        "colab": {
          "base_uri": "https://localhost:8080/"
        },
        "id": "x25AO11zOh6p",
        "outputId": "dea47eab-d4e2-4848-eacf-3353eb3b4f35"
      },
      "outputs": [
        {
          "name": "stdout",
          "output_type": "stream",
          "text": [
            "Using 111 articles for validation and 331 for training\n"
          ]
        }
      ],
      "source": [
        "TRAIN_SPLIT_ELEM = int(len(questions['data']) / 100 * 75)\n",
        "print(\"Using {} articles for validation and {} for training\".format(\n",
        "    len(questions['data']) - TRAIN_SPLIT_ELEM, TRAIN_SPLIT_ELEM)\n",
        ")\n",
        "\n",
        "data = random.sample(questions['data'], len(questions['data'])) # reshuffle the samples"
      ]
    },
    {
      "cell_type": "code",
      "execution_count": 8,
      "metadata": {
        "id": "jiytOzhhexIO"
      },
      "outputs": [],
      "source": [
        "train_dataset = {'data': data[:TRAIN_SPLIT_ELEM]} # recreate the original dataset structure lost by shuffling through the dictionary\n",
        "val_dataset = {'data': data[TRAIN_SPLIT_ELEM:]}\n",
        "\n",
        "# we also create a small training set to test the model while building it, just to speed up\n",
        "\n",
        "small_data = random.sample(train_dataset[\"data\"], SMALL_TRAIN_LEN)\n",
        "small_train_dataset = {'data': small_data}\n",
        "small_val_data = random.sample(val_dataset[\"data\"], SMALL_VAL_LEN)\n",
        "small_val_dataset = {'data': small_val_data}"
      ]
    },
    {
      "cell_type": "code",
      "execution_count": 9,
      "metadata": {
        "colab": {
          "base_uri": "https://localhost:8080/",
          "height": 1000
        },
        "id": "Fnja9-JhgJye",
        "outputId": "f0374cda-a6dd-46db-88e5-beaff110ab5d"
      },
      "outputs": [
        {
          "name": "stdout",
          "output_type": "stream",
          "text": [
            "The training set contains 331 articles\n",
            "\n",
            "On average, each article contains 42.22 paragraphs...\n",
            "\twith a maximum of 149 paragraphs...\n",
            "\tand a minimum of 5 paragraphs...\n",
            "\tand a standard deviation of 21.71547.\n",
            "\n",
            "On average, each paragraph is 741.17 characters long...\n",
            "\twith a maximum of 3706 chars...\n",
            "\tand a minimum of 151 chars...\n",
            "\tand a standard deviation of 308.37702...\n",
            "\tover a total of 13975 paragraphs.\n",
            "\n",
            "On average, each paragraph contains 4.66 questions...\n",
            "\twith a maximum of 25 questions...\n",
            "\tand a minimum of 1 questions...\n",
            "\tand a standard deviation of 1.74980.\n",
            "\n",
            "On average, each question is 59.95 characters long...\n",
            "\twith a maximum of 25651 chars...\n",
            "\tand a minimum of 1 chars...\n",
            "\tand a standard deviation of 102.59986.\n",
            "\n",
            "On average, each question has 1.00 answers...\n",
            "\twith a maximum of 1 answers...\n",
            "\tand a minimum of 1 answers...\n",
            "\tand a standard deviation of 0.00000...\n",
            "\tover a total of 65064 questions.\n",
            "\n",
            "On average, each answer has 19.53 chars...\n",
            "\twith a maximum of 239 chars...\n",
            "\tand a minimum of 1 chars...\n",
            "\tand a standard deviation of 20.41496...\n",
            "\n",
            "On average, each answer starts at position 323.16 ...\n",
            "\twith a maximum of 3126 ...\n",
            "\tand a minimum of 0 ...\n",
            "\tand a standard deviation of 268.00117...\n"
          ]
        },
        {
          "data": {
            "image/png": "[encoded data removed]",
            "text/plain": [
              "<Figure size 720x720 with 6 Axes>"
            ]
          },
          "metadata": {
            "needs_background": "light"
          },
          "output_type": "display_data"
        }
      ],
      "source": [
        "print_stats(train_dataset, 'Train dataset')"
      ]
    },
    {
      "cell_type": "code",
      "execution_count": 10,
      "metadata": {
        "colab": {
          "base_uri": "https://localhost:8080/",
          "height": 1000
        },
        "id": "jYR6x50wiEJy",
        "outputId": "ce67bf1f-75e5-45e1-dc84-85590f8129e6"
      },
      "outputs": [
        {
          "name": "stdout",
          "output_type": "stream",
          "text": [
            "The training set contains 111 articles\n",
            "\n",
            "On average, each article contains 44.33 paragraphs...\n",
            "\twith a maximum of 148 paragraphs...\n",
            "\tand a minimum of 5 paragraphs...\n",
            "\tand a standard deviation of 21.55334.\n",
            "\n",
            "On average, each paragraph is 720.47 characters long...\n",
            "\twith a maximum of 3355 chars...\n",
            "\tand a minimum of 152 chars...\n",
            "\tand a standard deviation of 313.92446...\n",
            "\tover a total of 4921 paragraphs.\n",
            "\n",
            "On average, each paragraph contains 4.58 questions...\n",
            "\twith a maximum of 18 questions...\n",
            "\tand a minimum of 1 questions...\n",
            "\tand a standard deviation of 1.46650.\n",
            "\n",
            "On average, each question is 58.49 characters long...\n",
            "\twith a maximum of 256 chars...\n",
            "\tand a minimum of 1 chars...\n",
            "\tand a standard deviation of 20.36586.\n",
            "\n",
            "On average, each question has 1.00 answers...\n",
            "\twith a maximum of 1 answers...\n",
            "\tand a minimum of 1 answers...\n",
            "\tand a standard deviation of 0.00000...\n",
            "\tover a total of 22535 questions.\n",
            "\n",
            "On average, each answer has 21.93 chars...\n",
            "\twith a maximum of 161 chars...\n",
            "\tand a minimum of 1 chars...\n",
            "\tand a standard deviation of 24.60806...\n",
            "\n",
            "On average, each answer starts at position 310.40 ...\n",
            "\twith a maximum of 2276 ...\n",
            "\tand a minimum of 0 ...\n",
            "\tand a standard deviation of 261.29543...\n"
          ]
        },
        {
          "data": {
            "image/png": "[encoded data removed]",
            "text/plain": [
              "<Figure size 720x720 with 6 Axes>"
            ]
          },
          "metadata": {
            "needs_background": "light"
          },
          "output_type": "display_data"
        }
      ],
      "source": [
        "print_stats(val_dataset, 'Validation dataset')"
      ]
    },
    {
      "cell_type": "markdown",
      "metadata": {
        "id": "88IPWPvCipiQ"
      },
      "source": [
        "The splitting was quite successful and both dataset splits have similar data distributions."
      ]
    },
    {
      "cell_type": "markdown",
      "metadata": {
        "id": "azRkN4BIR_Xb"
      },
      "source": [
        "TODO: PROBLEM --> BERT only accepts fixed size length sentences up to 512 characters long!"
      ]
    },
    {
      "cell_type": "markdown",
      "metadata": {
        "id": "bJAqm78PR_Xb"
      },
      "source": [
        "## Dataset Exploration"
      ]
    },
    {
      "cell_type": "markdown",
      "metadata": {
        "id": "HWU435mkR_Xb"
      },
      "source": [
        "Firstly, the titles of our articles will not be processed because they won't be used to predict possible answers.\n",
        "\n",
        "So, let's directly look at some context, that is, some paragraphs of our articles"
      ]
    },
    {
      "cell_type": "code",
      "execution_count": 11,
      "metadata": {
        "colab": {
          "base_uri": "https://localhost:8080/"
        },
        "id": "5tgpgjQdR_Xb",
        "outputId": "c40166a3-be98-432e-d15d-3c80760bde73"
      },
      "outputs": [
        {
          "name": "stdout",
          "output_type": "stream",
          "text": [
            "When talking about the German language, the term German dialects is only used for the traditional regional varieties. That allows them to be distinguished from the regional varieties of modern standard German.\n"
          ]
        }
      ],
      "source": [
        "article = random.sample(train_dataset[\"data\"], 1)[0]\n",
        "paragraph = random.sample(article[\"paragraphs\"], 1)[0]\n",
        "context = paragraph[\"context\"]\n",
        "print(context)"
      ]
    },
    {
      "cell_type": "markdown",
      "metadata": {
        "id": "-N6oSw3gR_Xb"
      },
      "source": [
        "By repeating the execution of the above cell some number of times, we can see the in general contexts are well defined and without evident formatting problems. This means that we should be able to feed them directly into our tokenizer"
      ]
    },
    {
      "cell_type": "markdown",
      "metadata": {
        "id": "enN_mbTkR_Xc"
      },
      "source": [
        "Then let's have a look at our questions"
      ]
    },
    {
      "cell_type": "code",
      "execution_count": 12,
      "metadata": {
        "colab": {
          "base_uri": "https://localhost:8080/"
        },
        "id": "RYx3T_wjR_Xc",
        "outputId": "a8ded56e-4ff6-40b6-82d0-6140980c5ee0"
      },
      "outputs": [
        {
          "name": "stdout",
          "output_type": "stream",
          "text": [
            "China and what other permanent member of the Security Council abstained from the vote on the referral resolution?\n"
          ]
        }
      ],
      "source": [
        "article = random.sample(train_dataset[\"data\"], 1)[0]\n",
        "paragraph = random.sample(article[\"paragraphs\"], 1)[0]\n",
        "question_and_answer = random.sample(paragraph[\"qas\"], 1)[0]\n",
        "question = question_and_answer[\"question\"]\n",
        "print(question)"
      ]
    },
    {
      "cell_type": "markdown",
      "metadata": {
        "id": "GHXmdvaHR_Xc"
      },
      "source": [
        "By looking at the questions, we can see that also here there are no evident formatting problems. Moreover, we can see that all the questions focus around dates and/or Named Entities. This means that we will NOT be able to discard \"low frequency words\" from our tokenization step, because they are the key focus of our task"
      ]
    },
    {
      "cell_type": "markdown",
      "metadata": {
        "id": "H4z5DQs9R_Xc"
      },
      "source": [
        "And finally the answers"
      ]
    },
    {
      "cell_type": "code",
      "execution_count": 13,
      "metadata": {
        "colab": {
          "base_uri": "https://localhost:8080/"
        },
        "id": "LloFr7P0R_Xc",
        "outputId": "1c202249-8e9c-436c-dd95-c31c497f70fe"
      },
      "outputs": [
        {
          "name": "stdout",
          "output_type": "stream",
          "text": [
            "anthocyanins\n"
          ]
        }
      ],
      "source": [
        "article = random.sample(train_dataset[\"data\"], 1)[0]\n",
        "paragraph = random.sample(article[\"paragraphs\"], 1)[0]\n",
        "question_and_answer = random.sample(paragraph[\"qas\"], 1)[0]\n",
        "answer_struct = random.sample(question_and_answer[\"answers\"], 1)[0]\n",
        "answer = answer_struct[\"text\"]\n",
        "print(answer)"
      ]
    },
    {
      "cell_type": "markdown",
      "metadata": {
        "id": "xIA8car2R_Xc"
      },
      "source": [
        "Also in this case, no problems with formatting (also because they are pieces of \"contexts\")"
      ]
    },
    {
      "cell_type": "markdown",
      "metadata": {
        "id": "F3HL3d5tR_Xc"
      },
      "source": [
        "### Preprocessing for BERT"
      ]
    },
    {
      "cell_type": "markdown",
      "metadata": {
        "id": "ZCHtLvd02zRp"
      },
      "source": [
        "To tackle this problem, we decided to use BERT, particularly the version stored on Hugging Face, which has a rich documentation and powerful pre-implemented features."
      ]
    },
    {
      "cell_type": "code",
      "execution_count": 14,
      "metadata": {
        "colab": {
          "base_uri": "https://localhost:8080/",
          "height": 145,
          "referenced_widgets": [
            "4626b2f2712745178b44346e67eba525",
            "00bbac2f36884f34a0928ad4f8c6c94b",
            "b0f4bea053864703bef3e0a93ed8864b",
            "6898d9d1ab3e4b3e8337e993e5b0f841",
            "f551ff69ec93455492fa3a7ab9c7b645",
            "0ef097d2bd3c40778ba164cb100e1385",
            "666c3809d3b444b18843047992153af2",
            "42a48fc1584e4ce09c23923978e8d087",
            "1b63ce61fb7a4eb28491a27bdcf0a4df",
            "eaf387021ce54630ac45b64ed72bdaa0",
            "05d048f2ad174011882fe9422aae1d12",
            "fe05bbbc9b2543f59d1391f210ae0377",
            "e3f4f8611c6c4378bae9968665fc6a3b",
            "6ea8b340c6af41fca1fe491c9d6f71ad",
            "fcc728487d7d48c984d20fe8040c8c38",
            "a6eb673a2bed4f0ca60575ea64290352",
            "21cad33f9b9f4820be1504215b7e0995",
            "c1973e5617d041329ae37ad2bc62ddc8",
            "6d38d99556264fb0905fd715aaa3fb01",
            "77de43920fea49e4abcd83e954779c4c",
            "2633393dca6c40ce953bfbc0ec0f4d3e",
            "4c41785a60fd4014a6e70046fecd4673",
            "213807b80334433e82f2ac5a1228cdd8",
            "000e5b9e589d409297081806483dec8a",
            "2ec1d7b7af3a4023b91cc5659acb9b98",
            "dcf72092ad8243b58546668ed4fc4109",
            "653997498445414e9b19b3a64b320407",
            "9e9cda41ec00440bac184d12814c53a7",
            "348426ad7e0d48d3ab4a088194a3cc98",
            "d71979c713114708a3b423dcd5ac45f8",
            "07b3627cea864d10a2383cf1f4db4b0d",
            "026ffcdc2d604a75a3aec57c1f6d4a3f",
            "8966c5d1110947828a102a61dd486dde",
            "743aaf854fed43788b3af5a8cfaf30b4",
            "db6fa64e21924e01ad8f1263aa3f9954",
            "f3b8127b44074cd0b6f55edc957392a8",
            "2b482617610240f1ba5841b8ac66d0de",
            "ed693f0ffc38476a9f81b9b4cc7c34a2",
            "7739f0e78aea4310a521436b840ff4ee",
            "6a1d837259954f098850ecfd65aff423",
            "a1dcfd98398249479556b251a9a23e02",
            "cab5174c88804cdab5c492daaf3414cb",
            "28133b6c7cab4746856c84521db93d78",
            "2150ae3e7c1d440abdbad46de53e5a02"
          ]
        },
        "id": "aWebn_d7R_Xc",
        "outputId": "aa2ae4ea-836a-4330-e02b-2b003d71151d"
      },
      "outputs": [],
      "source": [
        "from transformers import DistilBertTokenizerFast, TFDistilBertModel\n",
        "# We are using a tokenizer that derives from a \"normal\" (and not \"large\") BERT model\n",
        "# moreover, it ignores casing (uncased)\n",
        "tokenizer = DistilBertTokenizerFast.from_pretrained('distilbert-base-uncased') # TODO: cased or uncased?"
      ]
    },
    {
      "cell_type": "markdown",
      "metadata": {
        "id": "O4YHXC4e-ad3"
      },
      "source": [
        "BERT's tokenizer is based on WordPiece, which is an algorithm to automatically build a dictionary given a large corpus of text. WordPiece adds to the dictionary every UNICODE character, then adds the most frequent groups of 2-grams, then the 3-grams and so on, until a maximum vocabulary size is reached. \n",
        "\n",
        "When a word needs to be tokenized, if the entire word is not present in the dictionary, it gets decomposed into sub-words and so on, until either all sub-words are in the dictionary or the word has become a sequence of characters. \n",
        "\n",
        "Basically, this means that we have no OOVs, because we always have a way to represent a word within the dictionary (a list of character tokens)."
      ]
    },
    {
      "cell_type": "markdown",
      "metadata": {
        "id": "rMY5UbohR_Xd"
      },
      "source": [
        "Since BERT is pretrained with sentence completion, it ALWAYS expects [CLS] and [SEP] as special tokens:\n",
        "- [CLS] at the beginning of the sentence\n",
        "- [SEP] at the beginning of the second sentence and, if there is only one sentence because we are doing another task, at the end of the first and only sentence\n",
        "\n",
        "For example, let's use the answer above and see how it tokenizes it:"
      ]
    },
    {
      "cell_type": "code",
      "execution_count": 15,
      "metadata": {
        "colab": {
          "base_uri": "https://localhost:8080/"
        },
        "id": "0jXis7B8R_Xd",
        "outputId": "43ffb03a-aa15-4594-c334-d1ea38a5c378"
      },
      "outputs": [
        {
          "name": "stdout",
          "output_type": "stream",
          "text": [
            "anthocyanins\n",
            "['[CLS]', 'ant', '##ho', '##cy', '##ani', '##ns', '[SEP]']\n"
          ]
        }
      ],
      "source": [
        "answer_final = \"[CLS]\" + answer + \"[SEP]\"\n",
        "tokenized_answer = tokenizer.tokenize(answer_final)\n",
        "print(answer)\n",
        "print(tokenized_answer)"
      ]
    },
    {
      "cell_type": "markdown",
      "metadata": {
        "id": "gKTZMCuvR_Xd"
      },
      "source": [
        "For example, *William Herschel* is tokenized into `['[CLS]', 'william', 'hers', '##chel', '[SEP]']`\n",
        "\n",
        "`'##chel'` means that *Herschel* was an OOV for the vocabulary of BERT, so it has been divided into subwords to still be able to give significant embeddings to the word.\n",
        "\n",
        "In the vocabulary, these tokens have the following indices:"
      ]
    },
    {
      "cell_type": "code",
      "execution_count": 16,
      "metadata": {
        "colab": {
          "base_uri": "https://localhost:8080/"
        },
        "id": "NWJh1qbSR_Xd",
        "outputId": "eab1fc2d-e4f5-44ca-e20e-4e4cf0879bf4"
      },
      "outputs": [
        {
          "name": "stdout",
          "output_type": "stream",
          "text": [
            "[101, 14405, 6806, 5666, 7088, 3619, 102]\n"
          ]
        }
      ],
      "source": [
        "tokenized_text = tokenizer.tokenize(answer_final)\n",
        "# Convert the tokens to ids of the BERT vocab\n",
        "indexed_tokens = tokenizer.convert_tokens_to_ids(tokenized_text)\n",
        "print(indexed_tokens)\n",
        "# We will need to add a segment_id (BERT was trained with two sentences, sentence 0 and sentence 1)\n",
        "# segments_ids = [1] * len(tokenized_text)"
      ]
    },
    {
      "cell_type": "markdown",
      "metadata": {
        "id": "8P58UpQ7R_Xe"
      },
      "source": [
        "`tokenizer.encode()` will automatically produce the sequence of indices with no additional steps.\n",
        "\n",
        "We have an additional problem to take care of: the maximum input sequence length in our model is 512, while some paragraphs may have more words."
      ]
    },
    {
      "cell_type": "code",
      "execution_count": 17,
      "metadata": {
        "colab": {
          "base_uri": "https://localhost:8080/"
        },
        "id": "-WXo05SGR_Xe",
        "outputId": "fbade1cc-443a-4130-e4b2-61c705b51cd7"
      },
      "outputs": [
        {
          "name": "stderr",
          "output_type": "stream",
          "text": [
            "  7%|▋         | 24/331 [00:00<00:04, 68.69it/s]Token indices sequence length is longer than the specified maximum sequence length for this model (529 > 512). Running this sequence through the model will result in indexing errors\n",
            "100%|██████████| 331/331 [00:05<00:00, 62.19it/s]"
          ]
        },
        {
          "name": "stdout",
          "output_type": "stream",
          "text": [
            "The longest paragraph contains 855 words\n"
          ]
        },
        {
          "name": "stderr",
          "output_type": "stream",
          "text": [
            "\n"
          ]
        }
      ],
      "source": [
        "lengths = []\n",
        "from tqdm import tqdm\n",
        "for article in tqdm(train_dataset[\"data\"]):\n",
        "    for paragraph in article[\"paragraphs\"]:\n",
        "        # Tokenize and add special tokens to all our paragraphs (the longer parts of the sentences that we need to encode)\n",
        "        input_ids = tokenizer.encode(paragraph[\"context\"], add_special_tokens=True)\n",
        "        # Save the length of the tokenized sentence\n",
        "        lengths.append(len(input_ids))\n",
        "MAX_LEN = max(lengths)\n",
        "print(\"The longest paragraph contains {} words\".format(MAX_LEN))"
      ]
    },
    {
      "cell_type": "code",
      "execution_count": 18,
      "metadata": {
        "colab": {
          "base_uri": "https://localhost:8080/"
        },
        "id": "fZ2uYcgkR_Xe",
        "outputId": "76a12097-bb9c-4acf-c4c1-d7bf67ebc7b9"
      },
      "outputs": [
        {
          "name": "stdout",
          "output_type": "stream",
          "text": [
            "Total exceeding sentences:  16\n",
            "Percentage out of total number of paragraphs (13975): 0.00114%\n"
          ]
        }
      ],
      "source": [
        "exceeding_sentences = (np.asarray(lengths) > 512).sum()\n",
        "print(\"Total exceeding sentences: \", exceeding_sentences)\n",
        "print(\"Percentage out of total number of paragraphs ({}): {:.5f}%\".format(len(lengths), exceeding_sentences/len(lengths)))"
      ]
    },
    {
      "cell_type": "markdown",
      "metadata": {
        "id": "zOffytoxR_Xe"
      },
      "source": [
        "The longest sentence has more than 512 tokens. Since BERT only accepts up to 512 tokens, we need to decide if we want to truncate the 16 longest sentences or maybe split them? TODO"
      ]
    },
    {
      "cell_type": "markdown",
      "metadata": {
        "id": "lZoACo_LR_Xe"
      },
      "source": [
        "Moreover, we will feed BERT with paragraph + question, so the two combined should be < than 512 tokens combined"
      ]
    },
    {
      "cell_type": "code",
      "execution_count": 19,
      "metadata": {
        "colab": {
          "base_uri": "https://localhost:8080/"
        },
        "id": "yjeHCl78R_Xe",
        "outputId": "e55092e3-ccbb-450a-9bc7-9b5708d2bfa9"
      },
      "outputs": [
        {
          "name": "stderr",
          "output_type": "stream",
          "text": [
            "100%|██████████| 331/331 [00:26<00:00, 12.71it/s]"
          ]
        },
        {
          "name": "stdout",
          "output_type": "stream",
          "text": [
            "\n",
            "Max length of the pairs:  870\n",
            "Total exceeding pairs:  95\n",
            "Percentage out of total number of pairs (65064): 0.00146%\n"
          ]
        },
        {
          "name": "stderr",
          "output_type": "stream",
          "text": [
            "\n"
          ]
        }
      ],
      "source": [
        "\n",
        "lengths_pairs = []\n",
        "for article in tqdm(train_dataset[\"data\"]):\n",
        "    for paragraph in article[\"paragraphs\"]:\n",
        "        for question_and_answer in paragraph[\"qas\"]:\n",
        "            # For question answering with BERT we need to encode both question and context, and this is the way in which HuggingFace's BertTokenizer does it\n",
        "            encoded_inputs = tokenizer(\n",
        "                question_and_answer[\"question\"], \n",
        "                paragraph[\"context\"],\n",
        "                return_attention_mask=False, \n",
        "                return_token_type_ids=False)\n",
        "            # It returns both the token ids, the type (sentence 0 or sentence 1) and the mask (if it's real or padding) --> for length measuring they're not needed\n",
        "            lengths_pairs.append(len(encoded_inputs[\"input_ids\"]))\n",
        "\n",
        "MAX_LEN_PAIRS = max(lengths_pairs)\n",
        "exceeding_pairs = (np.asarray(lengths_pairs) > 512).sum()\n",
        "print()\n",
        "print(\"Max length of the pairs: \", MAX_LEN_PAIRS)\n",
        "print(\"Total exceeding pairs: \", exceeding_pairs)\n",
        "print(\"Percentage out of total number of pairs ({}): {:.5f}%\".format(len(lengths_pairs), exceeding_pairs/len(lengths_pairs)))"
      ]
    },
    {
      "cell_type": "markdown",
      "metadata": {
        "id": "92H6xZibR_Xe"
      },
      "source": [
        "We can see that only 95 pairs, a very small percentage (0.00146%) actually exceeds 512 tokens (comprehensive of [CLS] and [SEP] special tokens)"
      ]
    },
    {
      "cell_type": "code",
      "execution_count": 20,
      "metadata": {
        "colab": {
          "base_uri": "https://localhost:8080/",
          "height": 265
        },
        "id": "UuMsMtQlR_Xf",
        "outputId": "effc5562-e3cc-4c67-cd0e-73c0db616083"
      },
      "outputs": [
        {
          "data": {
            "image/png": "[encoded data removed]",
            "text/plain": [
              "<Figure size 432x288 with 1 Axes>"
            ]
          },
          "metadata": {
            "needs_background": "light"
          },
          "output_type": "display_data"
        }
      ],
      "source": [
        "plt.hist(lengths_pairs, bins=100)\n",
        "plt.vlines(x=512, ymin=0, ymax=5000, linestyles='dashed', colors='r')\n",
        "plt.text(525, 1000, '512 (max sequence len)')\n",
        "plt.show()"
      ]
    },
    {
      "cell_type": "markdown",
      "metadata": {
        "id": "GygYjie3R_Xf"
      },
      "source": [
        "The following plot suggests that we could greatly reduce the dimension of the model by reducing the size of the input, without losing too many pairs due to truncation. If we could find an effective way of truncating sentences (eg. only passing the part of the paragraph that more probably contains the answer), this could speed up the training of the model.\n",
        "\n",
        "For example: by reducing input size from 512 to 400 (~22% less) we only lose ~0.006% more pairs"
      ]
    },
    {
      "cell_type": "code",
      "execution_count": 21,
      "metadata": {
        "colab": {
          "base_uri": "https://localhost:8080/",
          "height": 265
        },
        "id": "Qu8lMWJJR_Xf",
        "outputId": "2bdc02cb-cb91-4708-e609-4adb8025144d"
      },
      "outputs": [
        {
          "data": {
            "image/png": "[encoded data removed]",
            "text/plain": [
              "<Figure size 432x288 with 1 Axes>"
            ]
          },
          "metadata": {
            "needs_background": "light"
          },
          "output_type": "display_data"
        }
      ],
      "source": [
        "counts = []\n",
        "low_bound = 400\n",
        "for i in range(low_bound, 512):\n",
        "     counts.append((np.asarray(lengths_pairs) > i).sum()/len(lengths_pairs))\n",
        "plt.scatter(list(range(low_bound, 512)), counts)\n",
        "plt.show()"
      ]
    },
    {
      "cell_type": "markdown",
      "metadata": {
        "id": "Y_w11TsDR_Xf"
      },
      "source": [
        "Now we do the same for the answers"
      ]
    },
    {
      "cell_type": "code",
      "execution_count": 22,
      "metadata": {
        "colab": {
          "base_uri": "https://localhost:8080/"
        },
        "id": "iQ8fdVTkR_Xf",
        "outputId": "14caccff-370f-474c-9bcb-3984695d5e93"
      },
      "outputs": [
        {
          "name": "stderr",
          "output_type": "stream",
          "text": [
            "100%|██████████| 331/331 [00:02<00:00, 138.54it/s]"
          ]
        },
        {
          "name": "stdout",
          "output_type": "stream",
          "text": [
            "\n",
            "Max length of the answers:  66\n"
          ]
        },
        {
          "name": "stderr",
          "output_type": "stream",
          "text": [
            "\n"
          ]
        }
      ],
      "source": [
        "from tqdm import tqdm\n",
        "lengths_answers = []\n",
        "for article in tqdm(train_dataset[\"data\"]):\n",
        "    for paragraph in article[\"paragraphs\"]:\n",
        "        for question_and_answer in paragraph[\"qas\"]:\n",
        "            # For question answering with BERT we need to encode both question and context, and this is the way in which HuggingFace's BertTokenizer does it\n",
        "            encoded_answers = tokenizer(\n",
        "                question_and_answer[\"answers\"][0][\"text\"],\n",
        "                return_attention_mask=False, \n",
        "                return_token_type_ids=False)\n",
        "            # it returns both the token ids, the type (sentence 0 or sentence 1) and the mask (if it's real or padding) --> for length measuring they're not needed\n",
        "            lengths_answers.append(len(encoded_answers[\"input_ids\"]))\n",
        "\n",
        "MAX_LEN_ANSWERS = max(lengths_answers)\n",
        "print()\n",
        "print(\"Max length of the answers: \", MAX_LEN_ANSWERS)"
      ]
    },
    {
      "cell_type": "markdown",
      "metadata": {
        "id": "QSj1HyEPFVQx"
      },
      "source": [
        "We decided that the best solution for now was to simply truncate the sequences that are longer than 512 tokens. This means that some of the paragraphs will not be read entirely by the model, which could be a problem for some questions."
      ]
    },
    {
      "cell_type": "code",
      "execution_count": 23,
      "metadata": {
        "id": "JCEuqEMIR_Xf"
      },
      "outputs": [],
      "source": [
        "MAX_LEN_PAIRS = 512\n",
        "\n",
        "def find_start_end_token_one_hot_encoded(starting_char: int, answer_len: int, offsets: List[Tuple[int]]) -> int:\n",
        "    '''\n",
        "    TODO: document this!!\n",
        "    '''\n",
        "    result = {\n",
        "        \"label_S\": np.zeros(len(offsets)),\n",
        "        \"label_E\": np.zeros(len(offsets))\n",
        "    }\n",
        "\n",
        "    for i in range(1, len(offsets)): # we skip the first token, [CLS], that has (0,0) as a tuple\n",
        "        # We cycle through all the tokens of the question, until we find (0,0), which determines the separator\n",
        "        if offsets[i] == (0,0): # The [SEP] special char --> this indicates the beginning of the context\n",
        "            for j in range(1, len(offsets)-i-1): # We skip the first and the last tokens, both special tokens\n",
        "                # If the starting char is in the interval, the index (j) of its position inside the context, \n",
        "                # plus the length of the question (i) is the right index\n",
        "                if (starting_char >= offsets[i+j][0]) and (starting_char <= offsets[i+j][1]):\n",
        "                    result[\"label_S\"][i+j] += 1\n",
        "                # if the ending char (starting + length -1) is in the interval, same as above\n",
        "                if (starting_char + answer_len - 1 >= offsets[i+j][0]) and (starting_char + answer_len - 1 < offsets[i+j][1]):\n",
        "                    result[\"label_E\"][i+j] += 1\n",
        "            return result\n",
        "\n",
        "def create_data_for_dataset(data):\n",
        "    '''\n",
        "    TODO: document this!!\n",
        "    '''\n",
        "    features = []\n",
        "    labels = []\n",
        "\n",
        "    for article in tqdm(data[\"data\"]):\n",
        "        for paragraph in article[\"paragraphs\"]:\n",
        "            for question_and_answer in paragraph[\"qas\"]:\n",
        "                ### QUESTION AND CONTEXT TOKENIZATION ###\n",
        "                # For question answering with BERT we need to encode both \n",
        "                # question and context, and this is the way in which \n",
        "                # HuggingFace's BertTokenizer does it.\n",
        "                # The tokenizer returns a dictionary containing all the information we need\n",
        "                encoded_inputs = tokenizer(\n",
        "                    question_and_answer[\"question\"],    # First we pass the question\n",
        "                    paragraph[\"context\"],               # Then the context\n",
        "                    max_length = MAX_LEN_PAIRS,         # We want to pad and truncate to this length\n",
        "                    truncation = True,\n",
        "                    padding = 'max_length',             # Pads all sequences to 512.\n",
        "                                                        # If \"True\" it would pad to the longest sentence in the batch \n",
        "                                                        # (in this case we only use 1 sentence, so no padding at all)\n",
        "                    # return_token_type_ids = True,     # IF USING BERT, DistilBert does not need it \n",
        "                    return_token_type_ids = False,      # Return if the token is from sentence 0 or sentence 1 \n",
        "                    return_attention_mask = True,       # Return if it's a pad token or not\n",
        "                    return_offsets_mapping = True       # Really important --> returns each token's first and last char position in the original sentence \n",
        "                )\n",
        "                \n",
        "                ### MAPPING OF THE START OF THE ANSWER BETWEEN CHARS AND TOKENS ###\n",
        "                # We want to pass from the starting position in chars to the starting position in tokens\n",
        "                label = find_start_end_token_one_hot_encoded(\n",
        "                    # We pass as starting char the one from the database\n",
        "                    starting_char = question_and_answer[\"answers\"][0][\"answer_start\"],\n",
        "                    # Also the length of the answer in chars\n",
        "                    answer_len = len(question_and_answer[\"answers\"][0][\"text\"]),\n",
        "                    # And also the inputs offset mapping just recieved from the tokenizer\n",
        "                    offsets = encoded_inputs[\"offset_mapping\"]\n",
        "                )\n",
        "                \n",
        "                encoded_inputs.pop(\"offset_mapping\", None) # Removes the offset mapping, not useful anymore \n",
        "                                                           # (\"None\" is used because otherwise KeyError could be raised if the key wasn't present)\n",
        "                features.append(encoded_inputs)\n",
        "                labels.append(label)\n",
        "\n",
        "                # DO NOT KNOW IF IT IS NEEDED\n",
        "                '''\n",
        "                ### ANSWER TOKENIZATION ###\n",
        "                # use the same tokenizer also to tokenize the answers\n",
        "                encoded_answer = tokenizer(\n",
        "                    question_and_answer[\"answers\"][0][\"text\"],  # here we only need to pass the answer\n",
        "                    max_length=MAX_LEN_ANSWERS,\n",
        "                    truncation = True,\n",
        "                    padding = 'max_length',\n",
        "                    add_special_tokens = False,                 # the answer will only be used for the loss, not as input to the model, it does not need special tokens [CLS] and [SEP]\n",
        "                    return_token_type_ids = False,              # only one sentence\n",
        "                    return_attention_mask = True)               # still interested in padding tokens\n",
        "                \n",
        "                # we add to the dictionary of the pair question-context the token ids of the answer and its mask\n",
        "                encoded_inputs[\"answer_ids\"] = encoded_answer[\"input_ids\"]\n",
        "                encoded_inputs[\"answer_mask\"] = encoded_answer[\"attention_mask\"]\n",
        "                '''\n",
        "\n",
        "    print(\"Creating dataset\")\n",
        "    return tf.data.Dataset.from_tensor_slices((\n",
        "        pd.DataFrame.from_dict(features).to_dict(orient=\"list\"),  # dataframe for features \n",
        "        pd.DataFrame.from_dict(labels).to_dict(orient=\"list\")                                                    # dataframe for labels \n",
        "    ))"
      ]
    },
    {
      "cell_type": "markdown",
      "metadata": {
        "id": "-ishgm19R_Xg"
      },
      "source": [
        "Now we have a structure of question - context pairs + answers, and we can create a dataset"
      ]
    },
    {
      "cell_type": "code",
      "execution_count": 24,
      "metadata": {
        "colab": {
          "base_uri": "https://localhost:8080/"
        },
        "id": "OA4fRVeTR_Xg",
        "outputId": "badd980d-f49a-4465-af33-8f90e45ce5e4"
      },
      "outputs": [
        {
          "name": "stderr",
          "output_type": "stream",
          "text": [
            "100%|██████████| 20/20 [00:02<00:00,  6.95it/s]\n"
          ]
        },
        {
          "name": "stdout",
          "output_type": "stream",
          "text": [
            "Creating dataset\n"
          ]
        },
        {
          "name": "stderr",
          "output_type": "stream",
          "text": [
            "2022-01-09 15:17:07.758294: I tensorflow/stream_executor/cuda/cuda_gpu_executor.cc:939] successful NUMA node read from SysFS had negative value (-1), but there must be at least one NUMA node, so returning NUMA node zero\n",
            "2022-01-09 15:17:07.833236: I tensorflow/stream_executor/cuda/cuda_gpu_executor.cc:939] successful NUMA node read from SysFS had negative value (-1), but there must be at least one NUMA node, so returning NUMA node zero\n",
            "2022-01-09 15:17:07.834222: I tensorflow/stream_executor/cuda/cuda_gpu_executor.cc:939] successful NUMA node read from SysFS had negative value (-1), but there must be at least one NUMA node, so returning NUMA node zero\n",
            "2022-01-09 15:17:07.836331: I tensorflow/core/platform/cpu_feature_guard.cc:151] This TensorFlow binary is optimized with oneAPI Deep Neural Network Library (oneDNN) to use the following CPU instructions in performance-critical operations:  AVX2 FMA\n",
            "To enable them in other operations, rebuild TensorFlow with the appropriate compiler flags.\n",
            "2022-01-09 15:17:07.838472: I tensorflow/stream_executor/cuda/cuda_gpu_executor.cc:939] successful NUMA node read from SysFS had negative value (-1), but there must be at least one NUMA node, so returning NUMA node zero\n",
            "2022-01-09 15:17:07.839715: I tensorflow/stream_executor/cuda/cuda_gpu_executor.cc:939] successful NUMA node read from SysFS had negative value (-1), but there must be at least one NUMA node, so returning NUMA node zero\n",
            "2022-01-09 15:17:07.840645: I tensorflow/stream_executor/cuda/cuda_gpu_executor.cc:939] successful NUMA node read from SysFS had negative value (-1), but there must be at least one NUMA node, so returning NUMA node zero\n",
            "2022-01-09 15:17:08.569106: I tensorflow/stream_executor/cuda/cuda_gpu_executor.cc:939] successful NUMA node read from SysFS had negative value (-1), but there must be at least one NUMA node, so returning NUMA node zero\n",
            "2022-01-09 15:17:08.569413: I tensorflow/stream_executor/cuda/cuda_gpu_executor.cc:939] successful NUMA node read from SysFS had negative value (-1), but there must be at least one NUMA node, so returning NUMA node zero\n",
            "2022-01-09 15:17:08.569685: I tensorflow/stream_executor/cuda/cuda_gpu_executor.cc:939] successful NUMA node read from SysFS had negative value (-1), but there must be at least one NUMA node, so returning NUMA node zero\n",
            "2022-01-09 15:17:08.570031: W tensorflow/core/common_runtime/gpu/gpu_bfc_allocator.cc:39] Overriding allow_growth setting because the TF_FORCE_GPU_ALLOW_GROWTH environment variable is set. Original config value was 0.\n",
            "2022-01-09 15:17:08.570309: I tensorflow/core/common_runtime/gpu/gpu_device.cc:1525] Created device /job:localhost/replica:0/task:0/device:GPU:0 with 3635 MB memory:  -> device: 0, name: NVIDIA GeForce RTX 2060, pci bus id: 0000:01:00.0, compute capability: 7.5\n",
            "100%|██████████| 5/5 [00:00<00:00,  6.99it/s]\n"
          ]
        },
        {
          "name": "stdout",
          "output_type": "stream",
          "text": [
            "Creating dataset\n"
          ]
        }
      ],
      "source": [
        "# create the datasets\n",
        "#####################################################################\n",
        " ######## TODO: CHANGE LINE BELOW WITH \"train_dataset\" #############\n",
        "#####################################################################\n",
        "train_ds = create_data_for_dataset(small_train_dataset)\n",
        "val_ds = create_data_for_dataset(small_val_dataset)"
      ]
    },
    {
      "cell_type": "code",
      "execution_count": 25,
      "metadata": {
        "colab": {
          "base_uri": "https://localhost:8080/"
        },
        "id": "iB-Xxo7eR_Xg",
        "outputId": "18ac8af6-96b6-4df0-807d-989086956dd4"
      },
      "outputs": [
        {
          "name": "stdout",
          "output_type": "stream",
          "text": [
            "dict_keys(['attention_mask', 'input_ids'])\n",
            "dict_keys(['label_S', 'label_E'])\n"
          ]
        }
      ],
      "source": [
        "for sample in train_ds.take(1):\n",
        "    print(sample[0].keys())                    # dict keys from the input to the transformer\n",
        "    print(sample[1].keys())"
      ]
    },
    {
      "cell_type": "markdown",
      "metadata": {
        "id": "ACGXlLOwOsB2"
      },
      "source": [
        "## Training"
      ]
    },
    {
      "cell_type": "markdown",
      "metadata": {
        "id": "10Ddv1HbR_Xg"
      },
      "source": [
        "So now our data structure is a dataset:\n",
        "- features:\n",
        "    - input_ids: List[int]: token ids of question + context\n",
        "    <!-- - token_type_ids: List[int]: specifies if the token is from sentence 0 or sentence 1 -->\n",
        "    - attention_mask: List[int]: specifies if it's padding or not\n",
        "- labels:\n",
        "    - answer_start/end:  specifies the position of the initial and final answer's token inside the question + context array of tokens\n",
        "<!-- - offset_mapping: List[Tuple[int]] start and end char of each token: for pairs of sentences the Tuple (0, 0) signifies both the [CLS] and the [SEP] tokens, and can be exploited to see if we are in the first or second sentence -->\n"
      ]
    },
    {
      "cell_type": "code",
      "execution_count": 26,
      "metadata": {
        "colab": {
          "base_uri": "https://localhost:8080/",
          "height": 156,
          "referenced_widgets": [
            "6f07d2a0df864bda9f6dc2cc261e6e26",
            "5325453be4394e628ee98484b7ef372d",
            "2671b49323f7421589b12d7d3f43eb6c",
            "73101e40e8e94aa88668847b9eaa8666",
            "c177289524bd494f8d89c34de17b913e",
            "c541b0573f704d7a8e44f7b81162dee3",
            "c1fbbccc8fcb47059c4c26b675da0fa9",
            "0f123f515db94cdba8eac2a242449ba7",
            "09b79fee630247fc86de33aba9731b85",
            "eba32135463344d0ba823c84453f5316",
            "cc10cd9841bd47c49c197c5bc72cff6c"
          ]
        },
        "id": "SIl3VqnXR_Xg",
        "outputId": "d425bc40-7985-468b-9b28-b250d6b2e888"
      },
      "outputs": [
        {
          "name": "stderr",
          "output_type": "stream",
          "text": [
            "2022-01-09 15:17:14.913114: W tensorflow/python/util/util.cc:368] Sets are not currently considered sequences, but this may change in the future, so consider avoiding using them.\n",
            "2022-01-09 15:17:16.421410: W tensorflow/core/framework/cpu_allocator_impl.cc:82] Allocation of 93763584 exceeds 10% of free system memory.\n",
            "Some layers from the model checkpoint at distilbert-base-uncased were not used when initializing TFDistilBertModel: ['vocab_projector', 'vocab_layer_norm', 'vocab_transform', 'activation_13']\n",
            "- This IS expected if you are initializing TFDistilBertModel from the checkpoint of a model trained on another task or with another architecture (e.g. initializing a BertForSequenceClassification model from a BertForPreTraining model).\n",
            "- This IS NOT expected if you are initializing TFDistilBertModel from the checkpoint of a model that you expect to be exactly identical (initializing a BertForSequenceClassification model from a BertForSequenceClassification model).\n",
            "All the layers of TFDistilBertModel were initialized from the model checkpoint at distilbert-base-uncased.\n",
            "If your task is similar to the task the model of the checkpoint was trained on, you can already use TFDistilBertModel for predictions without further training.\n"
          ]
        }
      ],
      "source": [
        "# OSS: remember to call fit with this structure {\"input_ids\": train_df[\"input_ids\"], ...}\n",
        "# Load the model pretrained on the masked input + sentence completion task\n",
        "transformer_model = TFDistilBertModel.from_pretrained(\"distilbert-base-uncased\", output_hidden_states = True) # add here config for the model, ex. also attention outputs"
      ]
    },
    {
      "cell_type": "code",
      "execution_count": 27,
      "metadata": {
        "colab": {
          "base_uri": "https://localhost:8080/"
        },
        "id": "UjvEgr8_R_Xg",
        "outputId": "a35809eb-16d4-460d-e67c-6a94d68c933e"
      },
      "outputs": [
        {
          "name": "stdout",
          "output_type": "stream",
          "text": [
            "Shape of the last hidden state:  tf.Tensor([  1 512 768], shape=(3,), dtype=int32)\n",
            "Shape of the other hidden states:  tf.Tensor([  7   1 512 768], shape=(4,), dtype=int32)\n",
            "Shape of the attention weights:  tf.Tensor([  6   1  12 512 512], shape=(5,), dtype=int32)\n"
          ]
        }
      ],
      "source": [
        "for sample in train_ds.take(1): # try if everything is working\n",
        "    SHAPE_INPUT_IDS = tf.shape(sample[0][\"input_ids\"])[0].numpy()\n",
        "    SHAPE_ATTENTION_MASK = tf.shape(sample[0][\"attention_mask\"])[0].numpy()\n",
        "    outputs = transformer_model(\n",
        "        {\n",
        "            \"input_ids\": sample[0][\"input_ids\"],\n",
        "            \"attention_mask\": sample[0][\"attention_mask\"], \n",
        "            # \"token_type_ids\": sample[0][\"token_type_ids\"] # uncomment if using BERT\n",
        "        },\n",
        "        output_hidden_states = True,\n",
        "        output_attentions = True\n",
        "    )\n",
        "    print(\"Shape of the last hidden state: \", tf.shape(outputs.last_hidden_state)) # Sequence of hidden-states at the output of the last layer of the model\n",
        "    print(\"Shape of the other hidden states: \", tf.shape(outputs.hidden_states)) # Hidden-states of the model at the output of each layer plus the initial embedding outputs\n",
        "    print(\"Shape of the attention weights: \", tf.shape(outputs.attentions)) # Attentions weights after the attention softmax, used to compute the weighted average in the self-attention heads"
      ]
    },
    {
      "cell_type": "markdown",
      "metadata": {
        "id": "L1ZXcfiwR_Xg"
      },
      "source": [
        "Searching through HuggingFace's github, we can find DistilBert's model configurations: \n",
        "https://github.com/huggingface/transformers/blob/master/src/transformers/models/distilbert/configuration_distilbert.py \n",
        "\n",
        "The most important parts for us are:\n",
        "- vocab_size = 30522\n",
        "- max_position_embeddings = 512\n",
        "- n_layers = 6\n",
        "- n_heads = 12\n",
        "- dim = 768\n",
        "- hidden_dim = 4*768\n",
        "\n",
        "Here is the code for the model instead:\n",
        "https://github.com/huggingface/transformers/blob/master/src/transformers/models/distilbert/modeling_tf_distilbert.py"
      ]
    },
    {
      "cell_type": "code",
      "execution_count": 28,
      "metadata": {
        "colab": {
          "base_uri": "https://localhost:8080/"
        },
        "id": "5DHFNNS7R_Xh",
        "outputId": "8ea9a0e0-af17-4aa4-9492-ca5c11445bec"
      },
      "outputs": [
        {
          "name": "stdout",
          "output_type": "stream",
          "text": [
            "512\n",
            "512\n"
          ]
        }
      ],
      "source": [
        "print(SHAPE_INPUT_IDS)\n",
        "print(SHAPE_ATTENTION_MASK)"
      ]
    },
    {
      "cell_type": "code",
      "execution_count": 29,
      "metadata": {
        "id": "uB7vaz5ZR_Xh"
      },
      "outputs": [],
      "source": [
        "input_ids = tf.keras.Input(shape=(SHAPE_INPUT_IDS, ), dtype='int32')\n",
        "attention_mask = tf.keras.Input(shape=(SHAPE_ATTENTION_MASK, ), dtype='int32')\n",
        "# token_type_ids = tf.keras.Input(shape=(SHAPE_ATTENTION_MASK, ), dtype='int32') # uncomment if using BERT\n",
        "\n",
        "transformer = transformer_model(\n",
        "    {\n",
        "        \"input_ids\": input_ids,\n",
        "        \"attention_mask\": attention_mask,\n",
        "        # \"token_type_ids\": token_type_ids # uncomment if using BERT\n",
        "    }\n",
        ")\n",
        "\n",
        "label_layer_S = tf.keras.Input(shape=(SHAPE_INPUT_IDS, ), dtype='int32')\n",
        "label_layer_E = tf.keras.Input(shape=(SHAPE_INPUT_IDS, ), dtype='int32')\n",
        "\n",
        "# TODO: chose which layers\n",
        "hidden_states = transformer.hidden_states\n",
        "chosen_states_idx = [3, 4, 5, 6]\n",
        "\n",
        "# TODO: chose merging method\n",
        "chosen_hidden_states = layers.concatenate(\n",
        "    tuple([hidden_states[i] for i in chosen_states_idx])\n",
        ")\n",
        "\n",
        "# output = layers.Bidirectional(layers.LSTM(64, return_sequences = True, activation = \"relu\"))(chosen_hidden_states)\n",
        "# output = layers.Dense(2, activation = \"softmax\")(output) # 2 because we need both \n",
        "\n",
        "out_S = layers.Dense(1, activation=\"softmax\")(chosen_hidden_states) # dot product between token representation and start vector\n",
        "out_E = layers.Dense(1, activation=\"softmax\")(chosen_hidden_states) # dot product between token representation and end vector\n",
        "\n",
        "model = tf.keras.models.Model(inputs={\n",
        "        \"input_ids\": input_ids,\n",
        "        \"attention_mask\": attention_mask,\n",
        "        # \"token_type_ids\": token_type_ids # uncomment if using BERT\n",
        "    },\n",
        "    outputs = {\n",
        "        \"out_S\" : out_S,\n",
        "        \"out_E\" : out_E\n",
        "    })\n"
      ]
    },
    {
      "cell_type": "code",
      "execution_count": 30,
      "metadata": {
        "id": "sOcZaxVRR_Xh"
      },
      "outputs": [],
      "source": [
        "from tensorflow.keras import backend as KB\n",
        "@tf.function\n",
        "def loss_fn(y_pred, y_true):\n",
        "    return KB.binary_crossentropy(y_pred[\"out_S\"], y_true[\"label_S\"]) + \\\n",
        "        KB.binary_crossentropy(y_pred[\"out_E\"], y_true[\"label_E\"])\n",
        "\n",
        "model.compile(tf.keras.optimizers.Adam(learning_rate=1e-5), loss=loss_fn, metrics=['accuracy'])\n"
      ]
    },
    {
      "cell_type": "code",
      "execution_count": 31,
      "metadata": {
        "colab": {
          "base_uri": "https://localhost:8080/"
        },
        "id": "JkQyUTDBR_Xh",
        "outputId": "d82af25d-09b4-499d-e1b6-59befe9ab002"
      },
      "outputs": [
        {
          "name": "stdout",
          "output_type": "stream",
          "text": [
            "Model: \"model\"\n",
            "__________________________________________________________________________________________________\n",
            " Layer (type)                   Output Shape         Param #     Connected to                     \n",
            "==================================================================================================\n",
            " input_2 (InputLayer)           [(None, 512)]        0           []                               \n",
            "                                                                                                  \n",
            " input_1 (InputLayer)           [(None, 512)]        0           []                               \n",
            "                                                                                                  \n",
            " tf_distil_bert_model (TFDistil  TFBaseModelOutput(l  66362880   ['input_2[0][0]',                \n",
            " BertModel)                     ast_hidden_state=(N               'input_1[0][0]']                \n",
            "                                one, 512, 768),                                                   \n",
            "                                 hidden_states=((No                                               \n",
            "                                ne, 512, 768),                                                    \n",
            "                                 (None, 512, 768),                                                \n",
            "                                 (None, 512, 768),                                                \n",
            "                                 (None, 512, 768),                                                \n",
            "                                 (None, 512, 768),                                                \n",
            "                                 (None, 512, 768),                                                \n",
            "                                 (None, 512, 768)),                                               \n",
            "                                 attentions=None)                                                 \n",
            "                                                                                                  \n",
            " concatenate (Concatenate)      (None, 512, 3072)    0           ['tf_distil_bert_model[0][3]',   \n",
            "                                                                  'tf_distil_bert_model[0][4]',   \n",
            "                                                                  'tf_distil_bert_model[0][5]',   \n",
            "                                                                  'tf_distil_bert_model[0][6]']   \n",
            "                                                                                                  \n",
            " dense_1 (Dense)                (None, 512, 1)       3073        ['concatenate[0][0]']            \n",
            "                                                                                                  \n",
            " dense (Dense)                  (None, 512, 1)       3073        ['concatenate[0][0]']            \n",
            "                                                                                                  \n",
            "==================================================================================================\n",
            "Total params: 66,369,026\n",
            "Trainable params: 66,369,026\n",
            "Non-trainable params: 0\n",
            "__________________________________________________________________________________________________\n"
          ]
        }
      ],
      "source": [
        "model.summary()"
      ]
    },
    {
      "cell_type": "code",
      "execution_count": 32,
      "metadata": {
        "id": "VjyDMrQJR_Xh"
      },
      "outputs": [],
      "source": [
        "train_ds = train_ds.batch(BATCH_SIZE)\n",
        "val_ds = val_ds.batch(VAL_BATCH_SIZE)"
      ]
    },
    {
      "cell_type": "code",
      "execution_count": 33,
      "metadata": {
        "colab": {
          "base_uri": "https://localhost:8080/"
        },
        "id": "mVCpwxeHemVb",
        "outputId": "2b8de535-9be7-471c-97f7-99272a51d41f"
      },
      "outputs": [
        {
          "name": "stdout",
          "output_type": "stream",
          "text": [
            "data/training\n"
          ]
        }
      ],
      "source": [
        "checkpoint_path = \"training/cp-{epoch:04d}.ckpt\"\n",
        "checkpoint_dir = os.path.dirname(os.path.join('data', checkpoint_path))\n",
        "print(checkpoint_dir)"
      ]
    },
    {
      "cell_type": "code",
      "execution_count": 34,
      "metadata": {
        "id": "Ae-tnso4lwRl"
      },
      "outputs": [],
      "source": [
        "#latest = tf.train.latest_checkpoint(checkpoint_dir)\n",
        "#print(latest)\n",
        "#model.load_weights(latest)"
      ]
    },
    {
      "cell_type": "code",
      "execution_count": 35,
      "metadata": {
        "id": "6TfIOii1R_Xh"
      },
      "outputs": [],
      "source": [
        "# ### COMMENT THIS CELL IF TRAINING IS ALREADY DONE ###\n",
        "# cp_callback = tf.keras.callbacks.ModelCheckpoint(\n",
        "#     filepath = checkpoint_path,\n",
        "#     verbose=1,\n",
        "#     save_weights_only = True,\n",
        "#     save_best_only = True\n",
        "# )\n",
        "\n",
        "# model.save_weights(checkpoint_path.format(epoch=0))\n",
        "\n",
        "# model.fit(\n",
        "#     train_ds, \n",
        "#     validation_data=val_ds,\n",
        "#     epochs=5, \n",
        "#     callbacks=[cp_callback]\n",
        "#     )"
      ]
    },
    {
      "cell_type": "code",
      "execution_count": 51,
      "metadata": {},
      "outputs": [],
      "source": [
        "def predict_function(outputs, number_in_batch):\n",
        "    out_S = outputs[\"out_S\"][number_in_batch]\n",
        "    out_E = outputs[\"out_E\"][number_in_batch]\n",
        "    max = 0\n",
        "    for i in range(len(out_S)):\n",
        "        for j in range(i+1, len(out_E)):\n",
        "            if (out_S[i] + out_E[j]) > max:\n",
        "                max = out_S[i] + out_E[j]\n",
        "                start = i\n",
        "                end = j\n",
        "    return [start, end]"
      ]
    },
    {
      "cell_type": "code",
      "execution_count": 69,
      "metadata": {
        "colab": {
          "base_uri": "https://localhost:8080/",
          "height": 356
        },
        "id": "o1_aHZaOzzLY",
        "outputId": "c4987656-7a54-484b-d7b7-ba7e3b39e2b4"
      },
      "outputs": [
        {
          "name": "stdout",
          "output_type": "stream",
          "text": [
            "Random sample n° 11 in batch of 16\n",
            "Question + context: \n",
            "what does hokkien mean? the term hokkien ( 福 ; ) is itself a term not used in chinese to refer to the dialect, as it simply means fujian province. in chinese linguistics, these dialects are known by their classification under the quanzhang division ( chinese : ; pinyin : quanzhang pian ) of min nan, which comes from the first characters of the two main hokkien urban centers quanzhou and zhangzhou. the variety is also known by other terms such as the more general min nan ( traditional chinese : 南 語, 南 ; simplified chinese : 南, 南 ; pinyin : minnanyu, minnanhua ; peh - oe - ji : ban - lam - gi, ban - lam - oe ) or southern min, and fulaohua ( traditional chinese : 福 ; simplified chinese : 福 ; pinyin : fulaohua ; peh - oe - ji : ho - lo - oe ). the term hokkien ( chinese : 福 ; peh - oe - ji : hok - kian oe ; tai - lo : hok - kian - ue ), on the other hand, is used commonly in south east asia to refer to min - nan dialects. \n",
            "\n",
            "Real answer tokens:  [29551  2874]\n",
            "Real answer:  fujian province\n",
            "Predicted answer tokens:  [ 101 2054]\n",
            "Predicted answer:  what\n"
          ]
        }
      ],
      "source": [
        "for batch in train_ds.take(1):\n",
        "    random_in_batch = np.random.randint(0, BATCH_SIZE-1)\n",
        "    input_ids = batch[0][\"input_ids\"][random_in_batch]\n",
        "    # attention_mask = sample[0][\"attention_mask\"][random_in_batch]\n",
        "    print(\"Random sample n°\", random_in_batch, \"in batch of\", BATCH_SIZE)\n",
        "    \n",
        "    print(\"Question + context: \")\n",
        "    print(tokenizer.decode(input_ids, skip_special_tokens=True), \"\\n\")\n",
        "\n",
        "    real_start = np.argmax(batch[1][\"label_S\"][random_in_batch])\n",
        "    real_end = np.argmax(batch[1][\"label_E\"][random_in_batch])\n",
        "    real_limits = [real_start, real_end]\n",
        "\n",
        "    predicted_limits = predict_function(model.predict(batch[0]), random_in_batch)\n",
        "    # print(predicted_limits)\n",
        "\n",
        "    print(\"Real answer tokens: \", input_ids[real_limits[0]:real_limits[1]+1].numpy())\n",
        "    print(\"Real answer: \", tokenizer.decode(input_ids[real_limits[0]:real_limits[1]+1], skip_special_tokens=False))\n",
        "    \n",
        "    print(\"Predicted answer tokens: \", input_ids[predicted_limits[0]:predicted_limits[1]+1].numpy())\n",
        "    print(\"Predicted answer: \", tokenizer.decode(input_ids[predicted_limits[0]:predicted_limits[1]+1], skip_special_tokens=True))\n"
      ]
    }
  ],
  "metadata": {
    "accelerator": "GPU",
    "colab": {
      "collapsed_sections": [],
      "name": "train_models.ipynb",
      "provenance": []
    },
    "interpreter": {
      "hash": "c90f87e5ee49fb7af5481158977e62ba01ae4f54defb58032c9ba197b530ea3c"
    },
    "kernelspec": {
      "display_name": "Python 3.8.12 64-bit ('NLP': conda)",
      "language": "python",
      "name": "python3"
    },
    "language_info": {
      "codemirror_mode": {
        "name": "ipython",
        "version": 3
      },
      "file_extension": ".py",
      "mimetype": "text/x-python",
      "name": "python",
      "nbconvert_exporter": "python",
      "pygments_lexer": "ipython3",
      "version": "3.8.10"
    },
    "orig_nbformat": 4,
    "widgets": {
      "application/vnd.jupyter.widget-state+json": {
        "000e5b9e589d409297081806483dec8a": {
          "model_module": "@jupyter-widgets/base",
          "model_module_version": "1.2.0",
          "model_name": "LayoutModel",
          "state": {
            "_model_module": "@jupyter-widgets/base",
            "_model_module_version": "1.2.0",
            "_model_name": "LayoutModel",
            "_view_count": null,
            "_view_module": "@jupyter-widgets/base",
            "_view_module_version": "1.2.0",
            "_view_name": "LayoutView",
            "align_content": null,
            "align_items": null,
            "align_self": null,
            "border": null,
            "bottom": null,
            "display": null,
            "flex": null,
            "flex_flow": null,
            "grid_area": null,
            "grid_auto_columns": null,
            "grid_auto_flow": null,
            "grid_auto_rows": null,
            "grid_column": null,
            "grid_gap": null,
            "grid_row": null,
            "grid_template_areas": null,
            "grid_template_columns": null,
            "grid_template_rows": null,
            "height": null,
            "justify_content": null,
            "justify_items": null,
            "left": null,
            "margin": null,
            "max_height": null,
            "max_width": null,
            "min_height": null,
            "min_width": null,
            "object_fit": null,
            "object_position": null,
            "order": null,
            "overflow": null,
            "overflow_x": null,
            "overflow_y": null,
            "padding": null,
            "right": null,
            "top": null,
            "visibility": null,
            "width": null
          }
        },
        "00bbac2f36884f34a0928ad4f8c6c94b": {
          "model_module": "@jupyter-widgets/base",
          "model_module_version": "1.2.0",
          "model_name": "LayoutModel",
          "state": {
            "_model_module": "@jupyter-widgets/base",
            "_model_module_version": "1.2.0",
            "_model_name": "LayoutModel",
            "_view_count": null,
            "_view_module": "@jupyter-widgets/base",
            "_view_module_version": "1.2.0",
            "_view_name": "LayoutView",
            "align_content": null,
            "align_items": null,
            "align_self": null,
            "border": null,
            "bottom": null,
            "display": null,
            "flex": null,
            "flex_flow": null,
            "grid_area": null,
            "grid_auto_columns": null,
            "grid_auto_flow": null,
            "grid_auto_rows": null,
            "grid_column": null,
            "grid_gap": null,
            "grid_row": null,
            "grid_template_areas": null,
            "grid_template_columns": null,
            "grid_template_rows": null,
            "height": null,
            "justify_content": null,
            "justify_items": null,
            "left": null,
            "margin": null,
            "max_height": null,
            "max_width": null,
            "min_height": null,
            "min_width": null,
            "object_fit": null,
            "object_position": null,
            "order": null,
            "overflow": null,
            "overflow_x": null,
            "overflow_y": null,
            "padding": null,
            "right": null,
            "top": null,
            "visibility": null,
            "width": null
          }
        },
        "026ffcdc2d604a75a3aec57c1f6d4a3f": {
          "model_module": "@jupyter-widgets/controls",
          "model_module_version": "1.5.0",
          "model_name": "DescriptionStyleModel",
          "state": {
            "_model_module": "@jupyter-widgets/controls",
            "_model_module_version": "1.5.0",
            "_model_name": "DescriptionStyleModel",
            "_view_count": null,
            "_view_module": "@jupyter-widgets/base",
            "_view_module_version": "1.2.0",
            "_view_name": "StyleView",
            "description_width": ""
          }
        },
        "05d048f2ad174011882fe9422aae1d12": {
          "model_module": "@jupyter-widgets/base",
          "model_module_version": "1.2.0",
          "model_name": "LayoutModel",
          "state": {
            "_model_module": "@jupyter-widgets/base",
            "_model_module_version": "1.2.0",
            "_model_name": "LayoutModel",
            "_view_count": null,
            "_view_module": "@jupyter-widgets/base",
            "_view_module_version": "1.2.0",
            "_view_name": "LayoutView",
            "align_content": null,
            "align_items": null,
            "align_self": null,
            "border": null,
            "bottom": null,
            "display": null,
            "flex": null,
            "flex_flow": null,
            "grid_area": null,
            "grid_auto_columns": null,
            "grid_auto_flow": null,
            "grid_auto_rows": null,
            "grid_column": null,
            "grid_gap": null,
            "grid_row": null,
            "grid_template_areas": null,
            "grid_template_columns": null,
            "grid_template_rows": null,
            "height": null,
            "justify_content": null,
            "justify_items": null,
            "left": null,
            "margin": null,
            "max_height": null,
            "max_width": null,
            "min_height": null,
            "min_width": null,
            "object_fit": null,
            "object_position": null,
            "order": null,
            "overflow": null,
            "overflow_x": null,
            "overflow_y": null,
            "padding": null,
            "right": null,
            "top": null,
            "visibility": null,
            "width": null
          }
        },
        "07b3627cea864d10a2383cf1f4db4b0d": {
          "model_module": "@jupyter-widgets/base",
          "model_module_version": "1.2.0",
          "model_name": "LayoutModel",
          "state": {
            "_model_module": "@jupyter-widgets/base",
            "_model_module_version": "1.2.0",
            "_model_name": "LayoutModel",
            "_view_count": null,
            "_view_module": "@jupyter-widgets/base",
            "_view_module_version": "1.2.0",
            "_view_name": "LayoutView",
            "align_content": null,
            "align_items": null,
            "align_self": null,
            "border": null,
            "bottom": null,
            "display": null,
            "flex": null,
            "flex_flow": null,
            "grid_area": null,
            "grid_auto_columns": null,
            "grid_auto_flow": null,
            "grid_auto_rows": null,
            "grid_column": null,
            "grid_gap": null,
            "grid_row": null,
            "grid_template_areas": null,
            "grid_template_columns": null,
            "grid_template_rows": null,
            "height": null,
            "justify_content": null,
            "justify_items": null,
            "left": null,
            "margin": null,
            "max_height": null,
            "max_width": null,
            "min_height": null,
            "min_width": null,
            "object_fit": null,
            "object_position": null,
            "order": null,
            "overflow": null,
            "overflow_x": null,
            "overflow_y": null,
            "padding": null,
            "right": null,
            "top": null,
            "visibility": null,
            "width": null
          }
        },
        "09b79fee630247fc86de33aba9731b85": {
          "model_module": "@jupyter-widgets/base",
          "model_module_version": "1.2.0",
          "model_name": "LayoutModel",
          "state": {
            "_model_module": "@jupyter-widgets/base",
            "_model_module_version": "1.2.0",
            "_model_name": "LayoutModel",
            "_view_count": null,
            "_view_module": "@jupyter-widgets/base",
            "_view_module_version": "1.2.0",
            "_view_name": "LayoutView",
            "align_content": null,
            "align_items": null,
            "align_self": null,
            "border": null,
            "bottom": null,
            "display": null,
            "flex": null,
            "flex_flow": null,
            "grid_area": null,
            "grid_auto_columns": null,
            "grid_auto_flow": null,
            "grid_auto_rows": null,
            "grid_column": null,
            "grid_gap": null,
            "grid_row": null,
            "grid_template_areas": null,
            "grid_template_columns": null,
            "grid_template_rows": null,
            "height": null,
            "justify_content": null,
            "justify_items": null,
            "left": null,
            "margin": null,
            "max_height": null,
            "max_width": null,
            "min_height": null,
            "min_width": null,
            "object_fit": null,
            "object_position": null,
            "order": null,
            "overflow": null,
            "overflow_x": null,
            "overflow_y": null,
            "padding": null,
            "right": null,
            "top": null,
            "visibility": null,
            "width": null
          }
        },
        "0ef097d2bd3c40778ba164cb100e1385": {
          "model_module": "@jupyter-widgets/controls",
          "model_module_version": "1.5.0",
          "model_name": "DescriptionStyleModel",
          "state": {
            "_model_module": "@jupyter-widgets/controls",
            "_model_module_version": "1.5.0",
            "_model_name": "DescriptionStyleModel",
            "_view_count": null,
            "_view_module": "@jupyter-widgets/base",
            "_view_module_version": "1.2.0",
            "_view_name": "StyleView",
            "description_width": ""
          }
        },
        "0f123f515db94cdba8eac2a242449ba7": {
          "model_module": "@jupyter-widgets/controls",
          "model_module_version": "1.5.0",
          "model_name": "ProgressStyleModel",
          "state": {
            "_model_module": "@jupyter-widgets/controls",
            "_model_module_version": "1.5.0",
            "_model_name": "ProgressStyleModel",
            "_view_count": null,
            "_view_module": "@jupyter-widgets/base",
            "_view_module_version": "1.2.0",
            "_view_name": "StyleView",
            "bar_color": null,
            "description_width": ""
          }
        },
        "1b63ce61fb7a4eb28491a27bdcf0a4df": {
          "model_module": "@jupyter-widgets/base",
          "model_module_version": "1.2.0",
          "model_name": "LayoutModel",
          "state": {
            "_model_module": "@jupyter-widgets/base",
            "_model_module_version": "1.2.0",
            "_model_name": "LayoutModel",
            "_view_count": null,
            "_view_module": "@jupyter-widgets/base",
            "_view_module_version": "1.2.0",
            "_view_name": "LayoutView",
            "align_content": null,
            "align_items": null,
            "align_self": null,
            "border": null,
            "bottom": null,
            "display": null,
            "flex": null,
            "flex_flow": null,
            "grid_area": null,
            "grid_auto_columns": null,
            "grid_auto_flow": null,
            "grid_auto_rows": null,
            "grid_column": null,
            "grid_gap": null,
            "grid_row": null,
            "grid_template_areas": null,
            "grid_template_columns": null,
            "grid_template_rows": null,
            "height": null,
            "justify_content": null,
            "justify_items": null,
            "left": null,
            "margin": null,
            "max_height": null,
            "max_width": null,
            "min_height": null,
            "min_width": null,
            "object_fit": null,
            "object_position": null,
            "order": null,
            "overflow": null,
            "overflow_x": null,
            "overflow_y": null,
            "padding": null,
            "right": null,
            "top": null,
            "visibility": null,
            "width": null
          }
        },
        "213807b80334433e82f2ac5a1228cdd8": {
          "model_module": "@jupyter-widgets/controls",
          "model_module_version": "1.5.0",
          "model_name": "HBoxModel",
          "state": {
            "_dom_classes": [],
            "_model_module": "@jupyter-widgets/controls",
            "_model_module_version": "1.5.0",
            "_model_name": "HBoxModel",
            "_view_count": null,
            "_view_module": "@jupyter-widgets/controls",
            "_view_module_version": "1.5.0",
            "_view_name": "HBoxView",
            "box_style": "",
            "children": [
              "IPY_MODEL_2ec1d7b7af3a4023b91cc5659acb9b98",
              "IPY_MODEL_dcf72092ad8243b58546668ed4fc4109",
              "IPY_MODEL_653997498445414e9b19b3a64b320407"
            ],
            "layout": "IPY_MODEL_000e5b9e589d409297081806483dec8a"
          }
        },
        "2150ae3e7c1d440abdbad46de53e5a02": {
          "model_module": "@jupyter-widgets/base",
          "model_module_version": "1.2.0",
          "model_name": "LayoutModel",
          "state": {
            "_model_module": "@jupyter-widgets/base",
            "_model_module_version": "1.2.0",
            "_model_name": "LayoutModel",
            "_view_count": null,
            "_view_module": "@jupyter-widgets/base",
            "_view_module_version": "1.2.0",
            "_view_name": "LayoutView",
            "align_content": null,
            "align_items": null,
            "align_self": null,
            "border": null,
            "bottom": null,
            "display": null,
            "flex": null,
            "flex_flow": null,
            "grid_area": null,
            "grid_auto_columns": null,
            "grid_auto_flow": null,
            "grid_auto_rows": null,
            "grid_column": null,
            "grid_gap": null,
            "grid_row": null,
            "grid_template_areas": null,
            "grid_template_columns": null,
            "grid_template_rows": null,
            "height": null,
            "justify_content": null,
            "justify_items": null,
            "left": null,
            "margin": null,
            "max_height": null,
            "max_width": null,
            "min_height": null,
            "min_width": null,
            "object_fit": null,
            "object_position": null,
            "order": null,
            "overflow": null,
            "overflow_x": null,
            "overflow_y": null,
            "padding": null,
            "right": null,
            "top": null,
            "visibility": null,
            "width": null
          }
        },
        "21cad33f9b9f4820be1504215b7e0995": {
          "model_module": "@jupyter-widgets/controls",
          "model_module_version": "1.5.0",
          "model_name": "DescriptionStyleModel",
          "state": {
            "_model_module": "@jupyter-widgets/controls",
            "_model_module_version": "1.5.0",
            "_model_name": "DescriptionStyleModel",
            "_view_count": null,
            "_view_module": "@jupyter-widgets/base",
            "_view_module_version": "1.2.0",
            "_view_name": "StyleView",
            "description_width": ""
          }
        },
        "2633393dca6c40ce953bfbc0ec0f4d3e": {
          "model_module": "@jupyter-widgets/controls",
          "model_module_version": "1.5.0",
          "model_name": "DescriptionStyleModel",
          "state": {
            "_model_module": "@jupyter-widgets/controls",
            "_model_module_version": "1.5.0",
            "_model_name": "DescriptionStyleModel",
            "_view_count": null,
            "_view_module": "@jupyter-widgets/base",
            "_view_module_version": "1.2.0",
            "_view_name": "StyleView",
            "description_width": ""
          }
        },
        "2671b49323f7421589b12d7d3f43eb6c": {
          "model_module": "@jupyter-widgets/controls",
          "model_module_version": "1.5.0",
          "model_name": "HTMLModel",
          "state": {
            "_dom_classes": [],
            "_model_module": "@jupyter-widgets/controls",
            "_model_module_version": "1.5.0",
            "_model_name": "HTMLModel",
            "_view_count": null,
            "_view_module": "@jupyter-widgets/controls",
            "_view_module_version": "1.5.0",
            "_view_name": "HTMLView",
            "description": "",
            "description_tooltip": null,
            "layout": "IPY_MODEL_c1fbbccc8fcb47059c4c26b675da0fa9",
            "placeholder": "​",
            "style": "IPY_MODEL_c541b0573f704d7a8e44f7b81162dee3",
            "value": "Downloading: 100%"
          }
        },
        "28133b6c7cab4746856c84521db93d78": {
          "model_module": "@jupyter-widgets/controls",
          "model_module_version": "1.5.0",
          "model_name": "DescriptionStyleModel",
          "state": {
            "_model_module": "@jupyter-widgets/controls",
            "_model_module_version": "1.5.0",
            "_model_name": "DescriptionStyleModel",
            "_view_count": null,
            "_view_module": "@jupyter-widgets/base",
            "_view_module_version": "1.2.0",
            "_view_name": "StyleView",
            "description_width": ""
          }
        },
        "2b482617610240f1ba5841b8ac66d0de": {
          "model_module": "@jupyter-widgets/controls",
          "model_module_version": "1.5.0",
          "model_name": "FloatProgressModel",
          "state": {
            "_dom_classes": [],
            "_model_module": "@jupyter-widgets/controls",
            "_model_module_version": "1.5.0",
            "_model_name": "FloatProgressModel",
            "_view_count": null,
            "_view_module": "@jupyter-widgets/controls",
            "_view_module_version": "1.5.0",
            "_view_name": "ProgressView",
            "bar_style": "success",
            "description": "",
            "description_tooltip": null,
            "layout": "IPY_MODEL_cab5174c88804cdab5c492daaf3414cb",
            "max": 411,
            "min": 0,
            "orientation": "horizontal",
            "style": "IPY_MODEL_a1dcfd98398249479556b251a9a23e02",
            "value": 411
          }
        },
        "2ec1d7b7af3a4023b91cc5659acb9b98": {
          "model_module": "@jupyter-widgets/controls",
          "model_module_version": "1.5.0",
          "model_name": "HTMLModel",
          "state": {
            "_dom_classes": [],
            "_model_module": "@jupyter-widgets/controls",
            "_model_module_version": "1.5.0",
            "_model_name": "HTMLModel",
            "_view_count": null,
            "_view_module": "@jupyter-widgets/controls",
            "_view_module_version": "1.5.0",
            "_view_name": "HTMLView",
            "description": "",
            "description_tooltip": null,
            "layout": "IPY_MODEL_348426ad7e0d48d3ab4a088194a3cc98",
            "placeholder": "​",
            "style": "IPY_MODEL_9e9cda41ec00440bac184d12814c53a7",
            "value": "Downloading: 100%"
          }
        },
        "348426ad7e0d48d3ab4a088194a3cc98": {
          "model_module": "@jupyter-widgets/base",
          "model_module_version": "1.2.0",
          "model_name": "LayoutModel",
          "state": {
            "_model_module": "@jupyter-widgets/base",
            "_model_module_version": "1.2.0",
            "_model_name": "LayoutModel",
            "_view_count": null,
            "_view_module": "@jupyter-widgets/base",
            "_view_module_version": "1.2.0",
            "_view_name": "LayoutView",
            "align_content": null,
            "align_items": null,
            "align_self": null,
            "border": null,
            "bottom": null,
            "display": null,
            "flex": null,
            "flex_flow": null,
            "grid_area": null,
            "grid_auto_columns": null,
            "grid_auto_flow": null,
            "grid_auto_rows": null,
            "grid_column": null,
            "grid_gap": null,
            "grid_row": null,
            "grid_template_areas": null,
            "grid_template_columns": null,
            "grid_template_rows": null,
            "height": null,
            "justify_content": null,
            "justify_items": null,
            "left": null,
            "margin": null,
            "max_height": null,
            "max_width": null,
            "min_height": null,
            "min_width": null,
            "object_fit": null,
            "object_position": null,
            "order": null,
            "overflow": null,
            "overflow_x": null,
            "overflow_y": null,
            "padding": null,
            "right": null,
            "top": null,
            "visibility": null,
            "width": null
          }
        },
        "42a48fc1584e4ce09c23923978e8d087": {
          "model_module": "@jupyter-widgets/controls",
          "model_module_version": "1.5.0",
          "model_name": "ProgressStyleModel",
          "state": {
            "_model_module": "@jupyter-widgets/controls",
            "_model_module_version": "1.5.0",
            "_model_name": "ProgressStyleModel",
            "_view_count": null,
            "_view_module": "@jupyter-widgets/base",
            "_view_module_version": "1.2.0",
            "_view_name": "StyleView",
            "bar_color": null,
            "description_width": ""
          }
        },
        "4626b2f2712745178b44346e67eba525": {
          "model_module": "@jupyter-widgets/controls",
          "model_module_version": "1.5.0",
          "model_name": "HBoxModel",
          "state": {
            "_dom_classes": [],
            "_model_module": "@jupyter-widgets/controls",
            "_model_module_version": "1.5.0",
            "_model_name": "HBoxModel",
            "_view_count": null,
            "_view_module": "@jupyter-widgets/controls",
            "_view_module_version": "1.5.0",
            "_view_name": "HBoxView",
            "box_style": "",
            "children": [
              "IPY_MODEL_b0f4bea053864703bef3e0a93ed8864b",
              "IPY_MODEL_6898d9d1ab3e4b3e8337e993e5b0f841",
              "IPY_MODEL_f551ff69ec93455492fa3a7ab9c7b645"
            ],
            "layout": "IPY_MODEL_00bbac2f36884f34a0928ad4f8c6c94b"
          }
        },
        "4c41785a60fd4014a6e70046fecd4673": {
          "model_module": "@jupyter-widgets/base",
          "model_module_version": "1.2.0",
          "model_name": "LayoutModel",
          "state": {
            "_model_module": "@jupyter-widgets/base",
            "_model_module_version": "1.2.0",
            "_model_name": "LayoutModel",
            "_view_count": null,
            "_view_module": "@jupyter-widgets/base",
            "_view_module_version": "1.2.0",
            "_view_name": "LayoutView",
            "align_content": null,
            "align_items": null,
            "align_self": null,
            "border": null,
            "bottom": null,
            "display": null,
            "flex": null,
            "flex_flow": null,
            "grid_area": null,
            "grid_auto_columns": null,
            "grid_auto_flow": null,
            "grid_auto_rows": null,
            "grid_column": null,
            "grid_gap": null,
            "grid_row": null,
            "grid_template_areas": null,
            "grid_template_columns": null,
            "grid_template_rows": null,
            "height": null,
            "justify_content": null,
            "justify_items": null,
            "left": null,
            "margin": null,
            "max_height": null,
            "max_width": null,
            "min_height": null,
            "min_width": null,
            "object_fit": null,
            "object_position": null,
            "order": null,
            "overflow": null,
            "overflow_x": null,
            "overflow_y": null,
            "padding": null,
            "right": null,
            "top": null,
            "visibility": null,
            "width": null
          }
        },
        "5325453be4394e628ee98484b7ef372d": {
          "model_module": "@jupyter-widgets/base",
          "model_module_version": "1.2.0",
          "model_name": "LayoutModel",
          "state": {
            "_model_module": "@jupyter-widgets/base",
            "_model_module_version": "1.2.0",
            "_model_name": "LayoutModel",
            "_view_count": null,
            "_view_module": "@jupyter-widgets/base",
            "_view_module_version": "1.2.0",
            "_view_name": "LayoutView",
            "align_content": null,
            "align_items": null,
            "align_self": null,
            "border": null,
            "bottom": null,
            "display": null,
            "flex": null,
            "flex_flow": null,
            "grid_area": null,
            "grid_auto_columns": null,
            "grid_auto_flow": null,
            "grid_auto_rows": null,
            "grid_column": null,
            "grid_gap": null,
            "grid_row": null,
            "grid_template_areas": null,
            "grid_template_columns": null,
            "grid_template_rows": null,
            "height": null,
            "justify_content": null,
            "justify_items": null,
            "left": null,
            "margin": null,
            "max_height": null,
            "max_width": null,
            "min_height": null,
            "min_width": null,
            "object_fit": null,
            "object_position": null,
            "order": null,
            "overflow": null,
            "overflow_x": null,
            "overflow_y": null,
            "padding": null,
            "right": null,
            "top": null,
            "visibility": null,
            "width": null
          }
        },
        "653997498445414e9b19b3a64b320407": {
          "model_module": "@jupyter-widgets/controls",
          "model_module_version": "1.5.0",
          "model_name": "HTMLModel",
          "state": {
            "_dom_classes": [],
            "_model_module": "@jupyter-widgets/controls",
            "_model_module_version": "1.5.0",
            "_model_name": "HTMLModel",
            "_view_count": null,
            "_view_module": "@jupyter-widgets/controls",
            "_view_module_version": "1.5.0",
            "_view_name": "HTMLView",
            "description": "",
            "description_tooltip": null,
            "layout": "IPY_MODEL_8966c5d1110947828a102a61dd486dde",
            "placeholder": "​",
            "style": "IPY_MODEL_026ffcdc2d604a75a3aec57c1f6d4a3f",
            "value": " 29.0/29.0 [00:00&lt;00:00, 844B/s]"
          }
        },
        "666c3809d3b444b18843047992153af2": {
          "model_module": "@jupyter-widgets/base",
          "model_module_version": "1.2.0",
          "model_name": "LayoutModel",
          "state": {
            "_model_module": "@jupyter-widgets/base",
            "_model_module_version": "1.2.0",
            "_model_name": "LayoutModel",
            "_view_count": null,
            "_view_module": "@jupyter-widgets/base",
            "_view_module_version": "1.2.0",
            "_view_name": "LayoutView",
            "align_content": null,
            "align_items": null,
            "align_self": null,
            "border": null,
            "bottom": null,
            "display": null,
            "flex": null,
            "flex_flow": null,
            "grid_area": null,
            "grid_auto_columns": null,
            "grid_auto_flow": null,
            "grid_auto_rows": null,
            "grid_column": null,
            "grid_gap": null,
            "grid_row": null,
            "grid_template_areas": null,
            "grid_template_columns": null,
            "grid_template_rows": null,
            "height": null,
            "justify_content": null,
            "justify_items": null,
            "left": null,
            "margin": null,
            "max_height": null,
            "max_width": null,
            "min_height": null,
            "min_width": null,
            "object_fit": null,
            "object_position": null,
            "order": null,
            "overflow": null,
            "overflow_x": null,
            "overflow_y": null,
            "padding": null,
            "right": null,
            "top": null,
            "visibility": null,
            "width": null
          }
        },
        "6898d9d1ab3e4b3e8337e993e5b0f841": {
          "model_module": "@jupyter-widgets/controls",
          "model_module_version": "1.5.0",
          "model_name": "FloatProgressModel",
          "state": {
            "_dom_classes": [],
            "_model_module": "@jupyter-widgets/controls",
            "_model_module_version": "1.5.0",
            "_model_name": "FloatProgressModel",
            "_view_count": null,
            "_view_module": "@jupyter-widgets/controls",
            "_view_module_version": "1.5.0",
            "_view_name": "ProgressView",
            "bar_style": "success",
            "description": "",
            "description_tooltip": null,
            "layout": "IPY_MODEL_1b63ce61fb7a4eb28491a27bdcf0a4df",
            "max": 213450,
            "min": 0,
            "orientation": "horizontal",
            "style": "IPY_MODEL_42a48fc1584e4ce09c23923978e8d087",
            "value": 213450
          }
        },
        "6a1d837259954f098850ecfd65aff423": {
          "model_module": "@jupyter-widgets/base",
          "model_module_version": "1.2.0",
          "model_name": "LayoutModel",
          "state": {
            "_model_module": "@jupyter-widgets/base",
            "_model_module_version": "1.2.0",
            "_model_name": "LayoutModel",
            "_view_count": null,
            "_view_module": "@jupyter-widgets/base",
            "_view_module_version": "1.2.0",
            "_view_name": "LayoutView",
            "align_content": null,
            "align_items": null,
            "align_self": null,
            "border": null,
            "bottom": null,
            "display": null,
            "flex": null,
            "flex_flow": null,
            "grid_area": null,
            "grid_auto_columns": null,
            "grid_auto_flow": null,
            "grid_auto_rows": null,
            "grid_column": null,
            "grid_gap": null,
            "grid_row": null,
            "grid_template_areas": null,
            "grid_template_columns": null,
            "grid_template_rows": null,
            "height": null,
            "justify_content": null,
            "justify_items": null,
            "left": null,
            "margin": null,
            "max_height": null,
            "max_width": null,
            "min_height": null,
            "min_width": null,
            "object_fit": null,
            "object_position": null,
            "order": null,
            "overflow": null,
            "overflow_x": null,
            "overflow_y": null,
            "padding": null,
            "right": null,
            "top": null,
            "visibility": null,
            "width": null
          }
        },
        "6d38d99556264fb0905fd715aaa3fb01": {
          "model_module": "@jupyter-widgets/controls",
          "model_module_version": "1.5.0",
          "model_name": "ProgressStyleModel",
          "state": {
            "_model_module": "@jupyter-widgets/controls",
            "_model_module_version": "1.5.0",
            "_model_name": "ProgressStyleModel",
            "_view_count": null,
            "_view_module": "@jupyter-widgets/base",
            "_view_module_version": "1.2.0",
            "_view_name": "StyleView",
            "bar_color": null,
            "description_width": ""
          }
        },
        "6ea8b340c6af41fca1fe491c9d6f71ad": {
          "model_module": "@jupyter-widgets/controls",
          "model_module_version": "1.5.0",
          "model_name": "HTMLModel",
          "state": {
            "_dom_classes": [],
            "_model_module": "@jupyter-widgets/controls",
            "_model_module_version": "1.5.0",
            "_model_name": "HTMLModel",
            "_view_count": null,
            "_view_module": "@jupyter-widgets/controls",
            "_view_module_version": "1.5.0",
            "_view_name": "HTMLView",
            "description": "",
            "description_tooltip": null,
            "layout": "IPY_MODEL_c1973e5617d041329ae37ad2bc62ddc8",
            "placeholder": "​",
            "style": "IPY_MODEL_21cad33f9b9f4820be1504215b7e0995",
            "value": "Downloading: 100%"
          }
        },
        "6f07d2a0df864bda9f6dc2cc261e6e26": {
          "model_module": "@jupyter-widgets/controls",
          "model_module_version": "1.5.0",
          "model_name": "HBoxModel",
          "state": {
            "_dom_classes": [],
            "_model_module": "@jupyter-widgets/controls",
            "_model_module_version": "1.5.0",
            "_model_name": "HBoxModel",
            "_view_count": null,
            "_view_module": "@jupyter-widgets/controls",
            "_view_module_version": "1.5.0",
            "_view_name": "HBoxView",
            "box_style": "",
            "children": [
              "IPY_MODEL_2671b49323f7421589b12d7d3f43eb6c",
              "IPY_MODEL_73101e40e8e94aa88668847b9eaa8666",
              "IPY_MODEL_c177289524bd494f8d89c34de17b913e"
            ],
            "layout": "IPY_MODEL_5325453be4394e628ee98484b7ef372d"
          }
        },
        "73101e40e8e94aa88668847b9eaa8666": {
          "model_module": "@jupyter-widgets/controls",
          "model_module_version": "1.5.0",
          "model_name": "FloatProgressModel",
          "state": {
            "_dom_classes": [],
            "_model_module": "@jupyter-widgets/controls",
            "_model_module_version": "1.5.0",
            "_model_name": "FloatProgressModel",
            "_view_count": null,
            "_view_module": "@jupyter-widgets/controls",
            "_view_module_version": "1.5.0",
            "_view_name": "ProgressView",
            "bar_style": "success",
            "description": "",
            "description_tooltip": null,
            "layout": "IPY_MODEL_09b79fee630247fc86de33aba9731b85",
            "max": 354041576,
            "min": 0,
            "orientation": "horizontal",
            "style": "IPY_MODEL_0f123f515db94cdba8eac2a242449ba7",
            "value": 354041576
          }
        },
        "743aaf854fed43788b3af5a8cfaf30b4": {
          "model_module": "@jupyter-widgets/controls",
          "model_module_version": "1.5.0",
          "model_name": "HBoxModel",
          "state": {
            "_dom_classes": [],
            "_model_module": "@jupyter-widgets/controls",
            "_model_module_version": "1.5.0",
            "_model_name": "HBoxModel",
            "_view_count": null,
            "_view_module": "@jupyter-widgets/controls",
            "_view_module_version": "1.5.0",
            "_view_name": "HBoxView",
            "box_style": "",
            "children": [
              "IPY_MODEL_f3b8127b44074cd0b6f55edc957392a8",
              "IPY_MODEL_2b482617610240f1ba5841b8ac66d0de",
              "IPY_MODEL_ed693f0ffc38476a9f81b9b4cc7c34a2"
            ],
            "layout": "IPY_MODEL_db6fa64e21924e01ad8f1263aa3f9954"
          }
        },
        "7739f0e78aea4310a521436b840ff4ee": {
          "model_module": "@jupyter-widgets/controls",
          "model_module_version": "1.5.0",
          "model_name": "DescriptionStyleModel",
          "state": {
            "_model_module": "@jupyter-widgets/controls",
            "_model_module_version": "1.5.0",
            "_model_name": "DescriptionStyleModel",
            "_view_count": null,
            "_view_module": "@jupyter-widgets/base",
            "_view_module_version": "1.2.0",
            "_view_name": "StyleView",
            "description_width": ""
          }
        },
        "77de43920fea49e4abcd83e954779c4c": {
          "model_module": "@jupyter-widgets/base",
          "model_module_version": "1.2.0",
          "model_name": "LayoutModel",
          "state": {
            "_model_module": "@jupyter-widgets/base",
            "_model_module_version": "1.2.0",
            "_model_name": "LayoutModel",
            "_view_count": null,
            "_view_module": "@jupyter-widgets/base",
            "_view_module_version": "1.2.0",
            "_view_name": "LayoutView",
            "align_content": null,
            "align_items": null,
            "align_self": null,
            "border": null,
            "bottom": null,
            "display": null,
            "flex": null,
            "flex_flow": null,
            "grid_area": null,
            "grid_auto_columns": null,
            "grid_auto_flow": null,
            "grid_auto_rows": null,
            "grid_column": null,
            "grid_gap": null,
            "grid_row": null,
            "grid_template_areas": null,
            "grid_template_columns": null,
            "grid_template_rows": null,
            "height": null,
            "justify_content": null,
            "justify_items": null,
            "left": null,
            "margin": null,
            "max_height": null,
            "max_width": null,
            "min_height": null,
            "min_width": null,
            "object_fit": null,
            "object_position": null,
            "order": null,
            "overflow": null,
            "overflow_x": null,
            "overflow_y": null,
            "padding": null,
            "right": null,
            "top": null,
            "visibility": null,
            "width": null
          }
        },
        "8966c5d1110947828a102a61dd486dde": {
          "model_module": "@jupyter-widgets/base",
          "model_module_version": "1.2.0",
          "model_name": "LayoutModel",
          "state": {
            "_model_module": "@jupyter-widgets/base",
            "_model_module_version": "1.2.0",
            "_model_name": "LayoutModel",
            "_view_count": null,
            "_view_module": "@jupyter-widgets/base",
            "_view_module_version": "1.2.0",
            "_view_name": "LayoutView",
            "align_content": null,
            "align_items": null,
            "align_self": null,
            "border": null,
            "bottom": null,
            "display": null,
            "flex": null,
            "flex_flow": null,
            "grid_area": null,
            "grid_auto_columns": null,
            "grid_auto_flow": null,
            "grid_auto_rows": null,
            "grid_column": null,
            "grid_gap": null,
            "grid_row": null,
            "grid_template_areas": null,
            "grid_template_columns": null,
            "grid_template_rows": null,
            "height": null,
            "justify_content": null,
            "justify_items": null,
            "left": null,
            "margin": null,
            "max_height": null,
            "max_width": null,
            "min_height": null,
            "min_width": null,
            "object_fit": null,
            "object_position": null,
            "order": null,
            "overflow": null,
            "overflow_x": null,
            "overflow_y": null,
            "padding": null,
            "right": null,
            "top": null,
            "visibility": null,
            "width": null
          }
        },
        "9e9cda41ec00440bac184d12814c53a7": {
          "model_module": "@jupyter-widgets/controls",
          "model_module_version": "1.5.0",
          "model_name": "DescriptionStyleModel",
          "state": {
            "_model_module": "@jupyter-widgets/controls",
            "_model_module_version": "1.5.0",
            "_model_name": "DescriptionStyleModel",
            "_view_count": null,
            "_view_module": "@jupyter-widgets/base",
            "_view_module_version": "1.2.0",
            "_view_name": "StyleView",
            "description_width": ""
          }
        },
        "a1dcfd98398249479556b251a9a23e02": {
          "model_module": "@jupyter-widgets/controls",
          "model_module_version": "1.5.0",
          "model_name": "ProgressStyleModel",
          "state": {
            "_model_module": "@jupyter-widgets/controls",
            "_model_module_version": "1.5.0",
            "_model_name": "ProgressStyleModel",
            "_view_count": null,
            "_view_module": "@jupyter-widgets/base",
            "_view_module_version": "1.2.0",
            "_view_name": "StyleView",
            "bar_color": null,
            "description_width": ""
          }
        },
        "a6eb673a2bed4f0ca60575ea64290352": {
          "model_module": "@jupyter-widgets/controls",
          "model_module_version": "1.5.0",
          "model_name": "HTMLModel",
          "state": {
            "_dom_classes": [],
            "_model_module": "@jupyter-widgets/controls",
            "_model_module_version": "1.5.0",
            "_model_name": "HTMLModel",
            "_view_count": null,
            "_view_module": "@jupyter-widgets/controls",
            "_view_module_version": "1.5.0",
            "_view_name": "HTMLView",
            "description": "",
            "description_tooltip": null,
            "layout": "IPY_MODEL_4c41785a60fd4014a6e70046fecd4673",
            "placeholder": "​",
            "style": "IPY_MODEL_2633393dca6c40ce953bfbc0ec0f4d3e",
            "value": " 426k/426k [00:00&lt;00:00, 689kB/s]"
          }
        },
        "b0f4bea053864703bef3e0a93ed8864b": {
          "model_module": "@jupyter-widgets/controls",
          "model_module_version": "1.5.0",
          "model_name": "HTMLModel",
          "state": {
            "_dom_classes": [],
            "_model_module": "@jupyter-widgets/controls",
            "_model_module_version": "1.5.0",
            "_model_name": "HTMLModel",
            "_view_count": null,
            "_view_module": "@jupyter-widgets/controls",
            "_view_module_version": "1.5.0",
            "_view_name": "HTMLView",
            "description": "",
            "description_tooltip": null,
            "layout": "IPY_MODEL_666c3809d3b444b18843047992153af2",
            "placeholder": "​",
            "style": "IPY_MODEL_0ef097d2bd3c40778ba164cb100e1385",
            "value": "Downloading: 100%"
          }
        },
        "c177289524bd494f8d89c34de17b913e": {
          "model_module": "@jupyter-widgets/controls",
          "model_module_version": "1.5.0",
          "model_name": "HTMLModel",
          "state": {
            "_dom_classes": [],
            "_model_module": "@jupyter-widgets/controls",
            "_model_module_version": "1.5.0",
            "_model_name": "HTMLModel",
            "_view_count": null,
            "_view_module": "@jupyter-widgets/controls",
            "_view_module_version": "1.5.0",
            "_view_name": "HTMLView",
            "description": "",
            "description_tooltip": null,
            "layout": "IPY_MODEL_cc10cd9841bd47c49c197c5bc72cff6c",
            "placeholder": "​",
            "style": "IPY_MODEL_eba32135463344d0ba823c84453f5316",
            "value": " 338M/338M [00:10&lt;00:00, 38.9MB/s]"
          }
        },
        "c1973e5617d041329ae37ad2bc62ddc8": {
          "model_module": "@jupyter-widgets/base",
          "model_module_version": "1.2.0",
          "model_name": "LayoutModel",
          "state": {
            "_model_module": "@jupyter-widgets/base",
            "_model_module_version": "1.2.0",
            "_model_name": "LayoutModel",
            "_view_count": null,
            "_view_module": "@jupyter-widgets/base",
            "_view_module_version": "1.2.0",
            "_view_name": "LayoutView",
            "align_content": null,
            "align_items": null,
            "align_self": null,
            "border": null,
            "bottom": null,
            "display": null,
            "flex": null,
            "flex_flow": null,
            "grid_area": null,
            "grid_auto_columns": null,
            "grid_auto_flow": null,
            "grid_auto_rows": null,
            "grid_column": null,
            "grid_gap": null,
            "grid_row": null,
            "grid_template_areas": null,
            "grid_template_columns": null,
            "grid_template_rows": null,
            "height": null,
            "justify_content": null,
            "justify_items": null,
            "left": null,
            "margin": null,
            "max_height": null,
            "max_width": null,
            "min_height": null,
            "min_width": null,
            "object_fit": null,
            "object_position": null,
            "order": null,
            "overflow": null,
            "overflow_x": null,
            "overflow_y": null,
            "padding": null,
            "right": null,
            "top": null,
            "visibility": null,
            "width": null
          }
        },
        "c1fbbccc8fcb47059c4c26b675da0fa9": {
          "model_module": "@jupyter-widgets/base",
          "model_module_version": "1.2.0",
          "model_name": "LayoutModel",
          "state": {
            "_model_module": "@jupyter-widgets/base",
            "_model_module_version": "1.2.0",
            "_model_name": "LayoutModel",
            "_view_count": null,
            "_view_module": "@jupyter-widgets/base",
            "_view_module_version": "1.2.0",
            "_view_name": "LayoutView",
            "align_content": null,
            "align_items": null,
            "align_self": null,
            "border": null,
            "bottom": null,
            "display": null,
            "flex": null,
            "flex_flow": null,
            "grid_area": null,
            "grid_auto_columns": null,
            "grid_auto_flow": null,
            "grid_auto_rows": null,
            "grid_column": null,
            "grid_gap": null,
            "grid_row": null,
            "grid_template_areas": null,
            "grid_template_columns": null,
            "grid_template_rows": null,
            "height": null,
            "justify_content": null,
            "justify_items": null,
            "left": null,
            "margin": null,
            "max_height": null,
            "max_width": null,
            "min_height": null,
            "min_width": null,
            "object_fit": null,
            "object_position": null,
            "order": null,
            "overflow": null,
            "overflow_x": null,
            "overflow_y": null,
            "padding": null,
            "right": null,
            "top": null,
            "visibility": null,
            "width": null
          }
        },
        "c541b0573f704d7a8e44f7b81162dee3": {
          "model_module": "@jupyter-widgets/controls",
          "model_module_version": "1.5.0",
          "model_name": "DescriptionStyleModel",
          "state": {
            "_model_module": "@jupyter-widgets/controls",
            "_model_module_version": "1.5.0",
            "_model_name": "DescriptionStyleModel",
            "_view_count": null,
            "_view_module": "@jupyter-widgets/base",
            "_view_module_version": "1.2.0",
            "_view_name": "StyleView",
            "description_width": ""
          }
        },
        "cab5174c88804cdab5c492daaf3414cb": {
          "model_module": "@jupyter-widgets/base",
          "model_module_version": "1.2.0",
          "model_name": "LayoutModel",
          "state": {
            "_model_module": "@jupyter-widgets/base",
            "_model_module_version": "1.2.0",
            "_model_name": "LayoutModel",
            "_view_count": null,
            "_view_module": "@jupyter-widgets/base",
            "_view_module_version": "1.2.0",
            "_view_name": "LayoutView",
            "align_content": null,
            "align_items": null,
            "align_self": null,
            "border": null,
            "bottom": null,
            "display": null,
            "flex": null,
            "flex_flow": null,
            "grid_area": null,
            "grid_auto_columns": null,
            "grid_auto_flow": null,
            "grid_auto_rows": null,
            "grid_column": null,
            "grid_gap": null,
            "grid_row": null,
            "grid_template_areas": null,
            "grid_template_columns": null,
            "grid_template_rows": null,
            "height": null,
            "justify_content": null,
            "justify_items": null,
            "left": null,
            "margin": null,
            "max_height": null,
            "max_width": null,
            "min_height": null,
            "min_width": null,
            "object_fit": null,
            "object_position": null,
            "order": null,
            "overflow": null,
            "overflow_x": null,
            "overflow_y": null,
            "padding": null,
            "right": null,
            "top": null,
            "visibility": null,
            "width": null
          }
        },
        "cc10cd9841bd47c49c197c5bc72cff6c": {
          "model_module": "@jupyter-widgets/base",
          "model_module_version": "1.2.0",
          "model_name": "LayoutModel",
          "state": {
            "_model_module": "@jupyter-widgets/base",
            "_model_module_version": "1.2.0",
            "_model_name": "LayoutModel",
            "_view_count": null,
            "_view_module": "@jupyter-widgets/base",
            "_view_module_version": "1.2.0",
            "_view_name": "LayoutView",
            "align_content": null,
            "align_items": null,
            "align_self": null,
            "border": null,
            "bottom": null,
            "display": null,
            "flex": null,
            "flex_flow": null,
            "grid_area": null,
            "grid_auto_columns": null,
            "grid_auto_flow": null,
            "grid_auto_rows": null,
            "grid_column": null,
            "grid_gap": null,
            "grid_row": null,
            "grid_template_areas": null,
            "grid_template_columns": null,
            "grid_template_rows": null,
            "height": null,
            "justify_content": null,
            "justify_items": null,
            "left": null,
            "margin": null,
            "max_height": null,
            "max_width": null,
            "min_height": null,
            "min_width": null,
            "object_fit": null,
            "object_position": null,
            "order": null,
            "overflow": null,
            "overflow_x": null,
            "overflow_y": null,
            "padding": null,
            "right": null,
            "top": null,
            "visibility": null,
            "width": null
          }
        },
        "d71979c713114708a3b423dcd5ac45f8": {
          "model_module": "@jupyter-widgets/controls",
          "model_module_version": "1.5.0",
          "model_name": "ProgressStyleModel",
          "state": {
            "_model_module": "@jupyter-widgets/controls",
            "_model_module_version": "1.5.0",
            "_model_name": "ProgressStyleModel",
            "_view_count": null,
            "_view_module": "@jupyter-widgets/base",
            "_view_module_version": "1.2.0",
            "_view_name": "StyleView",
            "bar_color": null,
            "description_width": ""
          }
        },
        "db6fa64e21924e01ad8f1263aa3f9954": {
          "model_module": "@jupyter-widgets/base",
          "model_module_version": "1.2.0",
          "model_name": "LayoutModel",
          "state": {
            "_model_module": "@jupyter-widgets/base",
            "_model_module_version": "1.2.0",
            "_model_name": "LayoutModel",
            "_view_count": null,
            "_view_module": "@jupyter-widgets/base",
            "_view_module_version": "1.2.0",
            "_view_name": "LayoutView",
            "align_content": null,
            "align_items": null,
            "align_self": null,
            "border": null,
            "bottom": null,
            "display": null,
            "flex": null,
            "flex_flow": null,
            "grid_area": null,
            "grid_auto_columns": null,
            "grid_auto_flow": null,
            "grid_auto_rows": null,
            "grid_column": null,
            "grid_gap": null,
            "grid_row": null,
            "grid_template_areas": null,
            "grid_template_columns": null,
            "grid_template_rows": null,
            "height": null,
            "justify_content": null,
            "justify_items": null,
            "left": null,
            "margin": null,
            "max_height": null,
            "max_width": null,
            "min_height": null,
            "min_width": null,
            "object_fit": null,
            "object_position": null,
            "order": null,
            "overflow": null,
            "overflow_x": null,
            "overflow_y": null,
            "padding": null,
            "right": null,
            "top": null,
            "visibility": null,
            "width": null
          }
        },
        "dcf72092ad8243b58546668ed4fc4109": {
          "model_module": "@jupyter-widgets/controls",
          "model_module_version": "1.5.0",
          "model_name": "FloatProgressModel",
          "state": {
            "_dom_classes": [],
            "_model_module": "@jupyter-widgets/controls",
            "_model_module_version": "1.5.0",
            "_model_name": "FloatProgressModel",
            "_view_count": null,
            "_view_module": "@jupyter-widgets/controls",
            "_view_module_version": "1.5.0",
            "_view_name": "ProgressView",
            "bar_style": "success",
            "description": "",
            "description_tooltip": null,
            "layout": "IPY_MODEL_07b3627cea864d10a2383cf1f4db4b0d",
            "max": 29,
            "min": 0,
            "orientation": "horizontal",
            "style": "IPY_MODEL_d71979c713114708a3b423dcd5ac45f8",
            "value": 29
          }
        },
        "e3f4f8611c6c4378bae9968665fc6a3b": {
          "model_module": "@jupyter-widgets/base",
          "model_module_version": "1.2.0",
          "model_name": "LayoutModel",
          "state": {
            "_model_module": "@jupyter-widgets/base",
            "_model_module_version": "1.2.0",
            "_model_name": "LayoutModel",
            "_view_count": null,
            "_view_module": "@jupyter-widgets/base",
            "_view_module_version": "1.2.0",
            "_view_name": "LayoutView",
            "align_content": null,
            "align_items": null,
            "align_self": null,
            "border": null,
            "bottom": null,
            "display": null,
            "flex": null,
            "flex_flow": null,
            "grid_area": null,
            "grid_auto_columns": null,
            "grid_auto_flow": null,
            "grid_auto_rows": null,
            "grid_column": null,
            "grid_gap": null,
            "grid_row": null,
            "grid_template_areas": null,
            "grid_template_columns": null,
            "grid_template_rows": null,
            "height": null,
            "justify_content": null,
            "justify_items": null,
            "left": null,
            "margin": null,
            "max_height": null,
            "max_width": null,
            "min_height": null,
            "min_width": null,
            "object_fit": null,
            "object_position": null,
            "order": null,
            "overflow": null,
            "overflow_x": null,
            "overflow_y": null,
            "padding": null,
            "right": null,
            "top": null,
            "visibility": null,
            "width": null
          }
        },
        "eaf387021ce54630ac45b64ed72bdaa0": {
          "model_module": "@jupyter-widgets/controls",
          "model_module_version": "1.5.0",
          "model_name": "DescriptionStyleModel",
          "state": {
            "_model_module": "@jupyter-widgets/controls",
            "_model_module_version": "1.5.0",
            "_model_name": "DescriptionStyleModel",
            "_view_count": null,
            "_view_module": "@jupyter-widgets/base",
            "_view_module_version": "1.2.0",
            "_view_name": "StyleView",
            "description_width": ""
          }
        },
        "eba32135463344d0ba823c84453f5316": {
          "model_module": "@jupyter-widgets/controls",
          "model_module_version": "1.5.0",
          "model_name": "DescriptionStyleModel",
          "state": {
            "_model_module": "@jupyter-widgets/controls",
            "_model_module_version": "1.5.0",
            "_model_name": "DescriptionStyleModel",
            "_view_count": null,
            "_view_module": "@jupyter-widgets/base",
            "_view_module_version": "1.2.0",
            "_view_name": "StyleView",
            "description_width": ""
          }
        },
        "ed693f0ffc38476a9f81b9b4cc7c34a2": {
          "model_module": "@jupyter-widgets/controls",
          "model_module_version": "1.5.0",
          "model_name": "HTMLModel",
          "state": {
            "_dom_classes": [],
            "_model_module": "@jupyter-widgets/controls",
            "_model_module_version": "1.5.0",
            "_model_name": "HTMLModel",
            "_view_count": null,
            "_view_module": "@jupyter-widgets/controls",
            "_view_module_version": "1.5.0",
            "_view_name": "HTMLView",
            "description": "",
            "description_tooltip": null,
            "layout": "IPY_MODEL_2150ae3e7c1d440abdbad46de53e5a02",
            "placeholder": "​",
            "style": "IPY_MODEL_28133b6c7cab4746856c84521db93d78",
            "value": " 411/411 [00:00&lt;00:00, 9.97kB/s]"
          }
        },
        "f3b8127b44074cd0b6f55edc957392a8": {
          "model_module": "@jupyter-widgets/controls",
          "model_module_version": "1.5.0",
          "model_name": "HTMLModel",
          "state": {
            "_dom_classes": [],
            "_model_module": "@jupyter-widgets/controls",
            "_model_module_version": "1.5.0",
            "_model_name": "HTMLModel",
            "_view_count": null,
            "_view_module": "@jupyter-widgets/controls",
            "_view_module_version": "1.5.0",
            "_view_name": "HTMLView",
            "description": "",
            "description_tooltip": null,
            "layout": "IPY_MODEL_6a1d837259954f098850ecfd65aff423",
            "placeholder": "​",
            "style": "IPY_MODEL_7739f0e78aea4310a521436b840ff4ee",
            "value": "Downloading: 100%"
          }
        },
        "f551ff69ec93455492fa3a7ab9c7b645": {
          "model_module": "@jupyter-widgets/controls",
          "model_module_version": "1.5.0",
          "model_name": "HTMLModel",
          "state": {
            "_dom_classes": [],
            "_model_module": "@jupyter-widgets/controls",
            "_model_module_version": "1.5.0",
            "_model_name": "HTMLModel",
            "_view_count": null,
            "_view_module": "@jupyter-widgets/controls",
            "_view_module_version": "1.5.0",
            "_view_name": "HTMLView",
            "description": "",
            "description_tooltip": null,
            "layout": "IPY_MODEL_05d048f2ad174011882fe9422aae1d12",
            "placeholder": "​",
            "style": "IPY_MODEL_eaf387021ce54630ac45b64ed72bdaa0",
            "value": " 208k/208k [00:00&lt;00:00, 639kB/s]"
          }
        },
        "fcc728487d7d48c984d20fe8040c8c38": {
          "model_module": "@jupyter-widgets/controls",
          "model_module_version": "1.5.0",
          "model_name": "FloatProgressModel",
          "state": {
            "_dom_classes": [],
            "_model_module": "@jupyter-widgets/controls",
            "_model_module_version": "1.5.0",
            "_model_name": "FloatProgressModel",
            "_view_count": null,
            "_view_module": "@jupyter-widgets/controls",
            "_view_module_version": "1.5.0",
            "_view_name": "ProgressView",
            "bar_style": "success",
            "description": "",
            "description_tooltip": null,
            "layout": "IPY_MODEL_77de43920fea49e4abcd83e954779c4c",
            "max": 435797,
            "min": 0,
            "orientation": "horizontal",
            "style": "IPY_MODEL_6d38d99556264fb0905fd715aaa3fb01",
            "value": 435797
          }
        },
        "fe05bbbc9b2543f59d1391f210ae0377": {
          "model_module": "@jupyter-widgets/controls",
          "model_module_version": "1.5.0",
          "model_name": "HBoxModel",
          "state": {
            "_dom_classes": [],
            "_model_module": "@jupyter-widgets/controls",
            "_model_module_version": "1.5.0",
            "_model_name": "HBoxModel",
            "_view_count": null,
            "_view_module": "@jupyter-widgets/controls",
            "_view_module_version": "1.5.0",
            "_view_name": "HBoxView",
            "box_style": "",
            "children": [
              "IPY_MODEL_6ea8b340c6af41fca1fe491c9d6f71ad",
              "IPY_MODEL_fcc728487d7d48c984d20fe8040c8c38",
              "IPY_MODEL_a6eb673a2bed4f0ca60575ea64290352"
            ],
            "layout": "IPY_MODEL_e3f4f8611c6c4378bae9968665fc6a3b"
          }
        }
      }
    }
  },
  "nbformat": 4,
  "nbformat_minor": 0
}
