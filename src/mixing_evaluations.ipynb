{
 "cells": [
  {
   "cell_type": "code",
   "execution_count": 1,
   "metadata": {
    "id": "7XgjiKCtAO7v"
   },
   "outputs": [],
   "source": [
    "username = 'MarcelloCeresini'\n",
    "repository = 'QuestionAnswering'\n",
    "\n",
    "# COLAB ONLY CELLS\n",
    "try:\n",
    "    import google.colab\n",
    "    IN_COLAB = True\n",
    "    !pip3 install transformers\n",
    "    !git clone https://www.github.com/{username}/{repository}.git\n",
    "    from google.colab import drive\n",
    "    drive.mount('/content/drive/')\n",
    "    %cd /content/QuestionAnswering/src\n",
    "except:\n",
    "    IN_COLAB = False"
   ]
  },
  {
   "cell_type": "markdown",
   "metadata": {
    "id": "iEPJtOrPAw4x"
   },
   "source": [
    "# Setup"
   ]
  },
  {
   "cell_type": "markdown",
   "metadata": {
    "id": "19ibRNmwBCaC"
   },
   "source": [
    " ## Imports & paths definitions"
   ]
  },
  {
   "cell_type": "code",
   "execution_count": 2,
   "metadata": {
    "id": "Impbrs6HAhGu"
   },
   "outputs": [],
   "source": [
    "%matplotlib inline\n",
    "\n",
    "from genericpath import exists\n",
    "import os\n",
    "from tqdm import tqdm\n",
    "import random\n",
    "import json\n",
    "import numpy as np\n",
    "import pandas as pd\n",
    "import tensorflow as tf\n",
    "import matplotlib.pyplot as plt\n",
    "from functools import partial\n",
    "\n",
    "from sklearn.feature_extraction.text import TfidfVectorizer\n",
    "\n",
    "from config import Config\n",
    "config = Config()\n",
    "import utils\n",
    "\n",
    "# Fix random seed for reproducibility\n",
    "np.random.seed(config.RANDOM_SEED)\n",
    "random.seed(config.RANDOM_SEED)\n",
    "tf.random.set_seed(config.RANDOM_SEED)\n",
    "\n",
    "from typing import List, Dict\n",
    "#os.environ['KMP_DUPLICATE_LIB_OK'] = 'TRUE'\n",
    "\n",
    "ROOT_PATH = os.path.dirname(os.getcwd())\n",
    "TRAINING_FILE = os.path.join(ROOT_PATH, 'data', 'training_set.json')\n",
    "VALIDATION_FILE = os.path.join(ROOT_PATH, 'data', 'validation_set.json')\n",
    "TEST_FILE = os.path.join(ROOT_PATH, 'data', 'dev_set.json')\n",
    "BEST_WEIGHTS_PATH = \"./checkpoints/normal.h5\" if not IN_COLAB else \\\n",
    "    '/content/drive/MyDrive/Uni/Magistrale/NLP/Project/weights/normal_100_tpu_h5_cval/normal.h5'\n",
    "BERT_BEST_WEIGHTS_PATH = \"./checkpoints/bert.h5\" if not IN_COLAB else \\\n",
    "    \"/content/drive/MyDrive/Uni/Magistrale/NLP/Project/weights/normal_BERT_100_tpu_h5_cval/bert.h5\"\n",
    "\n",
    "if IN_COLAB:\n",
    "    checkpoint_dir = '/content/drive/MyDrive/Uni/Magistrale/NLP/Project/weights/training_dpr/'\n",
    "    datasets_dir = '/content/drive/MyDrive/Uni/Magistrale/NLP/Project/datasets/dpr/'\n",
    "else:\n",
    "    checkpoint_dir = os.path.join(ROOT_PATH, \"data\", \"training_dpr\")\n",
    "    datasets_dir = os.path.join(checkpoint_dir, \"dataset\")\n",
    "\n",
    "representations_dir = os.path.join(datasets_dir, 'representations')\n",
    "os.makedirs(checkpoint_dir, exist_ok=True)\n",
    "os.makedirs(datasets_dir, exist_ok=True)\n",
    "os.makedirs(os.path.join(ROOT_PATH, 'data', 'results', 'dpr_results'), exist_ok=True)"
   ]
  },
  {
   "cell_type": "markdown",
   "metadata": {
    "id": "7iwYAhVoBEWT"
   },
   "source": [
    "## Preparing paragraphs and questions"
   ]
  },
  {
   "cell_type": "code",
   "execution_count": 3,
   "metadata": {
    "id": "o9mjH7IrA4W7"
   },
   "outputs": [],
   "source": [
    "train_paragraphs_and_questions = utils.read_question_set(TRAINING_FILE)['data']\n",
    "val_paragraphs_and_questions = utils.read_question_set(VALIDATION_FILE)['data']\n",
    "test_paragraphs_and_questions = utils.read_question_set(TEST_FILE)['data']\n",
    "\n",
    "# Remove the validation set from the train set\n",
    "train_paragraphs_and_questions = [article for article in train_paragraphs_and_questions \\\n",
    "                                  if article not in val_paragraphs_and_questions]"
   ]
  },
  {
   "cell_type": "code",
   "execution_count": 4,
   "metadata": {
    "id": "rqhQ8QKCA-QJ"
   },
   "outputs": [],
   "source": [
    "def get_questions_and_paragraphs(dataset):\n",
    "    questions = [{\n",
    "            'qas': qas,\n",
    "            'context_id': (i,j)    # We also track the question's original context and paragraph indices so to have a ground truth\n",
    "        }\n",
    "        for i in range(len(dataset))\n",
    "        for j, para in enumerate(dataset[i]['paragraphs'])\n",
    "        for qas in para['qas']\n",
    "    ]\n",
    "\n",
    "    paragraphs = [{\n",
    "            'context': para['context'],\n",
    "            'context_id': i\n",
    "        }\n",
    "        for i in range(len(dataset))\n",
    "        for para in dataset[i]['paragraphs']\n",
    "    ]\n",
    "\n",
    "    return questions, paragraphs\n",
    "\n",
    "train_questions, train_paragraphs = get_questions_and_paragraphs(train_paragraphs_and_questions)\n",
    "val_questions, val_paragraphs = get_questions_and_paragraphs(val_paragraphs_and_questions)\n",
    "test_questions, test_paragraphs = get_questions_and_paragraphs(test_paragraphs_and_questions)"
   ]
  },
  {
   "cell_type": "markdown",
   "metadata": {
    "id": "XnMyq2r7LOkK"
   },
   "source": [
    "## Importing questions and paragraphs representations (according to DPR)"
   ]
  },
  {
   "cell_type": "code",
   "execution_count": 5,
   "metadata": {
    "id": "RMdVEBaGLNhw"
   },
   "outputs": [],
   "source": [
    "train_paragraphs_encodings = np.load(os.path.join(representations_dir, 'train_paragraphs_encodings.npy'))\n",
    "val_paragraphs_encodings   = np.load(os.path.join(representations_dir, 'val_paragraphs_encodings.npy'))\n",
    "test_paragraphs_encodings  = np.load(os.path.join(representations_dir, 'test_paragraphs_encodings.npy'))\n",
    "\n",
    "train_questions_encodings  = np.load(os.path.join(representations_dir, 'train_questions_encodings.npy'))\n",
    "val_questions_encodings    = np.load(os.path.join(representations_dir, 'val_questions_encodings.npy'))\n",
    "test_questions_encodings   = np.load(os.path.join(representations_dir, 'test_questions_encodings.npy'))"
   ]
  },
  {
   "cell_type": "markdown",
   "metadata": {
    "id": "IOKpJFvTBV-k"
   },
   "source": [
    "## Preparing vectorizers"
   ]
  },
  {
   "cell_type": "code",
   "execution_count": 6,
   "metadata": {
    "id": "KAopuYerBXn5"
   },
   "outputs": [],
   "source": [
    "train_vectorizer = TfidfVectorizer(strip_accents='unicode', lowercase=True, max_df=0.8, norm='l2')\n",
    "val_vectorizer = TfidfVectorizer(strip_accents='unicode', lowercase=True, max_df=0.8, norm='l2')\n",
    "test_vectorizer = TfidfVectorizer(strip_accents='unicode', lowercase=True, max_df=0.8, norm='l2')"
   ]
  },
  {
   "cell_type": "markdown",
   "metadata": {
    "id": "6xTltnnTBfHq"
   },
   "source": [
    "Train the vectorizers and simultaneously create representations of the paragraphs."
   ]
  },
  {
   "cell_type": "code",
   "execution_count": 7,
   "metadata": {
    "id": "icBjREWBBd6e"
   },
   "outputs": [],
   "source": [
    "train_docs = train_vectorizer.fit_transform([train_paragraphs[i]['context'] for i in range(len(train_paragraphs))])\n",
    "val_docs = val_vectorizer.fit_transform([val_paragraphs[i]['context'] for i in range(len(val_paragraphs))])\n",
    "test_docs = test_vectorizer.fit_transform([test_paragraphs[i]['context'] for i in range(len(test_paragraphs))])"
   ]
  },
  {
   "cell_type": "markdown",
   "metadata": {
    "id": "EzFVDv3FPtwB"
   },
   "source": [
    "We also use the train vectorizer to create representations of the test paragraphs"
   ]
  },
  {
   "cell_type": "code",
   "execution_count": 8,
   "metadata": {
    "id": "6HEfQHCeP1H1"
   },
   "outputs": [],
   "source": [
    "test_docs_with_train_vectorizer = train_vectorizer.transform([test_paragraphs[i]['context'] \n",
    "                                                              for i in range(len(test_paragraphs))])"
   ]
  },
  {
   "cell_type": "markdown",
   "metadata": {
    "id": "deS7yFHeByBW"
   },
   "source": [
    "## Utility functions"
   ]
  },
  {
   "cell_type": "markdown",
   "metadata": {
    "id": "Noygxt4JxnSr"
   },
   "source": [
    "Some functions that can be used to facilitate the scoring of paragraphs with respect to a query question."
   ]
  },
  {
   "cell_type": "code",
   "execution_count": 9,
   "metadata": {
    "id": "_JrfugDDBpQH"
   },
   "outputs": [],
   "source": [
    "def score_documents(vectorizer, query, docs):\n",
    "    '''\n",
    "    Obtain the TfIdf scores between the question and the matrix of paragraphs.\n",
    "    '''\n",
    "    q = query['qas']['question']\n",
    "    q = vectorizer.transform([q]) # q will be a (sparse) matrix with dimensionality 1 x vocab_dim\n",
    "    # We can compute a vector of all dot products scores and transform it from dense matrix to numpy array like this:\n",
    "    return np.asarray(np.dot(docs, q.T).todense()).flatten()\n",
    "\n",
    "def top_n_for_question(paragraphs, vectorizer, query, docs, n=5):\n",
    "    '''\n",
    "    Obtain the most relevant paragraph for the presented query question according to the vectorizer.\n",
    "    '''\n",
    "    scores = score_documents(vectorizer, query, docs)\n",
    "    sorted_scores = np.argsort(-scores) # Negated scores for descending order\n",
    "    return [paragraphs[i] for i in sorted_scores[:n]], scores[sorted_scores[:n]], sorted_scores[:n]\n",
    "\n",
    "def get_paragraph_encoding_index(question, dataset):\n",
    "    '''\n",
    "    Obtain the index of paragraph the question refers to inside a specific dataset.\n",
    "    '''\n",
    "    art_id, par_id = question['context_id']\n",
    "    idx = sum([len(dataset[i]['paragraphs']) for i in range(art_id)]) + par_id\n",
    "    return idx"
   ]
  },
  {
   "cell_type": "markdown",
   "metadata": {
    "id": "PzWj3U6cCnQp"
   },
   "source": [
    "# Dataset creation"
   ]
  },
  {
   "cell_type": "markdown",
   "metadata": {
    "id": "vySRK-wZCxMF"
   },
   "source": [
    "We need to create a dataset to link each question to the **predicted** best paragraph.\n",
    "\n",
    "First we create a generator that yields encoded pairs of the form (question - best predicted paragraph)."
   ]
  },
  {
   "cell_type": "code",
   "execution_count": 10,
   "metadata": {
    "id": "fjDDB_STyFOt"
   },
   "outputs": [],
   "source": [
    "def predicted_paragraphs_dataset_generator(questions: List[Dict], predicted_paragraphs: List, \n",
    "                                            config: Config, return_question_id:bool=False):\n",
    "    # Iterate over questions\n",
    "    for i, q in enumerate(questions):\n",
    "        # We use the paragraph obtained by the vectorizer to compute the best scoring paragraph for the question\n",
    "        paragraph = predicted_paragraphs[i]\n",
    "        # Then encode the input as usual using Bert's tokenizer\n",
    "        encoded_inputs = config.tokenizer(\n",
    "            q['qas'][\"question\"],               # First we pass the question text\n",
    "            paragraph['context'],               # Then the best scoring paragraph text\n",
    "            max_length = config.INPUT_LEN,      # We want to pad and truncate to the max length\n",
    "            truncation = True,\n",
    "            padding = 'max_length',             # Pads all sequences to 512.\n",
    "            return_token_type_ids = config.bert,# Return if the token is from sentence 0 or sentence 1\n",
    "            return_attention_mask = True,       # Return if it's a pad token or not\n",
    "        )\n",
    "        if return_question_id:\n",
    "            yield dict(encoded_inputs), q['qas']['id']\n",
    "        else:\n",
    "            yield dict(encoded_inputs)"
   ]
  },
  {
   "cell_type": "markdown",
   "metadata": {
    "id": "HZtDafLEyGwH"
   },
   "source": [
    "Then we generate the \"original\" dataset containing only the text of the predicted paragraph and the offset mappings of its tokens, which is useful to retrieve the answer to the question."
   ]
  },
  {
   "cell_type": "code",
   "execution_count": 11,
   "metadata": {
    "id": "oMg15LSGySu1"
   },
   "outputs": [],
   "source": [
    "def create_original_dataset_with_tf_idf(questions: List[Dict], \n",
    "                                        predicted_paragraphs: List,\n",
    "                                        config: Config):\n",
    "    features = []\n",
    "    for i, q in enumerate(questions):\n",
    "        inputs={}\n",
    "        # The paragraph is collected from those that were pre-predicted\n",
    "        paragraph = predicted_paragraphs[i]\n",
    "        encoded_inputs = config.tokenizer(\n",
    "            q['qas'][\"question\"],               # First we pass the question\n",
    "            paragraph[\"context\"],               # Then the context\n",
    "            max_length = config.INPUT_LEN,      # We want to pad and truncate to this length\n",
    "            truncation = True,\n",
    "            padding = 'max_length',             # Pads all sequences to 512.\n",
    "            return_token_type_ids = False,      # Return if the token is from sentence  0 or sentence 1\n",
    "            return_attention_mask = False,      # Return if it's a pad token or not\n",
    "            return_offsets_mapping = True       # Returns each token's first and last char positions in the original sentence\n",
    "        )\n",
    "        # We fill the inputs dictionary\n",
    "        inputs[\"context\"] = paragraph[\"context\"]\n",
    "        inputs[\"offset_mapping\"] = encoded_inputs[\"offset_mapping\"]\n",
    "        features.append(inputs)\n",
    "    return tf.data.Dataset.from_tensor_slices(\n",
    "        pd.DataFrame.from_dict(features).to_dict(orient=\"list\"))"
   ]
  },
  {
   "cell_type": "markdown",
   "metadata": {
    "id": "UJg3kbUsyaPs"
   },
   "source": [
    "Finally, we create the actual dataset using the generator we defined above."
   ]
  },
  {
   "cell_type": "code",
   "execution_count": 12,
   "metadata": {
    "id": "-T6kPu5JCiXO"
   },
   "outputs": [],
   "source": [
    "def create_dataset_using_tf_idf_vectorizer( questions: List[Dict],\n",
    "                                            predicted_paragraphs: List,\n",
    "                                            config: Config  ) -> tf.data.Dataset:\n",
    "    # Create expected signature for the generator output\n",
    "    if config.bert:\n",
    "        features = {\n",
    "            'input_ids': tf.TensorSpec(shape=(512,), dtype=tf.int32), \n",
    "            'attention_mask': tf.TensorSpec(shape=(512,), dtype=tf.int32),\n",
    "            'token_type_ids': tf.TensorSpec(shape=(512,), dtype=tf.int32)\n",
    "        }\n",
    "    else:\n",
    "        features = {\n",
    "            'input_ids': tf.TensorSpec(shape=(512,), dtype=tf.int32), \n",
    "            'attention_mask': tf.TensorSpec(shape=(512,), dtype=tf.int32)\n",
    "        }\n",
    "    # The dataset contains the features and the question IDs (strings)\n",
    "    signature = (features, tf.TensorSpec(shape=(), dtype=tf.string))\n",
    "    # Instantiates a partial generator\n",
    "    data_gen = partial(predicted_paragraphs_dataset_generator, \n",
    "        questions, predicted_paragraphs, config, return_question_id=True)\n",
    "    # Creates the dataset with the computed signature\n",
    "    dataset = tf.data.Dataset.from_generator(data_gen,\n",
    "        output_signature=signature)\n",
    "    # Compute dataset length, to be used by tensorflow internals\n",
    "    dataset = dataset.apply(tf.data.experimental.assert_cardinality(len(questions)))\n",
    "    # Return the dataset\n",
    "    return dataset"
   ]
  },
  {
   "cell_type": "markdown",
   "metadata": {
    "id": "oAJx8VYhXALa"
   },
   "source": [
    "We prepare some utility classes, objects and functions for handling the score mixing prior to the paragraph selection."
   ]
  },
  {
   "cell_type": "code",
   "execution_count": 13,
   "metadata": {
    "id": "eXUrwLUGMLoT"
   },
   "outputs": [],
   "source": [
    "from enum import Enum, auto\n",
    "\n",
    "class MixingType(Enum):\n",
    "    TF_IDF_ONLY = auto()\n",
    "    DPR_ONLY = auto()\n",
    "    SUM = auto()\n",
    "    MAX = auto()\n",
    "    WEIGHTED_SUM = auto()\n",
    "\n",
    "class DatasetType(Enum):\n",
    "    TRAIN = auto()\n",
    "    VAL = auto()\n",
    "    TEST = auto()\n",
    "    TEST_WITH_TRAIN_VECT = auto()\n",
    "\n",
    "datasets_info = {\n",
    "    DatasetType.TRAIN: {\n",
    "        'questions': train_questions,\n",
    "        'question_encodings': train_questions_encodings,\n",
    "        'paragraphs': train_paragraphs,\n",
    "        'paragraph_encodings': train_paragraphs_encodings,\n",
    "        'vectorizer': train_vectorizer,\n",
    "        'docs_vectorized': train_docs,\n",
    "        'dataset_path': TRAINING_FILE\n",
    "    },\n",
    "    DatasetType.VAL: {\n",
    "        'questions': val_questions,\n",
    "        'question_encodings': val_questions_encodings,\n",
    "        'paragraphs': val_paragraphs,\n",
    "        'paragraph_encodings': val_paragraphs_encodings,\n",
    "        'vectorizer': val_vectorizer,\n",
    "        'docs_vectorized': val_docs,\n",
    "        'dataset_path': VALIDATION_FILE\n",
    "    },\n",
    "    DatasetType.TEST: {\n",
    "        'questions': test_questions,\n",
    "        'question_encodings': test_questions_encodings,\n",
    "        'paragraphs': test_paragraphs,\n",
    "        'paragraph_encodings': test_paragraphs_encodings,\n",
    "        'vectorizer': test_vectorizer,\n",
    "        'docs_vectorized': test_docs,\n",
    "        'dataset_path': TEST_FILE\n",
    "    },\n",
    "    DatasetType.TEST_WITH_TRAIN_VECT: {\n",
    "        'questions': test_questions,\n",
    "        'question_encodings': test_questions_encodings,\n",
    "        'paragraphs': test_paragraphs,\n",
    "        'paragraph_encodings': test_paragraphs_encodings,\n",
    "        'vectorizer': train_vectorizer,\n",
    "        'docs_vectorized': test_docs_with_train_vectorizer,\n",
    "        'dataset_path': TEST_FILE\n",
    "    }\n",
    "}"
   ]
  },
  {
   "cell_type": "markdown",
   "metadata": {
    "id": "vzcdH4Q0za5U"
   },
   "source": [
    "These functions will handle all of the scores mixing options defined previously."
   ]
  },
  {
   "cell_type": "code",
   "execution_count": 14,
   "metadata": {
    "id": "3Wj5x6uPL4S8"
   },
   "outputs": [],
   "source": [
    "def weighted_sum_func(dpr_scores, tf_idf_scores, op='normalize', w_dpr=0, w_tfidf=0):\n",
    "    '''\n",
    "    A general functions for handling all weighted-sum-based mixing operations between scores.\n",
    "    '''\n",
    "    if op == 'normalize':\n",
    "        dpr_scores = dpr_scores/np.max(dpr_scores)\n",
    "        tf_idf_scores = tf_idf_scores/np.max(tf_idf_scores)\n",
    "    elif op == 'standardize':\n",
    "        dpr_scores = (dpr_scores-np.mean(dpr_scores))/np.std(dpr_scores)\n",
    "        tf_idf_scores = (tf_idf_scores-np.mean(tf_idf_scores))/np.std(tf_idf_scores)\n",
    "    return np.argsort(dpr_scores*w_dpr + tf_idf_scores*w_tfidf)\n",
    "\n",
    "def max_func(dpr_scores, tf_idf_scores):\n",
    "    '''\n",
    "    A general functions for handling all max-based mixing operations between scores.\n",
    "    '''\n",
    "    dpr_scores = dpr_scores/np.max(dpr_scores)\n",
    "    tf_idf_scores = tf_idf_scores/np.max(tf_idf_scores)\n",
    "    return np.argsort([max(d, t) for d, t in zip(dpr_scores, tf_idf_scores)])\n",
    "\n",
    "def get_best_paragraph_for_question_using_mix_type(dataset_info, i, mix_type:MixingType, h=0.15):    \n",
    "    '''\n",
    "    A general function that is able to handle all mixing types transparently.\n",
    "    It computes both DPR and TfIdf scores and sets up the parameters for mixing them\n",
    "    according to the `mix_type` argument.\n",
    "    `h` is the weighted sum hyperparameter which controls the weight of the TfIdf scores\n",
    "    with respect to the DPR scores.\n",
    "    '''\n",
    "    # Compute DPR scores\n",
    "    sample_q_repr = dataset_info['question_encodings'][i]\n",
    "    dpr_scores = np.dot(sample_q_repr, dataset_info['paragraph_encodings'].T)\n",
    "    # Compute TfIdf score\n",
    "    question_text = dataset_info['questions'][i]['qas']['question']\n",
    "    vect_question = dataset_info['vectorizer'].transform([question_text])\n",
    "    tfidf_scores = np.asarray(np.dot(dataset_info['docs_vectorized'], vect_question.T).todense()).flatten()\n",
    "    # Handle types\n",
    "    if mix_type is not MixingType.MAX:\n",
    "        op = 'normalize' if mix_type is not MixingType.WEIGHTED_SUM else 'standardize'\n",
    "        if mix_type is MixingType.DPR_ONLY:\n",
    "            w_dpr, w_tfidf = 1, 0\n",
    "        elif mix_type is MixingType.SUM:\n",
    "            w_dpr, w_tfidf = 1, 1\n",
    "        elif mix_type is MixingType.TF_IDF_ONLY:\n",
    "            w_dpr, w_tfidf = 0, 1\n",
    "        elif mix_type is MixingType.WEIGHTED_SUM:\n",
    "            w_dpr, w_tfidf = 1-h, h\n",
    "        return weighted_sum_func(dpr_scores, tfidf_scores, op, w_dpr, w_tfidf)[-1]\n",
    "    else:\n",
    "        return max_func(dpr_scores, tfidf_scores)[-1]"
   ]
  },
  {
   "cell_type": "markdown",
   "metadata": {
    "id": "T8VZW6ftXD8N"
   },
   "source": [
    "Finally, we define the prediction function and start the evaluations:"
   ]
  },
  {
   "cell_type": "code",
   "execution_count": 15,
   "metadata": {
    "id": "zlCXjyaaDgnv"
   },
   "outputs": [],
   "source": [
    "def compute_predictions(best_weights_path:str, \n",
    "                         path_to_predictions_json:str,\n",
    "                         config:Config,\n",
    "                         mixing_type:MixingType=MixingType.WEIGHTED_SUM,\n",
    "                         weighted_sum_h:float=0.15,\n",
    "                         dataset_type:DatasetType=DatasetType.TEST,\n",
    "                         hidden_state_list:List[int]=[3,4,5,6],\n",
    "                         bert=False):\n",
    "\n",
    "    # Deal with dataset type\n",
    "    print(\"Collecting the requested dataset and vectorizer...\")\n",
    "    if dataset_type in datasets_info:\n",
    "        dataset = datasets_info[dataset_type]\n",
    "    else:\n",
    "        raise NotImplementedError(\"That dataset type does not exist. \"\n",
    "            \"Change the dataset_type argument into one in the class DatasetType\")\n",
    "        \n",
    "    # We pre-compute the predicted paragraph for each question in the set.\n",
    "    print(\"Obtaining best paragraph for questions...\")\n",
    "    predicted_paragraphs = [dataset['paragraphs'][get_best_paragraph_for_question_using_mix_type(\n",
    "                                dataset, i, mixing_type, weighted_sum_h)]\n",
    "                            for i in tqdm(range(len(dataset['questions'])))]\n",
    "\n",
    "    print(\"Creating model and dataset...\")\n",
    "    config = Config(bert=bert)\n",
    "    # Process questions\n",
    "    tf_dataset = create_dataset_using_tf_idf_vectorizer(dataset['questions'], predicted_paragraphs, config)\n",
    "    print(\"Number of samples: \", len(tf_dataset))\n",
    "    tf_dataset = tf_dataset.batch(config.BATCH_SIZE)\n",
    "\n",
    "    # Generate the original dataset that contains the original context and token-char mapping\n",
    "    original_dataset = create_original_dataset_with_tf_idf(dataset['questions'], predicted_paragraphs, config)\n",
    "    original_dataset = original_dataset.batch(config.BATCH_SIZE)\n",
    "\n",
    "    # Load model with the best obtained weights from the old project\n",
    "    model = config.create_standard_model(hidden_state_list=hidden_state_list)\n",
    "    model.load_weights(best_weights_path)\n",
    "\n",
    "    # Predict the answers to the questions in the dataset\n",
    "    print(\"Computing predictions...\")\n",
    "    predictions = utils.compute_predictions(tf_dataset, original_dataset, model)\n",
    "    print(f\"Done! Saving predictions at {path_to_predictions_json} and running evaluation script...\")\n",
    "\n",
    "    # Create a prediction file formatted like the one that is expected\n",
    "    with open(path_to_predictions_json, 'w') as f:\n",
    "        json.dump(predictions, f)"
   ]
  },
  {
   "cell_type": "markdown",
   "metadata": {
    "id": "sZ8yW3sxYpfZ"
   },
   "source": [
    "# Evaluation"
   ]
  },
  {
   "cell_type": "markdown",
   "metadata": {
    "id": "7kIUbJeOzsuP"
   },
   "source": [
    "We save the path of the test dataset since almost all evaluations will use it."
   ]
  },
  {
   "cell_type": "code",
   "execution_count": 16,
   "metadata": {
    "id": "eyxrsDbuwAJz"
   },
   "outputs": [],
   "source": [
    "TEST_DATASET_PATH = datasets_info[DatasetType.TEST]['dataset_path']"
   ]
  },
  {
   "cell_type": "markdown",
   "metadata": {
    "id": "ctJZ4Rsg_bos"
   },
   "source": [
    "## Distilbert"
   ]
  },
  {
   "cell_type": "markdown",
   "metadata": {
    "id": "tGmLvUUzYujt"
   },
   "source": [
    "### Tf-Idf-only evaluation"
   ]
  },
  {
   "cell_type": "code",
   "execution_count": 17,
   "metadata": {
    "colab": {
     "base_uri": "https://localhost:8080/"
    },
    "id": "9JJYY65pXllA",
    "outputId": "28675429-4eca-475f-a73c-f04d25c226c8"
   },
   "outputs": [
    {
     "name": "stdout",
     "output_type": "stream",
     "text": [
      "Collecting the requested dataset and vectorizer...\n",
      "Obtaining best paragraph for questions...\n"
     ]
    },
    {
     "name": "stderr",
     "output_type": "stream",
     "text": [
      "100%|███████████████████████████████████████████████████████████████████████████| 10570/10570 [00:14<00:00, 710.18it/s]\n"
     ]
    },
    {
     "name": "stdout",
     "output_type": "stream",
     "text": [
      "Creating model and dataset...\n",
      "Number of samples:  10570\n"
     ]
    },
    {
     "name": "stderr",
     "output_type": "stream",
     "text": [
      "Some layers from the model checkpoint at distilbert-base-uncased were not used when initializing TFDistilBertModel: ['vocab_projector', 'activation_13', 'vocab_layer_norm', 'vocab_transform']\n",
      "- This IS expected if you are initializing TFDistilBertModel from the checkpoint of a model trained on another task or with another architecture (e.g. initializing a BertForSequenceClassification model from a BertForPreTraining model).\n",
      "- This IS NOT expected if you are initializing TFDistilBertModel from the checkpoint of a model that you expect to be exactly identical (initializing a BertForSequenceClassification model from a BertForSequenceClassification model).\n",
      "All the layers of TFDistilBertModel were initialized from the model checkpoint at distilbert-base-uncased.\n",
      "If your task is similar to the task the model of the checkpoint was trained on, you can already use TFDistilBertModel for predictions without further training.\n"
     ]
    },
    {
     "name": "stdout",
     "output_type": "stream",
     "text": [
      "Computing predictions...\n"
     ]
    },
    {
     "name": "stderr",
     "output_type": "stream",
     "text": [
      "100%|████████████████████████████████████████████████████████████████████████████████| 661/661 [02:36<00:00,  4.24it/s]\n"
     ]
    },
    {
     "name": "stdout",
     "output_type": "stream",
     "text": [
      "Done! Saving predictions at ../data/results/tf_idf_only_test_predictions.json and running evaluation script...\n",
      "------------------------------------------------------------------------------------\n",
      "Scores:\n",
      "{\n",
      "  \"exact\": 38.675496688741724,\n",
      "  \"f1\": 49.271948260308754,\n",
      "  \"total\": 10570,\n",
      "  \"HasAns_exact\": 38.675496688741724,\n",
      "  \"HasAns_f1\": 49.271948260308754,\n",
      "  \"HasAns_total\": 10570\n",
      "}\n"
     ]
    }
   ],
   "source": [
    "PATH_TO_PREDICTIONS_JSON = '../data/results/dpr_results/tf_idf_only_test_predictions.json'\n",
    "compute_predictions(BEST_WEIGHTS_PATH, PATH_TO_PREDICTIONS_JSON, config, mixing_type=MixingType.TF_IDF_ONLY)\n",
    "print(\"------------------------------------------------------------------------------------\")\n",
    "print(\"Scores:\")\n",
    "!python eval/evaluate.py $TEST_DATASET_PATH $PATH_TO_PREDICTIONS_JSON"
   ]
  },
  {
   "cell_type": "markdown",
   "metadata": {
    "id": "sVVHqPQuY1U4"
   },
   "source": [
    "### DPR-only evaluation"
   ]
  },
  {
   "cell_type": "code",
   "execution_count": 18,
   "metadata": {
    "colab": {
     "base_uri": "https://localhost:8080/"
    },
    "id": "5GeebFozYXMV",
    "outputId": "ecf13976-bd57-4aed-d6d8-0a3eb0302cd7"
   },
   "outputs": [
    {
     "name": "stdout",
     "output_type": "stream",
     "text": [
      "Collecting the requested dataset and vectorizer...\n",
      "Obtaining best paragraph for questions...\n"
     ]
    },
    {
     "name": "stderr",
     "output_type": "stream",
     "text": [
      "100%|███████████████████████████████████████████████████████████████████████████| 10570/10570 [00:16<00:00, 655.10it/s]\n"
     ]
    },
    {
     "name": "stdout",
     "output_type": "stream",
     "text": [
      "Creating model and dataset...\n",
      "Number of samples:  10570\n"
     ]
    },
    {
     "name": "stderr",
     "output_type": "stream",
     "text": [
      "Some layers from the model checkpoint at distilbert-base-uncased were not used when initializing TFDistilBertModel: ['vocab_projector', 'activation_13', 'vocab_layer_norm', 'vocab_transform']\n",
      "- This IS expected if you are initializing TFDistilBertModel from the checkpoint of a model trained on another task or with another architecture (e.g. initializing a BertForSequenceClassification model from a BertForPreTraining model).\n",
      "- This IS NOT expected if you are initializing TFDistilBertModel from the checkpoint of a model that you expect to be exactly identical (initializing a BertForSequenceClassification model from a BertForSequenceClassification model).\n",
      "All the layers of TFDistilBertModel were initialized from the model checkpoint at distilbert-base-uncased.\n",
      "If your task is similar to the task the model of the checkpoint was trained on, you can already use TFDistilBertModel for predictions without further training.\n"
     ]
    },
    {
     "name": "stdout",
     "output_type": "stream",
     "text": [
      "Computing predictions...\n"
     ]
    },
    {
     "name": "stderr",
     "output_type": "stream",
     "text": [
      "100%|████████████████████████████████████████████████████████████████████████████████| 661/661 [02:33<00:00,  4.30it/s]\n"
     ]
    },
    {
     "name": "stdout",
     "output_type": "stream",
     "text": [
      "Done! Saving predictions at ../data/results/dpr_only_test_predictions.json and running evaluation script...\n",
      "------------------------------------------------------------------------------------\n",
      "Scores:\n",
      "{\n",
      "  \"exact\": 30.596026490066226,\n",
      "  \"f1\": 40.158821483294425,\n",
      "  \"total\": 10570,\n",
      "  \"HasAns_exact\": 30.596026490066226,\n",
      "  \"HasAns_f1\": 40.158821483294425,\n",
      "  \"HasAns_total\": 10570\n",
      "}\n"
     ]
    }
   ],
   "source": [
    "PATH_TO_PREDICTIONS_JSON = '../data/results/dpr_results/dpr_only_test_predictions.json'\n",
    "compute_predictions(BEST_WEIGHTS_PATH, PATH_TO_PREDICTIONS_JSON, config, mixing_type=MixingType.DPR_ONLY)\n",
    "print(\"------------------------------------------------------------------------------------\")\n",
    "print(\"Scores:\")\n",
    "!python eval/evaluate.py $TEST_DATASET_PATH $PATH_TO_PREDICTIONS_JSON"
   ]
  },
  {
   "cell_type": "markdown",
   "metadata": {
    "id": "ZP2mdDB7Y3vJ"
   },
   "source": [
    "### Sum between DPR and Tf-Idf scores evaluation"
   ]
  },
  {
   "cell_type": "code",
   "execution_count": 19,
   "metadata": {
    "colab": {
     "base_uri": "https://localhost:8080/"
    },
    "id": "hfFgngjMY7Nj",
    "outputId": "2f90e6cb-67ed-4eb4-cd63-bc2e3ca4c1bd"
   },
   "outputs": [
    {
     "name": "stdout",
     "output_type": "stream",
     "text": [
      "Collecting the requested dataset and vectorizer...\n",
      "Obtaining best paragraph for questions...\n"
     ]
    },
    {
     "name": "stderr",
     "output_type": "stream",
     "text": [
      "100%|███████████████████████████████████████████████████████████████████████████| 10570/10570 [00:15<00:00, 674.97it/s]\n"
     ]
    },
    {
     "name": "stdout",
     "output_type": "stream",
     "text": [
      "Creating model and dataset...\n",
      "Number of samples:  10570\n"
     ]
    },
    {
     "name": "stderr",
     "output_type": "stream",
     "text": [
      "Some layers from the model checkpoint at distilbert-base-uncased were not used when initializing TFDistilBertModel: ['vocab_projector', 'activation_13', 'vocab_layer_norm', 'vocab_transform']\n",
      "- This IS expected if you are initializing TFDistilBertModel from the checkpoint of a model trained on another task or with another architecture (e.g. initializing a BertForSequenceClassification model from a BertForPreTraining model).\n",
      "- This IS NOT expected if you are initializing TFDistilBertModel from the checkpoint of a model that you expect to be exactly identical (initializing a BertForSequenceClassification model from a BertForSequenceClassification model).\n",
      "All the layers of TFDistilBertModel were initialized from the model checkpoint at distilbert-base-uncased.\n",
      "If your task is similar to the task the model of the checkpoint was trained on, you can already use TFDistilBertModel for predictions without further training.\n"
     ]
    },
    {
     "name": "stdout",
     "output_type": "stream",
     "text": [
      "Computing predictions...\n"
     ]
    },
    {
     "name": "stderr",
     "output_type": "stream",
     "text": [
      "100%|████████████████████████████████████████████████████████████████████████████████| 661/661 [02:29<00:00,  4.43it/s]"
     ]
    },
    {
     "name": "stdout",
     "output_type": "stream",
     "text": [
      "Done! Saving predictions at ../data/results/sum_dpr_tf_idf_test_predictions.json and running evaluation script...\n",
      "------------------------------------------------------------------------------------\n",
      "Scores:\n"
     ]
    },
    {
     "name": "stderr",
     "output_type": "stream",
     "text": [
      "\n"
     ]
    },
    {
     "name": "stdout",
     "output_type": "stream",
     "text": [
      "{\n",
      "  \"exact\": 41.79754020813623,\n",
      "  \"f1\": 53.03766377199349,\n",
      "  \"total\": 10570,\n",
      "  \"HasAns_exact\": 41.79754020813623,\n",
      "  \"HasAns_f1\": 53.03766377199349,\n",
      "  \"HasAns_total\": 10570\n",
      "}\n"
     ]
    }
   ],
   "source": [
    "PATH_TO_PREDICTIONS_JSON = '../data/results/dpr_results/sum_dpr_tf_idf_test_predictions.json'\n",
    "compute_predictions(BEST_WEIGHTS_PATH, PATH_TO_PREDICTIONS_JSON, config, mixing_type=MixingType.SUM)\n",
    "print(\"------------------------------------------------------------------------------------\")\n",
    "print(\"Scores:\")\n",
    "!python eval/evaluate.py $TEST_DATASET_PATH $PATH_TO_PREDICTIONS_JSON"
   ]
  },
  {
   "cell_type": "markdown",
   "metadata": {
    "id": "IpozD9P7Y7uO"
   },
   "source": [
    "### Max between DPR and Tf-Idf scores evaluation"
   ]
  },
  {
   "cell_type": "code",
   "execution_count": 20,
   "metadata": {
    "colab": {
     "base_uri": "https://localhost:8080/"
    },
    "id": "eYKGKW0LY9Xl",
    "outputId": "ca73f4ca-d60b-423a-9eef-e0798b6361c1"
   },
   "outputs": [
    {
     "name": "stdout",
     "output_type": "stream",
     "text": [
      "Collecting the requested dataset and vectorizer...\n",
      "Obtaining best paragraph for questions...\n"
     ]
    },
    {
     "name": "stderr",
     "output_type": "stream",
     "text": [
      "100%|███████████████████████████████████████████████████████████████████████████| 10570/10570 [00:26<00:00, 395.07it/s]\n"
     ]
    },
    {
     "name": "stdout",
     "output_type": "stream",
     "text": [
      "Creating model and dataset...\n",
      "Number of samples:  10570\n"
     ]
    },
    {
     "name": "stderr",
     "output_type": "stream",
     "text": [
      "Some layers from the model checkpoint at distilbert-base-uncased were not used when initializing TFDistilBertModel: ['vocab_projector', 'activation_13', 'vocab_layer_norm', 'vocab_transform']\n",
      "- This IS expected if you are initializing TFDistilBertModel from the checkpoint of a model trained on another task or with another architecture (e.g. initializing a BertForSequenceClassification model from a BertForPreTraining model).\n",
      "- This IS NOT expected if you are initializing TFDistilBertModel from the checkpoint of a model that you expect to be exactly identical (initializing a BertForSequenceClassification model from a BertForSequenceClassification model).\n",
      "All the layers of TFDistilBertModel were initialized from the model checkpoint at distilbert-base-uncased.\n",
      "If your task is similar to the task the model of the checkpoint was trained on, you can already use TFDistilBertModel for predictions without further training.\n"
     ]
    },
    {
     "name": "stdout",
     "output_type": "stream",
     "text": [
      "Computing predictions...\n"
     ]
    },
    {
     "name": "stderr",
     "output_type": "stream",
     "text": [
      "100%|████████████████████████████████████████████████████████████████████████████████| 661/661 [02:28<00:00,  4.46it/s]\n"
     ]
    },
    {
     "name": "stdout",
     "output_type": "stream",
     "text": [
      "Done! Saving predictions at ../data/results/max_dpr_tf_idf_test_predictions.json and running evaluation script...\n",
      "------------------------------------------------------------------------------------\n",
      "Scores:\n",
      "{\n",
      "  \"exact\": 35.0236518448439,\n",
      "  \"f1\": 45.20109663270706,\n",
      "  \"total\": 10570,\n",
      "  \"HasAns_exact\": 35.0236518448439,\n",
      "  \"HasAns_f1\": 45.20109663270706,\n",
      "  \"HasAns_total\": 10570\n",
      "}\n"
     ]
    }
   ],
   "source": [
    "PATH_TO_PREDICTIONS_JSON = '../data/results/dpr_results/max_dpr_tf_idf_test_predictions.json'\n",
    "compute_predictions(BEST_WEIGHTS_PATH, PATH_TO_PREDICTIONS_JSON, config, mixing_type=MixingType.MAX)\n",
    "print(\"------------------------------------------------------------------------------------\")\n",
    "print(\"Scores:\")\n",
    "!python eval/evaluate.py $TEST_DATASET_PATH $PATH_TO_PREDICTIONS_JSON"
   ]
  },
  {
   "cell_type": "markdown",
   "metadata": {
    "id": "5o0krQQtY92J"
   },
   "source": [
    "### Weighted sum between DPR and Tf-Idf scores evaluation"
   ]
  },
  {
   "cell_type": "code",
   "execution_count": 21,
   "metadata": {
    "colab": {
     "base_uri": "https://localhost:8080/"
    },
    "id": "di2fHpMCY_Cv",
    "outputId": "89b9971a-8c03-4068-a336-576f68892403"
   },
   "outputs": [
    {
     "name": "stdout",
     "output_type": "stream",
     "text": [
      "Collecting the requested dataset and vectorizer...\n",
      "Obtaining best paragraph for questions...\n"
     ]
    },
    {
     "name": "stderr",
     "output_type": "stream",
     "text": [
      "100%|███████████████████████████████████████████████████████████████████████████| 10570/10570 [00:17<00:00, 607.64it/s]\n"
     ]
    },
    {
     "name": "stdout",
     "output_type": "stream",
     "text": [
      "Creating model and dataset...\n",
      "Number of samples:  10570\n"
     ]
    },
    {
     "name": "stderr",
     "output_type": "stream",
     "text": [
      "Some layers from the model checkpoint at distilbert-base-uncased were not used when initializing TFDistilBertModel: ['vocab_projector', 'activation_13', 'vocab_layer_norm', 'vocab_transform']\n",
      "- This IS expected if you are initializing TFDistilBertModel from the checkpoint of a model trained on another task or with another architecture (e.g. initializing a BertForSequenceClassification model from a BertForPreTraining model).\n",
      "- This IS NOT expected if you are initializing TFDistilBertModel from the checkpoint of a model that you expect to be exactly identical (initializing a BertForSequenceClassification model from a BertForSequenceClassification model).\n",
      "All the layers of TFDistilBertModel were initialized from the model checkpoint at distilbert-base-uncased.\n",
      "If your task is similar to the task the model of the checkpoint was trained on, you can already use TFDistilBertModel for predictions without further training.\n"
     ]
    },
    {
     "name": "stdout",
     "output_type": "stream",
     "text": [
      "Computing predictions...\n"
     ]
    },
    {
     "name": "stderr",
     "output_type": "stream",
     "text": [
      "100%|████████████████████████████████████████████████████████████████████████████████| 661/661 [02:28<00:00,  4.46it/s]\n"
     ]
    },
    {
     "name": "stdout",
     "output_type": "stream",
     "text": [
      "Done! Saving predictions at ../data/results/weighted_sum_dpr_tf_idf_test_predictions.json and running evaluation script...\n",
      "------------------------------------------------------------------------------------\n",
      "Scores:\n",
      "{\n",
      "  \"exact\": 47.1996215704825,\n",
      "  \"f1\": 59.50991483368504,\n",
      "  \"total\": 10570,\n",
      "  \"HasAns_exact\": 47.1996215704825,\n",
      "  \"HasAns_f1\": 59.50991483368504,\n",
      "  \"HasAns_total\": 10570\n",
      "}\n"
     ]
    }
   ],
   "source": [
    "PATH_TO_PREDICTIONS_JSON = '../data/results/dpr_results/weighted_sum_dpr_tf_idf_test_predictions.json'\n",
    "compute_predictions(BEST_WEIGHTS_PATH, PATH_TO_PREDICTIONS_JSON, config, mixing_type=MixingType.WEIGHTED_SUM)\n",
    "print(\"------------------------------------------------------------------------------------\")\n",
    "print(\"Scores:\")\n",
    "!python eval/evaluate.py $TEST_DATASET_PATH $PATH_TO_PREDICTIONS_JSON"
   ]
  },
  {
   "cell_type": "markdown",
   "metadata": {
    "id": "bGpaa1vfBAQ8"
   },
   "source": [
    "## Distilbert with paragraph encodings created from train vectorizer"
   ]
  },
  {
   "cell_type": "markdown",
   "metadata": {
    "id": "7IDIjNaVBgMd"
   },
   "source": [
    "### Tf-Idf-only evaluation"
   ]
  },
  {
   "cell_type": "code",
   "execution_count": 22,
   "metadata": {
    "colab": {
     "base_uri": "https://localhost:8080/"
    },
    "id": "YXcjU-p4BNIi",
    "outputId": "90ecc40a-3f41-40e6-c987-1096520c4f34"
   },
   "outputs": [
    {
     "name": "stdout",
     "output_type": "stream",
     "text": [
      "Collecting the requested dataset and vectorizer...\n",
      "Obtaining best paragraph for questions...\n"
     ]
    },
    {
     "name": "stderr",
     "output_type": "stream",
     "text": [
      "100%|███████████████████████████████████████████████████████████████████████████| 10570/10570 [00:16<00:00, 632.42it/s]\n"
     ]
    },
    {
     "name": "stdout",
     "output_type": "stream",
     "text": [
      "Creating model and dataset...\n",
      "Number of samples:  10570\n"
     ]
    },
    {
     "name": "stderr",
     "output_type": "stream",
     "text": [
      "Some layers from the model checkpoint at distilbert-base-uncased were not used when initializing TFDistilBertModel: ['vocab_projector', 'activation_13', 'vocab_layer_norm', 'vocab_transform']\n",
      "- This IS expected if you are initializing TFDistilBertModel from the checkpoint of a model trained on another task or with another architecture (e.g. initializing a BertForSequenceClassification model from a BertForPreTraining model).\n",
      "- This IS NOT expected if you are initializing TFDistilBertModel from the checkpoint of a model that you expect to be exactly identical (initializing a BertForSequenceClassification model from a BertForSequenceClassification model).\n",
      "All the layers of TFDistilBertModel were initialized from the model checkpoint at distilbert-base-uncased.\n",
      "If your task is similar to the task the model of the checkpoint was trained on, you can already use TFDistilBertModel for predictions without further training.\n"
     ]
    },
    {
     "name": "stdout",
     "output_type": "stream",
     "text": [
      "Computing predictions...\n"
     ]
    },
    {
     "name": "stderr",
     "output_type": "stream",
     "text": [
      "100%|████████████████████████████████████████████████████████████████████████████████| 661/661 [02:28<00:00,  4.45it/s]\n"
     ]
    },
    {
     "name": "stdout",
     "output_type": "stream",
     "text": [
      "Done! Saving predictions at ../data/results/tf_idf_only_test_with_train_vect_predictions.json and running evaluation script...\n",
      "------------------------------------------------------------------------------------\n",
      "Scores:\n",
      "{\n",
      "  \"exact\": 32.27057710501419,\n",
      "  \"f1\": 41.425930999633074,\n",
      "  \"total\": 10570,\n",
      "  \"HasAns_exact\": 32.27057710501419,\n",
      "  \"HasAns_f1\": 41.425930999633074,\n",
      "  \"HasAns_total\": 10570\n",
      "}\n"
     ]
    }
   ],
   "source": [
    "PATH_TO_PREDICTIONS_JSON = '../data/results/dpr_results/tf_idf_only_test_with_train_vect_predictions.json'\n",
    "compute_predictions(BEST_WEIGHTS_PATH, PATH_TO_PREDICTIONS_JSON, config, mixing_type=MixingType.TF_IDF_ONLY, \n",
    "                    dataset_type=DatasetType.TEST_WITH_TRAIN_VECT)\n",
    "print(\"------------------------------------------------------------------------------------\")\n",
    "print(\"Scores:\")\n",
    "!python eval/evaluate.py $TEST_DATASET_PATH $PATH_TO_PREDICTIONS_JSON"
   ]
  },
  {
   "cell_type": "markdown",
   "metadata": {
    "id": "kSiQnc50Bn7Z"
   },
   "source": [
    "### Sum between DPR and Tf-Idf scores evaluation"
   ]
  },
  {
   "cell_type": "code",
   "execution_count": 23,
   "metadata": {
    "colab": {
     "base_uri": "https://localhost:8080/"
    },
    "id": "AsCU0NqoBn7a",
    "outputId": "e159694f-2d08-47f1-8985-d995ab0e4c4a"
   },
   "outputs": [
    {
     "name": "stdout",
     "output_type": "stream",
     "text": [
      "Collecting the requested dataset and vectorizer...\n",
      "Obtaining best paragraph for questions...\n"
     ]
    },
    {
     "name": "stderr",
     "output_type": "stream",
     "text": [
      "100%|███████████████████████████████████████████████████████████████████████████| 10570/10570 [00:17<00:00, 595.86it/s]\n"
     ]
    },
    {
     "name": "stdout",
     "output_type": "stream",
     "text": [
      "Creating model and dataset...\n",
      "Number of samples:  10570\n"
     ]
    },
    {
     "name": "stderr",
     "output_type": "stream",
     "text": [
      "Some layers from the model checkpoint at distilbert-base-uncased were not used when initializing TFDistilBertModel: ['vocab_projector', 'activation_13', 'vocab_layer_norm', 'vocab_transform']\n",
      "- This IS expected if you are initializing TFDistilBertModel from the checkpoint of a model trained on another task or with another architecture (e.g. initializing a BertForSequenceClassification model from a BertForPreTraining model).\n",
      "- This IS NOT expected if you are initializing TFDistilBertModel from the checkpoint of a model that you expect to be exactly identical (initializing a BertForSequenceClassification model from a BertForSequenceClassification model).\n",
      "All the layers of TFDistilBertModel were initialized from the model checkpoint at distilbert-base-uncased.\n",
      "If your task is similar to the task the model of the checkpoint was trained on, you can already use TFDistilBertModel for predictions without further training.\n"
     ]
    },
    {
     "name": "stdout",
     "output_type": "stream",
     "text": [
      "Computing predictions...\n"
     ]
    },
    {
     "name": "stderr",
     "output_type": "stream",
     "text": [
      "100%|████████████████████████████████████████████████████████████████████████████████| 661/661 [02:28<00:00,  4.44it/s]\n"
     ]
    },
    {
     "name": "stdout",
     "output_type": "stream",
     "text": [
      "Done! Saving predictions at ../data/results/sum_dpr_tf_idf_test_with_train_vect_predictions.json and running evaluation script...\n",
      "------------------------------------------------------------------------------------\n",
      "Scores:\n",
      "{\n",
      "  \"exact\": 36.09271523178808,\n",
      "  \"f1\": 46.0499470635277,\n",
      "  \"total\": 10570,\n",
      "  \"HasAns_exact\": 36.09271523178808,\n",
      "  \"HasAns_f1\": 46.0499470635277,\n",
      "  \"HasAns_total\": 10570\n",
      "}\n"
     ]
    }
   ],
   "source": [
    "PATH_TO_PREDICTIONS_JSON = '../data/results/dpr_results/sum_dpr_tf_idf_test_with_train_vect_predictions.json'\n",
    "compute_predictions(BEST_WEIGHTS_PATH, PATH_TO_PREDICTIONS_JSON, config, mixing_type=MixingType.SUM, \n",
    "                    dataset_type=DatasetType.TEST_WITH_TRAIN_VECT)\n",
    "print(\"------------------------------------------------------------------------------------\")\n",
    "print(\"Scores:\")\n",
    "!python eval/evaluate.py $TEST_DATASET_PATH $PATH_TO_PREDICTIONS_JSON"
   ]
  },
  {
   "cell_type": "markdown",
   "metadata": {
    "id": "yRxP_4lCBn7c"
   },
   "source": [
    "### Max between DPR and Tf-Idf scores evaluation"
   ]
  },
  {
   "cell_type": "code",
   "execution_count": 24,
   "metadata": {
    "colab": {
     "base_uri": "https://localhost:8080/"
    },
    "id": "eBa8NcgTBn7c",
    "outputId": "a7f968e5-474a-43df-976b-c202e01e62b2"
   },
   "outputs": [
    {
     "name": "stdout",
     "output_type": "stream",
     "text": [
      "Collecting the requested dataset and vectorizer...\n",
      "Obtaining best paragraph for questions...\n"
     ]
    },
    {
     "name": "stderr",
     "output_type": "stream",
     "text": [
      "100%|███████████████████████████████████████████████████████████████████████████| 10570/10570 [00:28<00:00, 372.71it/s]\n"
     ]
    },
    {
     "name": "stdout",
     "output_type": "stream",
     "text": [
      "Creating model and dataset...\n",
      "Number of samples:  10570\n"
     ]
    },
    {
     "name": "stderr",
     "output_type": "stream",
     "text": [
      "Some layers from the model checkpoint at distilbert-base-uncased were not used when initializing TFDistilBertModel: ['vocab_projector', 'activation_13', 'vocab_layer_norm', 'vocab_transform']\n",
      "- This IS expected if you are initializing TFDistilBertModel from the checkpoint of a model trained on another task or with another architecture (e.g. initializing a BertForSequenceClassification model from a BertForPreTraining model).\n",
      "- This IS NOT expected if you are initializing TFDistilBertModel from the checkpoint of a model that you expect to be exactly identical (initializing a BertForSequenceClassification model from a BertForSequenceClassification model).\n",
      "All the layers of TFDistilBertModel were initialized from the model checkpoint at distilbert-base-uncased.\n",
      "If your task is similar to the task the model of the checkpoint was trained on, you can already use TFDistilBertModel for predictions without further training.\n"
     ]
    },
    {
     "name": "stdout",
     "output_type": "stream",
     "text": [
      "Computing predictions...\n"
     ]
    },
    {
     "name": "stderr",
     "output_type": "stream",
     "text": [
      "100%|████████████████████████████████████████████████████████████████████████████████| 661/661 [02:28<00:00,  4.44it/s]"
     ]
    },
    {
     "name": "stdout",
     "output_type": "stream",
     "text": [
      "Done! Saving predictions at ../data/results/max_dpr_tf_idf_test_with_train_vect_predictions.json and running evaluation script...\n",
      "------------------------------------------------------------------------------------\n",
      "Scores:\n"
     ]
    },
    {
     "name": "stderr",
     "output_type": "stream",
     "text": [
      "\n"
     ]
    },
    {
     "name": "stdout",
     "output_type": "stream",
     "text": [
      "{\n",
      "  \"exact\": 31.39072847682119,\n",
      "  \"f1\": 40.826887420768145,\n",
      "  \"total\": 10570,\n",
      "  \"HasAns_exact\": 31.39072847682119,\n",
      "  \"HasAns_f1\": 40.826887420768145,\n",
      "  \"HasAns_total\": 10570\n",
      "}\n"
     ]
    }
   ],
   "source": [
    "PATH_TO_PREDICTIONS_JSON = '../data/results/dpr_results/max_dpr_tf_idf_test_with_train_vect_predictions.json'\n",
    "compute_predictions(BEST_WEIGHTS_PATH, PATH_TO_PREDICTIONS_JSON, config, mixing_type=MixingType.MAX, \n",
    "                    dataset_type=DatasetType.TEST_WITH_TRAIN_VECT)\n",
    "print(\"------------------------------------------------------------------------------------\")\n",
    "print(\"Scores:\")\n",
    "!python eval/evaluate.py $TEST_DATASET_PATH $PATH_TO_PREDICTIONS_JSON"
   ]
  },
  {
   "cell_type": "markdown",
   "metadata": {
    "id": "_JkLGfk-Bn7e"
   },
   "source": [
    "### Weighted sum between DPR and Tf-Idf scores evaluation"
   ]
  },
  {
   "cell_type": "code",
   "execution_count": 25,
   "metadata": {
    "colab": {
     "base_uri": "https://localhost:8080/"
    },
    "id": "8VM5QrPhBn7f",
    "outputId": "0ba383be-86be-4b29-b7f5-48ff9b6a45a2"
   },
   "outputs": [
    {
     "name": "stdout",
     "output_type": "stream",
     "text": [
      "Collecting the requested dataset and vectorizer...\n",
      "Obtaining best paragraph for questions...\n"
     ]
    },
    {
     "name": "stderr",
     "output_type": "stream",
     "text": [
      "100%|███████████████████████████████████████████████████████████████████████████| 10570/10570 [00:18<00:00, 576.70it/s]\n"
     ]
    },
    {
     "name": "stdout",
     "output_type": "stream",
     "text": [
      "Creating model and dataset...\n",
      "Number of samples:  10570\n"
     ]
    },
    {
     "name": "stderr",
     "output_type": "stream",
     "text": [
      "Some layers from the model checkpoint at distilbert-base-uncased were not used when initializing TFDistilBertModel: ['vocab_projector', 'activation_13', 'vocab_layer_norm', 'vocab_transform']\n",
      "- This IS expected if you are initializing TFDistilBertModel from the checkpoint of a model trained on another task or with another architecture (e.g. initializing a BertForSequenceClassification model from a BertForPreTraining model).\n",
      "- This IS NOT expected if you are initializing TFDistilBertModel from the checkpoint of a model that you expect to be exactly identical (initializing a BertForSequenceClassification model from a BertForSequenceClassification model).\n",
      "All the layers of TFDistilBertModel were initialized from the model checkpoint at distilbert-base-uncased.\n",
      "If your task is similar to the task the model of the checkpoint was trained on, you can already use TFDistilBertModel for predictions without further training.\n"
     ]
    },
    {
     "name": "stdout",
     "output_type": "stream",
     "text": [
      "Computing predictions...\n"
     ]
    },
    {
     "name": "stderr",
     "output_type": "stream",
     "text": [
      "100%|████████████████████████████████████████████████████████████████████████████████| 661/661 [02:28<00:00,  4.44it/s]\n"
     ]
    },
    {
     "name": "stdout",
     "output_type": "stream",
     "text": [
      "Done! Saving predictions at ../data/results/weighted_sum_dpr_tf_idf_test_with_train_vect_predictions.json and running evaluation script...\n",
      "------------------------------------------------------------------------------------\n",
      "Scores:\n",
      "{\n",
      "  \"exact\": 44.049195837275306,\n",
      "  \"f1\": 55.73674299238848,\n",
      "  \"total\": 10570,\n",
      "  \"HasAns_exact\": 44.049195837275306,\n",
      "  \"HasAns_f1\": 55.73674299238848,\n",
      "  \"HasAns_total\": 10570\n",
      "}\n"
     ]
    }
   ],
   "source": [
    "PATH_TO_PREDICTIONS_JSON = '../data/results/dpr_results/weighted_sum_dpr_tf_idf_test_with_train_vect_predictions.json'\n",
    "compute_predictions(BEST_WEIGHTS_PATH, PATH_TO_PREDICTIONS_JSON, config, mixing_type=MixingType.WEIGHTED_SUM, \n",
    "                    dataset_type=DatasetType.TEST_WITH_TRAIN_VECT)\n",
    "print(\"------------------------------------------------------------------------------------\")\n",
    "print(\"Scores:\")\n",
    "!python eval/evaluate.py $TEST_DATASET_PATH $PATH_TO_PREDICTIONS_JSON"
   ]
  },
  {
   "cell_type": "markdown",
   "metadata": {
    "id": "mdaw4kLM_tnR"
   },
   "source": [
    "## Bert"
   ]
  },
  {
   "cell_type": "markdown",
   "metadata": {
    "id": "ZSdMwIXF_xSD"
   },
   "source": [
    "### Tf-Idf-only evaluation"
   ]
  },
  {
   "cell_type": "code",
   "execution_count": 26,
   "metadata": {
    "colab": {
     "base_uri": "https://localhost:8080/",
     "height": 411,
     "referenced_widgets": [
      "c8fcfd5e1e494f7aacb3f69fd34b2d46",
      "96d28542a2d3452d8385313347411e8f",
      "efd1ad8c919540108ec83594c2da412c",
      "63f0415150304dca90c97efd3adcf2bc",
      "da15381a6f4b4fbd830cd23e6ea26881",
      "f9f73f23e1bf456eaeef8f5fc134cbf5",
      "e21d8257a6234f7ea796e03b8f3aae3e",
      "ad4ed298a2e349c68eba27a639a9a819",
      "940dcda48e744ed1a9df3ad109b00d92",
      "a62636d9a10440379e82eab90c2a1680",
      "d5e0c84970224d1e83c26e0ee86cb6ef",
      "29104a95a1bd4993b0b888d4ce53dae4",
      "d7c794f4588e42ccacb4bc1183cb1c77",
      "fce85fcda9d6467fbeb1d096e5c277b2",
      "97aca76a8ace470b9fbb9ce5c9ef6017",
      "2e451c9d3c834f1f965c2a8c5bbb9be3",
      "fc4f62d2e31b4343bdfd8968a4158f4b",
      "6341db0270a340458ea834023a229b5f",
      "9595e2a4638f440b85455dc34f5de5f4",
      "7b009ac4abd0475282bd227d90017879",
      "5ef2c77e573340d09fa76c6506280a42",
      "b981bc4d8c1f44a99847b91657e2a9c0",
      "34808e9b99424576abd577e2cf2c02e5",
      "3e2a8cd5f7124ef3ac7495ed744e9b99",
      "0a0d733064bf4a33bac4a43886654e84",
      "bbf983c1fbc241a3ace4fda80ea9c5ac",
      "3088fe8dab654e439d8969ef0ddd042f",
      "69403e367aac44d58cf9a91d5df45afd",
      "15ccd6c5a4354c9fb14ff80e22424172",
      "64f7aaf119cf4e45b70c50741e1c5e0f",
      "6530f9a039d1415283fd53cabb7ed81e",
      "5c675047a3df44368fa87613a45b607c",
      "aa1fec3a8eb44c77bb1bd3004a98f8b5",
      "fffa54e587a74827ac78796d2181ede7",
      "33e00bc97ad04f50bef095996a21072a",
      "d79bf2ad71d44a4fb2fa679260e5b575",
      "c2a2f77d115141838d30104158b637fa",
      "ea8899a37e8441958d5d3983954f096c",
      "f900750236c040d888739dbf6629f8ca",
      "a3226917698746459a9d1d3cc4a77eaa",
      "f4bfc13e39ce4589a24e447263b5d0a9",
      "2dc02b4a305f49df83507bee1a6146d7",
      "670848b7238142c29bc630d65cd34a5a",
      "6a00c7a3d12c41698b6abef328bb722c",
      "c639448b0912457a8832620986b734ab",
      "52630c6812cf451b9f94cc44ce56682f",
      "9d081219319a478982e8544ac7af7266",
      "6fe6d88002e8457489a2e2a4abe5609a",
      "126371894d1f4cb583294c7b2f9cccd4",
      "7186629b79194e05886a0a94f653ff37",
      "02a25fddf4204c1cb624724c2de52a47",
      "d2ba88811f6d450eb0cf7ba6fa575218",
      "590ded8257334b929497deed9302dbb5",
      "cb771fb50b324af4aa15b08550eeea14",
      "55e729845d75490793b05a70d60e116d"
     ]
    },
    "id": "nMa7kKth_xSE",
    "outputId": "2b5dc847-576c-4db3-e65f-be4de4a2a5b3"
   },
   "outputs": [
    {
     "name": "stdout",
     "output_type": "stream",
     "text": [
      "Collecting the requested dataset and vectorizer...\n",
      "Obtaining best paragraph for questions...\n"
     ]
    },
    {
     "name": "stderr",
     "output_type": "stream",
     "text": [
      "100%|███████████████████████████████████████████████████████████████████████████| 10570/10570 [00:16<00:00, 633.70it/s]\n"
     ]
    },
    {
     "name": "stdout",
     "output_type": "stream",
     "text": [
      "Creating model and dataset...\n",
      "Number of samples:  10570\n"
     ]
    },
    {
     "name": "stderr",
     "output_type": "stream",
     "text": [
      "Some layers from the model checkpoint at bert-base-uncased were not used when initializing TFBertModel: ['mlm___cls', 'nsp___cls']\n",
      "- This IS expected if you are initializing TFBertModel from the checkpoint of a model trained on another task or with another architecture (e.g. initializing a BertForSequenceClassification model from a BertForPreTraining model).\n",
      "- This IS NOT expected if you are initializing TFBertModel from the checkpoint of a model that you expect to be exactly identical (initializing a BertForSequenceClassification model from a BertForSequenceClassification model).\n",
      "All the layers of TFBertModel were initialized from the model checkpoint at bert-base-uncased.\n",
      "If your task is similar to the task the model of the checkpoint was trained on, you can already use TFBertModel for predictions without further training.\n"
     ]
    },
    {
     "name": "stdout",
     "output_type": "stream",
     "text": [
      "Computing predictions...\n"
     ]
    },
    {
     "name": "stderr",
     "output_type": "stream",
     "text": [
      "100%|████████████████████████████████████████████████████████████████████████████████| 661/661 [04:02<00:00,  2.73it/s]"
     ]
    },
    {
     "name": "stdout",
     "output_type": "stream",
     "text": [
      "Done! Saving predictions at ../data/results/tf_idf_only_test_bert_predictions.json and running evaluation script...\n",
      "------------------------------------------------------------------------------------\n",
      "Scores:\n"
     ]
    },
    {
     "name": "stderr",
     "output_type": "stream",
     "text": [
      "\n"
     ]
    },
    {
     "name": "stdout",
     "output_type": "stream",
     "text": [
      "{\n",
      "  \"exact\": 40.6244087038789,\n",
      "  \"f1\": 51.062991184525806,\n",
      "  \"total\": 10570,\n",
      "  \"HasAns_exact\": 40.6244087038789,\n",
      "  \"HasAns_f1\": 51.062991184525806,\n",
      "  \"HasAns_total\": 10570\n",
      "}\n"
     ]
    }
   ],
   "source": [
    "PATH_TO_PREDICTIONS_JSON = '../data/results/dpr_results/tf_idf_only_test_bert_predictions.json'\n",
    "compute_predictions(BERT_BEST_WEIGHTS_PATH, PATH_TO_PREDICTIONS_JSON, config, mixing_type=MixingType.TF_IDF_ONLY, \n",
    "                    bert=True, hidden_state_list=[9,10,11,12])\n",
    "print(\"------------------------------------------------------------------------------------\")\n",
    "print(\"Scores:\")\n",
    "!python eval/evaluate.py $TEST_DATASET_PATH $PATH_TO_PREDICTIONS_JSON"
   ]
  },
  {
   "cell_type": "markdown",
   "metadata": {
    "id": "T0nHNKRB_xSG"
   },
   "source": [
    "### DPR-only evaluation"
   ]
  },
  {
   "cell_type": "code",
   "execution_count": 27,
   "metadata": {
    "id": "ixeoPh08_xSH"
   },
   "outputs": [
    {
     "name": "stdout",
     "output_type": "stream",
     "text": [
      "Collecting the requested dataset and vectorizer...\n",
      "Obtaining best paragraph for questions...\n"
     ]
    },
    {
     "name": "stderr",
     "output_type": "stream",
     "text": [
      "100%|███████████████████████████████████████████████████████████████████████████| 10570/10570 [00:16<00:00, 658.79it/s]\n"
     ]
    },
    {
     "name": "stdout",
     "output_type": "stream",
     "text": [
      "Creating model and dataset...\n",
      "Number of samples:  10570\n"
     ]
    },
    {
     "name": "stderr",
     "output_type": "stream",
     "text": [
      "Some layers from the model checkpoint at bert-base-uncased were not used when initializing TFBertModel: ['mlm___cls', 'nsp___cls']\n",
      "- This IS expected if you are initializing TFBertModel from the checkpoint of a model trained on another task or with another architecture (e.g. initializing a BertForSequenceClassification model from a BertForPreTraining model).\n",
      "- This IS NOT expected if you are initializing TFBertModel from the checkpoint of a model that you expect to be exactly identical (initializing a BertForSequenceClassification model from a BertForSequenceClassification model).\n",
      "All the layers of TFBertModel were initialized from the model checkpoint at bert-base-uncased.\n",
      "If your task is similar to the task the model of the checkpoint was trained on, you can already use TFBertModel for predictions without further training.\n"
     ]
    },
    {
     "name": "stdout",
     "output_type": "stream",
     "text": [
      "Computing predictions...\n"
     ]
    },
    {
     "name": "stderr",
     "output_type": "stream",
     "text": [
      "100%|████████████████████████████████████████████████████████████████████████████████| 661/661 [04:01<00:00,  2.73it/s]"
     ]
    },
    {
     "name": "stdout",
     "output_type": "stream",
     "text": [
      "Done! Saving predictions at ../data/results/dpr_only_test_bert_predictions.json and running evaluation script...\n",
      "------------------------------------------------------------------------------------\n",
      "Scores:\n"
     ]
    },
    {
     "name": "stderr",
     "output_type": "stream",
     "text": [
      "\n"
     ]
    },
    {
     "name": "stdout",
     "output_type": "stream",
     "text": [
      "{\n",
      "  \"exact\": 31.797540208136233,\n",
      "  \"f1\": 41.40165539381039,\n",
      "  \"total\": 10570,\n",
      "  \"HasAns_exact\": 31.797540208136233,\n",
      "  \"HasAns_f1\": 41.40165539381039,\n",
      "  \"HasAns_total\": 10570\n",
      "}\n"
     ]
    }
   ],
   "source": [
    "PATH_TO_PREDICTIONS_JSON = '../data/results/dpr_results/dpr_only_test_bert_predictions.json'\n",
    "compute_predictions(BERT_BEST_WEIGHTS_PATH, PATH_TO_PREDICTIONS_JSON, config, mixing_type=MixingType.DPR_ONLY, \n",
    "                    bert=True, hidden_state_list=[9,10,11,12])\n",
    "print(\"------------------------------------------------------------------------------------\")\n",
    "print(\"Scores:\")\n",
    "!python eval/evaluate.py $TEST_DATASET_PATH $PATH_TO_PREDICTIONS_JSON"
   ]
  },
  {
   "cell_type": "markdown",
   "metadata": {
    "id": "9N1eItAg_xSI"
   },
   "source": [
    "### Sum between DPR and Tf-Idf scores evaluation"
   ]
  },
  {
   "cell_type": "code",
   "execution_count": 28,
   "metadata": {
    "id": "omds8Pus_xSJ"
   },
   "outputs": [
    {
     "name": "stdout",
     "output_type": "stream",
     "text": [
      "Collecting the requested dataset and vectorizer...\n",
      "Obtaining best paragraph for questions...\n"
     ]
    },
    {
     "name": "stderr",
     "output_type": "stream",
     "text": [
      "100%|███████████████████████████████████████████████████████████████████████████| 10570/10570 [00:16<00:00, 655.29it/s]\n"
     ]
    },
    {
     "name": "stdout",
     "output_type": "stream",
     "text": [
      "Creating model and dataset...\n",
      "Number of samples:  10570\n"
     ]
    },
    {
     "name": "stderr",
     "output_type": "stream",
     "text": [
      "Some layers from the model checkpoint at bert-base-uncased were not used when initializing TFBertModel: ['mlm___cls', 'nsp___cls']\n",
      "- This IS expected if you are initializing TFBertModel from the checkpoint of a model trained on another task or with another architecture (e.g. initializing a BertForSequenceClassification model from a BertForPreTraining model).\n",
      "- This IS NOT expected if you are initializing TFBertModel from the checkpoint of a model that you expect to be exactly identical (initializing a BertForSequenceClassification model from a BertForSequenceClassification model).\n",
      "All the layers of TFBertModel were initialized from the model checkpoint at bert-base-uncased.\n",
      "If your task is similar to the task the model of the checkpoint was trained on, you can already use TFBertModel for predictions without further training.\n"
     ]
    },
    {
     "name": "stdout",
     "output_type": "stream",
     "text": [
      "Computing predictions...\n"
     ]
    },
    {
     "name": "stderr",
     "output_type": "stream",
     "text": [
      "100%|████████████████████████████████████████████████████████████████████████████████| 661/661 [04:02<00:00,  2.73it/s]"
     ]
    },
    {
     "name": "stdout",
     "output_type": "stream",
     "text": [
      "Done! Saving predictions at ../data/results/sum_dpr_tf_idf_test_bert_predictions.json and running evaluation script...\n",
      "------------------------------------------------------------------------------------\n",
      "Scores:\n"
     ]
    },
    {
     "name": "stderr",
     "output_type": "stream",
     "text": [
      "\n"
     ]
    },
    {
     "name": "stdout",
     "output_type": "stream",
     "text": [
      "{\n",
      "  \"exact\": 43.90728476821192,\n",
      "  \"f1\": 54.98162733863663,\n",
      "  \"total\": 10570,\n",
      "  \"HasAns_exact\": 43.90728476821192,\n",
      "  \"HasAns_f1\": 54.98162733863663,\n",
      "  \"HasAns_total\": 10570\n",
      "}\n"
     ]
    }
   ],
   "source": [
    "PATH_TO_PREDICTIONS_JSON = '../data/results/dpr_results/sum_dpr_tf_idf_test_bert_predictions.json'\n",
    "compute_predictions(BERT_BEST_WEIGHTS_PATH, PATH_TO_PREDICTIONS_JSON, config, mixing_type=MixingType.SUM, \n",
    "                    bert=True, hidden_state_list=[9,10,11,12])\n",
    "print(\"------------------------------------------------------------------------------------\")\n",
    "print(\"Scores:\")\n",
    "!python eval/evaluate.py $TEST_DATASET_PATH $PATH_TO_PREDICTIONS_JSON"
   ]
  },
  {
   "cell_type": "markdown",
   "metadata": {
    "id": "J45p57tO_xSJ"
   },
   "source": [
    "### Max between DPR and Tf-Idf scores evaluation"
   ]
  },
  {
   "cell_type": "code",
   "execution_count": 29,
   "metadata": {
    "id": "moPtcgHc_xSK"
   },
   "outputs": [
    {
     "name": "stdout",
     "output_type": "stream",
     "text": [
      "Collecting the requested dataset and vectorizer...\n",
      "Obtaining best paragraph for questions...\n"
     ]
    },
    {
     "name": "stderr",
     "output_type": "stream",
     "text": [
      "100%|███████████████████████████████████████████████████████████████████████████| 10570/10570 [00:26<00:00, 391.93it/s]\n"
     ]
    },
    {
     "name": "stdout",
     "output_type": "stream",
     "text": [
      "Creating model and dataset...\n",
      "Number of samples:  10570\n"
     ]
    },
    {
     "name": "stderr",
     "output_type": "stream",
     "text": [
      "Some layers from the model checkpoint at bert-base-uncased were not used when initializing TFBertModel: ['mlm___cls', 'nsp___cls']\n",
      "- This IS expected if you are initializing TFBertModel from the checkpoint of a model trained on another task or with another architecture (e.g. initializing a BertForSequenceClassification model from a BertForPreTraining model).\n",
      "- This IS NOT expected if you are initializing TFBertModel from the checkpoint of a model that you expect to be exactly identical (initializing a BertForSequenceClassification model from a BertForSequenceClassification model).\n",
      "All the layers of TFBertModel were initialized from the model checkpoint at bert-base-uncased.\n",
      "If your task is similar to the task the model of the checkpoint was trained on, you can already use TFBertModel for predictions without further training.\n"
     ]
    },
    {
     "name": "stdout",
     "output_type": "stream",
     "text": [
      "Computing predictions...\n"
     ]
    },
    {
     "name": "stderr",
     "output_type": "stream",
     "text": [
      "100%|████████████████████████████████████████████████████████████████████████████████| 661/661 [04:02<00:00,  2.73it/s]"
     ]
    },
    {
     "name": "stdout",
     "output_type": "stream",
     "text": [
      "Done! Saving predictions at ../data/results/max_dpr_tf_idf_test_bert_predictions.json and running evaluation script...\n",
      "------------------------------------------------------------------------------------\n",
      "Scores:\n"
     ]
    },
    {
     "name": "stderr",
     "output_type": "stream",
     "text": [
      "\n"
     ]
    },
    {
     "name": "stdout",
     "output_type": "stream",
     "text": [
      "{\n",
      "  \"exact\": 36.58467360454115,\n",
      "  \"f1\": 46.681106578756264,\n",
      "  \"total\": 10570,\n",
      "  \"HasAns_exact\": 36.58467360454115,\n",
      "  \"HasAns_f1\": 46.681106578756264,\n",
      "  \"HasAns_total\": 10570\n",
      "}\n"
     ]
    }
   ],
   "source": [
    "PATH_TO_PREDICTIONS_JSON = '../data/results/dpr_results/max_dpr_tf_idf_test_bert_predictions.json'\n",
    "compute_predictions(BERT_BEST_WEIGHTS_PATH, PATH_TO_PREDICTIONS_JSON, config, mixing_type=MixingType.MAX, \n",
    "                    bert=True, hidden_state_list=[9,10,11,12])\n",
    "print(\"------------------------------------------------------------------------------------\")\n",
    "print(\"Scores:\")\n",
    "!python eval/evaluate.py $TEST_DATASET_PATH $PATH_TO_PREDICTIONS_JSON"
   ]
  },
  {
   "cell_type": "markdown",
   "metadata": {
    "id": "ZUo_aedr_xSL"
   },
   "source": [
    "### Weighted sum between DPR and Tf-Idf scores evaluation"
   ]
  },
  {
   "cell_type": "code",
   "execution_count": 30,
   "metadata": {
    "id": "LE9rdBIS_xSM"
   },
   "outputs": [
    {
     "name": "stdout",
     "output_type": "stream",
     "text": [
      "Collecting the requested dataset and vectorizer...\n",
      "Obtaining best paragraph for questions...\n"
     ]
    },
    {
     "name": "stderr",
     "output_type": "stream",
     "text": [
      "100%|███████████████████████████████████████████████████████████████████████████| 10570/10570 [00:17<00:00, 599.91it/s]\n"
     ]
    },
    {
     "name": "stdout",
     "output_type": "stream",
     "text": [
      "Creating model and dataset...\n",
      "Number of samples:  10570\n"
     ]
    },
    {
     "name": "stderr",
     "output_type": "stream",
     "text": [
      "Some layers from the model checkpoint at bert-base-uncased were not used when initializing TFBertModel: ['mlm___cls', 'nsp___cls']\n",
      "- This IS expected if you are initializing TFBertModel from the checkpoint of a model trained on another task or with another architecture (e.g. initializing a BertForSequenceClassification model from a BertForPreTraining model).\n",
      "- This IS NOT expected if you are initializing TFBertModel from the checkpoint of a model that you expect to be exactly identical (initializing a BertForSequenceClassification model from a BertForSequenceClassification model).\n",
      "All the layers of TFBertModel were initialized from the model checkpoint at bert-base-uncased.\n",
      "If your task is similar to the task the model of the checkpoint was trained on, you can already use TFBertModel for predictions without further training.\n"
     ]
    },
    {
     "name": "stdout",
     "output_type": "stream",
     "text": [
      "Computing predictions...\n"
     ]
    },
    {
     "name": "stderr",
     "output_type": "stream",
     "text": [
      "100%|████████████████████████████████████████████████████████████████████████████████| 661/661 [04:05<00:00,  2.69it/s]"
     ]
    },
    {
     "name": "stdout",
     "output_type": "stream",
     "text": [
      "Done! Saving predictions at ../data/results/weighted_sum_dpr_tf_idf_test_bert_predictions.json and running evaluation script...\n",
      "------------------------------------------------------------------------------------\n",
      "Scores:\n"
     ]
    },
    {
     "name": "stderr",
     "output_type": "stream",
     "text": [
      "\n"
     ]
    },
    {
     "name": "stdout",
     "output_type": "stream",
     "text": [
      "{\n",
      "  \"exact\": 49.52696310312204,\n",
      "  \"f1\": 61.86703476332204,\n",
      "  \"total\": 10570,\n",
      "  \"HasAns_exact\": 49.52696310312204,\n",
      "  \"HasAns_f1\": 61.86703476332204,\n",
      "  \"HasAns_total\": 10570\n",
      "}\n"
     ]
    }
   ],
   "source": [
    "PATH_TO_PREDICTIONS_JSON = '../data/results/dpr_results/weighted_sum_dpr_tf_idf_test_bert_predictions.json'\n",
    "compute_predictions(BERT_BEST_WEIGHTS_PATH, PATH_TO_PREDICTIONS_JSON, config, mixing_type=MixingType.WEIGHTED_SUM, \n",
    "                    bert=True, hidden_state_list=[9,10,11,12])\n",
    "print(\"------------------------------------------------------------------------------------\")\n",
    "print(\"Scores:\")\n",
    "!python eval/evaluate.py $TEST_DATASET_PATH $PATH_TO_PREDICTIONS_JSON"
   ]
  },
  {
   "cell_type": "markdown",
   "metadata": {
    "id": "OY-Fl61IB6jN"
   },
   "source": [
    "## Bert with paragraph encodings created from train vectorizer"
   ]
  },
  {
   "cell_type": "markdown",
   "metadata": {
    "id": "KsHM0NCyB6jP"
   },
   "source": [
    "### Tf-Idf-only evaluation"
   ]
  },
  {
   "cell_type": "code",
   "execution_count": 31,
   "metadata": {
    "id": "TYbmGQa6B6jP"
   },
   "outputs": [
    {
     "name": "stdout",
     "output_type": "stream",
     "text": [
      "Collecting the requested dataset and vectorizer...\n",
      "Obtaining best paragraph for questions...\n"
     ]
    },
    {
     "name": "stderr",
     "output_type": "stream",
     "text": [
      "100%|███████████████████████████████████████████████████████████████████████████| 10570/10570 [00:18<00:00, 586.60it/s]\n"
     ]
    },
    {
     "name": "stdout",
     "output_type": "stream",
     "text": [
      "Creating model and dataset...\n",
      "Number of samples:  10570\n"
     ]
    },
    {
     "name": "stderr",
     "output_type": "stream",
     "text": [
      "Some layers from the model checkpoint at bert-base-uncased were not used when initializing TFBertModel: ['mlm___cls', 'nsp___cls']\n",
      "- This IS expected if you are initializing TFBertModel from the checkpoint of a model trained on another task or with another architecture (e.g. initializing a BertForSequenceClassification model from a BertForPreTraining model).\n",
      "- This IS NOT expected if you are initializing TFBertModel from the checkpoint of a model that you expect to be exactly identical (initializing a BertForSequenceClassification model from a BertForSequenceClassification model).\n",
      "All the layers of TFBertModel were initialized from the model checkpoint at bert-base-uncased.\n",
      "If your task is similar to the task the model of the checkpoint was trained on, you can already use TFBertModel for predictions without further training.\n"
     ]
    },
    {
     "name": "stdout",
     "output_type": "stream",
     "text": [
      "Computing predictions...\n"
     ]
    },
    {
     "name": "stderr",
     "output_type": "stream",
     "text": [
      "100%|████████████████████████████████████████████████████████████████████████████████| 661/661 [04:07<00:00,  2.67it/s]"
     ]
    },
    {
     "name": "stdout",
     "output_type": "stream",
     "text": [
      "Done! Saving predictions at ../data/results/tf_idf_only_test_with_train_vect_bert_predictions.json and running evaluation script...\n",
      "------------------------------------------------------------------------------------\n",
      "Scores:\n"
     ]
    },
    {
     "name": "stderr",
     "output_type": "stream",
     "text": [
      "\n"
     ]
    },
    {
     "name": "stdout",
     "output_type": "stream",
     "text": [
      "{\n",
      "  \"exact\": 33.92620624408704,\n",
      "  \"f1\": 43.017072434009,\n",
      "  \"total\": 10570,\n",
      "  \"HasAns_exact\": 33.92620624408704,\n",
      "  \"HasAns_f1\": 43.017072434009,\n",
      "  \"HasAns_total\": 10570\n",
      "}\n"
     ]
    }
   ],
   "source": [
    "PATH_TO_PREDICTIONS_JSON = '../data/results/dpr_results/tf_idf_only_test_with_train_vect_bert_predictions.json'\n",
    "compute_predictions(BERT_BEST_WEIGHTS_PATH, PATH_TO_PREDICTIONS_JSON, config, mixing_type=MixingType.TF_IDF_ONLY, \n",
    "                    dataset_type=DatasetType.TEST_WITH_TRAIN_VECT, bert=True, hidden_state_list=[9,10,11,12])\n",
    "print(\"------------------------------------------------------------------------------------\")\n",
    "print(\"Scores:\")\n",
    "!python eval/evaluate.py $TEST_DATASET_PATH $PATH_TO_PREDICTIONS_JSON"
   ]
  },
  {
   "cell_type": "markdown",
   "metadata": {
    "id": "lwskzy9OB6jQ"
   },
   "source": [
    "### Sum between DPR and Tf-Idf scores evaluation"
   ]
  },
  {
   "cell_type": "code",
   "execution_count": 32,
   "metadata": {
    "id": "lhPhT0vlB6jR"
   },
   "outputs": [
    {
     "name": "stdout",
     "output_type": "stream",
     "text": [
      "Collecting the requested dataset and vectorizer...\n",
      "Obtaining best paragraph for questions...\n"
     ]
    },
    {
     "name": "stderr",
     "output_type": "stream",
     "text": [
      "100%|███████████████████████████████████████████████████████████████████████████| 10570/10570 [00:18<00:00, 574.61it/s]\n"
     ]
    },
    {
     "name": "stdout",
     "output_type": "stream",
     "text": [
      "Creating model and dataset...\n",
      "Number of samples:  10570\n"
     ]
    },
    {
     "name": "stderr",
     "output_type": "stream",
     "text": [
      "Some layers from the model checkpoint at bert-base-uncased were not used when initializing TFBertModel: ['mlm___cls', 'nsp___cls']\n",
      "- This IS expected if you are initializing TFBertModel from the checkpoint of a model trained on another task or with another architecture (e.g. initializing a BertForSequenceClassification model from a BertForPreTraining model).\n",
      "- This IS NOT expected if you are initializing TFBertModel from the checkpoint of a model that you expect to be exactly identical (initializing a BertForSequenceClassification model from a BertForSequenceClassification model).\n",
      "All the layers of TFBertModel were initialized from the model checkpoint at bert-base-uncased.\n",
      "If your task is similar to the task the model of the checkpoint was trained on, you can already use TFBertModel for predictions without further training.\n"
     ]
    },
    {
     "name": "stdout",
     "output_type": "stream",
     "text": [
      "Computing predictions...\n"
     ]
    },
    {
     "name": "stderr",
     "output_type": "stream",
     "text": [
      "100%|████████████████████████████████████████████████████████████████████████████████| 661/661 [04:09<00:00,  2.65it/s]"
     ]
    },
    {
     "name": "stdout",
     "output_type": "stream",
     "text": [
      "Done! Saving predictions at ../data/results/sum_dpr_tf_idf_test_with_train_vect_bert_predictions.json and running evaluation script...\n",
      "------------------------------------------------------------------------------------\n",
      "Scores:\n"
     ]
    },
    {
     "name": "stderr",
     "output_type": "stream",
     "text": [
      "\n"
     ]
    },
    {
     "name": "stdout",
     "output_type": "stream",
     "text": [
      "{\n",
      "  \"exact\": 38.02270577105014,\n",
      "  \"f1\": 47.9099256094079,\n",
      "  \"total\": 10570,\n",
      "  \"HasAns_exact\": 38.02270577105014,\n",
      "  \"HasAns_f1\": 47.9099256094079,\n",
      "  \"HasAns_total\": 10570\n",
      "}\n"
     ]
    }
   ],
   "source": [
    "PATH_TO_PREDICTIONS_JSON = '../data/results/dpr_results/sum_dpr_tf_idf_test_with_train_vect_bert_predictions.json'\n",
    "compute_predictions(BERT_BEST_WEIGHTS_PATH, PATH_TO_PREDICTIONS_JSON, config, mixing_type=MixingType.SUM, \n",
    "                    dataset_type=DatasetType.TEST_WITH_TRAIN_VECT, bert=True, hidden_state_list=[9,10,11,12])\n",
    "print(\"------------------------------------------------------------------------------------\")\n",
    "print(\"Scores:\")\n",
    "!python eval/evaluate.py $TEST_DATASET_PATH $PATH_TO_PREDICTIONS_JSON"
   ]
  },
  {
   "cell_type": "markdown",
   "metadata": {
    "id": "qKyApKpVB6jS"
   },
   "source": [
    "### Max between DPR and Tf-Idf scores evaluation"
   ]
  },
  {
   "cell_type": "code",
   "execution_count": 33,
   "metadata": {
    "id": "stb11R5WB6jT"
   },
   "outputs": [
    {
     "name": "stdout",
     "output_type": "stream",
     "text": [
      "Collecting the requested dataset and vectorizer...\n",
      "Obtaining best paragraph for questions...\n"
     ]
    },
    {
     "name": "stderr",
     "output_type": "stream",
     "text": [
      "100%|███████████████████████████████████████████████████████████████████████████| 10570/10570 [00:29<00:00, 360.94it/s]\n"
     ]
    },
    {
     "name": "stdout",
     "output_type": "stream",
     "text": [
      "Creating model and dataset...\n",
      "Number of samples:  10570\n"
     ]
    },
    {
     "name": "stderr",
     "output_type": "stream",
     "text": [
      "Some layers from the model checkpoint at bert-base-uncased were not used when initializing TFBertModel: ['mlm___cls', 'nsp___cls']\n",
      "- This IS expected if you are initializing TFBertModel from the checkpoint of a model trained on another task or with another architecture (e.g. initializing a BertForSequenceClassification model from a BertForPreTraining model).\n",
      "- This IS NOT expected if you are initializing TFBertModel from the checkpoint of a model that you expect to be exactly identical (initializing a BertForSequenceClassification model from a BertForSequenceClassification model).\n",
      "All the layers of TFBertModel were initialized from the model checkpoint at bert-base-uncased.\n",
      "If your task is similar to the task the model of the checkpoint was trained on, you can already use TFBertModel for predictions without further training.\n"
     ]
    },
    {
     "name": "stdout",
     "output_type": "stream",
     "text": [
      "Computing predictions...\n"
     ]
    },
    {
     "name": "stderr",
     "output_type": "stream",
     "text": [
      "100%|████████████████████████████████████████████████████████████████████████████████| 661/661 [04:09<00:00,  2.65it/s]"
     ]
    },
    {
     "name": "stdout",
     "output_type": "stream",
     "text": [
      "Done! Saving predictions at ../data/results/max_dpr_tf_idf_test_with_train_vect_bert_predictions.json and running evaluation script...\n",
      "------------------------------------------------------------------------------------\n",
      "Scores:\n"
     ]
    },
    {
     "name": "stderr",
     "output_type": "stream",
     "text": [
      "\n"
     ]
    },
    {
     "name": "stdout",
     "output_type": "stream",
     "text": [
      "{\n",
      "  \"exact\": 32.999053926206244,\n",
      "  \"f1\": 42.36987926802881,\n",
      "  \"total\": 10570,\n",
      "  \"HasAns_exact\": 32.999053926206244,\n",
      "  \"HasAns_f1\": 42.36987926802881,\n",
      "  \"HasAns_total\": 10570\n",
      "}\n"
     ]
    }
   ],
   "source": [
    "PATH_TO_PREDICTIONS_JSON = '../data/results/dpr_results/max_dpr_tf_idf_test_with_train_vect_bert_predictions.json'\n",
    "compute_predictions(BERT_BEST_WEIGHTS_PATH, PATH_TO_PREDICTIONS_JSON, config, mixing_type=MixingType.MAX, \n",
    "                    dataset_type=DatasetType.TEST_WITH_TRAIN_VECT, bert=True, hidden_state_list=[9,10,11,12])\n",
    "print(\"------------------------------------------------------------------------------------\")\n",
    "print(\"Scores:\")\n",
    "!python eval/evaluate.py $TEST_DATASET_PATH $PATH_TO_PREDICTIONS_JSON"
   ]
  },
  {
   "cell_type": "markdown",
   "metadata": {
    "id": "PcCc-a5pB6jT"
   },
   "source": [
    "### Weighted sum between DPR and Tf-Idf scores evaluation"
   ]
  },
  {
   "cell_type": "code",
   "execution_count": 34,
   "metadata": {
    "id": "8D9xzCCgB6jU"
   },
   "outputs": [
    {
     "name": "stdout",
     "output_type": "stream",
     "text": [
      "Collecting the requested dataset and vectorizer...\n",
      "Obtaining best paragraph for questions...\n"
     ]
    },
    {
     "name": "stderr",
     "output_type": "stream",
     "text": [
      "100%|███████████████████████████████████████████████████████████████████████████| 10570/10570 [00:19<00:00, 543.73it/s]\n"
     ]
    },
    {
     "name": "stdout",
     "output_type": "stream",
     "text": [
      "Creating model and dataset...\n",
      "Number of samples:  10570\n"
     ]
    },
    {
     "name": "stderr",
     "output_type": "stream",
     "text": [
      "Some layers from the model checkpoint at bert-base-uncased were not used when initializing TFBertModel: ['mlm___cls', 'nsp___cls']\n",
      "- This IS expected if you are initializing TFBertModel from the checkpoint of a model trained on another task or with another architecture (e.g. initializing a BertForSequenceClassification model from a BertForPreTraining model).\n",
      "- This IS NOT expected if you are initializing TFBertModel from the checkpoint of a model that you expect to be exactly identical (initializing a BertForSequenceClassification model from a BertForSequenceClassification model).\n",
      "All the layers of TFBertModel were initialized from the model checkpoint at bert-base-uncased.\n",
      "If your task is similar to the task the model of the checkpoint was trained on, you can already use TFBertModel for predictions without further training.\n"
     ]
    },
    {
     "name": "stdout",
     "output_type": "stream",
     "text": [
      "Computing predictions...\n"
     ]
    },
    {
     "name": "stderr",
     "output_type": "stream",
     "text": [
      "100%|████████████████████████████████████████████████████████████████████████████████| 661/661 [04:10<00:00,  2.64it/s]"
     ]
    },
    {
     "name": "stdout",
     "output_type": "stream",
     "text": [
      "Done! Saving predictions at ../data/results/weighted_sum_dpr_tf_idf_test_with_train_vect_bert_predictions.json and running evaluation script...\n",
      "------------------------------------------------------------------------------------\n",
      "Scores:\n"
     ]
    },
    {
     "name": "stderr",
     "output_type": "stream",
     "text": [
      "\n"
     ]
    },
    {
     "name": "stdout",
     "output_type": "stream",
     "text": [
      "{\n",
      "  \"exact\": 46.21570482497635,\n",
      "  \"f1\": 57.8266648540426,\n",
      "  \"total\": 10570,\n",
      "  \"HasAns_exact\": 46.21570482497635,\n",
      "  \"HasAns_f1\": 57.8266648540426,\n",
      "  \"HasAns_total\": 10570\n",
      "}\n"
     ]
    }
   ],
   "source": [
    "PATH_TO_PREDICTIONS_JSON = '../data/results/dpr_results/weighted_sum_dpr_tf_idf_test_with_train_vect_bert_predictions.json'\n",
    "compute_predictions(BERT_BEST_WEIGHTS_PATH, PATH_TO_PREDICTIONS_JSON, config, mixing_type=MixingType.WEIGHTED_SUM, \n",
    "                    dataset_type=DatasetType.TEST_WITH_TRAIN_VECT, bert=True, hidden_state_list=[9,10,11,12])\n",
    "print(\"------------------------------------------------------------------------------------\")\n",
    "print(\"Scores:\")\n",
    "!python eval/evaluate.py $TEST_DATASET_PATH $PATH_TO_PREDICTIONS_JSON"
   ]
  }
 ],
 "metadata": {
  "accelerator": "GPU",
  "colab": {
   "collapsed_sections": [],
   "provenance": []
  },
  "kernelspec": {
   "display_name": "Python 3 (ipykernel)",
   "language": "python",
   "name": "python3"
  },
  "language_info": {
   "codemirror_mode": {
    "name": "ipython",
    "version": 3
   },
   "file_extension": ".py",
   "mimetype": "text/x-python",
   "name": "python",
   "nbconvert_exporter": "python",
   "pygments_lexer": "ipython3",
   "version": "3.10.4"
  },
  "vscode": {
   "interpreter": {
    "hash": "3f1aedb1eb2c65e580c7e6628d6a6f161dbf7d87a60144a28bd6d91db1c87885"
   }
  },
  "widgets": {
   "application/vnd.jupyter.widget-state+json": {
    "02a25fddf4204c1cb624724c2de52a47": {
     "model_module": "@jupyter-widgets/controls",
     "model_module_version": "1.5.0",
     "model_name": "DescriptionStyleModel",
     "state": {
      "_model_module": "@jupyter-widgets/controls",
      "_model_module_version": "1.5.0",
      "_model_name": "DescriptionStyleModel",
      "_view_count": null,
      "_view_module": "@jupyter-widgets/base",
      "_view_module_version": "1.2.0",
      "_view_name": "StyleView",
      "description_width": ""
     }
    },
    "0a0d733064bf4a33bac4a43886654e84": {
     "model_module": "@jupyter-widgets/controls",
     "model_module_version": "1.5.0",
     "model_name": "FloatProgressModel",
     "state": {
      "_dom_classes": [],
      "_model_module": "@jupyter-widgets/controls",
      "_model_module_version": "1.5.0",
      "_model_name": "FloatProgressModel",
      "_view_count": null,
      "_view_module": "@jupyter-widgets/controls",
      "_view_module_version": "1.5.0",
      "_view_name": "ProgressView",
      "bar_style": "success",
      "description": "",
      "description_tooltip": null,
      "layout": "IPY_MODEL_64f7aaf119cf4e45b70c50741e1c5e0f",
      "max": 466062,
      "min": 0,
      "orientation": "horizontal",
      "style": "IPY_MODEL_6530f9a039d1415283fd53cabb7ed81e",
      "value": 466062
     }
    },
    "126371894d1f4cb583294c7b2f9cccd4": {
     "model_module": "@jupyter-widgets/base",
     "model_module_version": "1.2.0",
     "model_name": "LayoutModel",
     "state": {
      "_model_module": "@jupyter-widgets/base",
      "_model_module_version": "1.2.0",
      "_model_name": "LayoutModel",
      "_view_count": null,
      "_view_module": "@jupyter-widgets/base",
      "_view_module_version": "1.2.0",
      "_view_name": "LayoutView",
      "align_content": null,
      "align_items": null,
      "align_self": null,
      "border": null,
      "bottom": null,
      "display": null,
      "flex": null,
      "flex_flow": null,
      "grid_area": null,
      "grid_auto_columns": null,
      "grid_auto_flow": null,
      "grid_auto_rows": null,
      "grid_column": null,
      "grid_gap": null,
      "grid_row": null,
      "grid_template_areas": null,
      "grid_template_columns": null,
      "grid_template_rows": null,
      "height": null,
      "justify_content": null,
      "justify_items": null,
      "left": null,
      "margin": null,
      "max_height": null,
      "max_width": null,
      "min_height": null,
      "min_width": null,
      "object_fit": null,
      "object_position": null,
      "order": null,
      "overflow": null,
      "overflow_x": null,
      "overflow_y": null,
      "padding": null,
      "right": null,
      "top": null,
      "visibility": null,
      "width": null
     }
    },
    "15ccd6c5a4354c9fb14ff80e22424172": {
     "model_module": "@jupyter-widgets/controls",
     "model_module_version": "1.5.0",
     "model_name": "DescriptionStyleModel",
     "state": {
      "_model_module": "@jupyter-widgets/controls",
      "_model_module_version": "1.5.0",
      "_model_name": "DescriptionStyleModel",
      "_view_count": null,
      "_view_module": "@jupyter-widgets/base",
      "_view_module_version": "1.2.0",
      "_view_name": "StyleView",
      "description_width": ""
     }
    },
    "29104a95a1bd4993b0b888d4ce53dae4": {
     "model_module": "@jupyter-widgets/controls",
     "model_module_version": "1.5.0",
     "model_name": "HBoxModel",
     "state": {
      "_dom_classes": [],
      "_model_module": "@jupyter-widgets/controls",
      "_model_module_version": "1.5.0",
      "_model_name": "HBoxModel",
      "_view_count": null,
      "_view_module": "@jupyter-widgets/controls",
      "_view_module_version": "1.5.0",
      "_view_name": "HBoxView",
      "box_style": "",
      "children": [
       "IPY_MODEL_d7c794f4588e42ccacb4bc1183cb1c77",
       "IPY_MODEL_fce85fcda9d6467fbeb1d096e5c277b2",
       "IPY_MODEL_97aca76a8ace470b9fbb9ce5c9ef6017"
      ],
      "layout": "IPY_MODEL_2e451c9d3c834f1f965c2a8c5bbb9be3"
     }
    },
    "2dc02b4a305f49df83507bee1a6146d7": {
     "model_module": "@jupyter-widgets/controls",
     "model_module_version": "1.5.0",
     "model_name": "ProgressStyleModel",
     "state": {
      "_model_module": "@jupyter-widgets/controls",
      "_model_module_version": "1.5.0",
      "_model_name": "ProgressStyleModel",
      "_view_count": null,
      "_view_module": "@jupyter-widgets/base",
      "_view_module_version": "1.2.0",
      "_view_name": "StyleView",
      "bar_color": null,
      "description_width": ""
     }
    },
    "2e451c9d3c834f1f965c2a8c5bbb9be3": {
     "model_module": "@jupyter-widgets/base",
     "model_module_version": "1.2.0",
     "model_name": "LayoutModel",
     "state": {
      "_model_module": "@jupyter-widgets/base",
      "_model_module_version": "1.2.0",
      "_model_name": "LayoutModel",
      "_view_count": null,
      "_view_module": "@jupyter-widgets/base",
      "_view_module_version": "1.2.0",
      "_view_name": "LayoutView",
      "align_content": null,
      "align_items": null,
      "align_self": null,
      "border": null,
      "bottom": null,
      "display": null,
      "flex": null,
      "flex_flow": null,
      "grid_area": null,
      "grid_auto_columns": null,
      "grid_auto_flow": null,
      "grid_auto_rows": null,
      "grid_column": null,
      "grid_gap": null,
      "grid_row": null,
      "grid_template_areas": null,
      "grid_template_columns": null,
      "grid_template_rows": null,
      "height": null,
      "justify_content": null,
      "justify_items": null,
      "left": null,
      "margin": null,
      "max_height": null,
      "max_width": null,
      "min_height": null,
      "min_width": null,
      "object_fit": null,
      "object_position": null,
      "order": null,
      "overflow": null,
      "overflow_x": null,
      "overflow_y": null,
      "padding": null,
      "right": null,
      "top": null,
      "visibility": null,
      "width": null
     }
    },
    "3088fe8dab654e439d8969ef0ddd042f": {
     "model_module": "@jupyter-widgets/base",
     "model_module_version": "1.2.0",
     "model_name": "LayoutModel",
     "state": {
      "_model_module": "@jupyter-widgets/base",
      "_model_module_version": "1.2.0",
      "_model_name": "LayoutModel",
      "_view_count": null,
      "_view_module": "@jupyter-widgets/base",
      "_view_module_version": "1.2.0",
      "_view_name": "LayoutView",
      "align_content": null,
      "align_items": null,
      "align_self": null,
      "border": null,
      "bottom": null,
      "display": null,
      "flex": null,
      "flex_flow": null,
      "grid_area": null,
      "grid_auto_columns": null,
      "grid_auto_flow": null,
      "grid_auto_rows": null,
      "grid_column": null,
      "grid_gap": null,
      "grid_row": null,
      "grid_template_areas": null,
      "grid_template_columns": null,
      "grid_template_rows": null,
      "height": null,
      "justify_content": null,
      "justify_items": null,
      "left": null,
      "margin": null,
      "max_height": null,
      "max_width": null,
      "min_height": null,
      "min_width": null,
      "object_fit": null,
      "object_position": null,
      "order": null,
      "overflow": null,
      "overflow_x": null,
      "overflow_y": null,
      "padding": null,
      "right": null,
      "top": null,
      "visibility": null,
      "width": null
     }
    },
    "33e00bc97ad04f50bef095996a21072a": {
     "model_module": "@jupyter-widgets/controls",
     "model_module_version": "1.5.0",
     "model_name": "HTMLModel",
     "state": {
      "_dom_classes": [],
      "_model_module": "@jupyter-widgets/controls",
      "_model_module_version": "1.5.0",
      "_model_name": "HTMLModel",
      "_view_count": null,
      "_view_module": "@jupyter-widgets/controls",
      "_view_module_version": "1.5.0",
      "_view_name": "HTMLView",
      "description": "",
      "description_tooltip": null,
      "layout": "IPY_MODEL_f900750236c040d888739dbf6629f8ca",
      "placeholder": "​",
      "style": "IPY_MODEL_a3226917698746459a9d1d3cc4a77eaa",
      "value": "Downloading: 100%"
     }
    },
    "34808e9b99424576abd577e2cf2c02e5": {
     "model_module": "@jupyter-widgets/controls",
     "model_module_version": "1.5.0",
     "model_name": "HBoxModel",
     "state": {
      "_dom_classes": [],
      "_model_module": "@jupyter-widgets/controls",
      "_model_module_version": "1.5.0",
      "_model_name": "HBoxModel",
      "_view_count": null,
      "_view_module": "@jupyter-widgets/controls",
      "_view_module_version": "1.5.0",
      "_view_name": "HBoxView",
      "box_style": "",
      "children": [
       "IPY_MODEL_3e2a8cd5f7124ef3ac7495ed744e9b99",
       "IPY_MODEL_0a0d733064bf4a33bac4a43886654e84",
       "IPY_MODEL_bbf983c1fbc241a3ace4fda80ea9c5ac"
      ],
      "layout": "IPY_MODEL_3088fe8dab654e439d8969ef0ddd042f"
     }
    },
    "3e2a8cd5f7124ef3ac7495ed744e9b99": {
     "model_module": "@jupyter-widgets/controls",
     "model_module_version": "1.5.0",
     "model_name": "HTMLModel",
     "state": {
      "_dom_classes": [],
      "_model_module": "@jupyter-widgets/controls",
      "_model_module_version": "1.5.0",
      "_model_name": "HTMLModel",
      "_view_count": null,
      "_view_module": "@jupyter-widgets/controls",
      "_view_module_version": "1.5.0",
      "_view_name": "HTMLView",
      "description": "",
      "description_tooltip": null,
      "layout": "IPY_MODEL_69403e367aac44d58cf9a91d5df45afd",
      "placeholder": "​",
      "style": "IPY_MODEL_15ccd6c5a4354c9fb14ff80e22424172",
      "value": "Downloading: 100%"
     }
    },
    "52630c6812cf451b9f94cc44ce56682f": {
     "model_module": "@jupyter-widgets/controls",
     "model_module_version": "1.5.0",
     "model_name": "HTMLModel",
     "state": {
      "_dom_classes": [],
      "_model_module": "@jupyter-widgets/controls",
      "_model_module_version": "1.5.0",
      "_model_name": "HTMLModel",
      "_view_count": null,
      "_view_module": "@jupyter-widgets/controls",
      "_view_module_version": "1.5.0",
      "_view_name": "HTMLView",
      "description": "",
      "description_tooltip": null,
      "layout": "IPY_MODEL_7186629b79194e05886a0a94f653ff37",
      "placeholder": "​",
      "style": "IPY_MODEL_02a25fddf4204c1cb624724c2de52a47",
      "value": "Downloading: 100%"
     }
    },
    "55e729845d75490793b05a70d60e116d": {
     "model_module": "@jupyter-widgets/controls",
     "model_module_version": "1.5.0",
     "model_name": "DescriptionStyleModel",
     "state": {
      "_model_module": "@jupyter-widgets/controls",
      "_model_module_version": "1.5.0",
      "_model_name": "DescriptionStyleModel",
      "_view_count": null,
      "_view_module": "@jupyter-widgets/base",
      "_view_module_version": "1.2.0",
      "_view_name": "StyleView",
      "description_width": ""
     }
    },
    "590ded8257334b929497deed9302dbb5": {
     "model_module": "@jupyter-widgets/controls",
     "model_module_version": "1.5.0",
     "model_name": "ProgressStyleModel",
     "state": {
      "_model_module": "@jupyter-widgets/controls",
      "_model_module_version": "1.5.0",
      "_model_name": "ProgressStyleModel",
      "_view_count": null,
      "_view_module": "@jupyter-widgets/base",
      "_view_module_version": "1.2.0",
      "_view_name": "StyleView",
      "bar_color": null,
      "description_width": ""
     }
    },
    "5c675047a3df44368fa87613a45b607c": {
     "model_module": "@jupyter-widgets/base",
     "model_module_version": "1.2.0",
     "model_name": "LayoutModel",
     "state": {
      "_model_module": "@jupyter-widgets/base",
      "_model_module_version": "1.2.0",
      "_model_name": "LayoutModel",
      "_view_count": null,
      "_view_module": "@jupyter-widgets/base",
      "_view_module_version": "1.2.0",
      "_view_name": "LayoutView",
      "align_content": null,
      "align_items": null,
      "align_self": null,
      "border": null,
      "bottom": null,
      "display": null,
      "flex": null,
      "flex_flow": null,
      "grid_area": null,
      "grid_auto_columns": null,
      "grid_auto_flow": null,
      "grid_auto_rows": null,
      "grid_column": null,
      "grid_gap": null,
      "grid_row": null,
      "grid_template_areas": null,
      "grid_template_columns": null,
      "grid_template_rows": null,
      "height": null,
      "justify_content": null,
      "justify_items": null,
      "left": null,
      "margin": null,
      "max_height": null,
      "max_width": null,
      "min_height": null,
      "min_width": null,
      "object_fit": null,
      "object_position": null,
      "order": null,
      "overflow": null,
      "overflow_x": null,
      "overflow_y": null,
      "padding": null,
      "right": null,
      "top": null,
      "visibility": null,
      "width": null
     }
    },
    "5ef2c77e573340d09fa76c6506280a42": {
     "model_module": "@jupyter-widgets/base",
     "model_module_version": "1.2.0",
     "model_name": "LayoutModel",
     "state": {
      "_model_module": "@jupyter-widgets/base",
      "_model_module_version": "1.2.0",
      "_model_name": "LayoutModel",
      "_view_count": null,
      "_view_module": "@jupyter-widgets/base",
      "_view_module_version": "1.2.0",
      "_view_name": "LayoutView",
      "align_content": null,
      "align_items": null,
      "align_self": null,
      "border": null,
      "bottom": null,
      "display": null,
      "flex": null,
      "flex_flow": null,
      "grid_area": null,
      "grid_auto_columns": null,
      "grid_auto_flow": null,
      "grid_auto_rows": null,
      "grid_column": null,
      "grid_gap": null,
      "grid_row": null,
      "grid_template_areas": null,
      "grid_template_columns": null,
      "grid_template_rows": null,
      "height": null,
      "justify_content": null,
      "justify_items": null,
      "left": null,
      "margin": null,
      "max_height": null,
      "max_width": null,
      "min_height": null,
      "min_width": null,
      "object_fit": null,
      "object_position": null,
      "order": null,
      "overflow": null,
      "overflow_x": null,
      "overflow_y": null,
      "padding": null,
      "right": null,
      "top": null,
      "visibility": null,
      "width": null
     }
    },
    "6341db0270a340458ea834023a229b5f": {
     "model_module": "@jupyter-widgets/controls",
     "model_module_version": "1.5.0",
     "model_name": "DescriptionStyleModel",
     "state": {
      "_model_module": "@jupyter-widgets/controls",
      "_model_module_version": "1.5.0",
      "_model_name": "DescriptionStyleModel",
      "_view_count": null,
      "_view_module": "@jupyter-widgets/base",
      "_view_module_version": "1.2.0",
      "_view_name": "StyleView",
      "description_width": ""
     }
    },
    "63f0415150304dca90c97efd3adcf2bc": {
     "model_module": "@jupyter-widgets/controls",
     "model_module_version": "1.5.0",
     "model_name": "HTMLModel",
     "state": {
      "_dom_classes": [],
      "_model_module": "@jupyter-widgets/controls",
      "_model_module_version": "1.5.0",
      "_model_name": "HTMLModel",
      "_view_count": null,
      "_view_module": "@jupyter-widgets/controls",
      "_view_module_version": "1.5.0",
      "_view_name": "HTMLView",
      "description": "",
      "description_tooltip": null,
      "layout": "IPY_MODEL_a62636d9a10440379e82eab90c2a1680",
      "placeholder": "​",
      "style": "IPY_MODEL_d5e0c84970224d1e83c26e0ee86cb6ef",
      "value": " 28.0/28.0 [00:00&lt;00:00, 760B/s]"
     }
    },
    "64f7aaf119cf4e45b70c50741e1c5e0f": {
     "model_module": "@jupyter-widgets/base",
     "model_module_version": "1.2.0",
     "model_name": "LayoutModel",
     "state": {
      "_model_module": "@jupyter-widgets/base",
      "_model_module_version": "1.2.0",
      "_model_name": "LayoutModel",
      "_view_count": null,
      "_view_module": "@jupyter-widgets/base",
      "_view_module_version": "1.2.0",
      "_view_name": "LayoutView",
      "align_content": null,
      "align_items": null,
      "align_self": null,
      "border": null,
      "bottom": null,
      "display": null,
      "flex": null,
      "flex_flow": null,
      "grid_area": null,
      "grid_auto_columns": null,
      "grid_auto_flow": null,
      "grid_auto_rows": null,
      "grid_column": null,
      "grid_gap": null,
      "grid_row": null,
      "grid_template_areas": null,
      "grid_template_columns": null,
      "grid_template_rows": null,
      "height": null,
      "justify_content": null,
      "justify_items": null,
      "left": null,
      "margin": null,
      "max_height": null,
      "max_width": null,
      "min_height": null,
      "min_width": null,
      "object_fit": null,
      "object_position": null,
      "order": null,
      "overflow": null,
      "overflow_x": null,
      "overflow_y": null,
      "padding": null,
      "right": null,
      "top": null,
      "visibility": null,
      "width": null
     }
    },
    "6530f9a039d1415283fd53cabb7ed81e": {
     "model_module": "@jupyter-widgets/controls",
     "model_module_version": "1.5.0",
     "model_name": "ProgressStyleModel",
     "state": {
      "_model_module": "@jupyter-widgets/controls",
      "_model_module_version": "1.5.0",
      "_model_name": "ProgressStyleModel",
      "_view_count": null,
      "_view_module": "@jupyter-widgets/base",
      "_view_module_version": "1.2.0",
      "_view_name": "StyleView",
      "bar_color": null,
      "description_width": ""
     }
    },
    "670848b7238142c29bc630d65cd34a5a": {
     "model_module": "@jupyter-widgets/base",
     "model_module_version": "1.2.0",
     "model_name": "LayoutModel",
     "state": {
      "_model_module": "@jupyter-widgets/base",
      "_model_module_version": "1.2.0",
      "_model_name": "LayoutModel",
      "_view_count": null,
      "_view_module": "@jupyter-widgets/base",
      "_view_module_version": "1.2.0",
      "_view_name": "LayoutView",
      "align_content": null,
      "align_items": null,
      "align_self": null,
      "border": null,
      "bottom": null,
      "display": null,
      "flex": null,
      "flex_flow": null,
      "grid_area": null,
      "grid_auto_columns": null,
      "grid_auto_flow": null,
      "grid_auto_rows": null,
      "grid_column": null,
      "grid_gap": null,
      "grid_row": null,
      "grid_template_areas": null,
      "grid_template_columns": null,
      "grid_template_rows": null,
      "height": null,
      "justify_content": null,
      "justify_items": null,
      "left": null,
      "margin": null,
      "max_height": null,
      "max_width": null,
      "min_height": null,
      "min_width": null,
      "object_fit": null,
      "object_position": null,
      "order": null,
      "overflow": null,
      "overflow_x": null,
      "overflow_y": null,
      "padding": null,
      "right": null,
      "top": null,
      "visibility": null,
      "width": null
     }
    },
    "69403e367aac44d58cf9a91d5df45afd": {
     "model_module": "@jupyter-widgets/base",
     "model_module_version": "1.2.0",
     "model_name": "LayoutModel",
     "state": {
      "_model_module": "@jupyter-widgets/base",
      "_model_module_version": "1.2.0",
      "_model_name": "LayoutModel",
      "_view_count": null,
      "_view_module": "@jupyter-widgets/base",
      "_view_module_version": "1.2.0",
      "_view_name": "LayoutView",
      "align_content": null,
      "align_items": null,
      "align_self": null,
      "border": null,
      "bottom": null,
      "display": null,
      "flex": null,
      "flex_flow": null,
      "grid_area": null,
      "grid_auto_columns": null,
      "grid_auto_flow": null,
      "grid_auto_rows": null,
      "grid_column": null,
      "grid_gap": null,
      "grid_row": null,
      "grid_template_areas": null,
      "grid_template_columns": null,
      "grid_template_rows": null,
      "height": null,
      "justify_content": null,
      "justify_items": null,
      "left": null,
      "margin": null,
      "max_height": null,
      "max_width": null,
      "min_height": null,
      "min_width": null,
      "object_fit": null,
      "object_position": null,
      "order": null,
      "overflow": null,
      "overflow_x": null,
      "overflow_y": null,
      "padding": null,
      "right": null,
      "top": null,
      "visibility": null,
      "width": null
     }
    },
    "6a00c7a3d12c41698b6abef328bb722c": {
     "model_module": "@jupyter-widgets/controls",
     "model_module_version": "1.5.0",
     "model_name": "DescriptionStyleModel",
     "state": {
      "_model_module": "@jupyter-widgets/controls",
      "_model_module_version": "1.5.0",
      "_model_name": "DescriptionStyleModel",
      "_view_count": null,
      "_view_module": "@jupyter-widgets/base",
      "_view_module_version": "1.2.0",
      "_view_name": "StyleView",
      "description_width": ""
     }
    },
    "6fe6d88002e8457489a2e2a4abe5609a": {
     "model_module": "@jupyter-widgets/controls",
     "model_module_version": "1.5.0",
     "model_name": "HTMLModel",
     "state": {
      "_dom_classes": [],
      "_model_module": "@jupyter-widgets/controls",
      "_model_module_version": "1.5.0",
      "_model_name": "HTMLModel",
      "_view_count": null,
      "_view_module": "@jupyter-widgets/controls",
      "_view_module_version": "1.5.0",
      "_view_name": "HTMLView",
      "description": "",
      "description_tooltip": null,
      "layout": "IPY_MODEL_cb771fb50b324af4aa15b08550eeea14",
      "placeholder": "​",
      "style": "IPY_MODEL_55e729845d75490793b05a70d60e116d",
      "value": " 536M/536M [00:09&lt;00:00, 59.1MB/s]"
     }
    },
    "7186629b79194e05886a0a94f653ff37": {
     "model_module": "@jupyter-widgets/base",
     "model_module_version": "1.2.0",
     "model_name": "LayoutModel",
     "state": {
      "_model_module": "@jupyter-widgets/base",
      "_model_module_version": "1.2.0",
      "_model_name": "LayoutModel",
      "_view_count": null,
      "_view_module": "@jupyter-widgets/base",
      "_view_module_version": "1.2.0",
      "_view_name": "LayoutView",
      "align_content": null,
      "align_items": null,
      "align_self": null,
      "border": null,
      "bottom": null,
      "display": null,
      "flex": null,
      "flex_flow": null,
      "grid_area": null,
      "grid_auto_columns": null,
      "grid_auto_flow": null,
      "grid_auto_rows": null,
      "grid_column": null,
      "grid_gap": null,
      "grid_row": null,
      "grid_template_areas": null,
      "grid_template_columns": null,
      "grid_template_rows": null,
      "height": null,
      "justify_content": null,
      "justify_items": null,
      "left": null,
      "margin": null,
      "max_height": null,
      "max_width": null,
      "min_height": null,
      "min_width": null,
      "object_fit": null,
      "object_position": null,
      "order": null,
      "overflow": null,
      "overflow_x": null,
      "overflow_y": null,
      "padding": null,
      "right": null,
      "top": null,
      "visibility": null,
      "width": null
     }
    },
    "7b009ac4abd0475282bd227d90017879": {
     "model_module": "@jupyter-widgets/controls",
     "model_module_version": "1.5.0",
     "model_name": "ProgressStyleModel",
     "state": {
      "_model_module": "@jupyter-widgets/controls",
      "_model_module_version": "1.5.0",
      "_model_name": "ProgressStyleModel",
      "_view_count": null,
      "_view_module": "@jupyter-widgets/base",
      "_view_module_version": "1.2.0",
      "_view_name": "StyleView",
      "bar_color": null,
      "description_width": ""
     }
    },
    "940dcda48e744ed1a9df3ad109b00d92": {
     "model_module": "@jupyter-widgets/controls",
     "model_module_version": "1.5.0",
     "model_name": "ProgressStyleModel",
     "state": {
      "_model_module": "@jupyter-widgets/controls",
      "_model_module_version": "1.5.0",
      "_model_name": "ProgressStyleModel",
      "_view_count": null,
      "_view_module": "@jupyter-widgets/base",
      "_view_module_version": "1.2.0",
      "_view_name": "StyleView",
      "bar_color": null,
      "description_width": ""
     }
    },
    "9595e2a4638f440b85455dc34f5de5f4": {
     "model_module": "@jupyter-widgets/base",
     "model_module_version": "1.2.0",
     "model_name": "LayoutModel",
     "state": {
      "_model_module": "@jupyter-widgets/base",
      "_model_module_version": "1.2.0",
      "_model_name": "LayoutModel",
      "_view_count": null,
      "_view_module": "@jupyter-widgets/base",
      "_view_module_version": "1.2.0",
      "_view_name": "LayoutView",
      "align_content": null,
      "align_items": null,
      "align_self": null,
      "border": null,
      "bottom": null,
      "display": null,
      "flex": null,
      "flex_flow": null,
      "grid_area": null,
      "grid_auto_columns": null,
      "grid_auto_flow": null,
      "grid_auto_rows": null,
      "grid_column": null,
      "grid_gap": null,
      "grid_row": null,
      "grid_template_areas": null,
      "grid_template_columns": null,
      "grid_template_rows": null,
      "height": null,
      "justify_content": null,
      "justify_items": null,
      "left": null,
      "margin": null,
      "max_height": null,
      "max_width": null,
      "min_height": null,
      "min_width": null,
      "object_fit": null,
      "object_position": null,
      "order": null,
      "overflow": null,
      "overflow_x": null,
      "overflow_y": null,
      "padding": null,
      "right": null,
      "top": null,
      "visibility": null,
      "width": null
     }
    },
    "96d28542a2d3452d8385313347411e8f": {
     "model_module": "@jupyter-widgets/controls",
     "model_module_version": "1.5.0",
     "model_name": "HTMLModel",
     "state": {
      "_dom_classes": [],
      "_model_module": "@jupyter-widgets/controls",
      "_model_module_version": "1.5.0",
      "_model_name": "HTMLModel",
      "_view_count": null,
      "_view_module": "@jupyter-widgets/controls",
      "_view_module_version": "1.5.0",
      "_view_name": "HTMLView",
      "description": "",
      "description_tooltip": null,
      "layout": "IPY_MODEL_f9f73f23e1bf456eaeef8f5fc134cbf5",
      "placeholder": "​",
      "style": "IPY_MODEL_e21d8257a6234f7ea796e03b8f3aae3e",
      "value": "Downloading: 100%"
     }
    },
    "97aca76a8ace470b9fbb9ce5c9ef6017": {
     "model_module": "@jupyter-widgets/controls",
     "model_module_version": "1.5.0",
     "model_name": "HTMLModel",
     "state": {
      "_dom_classes": [],
      "_model_module": "@jupyter-widgets/controls",
      "_model_module_version": "1.5.0",
      "_model_name": "HTMLModel",
      "_view_count": null,
      "_view_module": "@jupyter-widgets/controls",
      "_view_module_version": "1.5.0",
      "_view_name": "HTMLView",
      "description": "",
      "description_tooltip": null,
      "layout": "IPY_MODEL_5ef2c77e573340d09fa76c6506280a42",
      "placeholder": "​",
      "style": "IPY_MODEL_b981bc4d8c1f44a99847b91657e2a9c0",
      "value": " 232k/232k [00:00&lt;00:00, 1.51MB/s]"
     }
    },
    "9d081219319a478982e8544ac7af7266": {
     "model_module": "@jupyter-widgets/controls",
     "model_module_version": "1.5.0",
     "model_name": "FloatProgressModel",
     "state": {
      "_dom_classes": [],
      "_model_module": "@jupyter-widgets/controls",
      "_model_module_version": "1.5.0",
      "_model_name": "FloatProgressModel",
      "_view_count": null,
      "_view_module": "@jupyter-widgets/controls",
      "_view_module_version": "1.5.0",
      "_view_name": "ProgressView",
      "bar_style": "success",
      "description": "",
      "description_tooltip": null,
      "layout": "IPY_MODEL_d2ba88811f6d450eb0cf7ba6fa575218",
      "max": 536063208,
      "min": 0,
      "orientation": "horizontal",
      "style": "IPY_MODEL_590ded8257334b929497deed9302dbb5",
      "value": 536063208
     }
    },
    "a3226917698746459a9d1d3cc4a77eaa": {
     "model_module": "@jupyter-widgets/controls",
     "model_module_version": "1.5.0",
     "model_name": "DescriptionStyleModel",
     "state": {
      "_model_module": "@jupyter-widgets/controls",
      "_model_module_version": "1.5.0",
      "_model_name": "DescriptionStyleModel",
      "_view_count": null,
      "_view_module": "@jupyter-widgets/base",
      "_view_module_version": "1.2.0",
      "_view_name": "StyleView",
      "description_width": ""
     }
    },
    "a62636d9a10440379e82eab90c2a1680": {
     "model_module": "@jupyter-widgets/base",
     "model_module_version": "1.2.0",
     "model_name": "LayoutModel",
     "state": {
      "_model_module": "@jupyter-widgets/base",
      "_model_module_version": "1.2.0",
      "_model_name": "LayoutModel",
      "_view_count": null,
      "_view_module": "@jupyter-widgets/base",
      "_view_module_version": "1.2.0",
      "_view_name": "LayoutView",
      "align_content": null,
      "align_items": null,
      "align_self": null,
      "border": null,
      "bottom": null,
      "display": null,
      "flex": null,
      "flex_flow": null,
      "grid_area": null,
      "grid_auto_columns": null,
      "grid_auto_flow": null,
      "grid_auto_rows": null,
      "grid_column": null,
      "grid_gap": null,
      "grid_row": null,
      "grid_template_areas": null,
      "grid_template_columns": null,
      "grid_template_rows": null,
      "height": null,
      "justify_content": null,
      "justify_items": null,
      "left": null,
      "margin": null,
      "max_height": null,
      "max_width": null,
      "min_height": null,
      "min_width": null,
      "object_fit": null,
      "object_position": null,
      "order": null,
      "overflow": null,
      "overflow_x": null,
      "overflow_y": null,
      "padding": null,
      "right": null,
      "top": null,
      "visibility": null,
      "width": null
     }
    },
    "aa1fec3a8eb44c77bb1bd3004a98f8b5": {
     "model_module": "@jupyter-widgets/controls",
     "model_module_version": "1.5.0",
     "model_name": "DescriptionStyleModel",
     "state": {
      "_model_module": "@jupyter-widgets/controls",
      "_model_module_version": "1.5.0",
      "_model_name": "DescriptionStyleModel",
      "_view_count": null,
      "_view_module": "@jupyter-widgets/base",
      "_view_module_version": "1.2.0",
      "_view_name": "StyleView",
      "description_width": ""
     }
    },
    "ad4ed298a2e349c68eba27a639a9a819": {
     "model_module": "@jupyter-widgets/base",
     "model_module_version": "1.2.0",
     "model_name": "LayoutModel",
     "state": {
      "_model_module": "@jupyter-widgets/base",
      "_model_module_version": "1.2.0",
      "_model_name": "LayoutModel",
      "_view_count": null,
      "_view_module": "@jupyter-widgets/base",
      "_view_module_version": "1.2.0",
      "_view_name": "LayoutView",
      "align_content": null,
      "align_items": null,
      "align_self": null,
      "border": null,
      "bottom": null,
      "display": null,
      "flex": null,
      "flex_flow": null,
      "grid_area": null,
      "grid_auto_columns": null,
      "grid_auto_flow": null,
      "grid_auto_rows": null,
      "grid_column": null,
      "grid_gap": null,
      "grid_row": null,
      "grid_template_areas": null,
      "grid_template_columns": null,
      "grid_template_rows": null,
      "height": null,
      "justify_content": null,
      "justify_items": null,
      "left": null,
      "margin": null,
      "max_height": null,
      "max_width": null,
      "min_height": null,
      "min_width": null,
      "object_fit": null,
      "object_position": null,
      "order": null,
      "overflow": null,
      "overflow_x": null,
      "overflow_y": null,
      "padding": null,
      "right": null,
      "top": null,
      "visibility": null,
      "width": null
     }
    },
    "b981bc4d8c1f44a99847b91657e2a9c0": {
     "model_module": "@jupyter-widgets/controls",
     "model_module_version": "1.5.0",
     "model_name": "DescriptionStyleModel",
     "state": {
      "_model_module": "@jupyter-widgets/controls",
      "_model_module_version": "1.5.0",
      "_model_name": "DescriptionStyleModel",
      "_view_count": null,
      "_view_module": "@jupyter-widgets/base",
      "_view_module_version": "1.2.0",
      "_view_name": "StyleView",
      "description_width": ""
     }
    },
    "bbf983c1fbc241a3ace4fda80ea9c5ac": {
     "model_module": "@jupyter-widgets/controls",
     "model_module_version": "1.5.0",
     "model_name": "HTMLModel",
     "state": {
      "_dom_classes": [],
      "_model_module": "@jupyter-widgets/controls",
      "_model_module_version": "1.5.0",
      "_model_name": "HTMLModel",
      "_view_count": null,
      "_view_module": "@jupyter-widgets/controls",
      "_view_module_version": "1.5.0",
      "_view_name": "HTMLView",
      "description": "",
      "description_tooltip": null,
      "layout": "IPY_MODEL_5c675047a3df44368fa87613a45b607c",
      "placeholder": "​",
      "style": "IPY_MODEL_aa1fec3a8eb44c77bb1bd3004a98f8b5",
      "value": " 466k/466k [00:00&lt;00:00, 1.85MB/s]"
     }
    },
    "c2a2f77d115141838d30104158b637fa": {
     "model_module": "@jupyter-widgets/controls",
     "model_module_version": "1.5.0",
     "model_name": "HTMLModel",
     "state": {
      "_dom_classes": [],
      "_model_module": "@jupyter-widgets/controls",
      "_model_module_version": "1.5.0",
      "_model_name": "HTMLModel",
      "_view_count": null,
      "_view_module": "@jupyter-widgets/controls",
      "_view_module_version": "1.5.0",
      "_view_name": "HTMLView",
      "description": "",
      "description_tooltip": null,
      "layout": "IPY_MODEL_670848b7238142c29bc630d65cd34a5a",
      "placeholder": "​",
      "style": "IPY_MODEL_6a00c7a3d12c41698b6abef328bb722c",
      "value": " 570/570 [00:00&lt;00:00, 17.9kB/s]"
     }
    },
    "c639448b0912457a8832620986b734ab": {
     "model_module": "@jupyter-widgets/controls",
     "model_module_version": "1.5.0",
     "model_name": "HBoxModel",
     "state": {
      "_dom_classes": [],
      "_model_module": "@jupyter-widgets/controls",
      "_model_module_version": "1.5.0",
      "_model_name": "HBoxModel",
      "_view_count": null,
      "_view_module": "@jupyter-widgets/controls",
      "_view_module_version": "1.5.0",
      "_view_name": "HBoxView",
      "box_style": "",
      "children": [
       "IPY_MODEL_52630c6812cf451b9f94cc44ce56682f",
       "IPY_MODEL_9d081219319a478982e8544ac7af7266",
       "IPY_MODEL_6fe6d88002e8457489a2e2a4abe5609a"
      ],
      "layout": "IPY_MODEL_126371894d1f4cb583294c7b2f9cccd4"
     }
    },
    "c8fcfd5e1e494f7aacb3f69fd34b2d46": {
     "model_module": "@jupyter-widgets/controls",
     "model_module_version": "1.5.0",
     "model_name": "HBoxModel",
     "state": {
      "_dom_classes": [],
      "_model_module": "@jupyter-widgets/controls",
      "_model_module_version": "1.5.0",
      "_model_name": "HBoxModel",
      "_view_count": null,
      "_view_module": "@jupyter-widgets/controls",
      "_view_module_version": "1.5.0",
      "_view_name": "HBoxView",
      "box_style": "",
      "children": [
       "IPY_MODEL_96d28542a2d3452d8385313347411e8f",
       "IPY_MODEL_efd1ad8c919540108ec83594c2da412c",
       "IPY_MODEL_63f0415150304dca90c97efd3adcf2bc"
      ],
      "layout": "IPY_MODEL_da15381a6f4b4fbd830cd23e6ea26881"
     }
    },
    "cb771fb50b324af4aa15b08550eeea14": {
     "model_module": "@jupyter-widgets/base",
     "model_module_version": "1.2.0",
     "model_name": "LayoutModel",
     "state": {
      "_model_module": "@jupyter-widgets/base",
      "_model_module_version": "1.2.0",
      "_model_name": "LayoutModel",
      "_view_count": null,
      "_view_module": "@jupyter-widgets/base",
      "_view_module_version": "1.2.0",
      "_view_name": "LayoutView",
      "align_content": null,
      "align_items": null,
      "align_self": null,
      "border": null,
      "bottom": null,
      "display": null,
      "flex": null,
      "flex_flow": null,
      "grid_area": null,
      "grid_auto_columns": null,
      "grid_auto_flow": null,
      "grid_auto_rows": null,
      "grid_column": null,
      "grid_gap": null,
      "grid_row": null,
      "grid_template_areas": null,
      "grid_template_columns": null,
      "grid_template_rows": null,
      "height": null,
      "justify_content": null,
      "justify_items": null,
      "left": null,
      "margin": null,
      "max_height": null,
      "max_width": null,
      "min_height": null,
      "min_width": null,
      "object_fit": null,
      "object_position": null,
      "order": null,
      "overflow": null,
      "overflow_x": null,
      "overflow_y": null,
      "padding": null,
      "right": null,
      "top": null,
      "visibility": null,
      "width": null
     }
    },
    "d2ba88811f6d450eb0cf7ba6fa575218": {
     "model_module": "@jupyter-widgets/base",
     "model_module_version": "1.2.0",
     "model_name": "LayoutModel",
     "state": {
      "_model_module": "@jupyter-widgets/base",
      "_model_module_version": "1.2.0",
      "_model_name": "LayoutModel",
      "_view_count": null,
      "_view_module": "@jupyter-widgets/base",
      "_view_module_version": "1.2.0",
      "_view_name": "LayoutView",
      "align_content": null,
      "align_items": null,
      "align_self": null,
      "border": null,
      "bottom": null,
      "display": null,
      "flex": null,
      "flex_flow": null,
      "grid_area": null,
      "grid_auto_columns": null,
      "grid_auto_flow": null,
      "grid_auto_rows": null,
      "grid_column": null,
      "grid_gap": null,
      "grid_row": null,
      "grid_template_areas": null,
      "grid_template_columns": null,
      "grid_template_rows": null,
      "height": null,
      "justify_content": null,
      "justify_items": null,
      "left": null,
      "margin": null,
      "max_height": null,
      "max_width": null,
      "min_height": null,
      "min_width": null,
      "object_fit": null,
      "object_position": null,
      "order": null,
      "overflow": null,
      "overflow_x": null,
      "overflow_y": null,
      "padding": null,
      "right": null,
      "top": null,
      "visibility": null,
      "width": null
     }
    },
    "d5e0c84970224d1e83c26e0ee86cb6ef": {
     "model_module": "@jupyter-widgets/controls",
     "model_module_version": "1.5.0",
     "model_name": "DescriptionStyleModel",
     "state": {
      "_model_module": "@jupyter-widgets/controls",
      "_model_module_version": "1.5.0",
      "_model_name": "DescriptionStyleModel",
      "_view_count": null,
      "_view_module": "@jupyter-widgets/base",
      "_view_module_version": "1.2.0",
      "_view_name": "StyleView",
      "description_width": ""
     }
    },
    "d79bf2ad71d44a4fb2fa679260e5b575": {
     "model_module": "@jupyter-widgets/controls",
     "model_module_version": "1.5.0",
     "model_name": "FloatProgressModel",
     "state": {
      "_dom_classes": [],
      "_model_module": "@jupyter-widgets/controls",
      "_model_module_version": "1.5.0",
      "_model_name": "FloatProgressModel",
      "_view_count": null,
      "_view_module": "@jupyter-widgets/controls",
      "_view_module_version": "1.5.0",
      "_view_name": "ProgressView",
      "bar_style": "success",
      "description": "",
      "description_tooltip": null,
      "layout": "IPY_MODEL_f4bfc13e39ce4589a24e447263b5d0a9",
      "max": 570,
      "min": 0,
      "orientation": "horizontal",
      "style": "IPY_MODEL_2dc02b4a305f49df83507bee1a6146d7",
      "value": 570
     }
    },
    "d7c794f4588e42ccacb4bc1183cb1c77": {
     "model_module": "@jupyter-widgets/controls",
     "model_module_version": "1.5.0",
     "model_name": "HTMLModel",
     "state": {
      "_dom_classes": [],
      "_model_module": "@jupyter-widgets/controls",
      "_model_module_version": "1.5.0",
      "_model_name": "HTMLModel",
      "_view_count": null,
      "_view_module": "@jupyter-widgets/controls",
      "_view_module_version": "1.5.0",
      "_view_name": "HTMLView",
      "description": "",
      "description_tooltip": null,
      "layout": "IPY_MODEL_fc4f62d2e31b4343bdfd8968a4158f4b",
      "placeholder": "​",
      "style": "IPY_MODEL_6341db0270a340458ea834023a229b5f",
      "value": "Downloading: 100%"
     }
    },
    "da15381a6f4b4fbd830cd23e6ea26881": {
     "model_module": "@jupyter-widgets/base",
     "model_module_version": "1.2.0",
     "model_name": "LayoutModel",
     "state": {
      "_model_module": "@jupyter-widgets/base",
      "_model_module_version": "1.2.0",
      "_model_name": "LayoutModel",
      "_view_count": null,
      "_view_module": "@jupyter-widgets/base",
      "_view_module_version": "1.2.0",
      "_view_name": "LayoutView",
      "align_content": null,
      "align_items": null,
      "align_self": null,
      "border": null,
      "bottom": null,
      "display": null,
      "flex": null,
      "flex_flow": null,
      "grid_area": null,
      "grid_auto_columns": null,
      "grid_auto_flow": null,
      "grid_auto_rows": null,
      "grid_column": null,
      "grid_gap": null,
      "grid_row": null,
      "grid_template_areas": null,
      "grid_template_columns": null,
      "grid_template_rows": null,
      "height": null,
      "justify_content": null,
      "justify_items": null,
      "left": null,
      "margin": null,
      "max_height": null,
      "max_width": null,
      "min_height": null,
      "min_width": null,
      "object_fit": null,
      "object_position": null,
      "order": null,
      "overflow": null,
      "overflow_x": null,
      "overflow_y": null,
      "padding": null,
      "right": null,
      "top": null,
      "visibility": null,
      "width": null
     }
    },
    "e21d8257a6234f7ea796e03b8f3aae3e": {
     "model_module": "@jupyter-widgets/controls",
     "model_module_version": "1.5.0",
     "model_name": "DescriptionStyleModel",
     "state": {
      "_model_module": "@jupyter-widgets/controls",
      "_model_module_version": "1.5.0",
      "_model_name": "DescriptionStyleModel",
      "_view_count": null,
      "_view_module": "@jupyter-widgets/base",
      "_view_module_version": "1.2.0",
      "_view_name": "StyleView",
      "description_width": ""
     }
    },
    "ea8899a37e8441958d5d3983954f096c": {
     "model_module": "@jupyter-widgets/base",
     "model_module_version": "1.2.0",
     "model_name": "LayoutModel",
     "state": {
      "_model_module": "@jupyter-widgets/base",
      "_model_module_version": "1.2.0",
      "_model_name": "LayoutModel",
      "_view_count": null,
      "_view_module": "@jupyter-widgets/base",
      "_view_module_version": "1.2.0",
      "_view_name": "LayoutView",
      "align_content": null,
      "align_items": null,
      "align_self": null,
      "border": null,
      "bottom": null,
      "display": null,
      "flex": null,
      "flex_flow": null,
      "grid_area": null,
      "grid_auto_columns": null,
      "grid_auto_flow": null,
      "grid_auto_rows": null,
      "grid_column": null,
      "grid_gap": null,
      "grid_row": null,
      "grid_template_areas": null,
      "grid_template_columns": null,
      "grid_template_rows": null,
      "height": null,
      "justify_content": null,
      "justify_items": null,
      "left": null,
      "margin": null,
      "max_height": null,
      "max_width": null,
      "min_height": null,
      "min_width": null,
      "object_fit": null,
      "object_position": null,
      "order": null,
      "overflow": null,
      "overflow_x": null,
      "overflow_y": null,
      "padding": null,
      "right": null,
      "top": null,
      "visibility": null,
      "width": null
     }
    },
    "efd1ad8c919540108ec83594c2da412c": {
     "model_module": "@jupyter-widgets/controls",
     "model_module_version": "1.5.0",
     "model_name": "FloatProgressModel",
     "state": {
      "_dom_classes": [],
      "_model_module": "@jupyter-widgets/controls",
      "_model_module_version": "1.5.0",
      "_model_name": "FloatProgressModel",
      "_view_count": null,
      "_view_module": "@jupyter-widgets/controls",
      "_view_module_version": "1.5.0",
      "_view_name": "ProgressView",
      "bar_style": "success",
      "description": "",
      "description_tooltip": null,
      "layout": "IPY_MODEL_ad4ed298a2e349c68eba27a639a9a819",
      "max": 28,
      "min": 0,
      "orientation": "horizontal",
      "style": "IPY_MODEL_940dcda48e744ed1a9df3ad109b00d92",
      "value": 28
     }
    },
    "f4bfc13e39ce4589a24e447263b5d0a9": {
     "model_module": "@jupyter-widgets/base",
     "model_module_version": "1.2.0",
     "model_name": "LayoutModel",
     "state": {
      "_model_module": "@jupyter-widgets/base",
      "_model_module_version": "1.2.0",
      "_model_name": "LayoutModel",
      "_view_count": null,
      "_view_module": "@jupyter-widgets/base",
      "_view_module_version": "1.2.0",
      "_view_name": "LayoutView",
      "align_content": null,
      "align_items": null,
      "align_self": null,
      "border": null,
      "bottom": null,
      "display": null,
      "flex": null,
      "flex_flow": null,
      "grid_area": null,
      "grid_auto_columns": null,
      "grid_auto_flow": null,
      "grid_auto_rows": null,
      "grid_column": null,
      "grid_gap": null,
      "grid_row": null,
      "grid_template_areas": null,
      "grid_template_columns": null,
      "grid_template_rows": null,
      "height": null,
      "justify_content": null,
      "justify_items": null,
      "left": null,
      "margin": null,
      "max_height": null,
      "max_width": null,
      "min_height": null,
      "min_width": null,
      "object_fit": null,
      "object_position": null,
      "order": null,
      "overflow": null,
      "overflow_x": null,
      "overflow_y": null,
      "padding": null,
      "right": null,
      "top": null,
      "visibility": null,
      "width": null
     }
    },
    "f900750236c040d888739dbf6629f8ca": {
     "model_module": "@jupyter-widgets/base",
     "model_module_version": "1.2.0",
     "model_name": "LayoutModel",
     "state": {
      "_model_module": "@jupyter-widgets/base",
      "_model_module_version": "1.2.0",
      "_model_name": "LayoutModel",
      "_view_count": null,
      "_view_module": "@jupyter-widgets/base",
      "_view_module_version": "1.2.0",
      "_view_name": "LayoutView",
      "align_content": null,
      "align_items": null,
      "align_self": null,
      "border": null,
      "bottom": null,
      "display": null,
      "flex": null,
      "flex_flow": null,
      "grid_area": null,
      "grid_auto_columns": null,
      "grid_auto_flow": null,
      "grid_auto_rows": null,
      "grid_column": null,
      "grid_gap": null,
      "grid_row": null,
      "grid_template_areas": null,
      "grid_template_columns": null,
      "grid_template_rows": null,
      "height": null,
      "justify_content": null,
      "justify_items": null,
      "left": null,
      "margin": null,
      "max_height": null,
      "max_width": null,
      "min_height": null,
      "min_width": null,
      "object_fit": null,
      "object_position": null,
      "order": null,
      "overflow": null,
      "overflow_x": null,
      "overflow_y": null,
      "padding": null,
      "right": null,
      "top": null,
      "visibility": null,
      "width": null
     }
    },
    "f9f73f23e1bf456eaeef8f5fc134cbf5": {
     "model_module": "@jupyter-widgets/base",
     "model_module_version": "1.2.0",
     "model_name": "LayoutModel",
     "state": {
      "_model_module": "@jupyter-widgets/base",
      "_model_module_version": "1.2.0",
      "_model_name": "LayoutModel",
      "_view_count": null,
      "_view_module": "@jupyter-widgets/base",
      "_view_module_version": "1.2.0",
      "_view_name": "LayoutView",
      "align_content": null,
      "align_items": null,
      "align_self": null,
      "border": null,
      "bottom": null,
      "display": null,
      "flex": null,
      "flex_flow": null,
      "grid_area": null,
      "grid_auto_columns": null,
      "grid_auto_flow": null,
      "grid_auto_rows": null,
      "grid_column": null,
      "grid_gap": null,
      "grid_row": null,
      "grid_template_areas": null,
      "grid_template_columns": null,
      "grid_template_rows": null,
      "height": null,
      "justify_content": null,
      "justify_items": null,
      "left": null,
      "margin": null,
      "max_height": null,
      "max_width": null,
      "min_height": null,
      "min_width": null,
      "object_fit": null,
      "object_position": null,
      "order": null,
      "overflow": null,
      "overflow_x": null,
      "overflow_y": null,
      "padding": null,
      "right": null,
      "top": null,
      "visibility": null,
      "width": null
     }
    },
    "fc4f62d2e31b4343bdfd8968a4158f4b": {
     "model_module": "@jupyter-widgets/base",
     "model_module_version": "1.2.0",
     "model_name": "LayoutModel",
     "state": {
      "_model_module": "@jupyter-widgets/base",
      "_model_module_version": "1.2.0",
      "_model_name": "LayoutModel",
      "_view_count": null,
      "_view_module": "@jupyter-widgets/base",
      "_view_module_version": "1.2.0",
      "_view_name": "LayoutView",
      "align_content": null,
      "align_items": null,
      "align_self": null,
      "border": null,
      "bottom": null,
      "display": null,
      "flex": null,
      "flex_flow": null,
      "grid_area": null,
      "grid_auto_columns": null,
      "grid_auto_flow": null,
      "grid_auto_rows": null,
      "grid_column": null,
      "grid_gap": null,
      "grid_row": null,
      "grid_template_areas": null,
      "grid_template_columns": null,
      "grid_template_rows": null,
      "height": null,
      "justify_content": null,
      "justify_items": null,
      "left": null,
      "margin": null,
      "max_height": null,
      "max_width": null,
      "min_height": null,
      "min_width": null,
      "object_fit": null,
      "object_position": null,
      "order": null,
      "overflow": null,
      "overflow_x": null,
      "overflow_y": null,
      "padding": null,
      "right": null,
      "top": null,
      "visibility": null,
      "width": null
     }
    },
    "fce85fcda9d6467fbeb1d096e5c277b2": {
     "model_module": "@jupyter-widgets/controls",
     "model_module_version": "1.5.0",
     "model_name": "FloatProgressModel",
     "state": {
      "_dom_classes": [],
      "_model_module": "@jupyter-widgets/controls",
      "_model_module_version": "1.5.0",
      "_model_name": "FloatProgressModel",
      "_view_count": null,
      "_view_module": "@jupyter-widgets/controls",
      "_view_module_version": "1.5.0",
      "_view_name": "ProgressView",
      "bar_style": "success",
      "description": "",
      "description_tooltip": null,
      "layout": "IPY_MODEL_9595e2a4638f440b85455dc34f5de5f4",
      "max": 231508,
      "min": 0,
      "orientation": "horizontal",
      "style": "IPY_MODEL_7b009ac4abd0475282bd227d90017879",
      "value": 231508
     }
    },
    "fffa54e587a74827ac78796d2181ede7": {
     "model_module": "@jupyter-widgets/controls",
     "model_module_version": "1.5.0",
     "model_name": "HBoxModel",
     "state": {
      "_dom_classes": [],
      "_model_module": "@jupyter-widgets/controls",
      "_model_module_version": "1.5.0",
      "_model_name": "HBoxModel",
      "_view_count": null,
      "_view_module": "@jupyter-widgets/controls",
      "_view_module_version": "1.5.0",
      "_view_name": "HBoxView",
      "box_style": "",
      "children": [
       "IPY_MODEL_33e00bc97ad04f50bef095996a21072a",
       "IPY_MODEL_d79bf2ad71d44a4fb2fa679260e5b575",
       "IPY_MODEL_c2a2f77d115141838d30104158b637fa"
      ],
      "layout": "IPY_MODEL_ea8899a37e8441958d5d3983954f096c"
     }
    }
   }
  }
 },
 "nbformat": 4,
 "nbformat_minor": 1
}
