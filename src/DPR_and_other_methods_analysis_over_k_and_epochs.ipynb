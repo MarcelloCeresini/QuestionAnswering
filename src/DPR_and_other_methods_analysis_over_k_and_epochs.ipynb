{
  "cells": [
    {
      "cell_type": "code",
      "execution_count": 1,
      "metadata": {
        "id": "8oZkaIoI1esj"
      },
      "outputs": [],
      "source": [
        "username = 'MarcelloCeresini'\n",
        "repository = 'QuestionAnswering'\n",
        "\n",
        "# COLAB ONLY CELLS\n",
        "try:\n",
        "    import google.colab\n",
        "    IN_COLAB = True\n",
        "    !pip3 install transformers\n",
        "    !git clone https://www.github.com/{username}/{repository}.git\n",
        "    #from google.colab import drive\n",
        "    #drive.mount('/content/drive/')\n",
        "    %cd /content/QuestionAnswering/src\n",
        "    using_TPU = True    # If we are running this notebook on Colab, use a TPU\n",
        "    # Google cloud credentials\n",
        "    %env GOOGLE_APPLICATION_CREDENTIALS=/content/drive/MyDrive/Uni/Magistrale/NLP/Project/nlp-project-338723-0510aa0a4912.json\n",
        "except:\n",
        "    IN_COLAB = False\n",
        "    using_TPU = False   # If you're not on Colab you probably won't have access to a TPU"
      ]
    },
    {
      "cell_type": "markdown",
      "metadata": {
        "id": "7s1cbEuy1es4"
      },
      "source": [
        "# Configuration"
      ]
    },
    {
      "cell_type": "markdown",
      "metadata": {
        "id": "Pm45AN-fDEiv"
      },
      "source": [
        "## Imports"
      ]
    },
    {
      "cell_type": "code",
      "execution_count": 2,
      "metadata": {
        "id": "8CBcRCvCCpzg"
      },
      "outputs": [],
      "source": [
        "import os\n",
        "import numpy as np\n",
        "import random\n",
        "from tqdm import tqdm\n",
        "from functools import partial\n",
        "tqdm = partial(tqdm, position=0, leave=True)\n",
        "import tensorflow as tf\n",
        "from tensorflow import keras\n",
        "from tensorflow.keras import layers\n",
        "from tensorflow.keras.utils import Sequence\n",
        "from typing import List, Union, Dict, Tuple\n",
        "from transformers import BertTokenizerFast, DistilBertTokenizerFast, \\\n",
        "                         TFBertModel, TFDistilBertModel\n",
        "from sklearn.feature_extraction.text import TfidfVectorizer\n",
        "import utils\n",
        "import json\n",
        "\n",
        "RANDOM_SEED = 42\n",
        "MAX_SEQ_LEN = 512\n",
        "BERT_DIMENSIONALITY = 768\n",
        "\n",
        "np.random.seed(RANDOM_SEED)\n",
        "random.seed(RANDOM_SEED)\n",
        "tf.random.set_seed(RANDOM_SEED)"
      ]
    },
    {
      "cell_type": "markdown",
      "metadata": {
        "id": "K7Ih1ZqSDCmW"
      },
      "source": [
        "### TPU check\n",
        "The training could be made faster if we use the cloud GPUs offered by Google on Google Colab. Since TPUs require manual intialization and other oddities, we check multiple times throughout the notebook what kind of hardware we are running the code on."
      ]
    },
    {
      "cell_type": "code",
      "execution_count": 3,
      "metadata": {
        "id": "iyt5e89MCm4X"
      },
      "outputs": [
        {
          "name": "stdout",
          "output_type": "stream",
          "text": [
            "Num GPUs Available:  1\n"
          ]
        }
      ],
      "source": [
        "if using_TPU:\n",
        "    try: \n",
        "        resolver = tf.distribute.cluster_resolver.TPUClusterResolver(tpu='')\n",
        "        tf.config.experimental_connect_to_cluster(resolver)\n",
        "        # This is the TPU initialization code that has to be at the beginning.\n",
        "        tf.tpu.experimental.initialize_tpu_system(resolver)\n",
        "        print(\"All devices: \", tf.config.list_logical_devices('TPU'))\n",
        "        strategy = tf.distribute.TPUStrategy(resolver)\n",
        "    except:\n",
        "        print(\"TPUs are not available, setting flag 'using_TPU' to False.\")\n",
        "        using_TPU = False\n",
        "        print(\"Num GPUs Available: \", len(tf.config.list_physical_devices('GPU')))\n",
        "else:\n",
        "    print(\"Num GPUs Available: \", len(tf.config.list_physical_devices('GPU')))"
      ]
    },
    {
      "cell_type": "markdown",
      "metadata": {
        "id": "VRAMocMMdOWz"
      },
      "source": [
        "### Paths"
      ]
    },
    {
      "cell_type": "code",
      "execution_count": 4,
      "metadata": {},
      "outputs": [],
      "source": [
        "ROOT_PATH = os.path.dirname(os.getcwd())\n",
        "TRAINING_FILE = os.path.join(ROOT_PATH, 'data', 'training_set.json')\n",
        "VALIDATION_FILE = os.path.join(ROOT_PATH, 'data', 'validation_set.json')\n",
        "TEST_FILE = os.path.join(ROOT_PATH, 'data', 'dev_set.json')"
      ]
    },
    {
      "cell_type": "code",
      "execution_count": 5,
      "metadata": {
        "colab": {
          "base_uri": "https://localhost:8080/"
        },
        "id": "jDjUKQxol1lS",
        "outputId": "e5f2e037-1cb4-43df-f6c4-884641348553"
      },
      "outputs": [],
      "source": [
        "if IN_COLAB:\n",
        "    from google.colab import drive\n",
        "    drive.mount('/content/drive/')\n",
        "    checkpoint_dir = '/content/drive/MyDrive/Uni/Magistrale/NLP/Project/weights/training_dpr/'\n",
        "    datasets_dir = '/content/drive/MyDrive/Uni/Magistrale/NLP/Project/datasets/dpr/'\n",
        "    BATCH_SIZE = 64\n",
        "else:\n",
        "    # Create the folder where we'll save the weights of the model\n",
        "    checkpoint_dir = os.path.join(\"checkpoints\", \"training_dpr\")\n",
        "    datasets_dir = os.path.join(ROOT_PATH, \"data\", \"training_dpr\", \"dataset\")\n",
        "    BATCH_SIZE = 8\n",
        "\n",
        "os.makedirs(checkpoint_dir, exist_ok=True)\n",
        "os.makedirs(datasets_dir, exist_ok=True)"
      ]
    },
    {
      "cell_type": "markdown",
      "metadata": {
        "id": "YLC6xwfKDSAN"
      },
      "source": [
        "# Questions and paragraphs"
      ]
    },
    {
      "cell_type": "code",
      "execution_count": 6,
      "metadata": {
        "id": "1zdDCsLZDMkm"
      },
      "outputs": [],
      "source": [
        "train_paragraphs_and_questions = utils.read_question_set(TRAINING_FILE)['data']\n",
        "val_paragraphs_and_questions = utils.read_question_set(VALIDATION_FILE)['data']\n",
        "test_paragraphs_and_questions = utils.read_question_set(TEST_FILE)['data']\n",
        "\n",
        "# Remove the validation set from the train set\n",
        "train_paragraphs_and_questions = [article for article in train_paragraphs_and_questions \\\n",
        "                                  if article not in val_paragraphs_and_questions]\n",
        "\n",
        "def get_questions_and_paragraphs(dataset):\n",
        "    questions = [{\n",
        "            'qas': qas,\n",
        "            'context_id': (i,j)    # We also track the question's original context and paragraph indices so to have a ground truth\n",
        "        }\n",
        "        for i in range(len(dataset))\n",
        "        for j, para in enumerate(dataset[i]['paragraphs'])\n",
        "        for qas in para['qas']\n",
        "    ]\n",
        "\n",
        "    paragraphs = [{\n",
        "            'context': para['context'],\n",
        "            'context_id': i\n",
        "        }\n",
        "        for i in range(len(dataset))\n",
        "        for para in dataset[i]['paragraphs']\n",
        "    ]\n",
        "\n",
        "    return questions, paragraphs\n",
        "\n",
        "train_questions, train_paragraphs = get_questions_and_paragraphs(train_paragraphs_and_questions)\n",
        "val_questions, val_paragraphs = get_questions_and_paragraphs(val_paragraphs_and_questions)\n",
        "test_questions, test_paragraphs = get_questions_and_paragraphs(test_paragraphs_and_questions)"
      ]
    },
    {
      "cell_type": "markdown",
      "metadata": {
        "id": "D0bzUOJidXHC"
      },
      "source": [
        "# Tokenizer"
      ]
    },
    {
      "cell_type": "code",
      "execution_count": 7,
      "metadata": {
        "id": "1XI6YUBZDit8"
      },
      "outputs": [],
      "source": [
        "tokenizer_distilbert = DistilBertTokenizerFast.from_pretrained('distilbert-base-uncased')"
      ]
    },
    {
      "cell_type": "markdown",
      "metadata": {
        "id": "yrIu_o4AskgF"
      },
      "source": [
        "We also create the Tf-Idf vectorizers for the training and validation sets."
      ]
    },
    {
      "cell_type": "code",
      "execution_count": 8,
      "metadata": {
        "id": "oxY534ShszhQ"
      },
      "outputs": [],
      "source": [
        "train_vectorizer = TfidfVectorizer(strip_accents='unicode', lowercase=True, max_df=0.8, norm='l2')\n",
        "test_vectorizer = TfidfVectorizer(strip_accents='unicode', lowercase=True, max_df=0.8, norm='l2')"
      ]
    },
    {
      "cell_type": "markdown",
      "metadata": {
        "id": "mNtqOSlWtTBv"
      },
      "source": [
        "Transform all paragraphs into a vectorized representation."
      ]
    },
    {
      "cell_type": "code",
      "execution_count": 9,
      "metadata": {
        "id": "TfphwqPKs45x"
      },
      "outputs": [],
      "source": [
        "train_docs_vect = train_vectorizer.fit_transform([train_paragraphs[i]['context'] for i in range(len(train_paragraphs))])\n",
        "test_docs_vect = test_vectorizer.fit_transform([test_paragraphs[i]['context'] for i in range(len(test_paragraphs))])"
      ]
    },
    {
      "cell_type": "markdown",
      "metadata": {
        "id": "tCYkx8rf1es_"
      },
      "source": [
        "# Dataset creation"
      ]
    },
    {
      "cell_type": "code",
      "execution_count": 10,
      "metadata": {
        "colab": {
          "base_uri": "https://localhost:8080/"
        },
        "id": "OaBWVf5k1etB",
        "outputId": "de17b414-8dbb-4432-b7bd-ae7f8f610060"
      },
      "outputs": [
        {
          "name": "stdout",
          "output_type": "stream",
          "text": [
            "Loading train_768 dataset from GCS (gs://volpepe-nlp-project-squad-datasets/train_768.proto).\n",
            "Loading val_768 dataset from GCS (gs://volpepe-nlp-project-squad-datasets/val_768.proto).\n"
          ]
        }
      ],
      "source": [
        "def get_paragraph_from_question(qas, dataset):\n",
        "    # Returns the ground truth paragraph for a question.\n",
        "    i,j = qas['context_id']\n",
        "    return dataset[i]['paragraphs'][j]\n",
        "\n",
        "def decode_fn(record_bytes):\n",
        "    # Reads one element from the dataset (as bytes) and decodes it in a tf.data Dataset element.\n",
        "    example = tf.io.parse_single_example(\n",
        "      # Data\n",
        "      record_bytes,\n",
        "      # Schema\n",
        "      {\"question__input_ids\": tf.io.FixedLenFeature(shape=(MAX_SEQ_LEN,), dtype=tf.int64),\n",
        "       \"question__attention_mask\": tf.io.FixedLenFeature(shape=(MAX_SEQ_LEN,), dtype=tf.int64),\n",
        "       \"question__index\": tf.io.FixedLenFeature(shape=(), dtype=tf.int64),\n",
        "       \"answer__out_s\": tf.io.FixedLenFeature(shape=(MAX_SEQ_LEN,), dtype=tf.int64),\n",
        "       \"answer__out_e\": tf.io.FixedLenFeature(shape=(MAX_SEQ_LEN,), dtype=tf.int64),\n",
        "       \"paragraph__input_ids\": tf.io.FixedLenFeature(shape=(MAX_SEQ_LEN,), dtype=tf.int64),\n",
        "       \"paragraph__attention_mask\": tf.io.FixedLenFeature(shape=(MAX_SEQ_LEN,), dtype=tf.int64),\n",
        "       \"hard_paragraph__input_ids\": tf.io.FixedLenFeature(shape=(MAX_SEQ_LEN,), dtype=tf.int64),\n",
        "       \"hard_paragraph__attention_mask\": tf.io.FixedLenFeature(shape=(MAX_SEQ_LEN,), dtype=tf.int64),\n",
        "       \"paragraph__tokens_s\": tf.io.FixedLenFeature(shape=(MAX_SEQ_LEN,), dtype=tf.int64),\n",
        "       \"paragraph__tokens_e\": tf.io.FixedLenFeature(shape=(MAX_SEQ_LEN,), dtype=tf.int64),\n",
        "       \"context__index\": tf.io.FixedLenFeature(shape=(), dtype=tf.int64),\n",
        "       \"paragraph__index\": tf.io.FixedLenFeature(shape=(), dtype=tf.int64)})\n",
        "    return {\n",
        "      \"questions\": {'input_ids': example['question__input_ids'],\n",
        "                    'attention_mask': example['question__attention_mask'],\n",
        "                    'index': example['question__index']},\n",
        "      \"answers\":   {'out_s': example['answer__out_s'],\n",
        "                    'out_e': example['answer__out_e']},\n",
        "      \"paragraphs\":{'input_ids': example['paragraph__input_ids'],\n",
        "                    'attention_mask': example['paragraph__attention_mask'],\n",
        "                    'tokens_s': example['paragraph__tokens_s'],\n",
        "                    'tokens_e': example['paragraph__tokens_e']},\n",
        "      \"hard_paragraphs\": {'input_ids': example['hard_paragraph__input_ids'],\n",
        "                          'attention_mask': example['hard_paragraph__attention_mask']},\n",
        "      \"context_ids\": (example['context__index'], example['paragraph__index'])\n",
        "    }\n",
        "\n",
        "def create_dataset_from_records(questions, paragraphs, dataset, tokenizer, \n",
        "                                fn, vectorizer, docs_vect, batch_size=BATCH_SIZE):\n",
        "    # Prepare strings\n",
        "    filename = f'{fn}_{BERT_DIMENSIONALITY}.proto'\n",
        "    fn_type = filename.split(os.sep)[-1].replace('.proto','')\n",
        "    dst_name = fn_type + '.proto'\n",
        "    bucket_name = 'volpepe-nlp-project-squad-datasets'\n",
        "    gcs_filename = f'gs://{bucket_name}/{dst_name}'\n",
        "    print(f\"Loading {fn_type} dataset from GCS ({gcs_filename}).\")\n",
        "    # Return it as processed dataset\n",
        "    dataset = tf.data.TFRecordDataset([gcs_filename]).map(decode_fn)\n",
        "    dataset = dataset.apply(tf.data.experimental.assert_cardinality(len(questions)))\n",
        "    dataset = dataset.shuffle(5000, reshuffle_each_iteration=True)\n",
        "    dataset = dataset.batch(batch_size)\n",
        "    dataset = dataset.cache()\n",
        "    dataset = dataset.prefetch(tf.data.AUTOTUNE)\n",
        "    return dataset\n",
        "\n",
        "### CREATE DATASETS ###\n",
        "# Valid for both TPU and GPU\n",
        "dataset_train = create_dataset_from_records(train_questions, train_paragraphs, train_paragraphs_and_questions, \n",
        "                                            tokenizer_distilbert, os.path.join(datasets_dir, 'train'),\n",
        "                                            train_vectorizer, train_docs_vect)\n",
        "dataset_val   = create_dataset_from_records(val_questions, val_paragraphs, val_paragraphs_and_questions, \n",
        "                                            tokenizer_distilbert, os.path.join(datasets_dir, 'val'),\n",
        "                                            val_vectorizer, val_docs_vect)"
      ]
    },
    {
      "cell_type": "markdown",
      "metadata": {
        "id": "z56ok3rVccY2"
      },
      "source": [
        "# Model definition"
      ]
    },
    {
      "cell_type": "code",
      "execution_count": 11,
      "metadata": {
        "id": "DvxKmnorc0tD"
      },
      "outputs": [],
      "source": [
        "MAX_SEQ_LEN = 512\n",
        "BERT_DIMENSIONALITY = 768\n",
        "\n",
        "class ReducedDistilBertModel(keras.Model):\n",
        "    def __init__(self, distilbert_model):\n",
        "        super(ReducedDistilBertModel, self).__init__()\n",
        "        self.distilbert_model = distilbert_model\n",
        "        self.reduction_layer = keras.layers.Dense(BERT_DIMENSIONALITY, \n",
        "                                                  activation='gelu')\n",
        "\n",
        "    def call(self, inputs):\n",
        "        hidden_state = self.distilbert_model(inputs).last_hidden_state\n",
        "        # We introduce a dense layer that simply reduces the dimensionality of the model's output.\n",
        "        # It's not used if the output dimensionality is the same of the Bert model\n",
        "        return self.reduction_layer(hidden_state) if BERT_DIMENSIONALITY != 768 else hidden_state"
      ]
    },
    {
      "cell_type": "code",
      "execution_count": 12,
      "metadata": {
        "id": "PjPUMwKk1etG"
      },
      "outputs": [],
      "source": [
        "class DenseEncoder(layers.Layer):\n",
        "    def __init__(self, model_q, model_p):\n",
        "        super().__init__()\n",
        "        self.model_q = model_q  # Dense encoder for questions\n",
        "        self.model_p = model_p  # Dense encoder for paragraphs\n",
        "    \n",
        "    def call(self, inputs, training=False):\n",
        "        # Encode the questions in the batch\n",
        "        # Take the first token as representation of each question\n",
        "        q_repr = self.model_q({\n",
        "            'input_ids': inputs['questions']['input_ids'],\n",
        "            'attention_mask': inputs['questions']['attention_mask']\n",
        "        })[:,0,:]\n",
        "        # If we are training, we also return the representation of the paragraphs\n",
        "        # and of the hard paragraph\n",
        "        if training:\n",
        "            # Encode the batch of paragraphs\n",
        "            p_repr = self.model_p({\n",
        "                'input_ids': inputs['paragraphs']['input_ids'],\n",
        "                'attention_mask': inputs['paragraphs']['attention_mask']\n",
        "            })[:,0,:]\n",
        "            # We also encode the batch of hard paragraphs separately. \n",
        "            p_hard_repr = self.model_p({\n",
        "                'input_ids': inputs['hard_paragraphs']['input_ids'],\n",
        "                'attention_mask': inputs['hard_paragraphs']['attention_mask']\n",
        "            })[:,0,:]\n",
        "            return q_repr, p_repr, p_hard_repr\n",
        "        else:\n",
        "            return q_repr"
      ]
    },
    {
      "cell_type": "code",
      "execution_count": 13,
      "metadata": {
        "id": "nme0koNHE76t"
      },
      "outputs": [],
      "source": [
        "class DeepQPEncoder(keras.Model):\n",
        "\n",
        "    def __init__(self, model_q, model_p):\n",
        "        super().__init__()\n",
        "        self.enc = DenseEncoder(model_q, model_p)\n",
        "\n",
        "    def call(self, inputs, training=False):\n",
        "        if training:\n",
        "            # For training we return the similarity matrix\n",
        "            repr_q, repr_p, repr_hard_p = self.enc(inputs, training=training)\n",
        "            S = tf.tensordot(repr_q, tf.transpose(repr_p), axes=1)\n",
        "            # We append the hard scores\n",
        "            hard_scores = tf.gather(\n",
        "                # Get the elements on the diagonal of the 8x8 matrix of \n",
        "                # scores between questions and hard paragraphs\n",
        "                tf.tensordot(repr_q, tf.transpose(repr_hard_p), axes=1), \n",
        "                    tf.expand_dims(\n",
        "                        tf.range(tf.shape(inputs['questions']['input_ids'])[0]), \n",
        "                        axis=1), \n",
        "                    batch_dims=1\n",
        "            )\n",
        "            S = tf.concat([S, hard_scores], axis=1)\n",
        "            return S\n",
        "        else:\n",
        "            # In other cases, we return the representation of the question(s)\n",
        "            repr_q = self.enc(inputs, training=training)            \n",
        "            return repr_q\n",
        "\n",
        "    def train_step(self, data):\n",
        "        x = data\n",
        "        # y = [0, ..., batch_size-1]\n",
        "        y = tf.range(tf.shape(x['questions']['input_ids'])[0])\n",
        "        with tf.GradientTape() as tape:\n",
        "            # Obtain similarities\n",
        "            S = self(x, training=True)\n",
        "            # Obtain loss value\n",
        "            loss = self.compiled_loss(y, S)\n",
        "        # Construct gradients and apply them through the optimizer\n",
        "        gradients = tape.gradient(loss, self.trainable_variables)\n",
        "        self.optimizer.apply_gradients(zip(gradients, self.trainable_variables))\n",
        "        # Update and return metrics (specifically the one for the loss value).\n",
        "        self.compiled_metrics.update_state(y, S)\n",
        "        return {m.name: m.result() for m in self.metrics}\n",
        "\n",
        "    def test_step(self, data):\n",
        "        x = data\n",
        "        # y = [0, ..., batch_size-1]\n",
        "        y = tf.range(tf.shape(x['questions']['input_ids'])[0])\n",
        "        S = self(x, training=True) # We are not really training, but we have to obtain S\n",
        "        self.compiled_loss(y, S)\n",
        "        self.compiled_metrics.update_state(y, S)\n",
        "        return {m.name: m.result() for m in self.metrics}\n",
        "\n",
        "def create_model(sample, freeze_layers_up_to=5):\n",
        "    print(\"Creating BERT models...\")\n",
        "    model_q, model_p =  TFDistilBertModel.from_pretrained('distilbert-base-uncased'), \\\n",
        "                        TFDistilBertModel.from_pretrained('distilbert-base-uncased')\n",
        "\n",
        "    # Freeze layers \n",
        "    for i in range(freeze_layers_up_to): # layers 0 to variable are frozen, successive layers learn\n",
        "        model_q.distilbert.transformer.layer[i].trainable = False\n",
        "        model_p.distilbert.transformer.layer[i].trainable = False\n",
        "\n",
        "    model_q, model_p = ReducedDistilBertModel(model_q), ReducedDistilBertModel(model_p)\n",
        "\n",
        "    print(\"Creating Deep Encoder...\")\n",
        "    model = DeepQPEncoder(model_q, model_p)\n",
        "\n",
        "    print(\"Compiling...\")\n",
        "    # Compile the model and loss\n",
        "    model.compile(\n",
        "        optimizer=keras.optimizers.Adam(learning_rate=3e-6),\n",
        "        loss=keras.losses.SparseCategoricalCrossentropy(from_logits=True),\n",
        "        metrics=[keras.metrics.SparseCategoricalAccuracy()]\n",
        "    )\n",
        "\n",
        "    print(\"Testing on some data...\")\n",
        "    # Pass one batch of data to build the model\n",
        "    model(sample)\n",
        "\n",
        "    # Return the model\n",
        "    print(\"Model created!\")\n",
        "    return model"
      ]
    },
    {
      "cell_type": "markdown",
      "metadata": {
        "id": "vwgTCW0BcJ2N"
      },
      "source": [
        "# Model creation"
      ]
    },
    {
      "cell_type": "code",
      "execution_count": 14,
      "metadata": {
        "id": "_O5zDcaTEtxV"
      },
      "outputs": [
        {
          "name": "stdout",
          "output_type": "stream",
          "text": [
            "Creating BERT models...\n"
          ]
        },
        {
          "name": "stderr",
          "output_type": "stream",
          "text": [
            "Some layers from the model checkpoint at distilbert-base-uncased were not used when initializing TFDistilBertModel: ['activation_13', 'vocab_layer_norm', 'vocab_transform', 'vocab_projector']\n",
            "- This IS expected if you are initializing TFDistilBertModel from the checkpoint of a model trained on another task or with another architecture (e.g. initializing a BertForSequenceClassification model from a BertForPreTraining model).\n",
            "- This IS NOT expected if you are initializing TFDistilBertModel from the checkpoint of a model that you expect to be exactly identical (initializing a BertForSequenceClassification model from a BertForSequenceClassification model).\n",
            "All the layers of TFDistilBertModel were initialized from the model checkpoint at distilbert-base-uncased.\n",
            "If your task is similar to the task the model of the checkpoint was trained on, you can already use TFDistilBertModel for predictions without further training.\n",
            "Some layers from the model checkpoint at distilbert-base-uncased were not used when initializing TFDistilBertModel: ['activation_13', 'vocab_layer_norm', 'vocab_transform', 'vocab_projector']\n",
            "- This IS expected if you are initializing TFDistilBertModel from the checkpoint of a model trained on another task or with another architecture (e.g. initializing a BertForSequenceClassification model from a BertForPreTraining model).\n",
            "- This IS NOT expected if you are initializing TFDistilBertModel from the checkpoint of a model that you expect to be exactly identical (initializing a BertForSequenceClassification model from a BertForSequenceClassification model).\n",
            "All the layers of TFDistilBertModel were initialized from the model checkpoint at distilbert-base-uncased.\n",
            "If your task is similar to the task the model of the checkpoint was trained on, you can already use TFDistilBertModel for predictions without further training.\n"
          ]
        },
        {
          "name": "stdout",
          "output_type": "stream",
          "text": [
            "Creating Deep Encoder...\n",
            "Compiling...\n",
            "Testing on some data...\n",
            "Model created!\n"
          ]
        }
      ],
      "source": [
        "import datetime\n",
        "\n",
        "# GPUs and local systems don't need the above specifications. We simply\n",
        "# create a pattern for the filename and let the callbacks deal with it.\n",
        "model_name = f'dpr_{BERT_DIMENSIONALITY}_hard_2nd_training'\n",
        "checkpoint_path = os.path.join(checkpoint_dir, model_name + '_epoch_{epoch:03d}.ckpt')\n",
        "# Workaraound for saving locally when using cloud TPUs\n",
        "local_device_option = tf.train.CheckpointOptions(\n",
        "    experimental_io_device=\"/job:localhost\")\n",
        "\n",
        "if using_TPU:\n",
        "    # TPU requires to create the model within the scope of the distributed strategy\n",
        "    # we're using.\n",
        "    with strategy.scope():\n",
        "        model = create_model(sample=next(dataset_train.take(1).as_numpy_iterator()),\n",
        "                             freeze_layers_up_to=3)\n",
        "else:\n",
        "    # On TPU we cannot use tensorboard, but on GPU we can\n",
        "    log_dir = os.path.join(ROOT_PATH, \"data\", \"logs\", \n",
        "        f\"training_dpr_{BERT_DIMENSIONALITY}_hard\", datetime.datetime.now().strftime(\"%Y%m%d-%H%M%S\"))\n",
        "    \n",
        "    model = create_model(sample=next(dataset_train.take(1).as_numpy_iterator()),\n",
        "                             freeze_layers_up_to=3)"
      ]
    },
    {
      "cell_type": "code",
      "execution_count": 15,
      "metadata": {},
      "outputs": [],
      "source": [
        "DO_TRAINING = False\n",
        "\n",
        "if DO_TRAINING:\n",
        "    if not using_TPU:\n",
        "        # Tensorboard callback is not available on TPU\n",
        "        tensorboard_callback = tf.keras.callbacks.TensorBoard(\n",
        "            log_dir=log_dir,\n",
        "            histogram_freq=1\n",
        "        )\n",
        "    \n",
        "    # ModelCheckpoint callback is available both on TPU and GPU \n",
        "    # with the options parameter\n",
        "    cp_callback = tf.keras.callbacks.ModelCheckpoint(\n",
        "        filepath = checkpoint_path,\n",
        "        verbose = 1,\n",
        "        save_weights_only = True,\n",
        "        save_best_only = False,     # Save all epochs!\n",
        "        options=local_device_option\n",
        "    )\n",
        "\n",
        "    # Early stopping can be used by both hardware\n",
        "    es_callback = tf.keras.callbacks.EarlyStopping(\n",
        "        patience = 5,\n",
        "        restore_best_weights=True\n",
        "    )\n",
        "\n",
        "    callbacks = [es_callback, cp_callback]\n",
        "    if not using_TPU:\n",
        "        # These callback imply saving stuff on local disk, which cannot be \n",
        "        # done automatically using TPUs.\n",
        "        # Therefore, they are only active when using GPUs and local systems\n",
        "        callbacks.extend([tensorboard_callback])\n",
        "\n",
        "    # We fit the model\n",
        "    history = model.fit(\n",
        "        dataset_train, \n",
        "        y=None,\n",
        "        validation_data=dataset_val,\n",
        "        epochs=100, \n",
        "        callbacks=callbacks,\n",
        "        use_multiprocessing=True,\n",
        "        initial_epoch=0,\n",
        "        verbose=1 # Show progress bar\n",
        "    )"
      ]
    },
    {
      "cell_type": "markdown",
      "metadata": {
        "id": "YlQDm3l9cPah"
      },
      "source": [
        "The following is the log during training where we saved all epochs' weights as checkpoints."
      ]
    },
    {
      "cell_type": "markdown",
      "metadata": {
        "id": "wQnh2j_sbSts"
      },
      "source": [
        "Epoch 1/200\n",
        "\n",
        "loss: 1.2540 - sparse_categorical_accuracy: 0.5642 - val_loss: 0.8112 - val_sparse_categorical_accuracy: 0.5853\n",
        "\n",
        "---\n",
        "\n",
        "Epoch 2/200\n",
        "\n",
        "loss: 0.7349 - sparse_categorical_accuracy: 0.6197 - val_loss: 0.7368 - val_sparse_categorical_accuracy: 0.6097\n",
        "\n",
        "---\n",
        "\n",
        "Epoch 3/200\n",
        "\n",
        "\n",
        "loss: 0.6743 - sparse_categorical_accuracy: 0.6381 - val_loss: 0.7040 - val_sparse_categorical_accuracy: 0.6165\n",
        "\n",
        "---\n",
        "\n",
        "Epoch 4/200\n",
        "\n",
        "loss: 0.6348 - sparse_categorical_accuracy: 0.6517 - val_loss: 0.6831 - val_sparse_categorical_accuracy: 0.6294\n",
        "\n",
        "---\n",
        "\n",
        "Epoch 5/200\n",
        "\n",
        "loss: 0.6046 - sparse_categorical_accuracy: 0.6650 - val_loss: 0.6718 - val_sparse_categorical_accuracy: 0.6308\n",
        "\n",
        "---\n",
        "\n",
        "Epoch 6/200\n",
        "\n",
        "loss: 0.5780 - sparse_categorical_accuracy: 0.6766 - val_loss: 0.6602 - val_sparse_categorical_accuracy: 0.6362\n",
        "\n",
        "---\n",
        "\n",
        "Epoch 7/200\n",
        "\n",
        "loss: 0.5560 - sparse_categorical_accuracy: 0.6835 - val_loss: 0.6527 - val_sparse_categorical_accuracy: 0.6382\n",
        "\n",
        "---\n",
        "\n",
        "Epoch 8/200\n",
        "\n",
        "loss: 0.5393 - sparse_categorical_accuracy: 0.6892 - val_loss: 0.6486 - val_sparse_categorical_accuracy: 0.6395\n",
        "\n",
        "---\n",
        "\n",
        "Epoch 9/200\n",
        "\n",
        "loss: 0.5237 - sparse_categorical_accuracy: 0.6968 - val_loss: 0.6466 - val_sparse_categorical_accuracy: 0.6413\n",
        "\n",
        "---\n",
        "\n",
        "Epoch 10/200\n",
        "\n",
        "loss: 0.5102 - sparse_categorical_accuracy: 0.7059 - val_loss: 0.6432 - val_sparse_categorical_accuracy: 0.6427\n",
        "\n",
        "---\n",
        "\n",
        "Epoch 11/200\n",
        "\n",
        "loss: 0.4971 - sparse_categorical_accuracy: 0.7086 - val_loss: 0.6430 - val_sparse_categorical_accuracy: 0.6439"
      ]
    },
    {
      "cell_type": "markdown",
      "metadata": {
        "id": "5InDU76v93rS"
      },
      "source": [
        "# Evaluation"
      ]
    },
    {
      "cell_type": "markdown",
      "metadata": {},
      "source": [
        "We now need to load the model checkpoints and evaluate the accuracy on the test set."
      ]
    },
    {
      "cell_type": "code",
      "execution_count": 95,
      "metadata": {
        "id": "6v4h3Hiwf4e9"
      },
      "outputs": [],
      "source": [
        "representations_dir = os.path.join(datasets_dir, 'representations')\n",
        "\n",
        "test_paragraphs_encodings  = np.load(os.path.join(representations_dir, 'test_paragraphs_encodings.npy'))\n",
        "test_questions_encodings   = np.load(os.path.join(representations_dir, 'test_questions_encodings.npy'))\n",
        "\n",
        "output_path = \"/content/drive/MyDrive/Uni/Magistrale/NLP/Project/dpr_accuracies_per_epoch.json\" if IN_COLAB else \\\n",
        "    os.path.join(ROOT_PATH, \"data\", \"results\", \"dpr_results\", \"dpr_accuracies_per_epoch.json\")"
      ]
    },
    {
      "cell_type": "markdown",
      "metadata": {},
      "source": [
        "First, we pre-tokenize all test questions"
      ]
    },
    {
      "cell_type": "code",
      "execution_count": 17,
      "metadata": {
        "colab": {
          "base_uri": "https://localhost:8080/"
        },
        "id": "PX3LkWjkmJPz",
        "outputId": "50c9835d-b9cc-46b8-a4ec-5181fd249f72"
      },
      "outputs": [
        {
          "name": "stderr",
          "output_type": "stream",
          "text": [
            "100%|██████████| 10570/10570 [00:02<00:00, 3957.33it/s]\n"
          ]
        }
      ],
      "source": [
        "## Test questions pre-tokenization\n",
        "pre_tokenized_questions = [tokenizer_distilbert(q['qas']['question'], \n",
        "                                                max_length = MAX_SEQ_LEN, \n",
        "                                                return_tensors='tf', \n",
        "                                                truncation = True, \n",
        "                                                padding = 'max_length')\n",
        "                           for q in tqdm(test_questions)]"
      ]
    },
    {
      "cell_type": "markdown",
      "metadata": {},
      "source": [
        "Then we set up some functions for the analysis at all stages of the DPR"
      ]
    },
    {
      "cell_type": "code",
      "execution_count": 18,
      "metadata": {
        "id": "-Oehl7HofPBO"
      },
      "outputs": [],
      "source": [
        "tot_epochs = 11\n",
        "count_top_k_per_epoch = {epoch: {\n",
        "        k: 0 for k in [1] + list(range(5, 100, 5)) + [100]\n",
        "    } for epoch in range(1, tot_epochs+1)}\n",
        "count_total = len(test_questions)\n",
        "\n",
        "def top_n_for_question(tok_q, paragraphs_encodings, model, n=100):\n",
        "    sample_q_repr = model.enc.model_q(tok_q)[:,0,:].numpy()\n",
        "    scores = np.dot(sample_q_repr, paragraphs_encodings.T)\n",
        "    topn_indices = np.argsort(scores, axis=1)[0, -n:]\n",
        "    return topn_indices\n",
        "\n",
        "def get_paragraph_encoding_index(question, dataset):\n",
        "    art_id, par_id = question['context_id']\n",
        "    idx = sum([len(dataset[i]['paragraphs']) for i in range(art_id)]) + par_id\n",
        "    return idx\n",
        "\n",
        "def update_count_dict(epoch, gt_context_id, topn_indices):\n",
        "    for k in count_top_k_per_epoch[epoch].keys():\n",
        "        if gt_context_id in topn_indices[-k:]:\n",
        "            count_top_k_per_epoch[epoch][k] += 1\n",
        "\n",
        "def count_per_epoch(epoch):\n",
        "    model.load_weights(checkpoint_path.format(epoch=epoch))\n",
        "    for i,q in enumerate(tqdm(test_questions)):\n",
        "        gt_context_id = get_paragraph_encoding_index(q, test_paragraphs_and_questions)\n",
        "        topn_indices = top_n_for_question(pre_tokenized_questions[i], test_paragraphs_encodings, model, n=100)\n",
        "        update_count_dict(epoch, gt_context_id, topn_indices)\n",
        "\n",
        "def run_analysis():\n",
        "    # Compute counts\n",
        "    for epoch in range(1, tot_epochs+1):\n",
        "        print(f\"Computing accuracies for epoch {epoch}\")\n",
        "        count_per_epoch(epoch)\n",
        "    # From counts to accuracies\n",
        "    for epoch in range(1, tot_epochs+1):\n",
        "        for k in count_top_k_per_epoch[epoch].keys():\n",
        "            count_top_k_per_epoch[epoch][k] /= count_total\n",
        "    # Save the large dictionary\n",
        "    with open(output_path, 'w') as f:\n",
        "        json.dump(count_top_k_per_epoch, f)"
      ]
    },
    {
      "cell_type": "code",
      "execution_count": 19,
      "metadata": {
        "colab": {
          "base_uri": "https://localhost:8080/"
        },
        "id": "njdtKX1BnKMx",
        "outputId": "f31fe844-5513-4f50-83d4-3d1b58b1d6e6"
      },
      "outputs": [],
      "source": [
        "COMPUTE_ACCURACY_ANALYSIS = False\n",
        "\n",
        "if COMPUTE_ACCURACY_ANALYSIS:    \n",
        "    run_analysis()"
      ]
    },
    {
      "cell_type": "markdown",
      "metadata": {},
      "source": [
        "We can do a similar analysis on the TfIdf vectorizer fitted on the test set."
      ]
    },
    {
      "cell_type": "code",
      "execution_count": 54,
      "metadata": {},
      "outputs": [],
      "source": [
        "output_path_tfidf = \"/content/drive/MyDrive/Uni/Magistrale/NLP/Project/tfidf_accuracies.json\" if IN_COLAB else \\\n",
        "    os.path.join(ROOT_PATH, \"data\", \"results\", \"dpr_results\", \"tfidf_accuracies.json\")\n",
        "\n",
        "count_top_k_tfidf = {\n",
        "    k: 0 for k in [1] + list(range(5, 100, 5)) + [100]\n",
        "}\n",
        "\n",
        "def top_n_for_question_tfidf(vectorizer, query, docs, n=100):\n",
        "    q = query['qas']['question']\n",
        "    q = vectorizer.transform([q])\n",
        "    scores = np.asarray(np.dot(docs, q.T).todense()).flatten()\n",
        "    sorted_scores = np.argsort(scores) # Negated scores for descending order\n",
        "    return sorted_scores[-n:]\n",
        "\n",
        "def update_count_dict_tfidf(gt_context_id, topn_indices):\n",
        "    for k in count_top_k_tfidf.keys():\n",
        "        if gt_context_id in topn_indices[-k:]:\n",
        "            count_top_k_tfidf[k] += 1\n",
        "\n",
        "def run_analysis_tfidf():\n",
        "    for q in tqdm(test_questions):\n",
        "        topn_indices = top_n_for_question_tfidf(test_vectorizer, q, test_docs_vect)\n",
        "        gt_index = get_paragraph_encoding_index(q, test_paragraphs_and_questions)\n",
        "        update_count_dict_tfidf(gt_index, topn_indices)\n",
        "    for k in count_top_k_tfidf.keys():\n",
        "        count_top_k_tfidf[k] /= count_total\n",
        "    with open(output_path_tfidf, 'w') as f:\n",
        "        json.dump(count_top_k_tfidf, f)\n",
        "        "
      ]
    },
    {
      "cell_type": "code",
      "execution_count": 55,
      "metadata": {},
      "outputs": [
        {
          "name": "stderr",
          "output_type": "stream",
          "text": [
            "100%|██████████| 10570/10570 [00:12<00:00, 822.82it/s]\n"
          ]
        }
      ],
      "source": [
        "COMPUTE_ACCURACY_ANALYSIS = False\n",
        "\n",
        "if COMPUTE_ACCURACY_ANALYSIS:\n",
        "    run_analysis_tfidf()"
      ]
    },
    {
      "cell_type": "markdown",
      "metadata": {},
      "source": [
        "...and finally, we can run an analysis on the mixing methods"
      ]
    },
    {
      "cell_type": "code",
      "execution_count": 99,
      "metadata": {},
      "outputs": [],
      "source": [
        "from enum import Enum, auto\n",
        "\n",
        "output_path_mixing = \"/content/drive/MyDrive/Uni/Magistrale/NLP/Project/mixing_methods_accuracies.json\" if IN_COLAB else \\\n",
        "    os.path.join(ROOT_PATH, \"data\", \"results\", \"dpr_results\", \"mixing_methods_accuracies.json\")\n",
        "\n",
        "class MixingType(Enum):\n",
        "    SUM = auto()\n",
        "    MAX = auto()\n",
        "    WEIGHTED_SUM = auto()\n",
        "\n",
        "count_top_k_mixing = {\n",
        "    mixing_type.name: {\n",
        "        k: 0 for k in [1] + list(range(5, 100, 5)) + [100]\n",
        "    } for mixing_type in MixingType\n",
        "}\n",
        "\n",
        "def weighted_sum_func(dpr_scores, tf_idf_scores, op='normalize', w_dpr=0, w_tfidf=0):\n",
        "    '''\n",
        "    A general functions for handling all weighted-sum-based mixing operations between scores.\n",
        "    '''\n",
        "    if op == 'normalize':\n",
        "        dpr_scores = dpr_scores/np.max(dpr_scores)\n",
        "        tf_idf_scores = tf_idf_scores/np.max(tf_idf_scores)\n",
        "    elif op == 'standardize':\n",
        "        dpr_scores = (dpr_scores-np.mean(dpr_scores))/np.std(dpr_scores)\n",
        "        tf_idf_scores = (tf_idf_scores-np.mean(tf_idf_scores))/np.std(tf_idf_scores)\n",
        "    return np.argsort(dpr_scores*w_dpr + tf_idf_scores*w_tfidf)\n",
        "\n",
        "def max_func(dpr_scores, tf_idf_scores):\n",
        "    '''\n",
        "    A general functions for handling all max-based mixing operations between scores.\n",
        "    '''\n",
        "    dpr_scores = dpr_scores/np.max(dpr_scores)\n",
        "    tf_idf_scores = tf_idf_scores/np.max(tf_idf_scores)\n",
        "    return np.argsort([max(d, t) for d, t in zip(dpr_scores, tf_idf_scores)])\n",
        "\n",
        "def get_top_n_paragraph_for_question_using_mix_type(i, q, mix_type, h=0.15, n=100):    \n",
        "    # Compute DPR scores\n",
        "    sample_q_repr = test_questions_encodings[i]\n",
        "    dpr_scores = np.dot(sample_q_repr, test_paragraphs_encodings.T)\n",
        "    # Compute TfIdf score\n",
        "    question_text = q['qas']['question']\n",
        "    vect_question = test_vectorizer.transform([question_text])\n",
        "    tfidf_scores = np.asarray(np.dot(test_docs_vect, vect_question.T).todense()).flatten()\n",
        "    # Handle types\n",
        "    if mix_type is not MixingType.MAX:\n",
        "        op = 'normalize' if mix_type is not MixingType.WEIGHTED_SUM else 'standardize'\n",
        "        if mix_type is MixingType.SUM:\n",
        "            w_dpr, w_tfidf = 1, 1\n",
        "        elif mix_type is MixingType.WEIGHTED_SUM:\n",
        "            w_dpr, w_tfidf = 1-h, h\n",
        "        return weighted_sum_func(dpr_scores, tfidf_scores, op, w_dpr, w_tfidf)[-n:]\n",
        "    else:\n",
        "        return max_func(dpr_scores, tfidf_scores)[-n:]\n",
        "\n",
        "def update_count_dict_mixing(mixing_type, gt_context_id, topn_indices):\n",
        "    for k in count_top_k_mixing[mixing_type.name].keys():\n",
        "        if gt_context_id in topn_indices[-k:]:\n",
        "            count_top_k_mixing[mixing_type.name][k] += 1\n",
        "\n",
        "def run_analysis_mixing():\n",
        "    for mix_type in MixingType:\n",
        "        for i, q in enumerate(tqdm(test_questions)):\n",
        "            topn_indices = get_top_n_paragraph_for_question_using_mix_type(i, q, mix_type)\n",
        "            gt_index = get_paragraph_encoding_index(q, test_paragraphs_and_questions)\n",
        "            update_count_dict_mixing(mix_type, gt_index, topn_indices)\n",
        "        for k in count_top_k_mixing[mix_type.name].keys():\n",
        "            count_top_k_mixing[mix_type.name][k] /= count_total\n",
        "    with open(output_path_mixing, 'w') as f:\n",
        "        json.dump(count_top_k_mixing, f)"
      ]
    },
    {
      "cell_type": "code",
      "execution_count": 101,
      "metadata": {},
      "outputs": [
        {
          "name": "stderr",
          "output_type": "stream",
          "text": [
            "100%|██████████| 10570/10570 [00:18<00:00, 585.53it/s]\n",
            "100%|██████████| 10570/10570 [00:30<00:00, 351.09it/s]\n",
            "100%|██████████| 10570/10570 [00:19<00:00, 554.48it/s]\n"
          ]
        }
      ],
      "source": [
        "COMPUTE_ACCURACY_ANALYSIS = False\n",
        "\n",
        "if COMPUTE_ACCURACY_ANALYSIS:\n",
        "    run_analysis_mixing()"
      ]
    },
    {
      "cell_type": "markdown",
      "metadata": {},
      "source": [
        "# Graphical representation"
      ]
    },
    {
      "cell_type": "code",
      "execution_count": 105,
      "metadata": {},
      "outputs": [],
      "source": [
        "# Reload the saved dictionary\n",
        "with open(output_path, 'r') as f:\n",
        "    count_top_k_per_epoch = json.load(f)\n",
        "with open(output_path_tfidf, 'r') as f:\n",
        "    count_top_k_tfidf = json.load(f)\n",
        "with open(output_path_mixing, 'r') as f:\n",
        "    count_top_k_mixing = json.load(f)\n",
        "\n",
        "# Fix json string conversion and reduce number of elements\n",
        "count_top_k_per_epoch = {\n",
        "    int(epoch): {\n",
        "        int(k): float(count_top_k_per_epoch[epoch][k])\n",
        "        for k in count_top_k_per_epoch[f'{epoch}'].keys()\n",
        "        if (int(k) % 10 == 0 or int(k) == 1)\n",
        "    } for epoch in count_top_k_per_epoch.keys()\n",
        "}\n",
        "\n",
        "count_top_k_tfidf = {\n",
        "    int(k): float(count_top_k_tfidf[k])\n",
        "    for k in count_top_k_tfidf.keys()\n",
        "    if (int(k) % 10 == 0 or int(k) == 1)\n",
        "}\n",
        "\n",
        "count_top_k_mixing = {\n",
        "    mix_type.name: {\n",
        "        int(k): float(count_top_k_mixing[mix_type.name][k])\n",
        "        for k in count_top_k_mixing[mix_type.name].keys()\n",
        "        if (int(k) % 10 == 0 or int(k) == 1)\n",
        "    } for mix_type in MixingType\n",
        "}"
      ]
    },
    {
      "cell_type": "code",
      "execution_count": 123,
      "metadata": {},
      "outputs": [
        {
          "data": {
            "text/plain": [
              "<matplotlib.legend.Legend at 0x272e8b78100>"
            ]
          },
          "execution_count": 123,
          "metadata": {},
          "output_type": "execute_result"
        },
        {
          "data": {
            "image/png": "[encoded data removed]",
            "text/plain": [
              "<Figure size 1400x500 with 2 Axes>"
            ]
          },
          "metadata": {},
          "output_type": "display_data"
        }
      ],
      "source": [
        "import matplotlib.pyplot as plt\n",
        "\n",
        "fig, (ax1, ax2) = plt.subplots(1, 2, figsize=(14,5))\n",
        "ax1.set_xlabel(\"k: # of retrieved passages\")\n",
        "ax1.set_ylabel(\"Top-k accuracies (%)\")\n",
        "ax1.set_title(\"Top-k accuracies of different methods over k\")\n",
        "ax2.set_title(\"Top-k accuracies of different methods over k (detail)\")\n",
        "ax2.set_xlabel(\"k: # of retrieved passages\")\n",
        "ax2.set_ylabel(\"Top-k accuracies (%)\")\n",
        "for epoch in [1, 3, 6, 11]:\n",
        "    ax1.plot([int(x) for x in count_top_k_per_epoch[epoch].keys()], \n",
        "             [float(x)*100 for x in count_top_k_per_epoch[epoch].values()],\n",
        "            '-x', label=f\"DPR, epoch {epoch}\")\n",
        "    ax2.plot([int(x) for x in count_top_k_per_epoch[epoch].keys()][4:],\n",
        "             [float(x)*100 for x in count_top_k_per_epoch[epoch].values()][4:],\n",
        "            '-x', label=f\"DPR, epoch {epoch}\")\n",
        "ax1.plot([int(x) for x in count_top_k_tfidf.keys()],\n",
        "         [float(x)*100 for x in count_top_k_tfidf.values()],\n",
        "         '-x', label=f\"TfIdf\")\n",
        "ax2.plot([int(x) for x in count_top_k_tfidf.keys()][4:],\n",
        "         [float(x)*100 for x in count_top_k_tfidf.values()][4:],\n",
        "         '-x', label=f\"TfIdf\")\n",
        "for mix_type in MixingType:\n",
        "    ax1.plot([int(x) for x in count_top_k_mixing[mix_type.name].keys()],\n",
        "             [float(x)*100 for x in count_top_k_mixing[mix_type.name].values()],\n",
        "             '-x', label=f\"{mix_type.name.lower()} mixing\")\n",
        "    ax2.plot([int(x) for x in count_top_k_mixing[mix_type.name].keys()][4:],\n",
        "             [float(x)*100 for x in count_top_k_mixing[mix_type.name].values()][4:],\n",
        "             '-x', label=f\"{mix_type.name.lower()} mixing\")\n",
        "ax1.hlines(100, 0, 100, linestyles='dashed', color='k')\n",
        "ax2.hlines(100, 40, 100, linestyles='dashed', color='k')\n",
        "ax1.legend()\n",
        "ax2.legend()"
      ]
    }
  ],
  "metadata": {
    "accelerator": "GPU",
    "colab": {
      "collapsed_sections": [],
      "provenance": []
    },
    "gpuClass": "standard",
    "kernelspec": {
      "display_name": "Python 3.10.4",
      "language": "python",
      "name": "python3"
    },
    "language_info": {
      "codemirror_mode": {
        "name": "ipython",
        "version": 3
      },
      "file_extension": ".py",
      "mimetype": "text/x-python",
      "name": "python",
      "nbconvert_exporter": "python",
      "pygments_lexer": "ipython3",
      "version": "3.10.4"
    },
    "vscode": {
      "interpreter": {
        "hash": "3f1aedb1eb2c65e580c7e6628d6a6f161dbf7d87a60144a28bd6d91db1c87885"
      }
    }
  },
  "nbformat": 4,
  "nbformat_minor": 0
}
