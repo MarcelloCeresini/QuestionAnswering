{
 "cells": [
  {
   "cell_type": "markdown",
   "id": "306aebd1",
   "metadata": {},
   "source": [
    "# Setup"
   ]
  },
  {
   "cell_type": "code",
   "execution_count": null,
   "id": "bfd9c2d0",
   "metadata": {},
   "outputs": [],
   "source": [
    "username = 'MarcelloCeresini'\n",
    "repository = 'QuestionAnswering'\n",
    "\n",
    "# COLAB ONLY CELLS\n",
    "try:\n",
    "    import google.colab\n",
    "    IN_COLAB = True\n",
    "    !pip3 install transformers\n",
    "    !git clone https://www.github.com/{username}/{repository}.git\n",
    "    #from google.colab import drive\n",
    "    #drive.mount('/content/drive/')\n",
    "    %cd /content/QuestionAnswering/src\n",
    "    using_TPU = True    # If we are running this notebook on Colab, use a TPU\n",
    "    # Google cloud credentials\n",
    "    %env GOOGLE_APPLICATION_CREDENTIALS=/content/drive/MyDrive/Uni/Magistrale/NLP/Project/nlp-project-338723-0510aa0a4912.json\n",
    "except:\n",
    "    IN_COLAB = False\n",
    "    using_TPU = False   # If you're not on Colab you probably won't have access to a TPU"
   ]
  },
  {
   "cell_type": "markdown",
   "id": "57f7d275",
   "metadata": {},
   "source": [
    "# Imports"
   ]
  },
  {
   "cell_type": "code",
   "execution_count": 1,
   "id": "8a7d966e-5887-4494-9935-39f9df89bea3",
   "metadata": {},
   "outputs": [],
   "source": [
    "import faiss\n",
    "import numpy as np\n",
    "import os"
   ]
  },
  {
   "cell_type": "code",
   "execution_count": null,
   "id": "8e2b4cc0",
   "metadata": {},
   "outputs": [],
   "source": [
    "if IN_COLAB:\n",
    "    from google.colab import drive\n",
    "    drive.mount('/content/drive/')\n",
    "    datasets_dir = '/content/drive/MyDrive/Uni/Magistrale/NLP/Project/datasets/dpr/'\n",
    "else:\n",
    "    # Create the folder where we'll save the weights of the model\n",
    "    datasets_dir = os.path.join(\"data\", \"training_dpr\", \"dataset\")\n",
    "\n",
    "representations_dir = os.path.join(datasets_dir, 'representations')\n",
    "\n",
    "os.makedirs(datasets_dir, exist_ok=True)\n",
    "os.makedirs(representations_dir, exist_ok=True)"
   ]
  },
  {
   "cell_type": "markdown",
   "id": "14ebdc97",
   "metadata": {},
   "source": [
    "# Indices creation"
   ]
  },
  {
   "cell_type": "markdown",
   "id": "73704b89-1e1d-4847-a0ce-b3aaca841768",
   "metadata": {},
   "source": [
    "Open matrices using memmap."
   ]
  },
  {
   "cell_type": "code",
   "execution_count": 17,
   "id": "bbd81781-8d1c-4509-9ea2-b7606601df07",
   "metadata": {},
   "outputs": [
    {
     "data": {
      "text/plain": [
       "((13975, 768), (4921, 768), (2067, 768))"
      ]
     },
     "execution_count": 17,
     "metadata": {},
     "output_type": "execute_result"
    }
   ],
   "source": [
    "train_matrix = np.memmap(os.path.join(representations_dir, 'train_paragraphs_encodings.npy'), \n",
    "                         mode='r', dtype=np.float32, shape=(13975,512,768))[:,0,:]\n",
    "\n",
    "val_matrix = np.memmap(os.path.join(representations_dir, 'val_paragraphs_encodings.npy'), \n",
    "                        mode='r', dtype=np.float32, shape=(4921,512,768))[:,0,:]\n",
    "\n",
    "test_matrix = np.memmap(os.path.join(representations_dir, 'test_paragraphs_encodings.npy'), \n",
    "                        mode='r', dtype=np.float32, shape=(2067,512,768))[:,0,:]\n",
    "\n",
    "train_matrix.shape, val_matrix.shape, test_matrix.shape"
   ]
  },
  {
   "cell_type": "markdown",
   "id": "497c6233",
   "metadata": {},
   "source": [
    "## Test"
   ]
  },
  {
   "cell_type": "markdown",
   "id": "30edd00c-d3ae-420b-8ba1-9007a15e48a2",
   "metadata": {},
   "source": [
    "Create test indices"
   ]
  },
  {
   "cell_type": "code",
   "execution_count": 18,
   "id": "81229b43-e0ba-4394-b1cb-9d1356429e6f",
   "metadata": {},
   "outputs": [],
   "source": [
    "index_test = faiss.IndexHNSWFlat(768,512)\n",
    "index_test.add(np.ascontiguousarray(test_matrix))\n",
    "faiss.write_index(index_test, 'test_index')\n",
    "del index_test, test_matrix"
   ]
  },
  {
   "cell_type": "markdown",
   "id": "6bb95d7f",
   "metadata": {},
   "source": [
    "## Val"
   ]
  },
  {
   "cell_type": "markdown",
   "id": "9a17798a-5dd6-42ed-a698-4997d33b0f32",
   "metadata": {},
   "source": [
    "Create validation indices"
   ]
  },
  {
   "cell_type": "code",
   "execution_count": 3,
   "id": "e3d54118-a568-4c3c-acbd-7f2aed9c3129",
   "metadata": {},
   "outputs": [],
   "source": [
    "index_val = faiss.IndexHNSWFlat(768,512)\n",
    "index_val.add(np.ascontiguousarray(val_matrix))\n",
    "faiss.write_index(index_val, 'val_index')\n",
    "del index_val, val_matrix"
   ]
  },
  {
   "cell_type": "markdown",
   "id": "cff7d64d",
   "metadata": {},
   "source": [
    "## Train (heaviest index)"
   ]
  },
  {
   "cell_type": "markdown",
   "id": "3e848268-a505-445b-b3f8-b83d4775f068",
   "metadata": {},
   "source": [
    "Create training indices"
   ]
  },
  {
   "cell_type": "code",
   "execution_count": 8,
   "id": "a630dc67-6c68-455e-b98c-db9edfce8efd",
   "metadata": {},
   "outputs": [],
   "source": [
    "index_train = faiss.IndexHNSWFlat(768,512)\n",
    "index_train.add(np.ascontiguousarray(train_matrix))\n",
    "faiss.write_index(index_train, 'train_index')\n",
    "del index_train, train_matrix "
   ]
  }
 ],
 "metadata": {
  "kernelspec": {
   "display_name": "Python 3.8.3",
   "language": "python",
   "name": "python3"
  },
  "language_info": {
   "codemirror_mode": {
    "name": "ipython",
    "version": 3
   },
   "file_extension": ".py",
   "mimetype": "text/x-python",
   "name": "python",
   "nbconvert_exporter": "python",
   "pygments_lexer": "ipython3",
   "version": "3.8.3"
  },
  "vscode": {
   "interpreter": {
    "hash": "ca1a1abd3ff9cb32af0176d581a4ab5d7cbea43290c5886e9b5f62da10e2c92e"
   }
  }
 },
 "nbformat": 4,
 "nbformat_minor": 5
}
