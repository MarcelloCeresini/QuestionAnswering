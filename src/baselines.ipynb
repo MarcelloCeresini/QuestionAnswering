{
  "cells": [
    {
      "cell_type": "code",
      "execution_count": 1,
      "metadata": {
        "colab": {
          "base_uri": "https://localhost:8080/"
        },
        "id": "aokK8JVRVCZq",
        "outputId": "9bbd2fac-4865-4506-85ae-895926b78655"
      },
      "outputs": [],
      "source": [
        "try:\n",
        "    import google.colab\n",
        "    !pip install benepar\n",
        "    !nvidia-smi\n",
        "    !mkdir data\n",
        "    !wget --no-check-certificate 'https://docs.google.com/uc?export=download&id=19jcMX4KFwVAp4yvgvw1GXSnSgpoQytqg' -O data/training_set.json\n",
        "except:\n",
        "    pass"
      ]
    },
    {
      "cell_type": "markdown",
      "metadata": {
        "id": "-r7EbGcpU_gT"
      },
      "source": [
        "# Baselines"
      ]
    },
    {
      "cell_type": "markdown",
      "metadata": {
        "id": "1DAc6XGZU_gZ"
      },
      "source": [
        "In this notebook we explore some baselines for the problem of question answering. "
      ]
    },
    {
      "cell_type": "code",
      "execution_count": null,
      "metadata": {
        "colab": {
          "base_uri": "https://localhost:8080/"
        },
        "id": "M084ZCuyU_ga",
        "outputId": "12af8c4e-af60-449c-d8b3-c9a9e16e5ad1"
      },
      "outputs": [],
      "source": [
        "import os\n",
        "import numpy as np\n",
        "import pandas as pd\n",
        "import math\n",
        "import spacy\n",
        "import benepar\n",
        "import json\n",
        "from tqdm import tqdm\n",
        "\n",
        "import utils\n",
        "\n",
        "# Download spacy corpora of text in case it's needed\n",
        "!python -m spacy download en_core_web_sm\n",
        "# Download the benepar neural constituency parser\n",
        "benepar.download('benepar_en3')"
      ]
    },
    {
      "cell_type": "markdown",
      "metadata": {
        "id": "hz0raoxpU_gd"
      },
      "source": [
        "Load the training dataset and create a DataFrame containing:\n",
        "- The paragraph's text\n",
        "- The question's text\n",
        "- The questions's ID"
      ]
    },
    {
      "cell_type": "code",
      "execution_count": 2,
      "metadata": {
        "id": "cFLPG6UIU_ge"
      },
      "outputs": [],
      "source": [
        "dataset = utils.read_question_set(os.path.join('..', 'data','training_set.json'))\n",
        "\n",
        "# Create a more useful data structure using list comprehensions\n",
        "questions = pd.DataFrame([{\n",
        "        'context': paragraph['context'],\n",
        "        'question': qa['question'],\n",
        "        'questionID': qa['id'],\n",
        "    }   for article in dataset['data']\n",
        "        for paragraph in article['paragraphs']\n",
        "        for qa in paragraph['qas'] ])"
      ]
    },
    {
      "cell_type": "code",
      "execution_count": 3,
      "metadata": {
        "id": "3BfXHN2fU_gf"
      },
      "outputs": [
        {
          "name": "stdout",
          "output_type": "stream",
          "text": [
            "87599\n"
          ]
        },
        {
          "data": {
            "text/html": [
              "<div>\n",
              "<style scoped>\n",
              "    .dataframe tbody tr th:only-of-type {\n",
              "        vertical-align: middle;\n",
              "    }\n",
              "\n",
              "    .dataframe tbody tr th {\n",
              "        vertical-align: top;\n",
              "    }\n",
              "\n",
              "    .dataframe thead th {\n",
              "        text-align: right;\n",
              "    }\n",
              "</style>\n",
              "<table border=\"1\" class=\"dataframe\">\n",
              "  <thead>\n",
              "    <tr style=\"text-align: right;\">\n",
              "      <th></th>\n",
              "      <th>context</th>\n",
              "      <th>question</th>\n",
              "      <th>questionID</th>\n",
              "    </tr>\n",
              "  </thead>\n",
              "  <tbody>\n",
              "    <tr>\n",
              "      <th>0</th>\n",
              "      <td>Architecturally, the school has a Catholic cha...</td>\n",
              "      <td>To whom did the Virgin Mary allegedly appear i...</td>\n",
              "      <td>5733be284776f41900661182</td>\n",
              "    </tr>\n",
              "    <tr>\n",
              "      <th>1</th>\n",
              "      <td>Architecturally, the school has a Catholic cha...</td>\n",
              "      <td>What is in front of the Notre Dame Main Building?</td>\n",
              "      <td>5733be284776f4190066117f</td>\n",
              "    </tr>\n",
              "    <tr>\n",
              "      <th>2</th>\n",
              "      <td>Architecturally, the school has a Catholic cha...</td>\n",
              "      <td>The Basilica of the Sacred heart at Notre Dame...</td>\n",
              "      <td>5733be284776f41900661180</td>\n",
              "    </tr>\n",
              "    <tr>\n",
              "      <th>3</th>\n",
              "      <td>Architecturally, the school has a Catholic cha...</td>\n",
              "      <td>What is the Grotto at Notre Dame?</td>\n",
              "      <td>5733be284776f41900661181</td>\n",
              "    </tr>\n",
              "    <tr>\n",
              "      <th>4</th>\n",
              "      <td>Architecturally, the school has a Catholic cha...</td>\n",
              "      <td>What sits on top of the Main Building at Notre...</td>\n",
              "      <td>5733be284776f4190066117e</td>\n",
              "    </tr>\n",
              "  </tbody>\n",
              "</table>\n",
              "</div>"
            ],
            "text/plain": [
              "                                             context  \\\n",
              "0  Architecturally, the school has a Catholic cha...   \n",
              "1  Architecturally, the school has a Catholic cha...   \n",
              "2  Architecturally, the school has a Catholic cha...   \n",
              "3  Architecturally, the school has a Catholic cha...   \n",
              "4  Architecturally, the school has a Catholic cha...   \n",
              "\n",
              "                                            question                questionID  \n",
              "0  To whom did the Virgin Mary allegedly appear i...  5733be284776f41900661182  \n",
              "1  What is in front of the Notre Dame Main Building?  5733be284776f4190066117f  \n",
              "2  The Basilica of the Sacred heart at Notre Dame...  5733be284776f41900661180  \n",
              "3                  What is the Grotto at Notre Dame?  5733be284776f41900661181  \n",
              "4  What sits on top of the Main Building at Notre...  5733be284776f4190066117e  "
            ]
          },
          "metadata": {},
          "output_type": "display_data"
        }
      ],
      "source": [
        "print(len(questions))\n",
        "display(questions.head(5))"
      ]
    },
    {
      "cell_type": "markdown",
      "metadata": {
        "id": "qAcp--h_sAdT"
      },
      "source": [
        "Create a function that given a prediction generator produces the spans of text in the context containing the answer."
      ]
    },
    {
      "cell_type": "code",
      "execution_count": 4,
      "metadata": {
        "id": "1FygrubesG3h"
      },
      "outputs": [],
      "source": [
        "def get_predictions(prediction_generator, limit=None):\n",
        "    predictions = {}\n",
        "    limit = range(limit) if limit is not None else range(len(questions))\n",
        "    # Instantiate prediction generator\n",
        "    predictor_iterator = prediction_generator()\n",
        "    for q in tqdm(limit):\n",
        "        # Obtain start and end probabilities from the baseline function\n",
        "        pstartv, pendv = next(predictor_iterator)\n",
        "        # Obtain the indices of the best answer\n",
        "        start, end = utils.start_end_token_from_probabilities(\n",
        "            pstartv, pendv, dim=pstartv.shape[1]\n",
        "        )[0]\n",
        "        # Add the ID-answer pair in the predictions dictionary\n",
        "        id = questions['questionID'].iloc[q]\n",
        "        text = questions['context'].iloc[q]\n",
        "        predictions[id] = text[start:end]\n",
        "    \n",
        "    return predictions"
      ]
    },
    {
      "cell_type": "markdown",
      "metadata": {
        "id": "tZr1s1_SU_gj"
      },
      "source": [
        "## 1. Random prediction baseline"
      ]
    },
    {
      "cell_type": "markdown",
      "metadata": {
        "id": "pHSYKH1NU_gk"
      },
      "source": [
        "We implement a predictor that returns random start and end probabilities. Then, we use the function `start_end_token_from_probabilities` to obtain the max-scoring randomly generated span of text. "
      ]
    },
    {
      "cell_type": "code",
      "execution_count": 5,
      "metadata": {
        "id": "M64GMTMIU_gl"
      },
      "outputs": [],
      "source": [
        "def random_baseline_predict():\n",
        "    '''\n",
        "    Creates random prediction vectors.\n",
        "    '''\n",
        "    for context in questions['context']:\n",
        "        pstartv = np.random.random((1, len(context)))\n",
        "        pendv = np.random.random((1, len(context)))\n",
        "        yield pstartv, pendv"
      ]
    },
    {
      "cell_type": "code",
      "execution_count": null,
      "metadata": {
        "id": "MkAfNtD_U_gl"
      },
      "outputs": [],
      "source": [
        "with open(os.path.join('random_predictions.txt'), 'w') as f:\n",
        "    json.dump(get_predictions(random_baseline_predict), f)"
      ]
    },
    {
      "cell_type": "markdown",
      "metadata": {
        "id": "zlCC0WnSU_gm"
      },
      "source": [
        "## 2. Sliding window baseline"
      ]
    },
    {
      "cell_type": "markdown",
      "metadata": {
        "id": "BhVgQIrLU_gm"
      },
      "source": [
        "The sliding window baseline is implemented in the same way it was presented in the\n",
        "SQuAD v1 paper and in the [MCTest paper](https://aclanthology.org/D13-1020.pdf) by Richardson et al.\n",
        "which originally proposed it.\n",
        "\n",
        "Apart from the paragraph and the question, the implementation also needs a set of candidate answers.\n",
        "SQuAD's paper proposes to \"*only use spans which are constituents in the constituency parse generated by\n",
        "Stanford CoreNLP*\". In our case, we use a neural parser: **Berkeley Neural Parser**, which is the option\n",
        "proposed by the `spacy` library, which we are already using as a named entity extractor in the original model."
      ]
    },
    {
      "cell_type": "code",
      "execution_count": 9,
      "metadata": {
        "id": "SWPSzWTjU_gn"
      },
      "outputs": [],
      "source": [
        "# Initialize spacy's pipeline which we'll use for analysis\n",
        "spacy_pipeline = spacy.load(\"en_core_web_sm\")\n",
        "# Disable all elements but the tokenizer\n",
        "spacy_pipeline.disable_pipes(\"tok2vec\", \"tagger\", \"parser\", \"attribute_ruler\", \"lemmatizer\", \"ner\")\n",
        "# Add the \"sentencizer\" component and the neural parser\n",
        "spacy_pipeline.add_pipe('sentencizer')\n",
        "if spacy.__version__.startswith('2'):\n",
        "    spacy_pipeline.add_pipe(benepar.BeneparComponent(\"benepar_en3\"),\n",
        "        disable_tagger=True)\n",
        "else:\n",
        "    spacy_pipeline.add_pipe(\"benepar\", config={\"model\": \"benepar_en3\",\n",
        "        \"disable_tagger\": \"true\"})\n",
        "# Create two generators which will yield the processed contexts and questions\n",
        "preprocessed_contexts = spacy_pipeline.pipe(questions['context'])\n",
        "preprocessed_questions = spacy_pipeline.pipe(questions['question'])\n",
        "\n",
        "def C(w, P):\n",
        "    # Sum of all words in the sentence where the word is equal to w\n",
        "    return sum([1 for p in P if w == p])\n",
        "\n",
        "def IC(w, P):\n",
        "    # A scoring function based on inverse word frequency\n",
        "    return math.log(1 + (1/C(w, P)))\n",
        "\n",
        "def sliding_window_baseline_predict():\n",
        "    # Extract all processed questions and contexts from the generators (more efficient)\n",
        "    for i, (question, context) in enumerate(zip(preprocessed_questions, preprocessed_contexts)):\n",
        "\n",
        "        # Step 1: Create a set of words present in the question (always ignore punctuation)\n",
        "        Q = set([token for token in question if not token.is_punct])\n",
        "        # Obtain a list of tokens in the paragraph\n",
        "        P = [str(token) for token in context if not token.is_punct]\n",
        "\n",
        "        # Step 2: From the processed text we can obtain the list of constituents,\n",
        "        # which will be the proposed answers to each question.\n",
        "        proposed_answers = [ {\n",
        "                'answer': answer,\n",
        "                'start': answer.start_char,\n",
        "                'end': answer.end_char,\n",
        "                'token_set': set(tok for tok in answer if not tok.is_punct)\n",
        "            }\n",
        "            for sentence in list(context.sents)         # Iterate over sentences\n",
        "            for answer in list(sentence._.children) # Iterate over constitents\n",
        "            if not len(set(tok for tok in answer if not tok.is_punct)) == 0     # Ignore span if it only contains punctuation\n",
        "        ]\n",
        "\n",
        "        # Step 3: Now that we have the question's text, the proposed answers and the context,\n",
        "        # we can apply the sliding window algorithm, which computes a score based on the n-gram\n",
        "        # overlap between the question's words and the proposed spans of text.\n",
        "        # Create a LUT of word scores for efficiency \n",
        "        adder = {\n",
        "            p: IC(p, P)\n",
        "            for p in P\n",
        "        }\n",
        "        scores = []\n",
        "        for i in range(len(proposed_answers)):     # Iterate over all possible answers\n",
        "            S = set([str(s) for s in proposed_answers[i]['token_set'].union(Q)])  # Unite the question and the answer words\n",
        "            sw = max([                # Select the maximum score from the...\n",
        "                    sum([             # ...sum over the scores iterating over words,\n",
        "                    adder[P[j+w]]    # Obtain pre-computed score for word P[j,w]\n",
        "                    if P[j+w] in S else 0   # If the word is in S\n",
        "                    for w in range(len(S))  # For each index w in S\n",
        "                    if j+w < len(P)])       # Unless we go out of bounds\n",
        "                for j in range(len(P)) ])  # Obtain a full list for all words in the passage\n",
        "            scores.append(sw)\n",
        "\n",
        "        # Create the pstartv and pendv vectors \n",
        "        pstartv = np.zeros((1, len(context.text)))\n",
        "        pendv = np.zeros((1, len(context.text)))\n",
        "        best_scoring_answer = proposed_answers[np.argmax(scores)]\n",
        "        pstartv[0, best_scoring_answer['start']] = 1\n",
        "        pendv[0, best_scoring_answer['end']] = 1\n",
        "\n",
        "        yield pstartv, pendv"
      ]
    },
    {
      "cell_type": "code",
      "execution_count": 10,
      "metadata": {},
      "outputs": [
        {
          "data": {
            "text/plain": [
              "['sentencizer', 'benepar']"
            ]
          },
          "execution_count": 10,
          "metadata": {},
          "output_type": "execute_result"
        }
      ],
      "source": [
        "spacy_pipeline.pipe_names"
      ]
    },
    {
      "cell_type": "code",
      "execution_count": null,
      "metadata": {
        "id": "folWKUq9U_gp"
      },
      "outputs": [],
      "source": [
        "with open(os.path.join('eval', 'sliding_predictions.txt'), 'w') as f:\n",
        "    json.dump(get_predictions(sliding_window_baseline_predict), f)"
      ]
    }
  ],
  "metadata": {
    "accelerator": "GPU",
    "colab": {
      "name": "baselines.ipynb",
      "provenance": []
    },
    "interpreter": {
      "hash": "c90f87e5ee49fb7af5481158977e62ba01ae4f54defb58032c9ba197b530ea3c"
    },
    "kernelspec": {
      "display_name": "Python 3.8.12 64-bit ('NLP': conda)",
      "language": "python",
      "name": "python3"
    },
    "language_info": {
      "codemirror_mode": {
        "name": "ipython",
        "version": 3
      },
      "file_extension": ".py",
      "mimetype": "text/x-python",
      "name": "python",
      "nbconvert_exporter": "python",
      "pygments_lexer": "ipython3",
      "version": "3.8.12"
    },
    "orig_nbformat": 4
  },
  "nbformat": 4,
  "nbformat_minor": 0
}
