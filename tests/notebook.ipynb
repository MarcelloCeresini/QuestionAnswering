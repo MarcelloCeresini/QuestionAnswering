{
 "cells": [
  {
   "cell_type": "code",
   "execution_count": 2,
   "metadata": {},
   "outputs": [
    {
     "name": "stderr",
     "output_type": "stream",
     "text": [
      "\u001b[34m\u001b[1mwandb\u001b[0m: \u001b[33mWARNING\u001b[0m Calling wandb.login() after wandb.init() has no effect.\n"
     ]
    },
    {
     "data": {
      "text/plain": [
       "True"
      ]
     },
     "execution_count": 2,
     "metadata": {},
     "output_type": "execute_result"
    }
   ],
   "source": [
    "import wandb\n",
    "wandb.login()"
   ]
  },
  {
   "cell_type": "code",
   "execution_count": null,
   "metadata": {},
   "outputs": [],
   "source": [
    "wandb.init(project=\"NLP_assignement_1\", entity=\"marcelloceresini\")\n",
    "\n",
    "config = dict(\n",
    "    epochs = 5,\n",
    "    classes = 10,\n",
    "    kernels = [16, 32],\n",
    "    batch_size = 128,\n",
    "    learning_rate = 0.005,\n",
    "    dataset = \"MNIST\",\n",
    "    architecture = \"CNN\"\n",
    ")"
   ]
  },
  {
   "cell_type": "code",
   "execution_count": null,
   "metadata": {},
   "outputs": [],
   "source": [
    "def model_pipeline(hyperparameters):\n",
    "\n",
    "    with wandb.init(project=\"NLP_assignement_1\", config=hyperparameters):\n",
    "        config = wandb.config\n",
    "\n",
    "        model, train_loaderm test_loader, criterion, optimizer = make(config)\n",
    "        print(model)\n",
    "\n",
    "        train(model, train_loader, criterion, optimizer, config)\n",
    "\n",
    "        test(model, test_loader)\n",
    "\n",
    "    return model"
   ]
  },
  {
   "cell_type": "code",
   "execution_count": 4,
   "metadata": {},
   "outputs": [
    {
     "name": "stderr",
     "output_type": "stream",
     "text": [
      "wandb: Network error (ReadTimeout), entering retry loop.\n",
      "wandb: Network error (ReadTimeout), entering retry loop.\n"
     ]
    }
   ],
   "source": [
    "def make(config):\n",
    "    train, test = get_data(train=True), get_data(train=False)\n",
    "    train_loader = make_loader(train, batch_size = config.batch_size)\n",
    "    test_loader = make_loader(test, batch_size = config.batch_size)\n",
    "\n",
    "    model = make_model(config.kernels, config.classes)\n",
    "\n",
    "    criterion = make_loss()\n",
    "    optimizer = make_optimizer(model.parameters(), config.learning_rate)\n",
    "\n",
    "    return model, train_loader, test_loader, criterion, optizimer"
   ]
  },
  {
   "cell_type": "code",
   "execution_count": null,
   "metadata": {},
   "outputs": [],
   "source": []
  }
 ],
 "metadata": {
  "interpreter": {
   "hash": "17db6c1139e1ea39dd906f6000c9de8aec402cab443b9beff04f88e4ffdb4ad4"
  },
  "kernelspec": {
   "display_name": "Python 3.8.10 64-bit ('env': venv)",
   "name": "python3"
  },
  "language_info": {
   "codemirror_mode": {
    "name": "ipython",
    "version": 3
   },
   "file_extension": ".py",
   "mimetype": "text/x-python",
   "name": "python",
   "nbconvert_exporter": "python",
   "pygments_lexer": "ipython3",
   "version": "3.8.10"
  },
  "orig_nbformat": 4
 },
 "nbformat": 4,
 "nbformat_minor": 2
}
